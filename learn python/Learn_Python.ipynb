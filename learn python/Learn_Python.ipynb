{
  "nbformat": 4,
  "nbformat_minor": 0,
  "metadata": {
    "colab": {
      "provenance": [],
      "toc_visible": true,
      "collapsed_sections": [
        "QU2sIX6Uukp3",
        "Nz2uUdkc7WSt",
        "cZYlVAn49YpE",
        "EJjNUUUnXpp9",
        "b9tpUS4cY822",
        "FOLq64GxoPUj",
        "ZGdZrM5RtTBm",
        "SUou3gIs9P1v",
        "jOkDzDA0sihh",
        "FLgGByeUwRMf",
        "p7xJj66Z8YOh",
        "Pc54OnXU956V",
        "5z3J6YMf-lBT",
        "-O-OG0fVHxtd",
        "T8vSa9c-KT9u",
        "tFg4df78LuCi",
        "Q9iR4TaEWtuX",
        "PklzkuISSthl",
        "l-AEhwKs10Zx",
        "-EpqJ_Nr3xK1",
        "IFlCFy8PDSHO"
      ]
    },
    "kernelspec": {
      "name": "python3",
      "display_name": "Python 3"
    },
    "language_info": {
      "name": "python"
    }
  },
  "cells": [
    {
      "cell_type": "markdown",
      "source": [
        "# Python Fundamentals"
      ],
      "metadata": {
        "id": "QU2sIX6Uukp3"
      }
    },
    {
      "cell_type": "markdown",
      "source": [
        "Python uses whitespace and indentation to construct the code structure."
      ],
      "metadata": {
        "id": "dz4cc7NWu64c"
      }
    },
    {
      "cell_type": "code",
      "source": [
        "def main():\n",
        "    i = 1\n",
        "    max = 10\n",
        "    while (i < max):\n",
        "        print(i)\n",
        "        i = i + 1\n",
        "# call function main\n",
        "main()"
      ],
      "metadata": {
        "id": "Giyd-9Scu_Ip"
      },
      "execution_count": null,
      "outputs": []
    },
    {
      "cell_type": "markdown",
      "source": [
        "Continuation of statements, a long statement can span multiple lines by using the backslash (\\) character."
      ],
      "metadata": {
        "id": "i-7k7fIdvBOt"
      }
    },
    {
      "cell_type": "code",
      "source": [
        "if (a == True) and (b == False) and \\\n",
        "  (c == True):\n",
        "  print(\"Continuation of statements\")\n",
        "\n",
        "# String literals\n",
        "s = 'This is a string'\n",
        "print(s)\n",
        "s = \"Another string using double quotes\"\n",
        "print(s)\n",
        "s = '''\n",
        "Usage: mysql command\n",
        "    -h hostname\n",
        "    -d database name\n",
        "    -u username\n",
        "    -p password\n",
        "'''\n",
        "\n",
        "print(s)"
      ],
      "metadata": {
        "id": "DfVgAzEivEJI"
      },
      "execution_count": null,
      "outputs": []
    },
    {
      "cell_type": "markdown",
      "source": [
        "f-string"
      ],
      "metadata": {
        "id": "z1Ly0sCPvHRZ"
      }
    },
    {
      "cell_type": "code",
      "source": [
        "name = 'John'\n",
        "message = f'Hi {name}'\n",
        "print(message)  # Hi John\n",
        "\n",
        "website = 'PythonTutorial.net'\n",
        "message = f'Hello {name}. ' \\\n",
        "    f\"You're learning Python at {website}.\"\n",
        "print(message)\n",
        "# Hello John.\n",
        "# You're learning Python at PythonTutorial.net.\n",
        "\n",
        "s = f'{1+2}'\n",
        "print(s) # 3\n",
        "\n",
        "s = f'{{1+2}}'\n",
        "print(s) # {1+2}\n",
        "\n",
        "s = f'{{{1+2}}}'\n",
        "print(s) # {3}\n",
        "\n",
        "s = f'{{{{1+2}}}}'\n",
        "print(s) # {{1+2}}\n",
        "\n",
        "def inc(numbers, value):\n",
        "  numbers[0] += value\n",
        "  return numbers[0]\n",
        "numbers = [0]\n",
        "s = f'{inc(numbers,1)},{inc(numbers,2)}'\n",
        "print(s) # 1,3"
      ],
      "metadata": {
        "id": "X_x5l3vmvNL1"
      },
      "execution_count": null,
      "outputs": []
    },
    {
      "cell_type": "markdown",
      "source": [
        "r-string"
      ],
      "metadata": {
        "id": "Vh7_XQqivORU"
      }
    },
    {
      "cell_type": "code",
      "source": [
        "print(r\"C:\\path\\subpath\");  # \\ treated as literal character\n",
        "print(r'C:\\python\\bin');    # \\ treated as literal character"
      ],
      "metadata": {
        "id": "WCKW2qSxvPoi"
      },
      "execution_count": null,
      "outputs": []
    },
    {
      "cell_type": "markdown",
      "source": [
        "concat string"
      ],
      "metadata": {
        "id": "q8yToukevTzH"
      }
    },
    {
      "cell_type": "code",
      "source": [
        "greeting = 'Good ' 'Morning!'\n",
        "print(greeting)\n",
        "\n",
        "greeting = 'Good '\n",
        "time = 'Afternoon'\n",
        "greeting = greeting + time + '!'\n",
        "print(greeting)"
      ],
      "metadata": {
        "id": "wwsG8aF5vViR"
      },
      "execution_count": null,
      "outputs": []
    },
    {
      "cell_type": "markdown",
      "source": [
        "access string elements"
      ],
      "metadata": {
        "id": "R7RvPdOnvWMk"
      }
    },
    {
      "cell_type": "code",
      "source": [
        "str = \"Python String\"\n",
        "print(str[0]) # P\n",
        "print(str[1]) # y\n",
        "\n",
        "print(str[-1])  # g\n",
        "print(str[-2])  # n\n",
        "\n",
        "# +---+---+---+---+---+---+---+---+---+---+---+---+---+\n",
        "# | P | y | t | h | o | n |   | S | t | r | i | n | g |\n",
        "# +---+---+---+---+---+---+---+---+---+---+---+---+---+\n",
        "#   0   1   2   3   4   5   6   7   8   9   10  11  12\n",
        "# -13  -12  -11  -10 -9  -8  -7  -6  -5  -4  -3  -2  -1"
      ],
      "metadata": {
        "id": "8i820jizva0M"
      },
      "execution_count": null,
      "outputs": []
    },
    {
      "cell_type": "markdown",
      "source": [
        "python strings are immutable"
      ],
      "metadata": {
        "id": "fKBn5WwuvfLF"
      }
    },
    {
      "cell_type": "code",
      "source": [
        "str = \"Python String\"\n",
        "str[0] = 'J'  # will throw error"
      ],
      "metadata": {
        "id": "kpFA4kafvfsP"
      },
      "execution_count": null,
      "outputs": []
    },
    {
      "cell_type": "code",
      "source": [
        "str = \"Python String\"\n",
        "new_str = 'J' + str[1:]\n",
        "print(new_str)"
      ],
      "metadata": {
        "id": "OAsLL8m6vjIY"
      },
      "execution_count": null,
      "outputs": []
    },
    {
      "cell_type": "markdown",
      "source": [
        "type conversion"
      ],
      "metadata": {
        "id": "znIxIk6mvvU5"
      }
    },
    {
      "cell_type": "code",
      "source": [
        "print(int(0))\n",
        "print(float(0))\n",
        "print(bool(0))\n",
        "print(str(0))"
      ],
      "metadata": {
        "id": "3er_r3CxvxsU"
      },
      "execution_count": null,
      "outputs": []
    },
    {
      "cell_type": "markdown",
      "source": [
        "Python constants"
      ],
      "metadata": {
        "id": "kz08gR7HvyTv"
      }
    },
    {
      "cell_type": "code",
      "source": [
        "FILE_SIZE_LIMIT = 2000 # Python doesn’t have built-in constant types."
      ],
      "metadata": {
        "id": "gpKk89Mtv01y"
      },
      "execution_count": null,
      "outputs": []
    },
    {
      "cell_type": "markdown",
      "source": [
        "type hints"
      ],
      "metadata": {
        "id": "W8W_ItYn9Nug"
      }
    },
    {
      "cell_type": "code",
      "source": [
        "# The predefined types allow the compilers to check the code before compiling and running the program.\n",
        "# Python’s type hints provide you with optional static typing to leverage the best of both static and dynamic typing.\n",
        "def say_hi(name: str) -> str:\n",
        "  return f'Hi {name}'\n",
        "\n",
        "greeting = say_hi('John')\n",
        "print(greeting) # Hi John\n",
        "\n",
        "greeting = say_hi(34)\n",
        "print(greeting) # Hi 34\n",
        "\n",
        "# To check the syntax for type hints, you need to use a static type checker tool.\n",
        "# pip3 install mypy\n",
        "# mypy app.py"
      ],
      "metadata": {
        "id": "czJC2QDi9PP-"
      },
      "execution_count": null,
      "outputs": []
    },
    {
      "cell_type": "markdown",
      "source": [
        "# Python Control Statement"
      ],
      "metadata": {
        "id": "Nz2uUdkc7WSt"
      }
    },
    {
      "cell_type": "markdown",
      "source": [
        "if...else"
      ],
      "metadata": {
        "id": "B62kOseu7mJu"
      }
    },
    {
      "cell_type": "code",
      "source": [
        "age = int(input('Enter your age: '))\n",
        "\n",
        "# determine the ticket price\n",
        "if age < 5:\n",
        "  ticket_price = 5\n",
        "elif age < 16:\n",
        "  ticket_price = 10\n",
        "else:\n",
        "  ticket_price = 18\n",
        "\n",
        "# show the ticket price\n",
        "print(f\"You'll pay ${ticket_price} for the ticket\")"
      ],
      "metadata": {
        "id": "42ip6KAo7qWn"
      },
      "execution_count": null,
      "outputs": []
    },
    {
      "cell_type": "markdown",
      "source": [
        "ternary operator"
      ],
      "metadata": {
        "id": "MUiJN-zt7tBv"
      }
    },
    {
      "cell_type": "code",
      "source": [
        "# python doesn't support ternary operator like other programming languages ? :\n",
        "age = input('Enter your age: ')\n",
        "\n",
        "ticket_price = 20 if int(age) >= 18 else 5 # value_if_true if condition else value_if_false\n",
        "\n",
        "print(f\"The ticket price is {ticket_price}\")"
      ],
      "metadata": {
        "id": "o15cQSZr7ukb"
      },
      "execution_count": null,
      "outputs": []
    },
    {
      "cell_type": "markdown",
      "source": [
        "for loop"
      ],
      "metadata": {
        "id": "Uqm5cGIH77g-"
      }
    },
    {
      "cell_type": "code",
      "source": [
        "# range(start, stop, step)\n",
        "for index in range(5):\n",
        "  print(index); # 0 1 2 3 4\n",
        "\n",
        "for index in range(1, 6):\n",
        "  print(index) # 1 2 3 4 5\n",
        "\n",
        "for index in range(0, 11, 2):\n",
        "  print(index) # 0 2 4 6 8 10"
      ],
      "metadata": {
        "id": "UysYAelI78nx"
      },
      "execution_count": null,
      "outputs": []
    },
    {
      "cell_type": "markdown",
      "source": [
        "while loop"
      ],
      "metadata": {
        "id": "JIOjhT9l7-_I"
      }
    },
    {
      "cell_type": "code",
      "source": [
        "max = 5\n",
        "counter = 0\n",
        "\n",
        "while counter < max:\n",
        "  print(counter)\n",
        "  counter += 1"
      ],
      "metadata": {
        "id": "AHvYNFaO8ACh"
      },
      "execution_count": null,
      "outputs": []
    },
    {
      "cell_type": "markdown",
      "source": [
        "break"
      ],
      "metadata": {
        "id": "k4o_uwXw8B6R"
      }
    },
    {
      "cell_type": "code",
      "source": [
        "for index in range(0, 10):\n",
        "  print(index) # 0 1 2 3\n",
        "  if index == 3:\n",
        "    break"
      ],
      "metadata": {
        "id": "8fEOjSuk8CoC"
      },
      "execution_count": null,
      "outputs": []
    },
    {
      "cell_type": "markdown",
      "source": [
        "continue"
      ],
      "metadata": {
        "id": "RqgWK4QP8EST"
      }
    },
    {
      "cell_type": "code",
      "source": [
        "for index in range(10):\n",
        "  if index % 2:\n",
        "    continue\n",
        "  print(index) # 0 2 4 6 8"
      ],
      "metadata": {
        "id": "WCsy-Juc8E-b"
      },
      "execution_count": null,
      "outputs": []
    },
    {
      "cell_type": "markdown",
      "source": [
        "pass"
      ],
      "metadata": {
        "id": "4wZgrJds8G7d"
      }
    },
    {
      "cell_type": "code",
      "source": [
        "# counter = 1\n",
        "# max = 10\n",
        "# if counter <= max:\n",
        "#     counter += 1\n",
        "# else:\n",
        "#     # implement later\n",
        "# In the else clause, you haven’t got any code yet. But you’ll write code for this else clause later.\n",
        "\n",
        "# In this case, if you run the code, you’ll get a syntax error (SyntaxError).\n",
        "# This is where the Python pass statement comes into play:\n",
        "# i.e Use the Python pass statement to create a placeholder for the code that you’ll implement later.\n",
        "counter = 1\n",
        "max = 10\n",
        "if counter <= max:\n",
        "  counter += 1\n",
        "else:\n",
        "  pass"
      ],
      "metadata": {
        "id": "Sd7RQA388Ho8"
      },
      "execution_count": null,
      "outputs": []
    },
    {
      "cell_type": "markdown",
      "source": [
        "for...else"
      ],
      "metadata": {
        "id": "afzCQqGo8KVG"
      }
    },
    {
      "cell_type": "code",
      "source": [
        "# In this syntax, the else clause will execute only if the loop runs normally.\n",
        "# In other words, the else clause won’t execute if the loop encounters a break statement.\n",
        "people = [\n",
        "  {'name': 'John', 'age': 25},\n",
        "  {'name': 'Jane', 'age': 22},\n",
        "  {'name': 'Peter', 'age': 30},\n",
        "  {'name': 'Jenifer', 'age': 28}\n",
        "]\n",
        "\n",
        "name = input('Enter a name:')\n",
        "for person in people:\n",
        "  if person['name'] == name:\n",
        "    print(person)\n",
        "    break\n",
        "else:\n",
        "  print(f'{name} not found!')"
      ],
      "metadata": {
        "id": "ZcH_3xgW8LUI"
      },
      "execution_count": null,
      "outputs": []
    },
    {
      "cell_type": "markdown",
      "source": [
        "while...else"
      ],
      "metadata": {
        "id": "nCRroci98N7s"
      }
    },
    {
      "cell_type": "code",
      "source": [
        "# When the condition becomes False and the loop runs normally, the else clause will execute.\n",
        "# However, if the loop is terminated prematurely by either a break or return statement, the else clause won’t execute at all.\n",
        "basket = [\n",
        "  {'fruit': 'apple', 'qty': 20},\n",
        "  {'fruit': 'banana', 'qty': 30},\n",
        "  {'fruit': 'orange', 'qty': 10}\n",
        "]\n",
        "\n",
        "fruit = input('Enter a fruit:')\n",
        "\n",
        "index = 0\n",
        "while index < len(basket):\n",
        "  item = basket[index]\n",
        "  # check the fruit name\n",
        "  if item['fruit'] == fruit:\n",
        "    print(f\"The basket has {item['qty']} {item['fruit']}(s)\")\n",
        "    found_it = True\n",
        "    break\n",
        "\n",
        "  index += 1\n",
        "else:\n",
        "  qty = int(input(f'Enter the qty for {fruit}:'))\n",
        "  basket.append({'fruit': fruit, 'qty': qty})\n",
        "  print(basket)"
      ],
      "metadata": {
        "id": "G5yOBG0s8PC4"
      },
      "execution_count": null,
      "outputs": []
    },
    {
      "cell_type": "markdown",
      "source": [
        "do...while"
      ],
      "metadata": {
        "id": "seBd3wCT8Sln"
      }
    },
    {
      "cell_type": "code",
      "source": [
        "# Unfortunately, Python doesn’t support the do...while loop.\n",
        "# However, you can use the while loop and a break statement to emulate the do...while loop statement.\n",
        "\n",
        "# To avoid this duplicate code, you can use a while loop to emulate do while loop as follows:\n",
        "from random import randint\n",
        "\n",
        "# determine the range\n",
        "MIN = 0\n",
        "MAX = 10\n",
        "\n",
        "# generate a secret number\n",
        "secret_number = randint(MIN, MAX)\n",
        "\n",
        "# initialize the attempt\n",
        "attempt = 0\n",
        "\n",
        "while True:\n",
        "  attempt += 1\n",
        "  input_number = int(input(f'Enter a number between {MIN} and {MAX}:'))\n",
        "  if input_number > secret_number:\n",
        "    print('It should be smaller.')\n",
        "  elif input_number < secret_number:\n",
        "    print('It should be bigger.')\n",
        "  else:\n",
        "    print(f'Bingo! {attempt} attempt(s)')\n",
        "    break"
      ],
      "metadata": {
        "id": "QeIfYcGK8Tt4"
      },
      "execution_count": null,
      "outputs": []
    },
    {
      "cell_type": "markdown",
      "source": [
        "# Python Function"
      ],
      "metadata": {
        "id": "cZYlVAn49YpE"
      }
    },
    {
      "cell_type": "markdown",
      "source": [
        "normal function"
      ],
      "metadata": {
        "id": "D-XQ5BQF9ajh"
      }
    },
    {
      "cell_type": "code",
      "source": [
        "def sum(a, b):\n",
        "  return a + b\n",
        "\n",
        "total = sum(10,20)\n",
        "print(total) # 30"
      ],
      "metadata": {
        "id": "CtFMXomz9d4h"
      },
      "execution_count": null,
      "outputs": []
    },
    {
      "cell_type": "markdown",
      "source": [
        "default parameters"
      ],
      "metadata": {
        "id": "iGJJzoFK9fg-"
      }
    },
    {
      "cell_type": "code",
      "source": [
        "def greet(name = 'there', message='Hi'):\n",
        "  return f\"{message} {name}\"\n",
        "\n",
        "greeting = greet()\n",
        "print(greeting) # Hi there\n",
        "\n",
        "greeting = greet('John')\n",
        "print(greeting) # Hi John\n",
        "\n",
        "greeting = greet('John', 'Hello')\n",
        "print(greeting) # Hello John\n",
        "\n",
        "greeting = greet(message='Hello')\n",
        "print(greeting) # Hello there"
      ],
      "metadata": {
        "id": "jM5wO2XE9hUe"
      },
      "execution_count": null,
      "outputs": []
    },
    {
      "cell_type": "markdown",
      "source": [
        "lambda function"
      ],
      "metadata": {
        "id": "qMQHBAA09jpk"
      }
    },
    {
      "cell_type": "code",
      "source": [
        "printStatement = lambda first_name,last_name: f\"{first_name} {last_name}\"\n",
        "print(printStatement('python', 'singh')) # python singh"
      ],
      "metadata": {
        "id": "NsFUwVCU9lZg"
      },
      "execution_count": null,
      "outputs": []
    },
    {
      "cell_type": "markdown",
      "source": [
        "return lambda function"
      ],
      "metadata": {
        "id": "SWXuaprJ9nPn"
      }
    },
    {
      "cell_type": "code",
      "source": [
        "def times(n):\n",
        "  return lambda x: x * n\n",
        "\n",
        "double = times(2)\n",
        "print(double(3)) # 6"
      ],
      "metadata": {
        "id": "2RgzFE8S9o7d"
      },
      "execution_count": null,
      "outputs": []
    },
    {
      "cell_type": "markdown",
      "source": [
        "lambda in loop"
      ],
      "metadata": {
        "id": "n6WhQLS09sMg"
      }
    },
    {
      "cell_type": "code",
      "source": [
        "callables = []\n",
        "for i in (1, 2, 3):\n",
        "  callables.append(lambda: i)\n",
        "\n",
        "for f in callables:\n",
        "  print(f())"
      ],
      "metadata": {
        "id": "JieKOVNX9s1i"
      },
      "execution_count": null,
      "outputs": []
    },
    {
      "cell_type": "markdown",
      "source": [
        "to show the documentation of a function."
      ],
      "metadata": {
        "id": "-EQqjkEy9vMi"
      }
    },
    {
      "cell_type": "code",
      "source": [
        "# Python stores the docstrings in the __doc__ property of the function.\n",
        "# The following example shows how to access the __doc__ property of the add() function:\n",
        "def add(a, b):\n",
        "    # Place a string, either single-line or multi-line strings, as the first line in the function to add documentation to it.\n",
        "    \"\"\" Add two arguments\n",
        "    Arguments:\n",
        "        a: an integer\n",
        "        b: an integer\n",
        "    Returns:\n",
        "        The sum of the two arguments\n",
        "    \"\"\"\n",
        "    return a + b\n",
        "\n",
        "# Use the help() function to get the documentation of a function.\n",
        "# help(add);\n",
        "print(add.__doc__)"
      ],
      "metadata": {
        "id": "1V6WGZQ-9xiT"
      },
      "execution_count": null,
      "outputs": []
    },
    {
      "cell_type": "markdown",
      "source": [
        "partial functions - allow us to fix a certain number of arguments of a function and generate a new function."
      ],
      "metadata": {
        "id": "m3QukOeg991c"
      }
    },
    {
      "cell_type": "code",
      "source": [
        "def multiply(a, b):\n",
        "  return a*b;\n",
        "\n",
        "# sometimes you just want to multiply an argument with a specified number i.e 2. To do that you can reuse the multiply\n",
        "# function like this.\n",
        "def double(a):\n",
        "  return multiply(a, 2);\n",
        "\n",
        "result = double(10)\n",
        "print(result) # 20\n",
        "\n",
        "# double function freeze the second argument of the multiply function, which results in a new function with simpler signature.\n",
        "# in python double function is called partial function\n",
        "from functools import partial\n",
        "\n",
        "def multiply(a, b):\n",
        "  return a*b;\n",
        "\n",
        "double = partial(multiply, b = 2)\n",
        "result = double(10)\n",
        "print(result)"
      ],
      "metadata": {
        "id": "tEnzNQ3v9-gc"
      },
      "execution_count": null,
      "outputs": []
    },
    {
      "cell_type": "markdown",
      "source": [
        "# Python List"
      ],
      "metadata": {
        "id": "EJjNUUUnXpp9"
      }
    },
    {
      "cell_type": "code",
      "source": [
        "# list is an ordered collection of items (mixed data types).\n",
        "todo_list = ['Learn Python List', 'How to manage List elements'];\n",
        "numbers = [1, 3, 2, 7, 9, 4]\n",
        "colors = ['red', 'green', 'blue']\n",
        "coordinates = [[0, 0], [100, 100], [200, 200]]\n",
        "mixed = [ 1, 'abc', 1.23, (3+4j), True]"
      ],
      "metadata": {
        "id": "xzCnb1oQW159"
      },
      "execution_count": null,
      "outputs": []
    },
    {
      "cell_type": "markdown",
      "source": [
        "list()"
      ],
      "metadata": {
        "id": "e08YYVqqXilZ"
      }
    },
    {
      "cell_type": "code",
      "source": [
        "# Convert a string to a list\n",
        "L = list('abc')\n",
        "print(L)    # ['a', 'b', 'c']\n",
        "\n",
        "# Convert a tuple to a list\n",
        "L = list((1, 2, 3))\n",
        "print(L)    # [1, 2, 3]"
      ],
      "metadata": {
        "id": "UiMTQpgxXlJ1"
      },
      "execution_count": null,
      "outputs": []
    },
    {
      "cell_type": "markdown",
      "source": [
        "accessing elements"
      ],
      "metadata": {
        "id": "eQs4nxudXzRM"
      }
    },
    {
      "cell_type": "code",
      "source": [
        "numbers = [1, 3, 2, 7, 9, 4]\n",
        "print(numbers[1])   # 3\n",
        "print(numbers[-1])  # 4\n",
        "print(numbers[-2])  # 9\n",
        "print(numbers[2:5]) # [2, 7, 9]\n",
        "print(numbers[0:2]) # [1, 3]\n",
        "print(numbers[3:-1])# [7, 9]"
      ],
      "metadata": {
        "id": "jI7agchIX1Pi"
      },
      "execution_count": null,
      "outputs": []
    },
    {
      "cell_type": "markdown",
      "source": [
        "list slicing"
      ],
      "metadata": {
        "id": "JxXcYZQUaqWu"
      }
    },
    {
      "cell_type": "code",
      "source": [
        "L = ['a', 'b', 'c', 'd', 'e', 'f', 'g', 'h', 'i']\n",
        "print(L[-7:-2]) # ['c', 'd', 'e', 'f', 'g']\n",
        "\n",
        "L = ['a', 'b', 'c', 'd', 'e', 'f', 'g', 'h', 'i']\n",
        "print(L[2:-5])  # ['c', 'd']\n",
        "\n",
        "L = ['a', 'b', 'c', 'd', 'e', 'f', 'g', 'h', 'i']\n",
        "print(L[:3])  # ['a', 'b', 'c']\n",
        "\n",
        "L = ['a', 'b', 'c', 'd', 'e', 'f', 'g', 'h', 'i']\n",
        "print(L[6:])  # ['g', 'h', 'i']"
      ],
      "metadata": {
        "id": "aZs3IMfWarv5"
      },
      "execution_count": null,
      "outputs": []
    },
    {
      "cell_type": "markdown",
      "source": [
        "speicify steps of slicing"
      ],
      "metadata": {
        "id": "XWlrqnBWcC88"
      }
    },
    {
      "cell_type": "code",
      "source": [
        "L = ['a', 'b', 'c', 'd', 'e', 'f', 'g', 'h', 'i']\n",
        "print(L[2:7:2]) # ['c', 'e', 'g']\n",
        "\n",
        "L = ['a', 'b', 'c', 'd', 'e', 'f', 'g', 'h', 'i']\n",
        "print(L[6:1:-2])  # ['g', 'e', 'c']"
      ],
      "metadata": {
        "id": "QG_5U6ipcFj7"
      },
      "execution_count": null,
      "outputs": []
    },
    {
      "cell_type": "markdown",
      "source": [
        "reverse a list"
      ],
      "metadata": {
        "id": "NHIusEdKbQ8Z"
      }
    },
    {
      "cell_type": "code",
      "source": [
        "L = ['a', 'b', 'c', 'd', 'e']\n",
        "print(L[::-1])  # ['e', 'd', 'c', 'b', 'a']"
      ],
      "metadata": {
        "id": "QG55KMRIbSaH"
      },
      "execution_count": null,
      "outputs": []
    },
    {
      "cell_type": "markdown",
      "source": [
        "clone or copy a list"
      ],
      "metadata": {
        "id": "RvnLcSxwbzan"
      }
    },
    {
      "cell_type": "code",
      "source": [
        "L1 = ['a', 'b', 'c', 'd', 'e']\n",
        "L2 = L1[:]\n",
        "print(L2) # ['a', 'b', 'c', 'd', 'e']\n",
        "print(L2 is L1) # False"
      ],
      "metadata": {
        "id": "s3tH39lyb1b5"
      },
      "execution_count": null,
      "outputs": []
    },
    {
      "cell_type": "markdown",
      "source": [
        "modifying elements"
      ],
      "metadata": {
        "id": "bowtPC4HX5cZ"
      }
    },
    {
      "cell_type": "code",
      "source": [
        "numbers = [1, 3, 2, 7, 9, 4]\n",
        "numbers[0] = 10;\n",
        "print(numbers)  # 10, 3, 2, 7, 9, 4\n",
        "\n",
        "L = ['a', 'b', 'c', 'd', 'e']\n",
        "L[1:2] = [1, 2, 3]\n",
        "print(L)  # ['a', 1, 2, 3, 'c', 'd', 'e']"
      ],
      "metadata": {
        "id": "sUy_41ZSX6Er"
      },
      "execution_count": null,
      "outputs": []
    },
    {
      "cell_type": "markdown",
      "source": [
        "adding element"
      ],
      "metadata": {
        "id": "-GzSDIR5X9Gr"
      }
    },
    {
      "cell_type": "code",
      "source": [
        "numbers = [1, 3, 2, 7, 9, 4]\n",
        "numbers.append(100)\n",
        "print(numbers)  # [1, 3, 2, 7, 9, 4, 100]\n",
        "\n",
        "numbers = [1, 3, 2, 7, 9, 4]\n",
        "numbers.insert(2, 100) # adds a new element at any position (index) in the list.\n",
        "print(numbers)  # [1, 3, 100, 2, 7, 9, 4]\n",
        "\n",
        "L = ['a', 'b', 'c']\n",
        "L[:0] = [1, 2, 3]\n",
        "print(L)  # [1, 2, 3, 'a', 'b', 'c']\n",
        "\n",
        "L = ['a', 'b', 'c']\n",
        "L[len(L):] = [1, 2, 3]\n",
        "print(L)  # ['a', 'b', 'c', 1, 2, 3]\n",
        "\n",
        "L = ['a', 'b', 'c']\n",
        "L[1:1] = [1, 2, 3]\n",
        "print(L)  # ['a', 1, 2, 3, 'b', 'c']"
      ],
      "metadata": {
        "id": "qoBnSl_DX9g3"
      },
      "execution_count": null,
      "outputs": []
    },
    {
      "cell_type": "markdown",
      "source": [
        "removing element"
      ],
      "metadata": {
        "id": "xK-HZqHNX_Gj"
      }
    },
    {
      "cell_type": "code",
      "source": [
        "numbers = [1, 3, 2, 7, 9, 4]\n",
        "del numbers[0]\n",
        "print(numbers)  # [3, 2, 7, 9, 4]\n",
        "\n",
        "numbers = [1, 3, 2, 7, 9, 4]\n",
        "last = numbers.pop()\n",
        "print(last)     # 4\n",
        "print(numbers)  # [1, 3, 2, 7, 9]\n",
        "\n",
        "numbers = [1, 3, 2, 7, 9, 4]\n",
        "second = numbers.pop(1) # pop element by position (index)\n",
        "print(second)   # 3\n",
        "print(numbers)  # [1, 2, 7, 9, 4]\n",
        "\n",
        "numbers = [1, 3, 2, 7, 9, 4, 9]\n",
        "numbers.remove(9)   # remove element by value\n",
        "print(numbers)  # [1, 3, 2, 7, 4, 9]\n",
        "\n",
        "L = ['red', 'green', 'blue', 'yellow', 'black']\n",
        "del L[1:4]  # remove multiple items\n",
        "print(L)    # ['red', 'black']\n",
        "\n",
        "L = ['red', 'green', 'blue']\n",
        "L.clear()   # remove all\n",
        "print(L)    # []"
      ],
      "metadata": {
        "id": "ut2PVsKGYCwV"
      },
      "execution_count": null,
      "outputs": []
    },
    {
      "cell_type": "markdown",
      "source": [
        "list replication"
      ],
      "metadata": {
        "id": "NUjvnEWjYH8l"
      }
    },
    {
      "cell_type": "code",
      "source": [
        "L = ['red']\n",
        "L = L * 3\n",
        "print(L)    # ['red', 'red', 'red']"
      ],
      "metadata": {
        "id": "I8Bw3EAKYIU2"
      },
      "execution_count": null,
      "outputs": []
    },
    {
      "cell_type": "markdown",
      "source": [
        "find length of list"
      ],
      "metadata": {
        "id": "ty5ElQi5YKd2"
      }
    },
    {
      "cell_type": "code",
      "source": [
        "print(len(L))"
      ],
      "metadata": {
        "id": "sn92pgUbYMTJ"
      },
      "execution_count": null,
      "outputs": []
    },
    {
      "cell_type": "markdown",
      "source": [
        "check item presence"
      ],
      "metadata": {
        "id": "vVYJx1lzYNo9"
      }
    },
    {
      "cell_type": "code",
      "source": [
        "# Check for presence\n",
        "L = ['red', 'green', 'blue']\n",
        "if 'red' in L:\n",
        "  print('yes')\n",
        "\n",
        "# Check for absence\n",
        "L = ['red', 'green', 'blue']\n",
        "if 'yellow' not in L:\n",
        "  print('yes')"
      ],
      "metadata": {
        "id": "KboAJLbvYQZn"
      },
      "execution_count": null,
      "outputs": []
    },
    {
      "cell_type": "markdown",
      "source": [
        "iterate"
      ],
      "metadata": {
        "id": "uDhO4LvYYTTW"
      }
    },
    {
      "cell_type": "code",
      "source": [
        "L = ['red', 'green', 'blue']\n",
        "for item in L:\n",
        "  print(item)\n",
        "# Prints red\n",
        "# Prints green\n",
        "# Prints blue"
      ],
      "metadata": {
        "id": "4Tmk6zB5YTvx"
      },
      "execution_count": null,
      "outputs": []
    },
    {
      "cell_type": "markdown",
      "source": [
        "combine list"
      ],
      "metadata": {
        "id": "CXZQ2vF-YVcy"
      }
    },
    {
      "cell_type": "code",
      "source": [
        "# using extend\n",
        "L = ['red', 'green', 'yellow']\n",
        "L.extend([1,2,3])\n",
        "print(L)    # ['red', 'green', 'yellow', 1, 2, 3]\n",
        "\n",
        "# concatenation operator\n",
        "L = ['red', 'green', 'blue']\n",
        "L = L + [1,2,3]\n",
        "print(L)    # ['red', 'green', 'blue', 1, 2, 3]\n",
        "\n",
        "# augmented assignment operator\n",
        "L = ['red', 'green', 'blue']\n",
        "L += [1,2,3]\n",
        "print(L)    # ['red', 'green', 'blue', 1, 2, 3]"
      ],
      "metadata": {
        "id": "dZYwldlkYWlv"
      },
      "execution_count": null,
      "outputs": []
    },
    {
      "cell_type": "markdown",
      "source": [
        "nested list"
      ],
      "metadata": {
        "id": "gFhaCIKeZhF6"
      }
    },
    {
      "cell_type": "code",
      "source": [
        "L = ['a', 'b', ['cc', 'dd', ['eee', 'fff']], 'g', 'h']\n",
        "\n",
        "print(L[-3])          # Prints ['cc', 'dd', ['eee', 'fff']]\n",
        "\n",
        "print(L[-3][-1])      # Prints ['eee', 'fff']\n",
        "\n",
        "print(L[-3][-1][-2])  # Prints eee"
      ],
      "metadata": {
        "id": "D0FBGKltZirK"
      },
      "execution_count": null,
      "outputs": []
    },
    {
      "cell_type": "markdown",
      "source": [
        "change nested list item"
      ],
      "metadata": {
        "id": "X-xmdCB6Zqk9"
      }
    },
    {
      "cell_type": "code",
      "source": [
        "L = ['a', ['bb', 'cc'], 'd']\n",
        "L[1][1] = 0\n",
        "print(L)  # Prints ['a', ['bb', 0], 'd']"
      ],
      "metadata": {
        "id": "2j6_bshuZsp3"
      },
      "execution_count": null,
      "outputs": []
    },
    {
      "cell_type": "markdown",
      "source": [
        "iterate through nested"
      ],
      "metadata": {
        "id": "wAVCEAAzZ4nM"
      }
    },
    {
      "cell_type": "code",
      "source": [
        "L = [[1, 2, 3],[4, 5, 6],[7, 8, 9]]\n",
        "for list in L:\n",
        "  for number in list:\n",
        "    print(number, end=' ')\n",
        "# Prints 1 2 3 4 5 6 7 8 9"
      ],
      "metadata": {
        "id": "UZFIVmFBZ6jp"
      },
      "execution_count": null,
      "outputs": []
    },
    {
      "cell_type": "markdown",
      "source": [
        "nested list length"
      ],
      "metadata": {
        "id": "Y283E3zwZ91h"
      }
    },
    {
      "cell_type": "code",
      "source": [
        "L = ['a', ['bb', 'cc'], 'd']\n",
        "\n",
        "print(len(L))     # Prints 3\n",
        "\n",
        "print(len(L[1]))  # Prints 2"
      ],
      "metadata": {
        "id": "gNPudT8AZ_g5"
      },
      "execution_count": null,
      "outputs": []
    },
    {
      "cell_type": "markdown",
      "source": [
        "remove from nested list"
      ],
      "metadata": {
        "id": "zFfDsrZIaIJ0"
      }
    },
    {
      "cell_type": "code",
      "source": [
        "# If you know the index of the item you want, you can use pop() method. It modifies the list and returns the removed item.\n",
        "L = ['a', ['bb', 'cc', 'dd'], 'e']\n",
        "x = L[1].pop(1)\n",
        "print(L)  # Prints ['a', ['bb', 'dd'], 'e']\n",
        "\n",
        "# removed item\n",
        "print(x)  # Prints cc\n",
        "\n",
        "# If you don’t need the removed value, use the del statement.\n",
        "L = ['a', ['bb', 'cc', 'dd'], 'e']\n",
        "del L[1][1]\n",
        "print(L)  # Prints ['a', ['bb', 'dd'], 'e']\n",
        "\n",
        "# If you’re not sure where the item is in the list, use remove() method to delete it by value.\n",
        "L = ['a', ['bb', 'cc', 'dd'], 'e']\n",
        "L[1].remove('cc')\n",
        "print(L)  # Prints ['a', ['bb', 'dd'], 'e']"
      ],
      "metadata": {
        "id": "y3_gERpTaNUa"
      },
      "execution_count": null,
      "outputs": []
    },
    {
      "cell_type": "markdown",
      "source": [
        "sort list"
      ],
      "metadata": {
        "id": "QywiFbb7dR5D"
      }
    },
    {
      "cell_type": "code",
      "source": [
        "guests = ['James', 'Mary', 'John', 'Patricia', 'Robert', 'Jennifer']\n",
        "guests.sort()\n",
        "print(guests)\n",
        "\n",
        "guests = ['James', 'Mary', 'John', 'Patricia', 'Robert', 'Jennifer']\n",
        "guests.sort(reverse = True)\n",
        "print(guests)"
      ],
      "metadata": {
        "id": "kM_rYo4wdS1A"
      },
      "execution_count": null,
      "outputs": []
    },
    {
      "cell_type": "markdown",
      "source": [
        "list comprehension"
      ],
      "metadata": {
        "id": "-eBWJwj5deIJ"
      }
    },
    {
      "cell_type": "code",
      "source": [
        "\"\"\"\n",
        "Suppose you want to create a list of all integer square numbers from 0 to 4. You could build that list by appending one item at a time to an empty list:\n",
        "L = []\n",
        "L.append(0)\n",
        "L.append(1)\n",
        "L.append(4)\n",
        "L.append(9)\n",
        "L.append(16)\n",
        "\n",
        "Or, you could just use an iterator and the range() function:\n",
        "L = []\n",
        "for x in range(5):\n",
        "  L.append(x**2)\n",
        "\"\"\"\n",
        "\n",
        "# Here’s how a list comprehension would build the above list:\n",
        "L = [x**2 for x in range(5)]\n",
        "print(L)  # [0, 1, 4, 9, 16]\n",
        "\n",
        "L = [x*3 for x in 'RED']\n",
        "print(L)  # ['RRR', 'EEE', 'DDD']\n",
        "\n",
        "vec = [-4, -2, 0, 2, 4]\n",
        "L = [abs(x) for x in vec]\n",
        "print(L)  # [4, 2, 0, 2, 4]\n",
        "\n",
        "colors = ['  red', '  green ', 'blue  ']\n",
        "L = [color.strip() for color in colors]\n",
        "print(L)  # ['red', 'green', 'blue']\n",
        "\n",
        "L = [(x, x**2) for x in range(4)]\n",
        "print(L)  # [(0, 0), (1, 1), (2, 4), (3, 9)]"
      ],
      "metadata": {
        "id": "wH-k703sdh9w"
      },
      "execution_count": null,
      "outputs": []
    },
    {
      "cell_type": "markdown",
      "source": [
        "list comprehension with if clause"
      ],
      "metadata": {
        "id": "J6QyztvreZTU"
      }
    },
    {
      "cell_type": "code",
      "source": [
        "vec = [-4, -2, 0, 2, 4]\n",
        "L = [x for x in vec if x >= 0]\n",
        "print(L)  # [0, 2, 4]\n",
        "\n",
        "# This above list comprehension is the same as a for loop that contains an if statement:\n",
        "vec = [-4, -2, 0, 2, 4]\n",
        "L = []\n",
        "for x in vec:\n",
        "  if x >= 0:\n",
        "    L.append(x)\n",
        "print(L)  # [0, 2, 4]"
      ],
      "metadata": {
        "id": "Ju4bbPjIefeR"
      },
      "execution_count": null,
      "outputs": []
    },
    {
      "cell_type": "markdown",
      "source": [
        "nested list comprehension"
      ],
      "metadata": {
        "id": "A4wPazVsetpW"
      }
    },
    {
      "cell_type": "code",
      "source": [
        "vector = [[1, 2, 3], [4, 5, 6], [7, 8, 9]]\n",
        "L = [number for list in vector for number in list]\n",
        "print(L)  # [1, 2, 3, 4, 5, 6, 7, 8, 9]\n",
        "\n",
        "# equivalent to the following plain, old nested loop:\n",
        "vector = [[1, 2, 3], [4, 5, 6], [7, 8, 9]]\n",
        "L = []\n",
        "for list in vector:\n",
        "  for number in list:\n",
        "    L.append(number)\n",
        "print(L)  # [1, 2, 3, 4, 5, 6, 7, 8, 9]"
      ],
      "metadata": {
        "id": "BDkNG3Mmev7l"
      },
      "execution_count": null,
      "outputs": []
    },
    {
      "cell_type": "markdown",
      "source": [
        "matrix example of list comprehension"
      ],
      "metadata": {
        "id": "seWEj5dTe_tl"
      }
    },
    {
      "cell_type": "code",
      "source": [
        "matrix = [[1, 2, 3],\n",
        "          [4, 5, 6],\n",
        "          [7, 8, 9]]\n",
        "L = [[row[i] for row in matrix] for i in range(3)]\n",
        "print(L)  # [[1, 4, 7], [2, 5, 8], [3, 6, 9]]"
      ],
      "metadata": {
        "id": "AkZxLHfHfDPO"
      },
      "execution_count": null,
      "outputs": []
    },
    {
      "cell_type": "markdown",
      "source": [
        "List Comprehension vs map() + lambda"
      ],
      "metadata": {
        "id": "EnUamIfkfgIa"
      }
    },
    {
      "cell_type": "code",
      "source": [
        "# With list comprehension\n",
        "L = [x ** 2 for x in range(5)]\n",
        "print(L)  # [0, 1, 4, 9, 16]\n",
        "\n",
        "# With map() function\n",
        "L = list(map((lambda x: x ** 2), range(5)))\n",
        "print(L)  # [0, 1, 4, 9, 16]"
      ],
      "metadata": {
        "id": "fri-4zSbfg6C"
      },
      "execution_count": null,
      "outputs": []
    },
    {
      "cell_type": "markdown",
      "source": [
        "List Comprehension vs filter() + lambda"
      ],
      "metadata": {
        "id": "vE_jdkFDflUl"
      }
    },
    {
      "cell_type": "code",
      "source": [
        "# With list comprehension\n",
        "L = [x for x in range(10) if x % 2 == 0]\n",
        "print(L)  # [0, 2, 4, 6, 8]\n",
        "\n",
        "# With filter() function\n",
        "L = list(filter((lambda x: x % 2 == 0), range(10)))\n",
        "print(L)  # [0, 2, 4, 6, 8]"
      ],
      "metadata": {
        "id": "qx9Uf1hifl69"
      },
      "execution_count": null,
      "outputs": []
    },
    {
      "cell_type": "markdown",
      "source": [
        "Unpacking and packing"
      ],
      "metadata": {
        "id": "wQKirQHWnZ0Q"
      }
    },
    {
      "cell_type": "code",
      "source": [
        "# First, unpack the needed elements to variables.\n",
        "# Second, pack the leftover elements into a new list and assign it to another variable\n",
        "\n",
        "colors = ['cyan', 'magenta', 'yellow', 'black']\n",
        "cyan, magenta, *other = colors\n",
        "\n",
        "print(cyan)     # cyan\n",
        "print(magenta)  # magenta\n",
        "print(other)    # ['yellow', 'black']"
      ],
      "metadata": {
        "id": "gdfOseWdnf_A"
      },
      "execution_count": null,
      "outputs": []
    },
    {
      "cell_type": "markdown",
      "source": [
        "iterate over list with index"
      ],
      "metadata": {
        "id": "PrebHVpSn7dx"
      }
    },
    {
      "cell_type": "code",
      "source": [
        "# enumerate() returns tuple with index i.e (index, element)\n",
        "cities = ['New York', 'Beijing', 'Cairo', 'Mumbai', 'Mexico']\n",
        "for item in enumerate(cities):\n",
        "  print(item)                 # (0, 'New York') ...\n",
        "\n",
        "cities = ['New York', 'Beijing', 'Cairo', 'Mumbai', 'Mexico']\n",
        "for index, city in enumerate(cities):\n",
        "  print(f\"{index}: {city}\")   # 0: New York\n",
        "\n",
        "# The enumerate() function allows you to specify the starting index which defaults to zero.\n",
        "cities = ['New York', 'Beijing', 'Cairo', 'Mumbai', 'Mexico']\n",
        "for index, city in enumerate(cities, 1):\n",
        "  print(f\"{index}: {city}\")   # 1: New York ..."
      ],
      "metadata": {
        "id": "pBahVUxsn9tN"
      },
      "execution_count": null,
      "outputs": []
    },
    {
      "cell_type": "markdown",
      "source": [
        "Extras"
      ],
      "metadata": {
        "id": "nxKAXMB1t-2U"
      }
    },
    {
      "cell_type": "code",
      "source": [
        "odd_numbers = [1, 3, 5]\n",
        "even_numbers = [2, 4, 6]\n",
        "\n",
        "numbers = [odd_numbers, even_numbers]\n",
        "print(numbers)  # [[1, 3, 5], [2, 4, 6]]\n",
        "\n",
        "numbers = [*odd_numbers, *even_numbers]\n",
        "print(numbers)  # [1, 3, 5, 2, 4, 6]"
      ],
      "metadata": {
        "id": "rd1_X5WQt_tL"
      },
      "execution_count": null,
      "outputs": []
    },
    {
      "cell_type": "markdown",
      "source": [
        "List methods"
      ],
      "metadata": {
        "id": "C47njkfbYYsW"
      }
    },
    {
      "cell_type": "code",
      "source": [
        "\"\"\"\n",
        "Method\t    Description\n",
        "append()\t  Adds an item to the end of the list\n",
        "insert()\t  Inserts an item at a given position\n",
        "extend()\t  Extends the list by appending all the items from the iterable\n",
        "remove()\t  Removes first instance of the specified item\n",
        "pop()\t      Removes the item at the given position in the list\n",
        "clear()\t    Removes all items from the list\n",
        "copy()\t    Returns a shallow copy of the list\n",
        "count()\t    Returns the count of specified item in the list\n",
        "index()\t    Returns the index of first instance of the specified item\n",
        "reverse()\t  Reverses the items of the list in place\n",
        "sort()\t    Sorts the items of the list in place\n",
        "\"\"\""
      ],
      "metadata": {
        "id": "mBZ_Gg9lYidI"
      },
      "execution_count": null,
      "outputs": []
    },
    {
      "cell_type": "markdown",
      "source": [
        "append() method treats its argument as a single object."
      ],
      "metadata": {
        "id": "1fnFgClLheKE"
      }
    },
    {
      "cell_type": "code",
      "source": [
        "L = ['red', 'green']\n",
        "L.append('blue')\n",
        "print(L)  # ['red', 'green', 'blue']\n",
        "\n",
        "L = ['red', 'green', 'blue']\n",
        "L.append([1,2,3])\n",
        "print(L)  # ['red', 'green', 'blue', [1, 2, 3]]"
      ],
      "metadata": {
        "id": "sfOJrhFkhkDo"
      },
      "execution_count": null,
      "outputs": []
    },
    {
      "cell_type": "markdown",
      "source": [
        "extend() method, if you want to add every item of an iterable to a list."
      ],
      "metadata": {
        "id": "edMFBH67hvdx"
      }
    },
    {
      "cell_type": "code",
      "source": [
        "L = ['red', 'green']\n",
        "L.extend('blue')\n",
        "print(L)  # ['red', 'green', 'b', 'l', 'u', 'e']\n",
        "\n",
        "L = ['red', 'green', 'blue']\n",
        "L.extend({1,2,3})\n",
        "print(L)  # ['red', 'green', 'blue', 1, 2, 3]\n",
        "\n",
        "L = ['red', 'green', 'blue']\n",
        "L.extend((1,2,3))\n",
        "print(L)  # ['red', 'green', 'blue', 1, 2, 3]\n",
        "\n",
        "L = ['red', 'green', 'blue']\n",
        "L.extend([1,2,3])\n",
        "print(L)  # ['red', 'green', 'blue', 1, 2, 3]\n",
        "\n",
        "# alternates\n",
        "L = ['red', 'green', 'blue']\n",
        "L[len(L):] = [1,2,3]\n",
        "print(L)  # ['red', 'green', 'blue', 1, 2, 3]\n",
        "\n",
        "L = ['red', 'green', 'blue']\n",
        "L = L + [1,2,3]\n",
        "print(L)  # ['red', 'green', 'blue', 1, 2, 3]\n",
        "\n",
        "# Augmented assignment operator\n",
        "L = ['red', 'green', 'blue']\n",
        "L += [1,2,3]\n",
        "print(L)  # ['red', 'green', 'blue', 1, 2, 3]"
      ],
      "metadata": {
        "id": "ED45tdfUhyb2"
      },
      "execution_count": null,
      "outputs": []
    },
    {
      "cell_type": "markdown",
      "source": [
        "insert() method to insert a single item at a specified index in a list."
      ],
      "metadata": {
        "id": "QSuxwSAXiIN9"
      }
    },
    {
      "cell_type": "code",
      "source": [
        "L = ['red', 'green', 'blue']\n",
        "L.insert(1,'yellow')\n",
        "print(L)  # ['red', 'yellow', 'green', 'blue']\n",
        "\n",
        "L = ['red', 'green', 'blue']\n",
        "L.insert(-2,'yellow')\n",
        "print(L)  # ['red', 'yellow', 'green', 'blue']\n",
        "\n",
        "L = ['red', 'green', 'blue']\n",
        "L.insert(10,'yellow')\n",
        "print(L)  # ['red', 'green', 'blue', 'yellow']"
      ],
      "metadata": {
        "id": "v5izhiE3iI6n"
      },
      "execution_count": null,
      "outputs": []
    },
    {
      "cell_type": "markdown",
      "source": [
        "clear() method to remove all items from the list."
      ],
      "metadata": {
        "id": "7o0D5ctNiiHw"
      }
    },
    {
      "cell_type": "code",
      "source": [
        "L = ['red', 'green', 'blue']\n",
        "L.clear()\n",
        "print(L)  # []\n",
        "\n",
        "# alternatives of clear()\n",
        "L = ['red', 'green', 'blue']\n",
        "del L[:]\n",
        "print(L)  # []\n",
        "\n",
        "L = ['red', 'green', 'blue']\n",
        "L[:] = []\n",
        "print(L)  # []\n",
        "\n",
        "L = ['red', 'green', 'blue']\n",
        "L *= 0\n",
        "print(L)  # []"
      ],
      "metadata": {
        "id": "aFz5EVpwijVF"
      },
      "execution_count": null,
      "outputs": []
    },
    {
      "cell_type": "markdown",
      "source": [
        "pop() method removes a single list item at specified index and returns it. If no index is specified, pop() method removes and returns the last item in the list."
      ],
      "metadata": {
        "id": "8teOl2zti0RB"
      }
    },
    {
      "cell_type": "code",
      "source": [
        "L = ['red', 'green', 'blue']\n",
        "x = L.pop(1)\n",
        "\n",
        "print(x)  # removed item i.e green\n",
        "print(L)  # ['red', 'blue']\n",
        "\n",
        "L = ['red', 'green', 'blue']\n",
        "L.pop()\n",
        "print(L)  # Prints ['red', 'green']\n",
        "\n",
        "L = ['red', 'green', 'blue']\n",
        "L.pop(-2)\n",
        "print(L)  # ['red', 'blue']"
      ],
      "metadata": {
        "id": "vyIU6S4Ti08B"
      },
      "execution_count": null,
      "outputs": []
    },
    {
      "cell_type": "markdown",
      "source": [
        "copy() method returns the Shallow copy of the specified list."
      ],
      "metadata": {
        "id": "9_2g2_ZNjPgf"
      }
    },
    {
      "cell_type": "code",
      "source": [
        "old_List = ['red', 'green', 'blue']\n",
        "new_List = old_List.copy()\n",
        "new_List[0] = 'xx'\n",
        "print(old_List) # ['red', 'green', 'blue']\n",
        "print(new_List) # ['xx', 'green', 'blue']\n",
        "\n",
        "# alternate of copy()\n",
        "L = ['red', 'green', 'blue']\n",
        "X = L[:]\n",
        "print(X)  # ['red', 'green', 'blue']"
      ],
      "metadata": {
        "id": "YOGxtx5pjQP4"
      },
      "execution_count": null,
      "outputs": []
    },
    {
      "cell_type": "markdown",
      "source": [
        "copy() vs Assignment statement"
      ],
      "metadata": {
        "id": "OCAcQFIdjW7t"
      }
    },
    {
      "cell_type": "code",
      "source": [
        "old_List = ['red', 'green', 'blue']\n",
        "new_List = old_List\n",
        "new_List[0] = 'xx'\n",
        "print(old_List) # ['xx', 'green', 'blue']\n",
        "print(new_List) # ['xx', 'green', 'blue']"
      ],
      "metadata": {
        "id": "SMrryuaBjdkP"
      },
      "execution_count": null,
      "outputs": []
    },
    {
      "cell_type": "markdown",
      "source": [
        "remove() method to remove a single item from a list."
      ],
      "metadata": {
        "id": "k5zi_TNSjobZ"
      }
    },
    {
      "cell_type": "code",
      "source": [
        "L = ['red', 'green', 'blue']\n",
        "L.remove('green')\n",
        "print(L)  # ['red', 'blue']\n",
        "\n",
        "L = ['red', 'green', [1, 2, 3]]\n",
        "L.remove([1, 2, 3])\n",
        "print(L)  # ['red', 'green']\n",
        "\n",
        "L = ['red', 'green', 'blue', 'red', 'red']\n",
        "L.remove('red')\n",
        "print(L)  # ['green', 'blue', 'red', 'red']\n",
        "\n",
        "# ------------------------------------------ to remove duplicates\n",
        "\n",
        "# list comprehension\n",
        "L = ['red', 'green', 'blue', 'red', 'red']\n",
        "L = [x for x in L if x is not 'red']\n",
        "print(L)  # ['green', 'blue']\n",
        "\n",
        "# lambda expression\n",
        "L = ['red', 'green', 'blue', 'red', 'red']\n",
        "L = list(filter(lambda x: x is not 'red', L))\n",
        "print(L)  # ['green', 'blue']"
      ],
      "metadata": {
        "id": "bnQj5l7KjpAd"
      },
      "execution_count": null,
      "outputs": []
    },
    {
      "cell_type": "markdown",
      "source": [
        "remove() method raises an ValueError exception, if specified item doesn’t exist in a list."
      ],
      "metadata": {
        "id": "ByznutaukA25"
      }
    },
    {
      "cell_type": "code",
      "source": [
        "L = ['red', 'green', 'blue']\n",
        "L.remove('yellow')\n",
        "# Triggers ValueError: list.remove(x): x not in list\n",
        "\n",
        "# To avoid such exception, you can check if item exists in a list, using in operator inside if statement.\n",
        "L = ['red', 'green', 'blue']\n",
        "if 'yellow' in L:\n",
        "  L.remove('yellow')"
      ],
      "metadata": {
        "id": "ENchbyDckB9a"
      },
      "execution_count": null,
      "outputs": []
    },
    {
      "cell_type": "markdown",
      "source": [
        "count() method to find the number of times the specified item appears in the list."
      ],
      "metadata": {
        "id": "BDLAP-SRkJcn"
      }
    },
    {
      "cell_type": "code",
      "source": [
        "L = ['red', 'green', 'blue']\n",
        "print(L.count('red')) # 1\n",
        "\n",
        "L = [1, 9, 7, 3, 9, 1, 9, 2]\n",
        "print(L.count(9)) # 3\n",
        "\n",
        "# Count Multiple Items\n",
        "L = ['a', 'b', 'c', 'b', 'a', 'a', 'a']\n",
        "from collections import Counter\n",
        "print(Counter(L)) # Counter({'a': 4, 'b': 2, 'c': 1})"
      ],
      "metadata": {
        "id": "a3tDfl9dkKFn"
      },
      "execution_count": null,
      "outputs": []
    },
    {
      "cell_type": "markdown",
      "source": [
        "reverse() method reverses the order of list. This method does not return anything; it modifies the list in place."
      ],
      "metadata": {
        "id": "k3asStonkfUr"
      }
    },
    {
      "cell_type": "code",
      "source": [
        "L = [1, 2, 3, 4, 5]\n",
        "L.reverse()\n",
        "print(L)  # [5, 4, 3, 2, 1]\n",
        "\n",
        "L = ['red', 'green', 'blue']\n",
        "L.reverse()\n",
        "print(L)  # ['blue', 'green', 'red']\n",
        "\n",
        "# If you don’t want to modify the list but access items in reverse order, you can use reversed() built-in function.\n",
        "# It returns the reversed iterator object, with which you can loop through the list in reverse order.\n",
        "L = ['red', 'green', 'blue']\n",
        "for x in reversed(L):\n",
        "  print(x)\n",
        "# blue\n",
        "# green\n",
        "# red"
      ],
      "metadata": {
        "id": "_ho7dZKtkf9I"
      },
      "execution_count": null,
      "outputs": []
    },
    {
      "cell_type": "markdown",
      "source": [
        "sort() method sorts the list of strings alphabetically and the list of numbers numerically."
      ],
      "metadata": {
        "id": "y0c3-oCElZKD"
      }
    },
    {
      "cell_type": "code",
      "source": [
        "L = ['red', 'green', 'blue', 'orange']\n",
        "L.sort()\n",
        "print(L)  # ['blue', 'green', 'orange', 'red']\n",
        "\n",
        "L = [42, 99, 1, 12]\n",
        "L.sort()\n",
        "print(L)  # [1, 12, 42, 99]\n",
        "\n",
        "# However, you cannot sort lists that have both numbers and strings in them,\n",
        "# since Python doesn’t know how to compare these values.\n",
        "# L = ['red', 'blue', 1, 12, 'orange',42, 'green', 99]\n",
        "# L.sort()  # Triggers TypeError: '<' not supported between instances of 'int' and 'str'\n",
        "\n",
        "L = ['red', 'green', 'blue', 'orange']\n",
        "L.sort(reverse=True)\n",
        "print(L)  # ['red', 'orange', 'green', 'blue']"
      ],
      "metadata": {
        "id": "ZiIumiwBlcWJ"
      },
      "execution_count": null,
      "outputs": []
    },
    {
      "cell_type": "markdown",
      "source": [
        "sort with key. For example, with a list of strings, specifying key=len (the built-in len() function) sorts the strings by length, from shortest to longest."
      ],
      "metadata": {
        "id": "scgqlydklw7s"
      }
    },
    {
      "cell_type": "code",
      "source": [
        "L = ['red', 'green', 'blue', 'orange']\n",
        "L.sort(key=len)\n",
        "print(L)  # ['red', 'blue', 'green', 'orange']"
      ],
      "metadata": {
        "id": "MaZhK6t-l0Kq"
      },
      "execution_count": null,
      "outputs": []
    },
    {
      "cell_type": "markdown",
      "source": [
        "sort with custom function"
      ],
      "metadata": {
        "id": "4gafaumZl6FD"
      }
    },
    {
      "cell_type": "code",
      "source": [
        "def myFunc(e):\n",
        "  return e[1]\t# return age\n",
        "L = [('Bob', 30),\n",
        "     ('Sam', 35),\n",
        "     ('Max', 25)]\n",
        "L.sort(key=myFunc)\n",
        "print(L)  # [('Max', 25), ('Bob', 30), ('Sam', 35)]\n",
        "\n",
        "def myFunc(e):\n",
        "    return e['age']\t\t# return age\n",
        "L = [{'name': 'Bob', 'age': 30},\n",
        "     {'name': 'Sam', 'age': 35},\n",
        "     {'name': 'Max', 'age': 25}]\n",
        "L.sort(key=myFunc)\n",
        "print(L)  # [{'age': 25, 'name': 'Max'}, {'age': 30, 'name': 'Bob'}, {'age': 35, 'name': 'Sam'}]"
      ],
      "metadata": {
        "id": "dXkgNhL5l71l"
      },
      "execution_count": null,
      "outputs": []
    },
    {
      "cell_type": "markdown",
      "source": [
        "Case-insensitive Sorting"
      ],
      "metadata": {
        "id": "9TnqSgycmRpx"
      }
    },
    {
      "cell_type": "code",
      "source": [
        "# By default, the sort() method sorts the list in ASCIIbetical order rather than actual alphabetical order. This means uppercase letters come before lowercase letters.\n",
        "# If you want to sort the values in regular alphabetical order, set key to str.lower\n",
        "L = ['Red', 'blue', 'Green', 'orange']\n",
        "L.sort(key=str.lower)\n",
        "print(L)  # ['blue', 'Green', 'orange', 'Red']"
      ],
      "metadata": {
        "id": "533ASwWDmR_8"
      },
      "execution_count": null,
      "outputs": []
    },
    {
      "cell_type": "markdown",
      "source": [
        "sort() vs sorted()"
      ],
      "metadata": {
        "id": "h0fDfwfxmeXs"
      }
    },
    {
      "cell_type": "code",
      "source": [
        "# The sort() method doesn’t return anything, it modifies the original list (i.e. sorts in-place).\n",
        "# If you don’t want to modify the original list, use sorted() function. It returns a sorted copy of the list.\n",
        "L = ['red', 'green', 'blue', 'orange']\n",
        "x = sorted(L)\n",
        "print(x)  # ['blue', 'green', 'orange', 'red']"
      ],
      "metadata": {
        "id": "ot-GERGCmgLo"
      },
      "execution_count": null,
      "outputs": []
    },
    {
      "cell_type": "markdown",
      "source": [
        "index() method searches for the first occurrence of the given item and returns its index. If specified item is not found, it raises ‘ValueError’ exception."
      ],
      "metadata": {
        "id": "N1gzi4RVmqoo"
      }
    },
    {
      "cell_type": "code",
      "source": [
        "L = ['a','b','c','d','e','f','a','b','c','d','e','f']\n",
        "print(L.index('c')) # 2\n",
        "\n",
        "L = ['a','b','c','d','e','f','a','b','c','d','e','f']\n",
        "print(L.index('c',5)) # 8\n",
        "\n",
        "L = ['a','b','c','d','e','f','a','b','c','d','e','f']\n",
        "print(L.index('c',5,10))  # 8\n",
        "\n",
        "# To avoid exception, you can check if item exists in a list, using in operator inside if statement.\n",
        "L = ['a','b','c','d','e','f','a','b','c','d','e','f']\n",
        "if 'x' in L:\n",
        "  print(L.index('x'))"
      ],
      "metadata": {
        "id": "HTPl2nL-mrS3"
      },
      "execution_count": null,
      "outputs": []
    },
    {
      "cell_type": "markdown",
      "source": [
        "Built-in functions with List"
      ],
      "metadata": {
        "id": "LCIy_VqpYoha"
      }
    },
    {
      "cell_type": "code",
      "source": [
        "\"\"\"\n",
        "Method\t    Description\n",
        "all()\t      Returns True if all list items are true\n",
        "any()\t      Returns True if any list item is true\n",
        "enumerate()\tTakes a list and returns an enumerate object\n",
        "len()\t      Returns the number of items in the list\n",
        "list()\t    Converts an iterable (tuple, string, set etc.) to a list\n",
        "max()\t      Returns the largest item of the list\n",
        "min()\t      Returns the smallest item of the list\n",
        "sorted()\t  Returns a sorted list\n",
        "sum()\t      Sums items of the list\n",
        "\"\"\""
      ],
      "metadata": {
        "id": "ccflIlkYYpHM"
      },
      "execution_count": null,
      "outputs": []
    },
    {
      "cell_type": "markdown",
      "source": [
        "# Python Tuple"
      ],
      "metadata": {
        "id": "b9tpUS4cY822"
      }
    },
    {
      "cell_type": "code",
      "source": [
        "# A tuple is like a list except that it uses parentheses () instead of square brackets [].\n",
        "# A tuple is an immutable list.\n",
        "\n",
        "rgb = ('red', 'green', 'blue')\n",
        "print(rgb[0])   # red\n",
        "print(rgb[1])   # green\n",
        "print(rgb[2])   # blue\n",
        "\n",
        "# mixed\n",
        "T = (1, 'abc', 1.23, True)\n",
        "\n",
        "# empty\n",
        "T = ()\n",
        "\n",
        "# You don’t need the parentheses to create a tuple. It’s the trailing commas that really define a tuple.\n",
        "# But using them doesn’t hurt; also they help make the tuple more visible.\n",
        "T = 1, 'abc', 1.23, True\n",
        "\n",
        "# nested tuple\n",
        "T = ('red', ('green', 'blue'), 'yellow')"
      ],
      "metadata": {
        "id": "BVOq8jr7ZGlI"
      },
      "execution_count": null,
      "outputs": []
    },
    {
      "cell_type": "code",
      "source": [
        "# Since a tuple is immutable, you cannot change its elements.\n",
        "rgb = ('red', 'green', 'blue')\n",
        "rgb[0] = 'yellow' # throw error - TypeError: 'tuple' object does not support item assignment"
      ],
      "metadata": {
        "id": "GTNHkfoMZS0c"
      },
      "execution_count": null,
      "outputs": []
    },
    {
      "cell_type": "code",
      "source": [
        "colors = ('red', 'green', 'blue')\n",
        "print(colors)   # ('red', 'green', 'blue')\n",
        "\n",
        "colors = ('Cyan', 'Magenta', 'Yellow', 'black')\n",
        "print(colors)   # ('Cyan', 'Magenta', 'Yellow', 'black')"
      ],
      "metadata": {
        "id": "jXww8pZbZWSZ"
      },
      "execution_count": null,
      "outputs": []
    },
    {
      "cell_type": "markdown",
      "source": [
        "Singleton Tuple"
      ],
      "metadata": {
        "id": "ZIpSGWK6pmLK"
      }
    },
    {
      "cell_type": "code",
      "source": [
        "# If you have only one value in a tuple, you can indicate this by including a trailing comma , just before the closing parentheses.\n",
        "T = (4,)\n",
        "print(type(T))  # <type 'tuple'>\n",
        "\n",
        "# Otherwise, Python will think you’ve just typed a value inside regular parentheses.\n",
        "# Not a tuple\n",
        "T = (4)\n",
        "print(type(T))  # <type 'int'>"
      ],
      "metadata": {
        "id": "3p2XIeIwpnM8"
      },
      "execution_count": null,
      "outputs": []
    },
    {
      "cell_type": "markdown",
      "source": [
        "tuple() - use to convert other data types to tuple."
      ],
      "metadata": {
        "id": "_VY0Tw5np1AD"
      }
    },
    {
      "cell_type": "code",
      "source": [
        "T = tuple([1, 2, 3])\n",
        "print(T)  # (1, 2, 3)\n",
        "\n",
        "T = tuple('abc')\n",
        "print(T)  # ('a', 'b', 'c')"
      ],
      "metadata": {
        "id": "RYYhiDXup6lM"
      },
      "execution_count": null,
      "outputs": []
    },
    {
      "cell_type": "markdown",
      "source": [
        "The tuple immutability is applicable only to the top level of the tuple itself, not to its contents. For example, a list inside a tuple can be changed as usual."
      ],
      "metadata": {
        "id": "6u4jEi7WqS6E"
      }
    },
    {
      "cell_type": "code",
      "source": [
        "T = ('red', 'green', 'blue')\n",
        "T[0] = 'black'  # Triggers TypeError: 'tuple' object does not support item assignment\n",
        "\n",
        "T = (1, [2, 3], 4)\n",
        "T[1][0] = 'xx'\n",
        "print(T)  # (1, ['xx', 3], 4)"
      ],
      "metadata": {
        "id": "50bnSXh8qTkE"
      },
      "execution_count": null,
      "outputs": []
    },
    {
      "cell_type": "markdown",
      "source": [
        "delete a tuple"
      ],
      "metadata": {
        "id": "IfCIe6P2qZuI"
      }
    },
    {
      "cell_type": "code",
      "source": [
        "T = ('red', 'green', 'blue')\n",
        "del T"
      ],
      "metadata": {
        "id": "Bvk0IfHmqa5A"
      },
      "execution_count": null,
      "outputs": []
    },
    {
      "cell_type": "markdown",
      "source": [
        "tuple concatenation & replication"
      ],
      "metadata": {
        "id": "v1HjAK-KqfN7"
      }
    },
    {
      "cell_type": "code",
      "source": [
        "# Concatenate\n",
        "T = ('red', 'green', 'blue') + (1, 2, 3)\n",
        "print(T)  # ('red', 'green', 'blue', 1, 2, 3)\n",
        "\n",
        "# Replicate\n",
        "T = ('red',) * 3\n",
        "print(T)  # ('red', 'red', 'red')"
      ],
      "metadata": {
        "id": "sW3KrzINqe3V"
      },
      "execution_count": null,
      "outputs": []
    },
    {
      "cell_type": "markdown",
      "source": [
        "len()"
      ],
      "metadata": {
        "id": "5xne1xn9qoYl"
      }
    },
    {
      "cell_type": "code",
      "source": [
        "T = ('red', 'green', 'blue')\n",
        "print(len(T)) # 3"
      ],
      "metadata": {
        "id": "fqnS2ZgcqpTB"
      },
      "execution_count": null,
      "outputs": []
    },
    {
      "cell_type": "markdown",
      "source": [
        "check item exists in tuple"
      ],
      "metadata": {
        "id": "c1j7FlPzqqUX"
      }
    },
    {
      "cell_type": "code",
      "source": [
        "T = ('red', 'green', 'blue')\n",
        "if 'red' in T:\n",
        "  print('yes')\n",
        "\n",
        "# Check for absence\n",
        "T = ('red', 'green', 'blue')\n",
        "if 'yellow' not in T:\n",
        "  print('yes')"
      ],
      "metadata": {
        "id": "EUWVV_lJqsNV"
      },
      "execution_count": null,
      "outputs": []
    },
    {
      "cell_type": "markdown",
      "source": [
        "iterate tuple"
      ],
      "metadata": {
        "id": "_EGjy9bVqxkj"
      }
    },
    {
      "cell_type": "code",
      "source": [
        "T = ('red', 'green', 'blue')\n",
        "for item in T:\n",
        "  print(item) # red green blue"
      ],
      "metadata": {
        "id": "Is-lFeOQqzws"
      },
      "execution_count": null,
      "outputs": []
    },
    {
      "cell_type": "markdown",
      "source": [
        "sort tuple"
      ],
      "metadata": {
        "id": "KaUyDKxkdF0C"
      }
    },
    {
      "cell_type": "code",
      "source": [
        "# Method 1: Use the built-in sorted() method that accepts any sequence object.\n",
        "T = ('cc', 'aa', 'dd', 'bb')\n",
        "print(tuple(sorted(T))) # ('aa', 'bb', 'cc', 'dd')\n",
        "\n",
        "# Method 2: Convert a tuple to a mutable object like list (using list constructor), gain access to a sorting method call (sort()) and convert it back to tuple.\n",
        "T = ('cc', 'aa', 'dd', 'bb')\n",
        "tmp = list(T)    # convert tuple to list\n",
        "tmp.sort()       # sort list\n",
        "T = tuple(tmp)   # convert list to tuple\n",
        "print(T)         # Prints ('aa', 'bb', 'cc', 'dd')"
      ],
      "metadata": {
        "id": "6pCI3TRNdGY3"
      },
      "execution_count": null,
      "outputs": []
    },
    {
      "cell_type": "markdown",
      "source": [
        "packing & unpacking"
      ],
      "metadata": {
        "id": "vXJnY0iNti2I"
      }
    },
    {
      "cell_type": "code",
      "source": [
        "r, g, *other = (192, 210, 100, 0.5)\n",
        "# print(r)      192\n",
        "# print(g)      210\n",
        "# print(other)  [100, 0.5]"
      ],
      "metadata": {
        "id": "LNNzo-Rhtki4"
      },
      "execution_count": null,
      "outputs": []
    },
    {
      "cell_type": "markdown",
      "source": [
        "Extras"
      ],
      "metadata": {
        "id": "7ZJmuEOQto1m"
      }
    },
    {
      "cell_type": "code",
      "source": [
        "odd_numbers = (1, 3, 5)\n",
        "even_numbers = (2, 4, 6)\n",
        "\n",
        "numbers = (odd_numbers, even_numbers)\n",
        "print(numbers)  # ((1, 3, 5), (2, 4, 6))\n",
        "\n",
        "numbers = (*odd_numbers, *even_numbers)\n",
        "print(numbers)  # (1, 3, 5, 2, 4, 6)"
      ],
      "metadata": {
        "id": "5qp31LSxtp10"
      },
      "execution_count": null,
      "outputs": []
    },
    {
      "cell_type": "markdown",
      "source": [
        "tuple methods"
      ],
      "metadata": {
        "id": "L5LEXltbrI9k"
      }
    },
    {
      "cell_type": "code",
      "source": [
        "\"\"\"\n",
        "Method\t  Description\n",
        "count()\t  Returns the count of specified item in the tuple\n",
        "index()\t  Returns the index of first instance of the specified item\n",
        "\"\"\""
      ],
      "metadata": {
        "id": "HKNZvo4VrKrz"
      },
      "execution_count": null,
      "outputs": []
    },
    {
      "cell_type": "markdown",
      "source": [
        "count() method to find the number of times the given item appears in the tuple."
      ],
      "metadata": {
        "id": "FnwFbvIfr4iN"
      }
    },
    {
      "cell_type": "code",
      "source": [
        "T = ('red', 'green', 'blue')\n",
        "print(T.count('red')) # 1\n",
        "\n",
        "T = (1, 9, 7, 3, 9, 1, 9, 2)\n",
        "print(T.count(9)) # 3\n",
        "\n",
        "# Count Multiple Items\n",
        "T = ('a', 'b', 'c', 'b', 'a', 'a', 'a')\n",
        "from collections import Counter\n",
        "print(Counter(T)) # Counter({'a': 4, 'b': 2, 'c': 1})"
      ],
      "metadata": {
        "id": "mXkqYRPVr5dI"
      },
      "execution_count": null,
      "outputs": []
    },
    {
      "cell_type": "markdown",
      "source": [
        "index() method searches for the first occurrence of the given item and returns its index. If specified item is not found, it raises ‘ValueError’ exception."
      ],
      "metadata": {
        "id": "roaK3TvMsE8Q"
      }
    },
    {
      "cell_type": "code",
      "source": [
        "T = ('a','b','c','d','e','f','a','b','c','d','e','f')\n",
        "print(T.index('c')) # 2\n",
        "\n",
        "T = ('a','b','c','d','e','f','a','b','c','d','e','f')\n",
        "print(T.index('c',5)) # 8\n",
        "\n",
        "T = ('a','b','c','d','e','f','a','b','c','d','e','f')\n",
        "print(T.index('c',5,10))  # 8\n",
        "\n",
        "T = ('a','b','c','d','e','f','a','b','c','d','e','f')\n",
        "if 'x' in T:\n",
        "    print(T.index('x'))"
      ],
      "metadata": {
        "id": "Ahf4yCrXsFnm"
      },
      "execution_count": null,
      "outputs": []
    },
    {
      "cell_type": "markdown",
      "source": [
        "Built-in functions with tuple"
      ],
      "metadata": {
        "id": "JtxFI5aDrRwu"
      }
    },
    {
      "cell_type": "code",
      "source": [
        "\"\"\"\n",
        "Method\t    Description\n",
        "all()\t      Returns True if all list items are true\n",
        "any()\t      Returns True if any list item is true\n",
        "enumerate()\tTakes a list and returns an enumerate object\n",
        "len()\t      Returns the number of items in the list\n",
        "list()\t    Converts an iterable (tuple, string, set etc.) to a list\n",
        "max()\t      Returns the largest item of the list\n",
        "min()\t      Returns the smallest item of the list\n",
        "sorted()\t  Returns a sorted list\n",
        "sum()\t      Sums items of the list\n",
        "\"\"\""
      ],
      "metadata": {
        "id": "sw6_fg0TrT8w"
      },
      "execution_count": null,
      "outputs": []
    },
    {
      "cell_type": "markdown",
      "source": [
        "# Python Map, Filter, Reduce"
      ],
      "metadata": {
        "id": "FOLq64GxoPUj"
      }
    },
    {
      "cell_type": "markdown",
      "source": [
        "map"
      ],
      "metadata": {
        "id": "1piN_UWpogWS"
      }
    },
    {
      "cell_type": "code",
      "source": [
        "bonuses = [100, 200, 300];\n",
        "modified = map(lambda bonus: bonus*2, bonuses);\n",
        "print(list(modified));  # [200, 400, 600]\n",
        "\n",
        "names = ['david', 'peter', 'jenifer']\n",
        "modified = map(lambda name: name.capitalize(), names)\n",
        "print(list(modified))   # ['David', 'Peter', 'Jenifer']\n",
        "\n",
        "carts = [\n",
        "    ['SmartPhone', 400],\n",
        "    ['Tablet', 450],\n",
        "    ['Laptop', 700]\n",
        "]\n",
        "TAX = 0.1\n",
        "carts = map(lambda item: [item[0], item[1], item[1] * TAX], carts)\n",
        "print(list(carts))  # [['SmartPhone', 400, 40.0], ['Tablet', 450, 45.0], ['Laptop', 700, 70.0]]"
      ],
      "metadata": {
        "id": "zs4QIbozohdG"
      },
      "execution_count": null,
      "outputs": []
    },
    {
      "cell_type": "markdown",
      "source": [
        "filter"
      ],
      "metadata": {
        "id": "D2WbhJYBojSW"
      }
    },
    {
      "cell_type": "code",
      "source": [
        "scores = [70, 60, 80, 90, 50]\n",
        "filtered = filter(lambda score: score >= 70, scores)\n",
        "print(list(filtered))   # [70, 80, 90]\n",
        "\n",
        "countries = [\n",
        "    ['China', 1394015977],\n",
        "    ['United States', 329877505],\n",
        "    ['India', 1326093247],\n",
        "    ['Indonesia', 267026366],\n",
        "    ['Bangladesh', 162650853],\n",
        "    ['Pakistan', 233500636],\n",
        "    ['Nigeria', 214028302],\n",
        "    ['Brazil', 21171597],\n",
        "    ['Russia', 141722205],\n",
        "    ['Mexico', 128649565]\n",
        "]\n",
        "populated = filter(lambda c: c[1] > 300000000, countries)\n",
        "print(list(populated))  # [['China', 1394015977], ['India', 1326093247], ['United States', 329877505]]"
      ],
      "metadata": {
        "id": "TPkqVBGBokCJ"
      },
      "execution_count": null,
      "outputs": []
    },
    {
      "cell_type": "markdown",
      "source": [
        "reduce"
      ],
      "metadata": {
        "id": "07BWJZOnomHT"
      }
    },
    {
      "cell_type": "code",
      "source": [
        "from functools import reduce\n",
        "\n",
        "scores = [75, 65, 80, 95, 50]\n",
        "total = reduce(lambda a, b: a + b, scores)\n",
        "print(total)    # 365"
      ],
      "metadata": {
        "id": "7tKgTMZUomqV"
      },
      "execution_count": null,
      "outputs": []
    },
    {
      "cell_type": "markdown",
      "source": [
        "# Python Dictionary"
      ],
      "metadata": {
        "id": "ZGdZrM5RtTBm"
      }
    },
    {
      "cell_type": "markdown",
      "source": [
        "A Python dictionary is a collection of key-value pairs where each key is associated with a value.\n",
        "\n",
        "A value in the key-value pair can be a number, a string, a list, a tuple, or even another dictionary. In fact, you can use a value of any valid type in Python as the value in the key-value pair."
      ],
      "metadata": {
        "id": "xuB6KTovtXeb"
      }
    },
    {
      "cell_type": "code",
      "source": [
        "person = {\n",
        "    'name': 'Bob',\n",
        "    'age': 25,\n",
        "    'job': 'Dev',\n",
        "    'city': 'New York',\n",
        "    'email': 'bob@web.com'\n",
        "}\n",
        "print(person['name']) # Bob\n",
        "print(person['age'])  # 25\n",
        "\n",
        "print(person['salary'])  # Triggers KeyError: 'salary'\n",
        "\n",
        "# When key is present\n",
        "print(person.get('name'))  # Bob\n",
        "\n",
        "# When key is absent\n",
        "print(person.get('salary'))  # None"
      ],
      "metadata": {
        "id": "5It8v5bvuXJC"
      },
      "execution_count": null,
      "outputs": []
    },
    {
      "cell_type": "markdown",
      "source": [
        "You can convert two-value sequences into a dictionary with Python’s dict() constructor. The first item in each sequence is used as the key and the second as the value."
      ],
      "metadata": {
        "id": "fbcZ4fwOvLZS"
      }
    },
    {
      "cell_type": "code",
      "source": [
        "L = [('name', 'Bob'),\n",
        "     ('age', 25),\n",
        "     ('job', 'Dev')]\n",
        "D = dict(L)\n",
        "print(D)  # {'name': 'Bob', 'age': 25, 'job': 'Dev'}\n",
        "\n",
        "T = (['name', 'Bob'],\n",
        "     ['age', 25],\n",
        "     ['job', 'Dev'])\n",
        "D = dict(T)\n",
        "print(D)  # {'name': 'Bob', 'age': 25, 'job': 'Dev'}\n",
        "\n",
        "D = dict(name = 'Bob',\n",
        "         age = 25,\n",
        "         job = 'Dev')\n",
        "print(D)  # {'name': 'Bob', 'age': 25, 'job': 'Dev'}\n",
        "\n",
        "keys = ['name', 'age', 'job']\n",
        "values = ['Bob', 25, 'Dev']\n",
        "D = dict(zip(keys, values))\n",
        "print(D)  # {'name': 'Bob', 'age': 25, 'job': 'Dev'}\n",
        "\n",
        "keys = ['a', 'b', 'c']\n",
        "defaultValue = 0\n",
        "D = dict.fromkeys(keys,defaultValue)\n",
        "print(D)  # {'a': 0, 'b': 0, 'c': 0}\n",
        "\n",
        "keys = ['name', 'age', 'job']\n",
        "values = ['Bob', 25, 'Dev']\n",
        "D = list(zip(keys, values))\n",
        "print(D)  # [('name', 'Bob'), ('age', 25), ('job', 'Dev')]"
      ],
      "metadata": {
        "id": "0JAXl5x_vMw0"
      },
      "execution_count": null,
      "outputs": []
    },
    {
      "cell_type": "markdown",
      "source": [
        "Important Properties of a Dictionary"
      ],
      "metadata": {
        "id": "QCEmQZnFwXWW"
      }
    },
    {
      "cell_type": "code",
      "source": [
        "# Keys must be unique:\n",
        "D = {'name': 'Bob',\n",
        "     'age': 25,\n",
        "     'name': 'Jane'}\n",
        "print(D)  # {'name': 'Jane', 'age': 25}\n",
        "\n",
        "# Key must be immutable type:\n",
        "# You can use any object of immutable type as dictionary keys – such as numbers, strings, booleans or tuples.\n",
        "D = {\n",
        "    (2,2): 25,\n",
        "    True: 'a',\n",
        "    'name': 'Bob'\n",
        "}\n",
        "\n",
        "# An exception is raised when mutable object is used as a key.\n",
        "# TypeError: unhashable type: 'list'\n",
        "D = {\n",
        "    [2,2]: 25,\n",
        "    'name': 'Bob'\n",
        "}"
      ],
      "metadata": {
        "id": "egqriVMAwX7D"
      },
      "execution_count": null,
      "outputs": []
    },
    {
      "cell_type": "markdown",
      "source": [
        "Add or Update Dictionary Items"
      ],
      "metadata": {
        "id": "XwIoKh_iw9qu"
      }
    },
    {
      "cell_type": "code",
      "source": [
        "D = {\n",
        "    'name': 'Bob',\n",
        "    'age': 25,\n",
        "    'job': 'Dev'\n",
        "}\n",
        "\n",
        "D['name'] = 'Sam'\n",
        "print(D)  # {'name': 'Sam', 'age': 25, 'job': 'Dev'}\n",
        "\n",
        "D['city'] = 'New York'\n",
        "print(D)  # {'name': 'Bob', 'age': 25, 'job': 'Dev', 'city': 'New York'}"
      ],
      "metadata": {
        "id": "fS0cFRUCw-Ox"
      },
      "execution_count": null,
      "outputs": []
    },
    {
      "cell_type": "markdown",
      "source": [
        "Merge Two Dictionaries"
      ],
      "metadata": {
        "id": "mz9zSArtxRTz"
      }
    },
    {
      "cell_type": "code",
      "source": [
        "D1 = {'name': 'Bob',\n",
        "      'age': 25,\n",
        "      'job': 'Dev'}\n",
        "\n",
        "D2 = {'age': 30,\n",
        "      'city': 'New York',\n",
        "      'email': 'bob@web.com'}\n",
        "\n",
        "D1.update(D2)\n",
        "print(D1) # {'name': 'Bob', 'age': 30, 'job': 'Dev', 'city': 'New York', 'email': 'bob@web.com'}"
      ],
      "metadata": {
        "id": "nrb32PZ2xR6Z"
      },
      "execution_count": null,
      "outputs": []
    },
    {
      "cell_type": "markdown",
      "source": [
        "Remove Dictionary Items"
      ],
      "metadata": {
        "id": "9rREnktGxZOG"
      }
    },
    {
      "cell_type": "code",
      "source": [
        "D = {'name': 'Bob',\n",
        "     'age': 25,\n",
        "     'job': 'Dev'}\n",
        "\n",
        "x = D.pop('age')\n",
        "print(D)  # {'name': 'Bob', 'job': 'Dev'}\n",
        "print(x)  # get removed value i.e 25\n",
        "\n",
        "D = {'name': 'Bob',\n",
        "     'age': 25,\n",
        "     'job': 'Dev'}\n",
        "\n",
        "del D['age']\n",
        "print(D)  # {'name': 'Bob', 'job': 'Dev'}\n",
        "\n",
        "D = {'name': 'Bob',\n",
        "     'age': 25,\n",
        "     'job': 'Dev'}\n",
        "\n",
        "x = D.popitem()\n",
        "print(D)  # {'name': 'Bob', 'age': 25}\n",
        "print(x)  # get removed pair ('job', 'Dev')\n",
        "\n",
        "D = {'name': 'Bob',\n",
        "     'age': 25,\n",
        "     'job': 'Dev'}\n",
        "\n",
        "D.clear()\n",
        "print(D)  # {}"
      ],
      "metadata": {
        "id": "_I5vSQVuxZx4"
      },
      "execution_count": null,
      "outputs": []
    },
    {
      "cell_type": "markdown",
      "source": [
        "get all keys, values, entries"
      ],
      "metadata": {
        "id": "MYB1-0Y8xyED"
      }
    },
    {
      "cell_type": "code",
      "source": [
        "D = {'name': 'Bob',\n",
        "     'age': 25,\n",
        "     'job': 'Dev'}\n",
        "\n",
        "print(list(D.keys())) # ['name', 'age', 'job']\n",
        "\n",
        "print(list(D.values())) # ['Bob', 25, 'Dev']\n",
        "\n",
        "print(list(D.items()))  # [('name', 'Bob'), ('age', 25), ('job', 'Dev')]"
      ],
      "metadata": {
        "id": "lvx7ATz3x0Wk"
      },
      "execution_count": null,
      "outputs": []
    },
    {
      "cell_type": "markdown",
      "source": [
        "Iterate Through a Dictionary"
      ],
      "metadata": {
        "id": "TfDsc3bKyDlU"
      }
    },
    {
      "cell_type": "code",
      "source": [
        "D = {'name': 'Bob',\n",
        "     'age': 25,\n",
        "     'job': 'Dev'}\n",
        "\n",
        "for x in D:\n",
        "    print(x)  # name age job\n",
        "\n",
        "D = {'name': 'Bob',\n",
        "     'age': 25,\n",
        "     'job': 'Dev'}\n",
        "\n",
        "for x in D:\n",
        "    print(D[x]) # Bob 25 Dev"
      ],
      "metadata": {
        "id": "y4rLjN7HyEEJ"
      },
      "execution_count": null,
      "outputs": []
    },
    {
      "cell_type": "markdown",
      "source": [
        "Check if a Key or Value Exists"
      ],
      "metadata": {
        "id": "ro3Ldxa2yMy7"
      }
    },
    {
      "cell_type": "code",
      "source": [
        "D = {'name': 'Bob',\n",
        "     'age': 25,\n",
        "     'job': 'Dev'}\n",
        "\n",
        "print('name' in D)    # True\n",
        "print('salary' in D)  # False\n",
        "\n",
        "D = {'name': 'Bob',\n",
        "     'age': 25,\n",
        "     'job': 'Dev'}\n",
        "\n",
        "print('Bob' in D.values())  # True\n",
        "print('Sam' in D.values())  # False"
      ],
      "metadata": {
        "id": "_DWPS6K7yNWt"
      },
      "execution_count": null,
      "outputs": []
    },
    {
      "cell_type": "markdown",
      "source": [
        "dictionary length"
      ],
      "metadata": {
        "id": "tTq2VO2tyaHq"
      }
    },
    {
      "cell_type": "code",
      "source": [
        "D = {'name': 'Bob',\n",
        "     'age': 25,\n",
        "     'job': 'Dev'}\n",
        "\n",
        "print(len(D)) # 3"
      ],
      "metadata": {
        "id": "xn32thZiyb3y"
      },
      "execution_count": null,
      "outputs": []
    },
    {
      "cell_type": "markdown",
      "source": [
        "Nested Dictionary & dict() constructor"
      ],
      "metadata": {
        "id": "AxM2uVjjy682"
      }
    },
    {
      "cell_type": "code",
      "source": [
        "D = {'emp1': {'name': 'Bob', 'job': 'Mgr'},\n",
        "     'emp2': {'name': 'Kim', 'job': 'Dev'},\n",
        "     'emp3': {'name': 'Sam', 'job': 'Dev'}}\n",
        "\n",
        "D = dict(emp1 = {'name': 'Bob', 'job': 'Mgr'},\n",
        "         emp2 = {'name': 'Kim', 'job': 'Dev'},\n",
        "         emp3 = {'name': 'Sam', 'job': 'Dev'})\n",
        "print(D)\n",
        "#        {'emp1': {'name': 'Bob', 'job': 'Mgr'},\n",
        "#         'emp2': {'name': 'Kim', 'job': 'Dev'},\n",
        "#         'emp3': {'name': 'Sam', 'job': 'Dev'}}\n",
        "\n",
        "IDs = ['emp1','emp2','emp3']\n",
        "EmpInfo = [{'name': 'Bob', 'job': 'Mgr'},\n",
        "           {'name': 'Kim', 'job': 'Dev'},\n",
        "           {'name': 'Sam', 'job': 'Dev'}]\n",
        "D = dict(zip(IDs, EmpInfo))\n",
        "print(D)\n",
        "#        {'emp1': {'name': 'Bob', 'job': 'Mgr'},\n",
        "#         'emp2': {'name': 'Kim', 'job': 'Dev'},\n",
        "#         'emp3': {'name': 'Sam', 'job': 'Dev'}}\n",
        "\n",
        "IDs = ['emp1','emp2','emp3']\n",
        "Defaults = {'name': '', 'job': ''}\n",
        "D = dict.fromkeys(IDs, Defaults)\n",
        "print(D)\n",
        "#        {'emp1': {'name': '', 'job': ''},\n",
        "#         'emp2': {'name': '', 'job': ''},\n",
        "#         'emp3': {'name': '', 'job': ''}}"
      ],
      "metadata": {
        "id": "mNIO1Fq4y7l_"
      },
      "execution_count": null,
      "outputs": []
    },
    {
      "cell_type": "markdown",
      "source": [
        "Access Nested Dictionary Items"
      ],
      "metadata": {
        "id": "ZOPkW3edz6bi"
      }
    },
    {
      "cell_type": "code",
      "source": [
        "D = {'emp1': {'name': 'Bob', 'job': 'Mgr'},\n",
        "     'emp2': {'name': 'Kim', 'job': 'Dev'},\n",
        "     'emp3': {'name': 'Sam', 'job': 'Dev'}}\n",
        "print(D['emp1']['name'])  # Bob\n",
        "print(D['emp2']['job'])   # Dev\n",
        "\n",
        "print(D['emp1']['salary'])  # Triggers KeyError: 'salary'\n",
        "\n",
        "# key present\n",
        "print(D['emp1'].get('name'))  # Bob\n",
        "\n",
        "# key absent\n",
        "print(D['emp1'].get('salary'))  # None"
      ],
      "metadata": {
        "id": "HbXnbcuhz-Pe"
      },
      "execution_count": null,
      "outputs": []
    },
    {
      "cell_type": "markdown",
      "source": [
        "Change Nested Dictionary Items"
      ],
      "metadata": {
        "id": "Fk8Gtpwd0R-g"
      }
    },
    {
      "cell_type": "code",
      "source": [
        "D = {'emp1': {'name': 'Bob', 'job': 'Mgr'},\n",
        "     'emp2': {'name': 'Kim', 'job': 'Dev'},\n",
        "     'emp3': {'name': 'Sam', 'job': 'Dev'}}\n",
        "\n",
        "D['emp3']['name'] = 'Max'\n",
        "D['emp3']['job'] = 'Janitor'\n",
        "\n",
        "print(D['emp3'])  # {'name': 'Max', 'job': 'Janitor'}"
      ],
      "metadata": {
        "id": "wH7qkoiH0Sf2"
      },
      "execution_count": null,
      "outputs": []
    },
    {
      "cell_type": "markdown",
      "source": [
        "Add or Update Nested Dictionary Items"
      ],
      "metadata": {
        "id": "yZiVvp1K0W5r"
      }
    },
    {
      "cell_type": "code",
      "source": [
        "D = {'emp1': {'name': 'Bob', 'job': 'Mgr'},\n",
        "     'emp2': {'name': 'Kim', 'job': 'Dev'},\n",
        "     'emp3': {'name': 'Sam', 'job': 'Dev'}}\n",
        "\n",
        "D['emp3'] = {'name': 'Max', 'job': 'Janitor'}\n",
        "\n",
        "print(D)\n",
        "#        {'emp1': {'name': 'Bob', 'job': 'Mgr'},\n",
        "#         'emp2': {'name': 'Kim', 'job': 'Dev'},\n",
        "#         'emp3': {'name': 'Max', 'job': 'Janitor'}}\n",
        "\n",
        "D = {'emp1': {'name': 'Bob', 'job': 'Mgr'},\n",
        "     'emp2': {'name': 'Kim', 'job': 'Dev'},\n",
        "     'emp3': {'name': 'Sam', 'job': 'Dev'}}\n",
        "\n",
        "D['emp4'] = {'name': 'Max', 'job': 'Janitor'}\n",
        "\n",
        "print(D)\n",
        "#        {'emp1': {'name': 'Bob', 'job': 'Mgr'},\n",
        "#         'emp2': {'name': 'Kim', 'job': 'Dev'},\n",
        "#         'emp3': {'name': 'Sam', 'job': 'Dev'},\n",
        "#         'emp4': {'name': 'Max', 'job': 'Janitor'}}"
      ],
      "metadata": {
        "id": "uP2rJkVB0Xd8"
      },
      "execution_count": null,
      "outputs": []
    },
    {
      "cell_type": "markdown",
      "source": [
        "Merge Two Nested Dictionaries"
      ],
      "metadata": {
        "id": "fHK3e-9p0gCU"
      }
    },
    {
      "cell_type": "code",
      "source": [
        "D1 = {'emp1': {'name': 'Bob', 'job': 'Mgr'},\n",
        "      'emp2': {'name': 'Kim', 'job': 'Dev'}}\n",
        "\n",
        "D2 = {'emp2': {'name': 'Sam', 'job': 'Dev'},\n",
        "      'emp3': {'name': 'Max', 'job': 'Janitor'}}\n",
        "\n",
        "D1.update(D2)\n",
        "\n",
        "print(D1)\n",
        "#        {'emp1': {'name': 'Bob', 'job': 'Mgr'},\n",
        "#         'emp2': {'name': 'Sam', 'job': 'Dev'},\n",
        "#         'emp3': {'name': 'Max', 'job': 'Janitor'}}"
      ],
      "metadata": {
        "id": "UVhPUBFp0gzH"
      },
      "execution_count": null,
      "outputs": []
    },
    {
      "cell_type": "markdown",
      "source": [
        "Remove Nested Dictionary Items"
      ],
      "metadata": {
        "id": "I5Ry6c610k7c"
      }
    },
    {
      "cell_type": "code",
      "source": [
        "D = {'emp1': {'name': 'Bob', 'job': 'Mgr'},\n",
        "     'emp2': {'name': 'Kim', 'job': 'Dev'},\n",
        "     'emp3': {'name': 'Sam', 'job': 'Dev'}}\n",
        "\n",
        "x = D.pop('emp3')\n",
        "\n",
        "print(D)\n",
        "#      {'emp1': {'name': 'Bob', 'job': 'Mgr'},\n",
        "#       'emp2': {'name': 'Kim', 'job': 'Dev'}}\n",
        "\n",
        "# get removed value\n",
        "print(x)\n",
        "#      {'name': 'Sam', 'job': 'Dev'}\n",
        "\n",
        "D = {'emp1': {'name': 'Bob', 'job': 'Mgr'},\n",
        "     'emp2': {'name': 'Kim', 'job': 'Dev'},\n",
        "     'emp3': {'name': 'Sam', 'job': 'Dev'}}\n",
        "\n",
        "del D['emp3']\n",
        "\n",
        "print(D)\n",
        "#        {'emp1': {'name': 'Bob', 'job': 'Mgr'},\n",
        "#         'emp2': {'name': 'Kim', 'job': 'Dev'}}"
      ],
      "metadata": {
        "id": "vZEEddWx0lkJ"
      },
      "execution_count": null,
      "outputs": []
    },
    {
      "cell_type": "markdown",
      "source": [
        "Remove Last Inserted Item"
      ],
      "metadata": {
        "id": "P20iZ-XG0w2s"
      }
    },
    {
      "cell_type": "code",
      "source": [
        "D = {'emp1': {'name': 'Bob', 'job': 'Mgr'},\n",
        "     'emp2': {'name': 'Kim', 'job': 'Dev'},\n",
        "     'emp3': {'name': 'Sam', 'job': 'Dev'}}\n",
        "\n",
        "x = D.popitem()\n",
        "\n",
        "print(D)\n",
        "#        {'emp1': {'name': 'Bob', 'job': 'Mgr'},\n",
        "#         'emp2': {'name': 'Kim', 'job': 'Dev'}}\n",
        "\n",
        "# get removed pair\n",
        "print(x)\n",
        "#        ('emp3', {'name': 'Sam', 'job': 'Dev'})"
      ],
      "metadata": {
        "id": "6s6RM5Vh0xg_"
      },
      "execution_count": null,
      "outputs": []
    },
    {
      "cell_type": "markdown",
      "source": [
        "Iterate Through a Nested Dictionary"
      ],
      "metadata": {
        "id": "WiPU40rr025b"
      }
    },
    {
      "cell_type": "code",
      "source": [
        "D = {'emp1': {'name': 'Bob', 'job': 'Mgr'},\n",
        "     'emp2': {'name': 'Kim', 'job': 'Dev'},\n",
        "     'emp3': {'name': 'Sam', 'job': 'Dev'}}\n",
        "\n",
        "for id, info in D.items():\n",
        "    print(\"\\nEmployee ID:\", id)\n",
        "    for key in info:\n",
        "        print(key + ':', info[key])\n",
        "\n",
        "# Prints Employee ID: emp1\n",
        "#        name: Bob\n",
        "#        job: Mgr\n",
        "\n",
        "#        Employee ID: emp2\n",
        "#        name: Kim\n",
        "#        job: Dev\n",
        "\n",
        "#        Employee ID: emp3\n",
        "#        name: Sam\n",
        "#        job: Dev"
      ],
      "metadata": {
        "id": "Hivh26_e03Zw"
      },
      "execution_count": null,
      "outputs": []
    },
    {
      "cell_type": "markdown",
      "source": [
        "Dictionary Comprehension"
      ],
      "metadata": {
        "id": "T15Turxv09KN"
      }
    },
    {
      "cell_type": "code",
      "source": [
        "\"\"\"\n",
        "D = {}\n",
        "D[0] = 0\n",
        "D[1] = 1\n",
        "D[2] = 4\n",
        "D[3] = 9\n",
        "D[4] = 16\n",
        "print(D)\n",
        "# Prints {0: 0, 1: 1, 2: 4, 3: 9, 4: 16}\n",
        "\n",
        "D = {}\n",
        "for x in range(5):\n",
        "    D[x] = x**2\n",
        "\n",
        "print(D)\n",
        "# Prints {0: 0, 1: 1, 2: 4, 3: 9, 4: 16}\n",
        "\"\"\"\n",
        "\n",
        "D = {x: x**2 for x in range(5)}\n",
        "print(D)  # {0: 0, 1: 1, 2: 4, 3: 9, 4: 16}\n",
        "\n",
        "D = {c: c * 3 for c in 'RED'}\n",
        "print(D)  # {'R': 'RRR', 'E': 'EEE', 'D': 'DDD'}\n",
        "\n",
        "L = ['ReD', 'GrEeN', 'BlUe']\n",
        "D = {c.lower(): c.upper() for c in L}\n",
        "print(D)  # {'blue': 'BLUE', 'green': 'GREEN', 'red': 'RED'}"
      ],
      "metadata": {
        "id": "yTaIVc-f0-Ef"
      },
      "execution_count": null,
      "outputs": []
    },
    {
      "cell_type": "markdown",
      "source": [
        "Extracting a Subset of a Dictionary"
      ],
      "metadata": {
        "id": "aR0kyosS2J8n"
      }
    },
    {
      "cell_type": "code",
      "source": [
        "D = {0: 'A', 1: 'B', 2: 'C', 3: 'D', 4: 'E', 5: 'F'}\n",
        "selectedKeys = [0, 2, 5]\n",
        "X = {k: D[k] for k in selectedKeys}\n",
        "print(X)  # {0: 'A', 2: 'C', 5: 'F'}"
      ],
      "metadata": {
        "id": "gy4fWKUv2Lis"
      },
      "execution_count": null,
      "outputs": []
    },
    {
      "cell_type": "markdown",
      "source": [
        "Filter Dictionary Contents"
      ],
      "metadata": {
        "id": "URlNLg4-2Opx"
      }
    },
    {
      "cell_type": "code",
      "source": [
        "D = {0: 'A', 1: 'B', 2: 'C', 3: 'D', 4: 'E', 5: 'F'}\n",
        "removeKeys = [0, 2, 5]\n",
        "X = {k: D[k] for k in D.keys() - removeKeys}\n",
        "print(X)  # {1: 'B', 3: 'D', 4: 'E'}"
      ],
      "metadata": {
        "id": "eHal3e_52NRO"
      },
      "execution_count": null,
      "outputs": []
    },
    {
      "cell_type": "markdown",
      "source": [
        "Invert Mapping / Reverse lookup"
      ],
      "metadata": {
        "id": "UykG4Mxf2sAj"
      }
    },
    {
      "cell_type": "code",
      "source": [
        "D = {0: 'red', 1: 'green', 2: 'blue'}\n",
        "R = {v: k for k,v in D.items()}\n",
        "print(R)  # {'red': 0, 'green': 1, 'blue': 2}"
      ],
      "metadata": {
        "id": "HmFJG4yl2ss0"
      },
      "execution_count": null,
      "outputs": []
    },
    {
      "cell_type": "markdown",
      "source": [
        "Dictionary Comprehension with Enumerate"
      ],
      "metadata": {
        "id": "S82XbNpH21io"
      }
    },
    {
      "cell_type": "code",
      "source": [
        "L = ['red', 'green', 'blue']\n",
        "D = {k:v for k,v in enumerate(L)}\n",
        "print(D)  # {0: 'red', 1: 'green', 2: 'blue'}"
      ],
      "metadata": {
        "id": "12dsQMFu22Cy"
      },
      "execution_count": null,
      "outputs": []
    },
    {
      "cell_type": "markdown",
      "source": [
        "Initialize Dictionary with Comprehension"
      ],
      "metadata": {
        "id": "cc0ZrCwJ3Fd7"
      }
    },
    {
      "cell_type": "code",
      "source": [
        "keys = ['red', 'green', 'blue']\n",
        "\n",
        "# using dict comprehension\n",
        "D = {k: 0 for k in keys}\n",
        "print(D)  # {'red': 0, 'green': 0, 'blue': 0}\n",
        "\n",
        "# equivalent to using fromkeys() method\n",
        "D = dict.fromkeys(keys, 0)\n",
        "print(D)  # {'red': 0, 'green': 0, 'blue': 0}\n",
        "\n",
        "keys = ['name', 'age', 'job']\n",
        "values = ['Bob', 25, 'Dev']\n",
        "\n",
        "# using dict comprehension\n",
        "D = {k: v for (k, v) in zip(keys, values)}\n",
        "print(D)  # {'name': 'Bob', 'age': 25, 'job': 'Dev'}\n",
        "\n",
        "# equivalent to using dict() on zipped keys/values\n",
        "D = dict(zip(keys, values))\n",
        "print(D)  # {'name': 'Bob', 'age': 25, 'job': 'Dev'}"
      ],
      "metadata": {
        "id": "2nRMT2dT3F_B"
      },
      "execution_count": null,
      "outputs": []
    },
    {
      "cell_type": "markdown",
      "source": [
        "Dictionary Comprehension with if Clause"
      ],
      "metadata": {
        "id": "XVPeL5cI3VAy"
      }
    },
    {
      "cell_type": "code",
      "source": [
        "D = {x: x**2 for x in range(6) if x % 2 == 0}\n",
        "\n",
        "print(D)  # {0: 0, 2: 4, 4: 16}"
      ],
      "metadata": {
        "id": "gjuuCL0N3VjR"
      },
      "execution_count": null,
      "outputs": []
    },
    {
      "cell_type": "markdown",
      "source": [
        "Nested Dictionary Comprehension"
      ],
      "metadata": {
        "id": "tc5gAGIz3Zs8"
      }
    },
    {
      "cell_type": "code",
      "source": [
        "D = {(k,v): k+v for k in range(2) for v in range(2)}\n",
        "print(D)  # {(0, 1): 1, (1, 0): 1, (0, 0): 0, (1, 1): 2}\n",
        "\n",
        "# is equivalent to\n",
        "D = {}\n",
        "for k in range(2):\n",
        "    for v in range(2):\n",
        "        D[(k,v)] = k+v\n",
        "print(D)  # {(0, 1): 1, (1, 0): 1, (0, 0): 0, (1, 1): 2}"
      ],
      "metadata": {
        "id": "Z4Oxb4Fr3aPI"
      },
      "execution_count": null,
      "outputs": []
    },
    {
      "cell_type": "markdown",
      "source": [
        "dictionary methods"
      ],
      "metadata": {
        "id": "X45aPTtWyrDb"
      }
    },
    {
      "cell_type": "code",
      "source": [
        "\"\"\"\n",
        "Method\t      Description\n",
        "clear()\t      Removes all items from the dictionary\n",
        "copy()\t      Returns a shallow copy of the dictionary\n",
        "fromkeys()\t  Creates a new dictionary with the specified keys and values\n",
        "get()\t        Returns the value of the specified key\n",
        "items()\t      Returns a list of key:value pair\n",
        "keys()\t      Returns a list of all keys from dictionary\n",
        "pop()\t        Removes and returns single dictionary item with specified key.\n",
        "popitem()\t    Removes and returns last inserted key:value pair from the dictionary.\n",
        "setdefault()\tReturns the value of the specified key, if present. Else, inserts the key with a specified value.\n",
        "update()\t    Updates the dictionary with the specified key:value pairs\n",
        "values()\t    Returns a list of all values from dictionary\n",
        "\"\"\""
      ],
      "metadata": {
        "id": "0u63x_fsyuor"
      },
      "execution_count": null,
      "outputs": []
    },
    {
      "cell_type": "markdown",
      "source": [
        "clear() method to remove all items from the dictionary. This method does not return anything; it modifies the dictionary in place."
      ],
      "metadata": {
        "id": "44UFKxeC3i10"
      }
    },
    {
      "cell_type": "code",
      "source": [
        "D = {'name': 'Bob', 'age': 25}\n",
        "D.clear()\n",
        "print(D)  # {}"
      ],
      "metadata": {
        "id": "q0M4di_i3jao"
      },
      "execution_count": null,
      "outputs": []
    },
    {
      "cell_type": "markdown",
      "source": [
        "clear() vs Assigning Empty Dictionary"
      ],
      "metadata": {
        "id": "A1RZCxwp3pG7"
      }
    },
    {
      "cell_type": "code",
      "source": [
        "# old_Dict = {} does not empty the dictionary in-place, it just overwrites the variable with a different dictionary which happens to be empty.\n",
        "# If anyone else like new_Dict had a reference to the original dictionary,\n",
        "old_Dict = {'name': 'Bob', 'age': 25}\n",
        "new_Dict = old_Dict\n",
        "old_Dict = {}\n",
        "print(old_Dict) # {}\n",
        "print(new_Dict) # {'age': 25, 'name': 'xx'}\n",
        "\n",
        "# On the contrary, clear() method empties the dictionary in-place. So, all the references are cleared as well.\n",
        "old_Dict = {'name': 'Bob', 'age': 25}\n",
        "new_Dict = old_Dict\n",
        "old_Dict.clear()\n",
        "print(old_Dict) # {}\n",
        "print(new_Dict) # {}"
      ],
      "metadata": {
        "id": "H6WhthME3pnu"
      },
      "execution_count": null,
      "outputs": []
    },
    {
      "cell_type": "markdown",
      "source": [
        "pop() method removes it and returns its value. You can also specify the default parameter that will be returned if the specified key is not found."
      ],
      "metadata": {
        "id": "wDBncJHb4DIS"
      }
    },
    {
      "cell_type": "code",
      "source": [
        "D = {'name': 'Bob', 'age': 25}\n",
        "v = D.pop('age')\n",
        "print(v)  # 25\n",
        "\n",
        "D = {'name': 'Bob', 'age': 25}\n",
        "D.pop('job')  # Triggers KeyError: 'job'\n",
        "\n",
        "# default paramter\n",
        "D.pop('job', None)"
      ],
      "metadata": {
        "id": "1SWGoh7u4Dqa"
      },
      "execution_count": null,
      "outputs": []
    },
    {
      "cell_type": "markdown",
      "source": [
        "copy() method returns the Shallow copy of the specified dictionary."
      ],
      "metadata": {
        "id": "yfvdcY8G4OAx"
      }
    },
    {
      "cell_type": "code",
      "source": [
        "old_Dict = {'name': 'Bob', 'age': 25}\n",
        "new_Dict = old_Dict.copy()\n",
        "new_Dict['name'] = 'xx'\n",
        "print(old_Dict) # {'age': 25, 'name': 'Bob'}\n",
        "print(new_Dict) # {'age': 25, 'name': 'xx'}\n",
        "\n",
        "# Equivalent Method\n",
        "D = {'name': 'Bob', 'age': 25}\n",
        "X = {k:v for k,v in D.items()}\n",
        "print(X)  # {'age': 25, 'name': 'Bob'}"
      ],
      "metadata": {
        "id": "WOXgR1045CfP"
      },
      "execution_count": null,
      "outputs": []
    },
    {
      "cell_type": "markdown",
      "source": [
        "popitem() method removes and returns the last inserted key:value pair from the dictionary. Pairs are returned in Last In First Out (LIFO) order."
      ],
      "metadata": {
        "id": "sldrGHFO5UBS"
      }
    },
    {
      "cell_type": "code",
      "source": [
        "D = {'name': 'Bob', 'age': 25}\n",
        "v = D.popitem()\n",
        "print(v)  # ('age', 25)\n",
        "\n",
        "# popitem() on Empty Dictionary Triggers KeyError: 'popitem(): dictionary is empty'\n",
        "# solution\n",
        "D = {}\n",
        "if D:\n",
        "    D.popitem()"
      ],
      "metadata": {
        "id": "SrGqr1Wn5Uny"
      },
      "execution_count": null,
      "outputs": []
    },
    {
      "cell_type": "markdown",
      "source": [
        "fromkeys() method creates a new dictionary with default value for all specified keys."
      ],
      "metadata": {
        "id": "uXx1NHNt5rvR"
      }
    },
    {
      "cell_type": "code",
      "source": [
        "D = dict.fromkeys(['Bob', 'Sam'], 'Developer')\n",
        "print(D)  # {'Bob': 'Developer', 'Sam': 'Developer'}\n",
        "\n",
        "D = dict.fromkeys(['Bob', 'Sam'])\n",
        "print(D)  # {'Bob': None, 'Sam': None}\n",
        "\n",
        "# alternatives\n",
        "L = ['Bob', 'Sam']\n",
        "D = {key:'Developer' for key in L}\n",
        "print(D)  # {'Bob': 'Developer', 'Sam': 'Developer'}\n",
        "\n",
        "L = ['Bob', 'Sam']\n",
        "D = {key:None for key in L}\n",
        "print(D)  # {'Bob': None, 'Sam': None}"
      ],
      "metadata": {
        "id": "DVUAB0Bh5sW5"
      },
      "execution_count": null,
      "outputs": []
    },
    {
      "cell_type": "markdown",
      "source": [
        "setdefault() method returns the value for key if key is in the dictionary. If not, it inserts key with a value of default and returns default."
      ],
      "metadata": {
        "id": "aUMTpf_u6Jru"
      }
    },
    {
      "cell_type": "code",
      "source": [
        "D = {'name': 'Bob', 'age': 25}\n",
        "v = D.setdefault('job', 'Dev')\n",
        "print(D)  # {'job': 'Dev', 'age': 25, 'name': 'Bob'}\n",
        "print(v)  # Dev\n",
        "\n",
        "# without default specified\n",
        "D = {'name': 'Bob', 'age': 25}\n",
        "v = D.setdefault('name')\n",
        "print(v)  # Bob\n",
        "\n",
        "# with default specified\n",
        "D = {'name': 'Bob', 'age': 25}\n",
        "v = D.setdefault('name', 'Max')\n",
        "print(v)  # Bob\n",
        "\n",
        "D = {'name': 'Bob', 'age': 25}\n",
        "v = D.setdefault('job')\n",
        "print(D)  # {'job': None, 'age': 25, 'name': 'Bob'}\n",
        "print(v)  # None"
      ],
      "metadata": {
        "id": "GHD_JRr36Nrj"
      },
      "execution_count": null,
      "outputs": []
    },
    {
      "cell_type": "markdown",
      "source": [
        "get() method returns the value for key if key is in the dictionary.\n",
        "\n",
        "You can also specify the default parameter that will be returned if the specified key is not found. If default is not specified, it returns None. Therefore, this method never raises a KeyError."
      ],
      "metadata": {
        "id": "cotshR_x69Js"
      }
    },
    {
      "cell_type": "code",
      "source": [
        "D = {'name': 'Bob', 'age': 25}\n",
        "print(D.get('name'))  # Bob\n",
        "\n",
        "D = {'name': 'Bob', 'age': 25}\n",
        "print(D.get('job')) # None\n",
        "\n",
        "D = {'name': 'Bob', 'age': 25, 'job': 'Manager'}\n",
        "print(D.get('job', 'Developer'))  # Manager\n",
        "\n",
        "D = {'name': 'Bob', 'age': 25}\n",
        "print(D.get('job','Developer')) # Developer"
      ],
      "metadata": {
        "id": "xOxPlTOa6-Ac"
      },
      "execution_count": null,
      "outputs": []
    },
    {
      "cell_type": "markdown",
      "source": [
        "update() method updates the dictionary with the key:value pairs from element.\n",
        "\n",
        "If the key is already present in the dictionary, value gets updated.\n",
        "If the key is not present in the dictionary, a new key:value pair is added to the dictionary."
      ],
      "metadata": {
        "id": "Pd2GtSHi7R79"
      }
    },
    {
      "cell_type": "code",
      "source": [
        "# genrally used to merge two dictionaries\n",
        "D1 = {'name': 'Bob'}\n",
        "D2 = {'job': 'Dev', 'age': 25}\n",
        "D1.update(D2)\n",
        "print(D1) # {'job': 'Dev', 'age': 25, 'name': 'Bob'}\n",
        "\n",
        "D1 = {'name': 'Bob', 'age': 25}\n",
        "D2 = {'job': 'Dev', 'age': 30}\n",
        "D1.update(D2)\n",
        "print(D1) # {'job': 'Dev', 'age': 30, 'name': 'Bob'}\n",
        "\n",
        "# passing different values\n",
        "D = {'name': 'Bob'}\n",
        "D.update({'job': 'Dev', 'age': 25})\n",
        "print(D)  # {'job': 'Dev', 'age': 25, 'name': 'Bob'}\n",
        "\n",
        "D = {'name': 'Bob'}\n",
        "D.update([('job', 'Dev'), ('age', 25)])\n",
        "print(D)  # {'age': 25, 'job': 'Dev', 'name': 'Bob'}\n",
        "\n",
        "D = {'name': 'Bob'}\n",
        "D.update([['job', 'Dev'], ['age', 25]])\n",
        "print(D)  # {'age': 25, 'job': 'Dev', 'name': 'Bob'}\n",
        "\n",
        "D = {'name': 'Bob'}\n",
        "D.update(job = 'Dev', age = 25)\n",
        "print(D)  # {'job': 'Dev', 'age': 25, 'name': 'Bob'}"
      ],
      "metadata": {
        "id": "n4tY-7Ka7SxV"
      },
      "execution_count": null,
      "outputs": []
    },
    {
      "cell_type": "markdown",
      "source": [
        "items() method returns a list of tuples containing the key:value pairs of the dictionary"
      ],
      "metadata": {
        "id": "I-TQ7xRn7xr4"
      }
    },
    {
      "cell_type": "code",
      "source": [
        "D = {'name': 'Bob', 'age': 25}\n",
        "L = D.items()\n",
        "print(L)  # dict_items([('age', 25), ('name', 'Bob')])\n",
        "\n",
        "D = {'name': 'Bob', 'age': 25}\n",
        "for x in D.items():\n",
        "    print(x)\n",
        "# ('age', 25)\n",
        "# ('name', 'Bob')\n",
        "\n",
        "# The object returned by items() is a view object. It provides a dynamic view on the dictionary’s entries,\n",
        "# which means that when the dictionary changes, the view reflects these changes.\n",
        "D = {'name': 'Bob', 'age': 25}\n",
        "L = D.items()\n",
        "D['name'] = 'xx'\n",
        "print(L)  # dict_items([('age', 25), ('name', 'xx')]) # L reflects changes done to dict D"
      ],
      "metadata": {
        "id": "szXzCtuI7yYj"
      },
      "execution_count": null,
      "outputs": []
    },
    {
      "cell_type": "markdown",
      "source": [
        "values() method returns a list of values from a dictionary."
      ],
      "metadata": {
        "id": "FsL8ey7z8F1y"
      }
    },
    {
      "cell_type": "code",
      "source": [
        "D = {'name': 'Bob', 'age': 25}\n",
        "L = D.values()\n",
        "print(L)  # dict_values([25, 'Bob'])\n",
        "\n",
        "D = {'name': 'Bob', 'age': 25}\n",
        "for x in D.values():\n",
        "    print(x)  # 25 Bob\n",
        "\n",
        "# The object returned by items() is a view object. It provides a dynamic view on the dictionary’s entries,\n",
        "# which means that when the dictionary changes, the view reflects these changes.\n",
        "D = {'name': 'Bob', 'age': 25}\n",
        "L = D.values()\n",
        "D['name'] = 'xx'\n",
        "print(L)  # dict_values([25, 'xx']) # L reflects changes done to dict D"
      ],
      "metadata": {
        "id": "7cY0zPbH8GV_"
      },
      "execution_count": null,
      "outputs": []
    },
    {
      "cell_type": "markdown",
      "source": [
        "keys() method returns a list of keys from a dictionary."
      ],
      "metadata": {
        "id": "k12wcwfb8xNR"
      }
    },
    {
      "cell_type": "code",
      "source": [
        "D = {'name': 'Bob', 'age': 25}\n",
        "L = D.keys()\n",
        "print(L)  # dict_keys(['age', 'name'])\n",
        "\n",
        "D = {'name': 'Bob', 'age': 25}\n",
        "for x in D.keys():\n",
        "    print(x)  # age name\n",
        "\n",
        "# The object returned by items() is a view object. It provides a dynamic view on the dictionary’s entries,\n",
        "# which means that when the dictionary changes, the view reflects these changes.\n",
        "D = {'name': 'Bob', 'age': 25}\n",
        "L = D.keys()\n",
        "D['job'] = 'Developer'\n",
        "print(L)  # dict_keys(['job', 'age', 'name']) # L reflects changes done to dict D"
      ],
      "metadata": {
        "id": "ZZT-xn5T8x5c"
      },
      "execution_count": null,
      "outputs": []
    },
    {
      "cell_type": "markdown",
      "source": [
        "Built-in functions with dictionary"
      ],
      "metadata": {
        "id": "ObhR6YDwynRX"
      }
    },
    {
      "cell_type": "code",
      "source": [
        "\"\"\"\n",
        "Method\t  Description\n",
        "all()\t    Returns True if all list items are true\n",
        "any()\t    Returns True if any list item is true\n",
        "len()\t    Returns the number of items in the list\n",
        "sorted()\tReturns a sorted list\n",
        "\"\"\""
      ],
      "metadata": {
        "id": "XwaKDECJyiOl"
      },
      "execution_count": null,
      "outputs": []
    },
    {
      "cell_type": "markdown",
      "source": [
        "# Python Set"
      ],
      "metadata": {
        "id": "SUou3gIs9P1v"
      }
    },
    {
      "cell_type": "markdown",
      "source": [
        "A Python set is an unordered list of immutable elements. Elements in a set are unique. Elements in a set cannot be changed. For example, they can be numbers, strings, and tuples, but cannot be lists or dictionaries."
      ],
      "metadata": {
        "id": "o9KPHC3b9TwJ"
      }
    },
    {
      "cell_type": "code",
      "source": [
        "empty_set = {}\n",
        "empty_set = set()\n",
        "\n",
        "skills = set()\n",
        "if not skills:\n",
        "    print('Empty sets are falsy')\n",
        "\n",
        "S = {1, 'abc', 1.23, (3+4j), True}\n",
        "\n",
        "S = {'red', 'green', 'blue', 'red'}\n",
        "print(S)  # {'blue', 'green', 'red'}\n",
        "\n",
        "S = {[1, 2], {'a':1, 'b':2}}  # Triggers TypeError: unhashable type: 'list'"
      ],
      "metadata": {
        "id": "l5NxpGiY-SXh"
      },
      "execution_count": null,
      "outputs": []
    },
    {
      "cell_type": "markdown",
      "source": [
        "set() constructor"
      ],
      "metadata": {
        "id": "H88XumvA_CEK"
      }
    },
    {
      "cell_type": "code",
      "source": [
        "skills = set(['Problem solving','Critical Thinking'])\n",
        "print(skills) # {'Critical Thinking', 'Problem solving'}\n",
        "\n",
        "characters = set('letter')\n",
        "print(characters) # {'r', 'l', 't', 'e'}\n",
        "\n",
        "len(characters)  # 4\n",
        "\n",
        "# Set of items in an iterable\n",
        "S = set('abc')\n",
        "print(S)\n",
        "# Prints {'a', 'b', 'c'}\n",
        "\n",
        "# Set of successive integers\n",
        "S = set(range(0, 4))\n",
        "print(S)\n",
        "# Prints {0, 1, 2, 3}\n",
        "\n",
        "# Convert list into set\n",
        "S = set([1, 2, 3])\n",
        "print(S)\n",
        "# Prints {1, 2, 3}"
      ],
      "metadata": {
        "id": "5D2dxuM5_DwT"
      },
      "execution_count": null,
      "outputs": []
    },
    {
      "cell_type": "markdown",
      "source": [
        "set comprehension"
      ],
      "metadata": {
        "id": "8joqozprrf2H"
      }
    },
    {
      "cell_type": "code",
      "source": [
        "tags = {'Django', 'Pandas', 'Numpy'}\n",
        "lowercase_tags = set(map(lambda tag: tag.lower(), tags))\n",
        "print(lowercase_tags) # {'django', 'pandas', 'numpy'}\n",
        "\n",
        "tags = {'Django', 'Pandas', 'Numpy'}\n",
        "new_tags = {tag.lower() for tag in tags if tag != 'Numpy'}\n",
        "print(new_tags) # {'django', 'pandas'}"
      ],
      "metadata": {
        "id": "PRkp4ZdZrkQ7"
      },
      "execution_count": null,
      "outputs": []
    },
    {
      "cell_type": "markdown",
      "source": [
        "Set methods"
      ],
      "metadata": {
        "id": "GPyQqP3r_smX"
      }
    },
    {
      "cell_type": "code",
      "source": [
        "\"\"\"\n",
        "Method\t                      Description\n",
        "add()                         Add item to set\n",
        "clear()                       Remove all items from the set.\n",
        "copy()                        Returns the Shallow copy of the specified set.\n",
        "union()\t                      Return a new set containing the union of two or more sets\n",
        "update()\t                    Modify this set with the union of this set and other sets\n",
        "intersection()\t              Returns a new set which is the intersection of two or more sets\n",
        "intersection_update()\t        Removes the items from this set that are not present in other sets\n",
        "difference()\t                Returns a new set containing the difference between two or more sets\n",
        "difference_update()\t          Removes the items from this set that are also included in another set\n",
        "symmetric_difference()\t      Returns a new set with the symmetric differences of two or more sets\n",
        "symmetric_difference_update()\tModify this set with the symmetric difference of this set and other set\n",
        "isdisjoint()\t                Determines whether or not two sets have any elements in common\n",
        "issubset()\t                  Determines whether one set is a subset of the other\n",
        "issuperset()\t                Determines whether one set is a superset of the other\n",
        "\"\"\""
      ],
      "metadata": {
        "id": "KkS_Gl8w_tnI"
      },
      "execution_count": null,
      "outputs": []
    },
    {
      "cell_type": "markdown",
      "source": [
        "add() method adds a single item to a set. This method does not return anything; it updates the set in place."
      ],
      "metadata": {
        "id": "z9MJerEqAEiX"
      }
    },
    {
      "cell_type": "code",
      "source": [
        "S = {'red', 'green', 'blue'}\n",
        "S.add('yellow')\n",
        "print(S)  # {'blue', 'green', 'yellow', 'red'}\n",
        "\n",
        "S = {'red', 'green', 'blue'}\n",
        "S.add('red')\n",
        "print(S)  # {'blue', 'green', 'red'}\n",
        "\n",
        "S = {'red', 'green', 'blue'}\n",
        "S.add((1, 2))\n",
        "print(S)  # {'blue', (1, 2), 'green', 'red'}\n",
        "\n",
        "S = {'red', 'green', 'blue'}\n",
        "S.add([1, 2]) # Triggers TypeError: unhashable type: 'list'"
      ],
      "metadata": {
        "id": "-T-rUAjZAGOs"
      },
      "execution_count": null,
      "outputs": []
    },
    {
      "cell_type": "markdown",
      "source": [
        "update() add multiple items to a set."
      ],
      "metadata": {
        "id": "_YpcuDt5Ar0c"
      }
    },
    {
      "cell_type": "code",
      "source": [
        "S = {'red', 'green', 'blue'}\n",
        "S.update(['yellow', 'orange'])\n",
        "print(S)  # {'blue', 'orange', 'green', 'yellow', 'red'}"
      ],
      "metadata": {
        "id": "S46z6-OCAvx9"
      },
      "execution_count": null,
      "outputs": []
    },
    {
      "cell_type": "markdown",
      "source": [
        "clear() method to remove all items from the set."
      ],
      "metadata": {
        "id": "6pSu9-ZsBG3G"
      }
    },
    {
      "cell_type": "code",
      "source": [
        "S = {'red', 'green', 'blue'}\n",
        "S.clear()\n",
        "print(S)  # set()"
      ],
      "metadata": {
        "id": "fI6GIphDBOcC"
      },
      "execution_count": null,
      "outputs": []
    },
    {
      "cell_type": "markdown",
      "source": [
        "copy() method returns the Shallow copy of the specified set."
      ],
      "metadata": {
        "id": "V20Hh35IBXgB"
      }
    },
    {
      "cell_type": "code",
      "source": [
        "S = {'red', 'green', 'blue'}\n",
        "x = S.copy()\n",
        "print(x)  # {'blue', 'green', 'red'}"
      ],
      "metadata": {
        "id": "LnCVqzFvBZZ7"
      },
      "execution_count": null,
      "outputs": []
    },
    {
      "cell_type": "markdown",
      "source": [
        "copy() vs assignment"
      ],
      "metadata": {
        "id": "P-r1xt2ZBfg8"
      }
    },
    {
      "cell_type": "code",
      "source": [
        "old_Set = {'red', 'green', 'blue'}\n",
        "new_Set = old_Set.copy()\n",
        "new_Set.remove('red')\n",
        "print(old_Set)  # {'blue', 'green', 'red'}\n",
        "print(new_Set)  # {'blue', 'green'}"
      ],
      "metadata": {
        "id": "-yljXtFfBhsA"
      },
      "execution_count": null,
      "outputs": []
    },
    {
      "cell_type": "markdown",
      "source": [
        "difference() method returns a new set of items that are in the original set but not in any of the specified sets."
      ],
      "metadata": {
        "id": "sPG-ZKuRBoDZ"
      }
    },
    {
      "cell_type": "code",
      "source": [
        "A = {'red', 'green', 'blue'}\n",
        "B = {'yellow', 'red', 'orange'}\n",
        "print(A.difference(B))  # {'blue', 'green'}\n",
        "\n",
        "# alternative\n",
        "A = {'red', 'green', 'blue'}\n",
        "B = {'yellow', 'red', 'orange'}\n",
        "print(A.difference(B))  # {'blue', 'green'}\n",
        "print(A - B)  # {'blue', 'green'}\n",
        "\n",
        "# Difference between Multiple Sets\n",
        "A = {'red', 'green', 'blue'}\n",
        "B = {'yellow', 'orange', 'red'}\n",
        "C = {'blue', 'red', 'black'}\n",
        "print(A.difference(B,C))  # {'green'}\n",
        "print(A - B - C)  # {'green'}"
      ],
      "metadata": {
        "id": "o7DqZT6NBotd"
      },
      "execution_count": null,
      "outputs": []
    },
    {
      "cell_type": "markdown",
      "source": [
        "difference_update() method updates the set by removing items found in specified sets."
      ],
      "metadata": {
        "id": "-0Wa38lICBp8"
      }
    },
    {
      "cell_type": "code",
      "source": [
        "# Remove items from A found in B\n",
        "A = {'red', 'green', 'blue'}\n",
        "B = {'yellow', 'red', 'orange'}\n",
        "A.difference_update(B)\n",
        "print(A)  # {'blue', 'green'}\n",
        "\n",
        "# alternative\n",
        "A = {'red', 'green', 'blue'}\n",
        "B = {'yellow', 'red', 'orange'}\n",
        "A -= B\n",
        "print(A)  # {'blue', 'green'}\n",
        "\n",
        "# Method with Multiple Sets\n",
        "A = {'red', 'green', 'blue'}\n",
        "B = {'yellow', 'orange', 'red'}\n",
        "C = {'blue', 'red', 'black'}\n",
        "A.difference_update(B,C)\n",
        "print(A)  # {'green'}\n",
        "A -= B | C\n",
        "print(A)  # {'green'}"
      ],
      "metadata": {
        "id": "kPrcKh3eCCON"
      },
      "execution_count": null,
      "outputs": []
    },
    {
      "cell_type": "markdown",
      "source": [
        "discard() method removes a specified item from the set."
      ],
      "metadata": {
        "id": "csyyoykzCc3o"
      }
    },
    {
      "cell_type": "code",
      "source": [
        "S = {'red', 'green', 'blue'}\n",
        "S.discard('red')\n",
        "print(S)  # {'blue', 'green'}\n",
        "\n",
        "S = {'red', 'green', 'blue'}\n",
        "S.discard('yellow')\n",
        "print(S)  # {'blue', 'green', 'red'}\n",
        "\n",
        "# discard() vs remove()\n",
        "# Both methods work exactly the same. The only difference is that, the remove() method raises KeyError, if specified item doesn’t exist in a set."
      ],
      "metadata": {
        "id": "fYuComqZCdcZ"
      },
      "execution_count": null,
      "outputs": []
    },
    {
      "cell_type": "markdown",
      "source": [
        "intersection() method returns a new set of items that are common to all the specified sets."
      ],
      "metadata": {
        "id": "YN5FzK_8CsWl"
      }
    },
    {
      "cell_type": "code",
      "source": [
        "A = {'red', 'green', 'blue'}\n",
        "B = {'yellow', 'red', 'orange'}\n",
        "print(A.intersection(B))  # {'red'}\n",
        "\n",
        "# alternate\n",
        "A = {'red', 'green', 'blue'}\n",
        "B = {'yellow', 'red', 'orange'}\n",
        "print(A.intersection(B))  # {'red'}\n",
        "print(A & B)  # {'red'}\n",
        "\n",
        "# intersection of multiple sets\n",
        "A = {'red', 'green', 'blue'}\n",
        "B = {'yellow', 'orange', 'red'}\n",
        "C = {'blue', 'red', 'black'}\n",
        "print(A.intersection(B,C))  # {'red'}\n",
        "print(A & B & C)  # {'red'}"
      ],
      "metadata": {
        "id": "XANkt3P7Cs7Z"
      },
      "execution_count": null,
      "outputs": []
    },
    {
      "cell_type": "markdown",
      "source": [
        "intersection_update() method updates the set by removing the items that are not common to all the specified sets."
      ],
      "metadata": {
        "id": "BzgLsF1vnKOA"
      }
    },
    {
      "cell_type": "code",
      "source": [
        "A = {'red', 'green', 'blue'}\n",
        "B = {'yellow', 'red', 'orange'}\n",
        "A.intersection_update(B)\n",
        "print(A)  # {'red'}\n",
        "\n",
        "# alternate\n",
        "A = {'red', 'green', 'blue'}\n",
        "B = {'yellow', 'red', 'orange'}\n",
        "A &= B\n",
        "print(A)  # {'red'}\n",
        "\n",
        "# multiple sets\n",
        "A = {'red', 'green', 'blue'}\n",
        "B = {'yellow', 'orange', 'red'}\n",
        "C = {'blue', 'red', 'black'}\n",
        "A.intersection_update(B,C)\n",
        "print(A)  # {'red'}\n",
        "A &= B & C\n",
        "print(A)  # {'red'}"
      ],
      "metadata": {
        "id": "grQv_ODvnLJw"
      },
      "execution_count": null,
      "outputs": []
    },
    {
      "cell_type": "markdown",
      "source": [
        "isdisjoint() method returns True if two sets have no items in common, otherwise FALSE."
      ],
      "metadata": {
        "id": "5IIMJlSynnKI"
      }
    },
    {
      "cell_type": "code",
      "source": [
        "A = {'green', 'blue', 'purple'}\n",
        "B = {'yellow', 'red', 'orange'}\n",
        "print(A.isdisjoint(B))  # True\n",
        "\n",
        "A = {'red', 'green', 'blue'}\n",
        "B = {'yellow', 'red', 'orange'}\n",
        "print(A.isdisjoint(B))  # False"
      ],
      "metadata": {
        "id": "oJk_lJurnol3"
      },
      "execution_count": null,
      "outputs": []
    },
    {
      "cell_type": "markdown",
      "source": [
        "issubset() method returns True if all items in the set are present in the specified set, otherwise FALSE."
      ],
      "metadata": {
        "id": "ZpqXUSSNn0_Z"
      }
    },
    {
      "cell_type": "code",
      "source": [
        "A = {'yellow', 'red'}\n",
        "B = {'red', 'green', 'blue', 'yellow'}\n",
        "print(A.issubset(B))  # True\n",
        "\n",
        "# alternative\n",
        "A = {'yellow', 'red'}\n",
        "B = {'red', 'green', 'blue', 'yellow'}\n",
        "print(A <= B) # True\n",
        "\n",
        "# find proper subset\n",
        "# Check if A is a proper subset of B\n",
        "A = {'yellow', 'red'}\n",
        "B = {'red', 'green', 'blue', 'yellow'}\n",
        "print(A < B)  # True\n",
        "\n",
        "# Check if A is a proper subset of B\n",
        "A = {'yellow', 'red'}\n",
        "B = {'yellow', 'red'}\n",
        "print(A < B)  # False"
      ],
      "metadata": {
        "id": "UfXfV56Tn1tR"
      },
      "execution_count": null,
      "outputs": []
    },
    {
      "cell_type": "markdown",
      "source": [
        "issuperset() method returns True if all items in the specified set are present in the original set, otherwise FALSE."
      ],
      "metadata": {
        "id": "bmDMxk6hoOiy"
      }
    },
    {
      "cell_type": "code",
      "source": [
        "A = {'red', 'green', 'blue', 'yellow'}\n",
        "B = {'yellow', 'red'}\n",
        "print(A.issuperset(B))  # True\n",
        "\n",
        "# alternate\n",
        "A = {'red', 'green', 'blue', 'yellow'}\n",
        "B = {'yellow', 'red'}\n",
        "print(A >= B) # True\n",
        "\n",
        "# find proper superset\n",
        "# Check if A is a proper superset of B\n",
        "A = {'red', 'green', 'blue', 'yellow'}\n",
        "B = {'yellow', 'red'}\n",
        "print(A > B)  # True\n",
        "\n",
        "# Check if A is a proper superset of B\n",
        "A = {'yellow', 'red'}\n",
        "B = {'yellow', 'red'}\n",
        "print(A > B)  # False"
      ],
      "metadata": {
        "id": "MxWMxEgEoO-O"
      },
      "execution_count": null,
      "outputs": []
    },
    {
      "cell_type": "markdown",
      "source": [
        "pop() method removes random item from a set and returns it. If the set is empty, the method raises KeyError."
      ],
      "metadata": {
        "id": "VlSw9jFwoerz"
      }
    },
    {
      "cell_type": "code",
      "source": [
        "S = {'red', 'green', 'blue'}\n",
        "S.pop()\n",
        "print(S)  # {'green', 'red'}\n",
        "\n",
        "S = {'red', 'green', 'blue'}\n",
        "x = S.pop()\n",
        "print(x)  # blue\n",
        "\n",
        "S = set()\n",
        "S.pop() # Triggers KeyError: 'pop from an empty set'"
      ],
      "metadata": {
        "id": "1twOfRM8ofOz"
      },
      "execution_count": null,
      "outputs": []
    },
    {
      "cell_type": "markdown",
      "source": [
        "remove() method removes a specified item from the set."
      ],
      "metadata": {
        "id": "RHPnI5GmowSR"
      }
    },
    {
      "cell_type": "code",
      "source": [
        "S = {'red', 'green', 'blue'}\n",
        "S.remove('red')\n",
        "print(S)  # {'blue', 'green'}\n",
        "\n",
        "S = {'red', 'green', 'blue'}\n",
        "S.remove('yellow')\n",
        "print(S)  # Triggers KeyError: 'yellow'"
      ],
      "metadata": {
        "id": "XLu3Rdlrow7x"
      },
      "execution_count": null,
      "outputs": []
    },
    {
      "cell_type": "markdown",
      "source": [
        "remove() vs discard()\n",
        "Both methods work exactly the same. The only difference is that the discard() method doesn’t raise any error if specified item doesn’t exist in a set."
      ],
      "metadata": {
        "id": "Qxz_dhcrpF3H"
      }
    },
    {
      "cell_type": "code",
      "source": [
        "S = {'red', 'green', 'blue'}\n",
        "S.discard('yellow')\n",
        "print(S)  # {'blue', 'green', 'red'}"
      ],
      "metadata": {
        "id": "7IhI8-4CpGwA"
      },
      "execution_count": null,
      "outputs": []
    },
    {
      "cell_type": "markdown",
      "source": [
        "symmetric_difference() method returns a new set containing all items from both the sets, except common items."
      ],
      "metadata": {
        "id": "p2X_zQDApN99"
      }
    },
    {
      "cell_type": "code",
      "source": [
        "A = {'red', 'green', 'blue'}\n",
        "B = {'yellow', 'red', 'orange'}\n",
        "print(A.symmetric_difference(B))  # {'orange', 'blue', 'green', 'yellow'}\n",
        "\n",
        "# alternate\n",
        "A = {'red', 'green', 'blue'}\n",
        "B = {'yellow', 'red', 'orange'}\n",
        "print(A.symmetric_difference(B))  # {'orange', 'blue', 'green', 'yellow'}\n",
        "print(A ^ B)  # {'orange', 'blue', 'green', 'yellow'}\n",
        "\n",
        "# multiple sets\n",
        "A = {'red', 'green', 'blue'}\n",
        "B = {'yellow', 'orange'}\n",
        "C = {'blue', 'red', 'black'}\n",
        "print(A ^ B ^ C)  # {'orange', 'black', 'green', 'yellow'}"
      ],
      "metadata": {
        "id": "kr2XDQ2SpTfj"
      },
      "execution_count": null,
      "outputs": []
    },
    {
      "cell_type": "markdown",
      "source": [
        "symmetric_difference_update() method updates the set by keeping only elements found in either set, but not in both."
      ],
      "metadata": {
        "id": "Tvd9W6RWpk7Q"
      }
    },
    {
      "cell_type": "code",
      "source": [
        "A = {'red', 'green', 'blue'}\n",
        "B = {'yellow', 'red', 'orange'}\n",
        "A.symmetric_difference_update(B)\n",
        "print(A)  # {'blue', 'orange', 'green', 'yellow'}\n",
        "\n",
        "# alternate\n",
        "A = {'red', 'green', 'blue'}\n",
        "B = {'yellow', 'red', 'orange'}\n",
        "A ^= B\n",
        "print(A)  # {'blue', 'orange', 'green', 'yellow'}"
      ],
      "metadata": {
        "id": "NV4adY12plod"
      },
      "execution_count": null,
      "outputs": []
    },
    {
      "cell_type": "markdown",
      "source": [
        "symmetric_difference_update() method updates the set by keeping only elements found in either set, but not in both."
      ],
      "metadata": {
        "id": "J3NG88Xxp3Ml"
      }
    },
    {
      "cell_type": "code",
      "source": [
        "A = {'red', 'green', 'blue'}\n",
        "B = {'yellow', 'red', 'orange'}\n",
        "A.symmetric_difference_update(B)\n",
        "print(A)  # {'blue', 'orange', 'green', 'yellow'}\n",
        "\n",
        "# alternate\n",
        "A = {'red', 'green', 'blue'}\n",
        "B = {'yellow', 'red', 'orange'}\n",
        "A ^= B\n",
        "print(A)  # {'blue', 'orange', 'green', 'yellow'}"
      ],
      "metadata": {
        "id": "RacDK9tRp3uy"
      },
      "execution_count": null,
      "outputs": []
    },
    {
      "cell_type": "markdown",
      "source": [
        "union() method returns a new set containing all items from all the specified sets, with no duplicates."
      ],
      "metadata": {
        "id": "bNL6256vqMRT"
      }
    },
    {
      "cell_type": "code",
      "source": [
        "A = {'red', 'green', 'blue'}\n",
        "B = {'yellow', 'red', 'orange'}\n",
        "print(A.union(B)) # {'blue', 'green', 'yellow', 'orange', 'red'}\n",
        "\n",
        "# alternate\n",
        "A = {'red', 'green', 'blue'}\n",
        "B = {'yellow', 'red', 'orange'}\n",
        "print(A.union(B)) # {'blue', 'green', 'yellow', 'orange', 'red'}\n",
        "print(A | B)  # {'blue', 'green', 'yellow', 'orange', 'red'}\n",
        "\n",
        "# multiple sets\n",
        "A = {'red', 'green', 'blue'}\n",
        "B = {'yellow', 'orange', 'red'}\n",
        "C = {'blue', 'red', 'black'}\n",
        "print(A.union(B,C)) # {'blue', 'green', 'yellow', 'orange', 'black', 'red'}\n",
        "print(A | B | C)  # {'blue', 'green', 'yellow', 'orange', 'black', 'red'}"
      ],
      "metadata": {
        "id": "4qIuOihUqMzO"
      },
      "execution_count": null,
      "outputs": []
    },
    {
      "cell_type": "markdown",
      "source": [
        "update() method updates the original set by adding items from all the specified sets, with no duplicates."
      ],
      "metadata": {
        "id": "BaRB70FsqnG8"
      }
    },
    {
      "cell_type": "code",
      "source": [
        "A = {'red', 'green', 'blue'}\n",
        "B = {'yellow', 'red', 'orange'}\n",
        "A.update(B)\n",
        "print(A)  # {'blue', 'green', 'yellow', 'orange', 'red'}\n",
        "\n",
        "# alternate\n",
        "A = {'red', 'green', 'blue'}\n",
        "B = {'yellow', 'red', 'orange'}\n",
        "A |= B\n",
        "print(A)  # {'blue', 'green', 'yellow', 'orange', 'red'}\n",
        "\n",
        "# multiple sets\n",
        "A = {'red', 'green', 'blue'}\n",
        "B = {'yellow', 'orange', 'red'}\n",
        "C = {'blue', 'red', 'black'}\n",
        "A.update(B,C)\n",
        "print(A)  # {'blue', 'green', 'yellow', 'orange', 'black', 'red'}\n",
        "A |= B | C\n",
        "print(A)  # {'blue', 'green', 'yellow', 'orange', 'black', 'red'}"
      ],
      "metadata": {
        "id": "XrDStAXHqn6n"
      },
      "execution_count": null,
      "outputs": []
    },
    {
      "cell_type": "markdown",
      "source": [
        "Built-in functions with Set"
      ],
      "metadata": {
        "id": "wgzN8i2a_ZXW"
      }
    },
    {
      "cell_type": "code",
      "source": [
        "\"\"\"\n",
        "Method\t    Description\n",
        "all()\t      Returns True if all items in a set are true\n",
        "any()\t      Returns True if any item in a set is true\n",
        "enumerate()\tTakes a set and returns an enumerate object\n",
        "len()\t      Returns the number of items in the set\n",
        "max()\t      Returns the largest item of the set\n",
        "min()\t      Returns the smallest item of the set\n",
        "sorted()\t  Returns a sorted set\n",
        "sum()\t      Sums items of the set\n",
        "\"\"\""
      ],
      "metadata": {
        "id": "jAL0F3ta_b3x"
      },
      "execution_count": null,
      "outputs": []
    },
    {
      "cell_type": "markdown",
      "source": [
        "# Python Try Except"
      ],
      "metadata": {
        "id": "jOkDzDA0sihh"
      }
    },
    {
      "cell_type": "markdown",
      "source": [
        "Use Python try...except statement to handle exceptions gracefully.\n",
        "Use specific exceptions in the except block as much as possible.\n",
        "Use the except Exception statement to catch other exceptions."
      ],
      "metadata": {
        "id": "9lO0EhTPsomP"
      }
    },
    {
      "cell_type": "code",
      "source": [
        "try:\n",
        "    # get input net sales\n",
        "    print('Enter the net sales for')\n",
        "\n",
        "    previous = float(input('- Prior period:'))\n",
        "    current = float(input('- Current period:'))\n",
        "\n",
        "    # calculate the change in percentage\n",
        "    change = (current - previous) * 100 / previous\n",
        "\n",
        "    # show the result\n",
        "    if change > 0:\n",
        "        result = f'Sales increase {abs(change)}%'\n",
        "    else:\n",
        "        result = f'Sales decrease {abs(change)}%'\n",
        "\n",
        "    print(result)\n",
        "except ValueError:\n",
        "    print('Error! Please enter a number for net sales.')"
      ],
      "metadata": {
        "id": "AIYQOUn-tLuV"
      },
      "execution_count": null,
      "outputs": []
    },
    {
      "cell_type": "code",
      "source": [
        "try:\n",
        "    # get input net sales\n",
        "    print('Enter the net sales for')\n",
        "\n",
        "    previous = float(input('- Prior period:'))\n",
        "    current = float(input('- Current period:'))\n",
        "\n",
        "    # calculate the change in percentage\n",
        "    change = (current - previous) * 100 / previous\n",
        "\n",
        "    # show the result\n",
        "    if change > 0:\n",
        "        result = f'Sales increase {abs(change)}%'\n",
        "    else:\n",
        "        result = f'Sales decrease {abs(change)}%'\n",
        "\n",
        "    print(result)\n",
        "except ValueError:\n",
        "    print('Error! Please enter a number for net sales.')\n",
        "except ZeroDivisionError:\n",
        "    print('Error! The prior net sales cannot be zero.')\n",
        "except Exception as error:\n",
        "    print(error)"
      ],
      "metadata": {
        "id": "AY4OETyetR-y"
      },
      "execution_count": null,
      "outputs": []
    },
    {
      "cell_type": "markdown",
      "source": [
        "Use Python try...catch...finally statement to execute a code block whether an exception occurs or not.\n",
        "Use the finally clause to clean up the resources such as closing files."
      ],
      "metadata": {
        "id": "MmgY6P7vtZM-"
      }
    },
    {
      "cell_type": "code",
      "source": [
        "a = 10\n",
        "b = 0\n",
        "\n",
        "try:\n",
        "    c = a / b\n",
        "    print(c)\n",
        "except ZeroDivisionError as error:\n",
        "    print(error)\n",
        "finally:\n",
        "    print('Finishing up.')"
      ],
      "metadata": {
        "id": "4mEHNLl-tdMF"
      },
      "execution_count": null,
      "outputs": []
    },
    {
      "cell_type": "markdown",
      "source": [
        "Use the Python try...except...else statement provides you with a way to control the flow of the program in case of exceptions.\n",
        "The else clause executes if no exception occurs in the try clause.\n",
        "If so, the else clause executes after the try clause and before the finally clause."
      ],
      "metadata": {
        "id": "OKi0vQfYtzS-"
      }
    },
    {
      "cell_type": "code",
      "source": [
        "def main():\n",
        "    try:\n",
        "        height = float(input('Enter your height (meters):'))\n",
        "        weight = float(input('Enter your weight (kilograms):'))\n",
        "\n",
        "    except ValueError as error:\n",
        "        print('Error! please enter a valid number.')\n",
        "    else:\n",
        "        bmi = round(calculate_bmi(height, weight), 1)\n",
        "        evaluation = evaluate_bmi(bmi)\n",
        "\n",
        "        print(f'Your body mass index is {bmi}')\n",
        "        print(f'This is considered {evaluation}!')"
      ],
      "metadata": {
        "id": "mVScVkKVt0L_"
      },
      "execution_count": null,
      "outputs": []
    },
    {
      "cell_type": "markdown",
      "source": [
        "all together"
      ],
      "metadata": {
        "id": "cIklZBUXt9v1"
      }
    },
    {
      "cell_type": "code",
      "source": [
        "fruits = {\n",
        "    'apple': 10,\n",
        "    'orange': 20,\n",
        "    'banana': 30\n",
        "}\n",
        "\n",
        "key = None\n",
        "while True:\n",
        "    try:\n",
        "        key = input('Enter a key to lookup:')\n",
        "        fruit = fruits[key.lower()]\n",
        "    except KeyError:\n",
        "        print(f'Error! {key} does not exist.')\n",
        "    except KeyboardInterrupt:\n",
        "        break\n",
        "    else:\n",
        "        print(fruit)\n",
        "    finally:\n",
        "        print('Press Ctrl-C to exit.')"
      ],
      "metadata": {
        "id": "34loxOGZt_Vn"
      },
      "execution_count": null,
      "outputs": []
    },
    {
      "cell_type": "markdown",
      "source": [
        "# Python Module Package"
      ],
      "metadata": {
        "id": "FLgGByeUwRMf"
      }
    },
    {
      "cell_type": "markdown",
      "source": [
        "A module is a piece of software that has a specific functionality. A Python module is a file that contains Python code. For example, when building a shopping cart application, you can have one module for calculating prices and another module for managing items in the cart. Each module is a separate Python source code file."
      ],
      "metadata": {
        "id": "Pwf1EB7wwVma"
      }
    },
    {
      "cell_type": "code",
      "source": [
        "# ------------------------------- writing module\n",
        "# pricing.py\n",
        "def get_net_price(price, tax_rate, discount=0):\n",
        "    return price * (1 + tax_rate) * (1-discount)\n",
        "def get_tax(price, tax_rate=0):\n",
        "    return price * tax_rate\n",
        "\n",
        "# ------------------------------- importing module\n",
        "import pricing;\n",
        "net_price = pricing.get_net_price(\n",
        "    price=100,\n",
        "    tax_rate=0.01\n",
        ")\n",
        "\n",
        "# ------------------------------- importing module as new name\n",
        "import pricing as selling_price\n",
        "net_price = selling_price.get_net_price(\n",
        "    price=100,\n",
        "    tax_rate=0.01\n",
        ")\n",
        "\n",
        "# ------------------------------- reference object\n",
        "# If you want to reference objects in a module without prefixing the module name, you can explicitly import them\n",
        "from pricing import get_net_price;\n",
        "net_price = get_net_price(price=100, tax_rate=0.01)\n",
        "\n",
        "# ------------------------------- rename imported object\n",
        "from pricing import get_net_price as calculate_net_price\n",
        "\n",
        "# ------------------------------- import all objects\n",
        "from pricing import *\n",
        "\n",
        "# ------------------------------- importing package\n",
        "import package.module\n",
        "# And to access an object from a module that belongs to a package, you use the dot notation:\n",
        "package.module.function\n",
        "\n",
        "# main.py\n",
        "import sales.order\n",
        "import sales.delivery\n",
        "import sales.billing\n",
        "\n",
        "sales.order.create_sales_order()\n",
        "sales.delivery.create_delivery()\n",
        "sales.billing.create_billing()\n",
        "\n",
        "# main.py\n",
        "from sales.order import create_sales_order\n",
        "from sales.delivery import create_delivery\n",
        "from sales.billing import create_billing\n",
        "\n",
        "create_sales_order()\n",
        "create_delivery()\n",
        "create_billing()\n",
        "\n",
        "# main.py\n",
        "from sales.order import create_sales_order as create_order\n",
        "from sales.delivery import create_delivery as start_delivery\n",
        "from sales.billing import create_billing as issue_billing\n",
        "\n",
        "create_order()\n",
        "start_delivery()\n",
        "issue_billing()\n",
        "\n",
        "# ------------------------------- __name__\n",
        "# Since the __name__ variable has double underscores at both sides, it’s called dunder name. The dunder stands for\n",
        "# double underscores\n",
        "\n",
        "# The __name__ is a special variable in Python. It’s special because Python assigns a different value to it depending\n",
        "# on how its containing script executes.\n",
        "\n",
        "# When you import a module, Python executes the file associated with the module.\n",
        "\n",
        "# Often, you want to write a script that can be executed directly or imported as a module. The __name__ variable allows\n",
        "# you to do that. ex - if __name__ == '__main__' run function else not in specific file. __main__ means file not imported\n",
        "# as modules\n",
        "\n",
        "# When you run the script directly, Python sets the __name__ variable to '__main__'.\n",
        "\n",
        "# it is main entry point of python file.\n",
        "# utility.py\n",
        "print('from utility', __name__);\n",
        "\n",
        "# caller.py\n",
        "import utility;\n",
        "print('from caller', __name__);\n",
        "\n",
        "'''\n",
        "python3 utility.py\n",
        "print -> 'from utility', __main__\n",
        "\n",
        "python3 caller.py\n",
        "print -> 'from utility', utility\n",
        "print -> 'from caller', __main__\n",
        "'''\n",
        "\n",
        "# ------------------------------- when you import a module it executes all the functions as we have main()\n",
        "'''\n",
        "utils.py ------------------\n",
        "    def add():\n",
        "        print('adding...')\n",
        "\n",
        "    def sub():\n",
        "        print('subtracting...')\n",
        "\n",
        "    def main():\n",
        "        add()\n",
        "        sub()\n",
        "\n",
        "main()\n",
        "\n",
        "main.py ------------------\n",
        "    from utils import add\n",
        "    def f1():\n",
        "        add()\n",
        "        print('f1...')\n",
        "\n",
        "    def f2():\n",
        "        print('f2...')\n",
        "\n",
        "    def main():\n",
        "        f1()\n",
        "        f2()\n",
        "\n",
        "    main()\n",
        "\n",
        "python3 main.py\n",
        "result\n",
        "    adding...\n",
        "    subtracting...\n",
        "    adding...\n",
        "    f1...\n",
        "    f2...\n",
        "\n",
        "# to fix that issue\n",
        "utils.py ------------------\n",
        "    def add():\n",
        "        print('adding...')\n",
        "\n",
        "    def sub():\n",
        "        print('subtracting...')\n",
        "\n",
        "    def main():\n",
        "        add()\n",
        "        sub()\n",
        "\n",
        "if (__name__ == '__main__'): (i.e if i'm running this file standalone, only that tim execute all functions of it)\n",
        "    main()\n",
        "'''"
      ],
      "metadata": {
        "id": "ddBWZNhdwjub"
      },
      "execution_count": null,
      "outputs": []
    },
    {
      "cell_type": "markdown",
      "source": [
        "# Python *args and *kwargs"
      ],
      "metadata": {
        "id": "p7xJj66Z8YOh"
      }
    },
    {
      "cell_type": "markdown",
      "source": [
        "*args"
      ],
      "metadata": {
        "id": "uAYUbPdh8eUy"
      }
    },
    {
      "cell_type": "code",
      "source": [
        "# When a function has a parameter preceded by an asterisk (*), it can accept a variable number of arguments.\n",
        "def add(*args):\n",
        "    print(type(args)) # <class 'tuple'>\n",
        "    print(args) # ()\n",
        "add()\n",
        "\n",
        "def add(*args):\n",
        "    print(type(args)) # <class 'tuple'>\n",
        "    print(args) # (1, 2, 3)\n",
        "add(1,2,3)\n",
        "\n",
        "def point(x, y):\n",
        "    return f\"{x}{y}\";\n",
        "a = (0, 0);\n",
        "print(point(a)) # throws error - TypeError: point() missing 1 required positional argument: 'y'\n",
        "\n",
        "def point(x, y):\n",
        "    return f'({x},{y})'\n",
        "a = (0, 0)\n",
        "print(point(*a))"
      ],
      "metadata": {
        "id": "ORizt-sX8lsn"
      },
      "execution_count": null,
      "outputs": []
    },
    {
      "cell_type": "markdown",
      "source": [
        "*kwargs"
      ],
      "metadata": {
        "id": "NuBn6Jw-8x8D"
      }
    },
    {
      "cell_type": "code",
      "source": [
        "# When a function has the **kwargs parameter, it can accept a variable number of keyword arguments as a dictionary.\n",
        "def connect(**kwargs):\n",
        "    print(type(kwargs)) # <class 'dict'>\n",
        "    print(kwargs) # {}\n",
        "\n",
        "def fn(*args, **kwargs):\n",
        "    print(args)     # (1, 2)\n",
        "    print(kwargs)   # {'x': 10, 'y': 20}\n",
        "fn(1, 2, x=10, y=20)\n",
        "\n",
        "def connect(**kwargs):\n",
        "    print(kwargs)\n",
        "config = {\n",
        "    'server': 'localhost',\n",
        "    'port': 3306,\n",
        "    'user': 'root',\n",
        "    'password': 'Py1thon!Xt12'\n",
        "}\n",
        "connect(**config)\n",
        "# {\n",
        "#     'server': 'localhost',\n",
        "#     'port': 3306,\n",
        "#     'user': 'root',\n",
        "#     'password': 'Py1thon!Xt12'\n",
        "# }"
      ],
      "metadata": {
        "id": "qBPAMbnZ8zce"
      },
      "execution_count": null,
      "outputs": []
    },
    {
      "cell_type": "markdown",
      "source": [
        "# Python OOPs"
      ],
      "metadata": {
        "id": "Pc54OnXU956V"
      }
    },
    {
      "cell_type": "markdown",
      "source": [
        "Object - An object is a container that contains data and functionality. An object is container that contains state and behavior.\n",
        "\n",
        "The data represents the object at a particular moment in time. Therefore, the data of an object is called the state. Python uses attributes to model the state of an object.\n",
        "\n",
        "The functionality represents the behaviors of an object. Python uses functions to model the behaviors. When a function is associated with an object, it becomes a method of the object.\n",
        "\n",
        "In other words, an object is a container that contains the state and methods.\n",
        "\n",
        "Before creating objects, you define a class first. And from the class, you can create one or more objects. The objects of a class are also called instances of a class."
      ],
      "metadata": {
        "id": "cGVbksj1GKAz"
      }
    },
    {
      "cell_type": "markdown",
      "source": [
        "A class is also an object in Python. Everything in Python is an object, including classes. When you define a class using the class keyword, Python creates an object with the name the same as the class’s name."
      ],
      "metadata": {
        "id": "VyNGAE5-Gho2"
      }
    },
    {
      "cell_type": "code",
      "source": [
        "class HtmlDocument:\n",
        "   pass\n",
        "\n",
        "print(HtmlDocument.__name__)          # HtmlDocument\n",
        "print(type(HtmlDocument))             # <class 'type'>\n",
        "print(isinstance(HtmlDocument, type)) # True"
      ],
      "metadata": {
        "id": "hr-K43VWGyxw"
      },
      "execution_count": null,
      "outputs": []
    },
    {
      "cell_type": "markdown",
      "source": [
        "Get the values of class variables"
      ],
      "metadata": {
        "id": "x6em3GOBIAsK"
      }
    },
    {
      "cell_type": "code",
      "source": [
        "class HtmlDocument:\n",
        "    extension = 'html'\n",
        "    version = '5'\n",
        "\n",
        "print(HtmlDocument.extension) # html\n",
        "print(HtmlDocument.version)   # 5\n",
        "\n",
        "# If you access a class variable that doesn’t exist, you’ll get an AttributeError exception.\n",
        "HtmlDocument.media_type # AttributeError: type object 'HtmlDocument' has no attribute 'media_type'\n",
        "\n",
        "# Another way to get the value of a class variable is to use the getattr() function.\n",
        "# The getattr() function accepts an object and a variable name. It returns the value of the class variable.\n",
        "extension = getattr(HtmlDocument, 'extension')\n",
        "version = getattr(HtmlDocument, 'version')\n",
        "print(extension)  # html\n",
        "print(version)    # 5\n",
        "\n",
        "# If the class variable doesn’t exist, you’ll also get an AttributeError exception.\n",
        "# To avoid the exception, you can specify a default value if the class variable doesn’t exist like this:\n",
        "media_type = getattr(HtmlDocument, 'media_type', 'text/html')\n",
        "print(media_type) # text/html"
      ],
      "metadata": {
        "id": "4svDYq3EIFdv"
      },
      "execution_count": null,
      "outputs": []
    },
    {
      "cell_type": "markdown",
      "source": [
        "Set values for class variables"
      ],
      "metadata": {
        "id": "Q75sNwbuH5Lw"
      }
    },
    {
      "cell_type": "code",
      "source": [
        "HtmlDocument.version = 10\n",
        "# or\n",
        "setattr(HtmlDocument, 'version', 10)\n",
        "\n",
        "# Since Python is a dynamic language, you can add a class variable to a class at runtime after you have created it.\n",
        "HtmlDocument.media_type = 'text/html'\n",
        "print(HtmlDocument.media_type)  # text/html\n",
        "# or\n",
        "setattr(HtmlDocument, media_type, 'text/html')\n",
        "print(HtmlDocument.media_type)  # text/html"
      ],
      "metadata": {
        "id": "pwanY51hH5xb"
      },
      "execution_count": null,
      "outputs": []
    },
    {
      "cell_type": "markdown",
      "source": [
        "Delete class variables"
      ],
      "metadata": {
        "id": "qQNKEXeCHzQD"
      }
    },
    {
      "cell_type": "code",
      "source": [
        "delattr(HtmlDocument, 'version')\n",
        "# or\n",
        "del HtmlDocument.version"
      ],
      "metadata": {
        "id": "HjhBGLURH2ih"
      },
      "execution_count": null,
      "outputs": []
    },
    {
      "cell_type": "markdown",
      "source": [
        "Class variable storage - Python stores class variables in the __dict__ attribute. The __dict__ is a mapping proxy, which is a dictionary."
      ],
      "metadata": {
        "id": "d52FUGB-INUF"
      }
    },
    {
      "cell_type": "code",
      "source": [
        "from pprint import pprint\n",
        "\n",
        "class HtmlDocument:\n",
        "    extension = 'html'\n",
        "    version = '5'\n",
        "\n",
        "HtmlDocument.media_type = 'text/html'\n",
        "\n",
        "pprint(HtmlDocument.__dict__)\n",
        "# mappingproxy({'__dict__': <attribute '__dict__' of 'HtmlDocument' objects>,\n",
        "#               '__doc__': None,\n",
        "#               '__module__': '__main__',\n",
        "#               '__weakref__': <attribute '__weakref__' of 'HtmlDocument' objects>,\n",
        "#               'extension': 'html',\n",
        "#               'media_type': 'text/html',\n",
        "#               'version': '5'})\n",
        "\n",
        "# Python does not allow you to change the __dict__ directly. For example, the following will result in an error:\n",
        "HtmlDocument.__dict__['released'] = 2008  # TypeError: 'mappingproxy' object does not support item assignment\n",
        "\n",
        "\"\"\"\n",
        "However, you can use the setattr() function or dot notation to indirectly change the __dict__ attribute.\n",
        "Also, the key of the __dict__ are strings that will help Python speeds up the variable lookup.\n",
        "\n",
        "Although Python allows you to access class variables through the __dict__ dictionary, it’s not a good practice. Also, it won’t work in some situations. For example:\n",
        "print(HtmlDocument.__dict__['type']) # BAD CODE\n",
        "\"\"\""
      ],
      "metadata": {
        "id": "jFsfBfO9IN1T"
      },
      "execution_count": null,
      "outputs": []
    },
    {
      "cell_type": "markdown",
      "source": [
        "Methods - By definition, a method is a function that is bound to an instance of a class."
      ],
      "metadata": {
        "id": "C2sCKfHZI176"
      }
    },
    {
      "cell_type": "markdown",
      "source": [
        "The self parameter refers to the individual object itself. It is used to fetch or set attributes of the particular instance.\n",
        "\n",
        "This parameter doesn’t have to be called self, you can call it whatever you want, but it is standard practice, and you should probably stick with it."
      ],
      "metadata": {
        "id": "IAEOF-rVVkib"
      }
    },
    {
      "cell_type": "code",
      "source": [
        "class Request:\n",
        "    def send():\n",
        "        print('Sent')\n",
        "\n",
        "# And you can call the send() function via the Request class like this:\n",
        "Request.send() # Sent\n",
        "\n",
        "print(Request.send) # <function Request.send at 0x00000276F9E00310>\n",
        "print(type(Request.send)) # <class 'function'>\n",
        "\n",
        "# The following creates a new instance of the Request class:\n",
        "http_request = Request()\n",
        "print(http_request.send)  # <bound method Request.send of <__main__.Request object at 0x00000104B6C3D580>>\n",
        "\n",
        "# So the http_request.send is not a function like Request.send.\n",
        "# The following checks if the Request.send is the same object as http_request.send\n",
        "print(type(Request.send) is type(http_request.send))  # False\n",
        "\n",
        "print(type(http_request.send))  # <class 'method'>\n",
        "print(type(Request.send))       # <class 'function'>\n",
        "\n",
        "# So when you define a function inside a class, it’s purely a function. However, when you access that function via an object, the function becomes a method.\n",
        "# Therefore, a method is a function that is bound to an instance of a class.\n",
        "# If you call the send() function via the http_request object, you’ll get a TypeError as follows:\n",
        "http_request.send() # TypeError: send() takes 0 positional arguments but 1 was given\n",
        "\n",
        "# Because the http_request.send is a method that is bound to the http_request object, Python always implicitly passes the object to the method as the first argument.\n",
        "# The following redefines the Request class where the send function accepts a list of arguments:\n",
        "class Request:\n",
        "    def send(*args):\n",
        "        print('Sent', args)\n",
        "Request.send()  # Sent ()\n",
        "\n",
        "# The send() function doesn’t receive any arguments.\n",
        "# However, if you call the send() function from an instance of the Request class, the args is not empty:\n",
        "http_request.send() # Sent (<__main__.Request object at 0x000001374AF4D580>,)\n",
        "\n",
        "# The http_request object is the same as the one Python passes to the send() method as the first argument because they have the same memory address.\n",
        "# In other words, you can access the instance of the class as the first argument inside the send() method:\n",
        "print(hex(id(http_request)))  # 0x1ee3a74d580\n",
        "http_request.send()           # Sent (<__main__.Request object at 0x000001EE3A74D580>,)\n",
        "\n",
        "# For this reason, a method of an object always has the object as the first argument. By convention, it is called self.\n",
        "# If you have worked with other programming languages such as Java or C#, the self is the same as the this object.\n",
        "class Request:\n",
        "    def send(self):\n",
        "        print('Sent', self)"
      ],
      "metadata": {
        "id": "zrL7z2MEI3lL"
      },
      "execution_count": null,
      "outputs": []
    },
    {
      "cell_type": "markdown",
      "source": [
        "`__init__()` - When you create a new object of a class, Python automatically calls the `__init__()` method to initialize the object’s attributes.\n",
        "\n",
        "Unlike regular methods, the `__init__()` method has two underscores (__) on each side. Therefore, the `__init__()` is often called dunder init. The name comes abbreviation of the double underscores init.\n",
        "\n",
        "The double underscores at both sides of the `__init__()` method indicate that Python will use the method internally. In other words, you should not explicitly call this method.\n",
        "\n",
        "Since Python will automatically call the `__init__()` method immediately after creating a new object, you can use the `__init__()` method to initialize the object’s attributes.\n",
        "\n",
        "When you create an instance of the Person class, Python performs two things:\n",
        "\n",
        "* First, create a new instance of the Person class by setting the object’s namespace such as `__dict__` attribute to empty ({}).\n",
        "* Second, call the `__init__` method to initialize the attributes of the newly created object.\n",
        "Note that the `__init__` method doesn’t create the object but only initializes the object’s attributes. Hence, the `__init__()` is not a constructor.\n",
        "\n",
        "If the `__init__` has parameters other than the self, you need to pass the corresponding arguments when creating a new object like the example above. Otherwise, you’ll get an error.\n"
      ],
      "metadata": {
        "id": "j15yjfPaLgh-"
      }
    },
    {
      "cell_type": "code",
      "source": [
        "class Person:\n",
        "    def __init__(self, name, age):\n",
        "        self.name = name\n",
        "        self.age = age\n",
        "\n",
        "if __name__ == '__main__':\n",
        "    person = Person('John', 25)\n",
        "    print(f\"I'm {person.name}. I'm {person.age} years old.\")"
      ],
      "metadata": {
        "id": "eKIkr6KWLijx"
      },
      "execution_count": null,
      "outputs": []
    },
    {
      "cell_type": "markdown",
      "source": [
        "instance variables - In Python, class variables are bound to a class while instance variables are bound to a specific instance of a class. The instance variables are also called instance attributes."
      ],
      "metadata": {
        "id": "1UODFz1qMsvU"
      }
    },
    {
      "cell_type": "code",
      "source": [
        "from pprint import pprint\n",
        "\n",
        "class HtmlDocument:\n",
        "    version = 5\n",
        "    extension = 'html'\n",
        "\n",
        "pprint(HtmlDocument.__dict__)\n",
        "# mappingproxy({'__dict__': <attribute '__dict__' of 'HtmlDocument' objects>,\n",
        "#               '__doc__': None,\n",
        "#               '__module__': '__main__',\n",
        "#               '__weakref__': <attribute '__weakref__' of 'HtmlDocument' objects>,\n",
        "#               'extension': 'html',\n",
        "#               'version': 5})\n",
        "print(HtmlDocument.extension) # html\n",
        "print(HtmlDocument.version)   # 5\n",
        "\n",
        "# The HtmlDocument class has two class variables: extension and version. Python stores these two variables in the __dict__ attribute.\n",
        "# When you access the class variables via the class, Python looks them up in the __dict__ of the class.\n",
        "\n",
        "# The following creates a new instance of the HtmlDocument class:\n",
        "home = HtmlDocument()\n",
        "\n",
        "# The home is an instance of the HtmlDocument class. It has its own __dict__ attribute:\n",
        "pprint(home.__dict__) # {}\n",
        "\n",
        "# The home.__dict__ stores the instance variables of the home object like the HtmlDocument.__dict__ stores the class variables of the HtmlDocument class.\n",
        "# Unlike the __dict__ attribute of a class, the type of the __dict__ attribute of an instance is a dictionary. For example:\n",
        "type(HtmlDocument.__dict__) # <class 'mappingproxy'>\n",
        "type(home.__dict__) # <class 'dict'>"
      ],
      "metadata": {
        "id": "ZfvmcRKFMyRs"
      },
      "execution_count": null,
      "outputs": []
    },
    {
      "cell_type": "markdown",
      "source": [
        "Since a dictionary is mutable, you can mutate it e.g., adding a new element to the dictionary."
      ],
      "metadata": {
        "id": "aSk_SasbOJ9B"
      }
    },
    {
      "cell_type": "code",
      "source": [
        "print(home.extension)\n",
        "print(home.version)\n",
        "\n",
        "# In this case, Python looks up the variables extension and version in home.__dict__ first. If it doesn’t find them there, it’ll go up to the class and look up in the HtmlDocument.__dict__.\n",
        "# However, if Python can find the variables in the __dict__ of the instance, it won’t look further in the __dict__ of the class.\n",
        "\n",
        "home.version = 6\n",
        "print(home.__dict__)  # {'version': 6}\n",
        "\n",
        "# If you change the class variables, these changes also reflect in the instances of the class:\n",
        "HtmlDocument.media_type = 'text/html'\n",
        "print(home.media_type)  # text/html"
      ],
      "metadata": {
        "id": "JY9VFmnPOKdb"
      },
      "execution_count": null,
      "outputs": []
    },
    {
      "cell_type": "markdown",
      "source": [
        "Encapsulation\n",
        "\n",
        "Encapsulation is one of the four fundamental concepts in object-oriented programming including abstraction, encapsulation, inheritance, and polymorphism.\n",
        "\n",
        "Encapsulation is the packing of data and functions that work on that data within a single object. By doing so, you can hide the internal state of the object from the outside. This is known as information hiding.\n",
        "\n",
        "A class is an example of encapsulation. A class bundles data and methods into a single unit. And a class provides the access to its attributes via methods.\n",
        "\n",
        "The idea of information hiding is that if you have an attribute that isn’t visible to the outside, you can control the access to its value to make sure your object is always has a valid state"
      ],
      "metadata": {
        "id": "8Tzxy_CjO-_2"
      }
    },
    {
      "cell_type": "code",
      "source": [
        "class Counter:\n",
        "    def __init__(self):\n",
        "        self.current = 0\n",
        "\n",
        "    def increment(self):\n",
        "        self.current += 1\n",
        "\n",
        "    def value(self):\n",
        "        return self.current\n",
        "\n",
        "    def reset(self):\n",
        "        self.current = 0\n",
        "\n",
        "counter = Counter()\n",
        "\n",
        "counter.increment()\n",
        "counter.increment()\n",
        "counter.increment()\n",
        "\n",
        "print(counter.value())  # 3\n",
        "\n",
        "# It works perfectly fine but has one issue.\n",
        "# From the outside of the Counter class, you still can access the current attribute and change it to whatever you want.\n",
        "counter.current = -999\n",
        "print(counter.value())  # -999\n",
        "\n",
        "\"\"\"\n",
        "Private attributes - can be only accessible from the methods of the class. In other words, they cannot be accessible from outside of the class.\n",
        "Python doesn’t have a concept of private attributes. In other words, all attributes are accessible from the outside of a class.\n",
        "By convention, you can define a private attribute by prefixing a single underscore (_):\n",
        "\"\"\"\n",
        "class Counter:\n",
        "    def __init__(self):\n",
        "        self._current = 0\n",
        "\n",
        "    def increment(self):\n",
        "        self._current += 1\n",
        "\n",
        "    def value(self):\n",
        "        return self._current\n",
        "\n",
        "    def reset(self):\n",
        "        self._current = 0\n",
        "\n",
        "# Name mangling with double underscores\n",
        "# If you prefix an attribute name with double underscores (__) like this: __attribute\n",
        "# Python will automatically change the name of the __attribute to:  _class__attribute\n",
        "\n",
        "# By doing this, you cannot access the __attribute directly from the outside of a class like: instance.__attribute\n",
        "# However, you still can access it using the _class__attribute name:  instance._class__attribute\n",
        "class Counter:\n",
        "    def __init__(self):\n",
        "        self.__current = 0\n",
        "\n",
        "    def increment(self):\n",
        "        self.__current += 1\n",
        "\n",
        "    def value(self):\n",
        "        return self.__current\n",
        "\n",
        "    def reset(self):\n",
        "        self.__current = 0\n",
        "\n",
        "counter = Counter()\n",
        "print(counter._Counter__current)"
      ],
      "metadata": {
        "id": "so12kH9OPIEm"
      },
      "execution_count": null,
      "outputs": []
    },
    {
      "cell_type": "markdown",
      "source": [
        "Class Attributes\n",
        "\n",
        "The Circle class has two attributes pi and radius. It also has two methods that calculate the area and circumference of a circle.\n",
        "\n",
        "Both pi and radius are called instance attributes. In other words, they belong to a specific instance of the Circle class. If you change the attributes of an instance, it won’t affect other instances.\n",
        "\n",
        "Besides instance attributes, Python also supports class attributes. The class attributes don’t associate with any specific instance of the class. But they’re shared by all instances of the class.\n",
        "\n",
        "If you’ve been programming in Java or C#, you’ll see that class attributes are similar to the static members, but not the same."
      ],
      "metadata": {
        "id": "7vgDYUFKSRYV"
      }
    },
    {
      "cell_type": "code",
      "source": [
        "# To define a class attribute, you place it outside of the __init__() method. For example, the following defines pi as a class attribute:\n",
        "class Circle:\n",
        "    # class attribute\n",
        "    pi = 3.14159\n",
        "\n",
        "    # initializer with instance attributes\n",
        "    def __init__(self, radius):\n",
        "        self.radius = radius\n",
        "\n",
        "    def area(self):\n",
        "        return self.pi * self.radius**2\n",
        "\n",
        "    def circumference(self):\n",
        "        return 2 * self.pi * self.radius\n",
        "\n",
        "c = Circle(10)\n",
        "print(c.pi)       # 3.14159\n",
        "print(Circle.pi)  # 3.14159"
      ],
      "metadata": {
        "id": "S2bJNwLASR4S"
      },
      "execution_count": null,
      "outputs": []
    },
    {
      "cell_type": "markdown",
      "source": [
        "How Python class attributes work"
      ],
      "metadata": {
        "id": "umI0zgIPS7gQ"
      }
    },
    {
      "cell_type": "code",
      "source": [
        "\"\"\"\n",
        "When you access an attribute via an instance of the class, Python searches for the attribute in the instance attribute list.\n",
        "If the instance attribute list doesn’t have that attribute, Python continues looking up the attribute in the class attribute list.\n",
        "Python returns the value of the attribute as long as it finds the attribute in the instance attribute list or class attribute list.\n",
        "\n",
        "However, if you access an attribute, Python directly searches for the attribute in the class attribute list.\n",
        "\"\"\"\n",
        "class Test:\n",
        "    x = 10\n",
        "\n",
        "    def __init__(self):\n",
        "        self.x = 20\n",
        "\n",
        "test = Test()\n",
        "print(test.x)  # 20\n",
        "print(Test.x)  # 10"
      ],
      "metadata": {
        "id": "3rXBgOwrS7-y"
      },
      "execution_count": null,
      "outputs": []
    },
    {
      "cell_type": "markdown",
      "source": [
        "When to use Python class attributes"
      ],
      "metadata": {
        "id": "DvA-SxDVTQq2"
      }
    },
    {
      "cell_type": "code",
      "source": [
        "\"\"\"\n",
        "1) Storing class constants\n",
        "Since a constant doesn’t change from instance to instance of a class, it’s handy to store it as a class attribute.\n",
        "For example, the Circle class has the pi constant that is the same for all instances of the class. Therefore, it’s a good candidate for the class attributes.\n",
        "\"\"\""
      ],
      "metadata": {
        "id": "UJlOeCpNTRNS"
      },
      "execution_count": null,
      "outputs": []
    },
    {
      "cell_type": "code",
      "source": [
        "\"\"\"\n",
        "2) Tracking data across of all instances\n",
        "The following adds the circle_list class attribute to the Circle class. When you create a new instance of the Circle class, the constructor adds the instance to the list:\n",
        "\"\"\"\n",
        "class Circle:\n",
        "    circle_list = []\n",
        "    pi = 3.14159\n",
        "\n",
        "    def __init__(self, radius):\n",
        "        self.radius = radius\n",
        "        # add the instance to the circle list\n",
        "        self.circle_list.append(self)\n",
        "\n",
        "    def area(self):\n",
        "        return self.pi * self.radius**2\n",
        "\n",
        "    def circumference(self):\n",
        "        return 2 * self.pi * self.radius\n",
        "\n",
        "c1 = Circle(10)\n",
        "c2 = Circle(20)\n",
        "\n",
        "print(len(Circle.circle_list))  # 2"
      ],
      "metadata": {
        "id": "CGCoigANTVPC"
      },
      "execution_count": null,
      "outputs": []
    },
    {
      "cell_type": "code",
      "source": [
        "\"\"\"\n",
        "3) Defining default values\n",
        "Sometimes, you want to set a default value for all instances of a class. In this case, you can use a class attribute.\n",
        "The following example defines a Product class. All the instances of the Product class will have a default discount specified by the default_discount class attribute:\n",
        "\"\"\"\n",
        "class Product:\n",
        "    default_discount = 0\n",
        "\n",
        "    def __init__(self, price):\n",
        "        self.price = price\n",
        "        self.discount = Product.default_discount\n",
        "\n",
        "    def set_discount(self, discount):\n",
        "        self.discount = discount\n",
        "\n",
        "    def net_price(self):\n",
        "        return self.price * (1 - self.discount)\n",
        "\n",
        "p1 = Product(100)\n",
        "print(p1.net_price()) # 100\n",
        "\n",
        "p2 = Product(200)\n",
        "p2.set_discount(0.05)\n",
        "print(p2.net_price()) # 190"
      ],
      "metadata": {
        "id": "RVmtFNQQTfmZ"
      },
      "execution_count": null,
      "outputs": []
    },
    {
      "cell_type": "markdown",
      "source": [
        "Static Methods\n",
        "\n",
        "So far, you have learned about instance methods that are bound to a specific instance. It means that instance methods can access and modify the state of the bound object.\n",
        "\n",
        "Also, you learned about class methods that are bound to a class. The class methods can access and modify the class state.\n",
        "\n",
        "Unlike instance methods, static methods aren’t bound to an object. In other words, static methods cannot access and modify an object state.\n",
        "\n",
        "In addition, Python doesn’t implicitly pass the cls parameter (or the self parameter) to static methods. Therefore, static methods cannot access and modify the class’s state.\n",
        "\n",
        "In practice, you use static methods to define utility methods or group functions that have some logical relationships in a class."
      ],
      "metadata": {
        "id": "TjMLePLMTvhR"
      }
    },
    {
      "cell_type": "code",
      "source": [
        "\"\"\"\n",
        "Class Methods\n",
        "1. Python implicitly pass the cls argument to class methods.\n",
        "2. Class methods can access and modify the class state.\n",
        "3. Use @classmethod decorators to define class methods.\n",
        "\n",
        "Static Methods\n",
        "1. Python doesn’t implicitly pass the cls argument to static methods.\n",
        "2. Static methods cannot access or modify the class state.\n",
        "3. Use @staticmethod decorators to define static methods.\n",
        "\"\"\"\n",
        "\n",
        "class TemperatureConverter:\n",
        "    KEVIN = 'K',\n",
        "    FAHRENHEIT = 'F'\n",
        "    CELSIUS = 'C'\n",
        "\n",
        "    @staticmethod\n",
        "    def celsius_to_fahrenheit(c):\n",
        "        return 9*c/5 + 32\n",
        "\n",
        "    @staticmethod\n",
        "    def fahrenheit_to_celsius(f):\n",
        "        return 5*(f-32)/9\n",
        "\n",
        "    @staticmethod\n",
        "    def celsius_to_kelvin(c):\n",
        "        return c + 273.15\n",
        "\n",
        "    @staticmethod\n",
        "    def kelvin_to_celsius(k):\n",
        "        return k - 273.15\n",
        "\n",
        "    @staticmethod\n",
        "    def fahrenheit_to_kelvin(f):\n",
        "        return 5*(f+459.67)/9\n",
        "\n",
        "    @staticmethod\n",
        "    def kelvin_to_fahrenheit(k):\n",
        "        return 9*k/5 - 459.67\n",
        "\n",
        "    @staticmethod\n",
        "    def format(value, unit):\n",
        "        symbol = ''\n",
        "        if unit == TemperatureConverter.FAHRENHEIT:\n",
        "            symbol = '°F'\n",
        "        elif unit == TemperatureConverter.CELSIUS:\n",
        "            symbol = '°C'\n",
        "        elif unit == TemperatureConverter.KEVIN:\n",
        "            symbol = '°K'\n",
        "\n",
        "        return f'{value}{symbol}'\n",
        "\n",
        "f = TemperatureConverter.celsius_to_fahrenheit(35)\n",
        "print(TemperatureConverter.format(f, TemperatureConverter.FAHRENHEIT))  # 95.0°F"
      ],
      "metadata": {
        "id": "Y7Y5HufaT__9"
      },
      "execution_count": null,
      "outputs": []
    },
    {
      "cell_type": "markdown",
      "source": [
        "Class Method - is not bound to specific instance, it's bound to class only. @classmethod change an instance method to a class mthod. However, class method cannot access instance attributes, but it can access class attributes using cls."
      ],
      "metadata": {
        "id": "aLtFdLGpUn4-"
      }
    },
    {
      "cell_type": "code",
      "source": [
        "class Person:\n",
        "    counter = 0\n",
        "\n",
        "    def __init__(self, name, age):\n",
        "        self.name = name\n",
        "        self.age = age\n",
        "        Person.counter += 1\n",
        "\n",
        "    # instance method\n",
        "    def greet(self):\n",
        "        return f\"Hi, it's {self.name}.\"\n",
        "\n",
        "    # static method\n",
        "    @staticmethod\n",
        "    def info():\n",
        "        print('static method');\n",
        "\n",
        "    # class method - the first argument of a class method is class itself i.e cls.\n",
        "    @classmethod\n",
        "    def create_anonymous(cls): # if you don't pass cls by defining @classmethod, it'll throw error\n",
        "        print(cls)  # <class '__main__.Person'>\n",
        "        return Person('Anonymous', 22)\n",
        "\n",
        "anonymous = Person.create_anonymous()\n",
        "print(anonymous.name)  # Anonymous\n",
        "Person.info() # static method"
      ],
      "metadata": {
        "id": "_rNccGMTUpVT"
      },
      "execution_count": null,
      "outputs": []
    },
    {
      "cell_type": "markdown",
      "source": [
        "Delete Attributes and Objects"
      ],
      "metadata": {
        "id": "bJrXDrjOWIvI"
      }
    },
    {
      "cell_type": "code",
      "source": [
        "class Car:\n",
        "\n",
        "    # class attribute\n",
        "    wheels = 4\n",
        "\n",
        "    # initializer / instance attributes\n",
        "    def __init__(self, color, style):\n",
        "        self.color = color\n",
        "        self.style = style\n",
        "\n",
        "    # method 1\n",
        "    def showDescription(self):\n",
        "        print(\"This car is a\", self.color, self.style)\n",
        "\n",
        "    # method 2\n",
        "    def changeColor(self, color):\n",
        "        self.color = color\n",
        "\n",
        "c = Car('Black', 'Sedan')\n",
        "\n",
        "# call method 1\n",
        "c.showDescription() # Prints This car is a Black Sedan\n",
        "\n",
        "# call method 2 and set color\n",
        "c.changeColor('White')\n",
        "\n",
        "c.showDescription() # Prints This car is a White Sedan\n",
        "\n",
        "# -------------------- To delete any object attribute, use the del keyword.\n",
        "del c.color\n",
        "\n",
        "# -------------------- You can delete the object completely with del keyword.\n",
        "del c"
      ],
      "metadata": {
        "id": "8tkxsgzhWJO_"
      },
      "execution_count": null,
      "outputs": []
    },
    {
      "cell_type": "markdown",
      "source": [
        "Special Methods"
      ],
      "metadata": {
        "id": "ZutuJ9LAXbB_"
      }
    },
    {
      "cell_type": "code",
      "source": [
        "# __str__\n",
        "class Person:\n",
        "    def __init__(self, first_name, last_name, age):\n",
        "        self.first_name = first_name\n",
        "        self.last_name = last_name\n",
        "        self.age = age\n",
        "\n",
        "person = Person('John', 'Doe', 25)\n",
        "print(person) # <__main__.Person object at 0x0000023CA16D13A0>\n",
        "\n",
        "# When you use the print() function to display the instance of the Person class, the print() function shows the memory address of that instance.\n",
        "# Sometimes, it’s useful to have a string representation of an instance of a class. To customize the string representation of a class instance, the class needs to implement the __str__ magic method.\n",
        "# Internally, Python will call the __str__ method automatically when an instance calls the str() method.\n",
        "# Note that the print() function converts all non-keyword arguments to strings by passing them to the str() before displaying the string values.\n",
        "\n",
        "class Person:\n",
        "    def __init__(self, first_name, last_name, age):\n",
        "        self.first_name = first_name\n",
        "        self.last_name = last_name\n",
        "        self.age = age\n",
        "\n",
        "    def __str__(self):\n",
        "        return f'Person({self.first_name},{self.last_name},{self.age})'\n",
        "\n",
        "person = Person('John', 'Doe', 25)\n",
        "print(person) # Person(John,Doe,25)"
      ],
      "metadata": {
        "id": "BvhIk3F3goSl"
      },
      "execution_count": null,
      "outputs": []
    },
    {
      "cell_type": "code",
      "source": [
        "# __repr__\n",
        "# The __repr__ method returns the string representation of an object. Typically, the __repr__() returns a string that can be executed and yield the same value as the object.\n",
        "# In other words, if you pass the returned string of the object_name.__repr__() method to the eval() function, you’ll get the same value as the object_name. Let’s take a look at an example.\n",
        "# i.e it return a string representation of instance that can be used to recreate an object where __str()__ return human readable string representation of an instance.\n",
        "class Person:\n",
        "    def __init__(self, first_name, last_name, age):\n",
        "        self.first_name = first_name\n",
        "        self.last_name = last_name\n",
        "        self.age = age\n",
        "\n",
        "    def __repr__(self):\n",
        "        return f'Person(\"{self.first_name}\",\"{self.last_name}\",{self.age})'\n",
        "\n",
        "person = Person(\"John\", \"Doe\", 25)\n",
        "print(repr(person)) # Person(\"John\",\"Doe\",25)\n",
        "\n",
        "# When a class doesn’t implement the __str__ method and you pass an instance of that class to the str(),\n",
        "# Python returns the result of the __repr__ method because internally the __str__ method calls the __repr__ method:\n",
        "class Person:\n",
        "    def __init__(self, first_name, last_name, age):\n",
        "        self.first_name = first_name\n",
        "        self.last_name = last_name\n",
        "        self.age = age\n",
        "\n",
        "    def __repr__(self):\n",
        "        return f'Person(\"{self.first_name}\",\"{self.last_name}\",{self.age})'\n",
        "\n",
        "    def __str__(self):\n",
        "        return f'({self.first_name},{self.last_name},{self.age})'\n",
        "\n",
        "person = Person('John', 'Doe', 25)\n",
        "# use str()\n",
        "print(person)       # (John,Doe,25)\n",
        "\n",
        "# use repr()\n",
        "print(repr(person)) # Person(\"John\",\"Doe\",25)"
      ],
      "metadata": {
        "id": "Nv_94W1qhnjy"
      },
      "execution_count": null,
      "outputs": []
    },
    {
      "cell_type": "code",
      "source": [
        "# __eq__\n",
        "class Person:\n",
        "    def __init__(self, first_name, last_name, age):\n",
        "        self.first_name = first_name\n",
        "        self.last_name = last_name\n",
        "        self.age = age\n",
        "\n",
        "john = Person('John', 'Doe', 25)\n",
        "jane = Person('Jane', 'Doe', 25)\n",
        "\n",
        "print(john is jane)  # False\n",
        "print(john == jane) # False\n",
        "\n",
        "# Since john and jane have the same age, you want them to be equal.\n",
        "# In other words, you want the following expression to return True: john == jane\n",
        "\n",
        "# To do it, you can implement the __eq__ dunder method in the Person class.\n",
        "class Person:\n",
        "    def __init__(self, first_name, last_name, age):\n",
        "        self.first_name = first_name\n",
        "        self.last_name = last_name\n",
        "        self.age = age\n",
        "\n",
        "    def __eq__(self, other):\n",
        "        return self.age == other.age\n",
        "\n",
        "john = Person('John', 'Doe', 25)\n",
        "jane = Person('Jane', 'Doe', 25)\n",
        "print(john == jane)  # True\n",
        "\n",
        "john = Person('John', 'Doe', 25)\n",
        "mary = Person('Mary', 'Doe', 27)\n",
        "print(john == mary)  # False\n",
        "\n",
        "john = Person('John', 'Doe', 25)\n",
        "print(john == 20) # AttributeError: 'int' object has no attribute 'age'\n",
        "\n",
        "# To fix this, you can modify the __eq__ method to check if the object is an instance of the Person class before accessing the age attribute.\n",
        "# If the other object isn’t an instance of the Person class, the __eq__ method returns False, like this:\n",
        "class Person:\n",
        "    def __init__(self, first_name, last_name, age):\n",
        "        self.first_name = first_name\n",
        "        self.last_name = last_name\n",
        "        self.age = age\n",
        "\n",
        "    def __eq__(self, other):\n",
        "        if isinstance(other, Person):\n",
        "            return self.age == other.age\n",
        "        return False\n",
        "\n",
        "john = Person('John', 'Doe', 25)\n",
        "print(john == 20)  # False"
      ],
      "metadata": {
        "id": "jhaON0QHkNI1"
      },
      "execution_count": null,
      "outputs": []
    },
    {
      "cell_type": "code",
      "source": [
        "# __hash__\n",
        "class Person:\n",
        "    def __init__(self, name, age):\n",
        "        self.name = name\n",
        "        self.age = age\n",
        "\n",
        "p1 = Person('John', 22)\n",
        "p2 = Person('Jane', 22)\n",
        "\n",
        "print(hash(p1)) # 110373112736\n",
        "print(hash(p2)) # 110373572343\n",
        "\n",
        "# The hash() function accepts an object and returns the hash value as an integer.\n",
        "# When you pass an object to the hash() function, Python will execute the __hash__ special method of the object.\n",
        "# It means that when you pass the p1 object to the hash() function: hash(p1)\n",
        "# Python will call the __hash__ method of the p1 object:  p1.__hash__()\n",
        "# By default, __hash__ uses the id of objects and __eq__ uses the is operator for comparisons.\n",
        "\n",
        "\"\"\"\n",
        "By default, the __hash__ uses the object’s identity and the __eq__ returns True if two objects are the same. To override this default behavior, you can implement the __eq__ and __hash__.\n",
        "If a class overrides the __eq__ method, the objects of the class become unhashable. This means that you won’t able to use the objects in a mapping type. For example, you will not able to use them as keys in a dictionary or elements in a set.\n",
        "\"\"\"\n",
        "class Person:\n",
        "    def __init__(self, name, age):\n",
        "        self.name = name\n",
        "        self.age = age\n",
        "\n",
        "    def __eq__(self, other):\n",
        "        return isinstance(other, Person) and self.age == other.age\n",
        "\n",
        "members = {\n",
        "    Person('John', 22),\n",
        "    Person('Jane', 22)\n",
        "} # TypeError: unhashable type: 'Person'\n",
        "\n",
        "# Also, the Person’s object loses hashing because if you implement __eq__, the __hash__ is set to None. For example:\n",
        "hash(Person('John', 22))  # TypeError: unhashable type: 'Person'\n",
        "\n",
        "# solution\n",
        "# To make the Person work well in data structures like dictionaries, the hash of the class should remain immutable.\n",
        "# To do it, you can make the age attribute of the Person class a read-only property:\n",
        "class Person:\n",
        "    def __init__(self, name, age):\n",
        "        self.name = name\n",
        "        self.age = age\n",
        "\n",
        "    def __eq__(self, other):\n",
        "        return isinstance(other, Person) and self.age == other.age\n",
        "\n",
        "    def __hash__(self):\n",
        "        return hash(self.age)"
      ],
      "metadata": {
        "id": "2K2cOSrfk2OT"
      },
      "execution_count": null,
      "outputs": []
    },
    {
      "cell_type": "code",
      "source": [
        "# __bool__\n",
        "class Person:\n",
        "    def __init__(self, name, age):\n",
        "        self.name = name\n",
        "        self.age = age\n",
        "\n",
        "if __name__ == '__main__':\n",
        "    person = Person('John', 25)\n",
        "# In this example, we define the Person class, instantiate an object, and show its boolean value.\n",
        "# As expected, the person object is True.\n",
        "\n",
        "# To override this default behavior, you implement the __bool__ special method. The __bool__ method must return a boolean value, True or False.\n",
        "class Person:\n",
        "    def __init__(self, name, age):\n",
        "        self.name = name\n",
        "        self.age = age\n",
        "\n",
        "    def __bool__(self):\n",
        "        if self.age < 18 or self.age > 65:\n",
        "            return False\n",
        "        return True\n",
        "\n",
        "if __name__ == '__main__':\n",
        "    person = Person('Jane', 16)\n",
        "    print(bool(person))  # False"
      ],
      "metadata": {
        "id": "BSa6gPWyl9oD"
      },
      "execution_count": null,
      "outputs": []
    },
    {
      "cell_type": "code",
      "source": [
        "# __len__\n",
        "# If a custom class doesn’t have the __bool__ method, Python will look for the __len__() method. If the __len__ is zero, the object is False. Otherwise, it’s True.\n",
        "# If a class doesn’t implement the __bool__ and __len__ methods, the objects of the class will evaluate to True.\n",
        "class Payroll:\n",
        "    def __init__(self, length):\n",
        "        self.length = length\n",
        "\n",
        "    def __len__(self):\n",
        "        print('len was called...')\n",
        "        return self.length\n",
        "\n",
        "if __name__ == '__main__':\n",
        "    payroll = Payroll(0)\n",
        "    print(bool(payroll))  # False\n",
        "\n",
        "    payroll.length = 10\n",
        "    print(bool(payroll))  # True"
      ],
      "metadata": {
        "id": "HRrl6YTbmV6-"
      },
      "execution_count": null,
      "outputs": []
    },
    {
      "cell_type": "code",
      "source": [
        "# __del__\n",
        "# In Python, the garbage collector manages memory automatically. The garbage collector will destroy the objects that\n",
        "# are not referenced.\n",
        "# If an object implements the __del__ method, Python calls the __del__ method right before the garbage collector destroys\n",
        "# the object.\n",
        "# However, the garbage collector determines when to destroy the object. Therefore, it determines when the __del__ method\n",
        "# will be called.\n",
        "# The __del__ is sometimes referred to as a class finalizer. Note that __del__ is not the destructor because the garbage\n",
        "# collector destroys the object, not the __del__ method.\n",
        "\n",
        "# Python calls the __del__ method when all object references are gone. And you cannot control it in most cases.\n",
        "# Therefore, you should not use the __del__ method to clean up the resources. It’s recommended to use the context manager.\n",
        "# If the __del__ contains references to objects, the garbage collector will also destroy these objects when the __del__ is called.\n",
        "# If the __del__ references the global objects, it may create unexpected behaviors.\n",
        "# If an exception occurs inside the __del__ method, Python does not raise the exception but keeps it silent.\n",
        "# Also, Python sends the exception message to the stderr. Therefore, the main program will be able to be aware of the exceptions\n",
        "# during the finalization.\n",
        "# In practice, you’ll rarely use the __del__ method.\n"
      ],
      "metadata": {
        "id": "TmKbfRMBmsL3"
      },
      "execution_count": null,
      "outputs": []
    },
    {
      "cell_type": "markdown",
      "source": [
        "Inheritance"
      ],
      "metadata": {
        "id": "fZLx4vdvm-07"
      }
    },
    {
      "cell_type": "code",
      "source": [
        "class Person:\n",
        "    def __init__(self, name):\n",
        "        self.name = name\n",
        "\n",
        "    def greet(self):\n",
        "        return f\"Hi, it's {self.name}\"\n",
        "\n",
        "class Employee(Person):\n",
        "    def __init__(self, name, job_title):\n",
        "        self.name = name\n",
        "        self.job_title = job_title\n",
        "\n",
        "    def greet(self):\n",
        "        return f\"Hi, it's {self.name}\"\n",
        "\n",
        "employee = Employee('John', 'Python Developer')\n",
        "print(employee.greet()) # Hi, it's John\n",
        "\n",
        "person = Person('Jane')\n",
        "print(type(person)) # <class '__main__.Person'>\n",
        "\n",
        "employee = Employee('John', 'Python Developer')\n",
        "print(type(employee)) # <class '__main__.Employee'>\n",
        "\n",
        "person = Person('Jane')\n",
        "print(isinstance(person, Person))  # True\n",
        "\n",
        "employee = Employee('John', 'Python Developer')\n",
        "print(isinstance(employee, Person))  # True\n",
        "print(isinstance(employee, Employee))  # True\n",
        "print(isinstance(person, Employee))  # False\n",
        "\n",
        "print(issubclass(Employee, Person)) # True\n",
        "\n",
        "# Note that when you define a class that doesn’t inherit from any class, it’ll implicitly inherit from the built-in object class.\n",
        "print(issubclass(Person, object)) # True"
      ],
      "metadata": {
        "id": "LZxkIJG8nCdj"
      },
      "execution_count": null,
      "outputs": []
    },
    {
      "cell_type": "markdown",
      "source": [
        "overridding method"
      ],
      "metadata": {
        "id": "r7yqVnvz149q"
      }
    },
    {
      "cell_type": "code",
      "source": [
        "class Employee:\n",
        "    def __init__(self, name, base_pay):\n",
        "        self.name = name\n",
        "        self.base_pay = base_pay\n",
        "\n",
        "    def get_pay(self):\n",
        "        return self.base_pay\n",
        "\n",
        "class SalesEmployee(Employee):\n",
        "    def __init__(self, name, base_pay, sales_incentive):\n",
        "        self.name = name\n",
        "        self.base_pay = base_pay\n",
        "        self.sales_incentive = sales_incentive\n",
        "\n",
        "john = SalesEmployee('John', 5000, 1500)\n",
        "print(john.get_pay()) # 5000\n",
        "\n",
        "# overriding get_pay method\n",
        "class SalesEmployee(Employee):\n",
        "    def __init__(self, name, base_pay, sales_incentive):\n",
        "        self.name = name\n",
        "        self.base_pay = base_pay\n",
        "        self.sales_incentive = sales_incentive\n",
        "\n",
        "    def get_pay(self):\n",
        "        return self.base_pay + self.sales_incentive\n",
        "\n",
        "john = SalesEmployee('John', 5000, 1500)\n",
        "print(john.get_pay()) # 6500"
      ],
      "metadata": {
        "id": "LLRtNmPq15cx"
      },
      "execution_count": null,
      "outputs": []
    },
    {
      "cell_type": "markdown",
      "source": [
        "super - to call the methods of a parent class from a child class."
      ],
      "metadata": {
        "id": "gHiKTfdy2Wuy"
      }
    },
    {
      "cell_type": "code",
      "source": [
        "class Employee:\n",
        "    def __init__(self, name, base_pay, bonus):\n",
        "        self.name = name\n",
        "        self.base_pay = base_pay\n",
        "        self.bonus = bonus\n",
        "\n",
        "    def get_pay(self):\n",
        "        return self.base_pay + self.bonus\n",
        "\n",
        "class SalesEmployee(Employee):\n",
        "    def __init__(self, name, base_pay, bonus, sales_incentive):\n",
        "        super().__init__(name, base_pay, bonus)\n",
        "        self.sales_incentive = sales_incentive\n",
        "\n",
        "    def get_pay(self):\n",
        "        return super().get_pay() + self.sales_incentive\n",
        "\n",
        "if __name__ == '__main__':\n",
        "    sales_employee = SalesEmployee('John', 5000, 1000, 2000)\n",
        "    print(sales_employee.get_pay())  # 8000"
      ],
      "metadata": {
        "id": "0bSDCauD2XKA"
      },
      "execution_count": null,
      "outputs": []
    },
    {
      "cell_type": "markdown",
      "source": [
        "`__slots__`\n",
        "\n",
        "By default, Python uses the dictionaries to manage the instance attributes. The dictionary allows you to add more attributes to the instance dynamically at runtime. However, it also has a certain memory overhead. If the Point2D class has many objects, there will be a lot of memory overhead.\n",
        "\n",
        "To avoid the memory overhead, Python introduced the slots. If a class only contains fixed (or predetermined) instance attributes, you can use the slots to instruct Python to use a more compact data structure instead of dictionaries."
      ],
      "metadata": {
        "id": "3mNTI-mj22lY"
      }
    },
    {
      "cell_type": "code",
      "source": [
        "class Point2D:\n",
        "    def __init__(self, x, y):\n",
        "        self.x = x\n",
        "        self.y = y\n",
        "\n",
        "    def __repr__(self):\n",
        "        return f'Point2D({self.x},{self.y})'\n",
        "\n",
        "point = Point2D(0, 0)\n",
        "print(point.__dict__) # {'x': 0, 'y': 0}\n",
        "\n",
        "class Point2D:\n",
        "    __slots__ = ('x', 'y')\n",
        "\n",
        "    def __init__(self, x, y):\n",
        "        self.x = x\n",
        "        self.y = y\n",
        "\n",
        "    def __repr__(self):\n",
        "        return f'Point2D({self.x},{self.y})'\n",
        "\n",
        "point = Point2D(0, 0)\n",
        "print(point.__dict__) # AttributeError: 'Point2D' object has no attribute __dict__\n",
        "\n",
        "point = Point2D(0, 0)\n",
        "print(point.__slots__)  # ('x', 'y')\n",
        "\n",
        "point.z = 0 # AttributeError: 'Point2D' object has no attribute 'z'\n",
        "\n",
        "# However, you can add the class attributes to the class:\n",
        "Point2D.color = 'black'\n",
        "pprint(Point2D.__dict__)\n",
        "# mappingproxy({'__doc__': None,\n",
        "#               '__init__': <function Point2D.__init__ at 0x000001BBBA841310>,\n",
        "#               '__module__': '__main__',\n",
        "#               '__repr__': <function Point2D.__repr__ at 0x000001BBBA8413A0>,\n",
        "#               '__slots__': ('x', 'y'),\n",
        "#               'color': 'black',\n",
        "#               'x': <member 'x' of 'Point2D' objects>,\n",
        "#               'y': <member 'y' of 'Point2D' objects>})"
      ],
      "metadata": {
        "id": "ske4MCJj3ITR"
      },
      "execution_count": null,
      "outputs": []
    },
    {
      "cell_type": "markdown",
      "source": [
        "`__slots__` and single inheritance"
      ],
      "metadata": {
        "id": "m0bkCJ6d36Q2"
      }
    },
    {
      "cell_type": "code",
      "source": [
        "# ---------------------- The base class uses the slots but the subclass doesn’t\n",
        "class Point2D:\n",
        "    __slots__ = ('x', 'y')\n",
        "\n",
        "    def __init__(self, x, y):\n",
        "        self.x = x\n",
        "        self.y = y\n",
        "\n",
        "    def __repr__(self):\n",
        "        return f'Point2D({self.x},{self.y})'\n",
        "\n",
        "class Point3D(Point2D):\n",
        "    def __init__(self, x, y, z):\n",
        "        super().__init__(x, y)\n",
        "        self.z = z\n",
        "\n",
        "if __name__ == '__main__':\n",
        "    point = Point3D(10, 20, 30)\n",
        "    point.c = 69\n",
        "    print(point.__dict__)   # {'z': 30, 'c': 69}\n",
        "    print(point.__slots__)  # ('x', 'y')\n",
        "\n",
        "# The Point3D class doesn’t have slots so its instance has the __dict__ attribute.\n",
        "# In this case, the subclass Point3D uses slots from its base class (if available) and uses an instance dictionary.\n",
        "# If you want the Point3D class to use slots, you can define additional attributes like this:\n",
        "class Point3D(Point2D):\n",
        "    __slots__ = ('z',)\n",
        "\n",
        "    def __init__(self, x, y, z):\n",
        "        super().__init__(x, y)\n",
        "        self.z = z\n",
        "\n",
        "# ---------------------- The base class doesn’t use __slots__ and the subclass does\n",
        "class Shape:\n",
        "    pass\n",
        "\n",
        "class Point2D(Shape):\n",
        "    __slots__ = ('x', 'y')\n",
        "\n",
        "    def __init__(self, x, y):\n",
        "        self.x = x\n",
        "        self.y = y\n",
        "\n",
        "if __name__ == '__main__':\n",
        "    # use both slots and dict to store instance attributes\n",
        "    point = Point2D(10, 10)\n",
        "    print(point.__slots__)  # ('x', 'y')\n",
        "    print(point.__dict__)   # {}\n",
        "\n",
        "    # can add the attribute at runtime\n",
        "    point.color = 'black'\n",
        "    print(point.__dict__)   # {'color': 'black'}"
      ],
      "metadata": {
        "id": "0fsKe2WU39LB"
      },
      "execution_count": null,
      "outputs": []
    },
    {
      "cell_type": "markdown",
      "source": [
        "Abstract Class\n",
        "\n",
        "In object-oriented programming, an abstract class is a class that cannot be instantiated. However, you can create classes that inherit from an abstract class.\n",
        "\n",
        "Typically, you use an abstract class to create a blueprint for other classes.\n",
        "\n",
        "Similarly, an abstract method is an method without an implementation. An abstract class may or may not include abstract methods.\n",
        "\n",
        "Python doesn’t directly support abstract classes. But it does offer a module that allows you to define abstract classes.\n",
        "\n",
        "To define an abstract class, you use the abc (abstract base class) module.\n",
        "\n",
        "The abc module provides you with the infrastructure for defining abstract base classes."
      ],
      "metadata": {
        "id": "X9l_gyal6X7Y"
      }
    },
    {
      "cell_type": "code",
      "source": [
        "from abc import ABC, abstractmethod\n",
        "\n",
        "class Employee(ABC):\n",
        "    def __init__(self, first_name, last_name):\n",
        "        self.first_name = first_name\n",
        "        self.last_name = last_name\n",
        "\n",
        "    @property\n",
        "    def full_name(self):\n",
        "        return f\"{self.first_name} {self.last_name}\"\n",
        "\n",
        "    @abstractmethod\n",
        "    def get_salary(self):\n",
        "        pass\n",
        "\n",
        "class FulltimeEmployee(Employee):\n",
        "    def __init__(self, first_name, last_name, salary):\n",
        "        super().__init__(first_name, last_name)\n",
        "        self.salary = salary\n",
        "\n",
        "    def get_salary(self):\n",
        "        return self.salary\n",
        "\n",
        "class HourlyEmployee(Employee):\n",
        "    def __init__(self, first_name, last_name, worked_hours, rate):\n",
        "        super().__init__(first_name, last_name)\n",
        "        self.worked_hours = worked_hours\n",
        "        self.rate = rate\n",
        "\n",
        "    def get_salary(self):\n",
        "        return self.worked_hours * self.rate\n",
        "\n",
        "class Payroll:\n",
        "    def __init__(self):\n",
        "        self.employee_list = []\n",
        "\n",
        "    def add(self, employee):\n",
        "        self.employee_list.append(employee)\n",
        "\n",
        "    def print(self):\n",
        "        for e in self.employee_list:\n",
        "            print(f\"{e.full_name} \\t ${e.get_salary()}\")\n",
        "\n",
        "payroll = Payroll()\n",
        "\n",
        "payroll.add(FulltimeEmployee('John', 'Doe', 6000))\n",
        "payroll.add(FulltimeEmployee('Jane', 'Doe', 6500))\n",
        "payroll.add(HourlyEmployee('Jenifer', 'Smith', 200, 50))\n",
        "payroll.add(HourlyEmployee('David', 'Wilson', 150, 100))\n",
        "payroll.add(HourlyEmployee('Kevin', 'Miller', 100, 150))\n",
        "\n",
        "payroll.print()\n",
        "'''\n",
        "John Doe         $6000\n",
        "Jane Doe         $6500\n",
        "Jenifer Smith    $10000\n",
        "David Wilson     $15000\n",
        "Kevin Miller     $15000\n",
        "\n",
        "In practice, you use abstract classes to share the code among several closely related classes. In the payroll program, all\n",
        "subclasses of the Employee class share the same full_name property.\n",
        "'''"
      ],
      "metadata": {
        "id": "lX3MOoUU6Zho"
      },
      "execution_count": null,
      "outputs": []
    },
    {
      "cell_type": "markdown",
      "source": [
        "Multiple inheritance.\n",
        "\n",
        "Method resolution order (MRO) i.e left to right\n",
        "__init__ of child -> __init__ of parent1 -> __init__ of parent2"
      ],
      "metadata": {
        "id": "xGb4auHq68Bu"
      }
    },
    {
      "cell_type": "code",
      "source": [
        "class Car:\n",
        "    def start(self):\n",
        "        print('Start the Car')\n",
        "\n",
        "    def go(self):\n",
        "        print('Going')\n",
        "\n",
        "class Flyable:\n",
        "    def start(self):\n",
        "        print('Start the Flyable object')\n",
        "\n",
        "    def fly(self):\n",
        "        print('Flying')\n",
        "\n",
        "# result in order of extending. From left to right, you’ll see the FlyingCar, Flyable, Car, and object.\n",
        "# When the parent classes have methods with the same name and the child class calls the method,\n",
        "# Python uses the method resolution order (MRO) to search for the right method to call.\n",
        "class FlyingCar(Flyable, Car):\n",
        "    def start(self):\n",
        "        super().start()\n",
        "\n",
        "if __name__ == '__main__':\n",
        "    car = FlyingCar()\n",
        "    car.start() # Start the Flyable object\n",
        "\n",
        "class FlyingCar(Car, Flyable):\n",
        "    def start(self):\n",
        "        super().start()\n",
        "\n",
        "if __name__ == '__main__':\n",
        "    car = FlyingCar()\n",
        "    car.start() # Start the car\n",
        "\n",
        "print(FlyingCar.__mro__)  # (<class '__main__.FlyingCar'>, <class '__main__.Flyable'>, <class '__main__.Car'>, <class 'object'>)"
      ],
      "metadata": {
        "id": "bGqoAMM_7Bc4"
      },
      "execution_count": null,
      "outputs": []
    },
    {
      "cell_type": "markdown",
      "source": [
        "multiple inheritance and super"
      ],
      "metadata": {
        "id": "M-wuR0vr8iXu"
      }
    },
    {
      "cell_type": "code",
      "source": [
        "# __init__ method needs to call the right __init__ method specified in the method order resolution __mro__ of the class.\n",
        "class Car:\n",
        "    def __init__(self, door, wheel):\n",
        "        self.door = door\n",
        "        self.wheel = wheel\n",
        "\n",
        "    def start(self):\n",
        "        print('Start the Car')\n",
        "\n",
        "    def go(self):\n",
        "        print('Going')\n",
        "\n",
        "class Flyable:\n",
        "    def __init__(self, wing):\n",
        "        self.wing = wing\n",
        "\n",
        "    def start(self):\n",
        "        print('Start the Flyable object')\n",
        "\n",
        "    def fly(self):\n",
        "        print('Flying')\n",
        "\n",
        "class FlyingCar(Flyable, Car):\n",
        "    def __init__(self, door, wheel, wing):\n",
        "        super().__init__(wing=wing) # the super().__init__() calls the __init__ of the FlyingCar class. Therefore, you need to pass the wing argument to the __init__ method.\n",
        "        self.door = door\n",
        "        self.wheel = wheel\n",
        "\n",
        "    def start(self):\n",
        "        super().start()"
      ],
      "metadata": {
        "id": "V5t3vBTl8khS"
      },
      "execution_count": null,
      "outputs": []
    },
    {
      "cell_type": "markdown",
      "source": [
        "Mixin\n",
        "\n",
        "A mixin is a class that provides method implementations for reuse by multiple related child classes. However, the inheritance is not implying an is-a relationship.\n",
        "\n",
        "A mixin doesn’t define a new type. Therefore, it is not intended for direction instantiation.\n",
        "\n",
        "A mixin bundles a set of methods for reuse. Each mixin should have a single specific behavior, implementing closely related methods.\n",
        "\n",
        "Typically, a child class uses multiple inheritance to combine the mixin classes with a parent class.\n",
        "\n",
        "Since Python doesn’t define a formal way to define mixin classes, it’s a good practice to name mixin classes with the suffix Mixin.\n",
        "\n",
        "A mixin class is like an interface in Java and C# with implementation. And it’s like a trait in PHP."
      ],
      "metadata": {
        "id": "I5GN_xsO9LZ0"
      }
    },
    {
      "cell_type": "code",
      "source": [
        "import json\n",
        "from pprint import pprint\n",
        "\n",
        "class DictMixin:\n",
        "    def to_dict(self):\n",
        "        return self._traverse_dict(self.__dict__)\n",
        "\n",
        "    def _traverse_dict(self, attributes):\n",
        "        result = {}\n",
        "        for key, value in attributes.items():\n",
        "            result[key] = self._traverse(key, value)\n",
        "        return result\n",
        "\n",
        "    def _traverse(self, key, value):\n",
        "        if isinstance(value, DictMixin):\n",
        "            return value.to_dict()\n",
        "        elif isinstance(value, dict):\n",
        "            return self._traverse_dict(value)\n",
        "        elif isinstance(value, list):\n",
        "            return [self._traverse(key, v) for v in value]\n",
        "        elif hasattr(value, '__dict__'):\n",
        "            return self._traverse_dict(value.__dict__)\n",
        "        else:\n",
        "            return value\n",
        "\n",
        "class JSONMixin:\n",
        "    def to_json(self):\n",
        "        return json.dumps(self.to_dict())\n",
        "\n",
        "class Person:\n",
        "    def __init__(self, name):\n",
        "        self.name = name\n",
        "\n",
        "class Employee(DictMixin, JSONMixin, Person):\n",
        "    def __init__(self, name, skills, dependents):\n",
        "        super().__init__(name)\n",
        "        self.skills = skills\n",
        "        self.dependents = dependents\n",
        "\n",
        "if __name__ == '__main__':\n",
        "    e = Employee(\n",
        "        name='John',\n",
        "        skills=['Python Programming''Project Management'],\n",
        "        dependents={'wife': 'Jane', 'children': ['Alice', 'Bob']}\n",
        "    )\n",
        "    pprint(e.to_dict())\n",
        "    print(e.to_json())\n",
        "\n",
        "# {\n",
        "#     'dependents': {\n",
        "#         'children': ['Alice', 'Bob'],\n",
        "#         'wife': 'Jane'\n",
        "#     },\n",
        "#     'name': 'John',\n",
        "#     'skills': ['Python ProgrammingProject Management']\n",
        "# }\n",
        "\n",
        "# {\n",
        "#     \"name\": \"John\",\n",
        "#     \"skills\": [\"Python ProgrammingProject Management\"],\n",
        "#     \"dependents\": {\n",
        "#         \"wife\": \"Jane\",\n",
        "#         \"children\": [\"Alice\", \"Bob\"]\n",
        "#     }\n",
        "# }"
      ],
      "metadata": {
        "id": "vDGfl63f9Ycl"
      },
      "execution_count": null,
      "outputs": []
    },
    {
      "cell_type": "markdown",
      "source": [
        "# Python Properties"
      ],
      "metadata": {
        "id": "5z3J6YMf-lBT"
      }
    },
    {
      "cell_type": "markdown",
      "source": [
        "Some object-oriented languages such as Java and C# support private object attributes; which cannot be directly accessed from outside. Programmers often have to write getter and setter methods to access such private attributes.\n",
        "\n",
        "However in Python, all the attributes and methods are public, so it is useless to write getters or setters.\n",
        "\n",
        "If you want to prevent direct access to an attribute, you should define it as a property."
      ],
      "metadata": {
        "id": "vnbHrsZN-ndB"
      }
    },
    {
      "cell_type": "code",
      "source": [
        "\"\"\"\n",
        "The property() has the following parameters: property(fget=None, fset=None, fdel=None, doc=None)\n",
        "\n",
        "fget  -> is a function to get the value of the attribute, or the getter method.\n",
        "fset  -> is a function to set the value of the attribute, or the setter method.\n",
        "fdel  -> is a function to delete the attribute.\n",
        "doc   -> is a docstring i.e., a comment.\n",
        "\"\"\"\n",
        "from pprint import pprint\n",
        "\n",
        "class Person:\n",
        "    def __init__(self, name, age):\n",
        "        self.name = name\n",
        "        self.age = age\n",
        "\n",
        "    def set_age(self, age):\n",
        "        if age <= 0:\n",
        "            raise ValueError('The age must be positive')\n",
        "        self._age = age\n",
        "\n",
        "    def get_age(self):\n",
        "        return self._age\n",
        "\n",
        "    age = property(fget=get_age, fset=set_age)\n",
        "\n",
        "print(Person.age) # <property object at 0x10103c180>\n",
        "\n",
        "john = Person('John', 18)\n",
        "pprint(john.__dict__) # {'_age': 18, 'name': 'John'}\n",
        "\n",
        "john.age = 19\n",
        "pprint(Person.__dict__)\n",
        "# mappingproxy({'__dict__': <attribute '__dict__' of 'Person' objects>,\n",
        "#               '__doc__': None,\n",
        "#               '__init__': <function Person.__init__ at 0x10102f640>,\n",
        "#               '__module__': '__main__',\n",
        "#               '__weakref__': <attribute '__weakref__' of 'Person' objects>,\n",
        "#               'age': <property object at 0x10103c180>,\n",
        "#               'get_age': <function Person.get_age at 0x1011d6560>,\n",
        "#               'set_age': <function Person.set_age at 0x1011d64d0>})\n",
        "\n",
        "class Person():\n",
        "    def __init__(self, value):\n",
        "        self.hidden_name = value\n",
        "\n",
        "    # getter function\n",
        "    def get_name(self):\n",
        "        print('Getting name:')\n",
        "        return self.hidden_name\n",
        "\n",
        "    # setter function\n",
        "    def set_name(self, value):\n",
        "        print('Setting name to', value)\n",
        "        self.hidden_name = value\n",
        "\n",
        "    # deleter function\n",
        "    def del_name(self):\n",
        "        print('Deleting name')\n",
        "        del self.hidden_name\n",
        "\n",
        "    # make a property\n",
        "    name = property(get_name, set_name, del_name, doc='name of the person')"
      ],
      "metadata": {
        "id": "Pg2pI-_c-oW7"
      },
      "execution_count": null,
      "outputs": []
    },
    {
      "cell_type": "markdown",
      "source": [
        "@property – Property as a Decorator\n",
        "\n",
        "A more elegant syntax to define properties in a class is to use property as a decorator\n",
        "\n",
        "In the next example, we’ll define three different methods, each called name() but preceded by different decorators:\n",
        "\n",
        "* @property decorator goes before the getter method\n",
        "* @name.setter decorator goes before the setter method\n",
        "* @name.deleter decorator goes before the deleter method"
      ],
      "metadata": {
        "id": "XzNWCIQuCftL"
      }
    },
    {
      "cell_type": "code",
      "source": [
        "class Person:\n",
        "    def __init__(self, name, age):\n",
        "        self._name = name\n",
        "        self._age = age\n",
        "\n",
        "    @property\n",
        "    def age(self):\n",
        "        return self._age\n",
        "\n",
        "    @age.setter\n",
        "    def age(self, value):\n",
        "        if value <= 0:\n",
        "            raise ValueError('The age must be positive')\n",
        "        self._age = value\n",
        "\n",
        "    @property\n",
        "    def name(self):\n",
        "        return self._name\n",
        "\n",
        "    @name.setter\n",
        "    def name(self, value):\n",
        "        if value.strip() == '':\n",
        "            raise ValueError('The name cannot be empty')\n",
        "        self._name = value\n",
        "\n",
        "p = Person('john', 69);\n",
        "print(p.age)  # 69\n",
        "\n",
        "p.age = 45;\n",
        "print(p.age)  # 45"
      ],
      "metadata": {
        "id": "D13gSmlQCgbY"
      },
      "execution_count": null,
      "outputs": []
    },
    {
      "cell_type": "markdown",
      "source": [
        "Python readonly property\n",
        "\n",
        "To define a readonly property, you need to create a property with only the getter. However, it is not truly read-only because you can always access the underlying attribute and change it.\n",
        "\n",
        "The read-only properties are useful in some cases such as for computed properties."
      ],
      "metadata": {
        "id": "7zXrimTNFW1X"
      }
    },
    {
      "cell_type": "code",
      "source": [
        "import math\n",
        "\n",
        "class Circle:\n",
        "    def __init__(self, radius):\n",
        "        self.radius = radius\n",
        "\n",
        "    @property\n",
        "    def area(self):\n",
        "        return math.pi * self.radius ** 2\n",
        "\n",
        "c = Circle(10)\n",
        "print(c.area)"
      ],
      "metadata": {
        "id": "YMAJCJZhFkHA"
      },
      "execution_count": null,
      "outputs": []
    },
    {
      "cell_type": "markdown",
      "source": [
        "delete property"
      ],
      "metadata": {
        "id": "k9d21JtpF36x"
      }
    },
    {
      "cell_type": "code",
      "source": [
        "from pprint import pprint\n",
        "\n",
        "class Person:\n",
        "    def __init__(self, name):\n",
        "        self._name = name\n",
        "\n",
        "    @property\n",
        "    def name(self):\n",
        "        return self._name\n",
        "\n",
        "    @name.setter\n",
        "    def name(self, value):\n",
        "        if value.strip() == '':\n",
        "            raise ValueError('name cannot be empty')\n",
        "        self._name = value\n",
        "\n",
        "    @name.deleter\n",
        "    def name(self):\n",
        "        del self._name\n",
        "\n",
        "person = Person('John')\n",
        "pprint(person.__dict__) # {'_name': 'John'}\n",
        "\n",
        "del person.name # {}"
      ],
      "metadata": {
        "id": "KStVn20VF5CU"
      },
      "execution_count": null,
      "outputs": []
    },
    {
      "cell_type": "markdown",
      "source": [
        "# Python Enumeration"
      ],
      "metadata": {
        "id": "-O-OG0fVHxtd"
      }
    },
    {
      "cell_type": "markdown",
      "source": [
        "Enumerations are immutable, are hashable."
      ],
      "metadata": {
        "id": "QfZcd97fH0gY"
      }
    },
    {
      "cell_type": "code",
      "source": [
        "from enum import Enum\n",
        "\n",
        "class Color(Enum):\n",
        "    RED = 1\n",
        "    GREEN = 2\n",
        "    BLUE = 3\n",
        "\n",
        "print(type(Color.RED))  # <enum 'Color'>\n",
        "print(isinstance(Color.RED, Color)) # True\n",
        "\n",
        "print(Color.RED.name)   # RED\n",
        "print(Color.RED.value)  # 1\n",
        "\n",
        "print(Color.RED)    # Color.RED\n",
        "print(Color['RED']) # Color.RED\n",
        "print(Color(1))     # Color.RED\n",
        "\n",
        "if Color.RED in Color:\n",
        "    print('Yes')    # Yes\n",
        "\n",
        "for color in Color:\n",
        "    print(color)    # Color.RED ...\n",
        "\n",
        "print(list(Color))  # [<Color.RED: 1>, <Color.GREEN: 2>, <Color.BLUE: 3>]\n",
        "\n",
        "# hashable\n",
        "rgb = {\n",
        "    Color.RED: '#ff0000',\n",
        "    Color.GREEN: '#00ff00',\n",
        "    Color.BLUE: '#0000ff'\n",
        "}"
      ],
      "metadata": {
        "id": "4RQEV79KIrvp"
      },
      "execution_count": null,
      "outputs": []
    },
    {
      "cell_type": "markdown",
      "source": [
        "enherits from enumeration"
      ],
      "metadata": {
        "id": "aCFJzGlZJWML"
      }
    },
    {
      "cell_type": "code",
      "source": [
        "# An enumeration cannot be inherited unless it contains no members.\n",
        "from enum import Enum\n",
        "class Color(Enum):\n",
        "    pass\n",
        "\n",
        "class RGB(Color):\n",
        "    RED = 1\n",
        "    GREEN = 2\n",
        "    BLUE = 3\n",
        "\n",
        "# However, the following example won’t work because the RGB enumeration has members:\n",
        "class RGBA(RGB):\n",
        "    ALPHA = 4\n",
        "\n",
        "# error -> TypeError: Cannot extend enumerations"
      ],
      "metadata": {
        "id": "Lt6N6V3eJWlt"
      },
      "execution_count": null,
      "outputs": []
    },
    {
      "cell_type": "markdown",
      "source": [
        "enum alias"
      ],
      "metadata": {
        "id": "_K0D2_4KJiUn"
      }
    },
    {
      "cell_type": "code",
      "source": [
        "# By definition, the enumeration member values are unique. However, you can create different member names with the same values.\n",
        "# When you define multiple members in an enumeration with the same values, Python does not create different members but aliases.\n",
        "# In this example, the RED is the main member while the CRIMSON and SALMON members are the aliases of the RED member\n",
        "from enum import Enum\n",
        "\n",
        "class Color(Enum):\n",
        "    RED = 1\n",
        "    CRIMSON = 1\n",
        "    SALMON = 1\n",
        "    GREEN = 2\n",
        "    BLUE = 3\n",
        "\n",
        "print(Color.RED is Color.CRIMSON)   # True\n",
        "print(Color.RED is Color.SALMON)    # True\n",
        "\n",
        "# When you look up a member by value, you’ll always get the main member, not aliases. For example, the following statement\n",
        "# returns the RED member:\n",
        "print(Color(1)) # COLOR.RED\n",
        "\n",
        "for color in Color:\n",
        "    print(color)\n",
        "'''\n",
        "Color.RED\n",
        "Color.GREEN\n",
        "Color.BLUE\n",
        "'''"
      ],
      "metadata": {
        "id": "1UlA4Q2gJiw3"
      },
      "execution_count": null,
      "outputs": []
    },
    {
      "cell_type": "markdown",
      "source": [
        "@enum.unique decorator"
      ],
      "metadata": {
        "id": "iePh9pwMJxUz"
      }
    },
    {
      "cell_type": "code",
      "source": [
        "import enum\n",
        "from enum import Enum\n",
        "\n",
        "@enum.unique\n",
        "class Day(Enum):\n",
        "    MON = 'Monday'\n",
        "    TUE = 'Monday'\n",
        "    WED = 'Wednesday'\n",
        "    THU = 'Thursday'\n",
        "    FRI = 'Friday'\n",
        "    SAT = 'Saturday'\n",
        "    SUN = 'Sunday'\n",
        "\n",
        "# throws an error"
      ],
      "metadata": {
        "id": "lBtf58XoJzOB"
      },
      "execution_count": null,
      "outputs": []
    },
    {
      "cell_type": "markdown",
      "source": [
        "enum auto()"
      ],
      "metadata": {
        "id": "8zmx2wf0J2VP"
      }
    },
    {
      "cell_type": "code",
      "source": [
        "# auto() helper class in the enum module, which automatically generates unique values for the enumeration members.\n",
        "from enum import Enum, auto\n",
        "\n",
        "class State(Enum):\n",
        "    PENDING = auto()\n",
        "    FULFILLED = auto()\n",
        "    REJECTED = auto()\n",
        "\n",
        "    def __str__(self):\n",
        "        return f'{self.name(self.value)}'\n",
        "\n",
        "for state in State:\n",
        "    print(state.name, state.value)\n",
        "\n",
        "'''\n",
        "PENDING 1\n",
        "FULFILLED 2\n",
        "REJECTED 3\n",
        "'''"
      ],
      "metadata": {
        "id": "6nMn-7OeJ3TE"
      },
      "execution_count": null,
      "outputs": []
    },
    {
      "cell_type": "markdown",
      "source": [
        "auto() internal working"
      ],
      "metadata": {
        "id": "VNx0fL3MJ9vJ"
      }
    },
    {
      "cell_type": "code",
      "source": [
        "'''\n",
        "# Technically, the auto() calls the _generate_next_value_() method to generate values for the members. Here’s the syntax\n",
        "# of the _generate_next_value_() method:\n",
        "The _generate_next_value_() has the following parameters:\n",
        "\n",
        "name  -> is the member’s name\n",
        "start -> is the starting value of the enum members.\n",
        "count -> is the number of enum members, including aliases, that have been created.\n",
        "last_values -> is a list of all preceding values used for the enum members.\n",
        "'''\n",
        "from enum import Enum, auto\n",
        "\n",
        "class State(Enum):\n",
        "    def _generate_next_value_(name, start, count, last_values):\n",
        "        return name.lower()\n",
        "\n",
        "    PENDING = auto()\n",
        "    FULFILLED = auto()\n",
        "    REJECTED = auto()\n",
        "\n",
        "for state in State:\n",
        "    print(state.name, state.value)\n",
        "\n",
        "'''\n",
        "PENDING pending\n",
        "FULFILLED fulfilled\n",
        "REJECTED rejected\n",
        "'''"
      ],
      "metadata": {
        "id": "4AMBwBKbJ-GK"
      },
      "execution_count": null,
      "outputs": []
    },
    {
      "cell_type": "markdown",
      "source": [
        "# Python Descriptors"
      ],
      "metadata": {
        "id": "T8vSa9c-KT9u"
      }
    },
    {
      "cell_type": "markdown",
      "source": [
        "Descriptor protocol\n",
        "In Python, the descriptor protocol consists of three methods:\n",
        "* __get__ gets an attribute value\n",
        "* __set__ sets an attribute value\n",
        "* __delete__ deletes an attribute\n",
        "\n",
        "A descriptor is an object of a class that implements one of the methods specified in the descriptor protocol.\n",
        "\n",
        "Descriptors have two types:\n",
        "* data descriptor\n",
        "* non-data descriptor.\n",
        "\n",
        "A data descriptor is an object of a class that implements the __set__ and/or __delete__ method.\n",
        "A non-data descriptor is an object that implements the __get__ method only."
      ],
      "metadata": {
        "id": "y8tMXUN2LByR"
      }
    },
    {
      "cell_type": "code",
      "source": [
        "# Suppose you have a class Person with two instance attributes first_name and last_name:\n",
        "class Person:\n",
        "    def __init__(self, first_name, last_name):\n",
        "        self.first_name = first_name\n",
        "        self.last_name = last_name\n",
        "\n",
        "# And you want the first_name and last_name attributes to be non-empty strings. These plain attributes cannot guarantee this.\n",
        "# To enforce the data validity, you can use property with a getter and setter methods, like this:\n",
        "class Person:\n",
        "    def __init__(self, first_name, last_name):\n",
        "        self.first_name = first_name\n",
        "        self.last_name = last_name\n",
        "\n",
        "    @property\n",
        "    def first_name(self):\n",
        "        return self._first_name\n",
        "\n",
        "    @first_name.setter\n",
        "    def first_name(self, value):\n",
        "        if not isinstance(value, str):\n",
        "            raise ValueError('The first name must a string')\n",
        "\n",
        "        if len(value) == 0:\n",
        "            raise ValueError('The first name cannot be empty')\n",
        "\n",
        "        self._first_name = value\n",
        "\n",
        "    @property\n",
        "    def last_name(self):\n",
        "        return self._last_name\n",
        "\n",
        "    @last_name.setter\n",
        "    def last_name(self, value):\n",
        "        if not isinstance(value, str):\n",
        "            raise ValueError('The last name must a string')\n",
        "\n",
        "        if len(value) == 0:\n",
        "            raise ValueError('The last name cannot be empty')\n",
        "\n",
        "        self._last_name = value\n",
        "\n",
        "# In this Person class, the getter returns the attribute value while the setter validates it before assigning it to the attribute.\n",
        "# This code works perfectly fine. However, it is redundant because the validation logic validates the first and last names is the same.\n",
        "\n",
        "# Also, if the class has more attributes that require a non-empty string, you need to duplicate this logic in other properties.\n",
        "# In other words, this validation logic is not reusable.\n",
        "\n",
        "# To avoid duplicating the logic, you may have a method that validates data and reuse this method in other properties.\n",
        "# This approach will enable reusability. However, Python has a better way to solve this by using descriptors.\n",
        "\n",
        "# First, define a descriptor class that implements three methods __set_name__, __get__, and __set__:\n",
        "class RequiredString:\n",
        "    def __set_name__(self, owner, name):\n",
        "        self.property_name = name\n",
        "\n",
        "    def __get__(self, instance, owner):\n",
        "        if instance is None:\n",
        "            return self\n",
        "        return instance.__dict__[self.property_name] or None\n",
        "\n",
        "    def __set__(self, instance, value):\n",
        "        if not isinstance(value, str):\n",
        "            raise ValueError(f'The {self.property_name} must be a string')\n",
        "\n",
        "        if len(value) == 0:\n",
        "            raise ValueError(f'The {self.property_name} cannot be empty')\n",
        "\n",
        "        instance.__dict__[self.property_name] = value\n",
        "\n",
        "class Person:\n",
        "    first_name = RequiredString()\n",
        "    last_name = RequiredString()\n",
        "\n",
        "try:\n",
        "    person = Person()\n",
        "    person.first_name = ''\n",
        "except ValueError as e:\n",
        "    print(e)  # The first_name must be a string"
      ],
      "metadata": {
        "id": "oy0ZiVtKKbyQ"
      },
      "execution_count": null,
      "outputs": []
    },
    {
      "cell_type": "code",
      "source": [
        "'''\n",
        "# It means that Python automatically calls the __set_name__ when the owning class Person is created. The following statements\n",
        "# are equivalent:\n",
        "\n",
        "first_name = RequiredString()\n",
        "    # and\n",
        "first_name.__set_name__(Person, 'first_name')\n",
        "\n",
        "# When you assign the new value to a descriptor, Python calls __set__ method to set the attribute on an instance of the owner\n",
        "# class to the new value. For example:\n",
        "\n",
        "person = Person()\n",
        "person.first_name = 'John'\n",
        "\n",
        "# Python calls the __get__ method of the Person‘s object when you access the first_name attribute. For example:\n",
        "person = Person()\n",
        "\n",
        "person.first_name = 'John'\n",
        "print(person.first_name)\n",
        "'''"
      ],
      "metadata": {
        "id": "WzSwlADiLVsX"
      },
      "execution_count": null,
      "outputs": []
    },
    {
      "cell_type": "code",
      "source": [
        "# non-date descriptors\n",
        "class FileCount:\n",
        "    def __get__(self, instance, owner):\n",
        "        # self -> <__main__.FileCount object at 0x10ec83a90>\n",
        "        # instance -> <__main__.Folder object at 0x10ec83a60>\n",
        "        # owner -> <class '__main__.Folder'>\n",
        "        return len(os.listdir(instance.path))\n",
        "\n",
        "class Folder:\n",
        "    count = FileCount()\n",
        "    def __init__(self, path):\n",
        "        self.path = path\n",
        "\n",
        "folder = Folder('/')\n",
        "print('file count: ', folder.count) #19"
      ],
      "metadata": {
        "id": "snsPXXM2LdcR"
      },
      "execution_count": null,
      "outputs": []
    },
    {
      "cell_type": "markdown",
      "source": [
        "# Python Exception"
      ],
      "metadata": {
        "id": "tFg4df78LuCi"
      }
    },
    {
      "cell_type": "markdown",
      "source": [
        "Exception Handling"
      ],
      "metadata": {
        "id": "84HQz3pwLwXY"
      }
    },
    {
      "cell_type": "code",
      "source": [
        "def division(a, b):\n",
        "    return a / b\n",
        "c = division(10, 0)\n",
        "# ZeroDivisionError: division by zero\n",
        "\n",
        "def division(a, b):\n",
        "    try:\n",
        "        return {\n",
        "            'success': True,\n",
        "            'message': 'OK',\n",
        "            'result': a / b\n",
        "        }\n",
        "    except ZeroDivisionError as e:\n",
        "        return {\n",
        "            'success': False,\n",
        "            'message': 'b cannot be zero',\n",
        "            'result': None\n",
        "        }\n",
        "result = division(10, 0)\n",
        "print(result) # {'success': False, 'message': 'b cannot be zero', 'result': None}"
      ],
      "metadata": {
        "id": "RxBdOSr9L6sh"
      },
      "execution_count": null,
      "outputs": []
    },
    {
      "cell_type": "code",
      "source": [
        "'''\n",
        "try:\n",
        "    # code that you want to protect from exceptions\n",
        "except <ExceptionType> as ex:\n",
        "    # code that handle the exception\n",
        "finally:\n",
        "    # code that always execute whether the exception occurred or not\n",
        "else:\n",
        "    # code that excutes if try execute normally (an except clause must be present)\n",
        "'''"
      ],
      "metadata": {
        "id": "Mj5kl-E0MGGF"
      },
      "execution_count": null,
      "outputs": []
    },
    {
      "cell_type": "markdown",
      "source": [
        "raise exception"
      ],
      "metadata": {
        "id": "6y6EqHCLMJWs"
      }
    },
    {
      "cell_type": "code",
      "source": [
        "try:\n",
        "    raise ValueError('The value error exception', 'x', 'y')\n",
        "except ValueError as ex:\n",
        "    print(ex.args)"
      ],
      "metadata": {
        "id": "2Ca6KJkGMJ5L"
      },
      "execution_count": null,
      "outputs": []
    },
    {
      "cell_type": "markdown",
      "source": [
        "raise another exception dusring handling"
      ],
      "metadata": {
        "id": "cYmFCrS_ML-F"
      }
    },
    {
      "cell_type": "code",
      "source": [
        "def division(a, b):\n",
        "    try:\n",
        "        return a / b\n",
        "    except ZeroDivisionError as ex:\n",
        "        raise ValueError('b must not zero')"
      ],
      "metadata": {
        "id": "fl2sLv2YMNxQ"
      },
      "execution_count": null,
      "outputs": []
    },
    {
      "cell_type": "markdown",
      "source": [
        "raise from statement"
      ],
      "metadata": {
        "id": "3kfgqmUTMU5s"
      }
    },
    {
      "cell_type": "code",
      "source": [
        "def divide(a, b):\n",
        "    try:\n",
        "        return a / b\n",
        "    except ZeroDivisionError as ex:\n",
        "        raise ValueError('b must not be zero') from ex\n",
        "divide(10, 0)"
      ],
      "metadata": {
        "id": "ExwqewKwMWwt"
      },
      "execution_count": null,
      "outputs": []
    },
    {
      "cell_type": "markdown",
      "source": [
        "Custom Exception"
      ],
      "metadata": {
        "id": "26I1bOr5MXbg"
      }
    },
    {
      "cell_type": "code",
      "source": [
        "class FahrenheitError(Exception):\n",
        "    min_f = 32\n",
        "    max_f = 212\n",
        "\n",
        "    def __init__(self, f, *args):\n",
        "        super().__init__(args)\n",
        "        self.f = f\n",
        "\n",
        "    def __str__(self):\n",
        "        return f'The {self.f} is not in a valid range {self.min_f, self.max_f}'\n",
        "\n",
        "def fahrenheit_to_celsius(f: float) -> float:\n",
        "    if f < FahrenheitError.min_f or f > FahrenheitError.max_f:\n",
        "        raise FahrenheitError(f)\n",
        "    return (f - 32) * 5 / 9\n",
        "\n",
        "if __name__ == '__main__':\n",
        "    f = input('Enter a temperature in Fahrenheit:')\n",
        "    try:\n",
        "        f = float(f)\n",
        "    except ValueError as ex:\n",
        "        print(ex)\n",
        "    else:\n",
        "        try:\n",
        "            c = fahrenheit_to_celsius(float(f))\n",
        "        except FahrenheitError as ex:\n",
        "            print(ex)\n",
        "        else:\n",
        "            print(f'{f} Fahrenheit = {c:.4f} Celsius')"
      ],
      "metadata": {
        "id": "KXhytmjAMYr2"
      },
      "execution_count": null,
      "outputs": []
    },
    {
      "cell_type": "markdown",
      "source": [
        "# Python Meta Programming"
      ],
      "metadata": {
        "id": "NDh85IwxMvU8"
      }
    },
    {
      "cell_type": "markdown",
      "source": [
        "`__new__`\n",
        "\n",
        "When you create an instance of a class, Python first calls the `__new__()` method to create the object and then calls the `__init__()` method to initialize the object’s attributes."
      ],
      "metadata": {
        "id": "-WLThMeSMykC"
      }
    },
    {
      "cell_type": "code",
      "source": [
        "# The __new__() is a static method of the object class. It has the following signature:\n",
        "object.__new__(class, *args, **kwargs)\n",
        "\n",
        "'''\n",
        "The __new__() method should return a new object of the class. But it doesn’t have to.\n",
        "When you define a new class, that class implicitly inherits from the object class. It means that you can override the __new__ static method and do something before and after creating a new instance of the class.\n",
        "\n",
        "To create the object of a class, you call the super().__new__() method.\n",
        "Technically, you can call the object.__new__() method to create an object manually. However, you need to call the __init__() yourself manually after. Python will not call the __init__() method automatically if you explicitly create a new object using the object.__new__() method.\n",
        "'''\n",
        "\n",
        "class Person:\n",
        "    def __init__(self, name):\n",
        "        self.name = name\n",
        "\n",
        "person = object.__new__(Person, 'John')\n",
        "print(person.__dict__)  # {}\n",
        "\n",
        "person.__init__('John')\n",
        "print(person.__dict__)  # {'name': 'John'}\n",
        "\n",
        "# The following illustrates the sequence which Python calls the __new__ and __init__ method when you create a new object by calling the class:\n",
        "class Person:\n",
        "    def __new__(cls, name):\n",
        "        print(f'Creating a new {cls.__name__} object...')\n",
        "        obj = object.__new__(cls)\n",
        "        return obj\n",
        "\n",
        "    def __init__(self, name):\n",
        "        print(f'Initializing the person object...')\n",
        "        self.name = name\n",
        "\n",
        "person = Person('John')\n",
        "# Creating a new Person object...\n",
        "# Initializing the person object...\n",
        "\n",
        "# The following example defines the SquareNumber class that inherits from the built-in int type:\n",
        "class SquareNumber(int):\n",
        "    def __new__(cls, value):\n",
        "        return super().__new__(cls, value ** 2)\n",
        "\n",
        "x = SquareNumber(3)\n",
        "print(x)  # 9\n",
        "print(isinstance(x, int)) # True"
      ],
      "metadata": {
        "id": "8P3kk2NaRP_W"
      },
      "execution_count": null,
      "outputs": []
    },
    {
      "cell_type": "code",
      "source": [
        "class SquareNumber(int):\n",
        "    def __init__(self, value):\n",
        "        super().__init__(value ** 2)\n",
        "\n",
        "x = SquareNumber(3) # TypeError: object.__init__() takes exactly one argument (the instance to initialize)"
      ],
      "metadata": {
        "id": "L8rfpPXhSJBV"
      },
      "execution_count": null,
      "outputs": []
    },
    {
      "cell_type": "code",
      "source": [
        "# In practice, you use the __new__() method when you want to tweak the object at the instantiated time.\n",
        "# For example, the following defines the Person class and uses the __new__method to inject the full_name attribute to the Person’s object:\n",
        "class Person:\n",
        "    def __new__(cls, first_name, last_name):\n",
        "        # create a new object\n",
        "        obj = super().__new__(cls)\n",
        "\n",
        "        # initialize attributes\n",
        "        obj.first_name = first_name\n",
        "        obj.last_name = last_name\n",
        "\n",
        "        # inject new attribute\n",
        "        obj.full_name = f'{first_name} {last_name}'\n",
        "        return obj\n",
        "\n",
        "person = Person('John', 'Doe')\n",
        "print(person.full_name) # John Doe\n",
        "print(person.__dict__)  # {'first_name': 'John', 'last_name': 'Doe', 'full_name': 'John Doe'}"
      ],
      "metadata": {
        "id": "KcIocMlWScY5"
      },
      "execution_count": null,
      "outputs": []
    },
    {
      "cell_type": "markdown",
      "source": [
        "Type class"
      ],
      "metadata": {
        "id": "qFOx1F-mStM3"
      }
    },
    {
      "cell_type": "code",
      "source": [
        "# In Python, a class is an object of the class type.\n",
        "# Because the type class creates other classes, we often refer to it as a metaclass. A metaclass is a class used to create other classes.\n",
        "class Person:\n",
        "    def __init__(self, name, age):\n",
        "        self.name = name\n",
        "        self.age = age\n",
        "\n",
        "    def greeting(self):\n",
        "        return f'Hi, I am {self.name}. I am {self.age} year old.'\n",
        "\n",
        "print(type(Person)) # <class 'type'> ie. The Person class is an object of the class type.\n",
        "print(isinstance(Person, type)) # True\n",
        "\n",
        "'''\n",
        "type(name, bases, dict)\n",
        "The constructor has three parameters for creating a new class:\n",
        "\n",
        "name    -> is the name of the class e.g., Person\n",
        "bases   -> is a tuple that contains the base classes of the new class. For example, the Person inherits from the object class,\n",
        "so the bases contains one class (object,)\n",
        "dict    -> is the class namespace\n",
        "'''"
      ],
      "metadata": {
        "id": "9o4FJCtKSudc"
      },
      "execution_count": null,
      "outputs": []
    },
    {
      "cell_type": "markdown",
      "source": [
        "Meta class\n",
        "\n",
        "A metaclass is a class that creates other classes. By default, Python uses the type metaclass to create other classes."
      ],
      "metadata": {
        "id": "QbRid2YTTAcd"
      }
    },
    {
      "cell_type": "code",
      "source": [
        "class Person:\n",
        "    def __init__(self, name, age):\n",
        "        self.name = name\n",
        "        self.age = age\n",
        "\n",
        "# When Python executes the code, it uses the type metaclass to create the Person class. The reason is that the Person class uses the type metaclass by default.\n",
        "# The explicit Person class definition looks like this:\n",
        "class Person(object, metaclass=type):\n",
        "    def __init__(self, name, age):\n",
        "        self.name = name\n",
        "        self.age = age\n",
        "\n",
        "# The metaclass argument allows you to specify which metaclass class to use to define the class.\n",
        "# Therefore, you can create a custom metaclass that has its own logic to create other classes.\n",
        "# By using a custom metaclass, you can inject functionality into the class creation process.\n",
        "\n",
        "# Metaclass Example\n",
        "class Human(type):\n",
        "    def __new__(mcs, name, bases, class_dict):\n",
        "        class_ = super().__new__(mcs, name, bases, class_dict)\n",
        "        class_.freedom = True\n",
        "        return class_\n",
        "\n",
        "class Person(object, metaclass=Human):\n",
        "    def __init__(self, name, age):\n",
        "        self.name = name\n",
        "        self.age = age\n",
        "\n",
        "pprint(Person.__dict__)\n",
        "# mappingproxy({'__dict__': <attribute '__dict__' of 'Person' objects>,\n",
        "#               '__doc__': None,\n",
        "#               '__init__': <function Person.__init__ at 0x000001E716C71670>,\n",
        "#               '__module__': '__main__',\n",
        "#               '__weakref__': <attribute '__weakref__' of 'Person' objects>,\n",
        "#               'freedom': True})"
      ],
      "metadata": {
        "id": "n2FzkaHzTCj0"
      },
      "execution_count": null,
      "outputs": []
    },
    {
      "cell_type": "code",
      "source": [
        "# Metaclass Parameters\n",
        "class Human(type):\n",
        "    def __new__(mcs, name, bases, class_dict, **kwargs):\n",
        "        class_ = super().__new__(mcs, name, bases, class_dict)\n",
        "        if kwargs:\n",
        "            for name, value in kwargs.items():\n",
        "                setattr(class_, name, value)\n",
        "        return class_\n",
        "\n",
        "class Person(object, metaclass=Human, country='USA', freedom=True):\n",
        "    def __init__(self, name, age):\n",
        "        self.name = name\n",
        "        self.age = age\n",
        "\n",
        "pprint(Person.__dict__)\n",
        "# mappingproxy({'__dict__': <attribute '__dict__' of 'Person' objects>,\n",
        "#               '__doc__': None,\n",
        "#               '__init__': <function Person.__init__ at 0x0000018A334235E0>,\n",
        "#               '__module__': '__main__',\n",
        "#               '__weakref__': <attribute '__weakref__' of 'Person' objects>,\n",
        "#               'country': 'USA',\n",
        "#               'freedom': True})\n",
        "\n",
        "### In practice, you often don’t need to use metaclasses unless you maintain or develop the core of large frameworks such as Django."
      ],
      "metadata": {
        "id": "ZgWKNpkKTuNK"
      },
      "execution_count": null,
      "outputs": []
    },
    {
      "cell_type": "markdown",
      "source": [
        "Data class\n",
        "\n",
        "The dataclass allows you to define classes with less code and more functionality out of the box."
      ],
      "metadata": {
        "id": "GyZ40iE9UEzg"
      }
    },
    {
      "cell_type": "code",
      "source": [
        "class Person:\n",
        "    def __init__(self, name, age):\n",
        "        self.name = name\n",
        "        self.age = age\n",
        "\n",
        "\"\"\"\n",
        "This Person class has the __init__ method that initializes the name and age attributes.\n",
        "If you want to have a string representation of the Person object, you need to implement the __str__ or __repr__ method. Also, if you want to compare two instances of the Person class by an attribute, you need to implement the __eq__ method.\n",
        "\n",
        "However, if you use the dataclass, you’ll have all of these features (and even more) without implementing these dunder methods.\n",
        "To make the Person class a data class, you follow these steps:\n",
        "\"\"\"\n",
        "\n",
        "from dataclasses import dataclass\n",
        "@dataclass\n",
        "class Person:\n",
        "    name: str\n",
        "    age: int\n",
        "\n",
        "# In this example, the Person class has two attributes name with the type str and age with the type int.\n",
        "# By doing this, the @dataclass decorator implicitly creates the __init__ method like this: def __init__(name: str, age: int)\n",
        "\n",
        "p1 = Person('John', 25)\n",
        "print(p1) # Person(name='John', age=25)\n",
        "\n",
        "p1 = Person('John', 25)\n",
        "p2 = Person('John', 25)\n",
        "print(p1 == p2) # True"
      ],
      "metadata": {
        "id": "0f3wnp-aUIcB"
      },
      "execution_count": null,
      "outputs": []
    },
    {
      "cell_type": "code",
      "source": [
        "# Data class Default values\n",
        "from dataclasses import dataclass\n",
        "\n",
        "@dataclass\n",
        "class Person:\n",
        "    name: str\n",
        "    age: int\n",
        "    iq: int = 100\n",
        "\n",
        "# equivalent to\n",
        "class Person:\n",
        "    def __init__(self, name, age, iq=100):\n",
        "        self.name = name\n",
        "        self.age = age\n",
        "        self.iq = iq\n",
        "\n",
        "p = Person('John Doe', 25)\n",
        "\n",
        "print(astuple(p)) # ('John Doe', 25, 100)\n",
        "print(asdict(p))  # {'name': 'John Doe', 'age': 25, 'iq': 100}"
      ],
      "metadata": {
        "id": "C560QhtPUtNs"
      },
      "execution_count": null,
      "outputs": []
    },
    {
      "cell_type": "code",
      "source": [
        "# create immutable objects\n",
        "from dataclasses import dataclass, astuple, asdict\n",
        "\n",
        "@dataclass(frozen=True)\n",
        "class Person:\n",
        "    name: str\n",
        "    age: int\n",
        "    iq: int = 100\n",
        "\n",
        "p = Person('Jane Doe', 25)\n",
        "p.iq = 120  # dataclasses.FrozenInstanceError: cannot assign to field 'iq'"
      ],
      "metadata": {
        "id": "YAfGL7t6U_JT"
      },
      "execution_count": null,
      "outputs": []
    },
    {
      "cell_type": "code",
      "source": [
        "# Customize attribute behaviors\n",
        "# If don’t want to initialize an attribute in the __init__ method, you can use the field() function from the dataclasses module.\n",
        "# The following example defines the can_vote attribute that is initialized using the __init__ method:\n",
        "from dataclasses import dataclass, field\n",
        "\n",
        "@dataclass\n",
        "class Person:\n",
        "    name: str\n",
        "    age: int\n",
        "    iq: int = 100\n",
        "    can_vote: bool = field(init=False)\n",
        "\n",
        "    def __post_init__(self):\n",
        "        print('called __post_init__ method')\n",
        "        self.can_vote = 18 <= self.age <= 70\n",
        "\n",
        "p = Person('Jane Doe', 25)\n",
        "print(p)  # Person(name='Jane Doe', age=25, iq=100, can_vote=True)"
      ],
      "metadata": {
        "id": "sjr_lNW0VJPo"
      },
      "execution_count": null,
      "outputs": []
    },
    {
      "cell_type": "code",
      "source": [
        "# Sort objects\n",
        "from dataclasses import dataclass, field\n",
        "\n",
        "@dataclass(order=True)\n",
        "class Person:\n",
        "    sort_index: int = field(init=False, repr=False)\n",
        "\n",
        "    name: str\n",
        "    age: int\n",
        "    iq: int = 100\n",
        "    can_vote: bool = field(init=False)\n",
        "\n",
        "    def __post_init__(self):\n",
        "        self.can_vote = 18 <= self.age <= 70\n",
        "        # sort by age\n",
        "        self.sort_index = self.age\n",
        "\n",
        "members = [\n",
        "    Person(name='John', age=25),\n",
        "    Person(name='Bob', age=35),\n",
        "    Person(name='Alice', age=30)\n",
        "]\n",
        "\n",
        "sorted_members = sorted(members)\n",
        "for member in sorted_members:\n",
        "    print(f'{member.name}(age={member.age})')\n",
        "\"\"\"\n",
        "output:\n",
        "  John(age=25)\n",
        "  Alice(age=30)\n",
        "  Bob(age=35)\n",
        "\"\"\""
      ],
      "metadata": {
        "id": "bqxWF3vgVd0g"
      },
      "execution_count": null,
      "outputs": []
    },
    {
      "cell_type": "markdown",
      "source": [
        "# Python String methods"
      ],
      "metadata": {
        "id": "Q9iR4TaEWtuX"
      }
    },
    {
      "cell_type": "code",
      "source": [
        "# --------------------- Capitalize the string\n",
        "print('bob is a CEO at ABC.'.capitalize())  # Bob is a ceo at abc.\n",
        "print('42 is my FAVOURITE number.'.capitalize())  # 42 is my favourite number."
      ],
      "metadata": {
        "id": "7sU69_2LXA1u"
      },
      "execution_count": null,
      "outputs": []
    },
    {
      "cell_type": "code",
      "source": [
        "# --------------------- Casefold (more aggressive than lower() because it is intended to remove all case distinctions in a string.)\n",
        "print('Hello, World!'.casefold()) # hello, world!\n",
        "\n",
        "print('Das straße'.casefold())  # das strasse\n",
        "print('Das straße'.lower())  # das straße"
      ],
      "metadata": {
        "id": "OFN6q0sdXYcJ"
      },
      "execution_count": null,
      "outputs": []
    },
    {
      "cell_type": "code",
      "source": [
        "# --------------------- Center\n",
        "print('Centered'.center(14))        # | | | |C|e|n|t|e|r|e|d| | | |\n",
        "print('Centered'.center(14, '*'))   # |*|*|*|C|e|n|t|e|r|e|d|*|*|*|\n",
        "\n",
        "print('{:*^14}'.format('Centered')) # ***Centered***"
      ],
      "metadata": {
        "id": "YpIu3DpFfCX7"
      },
      "execution_count": null,
      "outputs": []
    },
    {
      "cell_type": "code",
      "source": [
        "# --------------------- Count\n",
        "print('Big, Bigger, Biggest'.count('Big'))        # 3\n",
        "print('Big, Bigger, Biggest'.count('Big', 2))     # 2\n",
        "print('Big, Bigger, Biggest'.count('Big', 5, 13)) # 1"
      ],
      "metadata": {
        "id": "H2hDi28Afzno"
      },
      "execution_count": null,
      "outputs": []
    },
    {
      "cell_type": "code",
      "source": [
        "# --------------------- encode\n",
        "print('Das straße'.encode())  # b'Das stra\\xc3\\x9fe'\n",
        "\n",
        "x = S.encode(encoding='ascii',errors='backslashreplace')\n",
        "print(x)  # b'Das stra\\\\xdfe'\n",
        "\n",
        "x = S.encode(encoding='ascii',errors='ignore')\n",
        "print(x)  # b'Das strae'\n",
        "\n",
        "x = S.encode(encoding='ascii',errors='namereplace')\n",
        "print(x)  # b'Das stra\\\\N{LATIN SMALL LETTER SHARP S}e'\n",
        "\n",
        "x = S.encode(encoding='ascii',errors='replace')\n",
        "print(x)  # b'Das stra?e'\n",
        "\n",
        "x = S.encode(encoding='ascii',errors='xmlcharrefreplace')\n",
        "print(x)  # b'Das straße'\n",
        "\n",
        "x = S.encode(encoding='UTF-8',errors='strict')\n",
        "print(x)  # b'Das stra\\xc3\\x9fe'"
      ],
      "metadata": {
        "id": "M0K-zclZgNv2"
      },
      "execution_count": null,
      "outputs": []
    },
    {
      "cell_type": "code",
      "source": [
        "# --------------------- startswith()\n",
        "# method returns True if the string starts with the specified prefix, otherwise returns False.\n",
        "print('Bob is a CEO.'.startswith('Bob'))            # True\n",
        "print('Bob is a CEO at ABC'.startswith('CEO',9,18)) # True\n",
        "\n",
        "suffixes = ('Bob','Max','Sam')\n",
        "print('Bob is a CEO'.startswith(suffixes))          # True\n",
        "print('Bob is a CEO'.startswith(suffixes))          # True\n",
        "\n",
        "# --------------------- endswith\n",
        "print('Bob is a CEO at ABC'.endswith('ABC'))        # True\n",
        "print('Is Bob a CEO?'.endswith('?'))                # True\n",
        "print('Bob is a CEO at ABC'.endswith('CEO',4,12))   # True\n",
        "\n",
        "suffixes = ('CEO','CFO','COO')\n",
        "print('Bob is a CEO'.endswith(suffixes))            # True\n",
        "print('Sam is a CFO'.endswith(suffixes))            # True"
      ],
      "metadata": {
        "id": "sLYD2jH1gc-Z"
      },
      "execution_count": null,
      "outputs": []
    },
    {
      "cell_type": "code",
      "source": [
        "# --------------------- expandtabs\n",
        "# method replaces each tab character ‘\\t‘ in a string with specified number of spaces\n",
        "print('a\\tb\\tc'.expandtabs())           # |a| | | | | | | |b| | | | | | | |c|\n",
        "print('aaaa\\tbbbb\\tcccc'.expandtabs())  # |a|a|a|a| | | | |b|b|b|b| | | | |c|c|c|c|\n",
        "\n",
        "print('a\\tb\\tc'.expandtabs(2))  # |a| |b| |c|\n",
        "print('a\\tb\\tc'.expandtabs(4))  # |a| | | |b| | | |c|\n",
        "print('a\\tb\\tc'.expandtabs(6))  # |a| | | | | |b| | | | | |c|"
      ],
      "metadata": {
        "id": "-f82_y4vgidC"
      },
      "execution_count": null,
      "outputs": []
    },
    {
      "cell_type": "code",
      "source": [
        "# --------------------- find()\n",
        "# method searches for the first occurrence of the specified substring sub and returns its index.\n",
        "# If specified substring is not found, it returns -1.\n",
        "print('Bob is a Developer at ABC'.find('Developer'))  # 9\n",
        "\n",
        "print('Bob is a Developer at ABC'.find('Manager'))  # -1\n",
        "\n",
        "print('Big, Bigger, Biggest'.find('Big',7))     # 13\n",
        "print('Big, Bigger, Biggest'.find('Big',2,10))  # 5\n",
        "\n",
        "# find() method is identical to the index() method.\n",
        "# index() method raises a ValueError exception, if the substring is not found.\n",
        "\n",
        "# --------------------- rfind()\n",
        "# method searches for the last occurrence of the specified substring sub and returns its index. If specified substring is not found, it returns -1.\n",
        "print('Big, Bigger, Biggest'.rfind('Big'))      # 13\n",
        "print('Big, Bigger, Biggest'.rfind('Small'))    # -1\n",
        "print('Big, Bigger, Biggest'.rfind('Big',2,10)) # 5\n",
        "\n",
        "# The rfind() method is identical to the rindex() method.\n",
        "# The only difference is that the rindex() method raises a ValueError exception, if the substring is not found."
      ],
      "metadata": {
        "id": "m7J5kMljh5_K"
      },
      "execution_count": null,
      "outputs": []
    },
    {
      "cell_type": "code",
      "source": [
        "# --------------------- isalnum()\n",
        "# method returns TRUE if the string is nonempty and all characters in it are alphanumeric. Otherwise, it returns FALSE.\n",
        "# A character is alphanumeric if it is either a letter [a-z],[A-Z] or a number[0-9].\n",
        "print('abc123'.isalnum())   # True\n",
        "print('abc-123'.isalnum())  # False\n",
        "print('*abc123?'.isalnum()) # False\n",
        "print('abc 123'.isalnum())  # False\n",
        "print(''.isalnum())         # False"
      ],
      "metadata": {
        "id": "mTo8FF0iinXC"
      },
      "execution_count": null,
      "outputs": []
    },
    {
      "cell_type": "code",
      "source": [
        "# --------------------- isalpha()\n",
        "# method returns TRUE if the string is nonempty and all characters in it are alphabetic (a-z or A-Z). Otherwise, it returns FALSE.\n",
        "print('abc'.isalpha())      # True\n",
        "print('123'.isalpha())      # False\n",
        "print('abc123'.isalpha())   # False\n",
        "print('abc xyz'.isalpha())  # False\n",
        "print(''.isalpha())         # False"
      ],
      "metadata": {
        "id": "QPclXBQrjQwf"
      },
      "execution_count": null,
      "outputs": []
    },
    {
      "cell_type": "code",
      "source": [
        "# --------------------- isdecimal()\n",
        "# method returns TRUE if the string is nonempty and all characters in it are decimal characters. Otherwise, it returns FALSE.\n",
        "# --------------------- isdigit()\n",
        "# method returns TRUE if the string is nonempty and all characters in it are digits. Otherwise, it returns FALSE.\n",
        "print('123'.isdecimal())        # True\n",
        "print('123.456'.isdecimal())    # False\n",
        "print('1,234,567'.isdecimal())  # False\n",
        "print(''.isdecimal())           # False\n",
        "\n",
        "print('123'.isdigit())          # True\n",
        "print('123.456'.isdigit())      # False\n",
        "print('123.456'.isdigit())      # False\n",
        "print(''.isdigit())             # False\n",
        "print('10²'.isdigit())          # True\n",
        "\n",
        "print('123'.isnumeric())          # True\n",
        "print('123.456'.isnumeric())      # False\n",
        "print('123.456'.isnumeric())      # False\n",
        "print(''.isnumeric())             # False\n",
        "print('\\u00b2'.isnumeric())       # True\n",
        "print('\\u2153'.isnumeric())       # True\n",
        "\n",
        "# isdecimal() vs isdigit() vs isnumeric()\n",
        "print('42'.isdecimal())        # True\n",
        "print('42'.isdigit())          # True\n",
        "print('42'.isnumeric())        # True\n",
        "\n",
        "print('\\u00b2'.isdecimal())    # False\n",
        "print('\\u00b2'.isdigit())      # True\n",
        "print('\\u00b2'.isnumeric())    # True\n",
        "\n",
        "print('\\u2153'.isdecimal())    # False\n",
        "print('\\u2153'.isdigit())      # False\n",
        "print('\\u2153'.isnumeric())    # True\n",
        "\n",
        "\"\"\"\n",
        "isdecimal() -> method supports only Decimal Numbers.\n",
        "isdigit()   -> method supports Decimals, Subscripts, Superscripts.\n",
        "isnumeric() -> method supports Digits, Vulgar Fractions, Subscripts, Superscripts, Roman Numerals, Currency Numerators.\n",
        "\"\"\""
      ],
      "metadata": {
        "id": "2Ik8Ctq_jsE5"
      },
      "execution_count": null,
      "outputs": []
    },
    {
      "cell_type": "code",
      "source": [
        "# --------------------- isidentifier()\n",
        "# method returns TRUE if the string is a valid identifier according to the language definition, and FALSE otherwise.\n",
        "print('totalCount'.isidentifier())    # True\n",
        "print('total_Count'.isidentifier())   # True\n",
        "print('total Count'.isidentifier())   # False\n",
        "print('total-Count'.isidentifier())   # False\n",
        "\n",
        "print('123totalCount'.isidentifier()) # False\n",
        "print('totalCount123'.isidentifier()) # True\n",
        "\n",
        "print('class'.isidentifier())         # True\n",
        "\n",
        "# To test whether a string matches a Python keyword, use keyword.iskeyword()\n",
        "from keyword import iskeyword\n",
        "print(iskeyword('class')) # True\n",
        "\n",
        "# So, a string is considered a valid identifier if .isidentifier() returns True and iskeyword() returns False."
      ],
      "metadata": {
        "id": "CrVXH5H0lazy"
      },
      "execution_count": null,
      "outputs": []
    },
    {
      "cell_type": "code",
      "source": [
        "# --------------------- islower()\n",
        "print('abcd'.islower())     # True\n",
        "print('123$@%'.islower())   # False\n",
        "print('a123$@%'.islower())  # True\n",
        "print('abcdE'.islower())    # False"
      ],
      "metadata": {
        "id": "uuqqWK17l6Ub"
      },
      "execution_count": null,
      "outputs": []
    },
    {
      "cell_type": "code",
      "source": [
        "# --------------------- isprintable()\n",
        "# Carriage return \\r , line feed \\n and tab \\t are examples of nonprintable characters.\n",
        "print('Hello, World!'.isprintable())      # True\n",
        "print('\\tHello,\\nWorld!'.isprintable())   # False\n",
        "print(''.isprintable())                   # False"
      ],
      "metadata": {
        "id": "r_r0rBFImjjV"
      },
      "execution_count": null,
      "outputs": []
    },
    {
      "cell_type": "code",
      "source": [
        "# --------------------- isspace()\n",
        "# method returns TRUE if the string is nonempty and all characters in it are whitespace characters. Otherwise, it returns FALSE.\n",
        "print('    '.isspace())           # True\n",
        "print('   a'.isspace())           # False\n",
        "print(' \\t \\n \\r \\f '.isspace())  # True\n",
        "print('\\u2005 \\u2007'.isspace())  # True"
      ],
      "metadata": {
        "id": "TL-aOMPonD8l"
      },
      "execution_count": null,
      "outputs": []
    },
    {
      "cell_type": "code",
      "source": [
        "# --------------------- istitle()\n",
        "# method returns TRUE if the string is nonempty and a titlecased string. Otherwise, it returns FALSE.\n",
        "print('Hello World'.istitle())              # True\n",
        "print('*** Hello, World! 123'.istitle())    # True\n",
        "\n",
        "print('HELLO, WORLD!'.istitle())            # False\n",
        "print('hello, world'.istitle())             # False"
      ],
      "metadata": {
        "id": "6tJi7z9LnhXk"
      },
      "execution_count": null,
      "outputs": []
    },
    {
      "cell_type": "code",
      "source": [
        "# --------------------- isupper()\n",
        "# method return TRUE if all cased characters in the string are uppercase and there is at least one cased character, false otherwise.\n",
        "print('ABCD'.isupper())     # True\n",
        "print('123$@%'.isupper())   # False\n",
        "print('A123$@%'.isupper())  # True\n",
        "print('ABCDe'.isupper())    # False"
      ],
      "metadata": {
        "id": "k7TGzFTZn-em"
      },
      "execution_count": null,
      "outputs": []
    },
    {
      "cell_type": "code",
      "source": [
        "# --------------------- join()\n",
        "# method joins all items in an iterable into a single string. Call this method on a string you want to use as a delimiter like comma, space etc.\n",
        "print(','.join(['red', 'green', 'blue']))             # red,green,blue\n",
        "print(' '.join(['The', 'World', 'is', 'Beautiful']))  # The World is Beautiful\n",
        "print('\\n'.join(['First Line', 'Second Line']))\n",
        "# First Line\n",
        "# Second Line\n",
        "\n",
        "print(','.join(['red']))  # red\n",
        "\n",
        "# If there are any non-string values in iterable, a TypeError will be raised.\n",
        "# to avoid those scenarios, you need to convert each item in a list to string.\n",
        "print(','.join(str(val) for val in [1, 2, 3, 4, 5, 6])) # 1,2,3,4,5,6\n",
        "\n",
        "# dictionary\n",
        "L = {'name':'Bob', 'city':'seattle'}\n",
        "print(','.join(L))  # city,name\n",
        "print(','.join(L.values())) # seattle,Bob\n",
        "print(','.join('='.join((key,val)) for (key,val) in L.items())) # city=seattle,name=Bob\n",
        "\n",
        "print(''.join(['aaa','bbb'])) # aaabbb"
      ],
      "metadata": {
        "id": "iPBHrVHSoWLf"
      },
      "execution_count": null,
      "outputs": []
    },
    {
      "cell_type": "code",
      "source": [
        "# --------------------- ljust()\n",
        "# method returns left-justified string of length width. Padding is done using the specified fillchar (default is an ASCII space).\n",
        "print('Left'.ljust(12))         # |L|e|f|t| | | | | | | | |\n",
        "print('Left'.ljust(12, '*'))    # |L|e|f|t|*|*|*|*|*|*|*|*|\n",
        "print('{:<12}'.format('Left'))  # |L|e|f|t|*|*|*|*|*|*|*|*|\n",
        "\n",
        "# --------------------- rjust()\n",
        "# method returns right-justified string of length width. Padding is done using the specified fillchar (default is an ASCII space).\n",
        "print('Right'.ljust(12))         # | | | | | | | |R|i|g|h|t|\n",
        "print('Right'.rjust(12, '*'))    # |*|*|*|*|*|*|*|R|i|g|h|t|\n",
        "print('{:<12}'.format('Right'))  # |*|*|*|*|*|*|*|R|i|g|h|t|"
      ],
      "metadata": {
        "id": "CPa7KoTCpqeU"
      },
      "execution_count": null,
      "outputs": []
    },
    {
      "cell_type": "code",
      "source": [
        "# --------------------- lower()\n",
        "# method returns a copy of the string with all the characters converted to lowercase. This method does not change the original string.\n",
        "print('Hello, World!'.lower())  # hello, world!\n",
        "\n",
        "# --------------------- upper()\n",
        "# method returns a copy of the string with all the characters converted to uppercase. This method does not change the original string.\n",
        "print('Hello, World!'.upper())  # HELLO, WORLD!"
      ],
      "metadata": {
        "id": "jN4hLmo5qNvJ"
      },
      "execution_count": null,
      "outputs": []
    },
    {
      "cell_type": "code",
      "source": [
        "# --------------------- strip()\n",
        "# method removes whitespace from the beginning (leading) and end (trailing) of the string by default.\n",
        "print('   Hello, World!   '.strip())        # |H|e|l|l|o|,| |W|o|r|l|d|!|\n",
        "print(' \\t\\n\\r Hello, World!    '.strip())  # |H|e|l|l|o|,| |W|o|r|l|d|!|\n",
        "print('aaabaaaa'.lstrip('a'))               # b\n",
        "\n",
        "# multiple chars\n",
        "print('www.example.com'.lstrip('cmowz.'))             # example\n",
        "print('xxxxSxxxxSxxxx'.lstrip('x'))                   # SxxxxS\n",
        "print('... - Version 3.2 Model-32 ...'.lstrip('.- ')) # Version 3.2 Model-32\n",
        "\n",
        "# --------------------- lstrip()\n",
        "# method removes whitespace from the beginning (leading) of the string by default.\n",
        "print('   Hello, World!   '.lstrip())       # | | | |H|e|l|l|o|,| |W|o|r|l|d|!|\n",
        "print(' \\t\\n\\r Hello, World!    '.lstrip()) # |H|e|l|l|o|,| |W|o|r|l|d|!| | | | |\n",
        "print('aaaaab'.lstrip('a'))                 # b\n",
        "\n",
        "# multiple chars\n",
        "print('http://www.example.com'.lstrip('hwtp:/.')) # example.com\n",
        "print('xxxxSxxxxSxxxx'.lstrip('x'))               # SxxxxSxxxx\n",
        "print('... - Version 3.2 Model-32'.lstrip('.- ')) # Version 3.2 Model-32\n",
        "\n",
        "# --------------------- rstrip()\n",
        "# method removes whitespace from the right end (trailing) of the string by default.\n",
        "print('   Hello, World!   '.rstrip())       # |H|e|l|l|o|,| |W|o|r|l|d|!| | | |\n",
        "print('    Hello, World! \\t\\n\\r '.rstrip()) # | | | | |H|e|l|l|o|,| |W|o|r|l|d|!|\n",
        "print('baaaaa'.rstrip('a'))                 # b\n",
        "\n",
        "# multiple chars\n",
        "print('example.com/wow'.rstrip('wo/'))            # example.com\n",
        "print('xxxxSxxxxSxxxx'.rstrip('x'))               # xxxxSxxxxS\n",
        "print('Version 3.2 Model-32 - ...'.rstrip('.- ')) # Version 3.2 Model-32"
      ],
      "metadata": {
        "id": "jh4ZPl49qX9U"
      },
      "execution_count": null,
      "outputs": []
    },
    {
      "cell_type": "code",
      "source": [
        "# --------------------- partition()\n",
        "# method splits the string at the first occurrence of separator, and returns a tuple containing three items.\n",
        "print('Do it now and keep it simple'.partition('and'))  # ('Do it now ', 'and', ' keep it simple')\n",
        "print('Do it now and keep it simple'.partition('and'))  # ('Do it now and keep it simple', '', '')\n",
        "\n",
        "# multiple matches\n",
        "print('Do it now and keep it simple'.partition('it'))   # ('Do ', 'it', ' now and keep it simple')\n",
        "\n",
        "# --------------------- rpartition()\n",
        "# method splits the string at the last occurrence of separator, and returns a tuple containing three items.\n",
        "print('Do it now and keep it simple'.rpartition('and'))  # ('Do it now ', 'and', ' keep it simple')\n",
        "print('Do it now and keep it simple'.rpartition('and'))  # ('', '', 'Do it now and keep it simple')\n",
        "\n",
        "# multiple matches\n",
        "print('Do it now and keep it simple'.rpartition('it'))   # ('Do it now and keep ', 'it', ' simple')"
      ],
      "metadata": {
        "id": "o5TpZKsgrbF2"
      },
      "execution_count": null,
      "outputs": []
    },
    {
      "cell_type": "code",
      "source": [
        "# --------------------- replace()\n",
        "# method returns a copy of string with all occurrences of old substring replaced by new.\n",
        "print('Hello, World!'.replace('World','Universe'))          # Hello, Universe!\n",
        "print('Long, Longer, Longest'.replace('Long','Small'))      # Small, Smaller, Smallest\n",
        "print('Long, Longer, Longest'.replace('Long','Small', 2))   # Small, Smaller, Longest"
      ],
      "metadata": {
        "id": "b_2-bAJIr3kX"
      },
      "execution_count": null,
      "outputs": []
    },
    {
      "cell_type": "code",
      "source": [
        "# --------------------- title()\n",
        "# method returns a copy of the string with first letter of each word is converted to uppercase and remaining letters are lowercase.\n",
        "print('hello, world!'.title())          # Hello, World!\n",
        "\n",
        "# unexpected behaviour of title()\n",
        "print('c3po is a droid'.title())        # C3Po Is A Droid\n",
        "print('they're bob's friends.'.title()) # They'Re Bob'S Friends.\n",
        "\n",
        "# Workaround\n",
        "import string\n",
        "print(string.capwords(\"c3po is a droid\"))         # C3po Is A Droid\n",
        "print(string.capwords(\"they're bob's friends.\"))  # They're Bob's Friends."
      ],
      "metadata": {
        "id": "ePBtRRAZyhZG"
      },
      "execution_count": null,
      "outputs": []
    },
    {
      "cell_type": "code",
      "source": [
        "# --------------------- split()\n",
        "# method splits the string on a specified delimiter and returns the list of substrings. When delimiter is not specified, the string is split on whitespace.\n",
        "print('The World is Beautiful'.split())       # ['The', 'World', 'is', 'Beautiful']\n",
        "print('  The    World is  Beautiful'.split()) # ['The', 'World', 'is', 'Beautiful']\n",
        "print('The\\n\\rWorld\\tis Beautiful'.split())   # ['The', 'World', 'is', 'Beautiful']\n",
        "\n",
        "print('red,green,blue'.split(','))            # ['red', 'green', 'blue']\n",
        "print('the beginning is the end is the beginning'.split(' is '))  # ['the beginning', 'the end', 'the beginning']\n",
        "\n",
        "# maxsplit\n",
        "print('The World is Beautiful'.split(None, 1))       # ['The', 'World is Beautiful']\n",
        "print('The World is Beautiful'.split(None, 2))       # ['The', 'World', 'is Beautiful']\n",
        "\n",
        "# multiple delimeters\n",
        "import re\n",
        "print(re.split('[,;:]','red,green;blue:yellow'))     # ['red', 'green', 'blue', 'yellow']\n",
        "\n",
        "# --------------------- rsplit()\n",
        "# method splits the string on a specified delimiter and returns the list of substrings.\n",
        "print('The World is Beautiful'.rsplit())       # ['The', 'World', 'is', 'Beautiful']\n",
        "\n",
        "print('red,green,blue'.rsplit(','))            # ['red', 'green', 'blue']\n",
        "print('the beginning is the end is the beginning'.rsplit(' is '))  # ['the beginning', 'the end', 'the beginning']\n",
        "\n",
        "# maxsplit\n",
        "print('The World is Beautiful'.rsplit(None, 1))       # ['The World is', 'Beautiful']\n",
        "print('The World is Beautiful'.rsplit(None, 2))       # ['The World', 'is', 'Beautiful']\n",
        "\n",
        "# --------------------- splitlines()\n",
        "# method splits a string at line breaks and returns them in a list.\n",
        "print('First line\\nSecond line'.splitlines())         # ['First line', 'Second line']\n",
        "print('First\\nSecond\\r\\nThird\\fFourth'.splitlines())  # ['First', 'Second', 'Third', 'Fourth']\n",
        "\n",
        "# Keep Line Breaks in Result\n",
        "print('First line\\nSecond line'.splitlines(True))     # ['First line\\n', 'Second line']\n",
        "\n",
        "# --------------------- splitlines() vs split()\n",
        "# splitlines()\n",
        "print(''.splitlines())  # []\n",
        "# split()\n",
        "print(''.split('\\n'))   # ['']\n",
        "\n",
        "# splitlines()\n",
        "print('One line\\n'.splitlines())  # ['One line']\n",
        "# split()\n",
        "print('One line\\n'.split('\\n'))   # ['One line', '']"
      ],
      "metadata": {
        "id": "hHRJxcvksYnc"
      },
      "execution_count": null,
      "outputs": []
    },
    {
      "cell_type": "code",
      "source": [
        "# --------------------- swapcase()\n",
        "# method returns a copy of the string with uppercase characters converted to lowercase and vice versa. This method does not change the original string.\n",
        "print('Hello, World!'.swapcase()) # hELLO, wORLD!\n",
        "print('123 abc $@%'.swapcase())   # 123 abc $@%"
      ],
      "metadata": {
        "id": "F7X0IWnJ2UY1"
      },
      "execution_count": null,
      "outputs": []
    },
    {
      "cell_type": "code",
      "source": [
        "# --------------------- zfill()\n",
        "# method returns a copy of string left padded with ‘0’ characters to make a string of length width.\n",
        "print('42'.zfill(6))          # 000042\n",
        "print('+42'.zfill(6))         # +00042\n",
        "print('-42'.zfill(6))         # -00042\n",
        "\n",
        "print('{:0>6}'.format('42'))  # 000042"
      ],
      "metadata": {
        "id": "KmP5F41E2nsp"
      },
      "execution_count": null,
      "outputs": []
    },
    {
      "cell_type": "code",
      "source": [
        "# --------------------- format()\n"
      ],
      "metadata": {
        "id": "mIFg4m0S2_Q5"
      },
      "execution_count": null,
      "outputs": []
    },
    {
      "cell_type": "markdown",
      "source": [
        "# Python Built-in Functions"
      ],
      "metadata": {
        "id": "PklzkuISSthl"
      }
    },
    {
      "cell_type": "code",
      "source": [
        "# --------------------- abs()\n",
        "# method returns the absolute value of a number.\n",
        "print(abs(-10))     # 10\n",
        "print(abs(-2.5))    # 2.5\n",
        "print(abs(3 + 4j))  # 5"
      ],
      "metadata": {
        "id": "nmzMAV-NS3kk"
      },
      "execution_count": null,
      "outputs": []
    },
    {
      "cell_type": "code",
      "source": [
        "# --------------------- all()\n",
        "# function returns True if all items in an iterable are True. Otherwise, it returns False.\n",
        "print(all([1, 1, 1]))             # True\n",
        "print(all([0, 1, 1]))             # False\n",
        "print(all([True, 0, 1]))          # False\n",
        "print(all({0j, 3+4j}))            # False\n",
        "print(all(('', 'red', 'green')))  # False\n",
        "\n",
        "print(all({0: 'Zero', 1: 'One', 2: 'Two'}))   # False\n",
        "print(all({'Zero': 0, 'One': 1, 'Two': 2}))   # True\n",
        "\n",
        "print(all([]))        # True\n",
        "print(all([[], []]))  # False"
      ],
      "metadata": {
        "id": "3DfzHxO2TKda"
      },
      "execution_count": null,
      "outputs": []
    },
    {
      "cell_type": "code",
      "source": [
        "# --------------------- any()\n",
        "# function returns True if any item in an iterable is True. Otherwise, it returns False.\n",
        "print(all([0, 0, 0]))             # False\n",
        "print(all([0, 1, 0]))             # True\n",
        "print(all([False, 0, 1]))         # True\n",
        "print(all(['', [], 'blue']))      # True\n",
        "print(all({0j, 3+4j, 0.0}))       # True\n",
        "\n",
        "print(all({0: 'Zero', 0: 'Nil'}))   # False\n",
        "print(all({'Zero': 0, 'Nil': 0}))   # True\n",
        "\n",
        "print(all([]))        # False"
      ],
      "metadata": {
        "id": "fYTfCLzNUFo4"
      },
      "execution_count": null,
      "outputs": []
    },
    {
      "cell_type": "code",
      "source": [
        "# --------------------- ascii()\n",
        "# function returns a string containing a printable version of an object. It replaces any non-ascii characters with escape characters \\x, \\u or \\U\n",
        "print(ascii('Das straße'))                            # 'Das stra\\xdfe'\n",
        "print(ascii(['The street', 'Das straße']))            # ['The street', 'Das stra\\xdfe']\n",
        "print(ascii({'EN':'The street', 'DE':'Das straße'}))  # {'EN': 'The street', 'DE': 'Das stra\\xdfe'}"
      ],
      "metadata": {
        "id": "TIEVEAPZUrUc"
      },
      "execution_count": null,
      "outputs": []
    },
    {
      "cell_type": "code",
      "source": [
        "# --------------------- bin()\n",
        "# function converts an integer number to a binary string. The result will always be prefixed with '0b'.\n",
        "print(bin(42))    # 0b101010\n",
        "print(bin(-42))   # -0b101010\n",
        "print(bin(0xF))   # 0b1111\n",
        "print(bin(0o12))  # 0b1010"
      ],
      "metadata": {
        "id": "t2YbCILYVIgb"
      },
      "execution_count": null,
      "outputs": []
    },
    {
      "cell_type": "code",
      "source": [
        "# --------------------- bool()\n",
        "# function converts a value to a boolean value i.e. one of True or False.\n",
        "print(bool(0))\t\t\t  # False\n",
        "print(bool([]))\t\t\t  # False\n",
        "print(bool(0.0))\t\t  # False\n",
        "print(bool(None))\t\t  # False\n",
        "print(bool(0j))\t\t\t  # False\n",
        "print(bool(range(0)))\t# False\n",
        "\n",
        "print(bool(1))\t\t\t  # True\n",
        "print(bool([0]))\t\t  # True\n",
        "print(bool([1, 2]))\t\t# True\n",
        "print(bool(10))\t\t\t  # True\n",
        "print(bool(3+4j))\t\t  # True\n",
        "print(bool(range(2)))\t# True"
      ],
      "metadata": {
        "id": "_r3lMM3vVMBc"
      },
      "execution_count": null,
      "outputs": []
    },
    {
      "cell_type": "code",
      "source": [
        "# --------------------- chr()\n",
        "# function returns the character that represents the specified number (unicode code point).\n",
        "# The valid range for the number is from 0 to 1,114,111 (0x10FFFF).\n",
        "# ValueError will be raised if you specify number outside that range.\n",
        "# You can convert it back to unicode using the ord() function.\n",
        "\n",
        "print(char(65))       # A\n",
        "print(char(97))       # a\n",
        "print(char(8364))     # €\n",
        "print(char(0x24))     # $\n",
        "print(char(0x110000)) # Triggers ValueError: chr() arg not in range(0x110000)"
      ],
      "metadata": {
        "id": "HiHNFgkmVM0a"
      },
      "execution_count": null,
      "outputs": []
    },
    {
      "cell_type": "code",
      "source": [
        "# --------------------- divmod()\n",
        "# function returns a tuple containing the quotient and the remainder when dividend is divided by divisor.\n",
        "print(divmod(5, 2))   # (2, 1)\n",
        "'''\n",
        "a = 5\n",
        "b = 2\n",
        "print((a // b, a % b))  # (2, 1)\n",
        "'''"
      ],
      "metadata": {
        "id": "jmolwJx0VNhG"
      },
      "execution_count": null,
      "outputs": []
    },
    {
      "cell_type": "code",
      "source": [
        "# --------------------- enumerate()\n",
        "# function adds a counter to an iterable and returns it as an enumerate object.\n",
        "# By default, enumerate() starts counting at 0 but if you add a second argument start, it’ll start from that number instead.\n",
        "print(list(enumerate(['red', 'green', 'blue'])))      # [(0, 'red'), (1, 'green'), (2, 'blue')]\n",
        "print(list(enumerate(['red', 'green', 'blue'], 10)))  # [(10, 'red'), (11, 'green'), (12, 'blue')]\n",
        "\n",
        "for pair in enumerate(['red', 'green', 'blue']):\n",
        "  print(pair)\n",
        "# (0, 'red')\n",
        "# (1, 'green')\n",
        "# (2, 'blue')\n",
        "\n",
        "for index, pair in enumerate(['red', 'green', 'blue']):\n",
        "  print(index, pair)\n",
        "# 0, red\n",
        "# 1, green\n",
        "# 2, blue"
      ],
      "metadata": {
        "id": "p8W4JwqwXjQA"
      },
      "execution_count": null,
      "outputs": []
    },
    {
      "cell_type": "code",
      "source": [
        "# --------------------- id()\n",
        "# function returns a unique id for the specified object.\n",
        "# In Python, every object has its own unique id. Every time you create an object, a unique id is assigned to it.\n",
        "# The id is nothing but the address of the object in memory. So, it will be different for each time you run the program. But, there are some exceptions.\n",
        "print(id('Hello!')) # 34936992\n",
        "\n",
        "print(id(9999)) # 33739544\n",
        "\n",
        "print(id(['red', 'green', 'blue'])) # 33866256\n",
        "\n",
        "class myfunc:\n",
        "  pass\n",
        "print(id(myfunc())) # 33666912\n",
        "\n",
        "x = 42\n",
        "y = x\n",
        "print(x is y) # True (comparing two ids)\n",
        "\n",
        "# exceptions\n",
        "# Some objects have same id (actually one object with multiple pointer), like\n",
        "# Small integers between -5 and 256\n",
        "# Small interned strings (usually less than 20 character)\n",
        "print(30 is 20+10)  # True\n",
        "print('aa'*2 is 'a'*4)  # True"
      ],
      "metadata": {
        "id": "_TuRmJiCXnI8"
      },
      "execution_count": null,
      "outputs": []
    },
    {
      "cell_type": "code",
      "source": [
        "# --------------------- int()\n",
        "# function converts the specified value to integer. A value can be a number or a string, except complex numbers.\n",
        "print(int(4.2))   # 4\n",
        "print(int(4.99))  # 4\n",
        "print(int())      # 0\n",
        "print(int('69'))  # 69\n",
        "\n",
        "# You can also specify the base of the given value. Valid values are 0 and 2–36.\n",
        "# binary string\n",
        "print(int('1110', 2))   # 14\n",
        "print(int('0b1110', 2)) # 14\n",
        "print(int('0b1110', 0)) # 14\n",
        "\n",
        "# octal string\n",
        "print(int('10', 8))     # 8\n",
        "print(int('0o10', 8))   # 8\n",
        "print(int('0o10', 0))   # 8\n",
        "\n",
        "# hex string\n",
        "print(int('F', 16))     # 15\n",
        "print(int('0xF', 16))   # 15\n",
        "print(int('0xF', 0))    # 15"
      ],
      "metadata": {
        "id": "J1lzaGreXm5M"
      },
      "execution_count": null,
      "outputs": []
    },
    {
      "cell_type": "code",
      "source": [
        "# --------------------- len()\n",
        "# function returns the number of items of an object.\n",
        "print(len('python'))                    # 6\n",
        "print(len(['red', 'green', 'blue']))    # 3\n",
        "print(len(('red', 'green', 'blue')))    # 3\n",
        "print(len({'name': 'Bob', 'age': 25}))  # 2\n",
        "print(len({'red', 'green', 'blue'}))    # 3"
      ],
      "metadata": {
        "id": "L-PFrcglXmpv"
      },
      "execution_count": null,
      "outputs": []
    },
    {
      "cell_type": "code",
      "source": [
        "# --------------------- list()\n",
        "# function creates a list from an iterable.\n",
        "# The iterable may be a sequence (such as a string, tuple or range) or a collection (such as a dictionary, set or frozen set)\n",
        "# There is another way you can create lists based on existing lists. It is called List comprehension.\n",
        "print(list())                           # []\n",
        "print(list('abc'))                      # ['a', 'b', 'c']\n",
        "print(list((1, 2, 3)))                  # [1, 2, 3]\n",
        "print(list(range(0, 4)))                # [0, 1, 2, 3]\n",
        "print(list({'name': 'Bob', 'age': 25})) # ['age', 'name']\n",
        "print(list({1, 2, 3}))                  # [1, 2, 3]"
      ],
      "metadata": {
        "id": "9blpAoTFXmao"
      },
      "execution_count": null,
      "outputs": []
    },
    {
      "cell_type": "code",
      "source": [
        "# --------------------- max() max(val1,val2,val3… ,key) or max(iterable,key,default)\n",
        "# function can find\n",
        "# the largest of two or more values (such as numbers, strings etc.)\n",
        "# the largest item in an iterable (such as list, tuple etc.)\n",
        "print(max(10, 20, 30))                # 30\n",
        "print(max('red', 'green', 'blue'))    # red\n",
        "print(max([300, 500, 100, 400, 200])) # 500\n",
        "\n",
        "# empty list\n",
        "print(max([]))  # Triggers ValueError: max() arg is an empty sequence\n",
        "print(max([], default='0')) # 0\n",
        "\n",
        "# max with built-in functions\n",
        "print(max(['red', 'green', 'blue', 'black', 'orange'], key=len))    # orange\n",
        "\n",
        "# custom\n",
        "def myFunc(e):\n",
        "  return e[1]\t# return age\n",
        "L = [\n",
        "  ('Sam', 35),\n",
        "  ('Tom', 25),\n",
        "  ('Bob', 30)\n",
        "]\n",
        "print(max(L, key=myFunc)) # ('Sam', 35)\n",
        "\n",
        "# with lambda\n",
        "L = [\n",
        "  ('Sam', 35),\n",
        "  ('Tom', 25),\n",
        "  ('Bob', 30)\n",
        "]\n",
        "print(max(L, key=lambda student: student[1])) # ('Sam', 35)\n",
        "\n",
        "# custom object\n",
        "class Student:\n",
        "\tdef __init__(self, name, age):\n",
        "\t\tself.name = name\n",
        "\t\tself.age = age\n",
        "\tdef __repr__(self):\n",
        "\t\treturn repr((self.name, self.age))\n",
        "\n",
        "L = [\n",
        "  Student('Sam', 35),\n",
        "\tStudent('Tom', 25),\n",
        "\tStudent('Bob', 30)\n",
        "]\n",
        "print(max(L, key=lambda student: student.age))  # ('Sam', 35)\n",
        "\n",
        "# --------------------- min() min(val1,val2,val3… ,key) or min(iterable,key,default)\n",
        "# function can find\n",
        "# the smallest of two or more values (such as numbers, strings etc.)\n",
        "# the smallest item in an iterable (such as list, tuple etc.)"
      ],
      "metadata": {
        "id": "2byorIc3XmKt"
      },
      "execution_count": null,
      "outputs": []
    },
    {
      "cell_type": "code",
      "source": [
        "# --------------------- pow(x, y)\n",
        "# function calculates the value of x to the power of y ( x y ).\n",
        "# If a third argument z is specified, pow(x, y, z) function returns x to the power of y, modulus z ( x^y % z ).\n",
        "print(pow(5, 2))    # 25\n",
        "print(pow(-2, 3))   # -8\n",
        "print(pow(2.5, 2))  # 25\n",
        "print(pow(3+4j, 2)) # (-7+24j)\n",
        "print(pow(2, -2))   # 0.25\n",
        "\n",
        "print(pow(5, 2, 3)) # 1 i.e 5**2%3"
      ],
      "metadata": {
        "id": "uv5na2ZjXl4s"
      },
      "execution_count": null,
      "outputs": []
    },
    {
      "cell_type": "code",
      "source": [
        "# --------------------- print()\n",
        "# function prints the specified message to the screen or the text file. The message can be a string, or any other object (such as number, list, tuple etc.)\n",
        "'''\n",
        "Parameter\t    Condition\t    Description\n",
        "objects\t      Optional\t    Zero or more objects to print.\n",
        "sep\t          Optional\t    A string to print between each object. Default is a single space ‘ ‘\n",
        "end\t          Optional\t    A string to print at the end. Default is a newline ‘\\n’.\n",
        "file\t        Optional\t    An object with a write(string) method. Default is sys.stdout (screen)\n",
        "flush\t        Optional\t    If True, output buffer is forcibly flushed\n",
        "'''\n",
        "print('Hello, World!')                      # Hello, World!\n",
        "print('One','two','three','four','five')    # One two three four five\n",
        "print('One','two','three', sep='...')       # One...two...three\n",
        "\n",
        "# The print() function includes a newline \\n at the end by default.\n",
        "# To print the values without a trailing newline, specify end parameter.\n",
        "print('First line.', end=' ')\n",
        "print('Next line')\n",
        "# First line. Next line\n",
        "\n",
        "# file param\n",
        "with open('myfile.txt', 'w') as f:\n",
        "  print('Hello, World!', file=f)\n",
        "\n",
        "# print object\n",
        "print(['red', 'green', 'blue']) # ['red', 'green', 'blue']\n",
        "print((1, 2, 3))                # (1, 2, 3)"
      ],
      "metadata": {
        "id": "9fclJiIBXlnw"
      },
      "execution_count": null,
      "outputs": []
    },
    {
      "cell_type": "code",
      "source": [
        "# You generate a property by calling the property() built-in function, passing in three methods (getter, setter and deleter) as well as the docstring for the property.\n",
        "# If any argument is passed as None or omitted, that operation is not supported."
      ],
      "metadata": {
        "id": "ZJIbGb-AXlWt"
      },
      "execution_count": null,
      "outputs": []
    },
    {
      "cell_type": "code",
      "source": [
        "# --------------------- range()\n",
        "# function generates a sequence of numbers from start up to stop, and increments by step.\n",
        "for x in range(7):\n",
        "  print(x)  # 0 1 2 3 4 5 6\n",
        "\n",
        "for x in range(2, 7):\n",
        "  print(x)  # 2 3 4 5 6\n",
        "\n",
        "for x in range(-5,0):\n",
        "  print(x)  # -5 -4 -3 -2 -1\n",
        "\n",
        "for x in range(2, 7, 2):\n",
        "  print(x)  # 2 4 6\n",
        "\n",
        "for x in range(6, 1, -1):\n",
        "  print(x)  # 6 5 4 3 2\n",
        "\n",
        "print(list(range(7)))  # [0, 1, 2, 3, 4, 5, 6]\n",
        "\n",
        "print(range(7)[3])  # 3\n",
        "print(list(range(7)[2:5]))  # [2, 3, 4]\n",
        "\n",
        "import numpy\n",
        "for i in numpy.arange(0, 3, 0.5):\n",
        "  print(i)  # 0.0 0.5 1.0 1.5 2.0 2.5"
      ],
      "metadata": {
        "id": "lHyKkOKtXlGB"
      },
      "execution_count": null,
      "outputs": []
    },
    {
      "cell_type": "code",
      "source": [
        "# --------------------- round()\n",
        "# returns a number rounded to ndigits precision after the decimal point.\n",
        "# If ndigits is not specified, the number is rounded to the nearest integer.\n",
        "print(round(2.8))         # 3\n",
        "print(round(2.86542, 2))  # 2.87\n",
        "\n",
        "# round to ten's\n",
        "print(round(48, -1))      # 50\n",
        "print(round(148, -1))     # 150\n",
        "\n",
        "# Round to hundred's\n",
        "print(round(248, -2))     # 200\n",
        "print(round(268, -2))     # 300\n",
        "\n",
        "# rounding conversion\n",
        "print(round(2.865))       # 3\n",
        "print(round(2.865, 0))    # 3.0\n",
        "\n",
        "# rounding to even\n",
        "print(round(4.5))         # 4\n",
        "print(round(5.5))         # 6\n",
        "\n",
        "# rounding up\n",
        "import math\n",
        "print(math.ceil(4.5))     # 5\n",
        "\n",
        "# rounding down\n",
        "import math\n",
        "print(math.floor(4.5))    # 4"
      ],
      "metadata": {
        "id": "LqrB-cK_Xk1B"
      },
      "execution_count": null,
      "outputs": []
    },
    {
      "cell_type": "code",
      "source": [
        "# --------------------- slice()\n",
        "# function returns a slice object. A slice object is used to specify how to slice a sequence (list, tuple, string or range etc.) .\n",
        "# You can specify where to start the slicing, where to stop and specify the step.\n",
        "print(['a', 'b', 'c', 'd', 'e', 'f', 'g', 'h', 'i'][slice(5)])        # ['a', 'b', 'c', 'd', 'e']\n",
        "print(['a', 'b', 'c', 'd', 'e', 'f', 'g', 'h', 'i'][slice(2,7)])      # ['c', 'd', 'e', 'f', 'g']\n",
        "print(['a', 'b', 'c', 'd', 'e', 'f', 'g', 'h', 'i'][slice(2,7,2)])    # ['c', 'e', 'g']\n",
        "print(['a', 'b', 'c', 'd', 'e', 'f', 'g', 'h', 'i'][slice(-7,-2)])    # ['c', 'd', 'e', 'f', 'g']\n",
        "print(['a', 'b', 'c', 'd', 'e', 'f', 'g', 'h', 'i'][slice(2,-2)])     # ['c', 'd', 'e', 'f', 'g']\n",
        "print(['a', 'b', 'c', 'd', 'e', 'f', 'g', 'h', 'i'][slice(7,2,-2)])   # ['h', 'f', 'd']\n",
        "print(['a', 'b', 'c', 'd'][slice(None, None, -1)])                    # ['d', 'c', 'b', 'a']"
      ],
      "metadata": {
        "id": "uKYkpF-LXkg7"
      },
      "execution_count": null,
      "outputs": []
    },
    {
      "cell_type": "code",
      "source": [
        "# --------------------- sorted()\n",
        "# method sorts the items of any iterable\n",
        "print(sorted(['red', 'green', 'blue', 'orange']))                 # ['blue', 'green', 'orange', 'red']\n",
        "print(sorted([42, 99, 1, 12]))                                    # [1, 12, 42, 99]\n",
        "print(sorted(('cc', 'aa', 'dd', 'bb')))                           # ['aa', 'bb', 'cc', 'dd']\n",
        "print(sorted({'Bob':30, 'Sam':25, 'Max':35, 'Tom':20}))           # ['Bob', 'Max', 'Sam', 'Tom']\n",
        "print(sorted({'Bob':30, 'Sam':25, 'Max':35, 'Tom':20}.values()))  # [20, 25, 30, 35]\n",
        "print(sorted(['cc', 'aa', 'dd', 'bb'], reverse=True))             # ['dd', 'cc', 'bb', 'aa']\n",
        "\n",
        "print(sorted(['orange', 'red', 'green', 'blue'], key=len))        # ['red', 'blue', 'green', 'orange']\n",
        "\n",
        "# custom function\n",
        "def myFunc(e):\n",
        "  return e[1]\t# return age\n",
        "L = [\n",
        "  ('Sam', 35),\n",
        "  ('Max', 25),\n",
        "  ('Bob', 30)\n",
        "]\n",
        "print(sorted(L, key=myFunc))  # [('Max', 25), ('Bob', 30), ('Sam', 35)]\n",
        "\n",
        "# lambda\n",
        "L = [\n",
        "  ('Sam', 35),\n",
        "  ('Max', 25),\n",
        "  ('Bob', 30)\n",
        "]\n",
        "print(sorted(L, key=lambda student: student[1]))  # [('Max', 25), ('Bob', 30), ('Sam', 35)]\n",
        "\n",
        "# To access items of an iterable, Python provides convenience functions\n",
        "from operator import itemgetter\n",
        "L = [\n",
        "  ('Sam', 35),\n",
        "  ('Max', 25),\n",
        "  ('Bob', 30)\n",
        "]\n",
        "print(sorted(L, key=itemgetter(1))) # [('Max', 25), ('Bob', 30), ('Sam', 35)]\n",
        "\n",
        "# multiple level sorting\n",
        "L = [\n",
        "  ('Bob', 'B', 30),\n",
        "\t('Sam', 'A', 35),\n",
        "  ('Max', 'B', 25),\n",
        "  ('Tom', 'A', 20),\n",
        "  ('Ron', 'A', 40),\n",
        "  ('Ben', 'B', 15)\n",
        "]\n",
        "print(sorted(L, key=itemgetter(1,2)))\n",
        "#        [('Tom', 'A', 20),\n",
        "#         ('Sam', 'A', 35),\n",
        "#         ('Ron', 'A', 40),\n",
        "#         ('Ben', 'B', 15),\n",
        "#         ('Max', 'B', 25),\n",
        "#         ('Bob', 'B', 30)]"
      ],
      "metadata": {
        "id": "471wN5NvXkI5"
      },
      "execution_count": null,
      "outputs": []
    },
    {
      "cell_type": "code",
      "source": [
        "# --------------------- sum()\n",
        "# function sums the items of an iterable and returns the total.\n",
        "print(sum([1, 2, 3, 4, 5]))       # 15\n",
        "\n",
        "# start with n and add all items in list\n",
        "print(sum([1, 2, 3, 4, 5], 10))   # 25"
      ],
      "metadata": {
        "id": "FoSPz2GLXjtj"
      },
      "execution_count": null,
      "outputs": []
    },
    {
      "cell_type": "code",
      "source": [
        "# --------------------- tuple()\n",
        "# function creates a tuple from an iterable.\n",
        "print(tuple())            # ()\n",
        "print(tuple('abc'))       # ('a', 'b', 'c')\n",
        "print(tuple([1, 2, 3]))   # (1, 2, 3)\n",
        "print(tuple(range(0, 4))) # (0, 1, 2, 3)\n",
        "\n",
        "print(tuple({'name': 'Bob', 'age': 25}))  # ('age', 'name')\n",
        "print(tuple({1, 2, 3}))                   # (1, 2, 3)"
      ],
      "metadata": {
        "id": "yAZSh_RatV0W"
      },
      "execution_count": null,
      "outputs": []
    },
    {
      "cell_type": "code",
      "source": [
        "# --------------------- type() type(object) or type(name,bases,dict)\n",
        "# function returns the type of the specified object.\n",
        "print(type(42))                         # <class 'int'>\n",
        "print(type('Hello'))                    # <class 'str'>\n",
        "print(type(['red', 'green', 'blue']))   # <class 'list'>\n",
        "print(type({'name': 'Bob', 'age': 25})) # <class 'dict'>\n",
        "\n",
        "class fruit:\n",
        "  pass\n",
        "print(type(fruit()))                    # Prints <class '__main__.fruit'>\n",
        "\n",
        "# type() vs isinstance()\n",
        "# The isinstance() method takes subclasses into account; type() doesn’t.\n",
        "class fruit:\n",
        "  pass\n",
        "\n",
        "class apple(fruit):\n",
        "  pass\n",
        "\n",
        "print(isinstance(fruit(), fruit)) # True\n",
        "print(type(fruit()) == fruit)     # True\n",
        "print(isinstance(apple(), fruit)) # True\n",
        "print(type(apple()) == fruit)     # False, and this probably won't be what you want."
      ],
      "metadata": {
        "id": "3vKVcAiRtVlY"
      },
      "execution_count": null,
      "outputs": []
    },
    {
      "cell_type": "code",
      "source": [
        "# --------------------- zip()\n",
        "# function combines items from each of the specified iterables.\n",
        "# The return value is a list of tuples where the items of each passed iterable at same index are paired together.\n",
        "x = [1, 2, 3]\n",
        "y = ['one', 'two', 'three']\n",
        "print(list(zip(x, y)))    # [(1, 'one'), (2, 'two'), (3, 'three')]\n",
        "\n",
        "x = [1, 2, 3]\n",
        "y = ['one', 'two', 'three']\n",
        "z = ['I', 'II', 'III']\n",
        "print(list(zip(x, y, z))) # [(1, 'one', 'I'), (2, 'two', 'II'), (3, 'three', 'III')]\n",
        "\n",
        "# If you pass iterables having different length, the iterable with least items decides the length of the resulting iterable.\n",
        "x = [1, 2, 3, 4]\n",
        "y = ['one', 'two']\n",
        "z = ['I', 'II', 'III']\n",
        "print(list(zip(x, y, z))) # [(1, 'one', 'I'), (2, 'two', 'II')]\n",
        "\n",
        "# Unzip/Unpack Zipped Items\n",
        "x = [1, 2, 3]\n",
        "y = ['one', 'two', 'three']\n",
        "result = zip(x, y)\n",
        "\n",
        "# unzip\n",
        "a, b = zip(*result)\n",
        "print(a)  # (1, 2, 3)\n",
        "print(b)  # ('one', 'two', 'three')\n",
        "\n",
        "keys = ['name', 'age']\n",
        "values = ['Bob', 25]\n",
        "print(dict(zip(keys, values)))  # {'age': 25, 'name': 'Bob'}\n",
        "\n",
        "name = ['Bob', 'Sam', 'Max']\n",
        "age = [25, 35, 30]\n",
        "for x, y in zip(name, age):\n",
        "  print(x, y)\n",
        "# Bob 25\n",
        "# Sam 35\n",
        "# Max 30"
      ],
      "metadata": {
        "id": "Wpb9eL4FtVXQ"
      },
      "execution_count": null,
      "outputs": []
    },
    {
      "cell_type": "code",
      "source": [
        "# --------------------- open()\n",
        "# function opens a file and returns it as a file object. With this file object you can create, update, read, and delete files.\n",
        "# open(file, mode, buffering, encoding, errors, newline, closefd, opener)\n",
        "'''\n",
        "Parameter\t  Condition\t  Description\n",
        "file\t      Required\t  The path and name of the file\n",
        "mode\t      Optional\t  Specifies the mode you want to open the file in\n",
        "buffering\t  Optional\t  Sets the buffering policy\n",
        "encoding\t  Optional\t  Specifies encoding\n",
        "errors\t    Optional\t  Specifies different error handling scheme\n",
        "newline\t    Optional\t  Controls how universal newlines mode works\n",
        "closefd\t    Optional\t  Keeps the underlying file descriptor open when the file is closed\n",
        "opener\t    Optional\t  A custom opener used for low-level I/O operations\n",
        "'''\n",
        "\n",
        "# open file\n",
        "f = open('myfile.txt')\n",
        "\n",
        "# specify absolute path\n",
        "f = open(r'C:\\Python33\\Scripts\\myfile.txt')\n",
        "\n",
        "# Open a file for reading\n",
        "f = open('myfile.txt')\n",
        "\n",
        "# Open a file for writing\n",
        "f = open('myfile.txt', 'w')\n",
        "\n",
        "# Open a file for reading and writing\n",
        "f = open('myfile.txt', 'r+')\n",
        "\n",
        "# Open a binary file for reading\n",
        "f = open('myfile.txt', 'rb')\n",
        "\n",
        "# Read a file in 'UTF-8' encoding\n",
        "f = open('myfile.txt', encoding='UTF-8')\n",
        "\n",
        "# Read a file in 'ascii' encoding\n",
        "f = open('myfile.txt', encoding='ascii')\n",
        "\n",
        "# myfile.txt\n",
        "# Das straße\n",
        "# Read a file in 'ascii' and ignore decoding errors\n",
        "f = open('myfile.txt', encoding='ascii', errors='ignore')\n",
        "print(f.read()) # Das strae"
      ],
      "metadata": {
        "id": "JkBKpnTrtVBd"
      },
      "execution_count": null,
      "outputs": []
    },
    {
      "cell_type": "code",
      "source": [
        "# --------------------- locals()\n",
        "# function returns the local symbol table as a dictionary. It contains information about all local variables.\n",
        "\n",
        "# global variables\n",
        "a = 10\n",
        "b = 20\n",
        "\n",
        "def myfunc():\n",
        "  # local variables\n",
        "  c = 30\n",
        "  d = 40\n",
        "  print(locals())\n",
        "\n",
        "myfunc()  # {'c': 30, 'd': 40}\n",
        "\n",
        "x = 5       # global scope\n",
        "def myfunc():\n",
        "  x = 10  # local scope\n",
        "  print('x inside function is', x)\n",
        "\n",
        "myfunc()  # x inside function is 10\n",
        "print('x outside function is', x) # x outside function is 5\n",
        "\n",
        "# Get the value of local variable 'x'\n",
        "x = 10\n",
        "print(locals()['x'])  # 10"
      ],
      "metadata": {
        "id": "ArftMjxitUy4"
      },
      "execution_count": null,
      "outputs": []
    },
    {
      "cell_type": "code",
      "source": [
        "# --------------------- globals()\n",
        "# function returns the global symbol table as a dictionary. It contains information about all global variables.\n",
        "# Declare some global variables\n",
        "a = 10\n",
        "b = 20\n",
        "c = 30\n",
        "d = 40\n",
        "\n",
        "print(globals())\n",
        "#       {'__name__': '__main__',\n",
        "#        '__doc__': None,\n",
        "#        '__package__': None,\n",
        "#        '__loader__': <_frozen_importlib_external.SourceFileLoader object at 0x7fed1a254358>,\n",
        "#        '__spec__': None,\n",
        "#        '__annotations__': {},\n",
        "#        '__builtins__': <module 'builtins' (built-in)>,\n",
        "#        '__file__': 'main.py',\n",
        "#        '__cached__': None,\n",
        "#        'a': 10,\n",
        "#        'b': 20,\n",
        "#        'c': 30,\n",
        "#        'd': 40 }\n",
        "\n",
        "x = 5       # global scope\n",
        "def myfunc():\n",
        "  x = 10  # local scope\n",
        "  print('x inside function is', x)\n",
        "\n",
        "myfunc()  # x inside function is 10\n",
        "print('x outside function is', x) # x outside function is 5\n",
        "\n",
        "x = 10\n",
        "print(globals()['x']) # 10\n",
        "\n",
        "print(globals()['__file__'])  # main.py\n",
        "\n",
        "# modify global variables\n",
        "x = 5       # global scope\n",
        "\n",
        "def myfunc():\n",
        "  x = 10  # local scope\n",
        "  globals()['x'] = 99    # update global x\n",
        "  print('x inside function is', x)\n",
        "\n",
        "myfunc()  # x inside function is 10\n",
        "print('x outside function is', x) # x outside function is 99"
      ],
      "metadata": {
        "id": "YMCdvMqYwZn3"
      },
      "execution_count": null,
      "outputs": []
    },
    {
      "cell_type": "code",
      "source": [
        "# --------------------- format()\n",
        "# Although you can get a lot done with the string methods, Python also provides a more advanced and powerful way to do string processing tasks – string formatting.\n",
        "'''\n",
        "Here are all the formatting options:\n",
        "\n",
        "Formatting options\t  Valid values\n",
        "field\t                <any number or keyword>\n",
        "conversion\t          s | r | a\n",
        "fill\t                <any character>\n",
        "align\t                < | > | = | ^\n",
        "sign\t                + | – |\n",
        "width\t                <any number>\n",
        "group\t                _ | ,\n",
        "precision\t            <any number>\n",
        "type\t                b | c | d | e | E | f | F | g | G | n | o | s | x | X | %\n",
        "'''\n",
        "\n",
        "print('{} is {} years old.'.format('Bob', 25))                  # Bob is 25 years old.\n",
        "print('{1} is {0} years old.'.format(25, 'Bob'))                # Bob is 25 years old.\n",
        "print('{name} is {age} years old.'.format(name='Bob', age=25))  # Bob is 25 years old.\n",
        "\n",
        "print('{:<12}'.format('Left'))    # |L|e|f|t| | | | | | | | |\n",
        "print('{:>12}'.format('Right'))   # | | | | | | | |R|i|g|h|t|\n",
        "print('{:^12}'.format('Center'))  # | | | |C|e|n|t|e|r| | | |\n",
        "print('{:*^12}'.format('Center')) # |*|*|*|C|e|n|t|e|r|*|*|*|\n",
        "\n",
        "# truncate to 2 char\n",
        "print('{:.2}'.format('Python'))   # Py\n",
        "print('{:^10.2}'.format('Python'))# | | | | |P|y| | | | |\n",
        "\n",
        "print('int:{0:d}, hex:{0:x}, oct:{0:o}, bin:{0:b}, char:{0:c}'.format(42))  # int:42, hex:2a, oct:52, bin:101010, char:*\n",
        "print('hex:{0:#x}; oct:{0:#o}; bin:{0:#b}'.format(42))  # hex:0x2a; oct:0o52; bin:0b101010\n",
        "\n",
        "print('{:f}'.format(3.141592653))             # 3.141593\n",
        "print('{:.2f}'.format(3.141592653))           # 3.14\n",
        "print('{:.2e}'.format(3141592653))            # 3.14e+09\n",
        "print('{:.2%}'.format(19.5/22))               # 88.64%\n",
        "print('{:+.2f}, {:+.2f}'.format(3.14, -3.14)) # +3.14, -3.14\n",
        "print('{:-.2f}, {:-.2f}'.format(3.14, -3.14)) # 3.14, -3.14\n",
        "print('{: .2f}, {: .2f}'.format(3.14, -3.14)) #  3.14, -3.14\n",
        "print('{:5d}'.format(42))                     # | | | |4|2|\n",
        "print('{:0>3d}'.format(7))                    # 007\n",
        "print('{:06.2f}'.format(3.141592653589793))   # 003.14\n",
        "print('{:0=8d}'.format(-120))                 # -0000120\n",
        "print('{:,}'.format(1234567890))              # 1,234,567,890\n",
        "print('{:_b}'.format(0b01010101010))          # 10_1010_1010\n",
        "\n",
        "import datetime\n",
        "D = datetime.datetime(2010, 7, 4, 12, 15, 58)\n",
        "print('{:%Y-%m-%d %H:%M:%S}'.format(D))       # 2010-07-04 12:15:58\n",
        "\n",
        "print('{:{fill}{align}{width}}'.format('center', fill='*', align='^', width='12'))  # ***center***"
      ],
      "metadata": {
        "id": "5_ddaneoxfz8"
      },
      "execution_count": null,
      "outputs": []
    },
    {
      "cell_type": "code",
      "source": [
        "# --------------------- complex()\n",
        "# function creates a complex number when real and imaginary parts are specified.\n",
        "print(complex(3, 2))    # (3+2j)\n",
        "print(complex(-3, 2))   # (-3+2j)\n",
        "print(complex(3, -2))   # (3-2j)\n",
        "\n",
        "print(complex(3))       # (3+0j)\n",
        "print(complex(0, 4))    # 4j\n",
        "\n",
        "print(complex())        # 0j\n",
        "\n",
        "print(complex('3+4j'))  # (3+4j)\n",
        "\n",
        "print(complex('3 + 4j'))  # Triggers ValueError: complex() arg is a malformed string"
      ],
      "metadata": {
        "id": "sr9kkfbnxiEU"
      },
      "execution_count": null,
      "outputs": []
    },
    {
      "cell_type": "markdown",
      "source": [
        "# Python global, local keyword"
      ],
      "metadata": {
        "id": "l-AEhwKs10Zx"
      }
    },
    {
      "cell_type": "markdown",
      "source": [
        "`global` keyword is used to create or update a global variable from a nonglobal scope (such as inside a function or a class)."
      ],
      "metadata": {
        "id": "l7910O7s13qi"
      }
    },
    {
      "cell_type": "code",
      "source": [
        "# ---------------------\n",
        "x = 42          # global scope x\n",
        "\n",
        "def myfunc():\n",
        "  print(x)      # x is 42 inside def\n",
        "\n",
        "myfunc()\n",
        "print(x)        # x is 42 outside def\n",
        "\n",
        "# ---------------------\n",
        "x = 42          # global scope x\n",
        "def myfunc():\n",
        "  x = 0\n",
        "  print(x)      # local x is now 0\n",
        "\n",
        "myfunc()\n",
        "print(x)        # global x is still 42\n",
        "\n",
        "# ---------------------\n",
        "x = 42          # global scope x\n",
        "def myfunc():\n",
        "  global x      # declare x global\n",
        "  x = 0\n",
        "  print(x)      # global x is now 0\n",
        "\n",
        "myfunc()\n",
        "print(x)        # global x is 0\n",
        "\n",
        "# ---------------------\n",
        "# Here’s another example that tries to update a global variable inside a function.\n",
        "x = 42          # global scope x\n",
        "\n",
        "def myfunc():\n",
        "  x = x + 1     #  raises UnboundLocalError\n",
        "  print(x)\n",
        "\n",
        "myfunc()\n",
        "\n",
        "# ---------------------\n",
        "# The solution, again, is to declare x global.\n",
        "x = 42          # global scope x\n",
        "\n",
        "def myfunc():\n",
        "  global x\n",
        "  x = x + 1     # global x is now 43\n",
        "  print(x)\n",
        "\n",
        "myfunc()\n",
        "print(x)        # global x is 43\n",
        "\n",
        "# ---------------------\n",
        "# create global inside function\n",
        "def myfunc():\n",
        "  global x      # x should now be global\n",
        "  x = 42\n",
        "\n",
        "myfunc()\n",
        "print(x)        # x is 42"
      ],
      "metadata": {
        "id": "9IVAyWTj18Ey"
      },
      "execution_count": null,
      "outputs": []
    },
    {
      "cell_type": "markdown",
      "source": [
        "`nonlocal` keyword is used to update these variables inside a nested function. The usage of `nonlocal` is very similar to that of global, except that the former is primarily used in nested functions."
      ],
      "metadata": {
        "id": "Jr1RopMN2mhr"
      }
    },
    {
      "cell_type": "code",
      "source": [
        "# ---------------------\n",
        "def f1():\n",
        "  x = 42\n",
        "\n",
        "  # nested function\n",
        "  def f2():\n",
        "    x = 0\n",
        "    print(x)      # x is 0\n",
        "  f2()\n",
        "  print(x)        # x is still 42\n",
        "\n",
        "f1()\n",
        "\n",
        "# ---------------------\n",
        "def f1():\n",
        "  x = 42\n",
        "\n",
        "  # nested function\n",
        "  def f2():\n",
        "    nonlocal x\n",
        "    x = 0\n",
        "    print(x)      # x is now 0\n",
        "  f2()\n",
        "  print(x)        # x remains 0\n",
        "\n",
        "f1()"
      ],
      "metadata": {
        "id": "TOdTPsrF2ol2"
      },
      "execution_count": null,
      "outputs": []
    },
    {
      "cell_type": "markdown",
      "source": [
        "# Python Advanced"
      ],
      "metadata": {
        "id": "-EpqJ_Nr3xK1"
      }
    },
    {
      "cell_type": "markdown",
      "source": [
        "global and local keyword"
      ],
      "metadata": {
        "id": "EGZ4LrgE30IH"
      }
    },
    {
      "cell_type": "code",
      "source": [
        "# global\n",
        "a = 10                  # global scope\n",
        "def something():\n",
        "  a = 15                # local scope\n",
        "  print(a)              # 15 (create a new variable and assign 15 to it)\n",
        "\n",
        "something()\n",
        "print(a)                # 10\n",
        "\n",
        "a = 10                  # global scope\n",
        "def something():\n",
        "  global a              # explicity telling python to change global variable's value\n",
        "  a = 15\n",
        "  print(a)              # 15\n",
        "\n",
        "something()\n",
        "print(a)                # 15\n",
        "\n",
        "# to use global and local variable of same name\n",
        "a = 10                  # global scope\n",
        "def something():\n",
        "  a = 9\n",
        "  x = globals()['a']    # access to reference of variable a\n",
        "  print(a)              # 9\n",
        "\n",
        "  # change global variable's value without effecting local variable\n",
        "  globals()['a'] = 15\n",
        "\n",
        "something()\n",
        "print(a)                # 15"
      ],
      "metadata": {
        "id": "RX7sIcfIMl62"
      },
      "execution_count": null,
      "outputs": []
    },
    {
      "cell_type": "code",
      "source": [
        "# local\n",
        "# To modify variables from a nonlocal scope in a local scope, you use the nonlocal keyword\n",
        "def outer():\n",
        "  message = 'outer scope'\n",
        "  print(message)        # outer scope\n",
        "\n",
        "  def inner():\n",
        "    nonlocal message\n",
        "    message = 'inner scope'\n",
        "    print(message)      # inner scope\n",
        "\n",
        "  inner()\n",
        "\n",
        "  print(message)        # inner scope\n",
        "\n",
        "outer()\n",
        "\n",
        "message = 'outer scope'\n",
        "def outer():\n",
        "  print(message)        # outer scope\n",
        "\n",
        "  def inner():\n",
        "    global message\n",
        "    message = 'inner scope'\n",
        "    print(message)      # inner scope\n",
        "\n",
        "  inner()\n",
        "\n",
        "  print(message)        # inner scope\n",
        "\n",
        "outer()\n",
        "\n",
        "'''\n",
        "# In this example, we use nonlocal keyword to explicitly instruct Python that we’re modifying a nonlocal variable.\n",
        "\n",
        "# When you use the nonlocal keyword for a variable, Python will look for the variable in the enclosing local scopes chain until\n",
        "# it first encounters the variable name.\n",
        "\n",
        "# More importantly, Python won’t look for the variable in the global scope.\n",
        "\n",
        "message = 'outer scope'\n",
        "\n",
        "def outer():\n",
        "  print(message)\n",
        "\n",
        "  def inner():\n",
        "    nonlocal message\n",
        "    message = 'inner scope'\n",
        "    print(message)\n",
        "\n",
        "  inner()\n",
        "\n",
        "  print(message)\n",
        "\n",
        "outer()\n",
        "# SyntaxError: no binding for nonlocal 'message' found\n",
        "'''"
      ],
      "metadata": {
        "id": "PAksiGbQM0S-"
      },
      "execution_count": null,
      "outputs": []
    },
    {
      "cell_type": "markdown",
      "source": [
        "Closure - A closure is a function and an extended scope that contains free variables."
      ],
      "metadata": {
        "id": "92LxVBAQS35k"
      }
    },
    {
      "cell_type": "code",
      "source": [
        "def say():\n",
        "  greeting = 'Hello'\n",
        "  print(hex(id(greeting)))\n",
        "\n",
        "  def display():\n",
        "    print(hex(id(greeting)))\n",
        "    print(greeting)\n",
        "\n",
        "  return display\n",
        "\n",
        "fn = say()\n",
        "fn()\n",
        "\n",
        "'''\n",
        "0x17186a829b0\n",
        "0x17186a829b0\n",
        "'''"
      ],
      "metadata": {
        "id": "gJ8-rF5sS5s9"
      },
      "execution_count": null,
      "outputs": []
    },
    {
      "cell_type": "code",
      "source": [
        "def multiplier(x):\n",
        "  def multiply(y):\n",
        "    return x * y\n",
        "  return multiply\n",
        "\n",
        "multipliers = []\n",
        "for x in range(1, 4):\n",
        "  multipliers.append(multiplier(x))\n",
        "\n",
        "m1, m2, m3 = multipliers\n",
        "\n",
        "print(m1(10)) # 10\n",
        "print(m2(10)) # 20\n",
        "print(m3(10)) # 30"
      ],
      "metadata": {
        "id": "VhhBRuXFTGJ7"
      },
      "execution_count": null,
      "outputs": []
    },
    {
      "cell_type": "markdown",
      "source": [
        "Decorator - A decorator is a function that takes another function as an argument and extends its behavior without changing the original function explicitly.\n",
        "\n",
        "Python decorator definition\n",
        "In general, a decorator is:\n",
        "\n",
        "* A function that takes another function (original function) as an argument and returns another function (or closure)\n",
        "* The closure typically accepts any combination of positional and keyword-only arguments.\n",
        "* The closure function calls the original function using the arguments passed to the closure and returns the result of the function."
      ],
      "metadata": {
        "id": "BXB5RMwbUFMy"
      }
    },
    {
      "cell_type": "code",
      "source": [
        "# The currency function returns the wrapper function. The wrapper function has the *args and **kwargs parameters.\n",
        "def net_price(price, tax):\n",
        "  return price * (1 + tax)\n",
        "\n",
        "def currency(fn):\n",
        "  def wrapper(*args, **kwargs):\n",
        "    result = fn(*args, **kwargs)\n",
        "    return f'${result}'\n",
        "  return wrapper\n",
        "\n",
        "net_price = currency(net_price)\n",
        "print(net_price(100, 0.05)) # $105.0"
      ],
      "metadata": {
        "id": "38cvVHhIUN3G"
      },
      "execution_count": null,
      "outputs": []
    },
    {
      "cell_type": "code",
      "source": [
        "# The @ symbol\n",
        "# In the previous example, the currency is a decorator. And you can decorate the net_price function using the following syntax:\n",
        "# net_price = currency(net_price)\n",
        "\n",
        "# Generally, if decorate is a decorator function and you want to decorate another function fn, you can use this syntax:\n",
        "# fn = decorate(fn)\n",
        "\n",
        "# instead of using the following syntax, you can decorate the net_price function using the @currency\n",
        "def currency(fn):\n",
        "  def wrapper(*args, **kwargs):\n",
        "    result = fn(*args, **kwargs)\n",
        "    return f'${result}'\n",
        "  return wrapper\n",
        "\n",
        "@currency\n",
        "def net_price(price, tax):\n",
        "  return price * (1 + tax)\n",
        "\n",
        "print(net_price(100, 0.05))\n",
        "\n",
        "'''\n",
        "@decorate\n",
        "def fn(*args,**kwargs):\n",
        "  pass\n",
        "fn = decorate(fn)\n",
        "\n",
        "The decorate function returns a new function, which is the wrapper function.\n",
        "If you use the built-in help function to show the documentation of the new function,\n",
        "you won’t see the documentation of the original function.\n",
        "\n",
        "  help(net_price)\n",
        "\n",
        "  Output:\n",
        "  wrapper(*args, **kwargs)\n",
        "  None\n",
        "\n",
        "Also, if you check the name of the new function,\n",
        "Python will return the name of the inner function returned by the decorator:\n",
        "\n",
        "  print(net_price.__name__);\n",
        "  wrapper\n",
        "'''\n",
        "\n",
        "# So when you decorate a function, you’ll lose the original function signature and documentation.\n",
        "# To fix this, you can use the wraps function from the functools standard module. In fact, the wraps function is also a decorator.\n",
        "from functools import wraps\n",
        "\n",
        "def currency(fn):\n",
        "  @wraps(fn)\n",
        "  def wrapper(*args, **kwargs):\n",
        "    result = fn(*args, **kwargs)\n",
        "    return f'${result}'\n",
        "  return wrapper\n",
        "\n",
        "@currency\n",
        "def net_price(price, tax):\n",
        "  \"\"\" calculate the net price from price and tax\n",
        "    Arguments:\n",
        "      price: the selling price\n",
        "      tax: value added tax or sale tax\n",
        "    Return\n",
        "      the net price\n",
        "  \"\"\"\n",
        "  return price * (1 + tax)\n",
        "\n",
        "help(net_price)\n",
        "print(net_price.__name__)\n",
        "# Output:\n",
        "# net_price(price, tax)\n",
        "#     calculate the net price from price and tax\n",
        "#     Arguments:\n",
        "#         price: the selling price\n",
        "#         tax: value added tax or sale tax\n",
        "#     Return\n",
        "#         the net price\n",
        "\n",
        "# net_price"
      ],
      "metadata": {
        "id": "m-BrG-FUUjdP"
      },
      "execution_count": null,
      "outputs": []
    },
    {
      "cell_type": "code",
      "source": [
        "# decorators with arguments\n",
        "from functools import wraps\n",
        "\n",
        "def repeat(times):\n",
        "  ''' call a function a number of times '''\n",
        "  def decorate(fn):\n",
        "    @wraps(fn)\n",
        "    def wrapper(*args, **kwargs):\n",
        "      for _ in range(times):\n",
        "        result = fn(*args, **kwargs)\n",
        "      return result\n",
        "    return wrapper\n",
        "  return decorate\n",
        "\n",
        "@repeat(10)\n",
        "def say(message):\n",
        "  ''' print the message\n",
        "    Arguments\n",
        "        message: the message to show\n",
        "    '''\n",
        "  print(message)\n",
        "\n",
        "say('Hello')\n",
        "# print hello 10 times"
      ],
      "metadata": {
        "id": "5pRvFFMHVneZ"
      },
      "execution_count": null,
      "outputs": []
    },
    {
      "cell_type": "code",
      "source": [
        "# class decorator\n",
        "class Star:\n",
        "  def __init__(self, n):\n",
        "    self.n = n\n",
        "\n",
        "  def __call__(self, fn):\n",
        "    @wraps(fn)\n",
        "    def wrapper(*args, **kwargs):\n",
        "      print(self.n*'*')\n",
        "      result = fn(*args, **kwargs)\n",
        "      print(result)\n",
        "      print(self.n*'*')\n",
        "      return result\n",
        "    return wrapper\n",
        "\n",
        "@Star(5)\n",
        "def add(a, b):\n",
        "  return a + b\n",
        "\n",
        "add(10, 20)"
      ],
      "metadata": {
        "id": "BYGggjBIoYZ1"
      },
      "execution_count": null,
      "outputs": []
    },
    {
      "cell_type": "markdown",
      "source": [
        "Monkey patching\n",
        "\n",
        "is a technique that allows you to modify or extend the behavior of existing modules, classes, or functions at runtime without changing the original source code."
      ],
      "metadata": {
        "id": "FmKX9fogVnEB"
      }
    },
    {
      "cell_type": "markdown",
      "source": [
        "When to use money patching\n",
        "\n",
        "In practice, you should use monkey patching only when necessary because it can make code harder to understand and debug.\n",
        "\n",
        "For example, if you use a third-party library and it has an urgent bug that you cannot wait for official release. In this case, you can use the monkey patching to apply quick fixes while waiting for a proper solution.\n",
        "\n",
        "Another scenario is that you want to add functionality to classes that you don’t control and you cannot use other techniques like inheritance or composition, the monkey patching is useful in this case.\n",
        "\n",
        "In practice, you’ll find monkey patching in the mock library such as the standard unittest.mock module. The unittest.mock module has patch() method that temporarily replaces a target with a mock object."
      ],
      "metadata": {
        "id": "jQoa4l4lo_Li"
      }
    },
    {
      "cell_type": "code",
      "source": [
        "def add_speech(cls):\n",
        "  cls.speak = lambda self, message: print(message)\n",
        "  return cls\n",
        "\n",
        "@add_speech\n",
        "class Robot:\n",
        "  def __init__(self, name):\n",
        "    self.name = name\n",
        "\n",
        "robot = Robot('Optimus Prime')\n",
        "robot.speak('Hi')"
      ],
      "metadata": {
        "id": "kA5329yZorTx"
      },
      "execution_count": null,
      "outputs": []
    },
    {
      "cell_type": "markdown",
      "source": [
        "Named Tuple - tuple + class"
      ],
      "metadata": {
        "id": "bju1kpfhpfzw"
      }
    },
    {
      "cell_type": "code",
      "source": [
        "from collections import namedtuple\n",
        "Point2D = namedtuple('Point2D',['x','y'])\n",
        "point = Point2D(100, 200)\n",
        "\n",
        "print(isinstance(point, Point2D))   # True\n",
        "print(isinstance(point, tuple))     # True\n",
        "\n",
        "# normal class\n",
        "class Point2D:\n",
        "  def __init__(self, x, y):\n",
        "    self.x = x\n",
        "    self.y = y\n",
        "\n",
        "  def __eq__(self, other):\n",
        "    if isinstance(other, Point2D):\n",
        "      return self.x == other.x and self.y == other.y\n",
        "    return False\n",
        "\n",
        "a = Point2D(100, 200)\n",
        "b = Point2D(100, 200)\n",
        "\n",
        "print(a is b)  # False\n",
        "print(a == b)  # True\n",
        "\n",
        "# using named tuple\n",
        "from collections import namedtuple\n",
        "Point2D = namedtuple('Point2D',['x','y'])\n",
        "point = Point2D(100, 200)\n",
        "point2 = Point2D(100, 200)\n",
        "\n",
        "print(isinstance(point, Point2D))   # True\n",
        "print(isinstance(point, tuple))     # True\n",
        "print(point is point2)              # False\n",
        "print(point == point2)              # True"
      ],
      "metadata": {
        "id": "nLCr7oP8pi2T"
      },
      "execution_count": null,
      "outputs": []
    },
    {
      "cell_type": "markdown",
      "source": [
        "Gnerator\n",
        "\n",
        "To pause a function midway and resume from where the function was paused, you use the yield statement.\n",
        "When a function contains at least one yield statement, it’s a generator function.\n",
        "By definition, a generator is a function that contains at least one yield statement.\n",
        "When you call a generator function, it returns a new generator object. However, it doesn’t start the function.\n",
        "Generator objects (or generators) implement the iterator protocol. In fact, generators are lazy iterators. Therefore, to execute a generator function, you call the next() built-in function on it."
      ],
      "metadata": {
        "id": "-lv49lHkqa6m"
      }
    },
    {
      "cell_type": "code",
      "source": [
        "def greeting():\n",
        "  print('Hi!')\n",
        "  yield 1\n",
        "  print('How are you?')\n",
        "  yield 2\n",
        "  print('Are you there?')\n",
        "  yield 3\n",
        "\n",
        "messenger = greeting()\n",
        "result = next(messenger)  # Hi\n",
        "print(result)             # 1\n",
        "result = next(messenger)  # How are you?\n",
        "print(result)             # 2\n",
        "result = next(messenger)  # Are you there?\n",
        "print(result)             # 3\n",
        "\n",
        "# Error: StopIteration\n",
        "result = next(messenger)\n",
        "print(result)"
      ],
      "metadata": {
        "id": "gppvfFFXqaKD"
      },
      "execution_count": null,
      "outputs": []
    },
    {
      "cell_type": "code",
      "source": [
        "# Using Python generators to create iterators\n",
        "class Squares:\n",
        "  def __init__(self, length):\n",
        "    self.length = length\n",
        "    self.current = 0\n",
        "\n",
        "  def __iter__(self):\n",
        "    return self\n",
        "\n",
        "  def __next__(self):\n",
        "    result = self.current ** 2\n",
        "\n",
        "    self.current += 1\n",
        "\n",
        "    if self.current > self.length:\n",
        "      raise StopIteration\n",
        "\n",
        "    return result\n",
        "\n",
        "# using generator\n",
        "def squares(length):\n",
        "  for n in range(length):\n",
        "    yield n ** 2\n",
        "\n",
        "length = 5\n",
        "square = squares(length)\n",
        "for s in square:\n",
        "  print(s)\n",
        "\n",
        "'''\n",
        "Output:\n",
        "0\n",
        "1\n",
        "4\n",
        "9\n",
        "16\n",
        "\n",
        "Once you iterate over all the items, the iterator is exhausted.\n",
        "It means you need to create a new iterator to iterate over its items again.\n",
        "\n",
        "If you attempt to use the iterator that is already exhausted, you’ll get the StopIteration exception.\n",
        "For example:\n",
        "next(square)\n",
        "\n",
        "Error:\n",
        "StopIteration\n",
        "\n",
        "Also, an iterator cannot be restarted because it only has the __next__ method that returns the next item from a collection.\n",
        "'''"
      ],
      "metadata": {
        "id": "YPAVHEL9q1Qm"
      },
      "execution_count": null,
      "outputs": []
    },
    {
      "cell_type": "markdown",
      "source": [
        "A list comprehension returns an iterable. It means that you can iterate over the result of a list comprehension again and again.\n",
        "\n",
        "However, a generator expression returns an iterator, specifically a lazy iterator. It becomes exhausting when you complete iterating over it."
      ],
      "metadata": {
        "id": "xtEYTf_fsT4S"
      }
    },
    {
      "cell_type": "markdown",
      "source": [
        "Iterators\n",
        "\n",
        "An iterator is an object that implements:\n",
        "\n",
        "* __iter__ method that returns the object itself.\n",
        "* __next__ method that returns the next item. If all the items have been returned, the method raises a StopIteration exception.\n",
        "\n",
        "Once you complete iterating a collection using an iterator, the iterator becomes exhausted. It means that you cannot use the iterator object anymore.\n",
        "\n",
        "Iterable\n",
        "\n",
        "An iterable is an object that you can iterate over.\n",
        "\n",
        "An object is iterable when it implements the __iter__ method. And its __iter__ method returns a new iterator."
      ],
      "metadata": {
        "id": "zuuSHbqHsVTE"
      }
    },
    {
      "cell_type": "code",
      "source": [
        "# Examining the built-in list and list iterator\n",
        "numbers = [1, 2, 3]\n",
        "number_iterator = numbers.__iter__()\n",
        "print(type(number_iterator))  # <class 'list_iterator'>\n",
        "\n",
        "# Because the list_iterator implements the __iter__ method, you can use the iter built-in function to get the iterator object:\n",
        "# Since the list_iterator also implements the __next__ method, you can use the built-in function next to iterate over the list:\n",
        "numbers = [1, 2, 3]\n",
        "number_iterator = iter(numbers)\n",
        "next(number_iterator)\n",
        "next(number_iterator)\n",
        "next(number_iterator)\n",
        "\n",
        "# If you call the next function once more, you’ll get a StopIteration exception.\n",
        "next(number_iterator)\n",
        "# Error:\n",
        "# StopIteration"
      ],
      "metadata": {
        "id": "TY107pjduwJW"
      },
      "execution_count": null,
      "outputs": []
    },
    {
      "cell_type": "code",
      "source": [
        "# Iterator and iterable\n",
        "class Colors:\n",
        "  def __init__(self):\n",
        "    self.rgb = ['red', 'green', 'blue']\n",
        "    self.__index = 0\n",
        "\n",
        "  def __iter__(self):\n",
        "    return self\n",
        "\n",
        "  def __next__(self):\n",
        "    if self.__index &gt;= len(self.rgb):\n",
        "      raise StopIteration\n",
        "\n",
        "    # return the next color\n",
        "    color = self.rgb[self.__index]\n",
        "    self.__index += 1\n",
        "    return color\n",
        "\n",
        "'''\n",
        "In this example, the Colors class plays two roles: iterable and iterator.\n",
        "The Colors class is an iterator because it implements both __iter__ and __next__ method.\n",
        "The __iter__ method returns the object itself. And the __next__ method returns the next item from a list.\n",
        "\n",
        "The Colors class is also an iterable because it implements the __iter__ method that returns an object itself, which is an iterator.\n",
        "The following creates a new instance of the Colors class and iterates over its elements using a for loop:\n",
        "'''\n",
        "\n",
        "colors = Colors()\n",
        "for color in colors:\n",
        "  print(color)\n",
        "\n",
        "# Once you complete iterating, the colors object becomes useless. If you attempt to iterate it again, you’ll get a StopIteration exception:\n",
        "next(colors)\n",
        "# Error:\n",
        "# StopIteration\n",
        "\n",
        "# If you use the for loop, you’ll get nothing back. The iterator is empty:\n",
        "for color in colors:\n",
        "  print(color)\n",
        "# To iterate again, you need to create a new colors object with the rgb attribute. This is inefficient."
      ],
      "metadata": {
        "id": "vcnAbSXRygBE"
      },
      "execution_count": null,
      "outputs": []
    },
    {
      "cell_type": "code",
      "source": [
        "# Internally, the for loop calls the __iter__ method of the colors object to get the iterator and uses this iterator to iterate over the elements of the colors object.\n",
        "# The following places the ColorIterator class inside the Colors class to encapsulate them into a single class:\n",
        "class Colors:\n",
        "  def __init__(self):\n",
        "    self.rgb = ['red', 'green', 'blue']\n",
        "\n",
        "  def __len__(self):\n",
        "    return len(self.rgb)\n",
        "\n",
        "  def __iter__(self):\n",
        "    return self.ColorIterator(self)\n",
        "\n",
        "  class ColorIterator:\n",
        "    def __init__(self, colors):\n",
        "      self.__colors = colors\n",
        "      self.__index = 0\n",
        "\n",
        "    def __iter__(self):\n",
        "      return self\n",
        "\n",
        "    def __next__(self):\n",
        "      if self.__index >= len(self.__colors):\n",
        "        raise StopIteration\n",
        "\n",
        "      # return the next color\n",
        "      color = self.__colors.rgb[self.__index]\n",
        "      self.__index += 1\n",
        "      return color\n"
      ],
      "metadata": {
        "id": "V2ZvXI2HzIi_"
      },
      "execution_count": null,
      "outputs": []
    },
    {
      "cell_type": "markdown",
      "source": [
        "iter() - function returns an iterator of a given object:"
      ],
      "metadata": {
        "id": "wKRSz7nkz4lL"
      }
    },
    {
      "cell_type": "code",
      "source": [],
      "metadata": {
        "id": "GjxwAf1Fz5vh"
      },
      "execution_count": null,
      "outputs": []
    },
    {
      "cell_type": "markdown",
      "source": [
        "# Python Event loop and Asyncio"
      ],
      "metadata": {
        "id": "IFlCFy8PDSHO"
      }
    },
    {
      "cell_type": "markdown",
      "source": [
        "* The event loop is responsible for getting tasks from an event queue and handling it.\n",
        "* The asyncio package uses an event loop to achieve a single-threaded concurrency model.\n",
        "\n",
        "![image.png](data:image/png;base64,iVBORw0KGgoAAAANSUhEUgAAAqUAAAG6CAYAAAAxsD/hAAAYVmlDQ1BJQ0MgUHJvZmlsZQAAWIWVeQk4Vd33/z73njtyzfMsM5nneZ7neUjlmsdL16xISKJChhRSeIsGGqUSQinJlChFCqFUGszK7xjqfb/v9//8f89vP88++3PXXnuttdce1ln3AMBdSY6ICEUxABBGiaI6mBoIuLl7COAmAQxYAA1S+ck+kRH6dnZWACm/2/8s8wMAWm+fSa/L+u/+/29h9PWL9AEAskOwt2+kTxiCbwAAl/hEUKMAwK7ThWKjItYxUgELFTEQwRnrOGATl6xj7018ZYPHycEQwW0A4GnJZGoAAHQ9CF0gxicAkUE3i/QxUXyDKACwwgjWCQsL9wWA2wjhEUd4IhC8Pg8173/ICfgPmd5/ZJLJAX/w5lw2Ct4oKDIilBz/f3TH/17CQqN/6xBFKm0g1cxhfc6I316EhFuuY1oEz1C8bWwRzITgxSDfDX4Eo4iB0WbOm/woHp9IQ8RngA3Bcr5kI0sE8yDYhBJqY7VF9/YPMjFHMLJDUHFBUeZOCOZAcIZfpLHjFs8ZarjDli5UnT/VUH+L/ohM3dC7rmskOsRZf0v+t0A/8y35aLqEQCdXBBMRLBwT5GKDYDoEy0SGOFpu8WglBBra/OahRjus2y+MYAc/iqnBpnx0jD/VxGGLPzMs8vd80WcCg8xttvC1qEAns03/oNt8yBv2I3NB9/hR9J1/y/GLdLP6PRdfPyPjzbmjp/wozo5bchYjogwcNsfCxIhQuy1+eJtfqOk6fRuClSJjHLfGwi5RyIbclA/7R0TZOW3aCScEky3sNu2Bc4AVMARGQABEI9UbhINgENQ1c2sG+bXZYwLIgAoCgB+Q3qL8HuG60UNBno4gAXxCkB+I/DPOYKPXD8Qg9J9/qJtPaeC/0RuzMSIEvEdwGLAEocjv6I1RlD/aXMA4Qgn6L+1kpPog9oYidb3//03/Tf2boo9QrLYo0b81CtD/5sQaY42wZlgTrATMBevAmrAV8tRDqgKsBqv/nsff/Jj3mF7MO8xzzCjm5e6gFOq/rLQGo4h8ky1feP/TF7AoIlMZNoC1EemIZJgN5gLSsBKiRx/WRTQrI1TDLbvXvSLwL9n/MYN/rMYWH0GOgCKwE/QI4v8eSSdJp/xHyrqv/+mfTVu9//jb8E/Pv/Ub/sP7vkhr+W9OdAb6OrodfR/9GN2AvgUE0E3oenQn+t46/rO7xjd2129tDhv2hCBygv5L3++VXfdkpNxFuWm51c2+KL+49TsaGIZHxFODAgKjBPSRiOAnYE7xkdkuoCCnoAjAenzZvL6+O2zEDYit+28aGbl31RSQo27wNy0cuTNqCpAjc/JvmihypjnVAbjm4BNNjdmkwesPDHJL0CMnjRPwASEgjsxHAagATaAHjIEFsAVOwB3sQqwPRPY5FcSCfeAASAdZIAcUgFOgDFSAKnAZXAO3QAO4Dx6CJ6AHPAevkN0zAT6CWTAPViAIwkEkiBnihPghEUgKUoDUIB3IGLKCHCB3yAsKgChQNLQPSoWyoOPQKegsVA1dhW5D96HHUC/0EnoLTUPfoGUUGkWLYkHxokRRsig1lD7KEuWE2okKQO1BJaDSUMdQRahy1CVUHeo+6gnqOWoU9RE1hwZoGjQbWhAtjVZDG6Jt0R5ofzQVnYTORBeiy9E16DvIOj9Dj6Jn0EswFmaGBWBpZAebwc6wD7wHToKPwKfgKrgOboOfwW/hWfgXhoThwUhhNDDmGDdMACYWk44pxJzD3MQ8QM7SBGYei8WyYcWwqshZdMcGY/dij2BLsbXYZmwvdgw7h8PhOHFSOG2cLY6Mi8Kl407iLuGacH24CdwingbPj1fAm+A98BR8Cr4QfwHfiO/DT+JXCAwEEYIGwZbgS4gnZBMqCXcI3YQJwgqRkShG1CY6EYOJB4hFxBriA+Jr4ncaGpptNOo09jRBNMk0RTRXaB7RvKVZomWilaQ1pPWkjaY9Rnuetpn2Je13EokkStIjeZCiSMdI1aRW0ghpkY6ZTobOnM6Xbj9dMV0dXR/dZ3oCvQi9Pv0u+gT6Qvrr9N30MwwEBlEGQwYyQxJDMcNthkGGOUZmRnlGW8YwxiOMFxgfM04x4ZhEmYyZfJnSmCqYWpnGmNHMQsyGzD7MqcyVzA+YJ1iwLGIs5izBLFksl1m6WGZZmViVWF1Y41iLWe+xjrKh2UTZzNlC2bLZrrENsC2z87Lrs/uxH2avYe9jX+Dg5tDj8OPI5KjleM6xzCnAacwZwpnLeYtzmAvmkuSy54rlOs31gGuGm4Vbk9uHO5P7GvcQD4pHkseBZy9PBU8nzxwvH68pbwTvSd5W3hk+Nj49vmC+fL5Gvml+Zn4d/iD+fP4m/g8CrAL6AqECRQJtArOCPIJmgtGCZwW7BFe2iW1z3payrXbbsBBRSE3IXyhfqEVoVphf2Fp4n/BF4SERgoiaSKDICZF2kQVRMVFX0UOit0SnxDjEzMUSxC6KvRYnieuK7xEvF++XwEqoSYRIlEr0SKIklSUDJYslu6VQUipSQVKlUr3bMdvVt1O2l28flKaV1peOkb4o/VaGTcZKJkXmlsxnWWFZD9lc2XbZX3LKcqFylXKv5JnkLeRT5O/If1OQVPBRKFboVyQpmijuV6xX/KokpeSndFrphTKzsrXyIeUW5Z8qqipUlRqVaVVhVS/VEtVBNRY1O7Ujao/UMeoG6vvVG9SXNFQ0ojSuaXzRlNYM0bygOaUlpuWnVak1pr1Nm6x9VntUR0DHS+eMzqiuoC5Zt1z3nZ6Qnq/eOb1JfQn9YP1L+p8N5AyoBjcNFgw1DBMNm43QRqZGmUZdxkzGzsanjEdMtpkEmFw0mTVVNt1r2myGMbM0yzUbNOc19zGvNp+1ULVItGizpLV0tDxl+c5K0opqdccaZW1hnWf92kbEhmJzyxbYmtvm2Q7bidntsbtrj7W3sy+2f+8g77DPod2R2XG34wXHeScDp2ynV87iztHOLS70Lp4u1S4Lrkaux11H3WTdEt2euHO5B7nXe+A8XDzOecztMN5RsGPCU9kz3XNgp9jOuJ2Pd3HtCt11bzf9bvLu614YL1evC16rZFtyOXnO29y7xHvWx9DnhM9HXz3ffN9pP22/436T/tr+x/2nArQD8gKmA3UDCwNnggyDTgV9DTYLLgteCLENOR+yFuoaWhuGD/MKu01hooRQ2sL5wuPCeyOkItIjRvdo7CnYM0u1pJ6LhCJ3RtZHsSAv8p3R4tEHo9/G6MQUxyzGusRej2OMo8R1xkvGH46fTDBJ+GsvvNdnb8s+wX0H9r1N1E88mwQleSe17Bfan7Z/Itk0ueoA8UDIgacpcinHU36kuqbeSeNNS04bO2h68GI6XTo1ffCQ5qGyDDgjKKPrsOLhk4d/ZfpmdmTJZRVmrR7xOdJxVP5o0dG1Y/7HurJVsk/nYHMoOQO5urlVxxmPJxwfy7POq8sXyM/M/1Gwu+BxoVJh2QniiegTo0VWRfUnhU/mnFw9FXjqebFBcW0JT8nhkoVS39K+03qna8p4y7LKls8EnXlx1vRsXbloeWEFtiKm4n2lS2X7X2p/VZ/jOpd17ud5yvnRKoeqtmrV6uoLPBeyL6IuRl+cvuR5qeey0eX6Gumas7VstVlXwJXoKx+uel0duGZ5reW62vWaGyI3Sm4y38ysg+ri62ZvBd4arXev771tcbvljuadm3dl7p5vEGwovsd6L7uR2JjWuNaU0DTXHNE8cz/g/ljL7pZXrW6t/W32bV0PLB88emjysLVdv73pkfajhscaj293qHXceqLypK5TufPmU+WnN7tUuuq6Vbvre9R77vRq9Tb26fbdf2b07GG/ef+T5zbPewecB14Meg6OvvB9MfUy9OXXoZihlVfJrzGvM4cZhgtHeEbK30i8qR1VGb331uht5zvHd6/GfMY+jkeOr06kvSe9L5zkn6yeUphqmDaZ7vmw48PEx4iPKzPpnxg/lXwW/3zji96Xzlm32Ymv1K9r34585/x+/ofSj5Y5u7mR+bD5lYXMRc7FqiW1pfZl1+XJldhV3GrRT4mfd35Z/nq9Fra2FkGmkjdeBdBIRfn7A/DtPAAkdwCYkfyMuGMz/9sqaOTlA4W0LpAM9BHVhk6FHTF6WDEcF56DwE/UprGhDSHl0N2mn2GUZvJjrmAZY5Nkj+do4qLnduWp5P3OryWQJvhUiFHYQeSo6BNxIKEo6S91YnuH9IKsuJy9fLLCRcXnyigVedWdapnqdRpvtUjaajpeuof1ruq/NsQbqRj7mOSY1puNWECWwlam1sE22bY37F7YLzqyOSk627qEuR51q3F/4vF2x6znws6V3cCLSOb0lvbR93Xw2+3vF0AOdAzSChYIgUJGQ5vCzlBSwwMj7PaoUQUi8ZFfogaiG2OqYvPikuJDE9z3mu/TTlRNUtmvnqx/wDLFNdUvLergwfT8Q5UZ1w83Z3ZmDRx5c3Ty2KfsbzlzufPH5/Lm8pcL4ROsRdtPmp7yKd5fUlRac7qp7MmZ/rND5aMV05U/zqHPs1ZJVhtc8LwYeyn/8rWa3tqvVxmvKV53vBF5M6eu+tad+vu3W+80373bcPNebWN1U0Vz6f2ClszWfW3BDxwfqrRztC89Gn3c3fHwSWvn/acNXbXdRT2RvYZ9pL5nz4r7/Z8rD2AGBgerXsS81BvCDrUj+0v59eRw7ojmyNibo6Oaox/flr1zGEOP1Y47jy9N5L/f/r5p0mFyfOrgtOz0+Ieqj5QZxZm5T7Wffb4wfrk5azf7/uu+b+zfHn7P/kGZI8/7I/tofPnBT5m1tY31F4KuoILRCugp+ComGeuG08ZLE8SIYjTbaOVIGnT29D4MSYxlTI3M06wMbGrsZI4MzhtcIzw0vIp8O/iTBc4KNm17JTQnQiPKL6Ysbi7hJRkvlbf9qnSnzJQcLC+ooKXooRSlnKVSqXpb7an6O40fWlhtbh15XWu9UP1sgyuGPUafTPCmvGYK5sYWzpY+VhTrOJsk21S7g/bpDhmOmU5HnDNd0lzj3QLdnTyMduh6muz02BW7u8DrCrnFu8Pnge9NvxL/vQGugXJBtEEzwT0hd0Krw4op2eEpEdQ9nlS9SP7Ilajn0Zdj0mO944zj5RKE9/Lu40xkTWLYj90/n/zuQEfK1dSCtNiDO9MtDhllWB0mZx7I+uvIw6Mjxz5nz+Us5M4d/543m/+pYKbw84nFkwyn1IspJedKu06PlU2fmTj7pvxlRW/lo78azzWc76j6dEHw4s5LJZdf1rJcsbmagdxeSzdl6nxvFdf33cHcVWrYfe9g47mmhubG+xdacloT22IfJD/Mbi99VPH4dMexJ9Gdjk+lu+Cuoe5rPVm9wX32z4z7jZ/bD3gPRr9Ie3loKPGV/2vDYa7hmZHbbw6Nur2Vfod/936sdbx0Ys97vUnayf6piun9H4I++s4Efgr7HPElYjbiK/VbzPf4H7FzQfOmC/QL1xeNF58seSx9Wu5Zpf05tLH+UqANsoReoPzQWHQ2LAV3YxKwsthp3F/4QIIsYYnYQVNGG0tyoFOgp6OfZ3jJ2MxUzZzHksgawObArs0hwcnKuco1xd3H08hbw1fBXyxQKJi/LVsoXThGhCxqLCYgtijeKVEmGSlltl1QGiU9LTMo+0jujvwFhSLFZCUvZXUVrEq3aoGamzqn+kuNUk1fLQVtrPaITp1utl6gvpGBqCGDETD6bjxpMmB616zQ3M9CxGLUssjK1hpn3WqTamtux2H3wb7RIc8x0EnTmeQ84nLZdZ+bhTur+xuPqh3hSPxf2nlvV/JuQy+8Vy+5xDvER8uX1nfI77z/ngC1gNXApqDkYL0QENIceiDMkAJTHoQfjNCPWNxzkeqOxOzqKNuoH9FFMVoxI7HJcbxx9+K9EtgShvZe3Jea6JYknjS/vzU570BAilGqZBrHQZp0kP7j0FjG08O1mUeyyEeUjuKODh27kp2ZE5Jrepzp+MO8HXkz+QkF+oUGJzJO4k9lFo+Xcp5WKFM/o35WuVy2QrxS8C/Oc4zniVWEanpkJ2lf8rp8qOZy7bMrq9fEr3vcOH6z9xZLvfvtkjuDDZh7Eo2mTd7N+++fbmlsfdO29lCw3fBRwOMjHVefDHT+7JLo3tFzonfkmUL/0eefBx1f3B4SfFUwLPuG7m3seNZU/Cebb/NL9uvrv/k/4HrBqgCQh+SZLkeROg1A7i0kz7wLADsRADsSAE7qAHWoBqBMawAUcvBP/ICQxBOP5JxsgB9IACUk07QCHkjWHAcOIxnlJdAI+sB7sAoxQRKQHpIfRkJHkXzwATSGglCCKAOUL+oQkuX1oZbRQmhrdAK6Cj0I42ENOAyugF9imDCWSEbWioWwethkbAsOg7PA5eBe4AXxofjbBBzBlVBFWCZaE88SF2hsaKpoYVpv2laSCOkw6TOdE10DkunkMgCGPQzjjO6M3UwmTPeY1ZjrWDRYWlkdWMfYotmx7IUcohz1nDacU1wZ3PLcYzxlvN58UnyL/A8FCgR9tykJYYVeCV8XyRYNFbMUl5IgScxKPpe6u/20dJKMp6y6HIvcrPxThQuKh5UClS1UZFRZVdfUPqmPaPRpdmg90G7Tadft0hvSnzKYNwLGWOSew5vhzQkWtJYsVoLWSjY2thS7fPsGhwknkrOSi7trotsZ9zaPSU+anXK7XHbv86okd3kv+gr7OfofDGgIXA42DDkZukTxCe/bY0JtiFKKro2VjruaoLW3JzF8P0/yQEp+mtXB+UP5h7dnPjjid4w1+03u07zhgrUigVPqJVand5+JLz9TOXReuvrMJbma0atnb+y6RXO7pmFnk1QL/wOTR+WdtN3ivfP9uYPiL3tfn35z4l3fe6/ppU9MXy59Az/k5tUX1pYyl+tX+lfv/qz4FbGmunF/QBv/OTABbiAKFIAusAaeIAwkgVxQCW6DbjABfkJskCxkAflDqVA5dB96h4JRYigrFBV1CtWK+oLmQVui96Fr0eMwF+wAZ8EPMBBGG7MXcxezitXFpmIf4xhw7ri/cN/w+vg8/HuCJiGPMEM0QdZ8lcaN5gaSCVNp+0nqpDN0NHRxdJP07vRdDCYMzYw6jE1MhkwdzI7Mw0hmusyazSbJ9oR9DwcbRx2nPed7rnhuEncljx7POG8unwU/Hf+wwHXBY9uChAyEOYQ/itwTzRHzFzeQEJFkksJvx0jjZehkmeQY5fHySwpTioNKHcr3Ve6rdqi9Uv+mSaclp22vE6QbpUfVDzRwMzQ1UjdWMlEzNTXbbZ5kcday3WrWhtvW2C4EiWn5jiecCpzzXc64Nrl99VDekez5dBff7iivbm8hH3/fAr+b/l0B44ErwWwhiqFOYTGUU+HNER+o7JEmUTHR52OG4hjirROy975IFE1K3D92ICCVIa0jPSoDe/hQFnwk4xh3dmtuSp5bgeEJzZOaxZql6mUSZ+Hyh5Ux57jP36v2vsh6abjmwZXua3M35W/tu/2kgb7RqJnacq5tut3g8bVO+a6SnuG+H/1fByZfjA1Nvf7xBnpLHGOZEJ40my6cUf2S+f3cQuhS10raauvPH7+WNtYfhZx+RsAHpIEOsAf+IBEUgiugE3yACJAUZA1RoSKoGfqAYkMZoaJQ51BDaEa0OToN3Yz+CWvCCfAdeBWjj8nEDGIlsAewwzgdXDkejw/H9xPUCaVEFDGY+JzGiOYurTrtfZId6T1dCr0gfTODJ8M8Yw6TNNNTZgoLiaWK1YD1NVs8Ox97F8cxTm8uA25JHhaeFd5hvnr+4wJhglbb5IQ4hLHCSyJfRb+IfRf/KUknJbxdT9pLJlm2VK5e/pnCdyUuZXOVFNVWdVoNT80r2jjkXbVRf5tBnhGbcY2phzmjRa/VKZtwO2cHBcchZw+XTjcz92c7/D0Xd6V6QeQI7+e+qn4lAYTAA8HEkIow63AQcYsaHsUX3RobHe+793NSZXL8gYGU1TTUQXw6wyHFjMjD/VnOR6aPZeTI5L7MyyjQLPxaVH1qVwmx9HyZ6pl75boVzX8Zneuosqvuv+h0qafGpPb2VfFrJ27gbybWrdYfviN6t+deSpNK83RLSZvtQ7j97uPIJ1Kd412ne9z6WJ71Pc8etHixNnTpte3w1Jvo0Z/vUsbREymTqKnUD/DH/TOfP5t8iZ8t/Xr0W/R3o+8LPy7M2cy9mg+cn1+IWZhe9FzsXjJcurhMWo5Y7ltRXila+bpqvlq+uvLT6eflX+hfbr8urUFrzmsX1td/89vRRvxgAKDkzTrqkHxG+fd3m83vSv/ITf7dgo3osl7Wo8t6WY804H8AG/jbQfol4/YAAAA4ZVhJZk1NACoAAAAIAAGHaQAEAAAAAQAAABoAAAAAAAKgAgAEAAAAAQAAAqWgAwAEAAAAAQAAAboAAAAAlFLgOgAAQABJREFUeAHsnQWclUUXxs/C0o0ILLl0g0i3dDeCdEkIIsoiJVICsggGSocgiNIlIQiIhCIIFiwhLSzdXfvNM+t7v7vLxr3sjffe+8zvd/eteSf+s/HsmTNn/ISJBEjAaQQOrmsZ5rTCWTAJkIBpCBSst9jPNI2J1JApQQv5eygSE16ak4C/OZvFVpGA9xAoUHGA93SGPSEBEniGQMiO8c/cM9uN+l2qmq1JbA8JRCCwds5WiRfhDi9IgARIgARIgARIgARIwA0EKErdAJ1VkgAJkAAJkAAJkAAJRCRAURqRB69IgARIgARIgARIgATcQICi1A3QWSUJkAAJkAAJkAAJkEBEAhSlEXnwigRIgARIgARIgARIwA0EKErdAJ1VkgAJkAAJkAAJkAAJRCRAURqRB69IgARIgARIgARIgATcQIBxSt0AnVWSAAk4nsChIyfl4cNHURac7oXUkingxSifueLmnTv35NiJfyV3zqySNGliV1TJOkiABOJI4OGjh3Lkn8Ny+Mgh8ff3l7y580munLklYYKEEUp++vSp/Pb7Hjlx6oRkyphJShYvJYkTJ4mQhxe2EaAotY0Tc5EACZicQM3GveXfsxeibOXbvdrIJ+P6RfnMUTcnTJovFcu9JGVLFXmmyP1/HpZKtV+XHRtnSYWyLz3znDdIgATMRSDk8EHp3reLnD5zSpInS64bd/vObckZmEumfDxDCuQrqO9du35VuvTqIPv++C1CvmaNWsiHIz6SxIn4T6g9I8vpe3toMS8JkICpCXTt0Fgunfjhmc/o999wertHBc+SX/b85fR6WAEJkIBzCZw8fULqNKsuGdNnlB9W/yQHfj2qP9+v2CIpkqfQz86cPaMbMfHz8dqaunHlVvl79xGdb+60r2X56qXy5fxZzm2oF5ZOUeqFg8oukYCvEkiWNIlgqj7yJ1myJLL2+x1SuU43+edY+B8TMMI57u34+XeNbOPmX6Rq/R6SIVctadF+gPzx1xELykat+snXi9ZL5zdGStYC9aVira7y4/bf9PMmrYPk1q07MvHzr2X8p/Ms79hzMmveSilWvrWkzFxFt8Fa4N6//0D6v/eprhdta91liJw9d1EX//jxY6nX/C356pu10qrTYN32Os36CNwZmEiABOwnMGXm5/qlLyZMkzy58lgKyJ+3gEz6aIq+njl3mj6GHA6R9C9mUK45ecTPz0/fq1qpmgS9OUDSpn3B8i5PbCNAUWobJ+YiARLwAALXrt+UY8f/feYD4Va8aD7Zvmu/rFz7o6Uny1Zv0feKFc4jm3/8VWo3fVPixYsno97rIdeu35KXKrSRo8dO6/w/7vhN2nV7X27cvC1vdm8pfx74Rxq91k/CwsKkeeNqOk+ZkoWkTMnClvJtPZn91Srp1me01KtVQWZ8NkQSJUoo5ap3tgjobn3GKMG7QAb36yTBo/rIr78dkGoN3tA+tKp6Wb9pl3TsMVyL8RGDu8uJk+ekSt3uAl9WJhIgAfsI/Lxnl9R4pZZkUJbSyCkwWw55uVgJORDyt35U6uXScvzkMenVr5us2/idXLp8Sd9/6413pFWz1pFf53UsBOhTGgsgPiYBEvAcAvO/XSf4RE7H/1wlOQIzS81qZWTZqi3S/632OsvCJRuk/Wv1JEWKZDJ87HQpCnG6Zqp+1qF1fcmQu7YsUNbRkUN66Hu1a5ST5V9/pM/z5w0UWEjPhV5SZdSX3kHjtU9plYol9HN7vgwZOVlebVpD+aC9qV9rXL+KrnvyzCXSu9urqg3rZPLEgdJLnSMVyp9TSlftqK2/DepU0veaNqyq8+CiQtli2uq64rut0q5VPf2cX0iABGIn8OTJE+1HWqtq7WgzZ8mcVfbs+1U/76vE51XlV7po2ULZ8MN6fQ9+p53adpXWr7Z9ZlFUtIXygSZAUcpvBBIgAa8hAGE3oG+HZ/qTOVN6fQ8CtEP34VpI3r17X/78+6h89EFfwR+inb/8oUXpoOHhU3d4IUniRBJy+ISlvFesBGe2LBn0/StXb4hRviWjHSdX1fsXL10V67KTJEks5csUlZAjJ/QHxWERlZFeUlZfpCP/hFtxcV69SikcdIK4htA+fuKscYtHEiABGwjEjx9fL1i6e+9utLkvX7ksARkC9PMkSZLK+FETZdSQ0fL7X78rv/Jd8q0SqMPGDFHi9qS8P3BktOXwwbMEKEqfZcI7JEACHkogIEM6Kfly+KrYqLrQsE5lfRv+pTeVD2j6F9NKtSol5d69B/q+v398uXX7/3+MWjSpLgXz5bAUlVz5pjo6Xb9xSxcZkDFdhKIfPXosCRL4S1TPEYIG6T8XNn3+QtpU+ogvcFdAih+fHloaBL+QgB0EcuXILfv/3BflG3fu3lH/zP4udWvWV78rbsncBbOldo26OlxU2VLlVPSNctKnx9vKtaeeFqcUpVFijPYmf2NFi4YPSIAEvI1A6tQppGWzmrJizVZZtHyTmmJroOMPJk+eVFsWEUcU0+TGB4I0MHsmp2LIkjnc4vrzr39Z6oGo3LJtj1pkkVWyZQn3a9u9N9yHDZn+PnhM580ZmMXyjrXV9C/l74qFV3lzZ7c85wkJkIBtBBrWa6JmSA7K1u1bnnnh68XzBaGhWjZ7Tfl+J5IJnwfrlfbWGWFtLfFSSetbPLeRAC2lNoJiNhIgAfMTwHQ3VshHTlnVVHvlCi/r221b1pHGrwXp8+mfDrZkfaNrc7Vy/iupo/xGq1UuJfMWfqf9TL9b8qklT0wnmOqHGLxy9bq8kDZ1lFm/V6v7T54KjfCscoXi8lqLWrq+15rXknx5sstnU7/ReTq2biCFC+YSCFe07eVi+SVhwgTywfhZWkRjYZSRJqiFUNXUFH5KNW0/ULkgYPq+Uvn/T/kb+XgkARKImUDbV9vL7K9mSKeebWWYmn4vU7KsPH0apkTqZvn4i4+kQZ1GUrpEWV1I04bNZersL9TPaFZ5Ra26j6emL3b8sl39PM+RVs3bxFwRnz5DgKL0GSS8QQIk4IkEEib0l01bdutP5PbD19QQpbWqldWCLasSesWVyDPSe/27qJX2Z1Qg7FHGLRmi7tWvXdFybX2CVfpIRhiY1zs2kbET5ujrWV+8b53Vcv6BimUaOa38ZqJMHPOONG83QEpUbmd5/MWEARZXhEVzx0rTNu9K5nx19XMIzrVKLGN3KEzzIxUtlFsH6Mc5ROyCmaMko3JnYCIBErCPQNKkSWXd0o0ycFh/GRU8PMLLb3Z/S/qpcE9GGjl4tPZJf2/UQOOWioKRTtq82k4LWstNnthEIDyolk1ZmYkESMBeAgfXtQwrUPH/v8DsfZ/5XU8Au0KFnr8suXJkUXEG/++naUtLMGUOP9DEympqb4Kf6MlT53TIqXx5Ap/ZjhRbqB4+ekqXnztnFu12gDogShO+UFYWzxunBfTJ0+fUbjM5LGLZ3nYwv/0EQnaMl4L1Fpv27+mUoIVh9btUtb9jfEPgQ3rs+D+SJEkSyZE9p+XnLjIaLH46c/a0pEmdRhA2isl+AmvnbBVaSu3nxjdIgAS8mACsjIafp73dhAXzeRMsrzmVEI4uYdq+iLKGxpRgOS2owkUxkQAJOIZAsqTJVFSOYrEWBusoPkxxI8CFTnHjx7dJgARIwK0EsAIfUQQSJ07o1nawchIgARKIKwFaSuNKkO+TAAmQgBsJ+Pv7y4VjG93YAlZNAiRAAo4hQEupYziyFBIgARIgARIgARIggTgQoCiNAzy+SgIkQAIkQAIkQAIk4BgCFKWO4chSSIAESIAESIAESIAE4kCAojQO8PgqCZAACZAACZAACZCAYwhQlDqGI0shARIgARIgARIgARKIAwGK0jjA46skQAIkQAIkQAIkQAKOIcCQUI7hyFJIIFoC2O2FiQRIgATcSQC75TCRgNkJUJSafYTYPo8nwG1GPX4I2QESiJGAJ/zjyW1GYxxCPjQBAfzjxOl7EwwEm0ACJEACJEACJEACvk6AotTXvwPYfxIgARIgARIgARIwAQGKUhMMAptAAiRAAiRAAiRAAr5OgKLU178D2H8SIAESIAESIAESMAEBilITDAKbQAIkQAIkQAIkQAK+ToCi1Ne/A9h/EiABEiABEiABEjABAYpSEwwCm0ACJEACJEACJEACvk6AotTXvwPYfxIgARIgARIgARIwAQH/UWu6h5mgHWyCEwkMazjDz4nFs2gScBoBv5QlnVY2CzYHgbCbe83RELaCBEjA7QT0jk7NS73l9oawAc4hsGzPJOcUzFJJwEUEwsL4f7OLULu8Gj8//r/scuiskARMTIDT9yYeHDaNBEiABEiABEiABHyFAEWpr4w0+0kCJEACJEACJEACJiZAUWriwWHTSIAESIAESIAESMBXCFCU+spIs58kQAIkQAIkQAIkYGICFKUmHhw2jQRIgARIgARIgAR8hQBFqa+MNPtJAiRAAiRAAiRAAiYmQFFq4sFh00iABEiABEiABEjAVwhQlPrKSLOfJEACJEACJEACJGBiAhSlJh4cNo0ESIAESIAESIAEfIUARamvjDT7SQIkQAIkQAIkQAImJkBRauLBYdNIgARIgARIgARIwFcIUJT6ykg7oZ/Lli3Loj4Btha9ePHihGofc252bSsw5iMBEiABEiABHyLg70N9ZVcdRGDlypWdVVEfqE9mFLlixYpLfn5+I5s0aTIZ19GlhAkT3lDvdlfP50eXJ6b769atS/nw4cMbqq5S8eLFO/jkyZP3kyVLNq5mzZo3jPdUWwar52ONa+ujEsSnmjZtGmh9L6ZzVVZ3VdYE1a+UMeXjMxIgARIgARIggbgToKU07gx9qoRNmzalUh2eoz6blMhLo8RhYSXc9qjrL+yxmj4PtNu3b99RdbVOkCDBEfV+GvUZdOvWrQzWZan2fPH06dN8+Kj2LVPP7hvX6ljROm9s56ouWnVjg8TnJEACJEACJOAgArSUOgikrxRz9+7dPOirEnybldXxujq9vmrVqteU4JurNFwKZV0sr+6NV89yIZ969qrK+4GyNubHtcrTRVlLp6nThOqzMlWqVK0vXbqUWFlRT6vrxerTRuW/r46weL6jjvnU57A6L6cE55PHjx9/dv/+/T/U+RZ1X9Rx79q1a4vUr1//FK4bN258Sx3wgQX3iirrcbNmzSBiBe4G6t4uVVYpdf+aOs5V7RqAZ6pN89Shhbrvr+4vV+W0UW3HI53UeQbVR7y7U73TIar86lmYkZ9HEiABEiABEiAB+wjQUmofL5/P/eDBgz8VBIjGeUqYbVFira8SismVCG0O8aeEWTr1LIsBSgk5XGc3rpXoq6zOP1Wfb9SnxY0bNwYkT54c34dp1LO26jNalfFEfWape7fVsb86FlLlvBk/fnwIxvTqk0LlG6ruIw2/c+fOxfDTmL+q9+E2kFu930Ydp6jPu8uXL8+r+tBInUMMt1XPRqljS3WvgbqnkxKyqVX9f6kLVUT8nrHl/+81HkiABEiABEiABOwgQFFqByxmFWnZsuVDZZ0sqMTbV4pHSSXgPlVC7ZwSqJvUQqb4sTFS761Slsb3YG1UeQ+pTyvjHVXum0rcjlfXM3BPCcH6ymL5marjuHqvqJEPR39//w04qjxrVZvu4Ty2pMqZo+qopz5rVd5dyK/KLaPuF1CnmDVIoXxWP1L9qanuh+C5SgnU+d/q458oUaKiDRs2vBtL/vC3+JUESIAESIAESMAuAhSlduFiZiU8k2PBkhKVndUnpRJouRWVb9WnhrrfOzIhJQAxTW9JKj8EoU7qfK86gW+okQ7gRN2/oz63leX1Cq6VIHyoDnF2NVFtearK3aIWSN1R5a1B2UjKhWCiOuxX9Xyl/FXvKaE7VB0N62ti9QwLulKoTyL1iS0/sjCRAAmQAAmQAAnYSYCi1E5gvp5dCc+hyqfzgsFBWTaPKXHaWom9h+pTCPeVuLN8XymBB59QS1LPrBcmFVDv/Gw8VHkfG+eOPm7dutVflY8FWvuVKM2k2pxY1f0U9SgXArTjVdxXl4PVp5JyUxiGZyo9Vs9yI6+6twA3YsmPLEwkQAIkQAIkQAJ2Eoiz9cnO+pjdwwkoYfedsjgOVNP109RUNxYiPVRWxa5KbCIG6Q717KzK46/8Ll9T57uUv2l76y6rPG8rP87paoq8ispXXD370Pq5refqXS1gVTkZ1TtHYnsPi6lUO/1V/WuV+Lyo2gffVYhn/Az0Vuf11LHMo0ePJqp8Qeo8qfog3YPwVvkHqHc/Xb16dTVVd8sY8oe/xa8kQAIkQAIkQAJ2EbBYtOx6i5l9loCaUt+hOh+sPj2U1fSu+kAcfq4E2wIl3uYrKyqen1XX3yhBekKJt/Pq2jqFKbF6WT1fpp4dUCLQMo1unSnyucqvrZq4r95/qnxNL6h7l9RnGxYrRc4f+Vr5nd5W9xaqOoOV6IQ7QHv17in1maXKC1bHDPCN/e+Zn/JZHWNdBnxb1fVZJWi/tSW/9bs8JwESIAESIAESiJ2A36g13cOal3or9pzM4ZEElu2ZJMMaznB4vE0Esleis7iyGl5VU+FYmR4hqRXruZTgPBfVIqQ1a9ZkViIwYaNGjU5EeOk5LhAbtXnz5qG2vmpdt2qDn7oORDvUMSkst+pzHpbR2MqzNf/BdS3DClTUUadiK5LPoyDgl7IkfIyjeMJb3kBA/ZMoYTfhWu7ZKWTHeClYb7HDf886isqUoIVh9btUdVRxLIcEnEJg7ZytcV884pSWubBQJaxgedMfV1Tr6vqc1ad69erdVGVvi678mISdWsF+Nrr37L1vjyBF2dZ1qz+IUDtaGGNVvTrfiTy2JHvz21Im85DA+fPnRW0SIYGBgYgwQSAkQAIk4FMEXDp9f+zIcSmUsbC0axTBzVAD7966h352+ODhGAcA765ctDLGPNYP65Spo8tFvZE/f/z2h3Rq1lnWLrcsCLd+1SnnA3sNkm/nLXJK2SyUBEggbgQWLVqEhXpRftQ/YnYVrhbE6XKuXbsW63vr16+XDBkySEBAgOTJk0eUG4n07t1b7t2zKdpZrOUzAwmQAAl4AgHX/iv+3zTc/l/3y4XQC5IhIHwh9rUr12TnVtuMVO+NGSLp0iMeu21pwXcL5OmTcHfEqi9Vk5ETR0rl6pX0y2nSWkcjsq085iIBEnAcgU1bdkvNamUcV2AcS1KuHHL2bLghf8aMGTJ//nzZvn27LlXFqX2u0mNzP9iwYYNA8A4ePFhat24tBQsWlN27d0v79u3lzJkzohbXPVe9fIkESIAEPI2ASy2lBpxiJYrJlg1bjUvZ9sM2wT3rtGXDFunQpKNULlxFBr05WItYPF/29TI5+NdBeXD/gbSq85osW7hcGlVuLLCILlXPIqd0L6aT9BnT6w+epUmb2nKdIGECnf2PvX9IZ2UxRV3Bw4JFLWaRkL9C5O3X35E5k7+UZtWa6Xx/7f/L0qbBfQbL9avYZTM8zZw0U7ejfoUGEjx8vC4DT27euKnbj/ahH1cv69Cb/73FAwn4NoEWHQZIkhfLy4RJ2GzL/SlJkiSSKVMm/UmdOrUkTpzYco3W9ejRQ1s0K1asKLNmzbI0WPlQS9WqVSVlypTSoUMHuXkT3i3/T8pXWYKCgqRt27aifK3//0CdjR49Wrp27Spjx46VIkWKYNswKV++vEyfPl2U77IcPHhQJk+erPMZL37xxRcSHIz1hir8xcOHMmjQIMmVK5eUKFFCvv0WYYNF1E5nUrp0aTl37py+hlsArlUkCn09d+5cKVasmH5v+PDhAtciJhIgARJwJwG3iNJaDWrK+lXrLf3euGaj4J6RHj18JCP6j5Q6jevIlAWT5cqlyzJ36lz9+JCa3r96+Sp28pG/f/9bicY5MnDUQCldobQMDxquxapRjq3Hb+Z+K/Wa1pM3gt6Qr2bMF1hy7965K5u+26RE7zJp07WtXFZteK1ua8lfKL98PHOi3Lh2Q97q0ldXcSTkiMyfsUDeHtJXRk4YIWuXrZWt34eL7k/HfioQs73f7S0JlQj+ddceW5vFfCTg9QQ+G9df+U7Gl+Fjp0vSDBVMI06jAj9y5Eg5cOCAqMV10rNnT+nWrZsWfJcvXxYVlUJ69eolKhKE/PHHHxEEKyyl/fv3F7XxhIwbN05PzRvl4x/gnTt3Ss2a///9ZzyrUqWKPj18+LC2mJ48edJ4JP/++6+cPn1aXw8bNkyWLFmiRWrfvn21tfXHH3/UInPPnj2i4uvqfBCduIYohrtA586d5fXXX9fid86cOVoUWyrgCQmQAAm4gYBbRGmVmlXkt19+k4vnL8qN6zeUpfQnqVr7/ysDIQjfD35f2nRuLZmyZJLAXDnkLyVAo0rDxg+TCq+U18IUz8+eORtVthjvQYy+2v5Vad35NSlYtKCcPH7Kkn/qginSom1zWbdivWTMlFEGjx4kJcuVlHdHvKv7cPniZWXZ8JfPvvxU0C+0NyBLgBw5eESvGv5h7WbpPyxIGrZoKGhrsuTJLGXzhAR8nUCndg2VNTKR3L17X/lPPoggTh89MpflTkWZEFgXS5UqJYUK6X0i5NChQ6rtWCMncuHCBSlbtqy2btavX98ytEOHDtUiFUIxa9aslvs4MSyqsLBGTvArRYLFM7qEf85hMYVgbtGihbbSYtof4jimNHXqVG2d7dOnj9SoUUO///XXX8f0Cp+RAAmQgNMJuNan9L/uwCe0TMUy2pqYNFlSPXVv+JciS5KkSeTQ3yHyXt/35M7tO1oMQuhFlQKUUEQyxN5DZWW1N2XJhl0kw1OKlCn0dBiuUGa2HNn0gzMnz8j5c+elcECR8Iz/fb129ZokT5FcZn0+U9o1bG9pR5UaleXksZNyRU3XFyke/g5W075c5uUI77voIsxF9bCaSARUmBh1Bx+mmAjEi+enZj/CtDhFvqEfTJXDR///z2FM77rqGaJ0qGgP8ueff0qWLFks1WbLlk0mTJggEHj4QJB+8sknlufTpk3T51EteIKLANJPP/0kdevW1efGlytXwl19MmfOLH//HfGfckzZI2G1PhKEKD5GUqHYjFPL0Xp6HtZXuAbMnj3b8jxFihSWc56QAAmQgDsIuEWUoqO1G9aSDas2SFIl/DBNb51+2vyTTPtkuiz+fpHkL5xfFn+1RNauiHqFfLz4cTf2wocrtpQyVQop/FJhmbv8S50Vv+CPHvpHAnMGysejP5ZTx0/Lpj0bJVPWTNKvGzYEEosfKyzCxuKsoyFHpbISrC5Ofi6uj9X9R4BxSmP/VngxRw25fCXcPztp0sRanI56r4f0faO1zJpne6SN2Gt6/hyYZofog7UUFk+IyVSpUukCIR7V5gry5ptvyq5duwT+mSNGjJApU6bo53v37pWPP/5Y+6P++uuv2mfUaAlW+lerVk1bNj/8MHxzM7gIQDDiWfr06aVMmTLy/fffW/zU8e7x48cFYtVoAxZDVa9eXReLxVHWv9PQdiTcN1LatGll4MCBgql/JAhmQ+AaeXgkARIgAVcTiLuie84WY7oe/pU/bvxRTd2/EqGUs6fPSq68uSRfoXxy/dp1Wf7NcssK+ggZXXjxcpkS2of1wB8H9B+LBTOVD2mXt8VPWXhOqen+QsUKaUF68M+DsmPrDnmiptVgaX2l1iuyYPbX2k1h8/rN2trqwmazKhIwNYG5C9bI/QcPBWIU0/gjBneXexd3yrt9O2gfbLM0Hn6YCPFUuXJlLQTnzZsnt27d0r7tp06dkpdfflmv2sdiJ3yQ10g5cuTQU+z79u2TmTNnGrctR6y6P3LkiBaJEIYQkbiHxUsQjUmTJhVYY2FNPXHihKActe2tfj9ZsmTaZWDBggV6hgd+p5iO37Jli150Bevn0qVLtQsAFksZCXmwOCs0NFTHRUX4KVh7mUiABEjAnQRcK0rVf/5I2gKgVsQXL11c+3BmzR7Rz6puk7ryUDnnl89fQeqWrSflq5QXxBRdMn+J5X19EsWX/6qI4ol9t9BG6wS/1Y49O0rHpp2kRI6S8s2X38pH08brANdtX28nqxavktK5yygraT9p3LKxTPt4mhw6cFi69u4iP6z9Qfdl5LujnokyYF0Hz0nA1wi8PWiiWnjzOIIYNSMDrMKHUMS0OKykWOGO6XYscIIgrVOnjl7FjlijeDZkyBBLN/C7BNP9sIQOGDDAsvrdyACBiMVT8PNEnFKsiEfKmTOnQPxCODZo0ECLTtyDVbZSpUrG63qhEiy0adKk0b6u8HnFIibUiwVWaHfy5Mktbkl4EZEA0KbcuXPraAJYoW+s5rcUzBMSIAEScDEB024zihWr8OPEdDh8MW/dvKVXrSZOktjFiCJWh5X/8BPNFphNEinLjpEeKmvPxQsXJXPWzPqPAfKlSpNKT6Pdu3tPQs+GStbArBFW3hrvOvPorG1Gndlmbyqb0/cxj+bGzb9Ireplo81ktm1Gr169qlevQ3zid9TFixe1qEMHYDGFryeC3z9PwqIlWDphgYX4hBDGtD9W+mOaHs8hUBGyKvI/zXAn+ueff7T4tPZ3RTsMq60x1W+0De1Hm7E6P2/evM+UaeRz5hH94DajziQcXja3GXU+Y9YQdwKm3mYUv6yMRUboKhYgmSGlTZdW8ImcEiZKKFmy/X/xg3UeLNzKmSdn5Fd4TQI+TyAmQWpGOPDFNBJ+R0GcGil79uzG6XMdsZAKYtQ6we/TSHgOP9KoEv5xz58/f1SPLH6nkR+i/YGBgZFv85oESIAE3EbAtdP3busmKyYBEiABEiABEiABEjAzAYpSM48O20YCJEACJEACJEACPkKAotRHBprdJAESIAESIAESIAEzE6AoNfPosG0kQAIkQAIkQAIk4CMEKEp9ZKDZTRIgARIgARIgARIwMwGKUjOPDttGAiRAAiRAAiRAAj5CgKLURwaa3SQBEiABEiABEiABMxOgKDXz6LBtJEACJEACJEACJOAjBChKfWSg2U0SIAESIAESIAESMDMBilIzjw7bRgIkQAIkQAIkQAI+QoCi1EcGmt0kARIgARIgARIgATMToCg18+iwbSRAAiRAAiRAAiTgIwQoSn1koNlNEiABEiABEiABEjAzAYpSM48O20YCJEACJEACJEACPkKAotRHBprdJAESIAESIAESIAEzE6AoNfPosG0kQAIkQAIkQAIk4CMEKEp9ZKDZTRIgARIgARIgARIwMwGKUjOPDttGAiRAAiRAAiRAAj5CgKLURwaa3SQBEiABEiABEiABMxOgKDXz6LBtJEACJEACJEACJOAjBChKfWSg2U0SIAESIAESIAESMDMBilIzjw7bRgIkQAIkQAIkQAI+QoCi1EcGmt0kARIgARIgARIgATMToCg18+iwbSRAAiRAAiRAAiTgIwT80c9leyb5SHfZTRIgAU8j4Ofn52lNZntJgARIgASeg4D/sIYz+Bv/OcDxFRIgAecTCLu51/mVmKgGv5Qlxdf6bCL8bAoJkICbCXD63s0DwOpJgARIgARIgARIgAREKEr5XUACJEACJEACJEACJOB2AhSlbh8CNoAESIAESIAESIAESICilN8DJEACJEACJEACJEACbidAUer2IWADSIAESIAESIAESIAEKEr5PUACJEACJEACJEACJOB2AhSlbh8CNoAESIAESIAESIAESICilN8DJEACJEACJEACJEACbidAUer2IWADSIAESIAESIAESIAEKEr5PUACJEACJEACJEACJOB2AhSlbh8CNoAESIAESIAESIAESICilN8DJEACJEACJEACJEACbidAUer2IWADSIAESIAESIAESIAEKEr5PUACJEACJEACJEACJOB2AhSlbh8CNoAESIAESIAESIAESICilN8DJEACJEACJEACJEACbidAUer2IWADSIAESIAESIAESIAEKEr5PUACJEACJEACJEACJOB2AhSlbh8CNoAESIAESIAESIAESICilN8DJEACJEACJEACJEACbidAUer2IWADSIAEfJXApi27JW22qjJv4XcREOA6jbq/cfMvEe7zggRIgAS8mYC/N3eOfSMBEiABMxOoWa2M3L17Xwa8/5kMHvGFbmqmPHXk0ePH+n6t6mXN3Hy2jQRIgAQcSoCWUofiZGEkQAIkYB+BEUN6yNVrNyX0/GVJkSKZhF64LNdv3JIRg7vbVxBzkwAJkICHE6Ao9fABZPNJgAQ8m8Cgfp3E3z++7sStW3f0MX78+DI4qLNnd4ytJwESIAE7CVCU2gmM2UmABEjA0QSGD+ouCRKEe1PhOEJdM5EACZCArxGgKPW1EWd/SYAETEcA1tL48cN/HceLF08GBXUyXRvZIBIgARJwNgGKUmcTZvkkQAIkYAMBWEsxjU8rqQ2wmIUESMArCXD1vVcOKztFAiTgaQSC+rSTkEMnpF+ftp7WdLaXBEiABBxCgKLUIRhZCAmQAAlET+Dp06dy8tQ5vbL+/IUr6nhNf85fvKpW3V+S8xcu6WP+vLkke+HGEpDxRcmY4UV1TCcBGdJJxvSp1TGNuveCvg7Mnkkwzc9EAiRAAt5EgKLUm0aTfSEBEjANgStXr8vqdT/J6vU75d+zl+Tq9ZsSEBAgGTMGqGMm9ckmFfKX/u9eRsvx/PnzEhoaKsYR54dPnpcffz6i7oXqZ6lTpZDsWTNIo7oV1KeypE2byjT9ZkNIgARI4HkJUJQ+Lzm+RwIkQAKRCIQcPqFF6Op12+Xw0RPSqFEj6djlTWncuLH4+flFyh31ZcaMGZVwzRj1w//uwvK6atUqWb16pQS9N0kK5MsljepV0iI1f97AGN/lQxIgARIwKwGKUrOODNtFAiTgEQS279ovK9du11bRBAkTKSHaRD6aOEnKly/vtPZj6r5p06b6g0p27typBOpqadpuiDx98lgL1MZKpFYs95LT2sCCSYAESMDRBOiU5GiiLI8ESMAnCPy676hUa9RX5i7aLpkDi8n6DZvk4MFDMm7cOKcK0qjgVqhQQYKDgyUk5LCs+W69ZMhSWOZ885PUaPK27P39n6he4T0SIAESMB0BWkpNNyRsEAmQgJkJHD12RgaOmC5nQ68oARosVatWNVVz8+bNK/3799dt2rx5s7zRb6DyP00vwcN7Sq6cmU3VVjaGBEiABKwJ0FJqTYPnJEACJBANgUuXr0nXPsFSv+W70r5jd9m9+1fTCdLITa9evbrs2bNXWrftKrWbvyPd+o4XLMBiIgESIAEzEqAoNeOosE0kQAKmIfD48WPpP/QLKVSmtVSoXEeOHDlq8eU0TSNjaUjz5s3ln3+OSZnyNSVfiZYyYNgUwWIpJhIgARIwEwGKUjONBttCAiRgKgIz5q6SJOkrSkC2wnLx4iXp0qWLqdpnb2Nef/11uXz5iryYKb8kSFtWZn+1xt4imJ8ESIAEnEaAotRpaFkwCZCAJxPorqa6L1yLJ48ePZKgoCBP7sozbX/33XflyZMncvrCY+kV9PEzz3mDBEiABNxBgKLUHdRZJwmQgIkJ+Em5mj2kVLka8v6wESZuZ9ybNnLUaClSvKJUqttLFWZbHNW418oSSIAESCBqAlx9HzUX3iUBEvBBAidPX5QiZVvKpk2bpGzZsj5B4I033pAiRYpI6qzV5K9fFknWzOl8ot/sJAmQgPkI0FJqvjFhi0iABNxAYM36n6Vqg156G09fEaQG5ooVK8qpU6ekQq1usm7jbuM2jyRAAiTgUgK0lLoUNysjARIwI4GxE7+SX/YdlxMnTpixeS5pU6pUqeT06dNSv35d+evgURn4djuX1MtKSIAESMAgQEupQYJHEiABnyTwzuBJcudhUrVNJ1ei4xtg7dr1cu12AhU2arJPfj+w0yRAAu4jQFHqPvasmQRIwM0EIEhTvZBdxoz90M0tMVf144LHS8KkGXR8VnO1jK0hARLwZgIUpd48uuwbCZBAtATGTpwnSVMGyIiRo6LN48sPRo/5UOInekHGf7rAlzGw7yRAAi4kQFHqQtisigRIwBwE1qzfIb/8dkxZSMeZo0EmbUXw+Any464QWb/xZ5O2kM0iARLwJgJc6ORNo8m+kAAJxErg5Knz8tbAT9SippOx5mUGkXXrN0jWrFnk500zJUvm9ERCAiRAAk4jQFHqNLQsmARIwIwEipRrpcI+nTdj00zbpr//PiDZs2eT62e2mLaNbBgJkIDnE+D0veePIXtAAiRgI4FyNbqpwPg/SPLkyW18g9lAAOGivvturVSq8waBkAAJkIDTCFCUOg0tCyYBEjATge59x0mXrj19ZqcmR7NHgP02bTtJr6CPHF00yyMBEiABTYCilN8IJEACXk9gxpcrJGv2AtKte3ev76szO/hGr17yYoZcMuer1c6shmWTAAn4KAH6lProwLPbJOArBB4/fiy9g4Ll0aNHvtJlp/Zz5AdjxM/PT7p0aOTUelg4CZCA7xGgpdT3xpw9JgGfIjBoxBQZ9yGD4zty0MFz0HDu+ORIpiyLBEhAhJZSfheQAAl4LYFLl6/JV9+sk4sX53ltH93RsYGDBknatGlk4NvtJU2alO5oAuskARLwQgK0lHrhoLJLJEAC4QQGjZgu48YFE4cTCIDroJHTnVAyiyQBEvBVAhSlvjry7DcJeDmBo8dOy/aff5cuXbp4eU/d073uatHYpq275cTJs+5pAGslARLwOgIUpV43pOwQCZAACAwcPk2Cg8cThhMJgO/AEdOcWAOLJgES8CUCFKW+NNrsKwn4CIFf9/4tZ89flaZNm/pIj93TzVdffVWOnQyVfb8fck8DWCsJkIBXEaAo9arhZGdIgARAYNDIacqXlFZSV3w3gDN4M5EACZBAXAlQlMaVIN8nARIwFYHtu/ZLYI68UrVqVVO1y1sbU7NmTcmUObvs2v2Ht3aR/SIBEnARAYpSF4FmNSRAAq4hsHLtdilcuKhrKmMtmkDBgkVk1dqdpEECJEACcSJAURonfHyZBEjAbARWr9sujRo3NluzvLo94L16/U9e3Ud2jgRIwPkEKEqdz5g1kAAJuIhAyOETkiBhIsmdO7eLamQ1IJA/f3558lQEYbiYSIAESOB5CVCUPi85vkcCJGA6Aqs37JZGjWgldcfAgPvq9T+7o2rWSQIk4CUEKEq9ZCDZDRIgAZHV67YpUdqIKNxAANxXr9/uhppZJQmQgLcQoCj1lpFkP0jAxwlcuXpdDh85JuXLl/dxEu7pfuXKleWPP0Pkxo3b7mkAayUBEvB4AhSlHj+E7AAJkAAI6AVObrCStm3bVvz8/GTLli0RBmLXrl36fsuWLSPct+dixIgR0qlTJ/3KL7/8Ijt3mnuFe6NGDbngyZ4BZl4SIIEIBChKI+DgBQmQgKcSWL1+p1v8SZ8+VSt8VFq2bFkEdCtXrtTXxvMID2286NixowwaNEjnXrp0qSxcuNDGN92TLdyvdJd7KmetJEACHk+AotTjh5AdIAESgPD799wlaeymUFBly5aV+fPny+PHj/VgoD3z5s0T3DfS9evXpUOHDpIyZUrJlSuXzJw5Uz+6f/++lC5dWmbPni2FChXSz2bNmqWfwfoKsbtixQqZMWOGriM4OFiePHkio0ePlqxZs0qGDBmkX79+cu/ePf1O79695fPPP5fq1avLV199ZVTvkmOTJk3k9JnzEhYW5pL6WAkJkIB3EaAo9a7xZG9IwCcJnDx1Tq5eu6Gny90BAP6USZIkke3bwxf67N27V4vEatWqWZoDsbh7925ZsGCBFpTdu3eXjRs3CgTsnj17ZPz48fLJJ5/onai6desmEKunT5+Ww4cPa3Fbt25dQXnNmzeXOXPm6Pywoi5ZskR/xo4dq+s6dOiQvPXWWzosVrly5Sz1u+LE399fLly6ooWpK+pjHSRAAt5FgKLUu8aTvSEBnyQQeuGyBARkclvf4VMK39Lly5frNsCy2b59e0mQIIG+vnnzpp56hwUTq9Rbt24tbdq0iTDlP23aNKlVq5YWpnjp5MmT+l18CQgI0FbRzJkza7EJK2vfvn0FQheCePjw4TJ37lxLfvihTp8+XfLkyWO556oTtBXjwUQCJEAC9hKgKLWXGPOTAAmYjsD5C1ckY8YAt7aradOmesr+0aNH2hqKayOdOXNGn5YoUcK4pcVlaGio5RpT8UgpUqTQxwcPHuhjVF9gDS1ZsqTlUY4cOeTff/+1XLszAkFAQGYJPU9RahkMnpAACdhMgKLUZlTMSAIkYFYCoReua2uiO9tnTJVjCv7GjRvagmm0B6IR6ezZs8YtCQkJkQoVKliu48ePbzmP7QTi1lqEHjlyRGrXrm15DZZbd6VwS+l1d1XPekmABDyYAEWpBw8em04CJBBOIPTCVbeLUvhTYsp+4MCB8uqrr0rChAktw5M0aVK9CGvSpElasEJQbtiwQWrUqGHJE9sJyr98OdwCiQVFWEh1/PhxefjwoXzzzTdSp06d2IpwyfNwUXrFJXWxEhIgAe8iQFHqXePJ3pCAVxLYtGV3jP0Kn77PGGMeZz2MFy+eZYFVs2bNdDXGERd4jvTuu+/K4sWLJXXq1No/FPFLX3rpJf0sqi+GtdN4v1KlSvr9Pn36SKtWrQTT+1jFnyhRIr0oCj6qRjLeNa5dedSi9DxFqSuZsy4S8BYC/t7SEfaDBEjAewm06DBAHj54JB+8/4b0f6v9Mx0NvXDJbZbSr7/+2tIehGGyDoeE4PdGwlT9xYsX5dixY8r/NaO88MIL+hGsqNbv4KZxXbRoUeN1qV+/vrayQoTis2/fPjlx4oS2yMIf1RCimzdvtrzjjpNwS+kld1TNOkmABDycAC2lHj6AbD4J+AKBz8b1F3//+DJ87HRJmqGCTJg0P0K3z6vV3hB6Zk+JEyfWsUgNQWpvexHjFIIUCT6ouXPnlmzZslkEqb3lOSN/uKWUotQZbFkmCXg7AYpSbx9h9o8EvIBAp3YNJXHiRHL37n0V//NBBHH66NFjtdrbfZZSL8Dr0C5QlDoUJwsjAZ8iwOl7nxpudtbTCdRr0Vd+2rnvmW4Y073WD6K6h+dRbbYTVd6o7oW//+xuPVHljaoe+95/tp548fxUsPkwLU5R1tAPpsrho6ckf97cHmEpRZu9PcFinT9vLm/vJvtHAiTgBAIUpU6AyiJJwFkE1m/cKbdDtz9TvOFPaP0guqhAUed9NoRQVPlQflT3o6orqnzRvx97/S/mqCGXr4SHGkqaNLEWp6Pe6yF932gt2Qs3lvPnz1OYWn8DuOkcsVcPHz3uptpZLQmQgCcToCj15NFj232SQLJkSXyu33MXrJH7Dx6KIUZHDO4u7/btYOEQkPFFgRjyBL9SS6OjOIGwvn37tgQGBiofWs/89YxxwHgwkQAJkIC9BOhTai8x5icBEnA5gbcHTRT4jkKM3ru4M4IgRWMyZkinLaVxbdiiRYu0JRhW3sifevXq2VU8AuijjGvXrsX63vr16yVDhgw6ggC2BsX2pNhC9N69e7G+a7YMFKVmGxG2hwQ8h4Bn/ivuOXzZUhIgAQcQWDxvnNSqXjbakgIypteW0mgz2PgA+9Ibuy7NmDFD5s+fL9u3h7tLGKvebSzKki0qf1vLQ3WCIPoQvIMHD5bWrVtLwYIFZffu3ToQP7YnXb16tXV2059rUZqBllLTDxQbSAImJEBLqQkHhU0iARKISCAmQYqcARlecIgoTZIkiWTKlEl/EOQeIZyMa9TTo0cPbdGsWLGizJo1C7d0WrFihVStWlUQsqlDhw5y8+ZN45E+Pn36VIKCgqRt27bK4vsowrPRo0dL165dZezYsVKkSBEd6gl710+fPl3WrFkjBw8elMmTJwvyGemLL76Q4OBgfYkdnQYNGqQD6WP70W+//Vbfv3PnjpQuXVrOnTunr+EWgOtLl8LDNc2dO1eKFSum3xs+fLg8fvzYKD5Ox3BLaXgM1jgVxJdJgAR8jgAtpT435OwwCXgfgYwvppLDp847tWMjR46UAwcOyLJly+TkyZPakgkLJ7YTxQ5O2K0pTZo0WnxCsEJoIsFS2r9/f1myZIns2rVLT80bDX3y5Ins3LlTsEtT5FSlShV96/DhwwKLqbHFKG5im9Jbt27p58OGDdNlQ6TevXtXW1vhW1u8eHHZs2eP3vkJGSE6cQ1RDHeBzp07C7Y9LVCggD5H3FOUFdcEUVokT5q4FsP3SYAEfJAARakPDjq7TALeRiAgY1r58ZejTu0W9pt/66239BahyZIl03UdOnRIB7DHxYULF6Ru3braumntCzp06FDBrk/79+/X71o30rCowsIaOcGvFAkWz+gSLLAQo3AzaNGihc72ww8/yPLly7Uoje69qVOnatFsiGEIbpTjGFF6TmpVYkio6NjzPgmQQPQEOH0fPRs+IQES8BACGdX0/fnzoU5tLfagb968uZ7Sh++pkbCj0oQJE7S1M0WKFNKrVy/LfvfIM23aNG3VjGrBE1wEkH766Sd9tP5y5Ur4/vGZM2e2vq3PMWWPhNX6SO3bt7cszIJAhUCOnKyn52F9nT17tuUdWHVh4XRECg09p1bfp3NEUSyDBEjAxwhQlPrYgLO7JOCNBALU6ntHiaqo+GCaHcKvcuXKcvXqVTl9+rRAgCJBPDZu3Fju378vW7Zs0f6k1nve7927V9q0aaP9UVGOdcLq/GrVqmnLpnEfLgLjxo3TPqvp06eXMmXK6EfW7x4/Hh4HNFWqVPoZFkPBoooPrLdjxowxihPjPbgAGClt2rQycOBAyztwB9i6davxOE5H7VOqxoOJBEiABOwlQFFqLzHmJwESMB2BwOyZJHXK5Cqg/lOntA1+mAjxBFEKIThv3jxt/UR9p06dkpdfflmv2sdiJ3yQ10g5cuTQU+P79u2TmTNnGrctR6y6P3LkiBaJsHxCROIeFi9hOj1p0qR6f3tYU0+cOCEoZ9WqVfp9uBGULVtWFixYILCewte1Ro0aWhzDJQDCeenSpVp8YrGUkZAHi7MgILEACuGnYO2NawKn9C+mlaxZMsS1KL5PAiTggwQoSn1w0NllEvA2Aphaz54to0WsObp/WIUPodiyZUvBlDtWuMN/FAucIEjr1KmjV7Ej1iieDRkyxNIEWEOzZMkiH374oQwYMMCy+t3IAIGIxVPw88S+8VgRj5QzZ04tfiEcGzRooEUn7sEqW6lSJeN1vUofC6iwyKpQoUJSqlQpvXAJ9WKBFdqdPHly/b7xEiIBoE25c+fW0QSwQt9YzW/keZ7jypUrJUe2AO0W8Dzv8x0SIAHfJvDs3n6+zYO9JwGHEji4rmVYgYoDHFamX8qSEnZzr8PK86aC5n79nWzbfUK+/HKu07qFqXtYAyE+sar+4sWL+hwVwmIKayWC3z9PgtUVlk6sqof4hBD++OOPpWfPnto6i+cQqAhRBcFpneAv+s8//2jxCbFpnQyrrTHVbzxD+9HmBw8eSN68eZ8p08hnz7F9+3ZSu0o+adfKvo0G7KnDjHlDdoyXgvUWRxwUEzV0StDCsPpdqpqoRWwKCTxLYO2crcLV989y4R0SIAEPJNCobiUJem+SU1sOX0wjQRhCnBope/bsxulzHWHthRi1TvD7NBKeR7XoCc+xJWn+/PmNrBGOkcWo8RDtDwwMNC4dcly9eo1MHtfNIWWxEBIgAd8jwOl73xtz9pgEvJJA2rSppED+XDrup1d20OSd2rZtmxR/qZDaQCC5yVvK5pEACZiVAEWpWUeG7SIBErCbAKylnrYtp92dNOkL4A7+TCRAAiTwvAQoSp+XHN8jARIwHYFGdcsrURq+Mt10jfPyBoF7ozrlvLyX7B4JkIAzCVCUOpMuyyYBEnApgfx5A+Xpk8c6xJJLK/bxyg4ePCgJE8SX3Lmy+jgJdp8ESCAuBChK40KP75IACZiOQKN6agr/vziepmuclzYIvDl176WDy26RgAsJUJS6EDarIgEScD6BxvUqSkjIX86viDVYCBwKOSDgzkQCJEACcSFAURoXenyXBEjAdAQqlntJTp08Jps3bzZd27yxQd9//72cP39GypYu4o3dY59IgARcSICi1IWwWRUJkIBrCIwb3lNt0/n/GJ+uqdU3awHnccN7+Gbn2WsSIAGHEqAodShOFkYCJGAGAiVfLijZs6bX23eaoT3e2oZFixZJvtxZ5aWi+by1i+wXCZCACwlQlLoQNqsiARJwHYFgZb2z3hHJdTX7Tk3gGzyCVlLfGXH2lAScS4Ci1Ll8WToJkICbCOTKmUWqVi4ls2bNclMLvLvaadOmSd1aFSV7tgDv7ih7RwIk4DIC/i6riRWRAAmQgIsJjBv+uuQr0Upef/11F9fs/dUNGjRITv3NjQq8f6TZQxJwHQFaSl3HmjWRAAm4mMALaVNLl/aN5aOPPnJxzd5d3Ydjx0qvbi0lVSruc+/dI83ekYBrCdBS6lrerI0ESMDFBMaN6CkJ0paVd99918U1e2d1YWFh8t7QofL0xh7v7CB7RQIk4DYCtJS6DT0rJgEScAWBePHiyYxJQ2X4sKGuqM7r63h/6BCZM3mE1/eTHSQBEnA9AYpS1zNnjSRAAi4m0LVDI7l0/phMnTLFxTV7V3WfT5okN6+ekU7t6ntXx9gbEiABUxCgKDXFMLARJEACziYwZWJ/WbhwnuzYscPZVXll+T/++KMsX75IJo1/xyv7x06RAAm4nwB9St0/BmwBCZCAiwhsXz9FUmetLqdOnVKLdFK5qFbPr+bKlSvSokVzuXxio+d3hj0gARIwLQFaSk07NGwYCZCAMwj89fO3UqRIYWcU7bVlghe4MZEACZCAMwlQlDqTLssmARIwHYGsWV6UaZ8Mkvr165qubWZsUO3aNWXu1OESkDGtGZvHNpEACXgRAYpSLxpMdoUESMA2AvVqlZXKZfPLoIEMExUTsf5B/aRWlWJSq1qpmLLxGQmQAAk4hABFqUMwshASIAFPIzDw7Xby9OEVGapCHDE9S2DwoIGSwO+WBPVp/exD3iEBEiABJxCgKHUCVBZJAiTgGQTGj+ot92+dk4ED+ntGg13Uyv5BaoX9oyvy4fCeLqqR1ZAACZCACEUpvwtIgAR8msCE0X3khRRPpF7dOj7Nweh87Vo1JeCF+PLhiDeMWzySAAmQgEsIMCSUSzCzEhIgATMTGKCm8osU/FmyZs0if/99wCfDRSHsE1bZz53yvtSqXsbMw8W2kQAJeCkBWkq9dGDZLRIgAfsI1K1VTn7eNFOyZ8/mcwH2ERg/X7688tu2uRSk9n3bMDcJkIADCdBS6kCYLIoESMCzCWTJnF6un9kiler0lDZtO8kbvXp7dodsaP3nkz6T5cu+YWB8G1gxCwmQgHMJ0FLqXL4snQRIwAMJbN8wTf7a/5MMHzbYA1tvW5PDwsJk6JCBcjRkt2z9brJtLzEXCZAACTiRAEWpE+GyaBIgAc8lMOXjAZI9QwLx8/OT4HEfem5Homj5h2PHSPz48SV31qRqL/ugKHLwFgmQAAm4ngBFqeuZs0YSIAEPIdClQ2MJu7lXrl08KmnTppEZM2Z4SMujbua0adMkdepUcuvqCXl6Y490atcg6oy8SwIkQAJuIEBR6gborJIESMCzCIwb2VuO/b5cftu9WXLmzCFLlizxqA4sWrRIAgOzyx+/bZNTf6+WscMZ7smjBpCNJQEfIUBR6iMDzW6SAAnEjUCaNCll+qcDZPOqz2TJt3OkRInismnTprgV6uS3v//+eylevJisWPqVbFs7WaZ+3F+Fu0ru5FpZPAmQAAk8HwGuvn8+bnyLBEjARwnkCMwsi+eOln2/H5JBI0fJ1wvmScFCRaVRo0aSP39+t1M5ePCgrF69Wg6F/C3nQ0/Ll18MlJeK5nN7u9gAEiABEoiNAEVpbIT4nARIgASiIPDyS/ll44pPZdfuP2TVul3StEkjefJUtDiFQEsvMPoAAEAASURBVK1cuXIUbznn1rZt27QQhRhNmCCeNKpXWXp2rC5lSxV1ToUslQRIgAScQICi1AlQWSQJkIDvEChfppjgEzzyDTl67LSs3rBH3h86SP7486BFoDZp0kT8/R336/bRo0eycuVKixAt/lJhaVT/FVm/5CPJnSur78BnT0mABLyKgON+S3oVFnaGBEiABOwnkCdXNgnqjU9zuXHjtqxev10WLZwlH40fIxcuXpGAgAD1yfTfB+cRPxkzZpTQ0NBoPufUfXxCJX26tJIjMJM0qltBJo9bLSlT0k/U/tHiGyRAAmYjQFFqthFhe0iABLyCABYUtX+trv4gUP3pM+cl9MJlCT2vPheuqs85+XnHn+HX5y+q4yXJmCG9Eq+XJCDji///ZEgnRfKmkVqVcql76SRAXWfNkkHHT/UKUOwECZAACfxHgKKU3wokQAIk4GQCCMCfPVuA/sRUlV/Kkjouakx5+IwESIAEvJUAQ0J568iyXyRAAiRAAiRAAiTgQQQoSj1osNhUEiABEiABEiABEvBWAhSl3jqy7BcJkAAJkAAJkAAJeBABilIPGiw2lQRIgARIgARIgAS8lQBFqbeOLPtFAiRAAiRAAiRAAh5EgKLUgwaLTSUBEiABEiABEiABbyVAUeqtI8t+kQAJkAAJkAAJkIAHEaAo9aDBYlNJgARIgARIgARIwFsJUJR668iyXyRAAiRAAiRAAiTgQQQoSj1osNhUEiABEiABEiABEvBWAhSl3jqy7BcJkAAJkAAJkAAJeBABilIPGiw2lQRIgARIgARIgAS8lQBFqbeOLPtFAiRAAiRAAiRAAh5EgKLUgwaLTSUBEiABEiABEiABbyVAUeqtI8t+kQAJkAAJkAAJkIAHEaAo9aDBYlNJgARIgARIgARIwFsJUJR668iyXyRAAiRAAiRAAiTgQQQoSj1osNhUEiABEiABEiABEvBWAhSl3jqy7BcJkAAJkAAJkAAJeBABilIPGiw2lQRIgARIgARIgAS8lQBFqbeOLPtFAiRgegKbtuyWtNmqyryF30VoK67TqPsbN/8S4T4vSIAESMCbCfh7c+fYNxIgARIwM4Ga1crI3bv3ZcD7n8ngEV/opmbKU0cePX6s79eqXtbMzWfbSIAESMChBGgpdShOFkYCJEAC9hEYMaSHXL12U0LPX5YUKZJJ6IXLcv3GLRkxuLt9BTE3CZAACXg4AYpSDx9ANp8ESMCzCQzq10n8/ePrTty6dUcf48ePL4ODOnt2x9h6EiABErCTAEWpncCYnQRIgAQcTWD4oO6SIEG4NxWOI9Q1EwmQAAn4GgGKUl8bcfaXBEjAdARgLY0fP/zXcbx48WRQUCfTtZENIgESIAFnE6AodTZhlk8CJEACNhCAtRTT+LSS2gCLWUiABLySAFffe+WwslMkQAKeRiCoTzsJOXRC+vVp62lNZ3tJgARIwCEEKEodgpGFkAAJOIOAX8qSzijW1GV+9e1aU7fP0Y0Lu7nX0UWyPJMQyF4owCQtYTOcReDUgVCHFk1R6lCcLIwESMDRBMLCwhxdJMszCQE/Pz+TtITNcBYB/vw6i6z7y3XGzy99St0/rmwBCZAACZAACZAACfg8AYpSn/8WIAASIAESIAESIAEScD8BilL3jwFbQAIk4CICT548EUw5WX9SpkwpjRo1kuPHjzukFbly5YpQvnVdv/xi3172gwcPlgEDBjikXbYWgjbu3LlTZx8xYoR06tRJn1evXl1mz55tazHMRwIkQAJ2E6BPqd3I+AIJkICnE1iyZIlUrlxZd+PKlSvSoEED6datm2zevDnOXdu1a5dA/CJlzpxZZs6cKfXq1dPX6dKl00dbv8Af7+nTp7Zmd0i+pUuXyr1796RChQrSsWNHefDggaVc+gdaUPCEBEjACQRoKXUCVBZJAiRgbgJp0qSR9OnT60+BAgW0+Dpy5IhuNCyD69evt3SgQ4cO8sMPP8j9+/eldOnS2lpYqFAhgUV01qxZlnzGSYYMGSRTpkz6g3sQosY1yoUYRp727dvL2bNn9WvXrl2Tvn376vsoe82aNUZxluOff/4p5cqVk40bN4ot+SGOYQE2EqyfLVq00JfTp0+XYcOG6TagLRDNly5dkhUrVsiMGTNk/vz5EhwcLFu2bJFly5YZRfBIAiRAAk4lQFHqVLwsnARIwIwErl+/LpcvX9ZCbPv27fL1119Lw4YNdVP/+usvgfXUSAcOHNAiEBbLPXv2yPjx4+WTTz6RqlWrausqxKot6eHDh9K9e3dp1aqVrF27Vi5cuCATJkzQr2Ja/PDhw7Ju3Tpp06aNFpPWFko8q1ixohaPtWrV0sI4pvwo9MaNG7J//35L09Bn4/rcuXPywQcfSJ48eWTy5Mny22+/ydSpU6Vs2bJSt25dqVatmjRv3lxOnz6t22UphCckQAIk4EQCnL53IlwWTQIkYE4ChsXQunUQhLakadOmaUEKqyXE5MmTJyV//vyxvnr79m0t/Jo1a6bFcL58+bTIxYsnTpzQ9xIlSiRDhgyRKlWqWFwAYMGFdRUW3Pfff1/XE1P+WBvyX4ZKlSppayku9+3bp8VnQECAZM2aVU/f586d29aimI8ESIAEHEKAllKHYGQhJEACnkQAPqUXL17U1kpYP1OkSGGxWkbuR2RLKEQbEt5BsrZo6hvRfEmWLJm2VGJhFVwHVq5cacmJBU1JkiSRIkWKCMTg77//LkmTJtXPMZWPtkL8Gimm/EaeyMfHjx9HuAX3AyOlSpVKC1HjmkcSIAEScAcBilJ3UGedJEACbiUAn9IXX3xRi8OSJUtKr169BNP2RjIEHBb2HDx40Litj/Hjx49wbesFLLGjR4+WrVu3CsqHsDQSpta///57OXXqlLz99tvSp08fCQkJ0Y8bN24s8CeFODV8TWPKb5SJI1wGjISpeOv0vP2wLoPnJEACJOBIAhSljqTJskiABDySAKatb926pdsOC+Lq1asFwm/OnDkO6w+m3AsWLCjFihXTPquY+jdW6Q8dOlQvLEI72rZtq+s0LLSwnMKC+s4772jxfPfuXYkpv9FgrPyHhfWnn37S/rNwO7Al+fv76/y25GUeEiABEnAkAYpSR9JkWSRAAh5BIPL2eC+88IK2RmKK/PXXX9er0GFNxer6vHnzxtinyGVFl/m1117TK/jTpk2rp+ixYAkxQbHaHSvvsfAI7QgMDJSuXbtK8eLFdVHx4oX/moY/KRYvYaFVTPmN+iGAa9asqf1Tc+bMqRc1Gc+iOhr1wNd08eLF2lqLfMZ9nNvaV+RlIgESIAF7CXDjYXuJMT8J2EHg4LqWYQUqOi74uV/KkhJ2c68dLfDsrLq/agrd1Ql+orCUIlySIxPcAY4dO6aFJyySEJkJEybU/qQ3b97UfqOw1ML/NLZka/7z588LhDDqsTWhbCy6wseZCSLXG76fQ3aMl4L1Fpv27+mUoIVh9btUdeZQRll29kIBwti2UaLxipv4+T11INRhfVk7Z6tw9b3DcLIgEiABbyEAMeZoQQo2+CVuvaodC4yMhAVQRYsWNS5jPdqaP2PGjLGWFTkDymYiARIgAVcT4PS9q4mzPhIgARIgARIgARIggWcIUJQ+g4Q3SIAESIAESIAESIAEXE2AotTVxFkfCZCAaQk8evTItG1zRMOwK9Xx48cFOzoxkQAJkIDZCFCUmm1E2B4SIAG3EPj333/1YiAjFJN1I8aOHav3ibe+Z+s5FjPBlxT71VsnhHbC/X/++cf69nOfY6vUyH6w2NMeW5piscmHH34oqVOnFiykQrgo+I1Onz79uevjiyRAAiTgaAIUpY4myvJIgAS8jgBEHayMcUmRVyEnTpxYtm3bJpkyZYpLsZZ3Uf69e/cs1xDD69ev11uiDhs2TIvShQsX6oD6EN7Y675nz57y6aefWt7hCQmQAAm4kwBFqTvps24SIAHTEYBFERZH7E2/fPnyZ9qHUFEdOnTQlkZYHWfOnGnJg12hKlasqJ+1bt36GSsohG1QUJAOkG8Ewb969aq2WEI4tm/fXtcNC+elS5d0ubCwoj7U1b17dxk4cKAWm5ZKozn54YcfpGnTpnobVOwk9fHHH0uDBg0kQYIEOtQTgvQj9inqjSyYoymSt0mABEjAqQQoSp2Kl4WTAAl4GgFYFxHQvnz58tK8eXMdO9S6D71795bdu3fLggUL9LahEIobN27UgfFr1KihxSymzO/cuSPjxo2zvArh179/fx2YHvcRlH779u3augkfTwTPz5Mnj0yePFl+++03bcnEy2PGjJFDhw5piyYsnAief/bsWUu50Z2sWrVKmjRpIocPH9ZZateu/UxWBPDHTlaGAH4mA2+QAAmQgAsJME6pC2GzKhIgAfMTgP8oxGXDhg1l2bJlsnnzZkujEVQeU+DYpx6CDum7777T+bBlKLb1/PzzzyVp0qSSJUsWLW6Nl7E1KPw+9+/fL1mzZhVYSq0TdlKC1RJp3759FjG5YsUK+fbbb6VUqVJSp04dmT9/vvVrUZ5jz/uVK1fKRx99JHv3hm+2AH/SyMnYrQkCmokESIAE3E2AllJ3jwDrJwESMBWBcuXK6fZAsJUtW1bvU2808MyZM/q0RIkSxi0dDD80NFROnz6ttySFIEXKkSOH9uM0MmLveVglIy94Mp5jet5ICKoP/1CslMfHCLiPqfdq1aoZ2aI97ty5UwfihxuC4bMK627ktGPHDn0LC5+YSIAESMDdBChK3T0CrJ8ESMBUBKxF4x9//CGlS5e2tA9CE8l6+jwkJEQqVKigBemRI0fk8ePHOg+m5GE1NRIslm3atJEePXoIrKqRU/z48SPfsmzzaYhhZECUgNjSmjVrpFmzZjobXAKQ4GIQOcHv9JVXXrFrC9LIZfCaBLyBgPFz66y+MBybbWQpSm3jxFwkQAI+QgBC8sGDB/Lll1/q6XhYS40EK2jjxo1l0qRJet96CMQNGzbo6X4I0xQpUuiFT5iah48ofEONBEEbHBysp+atF0cZz6M6YotQuAF88cUX2sI6d+5cgfCNKcF3dcmSJVK/fn2dLXny5DJixAg9lQ8/WLggYHEV3BQ2bdqknyHjTz/9JN98801MRfMZCbicAGYQ4ONtneDegnBqly9ftr4dp/O0adMK/gl9nvBvjgzHdurUKf3z+7ydGTx4sAwYMOB5X3f7exSlbh8CNoAESMBMBH799VdBuKYuXbpoMYhz/AE0/C/fffddvVgJPprwDW3ZsqW89NJL2to4ceJE6dWrlyRLlkwLUus/DigDAhOr+3HfWFyE+1El1AfrKXxKYXXFH00I5rx580Zp2TTKQQQAiGdEDzDSe++9p8UnVvfDNeCFF16Qzz77TPvGVqlSRWdbt26dTJgwwXiFRxKIlcD2XdtizeOIDNFFh4juflzqRJn2hn/DO44Kx/bnn3/KoEGDnrsLz9P+567MCS9SlDoBKoskARLwPAIQjPiFvnXrVu0fCv9PrLRHGjJkiGWBESyiWND0999/a0vNrFmztHhEvm7duulV9xCRELcFCxbUIhDlpkmTBln0HxxYK7Nnz67rg7/oyJEjBeUYCWGfli5dqi8xdT9nzhy9un/Pnj3aPcBacBrvIMQTyi1atKhlkZTxzN/fX4YPH64twBCtsMZcuHDBslgL+d566y0pUqSI8QqPJBArgZ7vdJO8xQNl+pdTY83rzAz4R69QoUL6H7F+/fpZ3GNef/11Hc2iatWqOtRanz59LM/w81u9enX9Dn428PMeOWHBIAQirLXwI8eCQ1vS84ZjO3HihLz99tvaj7xFixa6KliFcQ7/cIR0Q8QOJLgZ9e3bV99H3+GyEzlB4MJHHq47tuSP/L47rilK3UGddZIACZiaACygmPaOLsF6ij8EsDhGTrBSBgQERL793Nf4gwL/UAhTWDohMJ9XPCZMmFAKFy4s2bJle6Y9qAd/0JlIwFYCIwZ9oP4h85dPvvhI8r2cw2niFCHW4PpifOBaYyT8k4UNIDDtDrcYTKWvXr1aP0YotTfffFO6du0qmNaGG4wh6uCGg4WDiOFrHWHDKBdHRMOAKwzqhQBE7OEff/zROkuU588bjg3CE0I6ffr0+h9hFI468XsGDPLnz683vMA/ubNnz9b/fGKGA77qjRo10v90Gg1CKDjETEbMY0QKiS2/8Z67jwwJ5e4RYP0kQAIkEAMBxDTFH1lYSeHf+sknn+jp+Rheea5HnTp1eq73+JLvEni1aSsZO3GUXL12VUOAOP348/HSr88A6dLudYeBgcCyXohkvRgR/6TBxaVMmTJ6ESBmIGAhxMYRSJiFaNeunT5HODds64toE4hqgYgU6dKl09EtXn75ZZ3H+IIpfIhRhGAzrJawgGJDDSwOjC7FJRwb/qHFP434h9hoD9oPYQn3HLgJwUUIPu+wqsIFKFGiRFrAwg3HWEAJv/PKlSsLfqaxQQZSTPmj64s77lOUuoM66yQBEiABGwnABxQWUny8MfmlLOkt3Qoza0d6TWwjMtF5rYP/M0Tcvfvh29xOmBQsx08ec1iFsOAjaoWRMKVthGWDgMP0vbHQEHmMRX44t54VgF82BB0W9cE3G4IUCS4vkdP58+f1rcg/e/AhjylFF44NsY+tk63h2LAoERE04DKUM2dOSxGw/L722mt61gT333nnHW0ZRQZjKv/kyZM25bdkMsEJRakJBoFNIAESIAFfJRB2c6/Hdz1kx3gpWG9x1CvWTNC7KUELw+p3qeqUlhSvWMhiKU2SOIk8VVPLQW++K53bvy7fLv3aKXVaF4rtc48ePap3XoOVNLJohCU1ckIkDCN8G55HFWYN/wwiYZYCvqdI8O+OKnSbfvjfl+jCsUUWpbaEYzt27Jj2a583b57uF9pcrFgxXRO2O8YmHleuXBG4C8Bf1mgnXBMQ/QNiG+3BRiDR5S9QoIB1891+Tp9Stw8BG0ACJEACsRPA1JwxPRd7buYgAecTWLJikbY8QowmSpRY3undX47sOyE9uvSShAkSOr8BqgYI0pIlS+qFg7CgIkRbbD8n8LVE+DZsaIHwbVOnPrtQCxE04C6DMGqYkofVEcJyy5Yt0fYLvp7PE47NukBYnW/fvq3dFSA4kVAvpu/hE4sEqzR2iIN7AfzXscgRCdsQI2HxJPzOYT1FNBD0Mab8+iWTfKEoNclAsBkkQAIkEJnAL7/8IpgORBo1alSEKczIeXlNAq4mMHLc+/JIbRZhLUZd2QYINUSNgCUxZcqU8uqrr0rHjh21lRAxR6NLWPA3ZswYbV2E+MRUOkQqysPHCP82ffp02bVrl46cgYWN2Oq3c+fOzxSLd5CeNxybdYHFixfXl0Z9cEWADywWV6KtWASFKB9YeAVrKBZBBQYG6sVcxrtG++FPeuPGDRk/fnyM+a3rd/d5OEl3t4L1k4CXEji4rmVYgYqOC2QM/ztvmO60dbh1f5X1wVdT//79dfzDyZMn65BO2EnKOnSUp3PBH3Nv+H721en7n3b+KJUrvBLtt2H2QgE67Fm0GRz0AH6iCMMGcYbvKSwAgv9obFPtCL4P0QafTENYRm4SFlhhcRR8VxE27nkTrK2Yfod4tvZzjao81Im4pxDKSHAbQH8gSmENxQdxkhECDhZchKzCs9iSvfljKw/MTh0IjS2bzc/XztkqtJTajIsZSYAEvJ0ApsFgVcD0HsKzIMwMpuSQoosXCMGIsDJGwhQbptWQYK1p1aqV/kOEWIlYRYxkS/xDrCjGTjZY/WuUh8UXKA9tw4pcY3ovuvLwxwvbpCJQPnzR0C+EfkKYGZSBo3XQb904fiEBGwnEJEhtLMIh2bACHX6ihrB88cUXYxWkqBgLnSDojPeiagx8ThGKKS6CFOXGFI4tcr2o0xCkeIYQdYbohMUUghQJAhd+o8YzfTOGL/bmj6Eopz2iKHUaWhZMAiTgaQQwXQ6BiZWtWECBnZD279+vuxFdvEBYMWCtMBIWTZw+fVpf9uzZU/+xxHae2DI0KChI37cl/iH82erWrSvVqlWT5s2b6/cQqxD+YhDCmCo0fOGiKw++ZwglBXELnzLEZaxdu7b+g4d7CAZuxHQ02s8jCZAACbiLwLPL0tzVEtZLAiRAAiYgAPFmhJSBrxmCUyNmYHTxAmNqMsK4YOckTNdhUQUspbbGP8QCBlhIYMmEEEVC2Bv4wiHt3btXQkJCYiwPVlKkSZMm6ZW5sJwi+DdiHcISg1W5WCjCRAIkQAJmIEBLqRlGgW0gARIwDQFM1RkJvmaIaYhkxAvEFBi2JYwuYSrdSLBGQtRmypRJatasqX3drOMfYtoQH0zRQ7zGlgxxinxoBwSrLeUhVA4Spv6w9akxNYjr2FYq6xf5hQRIgARcQICWUhdAZhUkQAKeQwCLAYz0+++/65W3McULRF5rYYedYrBaFosvsDghNDRUsM82pty7dOli8Su1N/4h6okq5qIt8RRjW/CBsplIgARIwN0EaCl19wiwfhIgAVMRgHUTFkj4kiLwNAJSGwuKoooXiKl5WFOxjR8WQyGQtZGw9d/69ev1YgSEq0G5WPBga/xDiFCsEI4pYZGDreXFVA72DDf2BY8pH5+RAAmQgLMIUJQ6iyzLJQES8EgCCBGDPajhRwrfUsQlRHzC6OIFNmjQQK+mx1Q/dlKpVKmS7jdWBCO2KJ5jpXuzZs30yn6UbWv8Q5S1ePFiHU8xKphGPEJby4uqDGPlMRZ2YSEVEwmQAAm4iwDjlLqLPOv1CQKMUxq3YXZ1nFKEh0FIJywQQigoY29soxfRxQvE4iVM08N31BB5xjvwRcWKfPhyWk+/2xr/EO4EELj4xJRsLS+6MhCCClZZBOZ2VQIrxil1Pm1nbjMaU+tdFac0pjbwmfMI4OfX0XFK6VPqvPFiySRAAh5KALukRJWwGt5IWCSEDxIslvAjjSrBrxSfyAkC1XpRVeTnxjUWNNmSbC0vurL+/PNPvTtOdM95nwRIgAScTYCi1NmEWT4JkIDHEBgwYIDkyZPHY9rryIbGFFHAkfWwLBIgARKIjgBFaXRkeJ8ESMDnCPTo0cPn+swOkwAJkIBZCHChk1lGgu0gARJwCgGEa7IO2eToSuBPCn9OT063bt2SQ4cO6egA0fUDkQPOnj0b3WPeJwESIIE4E6AojTNCFkACJGBmAlgB70wLKEJItWzZ0q0IsD3qzp077W7DP//8oxd1wW+1QIECOuoAQmBhQZeRcN62bVv9DPt/58uXT4KDg43HPJIACZCAwwhQlDoMJQsiARIgAfcQWLp0qSxcuNCuyhEtAGGvIDJhAUW0AQT+T5AggZQsWVJu376ty/vggw+0JRg7R12/fl3ef/99GTRokGzYsMGu+piZBEiABGIjQFEaGyE+JwES8HgCEFStWrXS8ULr1atnCYaPoPiwoiKOaMWKFWXWrFm6r9gjHmGhZs+eLYUKFRKEijKeYbp+5MiRWszVqlVLdu/eHSUfuAyMHj1a71+P8vv166enx7/77jupXLmyZcofU/9Vq1aVbdu26XinEHyor0SJEvLtt9/qslEW2vPll1/q9ljvV49QTrDWYqtSWDCjqzdyI6dNmybYDWrmzJk6lBWe58iRQxYsWCAXL160iFxsBgAG6APyt2vXTu9OZWtUgMj18poESIAEoiPAhU7RkeF9EiABryGAoPBDhgwR7Kr0zjvvyNSpU2Xo0KFaXB44cECWLVsmJ0+elPbt2wtEa+rUqWXPnj2CQPqff/65DmCP+J0QZCtXrpSJEyfqd7HPPURk06ZNn2E1Z84cHSz/ww8/lCJFiugpcOy+1KtXL71zEsRshQoV9LT7jz/+qK2Ww4YNkyVLlmhxeffuXWndurVkzJhRC2a0B36f/fv3l/Tp01vqw25OdevW1duaNm/eXKKrFxZP64TyENjfCGtlPENs1mrVqklISIi+hQ0BsDL/8OHDUrt2bd0W9IGJBEiABBxNgKLU0URZHgmQgOkIQPyNGTNGt2vv3r0WwdWkSRMdmxPxRyEYkSD8IPSQYE2EFbNcuXLaagrhum7dOh1gHuIWKTpLKSyQffv2ld69e+t8EHawsEIc1qxZU29hinbBEgmxi/ph6YTFs0WLFvqdH374QZYvX66FIG5MmjRJOnXqpJ8ZXwICArQ1FguRcufOLW3atIm2XuMdHC9cuCDFihWzvmU5xxQ+Fj8hoU7kQzs6duyo76H933zzjUQXz1Vn4hcSIAESsJMAp+/tBMbsJEACnkcAYs1ImHaGgENC0HtYF2EtbNSokZHFcjSC5adIkULfe/DggbaUQqQaqXz58sZphCPELXwzjYSpcezshAThCIsoXAGw5zyu4WKABGstdkrBBwIV4tFIZcqUMU6jPcZUr/VL6BsstJETrL/ff/+9BAYGalcAsIKw3rx5s9y5c0dP62Nh1dixYyO/ymsSIAESiBMBitI44ePLJEACnkDAentPo73wvYQAhH8ntgI9ffq0GOLTyBM/fnzj1HIsWrRohNBIR44csTyzPoFPqCFCcR/5MP2NhClxLCqaO3euFshY8Q5/TaTVq1dr8QcBCIFpWHjxDEI1thRTvdbvQuBCXMKv1jphWh8JXLA6H7tRoa1ISZMm1S4FiDZg7deqH/ILCZAACcSRAEVpHAHydRIgAc8k8OjRI+0zCvEFQThv3jw9ZQ3rZUwJltWvvvpKCzb4o2L6PaoE1wCUCUEH6yOmu+vUqaOzpkmTRvuhdu3aVU/HJ0yYUE/fw20AC42QH64CNWrUkC1btkRVfIR7EN3Ytx4ppnqtX8ICL4hwhHuC+ASP/fv3S4cOHbRPKbjkzJlT+69ixf3Nmzf16wcPHpStW7fqhVjW5fGcBEiABOJKgKI0rgT5PgmQgMcRwLQ9puwHDx6sY4xiYRNWumPBULNmzaLtDyyVr732mmB1PrYjLVy4sJQqVUq7AUR+Cav9Md2PlfSJEiXS72Ca3khYxISE8ow0ffp02bVrl0C0YsU7yu7cubPxOFpLaaVKlfRirD59+ugoAzHVaxQGC+jPP/+sY5KiLxDGCBEFYQxrLRJ8SyG6YVGFcIfrA55DsGKBFxMJkAAJOJJA7HNBjqyNZZGAjxE4uK5lWIGKAxzWa7+UJSXs5l6HlWf2gnR/VfxMZyZM3cNKiJBHiNWJcEg4jykhjNOxY8d0KKXIU/7W78FF4MSJE1rwwYfTlul3lA3LZfLkyQXB6m1NsGRC/OJjb73wW4VPK8QppugjJ7TppLLcQuwiyD5EvSMSeHjD93PIjvFSsN5i0/49nRK0MKx+l6qOGDK7ysheKED/TNn1EjN7DAH8/J46EOqw9q6ds1W4+t5hOFkQCZCAJxKAxdBI+CUbmyBFXkyXI+h8bAk+qdaLrGLLj+coO3/+/LZkjZDHOm6ovfWizzH1G22ytx8RGscLEiABErCBgGP+3bWhImYhARIgARIgARIgARIggegIUJRGR4b3SYAESIAESIAESIAEXEaA0/cuQ82KSIAEnoeALX6Yz1Mu3yEBEnA+Af78Op+xN9VAUepNo8m+kICXEfCGRTD2DImvLWSzhw3zeh4BRy6C8YTeY2GXr/XZ0ePC6XtHE2V5JEACJPC/9s4EXupx/+PfFmtECAklRMUVWpRSWdKVG/faadNK3aRSpFKkrkIitywpheraQgoVdRUXudeakJAtLbdVC6H/vJ/uM//fmc7MmTnnd+bMmfP5vl6nmd/v92y/9zQzn3me7/f7iIAIiIAIiEDKBCRKU0amCiIgAiIgAiIgAiIgAmETkCgNm6jaEwEREAEREAEREAERSJmARGnKyFRBBERABERABERABEQgbAISpWETVXsiIAIiIAIiIAIiIAIpE5AoTRmZKoiACIiACIiACIiACIRNQKI0bKJqTwREQAREQAREQAREIGUCEqUpI1MFERABERABERABERCBsAlIlIZNVO2JgAiIgAiIgAiIgAikTECiNGVkqiACIiACIiACIiACIhA2AYnSsImqPREQAREQAREQAREQgZQJSJSmjEwVREAEREAEREAEREAEwiYgURo2UbUnAiIgAiIgAiIgAiKQMgGJ0pSRqYIIiIAIiIAIiIAIiEDYBCRKwyaq9kRABERABERABERABFImIFGaMjJVEAEREAEREAEREAERCJuARGnYRNWeCIiACIiACIiACIhAygQkSlNGpgoiIAIiIAIiIAIiIAJhE5AoDZuo2hMBERABERABERABEUiZgERpyshUQQREQAREQAREQAREIGwCEqVhE1V7IiACIiACIiACIiACKROQKE0ZmSqIgAiIgAiIgAiIgAiETUCiNGyiak8EREAEREAEREAERCBlAhKlKSNTBREQAREQAREQAREQgbAJSJSGTVTtiYAIiIAIiIAIiIAIpExAojRlZKogAiIgAuEQmPPa23bAkc1s0pQXczTIcYXI+dmvvpXjvA5EQAQyh8CCN/9pf2hwvD393JM5BsUx519/Y36O8zrIm0DZvIuohAiIgAiIQGEQOOfM+rZlyzbrN+he6z/kftfFYce2sO2//urONz/rtMLoVm2KgAiEQKBxwya2detWG373bTZi9HDXYt2mJ9n27b+682ec3jSEXkpWE5opLVmvt+5WBEQgwwgMubmrrV230Vb8uMb23becrVi5xtZv2GRD+nfJsJFqOCIgArEEru9+g23YsMFWrV5p5crtE3lcZZs2bbTru/WJLarjJAhIlCYBSUVEQAREoLAI3NS7vZUtW8Y1v2nTZvdYpkwZ69/n6sLqUu2KgAiERKB75x5W5n/v382bf3Kt8v7t3uW6kHooWc1IlJas11t3KwIikIEEBt/UxXbbbac3FY9DIscyERCB4kGAWdGyZXe+f3nsqVnSfL9wEqX5RqeKIiACIhAOAWZLy5TZ+XFcunRpu6lP+3AaVisiIAKFTqBbp8hsaWR2FCtTOjJLGpk9leWPgERp/riplgiIgAiESoDZUpbxNUsaKlY1JgJpIcBsKcJUs6QFw63o+4LxU20REAERCIVAnx6tbcmnX1nvHleF0p4aEQERSB+Bzu2usaXLPrfO7bumr9Ms7EmiNAtfVN2SCGQLgVLl62TLrSR9H5OnzUy6bDYU3LHx3Wy4Dd1DLgSq1KqUy9nsPvXsC09n9w3G3N3yxStizhTsUKK0YPxUWwREoJAJ7Nixo5B7UPNFRaBUqVJF1bX6TRMBvX/TBLoIuimM9698SovghVSXIiACIiACIiACIiACOQlIlObkoSMREAEREAEREAEREIEiICBRWgTQ1aUIiIAIiIAIiIAIiEBOAhKlOXnoSAREQAREQAREQAREoAgISJQWAXR1KQIiIAIiIAIiIAIikJOARGlOHjoSAREQAREQAREQAREoAgISpUUAXV2KgAiIgAiIgAiIgAjkJCBRmpOHjkRABERABERABERABIqAgERpEUBXlyKQLgLNL+xu7IoU/KvXrJ3Nnfd2uoYQ7eetRR/ZG2+9Hz0uzk/Wrl1rS5YssZ9++inHbfz666/2+++/5ziXjoOff/7ZtmzZko6u1IcIiIAIFBoBidJCQ6uGRaDoCfz22+/W+69X2cpls93flx8+b0dVOczOuaC7bd26La0DfPq5V23KU6+ktc+wO/vkk0/s1FNPtQMPPNBq1qxp++67r/Xs2dO2b9/uumratKlNmTIllG779+9v/fr1y7OtRx55xCpWrGiPP/54nmVVQAREQAQymYBEaSa/OhqbCIRAYN99y9nBFQ9wf0dVrWzXdrzYtbpq9Tr3+OgTM+ykhlfY0SddYIOHP2jM9mFXdRpoI0dPskbNO9ohRze34XdNML9l4I8r19hl7fu788zGvvfBp64O//zt7olWq96ldtwpF1nv/qPst99+s+kz5tlDj063x6bNshH3TIqWLU5P1qxZY6eddpr7W79+vROib7zxhk2cONGGDh0a+q3AOplZV8TogAEDrEuXLqGPQQ2KgAiIQDoJSJSmk7b6EoEiIPDTT1tszX/Xu78PP15qY8c/ZdWOqmxVjqxkL81+w66+9lbr1PZCe3D0zTbhsRci4nOiGyXL7bffOcH697naRg3vZQNuGxsRn585Ydrq8j62bv1Ge2L8UDu1dg07pXFrW79+k320+AsbPXaqDR/c3R4eM8CeePJle2HW63Za3RPtj+c0tDPPqGMXtTqzCCgUvMtx48bZfvvtZ6NHj3aPZcuWtYYNG9pjjz1me+21V7SDf/3rX9asWTM75JBDrFevXk6Uc/HHH3+0yy67zJ1v3ry5vffee64OPwKGDBnizteqVcvuv//+aFv+yYcffmgNGjSw2bNn+1Pu8W9/+5vNnz/fHnroIXv22Wcjr8F6a9u2rZUvX96OPvpoe/jhh105fhjUq1fPCWj6WLp0aY52dCACIiACmUCgbCYMQmMQAREoPAJ3j3nc+Ava1AnD3OG4R56xjm0vsB7XXOaOb725S2Qmc7LdclNndzywbwdreW4j93xhxB90VkTEMoO36N+L7auPXrCqEVeAs5rWc2L21X++YzWPr2bTp9xp9eucYN99v8oJX4Twn//UzI6ofIht3fazHXP0Ea694vbPxx9/bGeffbbttttuOYZ+wQUXGH/exo4daw8+uHPGuXv37vbnP//ZGjdubK1atbL999/fnnjiCXv11VftlFNOsXXr1tk//vEPGzVqlE2dOtUdt2nTxlq2bOmbs88++8waNWpkffv2NcRs0C6++GK3bH/hhRe6GVz6e/fdd925zZs325VXXmlVqlSxM8880xYtWmSffvqp3XDDDXbwwQcHm9FzERABEcgIAhKlGfEyaBAiUHgE8Cm9qXd718HadRusc49hNmDoWLv84nPts6XLbcZLr9sjk5+PDoDlfm/HV6/qn1q1yNL/nEiA1HHHVnHnjjqxVfQaT1avWW/7lNvLLd+ffk7HiL/lznZaNj89R7nieoCAPPTQQ/Mc/i233BJdSsff8/PPP7dy5co5UfjVV19Z1apV7ayzzrIJEyY4cUoZhKIXogRPffvtt64f6p5xxhnWvn17GzRo0C59H3vssc6/9fjjj7d99tnH+bO+8sorUfH64osv2jPPPONEKZXvu+8+19YuDemECIiACGQAAS3fZ8CLoCGIQGESQBxWPKiC+zvu2Kp2Y6929uVX39u2yKzlARXKu+PNPy40/r77dJbNe/GB6HA2btocff7+R59bhf3L237l93HnfvziFVeHeovmT7aLLjjTRt0/xZYu+9a+/niGbfz+n9bi7AbR+sX9CcvhLJXHGsFPzI56O+qoo/xTNzNKZPyXX37pznGtVKlSVrp0aVu1apWtXr3azV7WqFEjWueaa65xQpQTM2bMcOW+/vrr6PV4T7yQJRDL2zHHHGMrVqzwh1a/fv3ocz0RAREQgUwjIFGaaa+IxiMChUyg0iEHuR42b9lqZzerFwlCmm8rflxjP23eYt37jLC7xjwWHcFDE6e7KH0CmWa8tMDOalLXTql9vLtO0FLZsmVs3oJ3rW7TtrZq9dqIIP3G6pxSwy3b/+f9T+3luf+y3/6XIomy+LYWVzvhhBMM386VK1fmuIU777zTPvjgg+g5fE1jDV9UDL9SltX5Yzn9oosustq1a9sPP/wQrYJvKEvwGG4B9Ik45S+ReTH8/fffR4uRtur00/9/phpBLBMBEQiXAC5N+HPnx4oqjVx+xpqOOhKl6aCsPkSgCAnEypAK++/rRjN33jvW56+t7fDKB9sxtS90kfQ/RMTpiFuvi452w8afbO9DGrlAppbnnm5Xt25lBx24v02bONz6DrzX9jiogZ1/yfUusKlWjaPtumsut0lTZlr5yk3sknY3WrsrW9rQEePtg8gsa+OGJ9uTz86xHn1HRtsvTk9YQj/88MOtY8eOxjI8wpKl90cffdS6du2a8FbwH8UIikK0zps3z+rWretmQfE5nTx5sjEbunjxYidUvYhlpvPEE090AVPdunVLmIt07733diKWJfoNGzbYd999Zy+//LLzg004OF0UgRJCgOBDVjy2bfv/dHj4WfNjbePGjQkpvPXWW0a2DYzARD4PsLffftt4n1577bXuOJl/pk+fbsuWLXNFw0wjl0zfmV5m15/0mT5ijU8ERCBpAq/OGLdLWdJC7di4cyaOi3NfGGvLv1lhP//yi1U/por7gPaV7hjyV6tXp1YkuMmcGPXnL7uouZ3forF9tfx7q1zpYKsQcQPAmp91mq3+co79sGK1C4Liw/6WGzs7N4GTTqxuG76bb3vssbtvplg94hfKl8lVV11l1apVi46dCHcvOqMnY54cdNBBNm3aNLv88stdwBKXhw8fbkTC+xyjzHSS93TgwIGGryjGMj+GP+n48eNt5MiR7gvRnQz842dACYb64x//6MQylxHQzMT6VF6+XKCqnopAiSKAK81dd93l3mfcuH9v5AXh6aefjqwabXUrD+3atTPccrA5c+bYcccd5wIY82rDX0fU8j5HIMtyEpAozclDRyJQ4gggVIiij2cHHrB/rpfKRYKaTqh5zC7XEJ0IX2/4s3or/z9/VH9c3B7r1KnjfEBZIucLCiEZXK5fuHBhjlsiyt4b6aDOP/98N8tauXLliJDfyYVI+H//+99uZpPnu+++U7TfcccdvqorG28m5/XXX4+WY6keX1VmYQjKIsm/t2S/fH15PYpANhLghxo/8q64IpKbOUYUkjqNNGtkz/gl8iOdH6DDhg1zKw6kXcOOPPJI40cmrjj8GB0zZoz7LLjpppuczzl1Tz75ZFe2R48ebhaVDTa80TcuOb17945+BpBGjlUX/NPJmIFoLlOmjOuDuviyn3TSSTZixIho2769bHvc+TM82+5K9yMCIlBgAv16trVjjz6ywO1kWwOIeJbxmc0MCtJk7pPZVnxTvSAN1qFNL0iD51N9vueee7oZ2KAgTbUNlReBbCXAD8NLL73U7cQWe49kxGA1AoH51FNPuT9WNNg0gxUIUqvhB/7NN9+4VG2I0vPOO8+lbOvQoYMTks8//7xrliwa5BzG/SZorVu3distnTt3dqsYXCNQEpE8ePBglwcZNwF+RJJGjqwfpJEjgJH+8uu7GhxDJj+XKM3kV0djE4EiJNC1w0XFNqdoEWJT1yIgAhlO4O6777aZM2c6d5zgUHHFYWaSfL+kYkMk4jNeqVIlO+KII4wVDvxHveGjymoJ10nLxswqYhabO3euc8ehnaCx1E/6NjJuMOOK+TRy+I0jPEkF95///McFQzJDS35kxDErKcHVl2C72fJcojRbXkndhwiIgAiIgAiIQJ4EWJVgiZz0a5s2bYqWJ+gJFx1vCE4CBpM1NrFgCf6LL74wZkzxPU1mNYV+vLHBRl5p5HzZbHyUKM3GV1X3JAIiUCIJ/B5Jv0WKmfwafnJ8oRakjfz2rXoikE4C+HsiAJml9MYSeVCEMmN57rnn+st5PiJ28et+7rnn3KYVl1xySZ51KJCbcPUZOHJLI5dUo8W0kERpMX3hNGwREIHiSYDdnAhqSGTLly+PLgMmKhd7jaU+/OVijfbwhWXLUm+kuPGJ9l966SVjKZJlSHxl2UqVJUyCuWQikI0E8N9+4IEHjB3QvDHTOWnSJLfZBYFObP3bokULdxnhuGbNGl807iNL+GTB2GuvvXLkCA5WoK21a9cGT+3ynGV8LLc0crsUzqITEqVZ9GLqVkRABIoHgbwi4YnOJdgiLMutP3zqyJFKLlOCNfr162cEZzBLSqAF58kYUJQ2N7KtrUwECotAs2bNXLS7b5//7yydE5W/xx57uHymRMNjjRs3tieffNKYYcV8ujaeB1OtseEF5gOf3EHMP8y+4jrg/U9jLrtDn0YOgctYCNDyaeRyK58t52LzamfLfek+RCAjCHwy69IdNRr1C20spcrXyZFjNLSGM7Qhd78kSS0k++ijj1zSa0Qge88PHTrUBTKwExJBB6RqIoDhnnvucbMepHthSY/tQUmAz6xkgwYNbMCAAW6Eo0aNcu0QSIGv2vvvv2+keyFyl6T25cuXd/veE2nbqVOnXFO+sKRIYAP5FIn0JT8iS3i5pYZhuZ4xT5kyxapUqeICMUicz65QQSMxP35r+MwRaIHxSO5UvmSpS4Rv0AjUOOecc1xC/5o1awYvhfacL/Ngzlzf8MjRk23Q7eOs3N572tpv5vnTGfu4ZOFIq3nekxn7fTq2z5QdLTs0Szu/KrUqJZ0HNO2Di9MhaaHYHIOZVIKbgoKTtGwIRP7i2X//+18XwMTnhM83nFtZZkpZoif1UyJjkw7GE0wjl6h8Oq/BZvniFaF1OXPCPNNMaWg41ZAIiEBxIsCuLog/xBmzhnz4kxuUmZLmzZu75bdZs2Y5nzJEJfk/2Q4U4YnAwxeN5yxz33rrrS4tzHXX7dwNC79MziHqEHsLFiywiRMn5sATL+ULX3gIViJtb7755oSpYZi5QQAz64JbAJHCydjSpUtdahnS1TAr+qc//WmXak2aNHHngkv+uxQK+QRidK+KDe3WOx6y3Xcra/eOuCHkHtScCCQmgEgkwp58pEFBSi1+VCYSpPwYbNOmjdtZLZEgpa0DDjggT0FKuURp5LiebVY2225I9yMCIiACyRBgphOhSfJrtugkSAGfTM4T7EAULTssNWrUyO69995oKhYCGRCcGLuyMKPKTk18CZHncPv27e4aS3QIVowE3MyyBpNo+5QvzIJUrVrViUrqM7NKLlPSxuBXxmztokWL3GxJsBypYRDN5Dvs1auX64ctD5MxRDi+bz7y2AdVBOv6JX/EemHa9u2/2j1/n2KDhz1gpcuUtm0//+K6O7jiAdbmipaF2bXaFoFQCSBoWd3Iza871I6yuDGJ0ix+cXVr2UegaaNTjSVtWcEJkAC7evXqTpDSGrOffjcXlqsRpN7+8Ic/2MqVK91hME8hS+1cw3zie5b/MLYQ9YaYZFcWf43zLM9j9Bs0XANYqvOWqBxRvghZbw0bNrQ333zTH8Z9ZEaHrQ4ZP+ZdDIIVEM0YM0aFaZ17DLV/PDMnKkbpq3TpUrZq9dri9n+98PxMCvgCdLs74hd5dwEbUfU8CXh/0jwLqkBcAhKlcdHogghkHoF5sx7MvEEV4ogKU4AjSPH7IrCHaFiW5p955hm3nd+3337rBCQzH8wY4nPKTi9E6samb4ld4vM48O309vHHH7vl+KD/mJ+dxF/UC2BmZ/HvJDLeW6Jyjz/+uLHlqTfuJy9jdhhfV2aAGTsuBuRUvO2223JUZcaYcbG9YWHaw2MGWc3jqtktwx+MLGeWti1bttnvv+8wZkpXLptdmF2H1rZ8SnNHiU+pTARSISCf0lRoqawIiEDWEGAZHtHFLi5btmxxAUMslRO4hI0fP94JVqLQsXr16rnHZP/B35NUTIhdfD1j8x0mSvlCZK+PhE9UjqXCyZMnu9yiixcvduIyr/EhrJnR8TO7RPkjuvv37+8CqmCBSMWf9cYbb3TBGHm1WZDru0V8R/v1amfbVr9pg2/sHPHZ2z0ye72nbd6y1R6bOrMgTatuCSJA0B+rCrzfsskKmnu4uLGQKC1ur5jGKwIiEAoBRBlBQviEEkyAICUtEjk6WcYneIhgBNIljR49epcZUj+I2JlSf0zOT5btWYon3ydBVN4okyjly8knn+yK4gKQqBy+rARs4c+KH2rdunVzpKoJ9uefz5gxw+2p7Y/Zz5vl/L///e8uTyksyNfIeBGm6bSgOMXXtOeNd6Wze/WVoQQIFiSPbtDYkYkfVKxk8H7FFYVUTrzfCEjChzvWWFXgvRfvL7Z8Xsf8UH3xxRcTFsNNpn379gnLJLoYL/dwojrF+Vqp4jx4jV0EMp1A2CmhMv1+wx5fYaeEYrzMDLLUjogM2vr1613AU7Vq1aJ+p8HriZ5fe+210d1i8BFN5JcZL+ULbgWIWb+0n6jcsmXL7LDDDouWTTS2eNeYkfk6kjqK7AOI3Fg3hXj1CnIecZBbSijf5pzX3rZzzqzvDzP2Ucv3ub80YaWEwk2FH4+kZPLGisaIESNszpw5LhCRtGisRvD/mDRqrVu3dqncrr/+el/FueR43/APPvjA/eDk0e9Bz3soFWPzCURnbtkrfDsEMvKeIrVcfowE/7Nnz94lzVt+2gq7Du9fpYQKm6raEwERKNEEiLyPFaQAYeaF2Ueu59fY1SWRIKXdeClfEIVekOZVjrRWwbL5GS8uAwjwGjVqpEWQJjPG4iBIk7kPlQmXwIoVK1z+XP6v3n777S41G8nlWeUgZROZJQYNGuTStvksEowAn26EJ3+kXMN47/tzzLiyOsH7qXfv3tHARIQrifWZgSXhfm5p0hDOZ5xxhuGPHrTXXnvN+apzLpl2ENVk92AMpKYLZtTgh3Lbtm3dOJgVxvUIe+edd9z48AsntypiOeiXjvsQvuHUGTx4cEZvI6zle/eS6h8REAERCI9Aq1at3BdKeC2qJREQAU8AP2/8qVkhwGL9tTmHoCPlGSsVyRgbaeCmw65JiD1cBl544QVXFVcesmQwK3vooYdanz59cjTp85OSuxhRGDSyfHgRm1c71EuUe5gUc4hUBDBivEuXLm4WlRlk6hHASD5kfgzjioSxhfDVV1/tch/j0kC2Du4xU03R95n6ymhcIiACxZYAyfZlIiAChUNg+vTpbhtPdk/CfGqzYG9+G9Bk8+yyMkG79evXd247ZMEgAJCteMlYwbI/qx4sp3uRSX8EBT7yyCNuNpTNOBJZonZ8vXi5hxGeuCgQqIjgxvBnJWPIJZdc4o4JeiS/Ma4/PlfquHHjrGPHjtHtUZmFxe0BAZ2JppnSTHxVNCYREAEREAEREIFdCJCVgmA9djDzPqDBJW5fYeHChe5pMOevv5bbI2IOwYk4ZacztuT1RrARYpH+SKEWnH1FkGLMiOZlidrxdck97DOAcI7cw5h3C2Bp3hs5k3FlwHBH4B4w3Az8xhgIaMbog7sQqL6OK5xh/0iUZtgLouGIgAiIQDIE/M5RyZRVGRHIFgLsZNayZUvnQ+238iQQKNbmzp1rTZs2jaY+i70ee8yWwWy/S7Afs5ItWrRwRQhSIgsHQg6fUDJjdOjQIbpz2z333OOW+9lVLZgzOLb9vNrx5dmMI9iOzz3sN9kIXluyZImR2g7zKd58O/6RsZPajRlj/titjhzEmWoSpZn6ymhcIiACeRJgZgPnfQIMcPbPZiPn6VNPPeVukYwBfAkR2ZtfC7aXnzbIa+r91vJTX3VEID8E8PNkSR1jZnBIJPr9zjvvdH6WiMm1a9c6n0n8P7mWrCFI69Sp4zavYDcz/Fb9DmxNmjRxvpkIRpbKyYrhfxTy+UPKJ/IJExyVyBK14+vFyz1MwCX5he+77z6XLQRxyRjzchngOm4JiGpmmfFLJZ1WpppEaaa+MhqXCIhAQgIsl5F6CZ8ucomm8gWUsOEMvYh/G3kZw7KCtkdUM5HCMhEobAIsPWOIRH6YBX22BwwY4N77bdq0cRs9HHjggS5FFL6XiMBk7brrrrNJkya5pW+EZ7t27dyGGizjE9VOdD+5Uv/yl7+43d18Vg7GxpI/YpFgI2ZyYw3/VrICJGrH10mUe7hv376uD3xoCajCb7R27dq+aq6PBGUdfvjhxlI/42dzAXxKM9UkSjP1ldG4REAEEhLwqV5YFvviiy9cKqN4FZjJIArVG2lVWN4j8TwJsPG5IhUMsx7s5ISRWB+hSyJ5Psxpg5kYjACLrl27uvNs1+nrsDxGe35XGWYmOMYHbd26ddazZ09Xh77wi/OWV8oWZkTJt8iONRdffLGv5nZz8uOmDW/5aY/ZIdrmXvkCXrBggWsu0bh9fwhc/OBYRk2mvK+nRxFIhgApnnjvkdKJR+9LSl0EIWmO+Bwggp5r7HuwAAAIeklEQVQVAIKSfDBQvPbxzeQzpGLFiq4I5XmfskTP58mYMWNcgBNp4Xjv8Z5n9pWZWKLoMTbc4L2CsYxOe/i6Bo3AIv/ejNdOsDwpqhgDYph7JZiJvKsYfRAsxbbFa9ascZ87MGE21PucUg4/VP/5iIDls47PENrE/zavNHW0UVQmUVpU5NWvCIhAgQgQHcvsCEtu+Egx0xHP+LLykbqUYUtOxBMzfYsWLXIzH/iGkYOwc+fOTqzyxcQXCoENpIdBpJFuBeM8bRD5yhcUdRCiRL3SHl+QmD9mqQ/hS9ABARNXXnml21WJcsmkbEEodurUyQUzBHdZIhp36NChbqaYtC8Fae+KK64wZplmzpzpEn1zX3yxxRu3u8HIP9wTwpzZar7Y8yrv6+lRBMIkgDsLArIggovZTHw3/cwsghXRh+GbyfI9Irgglkw79BEv9/Cee+7pfkDzXk3WuJ+qkd3laNPfW7J1011OojTdxNWfCIhAKAQQc0SqkjSe4AO+jMjBx0xGqoZvKoIKYYoR7ICR/xAfLGYihg0b5vrjPLOnzH6wrSczlVgwWtediPmHmQpmYvjiQ1giclmODKZsoR8ELyI4aCwV8oWLDx2+a97YGpTlRHIWYvSR3/boF988vrhYEvzkk0+cyI03bvojCAN/3vaRWWSSlWOJyrsC+kcEREAE4hCQKI0DRqdFQAQylwBiDiE0JLK8zs4lzFiyNEa6E2YS8jKW7YPmE177XZH8TKcXnJRlpmH+/PlOSOIjRkACfZEoP54xU+qNwCCSWpNuBv8uEl0jNguSsoUxYT4VDOPOb3uIeaKZSSfDcqi3eOPmOi4ILCd6Ec+5ROW5LhMBERCBeAQkSuOR0XkREIGMJfDee+85McQSc82aNW3q1Kku0KBx48ZxtwX1ApElaWYBg+aX6ILneL5hw4boKfy4/NaEuA0wQ4iQI+DKi1lf2EftBv282CKQ4At83hDQPXr0MFK6FCRlS27jzk977IzDjDAzpUQWE63rLd64uU40MP6kiFPvI5uovG9TjyIgAiKQGwGJ0tyo6JwIiEBGE2CJGWN7PwSgF4XMEhIAEGsEMJFKBsHEEn+yRjQtIhJ/UZbrWc7HPxSxiijdb7/9XMQuiarxT2WWkbEQmEDQE8vr3gYOHOiiXglkIHADY8Y22ZQtzM4SOOXFtW839jE/7Xl/W+ric3b//fe7ZrmneOOmADO+zPySo7Fbt25GqqpE5WPHqmMREAERCBKQKA3S0HMREIFiQQDhh3Ai3QlBASSzZraU4CeCiHzkqb8ZgoSY/atQoYKLWK1evbq/lOujDwZAQLJEzq4wzCDecccdbsmeJWrSsRDZOm3aNJeiBt9O6t1www1uCZsl9V9++SXaPpH3BCURoECbuBrgC5tsyhbKYkGXgmjj/3tC//lpD99YEpJzn7gklCtXzs0KE8AVb9x06bdyxJ8UoT5y5MiE5WPHq2MREAERCBIoFTzQcxEQgXAJfDLr0h01GvULt9ES1Fqp8nV2EZjB22fWkCTSiLy8DH9LZkqJZE/GyIGK6GSPaAKUYqN6Wbpn1pT2EMH4Vvq2/bI/M6lBI8UL/pfM3CL8vFGfGVnGiGD2othf94/cL+LYzwz787GP+W0PdwOW/xkbs7j8wSDeuGP79cfJluc+d2x811crto9LFo60muc9mbHfp2P7TNnRskOztPOtUqtSwvdv2gekDkMlwPt3+eIVobU5c8I8K1hug9CGooZEQAREIHUCzJImI0hpmah3LxpT6YngpFhBSn3Emzc+nINtx4pRX47lfdLKxBr1qyYhrLnfvAQpbee3PR/wRRvMmPqgsXjjplxulmr53NrQOREQgZJHQKK05L3mumMREIEkCBBV70VZEsVVRAREQAREoIAEJEoLCFDVRUAEspNAcCvD7LxD3ZUIiIAIZBYBBTpl1uuh0YiACIiACIiACIhAiSQgUVoiX3bdtAiIgAiIgAiIgAhkFgGJ0sx6PTQaERABERABERABESiRBCRKS+TLrpsWAREQAREQAREQgcwiIFGaWa+HRiMCIiACIiACIiACJZKARGmJfNl10yIgAiIgAiIgAiKQWQQkSjPr9dBoREAEREAEREAERKBEElCe0hL5suumRaD4EGB3IpkIiEDxJKD3b/F83Ypq1BKlRUVe/YqACORJIBv2Rc/zJlVABLKUQJj7omcpIt1WDAEt38cA0aEIiIAIiIAIiIAIiED6CUiUpp+5ehQBERABERABERABEYghIFEaA0SHIiACIiACIiACIiAC6ScgUZp+5upRBERABERABERABEQghoBEaQwQHYqACIiACIiACIiACKSfgERp+pmrRxEQAREQAREQAREQgRgCEqUxQHQoAiIgAiIgAiIgAiKQfgISpelnrh5FQAREQAREQAREQARiCEiUxgDRoQiIgAiIgAiIgAiIQPoJSJSmn7l6FAEREAEREAEREAERiCEgURoDRIciIAIiIAIiIAIiIALpJyBRmn7m6lEEREAEREAEREAERCCGgERpDBAdioAIiIAIiIAIiIAIpJ+ARGn6matHERABERABERABERCBGAISpTFAdCgCIiACIiACIiACIpB+AhKl6WeuHkVABERABERABERABGIISJTGANGhCIiACIiACIiACIhA+glIlKafuXoUAREQAREQAREQARGIISBRGgNEhyIgAiIgAiIgAiIgAuknIFGafubqUQREQAREQAREQAREIIaARGkMEB2KgAiIgAiIgAiIgAikn4BEafqZq0cREAEREAEREAEREIEYAhKlMUB0KAIiIAIiIAIiIAIikH4CZdPfpXoUgZJFYMnCkSXrhnW3IiACGUdg5oR5GTcmDUgEREAEREAEREAEREAEREAEMo7A/wGyVXmFjctcLQAAAABJRU5ErkJggg==)"
      ],
      "metadata": {
        "id": "d3SapjftNBTl"
      }
    },
    {
      "cell_type": "markdown",
      "source": [
        "Python coroutines\n",
        "\n",
        "A coroutine is a regular function with the ability to pause its execution when encountering an operation that may take a while to complete.\n",
        "\n",
        "When the long-running operation completes, you can resume the paused coroutine and execute the remaining code in that coroutine.\n",
        "\n",
        "While the coroutine is waiting for the long-running operation, you can run other code. By doing this, you can run the program asynchronously to improve its performance.\n",
        "\n",
        "To create and pause a coroutine, you use the Python async and await keywords:\n",
        "\n",
        "* The async keyword creates a coroutine.\n",
        "* The await keyword pauses a coroutine."
      ],
      "metadata": {
        "id": "lN7Pn2wyDUD5"
      }
    },
    {
      "cell_type": "code",
      "source": [
        "# let's take an example\n",
        "async def square(number: int) -> int:\n",
        "  return number*number\n",
        "\n",
        "result = square(10)\n",
        "print(square)\n",
        "\n",
        "'''\n",
        "<coroutine object square at 0x00000185C31E7D80>\n",
        "sys:1: RuntimeWarning: coroutine 'square' was never awaited\n",
        "\n",
        "When you call a coroutine, Python doesn’t execute the code inside the coroutine immediately. Instead, it returns a coroutine object.\n",
        "The second line in the output also shows an error message indicating that the coroutine was never awaited. More on this in the following await section:\n",
        "\n",
        "To run a coroutine, you need to execute it on an event loop. Prior to Python 3.7, you have to manually create an event loop to execute coroutines and close the event loop.\n",
        "However, since version 3.7, the asyncio library added some functions that simplify the event loop management.\n",
        "\n",
        "For example, you can use the asyncio.run() function to automatically create an event loop, run a coroutine and close it.\n",
        "The following uses the asyncio.run() function to execute the square() coroutine and get the result:\n",
        "\n",
        "It’s important to note that the asyncio.run() is designed to be the main entry point of an asyncio program.\n",
        "Also, the asyncio.run() function only executes one coroutine which may call other coroutines and functions in the program.\n",
        "'''\n",
        "\n",
        "import asyncio\n",
        "\n",
        "async def square(number: int) -> int:\n",
        "  return number*number\n",
        "\n",
        "result = asyncio.run(square(10))\n",
        "print(result) # 100"
      ],
      "metadata": {
        "id": "YVxQpAn_ESzP"
      },
      "execution_count": null,
      "outputs": []
    },
    {
      "cell_type": "code",
      "source": [
        "# Pausing a coroutine with Python await keyword\n",
        "'''\n",
        "The await keyword causes the my_coroutine() to execute, waits for the code to be completed, and returns a result.\n",
        "It’s important to note that await keyword is only valid inside a coroutine. In other words, you must use the await keyword inside a coroutine.\n",
        "This is the reason why you saw an error message in the above example that uses the await keyword outside of a coroutine.\n",
        "'''\n",
        "import asyncio\n",
        "\n",
        "async def square(number: int) -> int:\n",
        "  return number*number\n",
        "\n",
        "async def main() -> None:\n",
        "  x = await square(10)\n",
        "  print(f'x={x}')\n",
        "\n",
        "  y = await square(5)\n",
        "  print(f'y={y}')\n",
        "\n",
        "  print(f'total={x+y}')\n",
        "\n",
        "if __name__ == '__main__':\n",
        "  asyncio.run(main())\n",
        "\n",
        "'''\n",
        "Summary\n",
        "  * A coroutine is a regular function with the power of pausing a long-running operation, waiting for the result, and resuming from the paused point.\n",
        "  * Use async keyword to define a coroutine.\n",
        "  * Use await keyword to pause a coroutine.\n",
        "  * Use asyncio.run() function to automatically execute a coroutine on an event loop and manage an event loop.\n",
        "'''"
      ],
      "metadata": {
        "id": "os_1npGgEvh7"
      },
      "execution_count": null,
      "outputs": []
    },
    {
      "cell_type": "markdown",
      "source": [
        "asyncio.create_task()"
      ],
      "metadata": {
        "id": "MCrEpPiBFuSx"
      }
    },
    {
      "cell_type": "code",
      "source": [
        "import asyncio\n",
        "import time\n",
        "\n",
        "async def call_api(message, result=1000, delay=3):\n",
        "  print(message)\n",
        "  await asyncio.sleep(delay)\n",
        "  return result\n",
        "\n",
        "async def main():\n",
        "  start = time.perf_counter()\n",
        "\n",
        "  price = await call_api('Get stock price of GOOG...', 300)\n",
        "  print(price)\n",
        "\n",
        "  price = await call_api('Get stock price of APPL...', 400)\n",
        "  print(price)\n",
        "\n",
        "  end = time.perf_counter()\n",
        "  print(f'It took {round(end-start,0)} second(s) to complete.')\n",
        "\n",
        "asyncio.run(main())\n",
        "'''\n",
        "Get stock price of GOOG...\n",
        "300\n",
        "Get stock price of APPL...\n",
        "400\n",
        "It took 6.0 second(s) to complete.\n",
        "\n",
        "we use async and await to write asynchronous code but can’t run it concurrently.\n",
        "To run multiple operations concurrently, we’ll need to use something called tasks.\n",
        "'''"
      ],
      "metadata": {
        "id": "dRM7poKKFwgm"
      },
      "execution_count": null,
      "outputs": []
    },
    {
      "cell_type": "markdown",
      "source": [
        "![image.png](data:image/png;base64,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)"
      ],
      "metadata": {
        "id": "KwVb6504H6Pj"
      }
    },
    {
      "cell_type": "code",
      "source": [
        "# Python tasks\n",
        "'''\n",
        "A task is a wrapper of a coroutine that schedules the coroutine to run on the event loop as soon as possible.\n",
        "The scheduling and execution occur in a non-blocking manner. In other words, you can create a task and execute other code instantly while the task is running.\n",
        "\n",
        "Notice that the task is different from the await keyword that blocks the entire coroutine until the operation completes with a result.\n",
        "It’s important that you can create multiple tasks and schedule them to run instantly on the event loop at the same time.\n",
        "\n",
        "To create a task, you pass a coroutine to the create_task() function of the asyncio package. The create_task() function returns a Task object.\n",
        "'''\n",
        "\n",
        "import asyncio\n",
        "import time\n",
        "\n",
        "async def call_api(message, result=1000, delay=3):\n",
        "  print(message)\n",
        "  await asyncio.sleep(delay)\n",
        "  return result\n",
        "\n",
        "\n",
        "async def main():\n",
        "  start = time.perf_counter()\n",
        "\n",
        "  task_1 = asyncio.create_task(\n",
        "    call_api('Get stock price of GOOG...', 300)\n",
        "  )\n",
        "\n",
        "  task_2 = asyncio.create_task(\n",
        "    call_api('Get stock price of APPL...', 300)\n",
        "  )\n",
        "\n",
        "  price = await task_1\n",
        "  print(price)\n",
        "\n",
        "  price = await task_2\n",
        "  print(price)\n",
        "\n",
        "  end = time.perf_counter()\n",
        "  print(f'It took {round(end-start,0)} second(s) to complete.')\n",
        "\n",
        "asyncio.run(main())\n",
        "\n",
        "'''\n",
        "here, create a task and schedule it to run on the event loop immediately:\n",
        "task_1 = ...\n",
        "task_2 = ...\n",
        "\n",
        "After that, wait for the tasks to be completed:\n",
        "price = await ...\n",
        "\n",
        "Summary\n",
        "* A task is a wrapper of a coroutine that schedules the coroutine to run on the event loop as soon as possible.\n",
        "* Use the create_task() function of the asyncio library to create a task.\n",
        "* Use the await keyword with the task at some point in the program so that the task can be completed before the event loop is closed by the asyncio.run() function.\n",
        "'''"
      ],
      "metadata": {
        "id": "AFM3VZHGGgws"
      },
      "execution_count": null,
      "outputs": []
    },
    {
      "cell_type": "markdown",
      "source": [
        "![image.png](data:image/png;base64,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)"
      ],
      "metadata": {
        "id": "rTLWp-r6H7TK"
      }
    },
    {
      "cell_type": "code",
      "source": [
        "# Cancelling Tasks\n",
        "import asyncio\n",
        "from asyncio import CancelledError\n",
        "\n",
        "async def call_api(message, result=1000, delay=3):\n",
        "  print(message)\n",
        "  await asyncio.sleep(delay)\n",
        "  return result\n",
        "\n",
        "async def main():\n",
        "  task = asyncio.create_task(\n",
        "    call_api('Calling API...', result=2000, delay=5)\n",
        "  )\n",
        "\n",
        "  if not task.done():\n",
        "    print('Cancelling the task...')\n",
        "    task.cancel()\n",
        "\n",
        "  try:\n",
        "    await task\n",
        "  except CancelledError:\n",
        "    print('Task has been cancelled.')\n",
        "\n",
        "asyncio.run(main())\n",
        "'''\n",
        "Cancelling the task...\n",
        "Task has been cancelled\n",
        "'''"
      ],
      "metadata": {
        "id": "e_X-0hmjIIm8"
      },
      "execution_count": null,
      "outputs": []
    },
    {
      "cell_type": "code",
      "source": [
        "# asyncio.wait_for()\n",
        "# To wait for a task to complete with a timeout, you can use the asyncio.wait_for() function. The asyncio.wait_for() function waits for a single task to be completed with a timeout.\n",
        "# When a timeout occurs, the asyncio.wait_for() function cancels the task and raises the TimeoutError exception. Otherwise, it returns the result of the task. For example:\n",
        "import asyncio\n",
        "from asyncio.exceptions import TimeoutError\n",
        "\n",
        "async def call_api(message, result=1000, delay=3):\n",
        "  print(message)\n",
        "  await asyncio.sleep(delay)\n",
        "  return result\n",
        "\n",
        "async def main():\n",
        "  task = asyncio.create_task(\n",
        "    call_api('Calling API...', result=2000, delay=5)\n",
        "  )\n",
        "\n",
        "  MAX_TIMEOUT = 3\n",
        "  try:\n",
        "    await asyncio.wait_for(task, timeout=MAX_TIMEOUT)\n",
        "  except TimeoutError:\n",
        "    print('The task was cancelled due to a timeout')\n",
        "\n",
        "asyncio.run(main())\n",
        "# Calling API...\n",
        "# The task was cancelled due to a timeout"
      ],
      "metadata": {
        "id": "_3S-D0SXIzv_"
      },
      "execution_count": null,
      "outputs": []
    },
    {
      "cell_type": "code",
      "source": [
        "# asyncio.shield() Shielding a task from cancellation\n",
        "'''\n",
        "Sometimes, you may want to inform users that a task is taking longer than expected after a certain amount of time but not cancel the task when a timeout is exceeded.\n",
        "'''\n",
        "import asyncio\n",
        "from asyncio.exceptions import TimeoutError\n",
        "\n",
        "async def call_api(message, result=1000, delay=3):\n",
        "  print(message)\n",
        "  await asyncio.sleep(delay)\n",
        "  return result\n",
        "\n",
        "async def main():\n",
        "  task = asyncio.create_task(\n",
        "    call_api('Calling API...', result=2000, delay=5)\n",
        "  )\n",
        "\n",
        "  MAX_TIMEOUT = 3\n",
        "  try:\n",
        "    await asyncio.wait_for(asyncio.shield(task), timeout=MAX_TIMEOUT)\n",
        "  except TimeoutError:\n",
        "    print('The task took more than expected and will complete soon.')\n",
        "    result = await task\n",
        "    print(result)\n",
        "\n",
        "asyncio.run(main())\n",
        "# Calling API...\n",
        "# The task took more than expected and will complete soon.\n",
        "# 2000"
      ],
      "metadata": {
        "id": "kto0vTVjJP1W"
      },
      "execution_count": null,
      "outputs": []
    },
    {
      "cell_type": "markdown",
      "source": [
        "asyncio.wait()\n",
        "\n",
        "function runs an iterable of awaitables objects and blocks until a specified condition.\n",
        "\n",
        "The asyncio.wait() function has the following parameters:\n",
        "\n",
        "* aws is iterable of awaitable objects that you want to run concurrently.\n",
        "* timeout (either int or float) specifies a maximum number of seconds to wait before returning the result.\n",
        "* return_when indicates when the function should return. The return_when accepts one of the constants in the table below."
      ],
      "metadata": {
        "id": "wls7IQClJmso"
      }
    },
    {
      "cell_type": "code",
      "source": [
        "'''\n",
        "Constant\t        Description\n",
        "FIRST_COMPLETED\t  Return when all awaitables are complete or canceled.\n",
        "FIRST_EXCEPTION\t  Return when any awaitable is complete by raising an exception. If no awaitable raises an exception, the FIRST_EXCEPTION is equivalent to ALL_COMPLETED.\n",
        "ALL_COMPLETED\t    Return when all awaitables are complete or cancelled.\n",
        "'''\n",
        "\n",
        "import asyncio\n",
        "from asyncio import create_task\n",
        "\n",
        "class APIError(Exception):\n",
        "  pass\n",
        "\n",
        "async def call_api(message, result=100, delay=3, raise_exception=False):\n",
        "  print(message)\n",
        "  await asyncio.sleep(delay)\n",
        "  if raise_exception:\n",
        "    raise APIError\n",
        "  else:\n",
        "    return result\n",
        "\n",
        "async def main():\n",
        "  task_1 = create_task(call_api('calling API 1...', result=1, delay=1))\n",
        "  task_2 = create_task(call_api('calling API 2...', result=2, delay=2))\n",
        "  task_3 = create_task(call_api('calling API 3...', result=3, delay=3))\n",
        "\n",
        "  pending = (task_1, task_2, task_3)\n",
        "\n",
        "  # call the asyncio.wait() function to run the tasks inside a while loop.\n",
        "  # If all the tasks are complete, the pending will be empty, and the while loop will exit.\n",
        "  # In each iteration, we get the completed task from the done set and display the result:\n",
        "  while pending:\n",
        "    done, pending = await asyncio.wait(\n",
        "      pending,\n",
        "      return_when=asyncio.FIRST_COMPLETED\n",
        "    )\n",
        "    result = done.pop().result()\n",
        "    print(result)\n",
        "\n",
        "asyncio.run(main())"
      ],
      "metadata": {
        "id": "z_5UpfzuJoI2"
      },
      "execution_count": null,
      "outputs": []
    },
    {
      "cell_type": "markdown",
      "source": [
        "Future\n",
        "\n",
        "A future is an object that returns a value later in the future but not now. Typically, a future object is the result of an asynchronous operation.\n",
        "\n",
        "For example, you may call an API from a remote server and expect to receive the result later. The API call may return a future object so that you can await it.\n",
        "\n",
        "To create a future object, you use the Future class from the asyncio package. Consider the following example:"
      ],
      "metadata": {
        "id": "8n9rRIJkKr_Y"
      }
    },
    {
      "cell_type": "code",
      "source": [
        "# asyncio future\n",
        "from asyncio import Future\n",
        "import asyncio\n",
        "\n",
        "async def plan(my_future):\n",
        "  print('Planning my future...')\n",
        "  await asyncio.sleep(1)\n",
        "  my_future.set_result('Bright')\n",
        "\n",
        "def create() -> Future:\n",
        "  my_future = Future()\n",
        "  asyncio.create_task(plan(my_future))\n",
        "  return my_future\n",
        "\n",
        "async def main():\n",
        "  my_future = create()\n",
        "  result = await my_future\n",
        "  print(result)\n",
        "\n",
        "asyncio.run(main())\n",
        "\n",
        "'''\n",
        "Future, Coroutine, and Task are awaitable and their objects can be used with the await keyword.\n",
        "'''"
      ],
      "metadata": {
        "id": "c6cPOoz8Kird"
      },
      "execution_count": null,
      "outputs": []
    },
    {
      "cell_type": "markdown",
      "source": [
        "asyncio.gather()\n",
        "\n",
        "Sometimes, you may want to run multiple asynchronous operations and get the results once they are complete.\n",
        "\n",
        "The asyncio.gather() function has two parameters:\n",
        "\n",
        "* aws is a sequence of awaitable objects. If any object in the aws is a coroutine, the asyncio.gather() function will automatically schedule it as a task.\n",
        "* return_exceptions is False by default. If an exception occurs in an awaitable object, it is immediately propagated to the task that awaits on asyncio.gather(). Other awaitables will continue to run and won’t be canceled.\n",
        "\n",
        "asyncio.gather() returns the results of awaitables as a tuple with the same order as you pass the awaitables to the function."
      ],
      "metadata": {
        "id": "5e0mIF_OLRQm"
      }
    },
    {
      "cell_type": "code",
      "source": [
        "# example 1 - to run multiple asynchronous operations\n",
        "import asyncio\n",
        "\n",
        "async def call_api(message, result, delay=3):\n",
        "  print(message)\n",
        "  await asyncio.sleep(delay)\n",
        "  return result\n",
        "\n",
        "async def main():\n",
        "  a, b = await asyncio.gather(\n",
        "    call_api('Calling API 1 ...', 1),\n",
        "    call_api('Calling API 2 ...', 2)\n",
        "  )\n",
        "  print(a, b)\n",
        "\n",
        "asyncio.run(main())\n",
        "'''\n",
        "Calling API 1 ...\n",
        "Calling API 2 ...\n",
        "100 200\n",
        "'''"
      ],
      "metadata": {
        "id": "hqtOpoa5LLcE"
      },
      "execution_count": null,
      "outputs": []
    },
    {
      "cell_type": "code",
      "source": [
        "# example 2 - to run multiple asynchronous operations with exceptions\n",
        "import asyncio\n",
        "\n",
        "class APIError(Exception):\n",
        "  def __init__(self, message):\n",
        "    self._message = message\n",
        "\n",
        "  def __str__(self):\n",
        "    return self._message\n",
        "\n",
        "async def call_api_failed():\n",
        "  await asyncio.sleep(3)\n",
        "  raise APIError('API failed')\n",
        "\n",
        "async def call_api(message, result, delay=3):\n",
        "  print(message)\n",
        "  await asyncio.sleep(delay)\n",
        "  return result\n",
        "\n",
        "async def main():\n",
        "  a, b, c = await asyncio.gather(\n",
        "    call_api('Calling API 1 ...', 100, 1),\n",
        "    call_api('Calling API 2 ...', 200, 2),\n",
        "    call_api_failed()\n",
        "  )\n",
        "  print(a, b, c)\n",
        "\n",
        "asyncio.run(main())"
      ],
      "metadata": {
        "id": "1h8l2kmpL5R8"
      },
      "execution_count": null,
      "outputs": []
    },
    {
      "cell_type": "code",
      "source": [
        "# example 3 - to return an exception in the result\n",
        "import asyncio\n",
        "\n",
        "class APIError(Exception):\n",
        "  def __init__(self, message):\n",
        "    self._message = message\n",
        "\n",
        "  def __str__(self):\n",
        "    return self._message\n",
        "\n",
        "async def call_api(message, result, delay=3):\n",
        "  print(message)\n",
        "  await asyncio.sleep(delay)\n",
        "  return result\n",
        "\n",
        "async def call_api_failed():\n",
        "  await asyncio.sleep(1)\n",
        "  raise APIError('API failed')\n",
        "\n",
        "async def main():\n",
        "  a, b, c = await asyncio.gather(\n",
        "    call_api('Calling API 1 ...', 100, 1),\n",
        "    call_api('Calling API 2 ...', 200, 2),\n",
        "    call_api_failed(),\n",
        "    return_exceptions=True\n",
        "  )\n",
        "  print(a, b, c)\n",
        "\n",
        "asyncio.run(main())\n",
        "'''\n",
        "Calling API 1 ...\n",
        "Calling API 2 ...\n",
        "100 200 API failed\n",
        "'''"
      ],
      "metadata": {
        "id": "p3wpCp4BMFi-"
      },
      "execution_count": null,
      "outputs": []
    }
  ]
}