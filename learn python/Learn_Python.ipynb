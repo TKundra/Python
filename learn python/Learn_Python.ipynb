{
  "nbformat": 4,
  "nbformat_minor": 0,
  "metadata": {
    "colab": {
      "provenance": [],
      "toc_visible": true,
      "collapsed_sections": [
        "QU2sIX6Uukp3",
        "Nz2uUdkc7WSt",
        "cZYlVAn49YpE",
        "EJjNUUUnXpp9",
        "b9tpUS4cY822",
        "FOLq64GxoPUj",
        "ZGdZrM5RtTBm",
        "SUou3gIs9P1v",
        "jOkDzDA0sihh",
        "FLgGByeUwRMf",
        "p7xJj66Z8YOh",
        "Pc54OnXU956V",
        "5z3J6YMf-lBT",
        "-O-OG0fVHxtd",
        "T8vSa9c-KT9u",
        "tFg4df78LuCi",
        "NDh85IwxMvU8",
        "Q9iR4TaEWtuX",
        "PklzkuISSthl",
        "l-AEhwKs10Zx",
        "-EpqJ_Nr3xK1",
        "MABWxvkejGP0",
        "PmW67ANvjKUr",
        "nDbQNoZejd_z",
        "2h8p6OT3kvdG",
        "oAgDEZU0lx7A",
        "gCnmHliboFgm",
        "v1-ffBcdp7L6",
        "KPFDR5uY1C9s",
        "ecB7HB85jRX9",
        "bPaTT2jcjUpE",
        "IFlCFy8PDSHO"
      ]
    },
    "kernelspec": {
      "name": "python3",
      "display_name": "Python 3"
    },
    "language_info": {
      "name": "python"
    }
  },
  "cells": [
    {
      "cell_type": "markdown",
      "source": [
        "# Python Fundamentals"
      ],
      "metadata": {
        "id": "QU2sIX6Uukp3"
      }
    },
    {
      "cell_type": "markdown",
      "source": [
        "Python uses whitespace and indentation to construct the code structure."
      ],
      "metadata": {
        "id": "dz4cc7NWu64c"
      }
    },
    {
      "cell_type": "code",
      "source": [
        "def main():\n",
        "    i = 1\n",
        "    max = 10\n",
        "    while (i < max):\n",
        "        print(i)\n",
        "        i = i + 1\n",
        "# call function main\n",
        "main()"
      ],
      "metadata": {
        "id": "Giyd-9Scu_Ip"
      },
      "execution_count": null,
      "outputs": []
    },
    {
      "cell_type": "markdown",
      "source": [
        "Continuation of statements, a long statement can span multiple lines by using the backslash (\\) character."
      ],
      "metadata": {
        "id": "i-7k7fIdvBOt"
      }
    },
    {
      "cell_type": "code",
      "source": [
        "if (a == True) and (b == False) and \\\n",
        "  (c == True):\n",
        "  print(\"Continuation of statements\")\n",
        "\n",
        "# String literals\n",
        "s = 'This is a string'\n",
        "print(s)\n",
        "s = \"Another string using double quotes\"\n",
        "print(s)\n",
        "s = '''\n",
        "Usage: mysql command\n",
        "    -h hostname\n",
        "    -d database name\n",
        "    -u username\n",
        "    -p password\n",
        "'''\n",
        "\n",
        "print(s)"
      ],
      "metadata": {
        "id": "DfVgAzEivEJI"
      },
      "execution_count": null,
      "outputs": []
    },
    {
      "cell_type": "markdown",
      "source": [
        "f-string"
      ],
      "metadata": {
        "id": "z1Ly0sCPvHRZ"
      }
    },
    {
      "cell_type": "code",
      "source": [
        "name = 'John'\n",
        "message = f'Hi {name}'\n",
        "print(message)  # Hi John\n",
        "\n",
        "website = 'PythonTutorial.net'\n",
        "message = f'Hello {name}. ' \\\n",
        "    f\"You're learning Python at {website}.\"\n",
        "print(message)\n",
        "# Hello John.\n",
        "# You're learning Python at PythonTutorial.net.\n",
        "\n",
        "s = f'{1+2}'\n",
        "print(s) # 3\n",
        "\n",
        "s = f'{{1+2}}'\n",
        "print(s) # {1+2}\n",
        "\n",
        "s = f'{{{1+2}}}'\n",
        "print(s) # {3}\n",
        "\n",
        "s = f'{{{{1+2}}}}'\n",
        "print(s) # {{1+2}}\n",
        "\n",
        "def inc(numbers, value):\n",
        "  numbers[0] += value\n",
        "  return numbers[0]\n",
        "numbers = [0]\n",
        "s = f'{inc(numbers,1)},{inc(numbers,2)}'\n",
        "print(s) # 1,3"
      ],
      "metadata": {
        "id": "X_x5l3vmvNL1"
      },
      "execution_count": null,
      "outputs": []
    },
    {
      "cell_type": "markdown",
      "source": [
        "r-string"
      ],
      "metadata": {
        "id": "Vh7_XQqivORU"
      }
    },
    {
      "cell_type": "code",
      "source": [
        "print(r\"C:\\path\\subpath\");  # \\ treated as literal character\n",
        "print(r'C:\\python\\bin');    # \\ treated as literal character"
      ],
      "metadata": {
        "id": "WCKW2qSxvPoi"
      },
      "execution_count": null,
      "outputs": []
    },
    {
      "cell_type": "markdown",
      "source": [
        "concat string"
      ],
      "metadata": {
        "id": "q8yToukevTzH"
      }
    },
    {
      "cell_type": "code",
      "source": [
        "greeting = 'Good ' 'Morning!'\n",
        "print(greeting)\n",
        "\n",
        "greeting = 'Good '\n",
        "time = 'Afternoon'\n",
        "greeting = greeting + time + '!'\n",
        "print(greeting)"
      ],
      "metadata": {
        "id": "wwsG8aF5vViR"
      },
      "execution_count": null,
      "outputs": []
    },
    {
      "cell_type": "markdown",
      "source": [
        "access string elements"
      ],
      "metadata": {
        "id": "R7RvPdOnvWMk"
      }
    },
    {
      "cell_type": "code",
      "source": [
        "str = \"Python String\"\n",
        "print(str[0]) # P\n",
        "print(str[1]) # y\n",
        "\n",
        "print(str[-1])  # g\n",
        "print(str[-2])  # n\n",
        "\n",
        "# +---+---+---+---+---+---+---+---+---+---+---+---+---+\n",
        "# | P | y | t | h | o | n |   | S | t | r | i | n | g |\n",
        "# +---+---+---+---+---+---+---+---+---+---+---+---+---+\n",
        "#   0   1   2   3   4   5   6   7   8   9   10  11  12\n",
        "# -13  -12  -11  -10 -9  -8  -7  -6  -5  -4  -3  -2  -1"
      ],
      "metadata": {
        "id": "8i820jizva0M"
      },
      "execution_count": null,
      "outputs": []
    },
    {
      "cell_type": "markdown",
      "source": [
        "python strings are immutable"
      ],
      "metadata": {
        "id": "fKBn5WwuvfLF"
      }
    },
    {
      "cell_type": "code",
      "source": [
        "str = \"Python String\"\n",
        "str[0] = 'J'  # will throw error"
      ],
      "metadata": {
        "id": "kpFA4kafvfsP"
      },
      "execution_count": null,
      "outputs": []
    },
    {
      "cell_type": "code",
      "source": [
        "str = \"Python String\"\n",
        "new_str = 'J' + str[1:]\n",
        "print(new_str)"
      ],
      "metadata": {
        "id": "OAsLL8m6vjIY"
      },
      "execution_count": null,
      "outputs": []
    },
    {
      "cell_type": "markdown",
      "source": [
        "type conversion"
      ],
      "metadata": {
        "id": "znIxIk6mvvU5"
      }
    },
    {
      "cell_type": "code",
      "source": [
        "print(int(0))\n",
        "print(float(0))\n",
        "print(bool(0))\n",
        "print(str(0))"
      ],
      "metadata": {
        "id": "3er_r3CxvxsU"
      },
      "execution_count": null,
      "outputs": []
    },
    {
      "cell_type": "markdown",
      "source": [
        "Python constants"
      ],
      "metadata": {
        "id": "kz08gR7HvyTv"
      }
    },
    {
      "cell_type": "code",
      "source": [
        "FILE_SIZE_LIMIT = 2000 # Python doesn’t have built-in constant types."
      ],
      "metadata": {
        "id": "gpKk89Mtv01y"
      },
      "execution_count": null,
      "outputs": []
    },
    {
      "cell_type": "markdown",
      "source": [
        "type hints"
      ],
      "metadata": {
        "id": "W8W_ItYn9Nug"
      }
    },
    {
      "cell_type": "code",
      "source": [
        "# The predefined types allow the compilers to check the code before compiling and running the program.\n",
        "# Python’s type hints provide you with optional static typing to leverage the best of both static and dynamic typing.\n",
        "def say_hi(name: str) -> str:\n",
        "  return f'Hi {name}'\n",
        "\n",
        "greeting = say_hi('John')\n",
        "print(greeting) # Hi John\n",
        "\n",
        "greeting = say_hi(34)\n",
        "print(greeting) # Hi 34\n",
        "\n",
        "# To check the syntax for type hints, you need to use a static type checker tool.\n",
        "# pip3 install mypy\n",
        "# mypy app.py"
      ],
      "metadata": {
        "id": "czJC2QDi9PP-"
      },
      "execution_count": null,
      "outputs": []
    },
    {
      "cell_type": "markdown",
      "source": [
        "# Python Control Statement"
      ],
      "metadata": {
        "id": "Nz2uUdkc7WSt"
      }
    },
    {
      "cell_type": "markdown",
      "source": [
        "if...else"
      ],
      "metadata": {
        "id": "B62kOseu7mJu"
      }
    },
    {
      "cell_type": "code",
      "source": [
        "age = int(input('Enter your age: '))\n",
        "\n",
        "# determine the ticket price\n",
        "if age < 5:\n",
        "  ticket_price = 5\n",
        "elif age < 16:\n",
        "  ticket_price = 10\n",
        "else:\n",
        "  ticket_price = 18\n",
        "\n",
        "# show the ticket price\n",
        "print(f\"You'll pay ${ticket_price} for the ticket\")"
      ],
      "metadata": {
        "id": "42ip6KAo7qWn"
      },
      "execution_count": null,
      "outputs": []
    },
    {
      "cell_type": "markdown",
      "source": [
        "ternary operator"
      ],
      "metadata": {
        "id": "MUiJN-zt7tBv"
      }
    },
    {
      "cell_type": "code",
      "source": [
        "# python doesn't support ternary operator like other programming languages ? :\n",
        "age = input('Enter your age: ')\n",
        "\n",
        "ticket_price = 20 if int(age) >= 18 else 5 # value_if_true if condition else value_if_false\n",
        "\n",
        "print(f\"The ticket price is {ticket_price}\")"
      ],
      "metadata": {
        "id": "o15cQSZr7ukb"
      },
      "execution_count": null,
      "outputs": []
    },
    {
      "cell_type": "markdown",
      "source": [
        "for loop"
      ],
      "metadata": {
        "id": "Uqm5cGIH77g-"
      }
    },
    {
      "cell_type": "code",
      "source": [
        "# range(start, stop, step)\n",
        "for index in range(5):\n",
        "  print(index); # 0 1 2 3 4\n",
        "\n",
        "for index in range(1, 6):\n",
        "  print(index) # 1 2 3 4 5\n",
        "\n",
        "for index in range(0, 11, 2):\n",
        "  print(index) # 0 2 4 6 8 10"
      ],
      "metadata": {
        "id": "UysYAelI78nx"
      },
      "execution_count": null,
      "outputs": []
    },
    {
      "cell_type": "markdown",
      "source": [
        "while loop"
      ],
      "metadata": {
        "id": "JIOjhT9l7-_I"
      }
    },
    {
      "cell_type": "code",
      "source": [
        "max = 5\n",
        "counter = 0\n",
        "\n",
        "while counter < max:\n",
        "  print(counter)\n",
        "  counter += 1"
      ],
      "metadata": {
        "id": "AHvYNFaO8ACh"
      },
      "execution_count": null,
      "outputs": []
    },
    {
      "cell_type": "markdown",
      "source": [
        "break"
      ],
      "metadata": {
        "id": "k4o_uwXw8B6R"
      }
    },
    {
      "cell_type": "code",
      "source": [
        "for index in range(0, 10):\n",
        "  print(index) # 0 1 2 3\n",
        "  if index == 3:\n",
        "    break"
      ],
      "metadata": {
        "id": "8fEOjSuk8CoC"
      },
      "execution_count": null,
      "outputs": []
    },
    {
      "cell_type": "markdown",
      "source": [
        "continue"
      ],
      "metadata": {
        "id": "RqgWK4QP8EST"
      }
    },
    {
      "cell_type": "code",
      "source": [
        "for index in range(10):\n",
        "  if index % 2:\n",
        "    continue\n",
        "  print(index) # 0 2 4 6 8"
      ],
      "metadata": {
        "id": "WCsy-Juc8E-b"
      },
      "execution_count": null,
      "outputs": []
    },
    {
      "cell_type": "markdown",
      "source": [
        "pass"
      ],
      "metadata": {
        "id": "4wZgrJds8G7d"
      }
    },
    {
      "cell_type": "code",
      "source": [
        "# counter = 1\n",
        "# max = 10\n",
        "# if counter <= max:\n",
        "#     counter += 1\n",
        "# else:\n",
        "#     # implement later\n",
        "# In the else clause, you haven’t got any code yet. But you’ll write code for this else clause later.\n",
        "\n",
        "# In this case, if you run the code, you’ll get a syntax error (SyntaxError).\n",
        "# This is where the Python pass statement comes into play:\n",
        "# i.e Use the Python pass statement to create a placeholder for the code that you’ll implement later.\n",
        "counter = 1\n",
        "max = 10\n",
        "if counter <= max:\n",
        "  counter += 1\n",
        "else:\n",
        "  pass"
      ],
      "metadata": {
        "id": "Sd7RQA388Ho8"
      },
      "execution_count": null,
      "outputs": []
    },
    {
      "cell_type": "markdown",
      "source": [
        "for...else"
      ],
      "metadata": {
        "id": "afzCQqGo8KVG"
      }
    },
    {
      "cell_type": "code",
      "source": [
        "# In this syntax, the else clause will execute only if the loop runs normally.\n",
        "# In other words, the else clause won’t execute if the loop encounters a break statement.\n",
        "people = [\n",
        "  {'name': 'John', 'age': 25},\n",
        "  {'name': 'Jane', 'age': 22},\n",
        "  {'name': 'Peter', 'age': 30},\n",
        "  {'name': 'Jenifer', 'age': 28}\n",
        "]\n",
        "\n",
        "name = input('Enter a name:')\n",
        "for person in people:\n",
        "  if person['name'] == name:\n",
        "    print(person)\n",
        "    break\n",
        "else:\n",
        "  print(f'{name} not found!')"
      ],
      "metadata": {
        "id": "ZcH_3xgW8LUI"
      },
      "execution_count": null,
      "outputs": []
    },
    {
      "cell_type": "markdown",
      "source": [
        "while...else"
      ],
      "metadata": {
        "id": "nCRroci98N7s"
      }
    },
    {
      "cell_type": "code",
      "source": [
        "# When the condition becomes False and the loop runs normally, the else clause will execute.\n",
        "# However, if the loop is terminated prematurely by either a break or return statement, the else clause won’t execute at all.\n",
        "basket = [\n",
        "  {'fruit': 'apple', 'qty': 20},\n",
        "  {'fruit': 'banana', 'qty': 30},\n",
        "  {'fruit': 'orange', 'qty': 10}\n",
        "]\n",
        "\n",
        "fruit = input('Enter a fruit:')\n",
        "\n",
        "index = 0\n",
        "while index < len(basket):\n",
        "  item = basket[index]\n",
        "  # check the fruit name\n",
        "  if item['fruit'] == fruit:\n",
        "    print(f\"The basket has {item['qty']} {item['fruit']}(s)\")\n",
        "    found_it = True\n",
        "    break\n",
        "\n",
        "  index += 1\n",
        "else:\n",
        "  qty = int(input(f'Enter the qty for {fruit}:'))\n",
        "  basket.append({'fruit': fruit, 'qty': qty})\n",
        "  print(basket)"
      ],
      "metadata": {
        "id": "G5yOBG0s8PC4"
      },
      "execution_count": null,
      "outputs": []
    },
    {
      "cell_type": "markdown",
      "source": [
        "do...while"
      ],
      "metadata": {
        "id": "seBd3wCT8Sln"
      }
    },
    {
      "cell_type": "code",
      "source": [
        "# Unfortunately, Python doesn’t support the do...while loop.\n",
        "# However, you can use the while loop and a break statement to emulate the do...while loop statement.\n",
        "\n",
        "# To avoid this duplicate code, you can use a while loop to emulate do while loop as follows:\n",
        "from random import randint\n",
        "\n",
        "# determine the range\n",
        "MIN = 0\n",
        "MAX = 10\n",
        "\n",
        "# generate a secret number\n",
        "secret_number = randint(MIN, MAX)\n",
        "\n",
        "# initialize the attempt\n",
        "attempt = 0\n",
        "\n",
        "while True:\n",
        "  attempt += 1\n",
        "  input_number = int(input(f'Enter a number between {MIN} and {MAX}:'))\n",
        "  if input_number > secret_number:\n",
        "    print('It should be smaller.')\n",
        "  elif input_number < secret_number:\n",
        "    print('It should be bigger.')\n",
        "  else:\n",
        "    print(f'Bingo! {attempt} attempt(s)')\n",
        "    break"
      ],
      "metadata": {
        "id": "QeIfYcGK8Tt4"
      },
      "execution_count": null,
      "outputs": []
    },
    {
      "cell_type": "markdown",
      "source": [
        "# Python Function"
      ],
      "metadata": {
        "id": "cZYlVAn49YpE"
      }
    },
    {
      "cell_type": "markdown",
      "source": [
        "normal function"
      ],
      "metadata": {
        "id": "D-XQ5BQF9ajh"
      }
    },
    {
      "cell_type": "code",
      "source": [
        "def sum(a, b):\n",
        "  return a + b\n",
        "\n",
        "total = sum(10,20)\n",
        "print(total) # 30"
      ],
      "metadata": {
        "id": "CtFMXomz9d4h"
      },
      "execution_count": null,
      "outputs": []
    },
    {
      "cell_type": "markdown",
      "source": [
        "default parameters"
      ],
      "metadata": {
        "id": "iGJJzoFK9fg-"
      }
    },
    {
      "cell_type": "code",
      "source": [
        "def greet(name = 'there', message='Hi'):\n",
        "  return f\"{message} {name}\"\n",
        "\n",
        "greeting = greet()\n",
        "print(greeting) # Hi there\n",
        "\n",
        "greeting = greet('John')\n",
        "print(greeting) # Hi John\n",
        "\n",
        "greeting = greet('John', 'Hello')\n",
        "print(greeting) # Hello John\n",
        "\n",
        "greeting = greet(message='Hello')\n",
        "print(greeting) # Hello there"
      ],
      "metadata": {
        "id": "jM5wO2XE9hUe"
      },
      "execution_count": null,
      "outputs": []
    },
    {
      "cell_type": "markdown",
      "source": [
        "lambda function"
      ],
      "metadata": {
        "id": "qMQHBAA09jpk"
      }
    },
    {
      "cell_type": "code",
      "source": [
        "printStatement = lambda first_name,last_name: f\"{first_name} {last_name}\"\n",
        "print(printStatement('python', 'singh')) # python singh"
      ],
      "metadata": {
        "id": "NsFUwVCU9lZg"
      },
      "execution_count": null,
      "outputs": []
    },
    {
      "cell_type": "markdown",
      "source": [
        "return lambda function"
      ],
      "metadata": {
        "id": "SWXuaprJ9nPn"
      }
    },
    {
      "cell_type": "code",
      "source": [
        "def times(n):\n",
        "  return lambda x: x * n\n",
        "\n",
        "double = times(2)\n",
        "print(double(3)) # 6"
      ],
      "metadata": {
        "id": "2RgzFE8S9o7d"
      },
      "execution_count": null,
      "outputs": []
    },
    {
      "cell_type": "markdown",
      "source": [
        "lambda in loop"
      ],
      "metadata": {
        "id": "n6WhQLS09sMg"
      }
    },
    {
      "cell_type": "code",
      "source": [
        "callables = []\n",
        "for i in (1, 2, 3):\n",
        "  callables.append(lambda: i)\n",
        "\n",
        "for f in callables:\n",
        "  print(f())"
      ],
      "metadata": {
        "id": "JieKOVNX9s1i"
      },
      "execution_count": null,
      "outputs": []
    },
    {
      "cell_type": "markdown",
      "source": [
        "to show the documentation of a function."
      ],
      "metadata": {
        "id": "-EQqjkEy9vMi"
      }
    },
    {
      "cell_type": "code",
      "source": [
        "# Python stores the docstrings in the __doc__ property of the function.\n",
        "# The following example shows how to access the __doc__ property of the add() function:\n",
        "def add(a, b):\n",
        "    # Place a string, either single-line or multi-line strings, as the first line in the function to add documentation to it.\n",
        "    \"\"\" Add two arguments\n",
        "    Arguments:\n",
        "        a: an integer\n",
        "        b: an integer\n",
        "    Returns:\n",
        "        The sum of the two arguments\n",
        "    \"\"\"\n",
        "    return a + b\n",
        "\n",
        "# Use the help() function to get the documentation of a function.\n",
        "# help(add);\n",
        "print(add.__doc__)"
      ],
      "metadata": {
        "id": "1V6WGZQ-9xiT"
      },
      "execution_count": null,
      "outputs": []
    },
    {
      "cell_type": "markdown",
      "source": [
        "partial functions - allow us to fix a certain number of arguments of a function and generate a new function."
      ],
      "metadata": {
        "id": "m3QukOeg991c"
      }
    },
    {
      "cell_type": "code",
      "source": [
        "def multiply(a, b):\n",
        "  return a*b;\n",
        "\n",
        "# sometimes you just want to multiply an argument with a specified number i.e 2. To do that you can reuse the multiply\n",
        "# function like this.\n",
        "def double(a):\n",
        "  return multiply(a, 2);\n",
        "\n",
        "result = double(10)\n",
        "print(result) # 20\n",
        "\n",
        "# double function freeze the second argument of the multiply function, which results in a new function with simpler signature.\n",
        "# in python double function is called partial function\n",
        "from functools import partial\n",
        "\n",
        "def multiply(a, b):\n",
        "  return a*b;\n",
        "\n",
        "double = partial(multiply, b = 2)\n",
        "result = double(10)\n",
        "print(result)"
      ],
      "metadata": {
        "id": "tEnzNQ3v9-gc"
      },
      "execution_count": null,
      "outputs": []
    },
    {
      "cell_type": "markdown",
      "source": [
        "# Python List"
      ],
      "metadata": {
        "id": "EJjNUUUnXpp9"
      }
    },
    {
      "cell_type": "code",
      "source": [
        "# list is an ordered collection of items (mixed data types).\n",
        "todo_list = ['Learn Python List', 'How to manage List elements'];\n",
        "numbers = [1, 3, 2, 7, 9, 4]\n",
        "colors = ['red', 'green', 'blue']\n",
        "coordinates = [[0, 0], [100, 100], [200, 200]]\n",
        "mixed = [ 1, 'abc', 1.23, (3+4j), True]"
      ],
      "metadata": {
        "id": "xzCnb1oQW159"
      },
      "execution_count": null,
      "outputs": []
    },
    {
      "cell_type": "markdown",
      "source": [
        "list()"
      ],
      "metadata": {
        "id": "e08YYVqqXilZ"
      }
    },
    {
      "cell_type": "code",
      "source": [
        "# Convert a string to a list\n",
        "L = list('abc')\n",
        "print(L)    # ['a', 'b', 'c']\n",
        "\n",
        "# Convert a tuple to a list\n",
        "L = list((1, 2, 3))\n",
        "print(L)    # [1, 2, 3]"
      ],
      "metadata": {
        "id": "UiMTQpgxXlJ1"
      },
      "execution_count": null,
      "outputs": []
    },
    {
      "cell_type": "markdown",
      "source": [
        "accessing elements"
      ],
      "metadata": {
        "id": "eQs4nxudXzRM"
      }
    },
    {
      "cell_type": "code",
      "source": [
        "numbers = [1, 3, 2, 7, 9, 4]\n",
        "print(numbers[1])   # 3\n",
        "print(numbers[-1])  # 4\n",
        "print(numbers[-2])  # 9\n",
        "print(numbers[2:5]) # [2, 7, 9]\n",
        "print(numbers[0:2]) # [1, 3]\n",
        "print(numbers[3:-1])# [7, 9]"
      ],
      "metadata": {
        "id": "jI7agchIX1Pi"
      },
      "execution_count": null,
      "outputs": []
    },
    {
      "cell_type": "markdown",
      "source": [
        "list slicing"
      ],
      "metadata": {
        "id": "JxXcYZQUaqWu"
      }
    },
    {
      "cell_type": "code",
      "source": [
        "L = ['a', 'b', 'c', 'd', 'e', 'f', 'g', 'h', 'i']\n",
        "print(L[-7:-2]) # ['c', 'd', 'e', 'f', 'g']\n",
        "\n",
        "L = ['a', 'b', 'c', 'd', 'e', 'f', 'g', 'h', 'i']\n",
        "print(L[2:-5])  # ['c', 'd']\n",
        "\n",
        "L = ['a', 'b', 'c', 'd', 'e', 'f', 'g', 'h', 'i']\n",
        "print(L[:3])  # ['a', 'b', 'c']\n",
        "\n",
        "L = ['a', 'b', 'c', 'd', 'e', 'f', 'g', 'h', 'i']\n",
        "print(L[6:])  # ['g', 'h', 'i']"
      ],
      "metadata": {
        "id": "aZs3IMfWarv5"
      },
      "execution_count": null,
      "outputs": []
    },
    {
      "cell_type": "markdown",
      "source": [
        "speicify steps of slicing"
      ],
      "metadata": {
        "id": "XWlrqnBWcC88"
      }
    },
    {
      "cell_type": "code",
      "source": [
        "L = ['a', 'b', 'c', 'd', 'e', 'f', 'g', 'h', 'i']\n",
        "print(L[2:7:2]) # ['c', 'e', 'g']\n",
        "\n",
        "L = ['a', 'b', 'c', 'd', 'e', 'f', 'g', 'h', 'i']\n",
        "print(L[6:1:-2])  # ['g', 'e', 'c']"
      ],
      "metadata": {
        "id": "QG_5U6ipcFj7"
      },
      "execution_count": null,
      "outputs": []
    },
    {
      "cell_type": "markdown",
      "source": [
        "reverse a list"
      ],
      "metadata": {
        "id": "NHIusEdKbQ8Z"
      }
    },
    {
      "cell_type": "code",
      "source": [
        "L = ['a', 'b', 'c', 'd', 'e']\n",
        "print(L[::-1])  # ['e', 'd', 'c', 'b', 'a']"
      ],
      "metadata": {
        "id": "QG55KMRIbSaH"
      },
      "execution_count": null,
      "outputs": []
    },
    {
      "cell_type": "markdown",
      "source": [
        "clone or copy a list"
      ],
      "metadata": {
        "id": "RvnLcSxwbzan"
      }
    },
    {
      "cell_type": "code",
      "source": [
        "L1 = ['a', 'b', 'c', 'd', 'e']\n",
        "L2 = L1[:]\n",
        "print(L2) # ['a', 'b', 'c', 'd', 'e']\n",
        "print(L2 is L1) # False"
      ],
      "metadata": {
        "id": "s3tH39lyb1b5"
      },
      "execution_count": null,
      "outputs": []
    },
    {
      "cell_type": "markdown",
      "source": [
        "modifying elements"
      ],
      "metadata": {
        "id": "bowtPC4HX5cZ"
      }
    },
    {
      "cell_type": "code",
      "source": [
        "numbers = [1, 3, 2, 7, 9, 4]\n",
        "numbers[0] = 10;\n",
        "print(numbers)  # 10, 3, 2, 7, 9, 4\n",
        "\n",
        "L = ['a', 'b', 'c', 'd', 'e']\n",
        "L[1:2] = [1, 2, 3]\n",
        "print(L)  # ['a', 1, 2, 3, 'c', 'd', 'e']"
      ],
      "metadata": {
        "id": "sUy_41ZSX6Er"
      },
      "execution_count": null,
      "outputs": []
    },
    {
      "cell_type": "markdown",
      "source": [
        "adding element"
      ],
      "metadata": {
        "id": "-GzSDIR5X9Gr"
      }
    },
    {
      "cell_type": "code",
      "source": [
        "numbers = [1, 3, 2, 7, 9, 4]\n",
        "numbers.append(100)\n",
        "print(numbers)  # [1, 3, 2, 7, 9, 4, 100]\n",
        "\n",
        "numbers = [1, 3, 2, 7, 9, 4]\n",
        "numbers.insert(2, 100) # adds a new element at any position (index) in the list.\n",
        "print(numbers)  # [1, 3, 100, 2, 7, 9, 4]\n",
        "\n",
        "L = ['a', 'b', 'c']\n",
        "L[:0] = [1, 2, 3]\n",
        "print(L)  # [1, 2, 3, 'a', 'b', 'c']\n",
        "\n",
        "L = ['a', 'b', 'c']\n",
        "L[len(L):] = [1, 2, 3]\n",
        "print(L)  # ['a', 'b', 'c', 1, 2, 3]\n",
        "\n",
        "L = ['a', 'b', 'c']\n",
        "L[1:1] = [1, 2, 3]\n",
        "print(L)  # ['a', 1, 2, 3, 'b', 'c']"
      ],
      "metadata": {
        "id": "qoBnSl_DX9g3"
      },
      "execution_count": null,
      "outputs": []
    },
    {
      "cell_type": "markdown",
      "source": [
        "removing element"
      ],
      "metadata": {
        "id": "xK-HZqHNX_Gj"
      }
    },
    {
      "cell_type": "code",
      "source": [
        "numbers = [1, 3, 2, 7, 9, 4]\n",
        "del numbers[0]\n",
        "print(numbers)  # [3, 2, 7, 9, 4]\n",
        "\n",
        "numbers = [1, 3, 2, 7, 9, 4]\n",
        "last = numbers.pop()\n",
        "print(last)     # 4\n",
        "print(numbers)  # [1, 3, 2, 7, 9]\n",
        "\n",
        "numbers = [1, 3, 2, 7, 9, 4]\n",
        "second = numbers.pop(1) # pop element by position (index)\n",
        "print(second)   # 3\n",
        "print(numbers)  # [1, 2, 7, 9, 4]\n",
        "\n",
        "numbers = [1, 3, 2, 7, 9, 4, 9]\n",
        "numbers.remove(9)   # remove element by value\n",
        "print(numbers)  # [1, 3, 2, 7, 4, 9]\n",
        "\n",
        "L = ['red', 'green', 'blue', 'yellow', 'black']\n",
        "del L[1:4]  # remove multiple items\n",
        "print(L)    # ['red', 'black']\n",
        "\n",
        "L = ['red', 'green', 'blue']\n",
        "L.clear()   # remove all\n",
        "print(L)    # []"
      ],
      "metadata": {
        "id": "ut2PVsKGYCwV"
      },
      "execution_count": null,
      "outputs": []
    },
    {
      "cell_type": "markdown",
      "source": [
        "list replication"
      ],
      "metadata": {
        "id": "NUjvnEWjYH8l"
      }
    },
    {
      "cell_type": "code",
      "source": [
        "L = ['red']\n",
        "L = L * 3\n",
        "print(L)    # ['red', 'red', 'red']"
      ],
      "metadata": {
        "id": "I8Bw3EAKYIU2"
      },
      "execution_count": null,
      "outputs": []
    },
    {
      "cell_type": "markdown",
      "source": [
        "find length of list"
      ],
      "metadata": {
        "id": "ty5ElQi5YKd2"
      }
    },
    {
      "cell_type": "code",
      "source": [
        "print(len(L))"
      ],
      "metadata": {
        "id": "sn92pgUbYMTJ"
      },
      "execution_count": null,
      "outputs": []
    },
    {
      "cell_type": "markdown",
      "source": [
        "check item presence"
      ],
      "metadata": {
        "id": "vVYJx1lzYNo9"
      }
    },
    {
      "cell_type": "code",
      "source": [
        "# Check for presence\n",
        "L = ['red', 'green', 'blue']\n",
        "if 'red' in L:\n",
        "  print('yes')\n",
        "\n",
        "# Check for absence\n",
        "L = ['red', 'green', 'blue']\n",
        "if 'yellow' not in L:\n",
        "  print('yes')"
      ],
      "metadata": {
        "id": "KboAJLbvYQZn"
      },
      "execution_count": null,
      "outputs": []
    },
    {
      "cell_type": "markdown",
      "source": [
        "iterate"
      ],
      "metadata": {
        "id": "uDhO4LvYYTTW"
      }
    },
    {
      "cell_type": "code",
      "source": [
        "L = ['red', 'green', 'blue']\n",
        "for item in L:\n",
        "  print(item)\n",
        "# Prints red\n",
        "# Prints green\n",
        "# Prints blue"
      ],
      "metadata": {
        "id": "4Tmk6zB5YTvx"
      },
      "execution_count": null,
      "outputs": []
    },
    {
      "cell_type": "markdown",
      "source": [
        "combine list"
      ],
      "metadata": {
        "id": "CXZQ2vF-YVcy"
      }
    },
    {
      "cell_type": "code",
      "source": [
        "# using extend\n",
        "L = ['red', 'green', 'yellow']\n",
        "L.extend([1,2,3])\n",
        "print(L)    # ['red', 'green', 'yellow', 1, 2, 3]\n",
        "\n",
        "# concatenation operator\n",
        "L = ['red', 'green', 'blue']\n",
        "L = L + [1,2,3]\n",
        "print(L)    # ['red', 'green', 'blue', 1, 2, 3]\n",
        "\n",
        "# augmented assignment operator\n",
        "L = ['red', 'green', 'blue']\n",
        "L += [1,2,3]\n",
        "print(L)    # ['red', 'green', 'blue', 1, 2, 3]"
      ],
      "metadata": {
        "id": "dZYwldlkYWlv"
      },
      "execution_count": null,
      "outputs": []
    },
    {
      "cell_type": "markdown",
      "source": [
        "nested list"
      ],
      "metadata": {
        "id": "gFhaCIKeZhF6"
      }
    },
    {
      "cell_type": "code",
      "source": [
        "L = ['a', 'b', ['cc', 'dd', ['eee', 'fff']], 'g', 'h']\n",
        "\n",
        "print(L[-3])          # Prints ['cc', 'dd', ['eee', 'fff']]\n",
        "\n",
        "print(L[-3][-1])      # Prints ['eee', 'fff']\n",
        "\n",
        "print(L[-3][-1][-2])  # Prints eee"
      ],
      "metadata": {
        "id": "D0FBGKltZirK"
      },
      "execution_count": null,
      "outputs": []
    },
    {
      "cell_type": "markdown",
      "source": [
        "change nested list item"
      ],
      "metadata": {
        "id": "X-xmdCB6Zqk9"
      }
    },
    {
      "cell_type": "code",
      "source": [
        "L = ['a', ['bb', 'cc'], 'd']\n",
        "L[1][1] = 0\n",
        "print(L)  # Prints ['a', ['bb', 0], 'd']"
      ],
      "metadata": {
        "id": "2j6_bshuZsp3"
      },
      "execution_count": null,
      "outputs": []
    },
    {
      "cell_type": "markdown",
      "source": [
        "iterate through nested"
      ],
      "metadata": {
        "id": "wAVCEAAzZ4nM"
      }
    },
    {
      "cell_type": "code",
      "source": [
        "L = [[1, 2, 3],[4, 5, 6],[7, 8, 9]]\n",
        "for list in L:\n",
        "  for number in list:\n",
        "    print(number, end=' ')\n",
        "# Prints 1 2 3 4 5 6 7 8 9"
      ],
      "metadata": {
        "id": "UZFIVmFBZ6jp"
      },
      "execution_count": null,
      "outputs": []
    },
    {
      "cell_type": "markdown",
      "source": [
        "nested list length"
      ],
      "metadata": {
        "id": "Y283E3zwZ91h"
      }
    },
    {
      "cell_type": "code",
      "source": [
        "L = ['a', ['bb', 'cc'], 'd']\n",
        "\n",
        "print(len(L))     # Prints 3\n",
        "\n",
        "print(len(L[1]))  # Prints 2"
      ],
      "metadata": {
        "id": "gNPudT8AZ_g5"
      },
      "execution_count": null,
      "outputs": []
    },
    {
      "cell_type": "markdown",
      "source": [
        "remove from nested list"
      ],
      "metadata": {
        "id": "zFfDsrZIaIJ0"
      }
    },
    {
      "cell_type": "code",
      "source": [
        "# If you know the index of the item you want, you can use pop() method. It modifies the list and returns the removed item.\n",
        "L = ['a', ['bb', 'cc', 'dd'], 'e']\n",
        "x = L[1].pop(1)\n",
        "print(L)  # Prints ['a', ['bb', 'dd'], 'e']\n",
        "\n",
        "# removed item\n",
        "print(x)  # Prints cc\n",
        "\n",
        "# If you don’t need the removed value, use the del statement.\n",
        "L = ['a', ['bb', 'cc', 'dd'], 'e']\n",
        "del L[1][1]\n",
        "print(L)  # Prints ['a', ['bb', 'dd'], 'e']\n",
        "\n",
        "# If you’re not sure where the item is in the list, use remove() method to delete it by value.\n",
        "L = ['a', ['bb', 'cc', 'dd'], 'e']\n",
        "L[1].remove('cc')\n",
        "print(L)  # Prints ['a', ['bb', 'dd'], 'e']"
      ],
      "metadata": {
        "id": "y3_gERpTaNUa"
      },
      "execution_count": null,
      "outputs": []
    },
    {
      "cell_type": "markdown",
      "source": [
        "sort list"
      ],
      "metadata": {
        "id": "QywiFbb7dR5D"
      }
    },
    {
      "cell_type": "code",
      "source": [
        "guests = ['James', 'Mary', 'John', 'Patricia', 'Robert', 'Jennifer']\n",
        "guests.sort()\n",
        "print(guests)\n",
        "\n",
        "guests = ['James', 'Mary', 'John', 'Patricia', 'Robert', 'Jennifer']\n",
        "guests.sort(reverse = True)\n",
        "print(guests)"
      ],
      "metadata": {
        "id": "kM_rYo4wdS1A"
      },
      "execution_count": null,
      "outputs": []
    },
    {
      "cell_type": "markdown",
      "source": [
        "list comprehension"
      ],
      "metadata": {
        "id": "-eBWJwj5deIJ"
      }
    },
    {
      "cell_type": "code",
      "source": [
        "\"\"\"\n",
        "Suppose you want to create a list of all integer square numbers from 0 to 4. You could build that list by appending one item at a time to an empty list:\n",
        "L = []\n",
        "L.append(0)\n",
        "L.append(1)\n",
        "L.append(4)\n",
        "L.append(9)\n",
        "L.append(16)\n",
        "\n",
        "Or, you could just use an iterator and the range() function:\n",
        "L = []\n",
        "for x in range(5):\n",
        "  L.append(x**2)\n",
        "\"\"\"\n",
        "\n",
        "# Here’s how a list comprehension would build the above list:\n",
        "L = [x**2 for x in range(5)]\n",
        "print(L)  # [0, 1, 4, 9, 16]\n",
        "\n",
        "L = [x*3 for x in 'RED']\n",
        "print(L)  # ['RRR', 'EEE', 'DDD']\n",
        "\n",
        "vec = [-4, -2, 0, 2, 4]\n",
        "L = [abs(x) for x in vec]\n",
        "print(L)  # [4, 2, 0, 2, 4]\n",
        "\n",
        "colors = ['  red', '  green ', 'blue  ']\n",
        "L = [color.strip() for color in colors]\n",
        "print(L)  # ['red', 'green', 'blue']\n",
        "\n",
        "L = [(x, x**2) for x in range(4)]\n",
        "print(L)  # [(0, 0), (1, 1), (2, 4), (3, 9)]"
      ],
      "metadata": {
        "id": "wH-k703sdh9w"
      },
      "execution_count": null,
      "outputs": []
    },
    {
      "cell_type": "markdown",
      "source": [
        "list comprehension with if clause"
      ],
      "metadata": {
        "id": "J6QyztvreZTU"
      }
    },
    {
      "cell_type": "code",
      "source": [
        "vec = [-4, -2, 0, 2, 4]\n",
        "L = [x for x in vec if x >= 0]\n",
        "print(L)  # [0, 2, 4]\n",
        "\n",
        "# This above list comprehension is the same as a for loop that contains an if statement:\n",
        "vec = [-4, -2, 0, 2, 4]\n",
        "L = []\n",
        "for x in vec:\n",
        "  if x >= 0:\n",
        "    L.append(x)\n",
        "print(L)  # [0, 2, 4]"
      ],
      "metadata": {
        "id": "Ju4bbPjIefeR"
      },
      "execution_count": null,
      "outputs": []
    },
    {
      "cell_type": "markdown",
      "source": [
        "nested list comprehension"
      ],
      "metadata": {
        "id": "A4wPazVsetpW"
      }
    },
    {
      "cell_type": "code",
      "source": [
        "vector = [[1, 2, 3], [4, 5, 6], [7, 8, 9]]\n",
        "L = [number for list in vector for number in list]\n",
        "print(L)  # [1, 2, 3, 4, 5, 6, 7, 8, 9]\n",
        "\n",
        "# equivalent to the following plain, old nested loop:\n",
        "vector = [[1, 2, 3], [4, 5, 6], [7, 8, 9]]\n",
        "L = []\n",
        "for list in vector:\n",
        "  for number in list:\n",
        "    L.append(number)\n",
        "print(L)  # [1, 2, 3, 4, 5, 6, 7, 8, 9]"
      ],
      "metadata": {
        "id": "BDkNG3Mmev7l"
      },
      "execution_count": null,
      "outputs": []
    },
    {
      "cell_type": "markdown",
      "source": [
        "matrix example of list comprehension"
      ],
      "metadata": {
        "id": "seWEj5dTe_tl"
      }
    },
    {
      "cell_type": "code",
      "source": [
        "matrix = [[1, 2, 3],\n",
        "          [4, 5, 6],\n",
        "          [7, 8, 9]]\n",
        "L = [[row[i] for row in matrix] for i in range(3)]\n",
        "print(L)  # [[1, 4, 7], [2, 5, 8], [3, 6, 9]]"
      ],
      "metadata": {
        "id": "AkZxLHfHfDPO"
      },
      "execution_count": null,
      "outputs": []
    },
    {
      "cell_type": "markdown",
      "source": [
        "List Comprehension vs map() + lambda"
      ],
      "metadata": {
        "id": "EnUamIfkfgIa"
      }
    },
    {
      "cell_type": "code",
      "source": [
        "# With list comprehension\n",
        "L = [x ** 2 for x in range(5)]\n",
        "print(L)  # [0, 1, 4, 9, 16]\n",
        "\n",
        "# With map() function\n",
        "L = list(map((lambda x: x ** 2), range(5)))\n",
        "print(L)  # [0, 1, 4, 9, 16]"
      ],
      "metadata": {
        "id": "fri-4zSbfg6C"
      },
      "execution_count": null,
      "outputs": []
    },
    {
      "cell_type": "markdown",
      "source": [
        "List Comprehension vs filter() + lambda"
      ],
      "metadata": {
        "id": "vE_jdkFDflUl"
      }
    },
    {
      "cell_type": "code",
      "source": [
        "# With list comprehension\n",
        "L = [x for x in range(10) if x % 2 == 0]\n",
        "print(L)  # [0, 2, 4, 6, 8]\n",
        "\n",
        "# With filter() function\n",
        "L = list(filter((lambda x: x % 2 == 0), range(10)))\n",
        "print(L)  # [0, 2, 4, 6, 8]"
      ],
      "metadata": {
        "id": "qx9Uf1hifl69"
      },
      "execution_count": null,
      "outputs": []
    },
    {
      "cell_type": "markdown",
      "source": [
        "Unpacking and packing"
      ],
      "metadata": {
        "id": "wQKirQHWnZ0Q"
      }
    },
    {
      "cell_type": "code",
      "source": [
        "# First, unpack the needed elements to variables.\n",
        "# Second, pack the leftover elements into a new list and assign it to another variable\n",
        "\n",
        "colors = ['cyan', 'magenta', 'yellow', 'black']\n",
        "cyan, magenta, *other = colors\n",
        "\n",
        "print(cyan)     # cyan\n",
        "print(magenta)  # magenta\n",
        "print(other)    # ['yellow', 'black']"
      ],
      "metadata": {
        "id": "gdfOseWdnf_A"
      },
      "execution_count": null,
      "outputs": []
    },
    {
      "cell_type": "markdown",
      "source": [
        "iterate over list with index"
      ],
      "metadata": {
        "id": "PrebHVpSn7dx"
      }
    },
    {
      "cell_type": "code",
      "source": [
        "# enumerate() returns tuple with index i.e (index, element)\n",
        "cities = ['New York', 'Beijing', 'Cairo', 'Mumbai', 'Mexico']\n",
        "for item in enumerate(cities):\n",
        "  print(item)                 # (0, 'New York') ...\n",
        "\n",
        "cities = ['New York', 'Beijing', 'Cairo', 'Mumbai', 'Mexico']\n",
        "for index, city in enumerate(cities):\n",
        "  print(f\"{index}: {city}\")   # 0: New York\n",
        "\n",
        "# The enumerate() function allows you to specify the starting index which defaults to zero.\n",
        "cities = ['New York', 'Beijing', 'Cairo', 'Mumbai', 'Mexico']\n",
        "for index, city in enumerate(cities, 1):\n",
        "  print(f\"{index}: {city}\")   # 1: New York ..."
      ],
      "metadata": {
        "id": "pBahVUxsn9tN"
      },
      "execution_count": null,
      "outputs": []
    },
    {
      "cell_type": "markdown",
      "source": [
        "Extras"
      ],
      "metadata": {
        "id": "nxKAXMB1t-2U"
      }
    },
    {
      "cell_type": "code",
      "source": [
        "odd_numbers = [1, 3, 5]\n",
        "even_numbers = [2, 4, 6]\n",
        "\n",
        "numbers = [odd_numbers, even_numbers]\n",
        "print(numbers)  # [[1, 3, 5], [2, 4, 6]]\n",
        "\n",
        "numbers = [*odd_numbers, *even_numbers]\n",
        "print(numbers)  # [1, 3, 5, 2, 4, 6]"
      ],
      "metadata": {
        "id": "rd1_X5WQt_tL"
      },
      "execution_count": null,
      "outputs": []
    },
    {
      "cell_type": "markdown",
      "source": [
        "List methods"
      ],
      "metadata": {
        "id": "C47njkfbYYsW"
      }
    },
    {
      "cell_type": "code",
      "source": [
        "\"\"\"\n",
        "Method\t    Description\n",
        "append()\t  Adds an item to the end of the list\n",
        "insert()\t  Inserts an item at a given position\n",
        "extend()\t  Extends the list by appending all the items from the iterable\n",
        "remove()\t  Removes first instance of the specified item\n",
        "pop()\t      Removes the item at the given position in the list\n",
        "clear()\t    Removes all items from the list\n",
        "copy()\t    Returns a shallow copy of the list\n",
        "count()\t    Returns the count of specified item in the list\n",
        "index()\t    Returns the index of first instance of the specified item\n",
        "reverse()\t  Reverses the items of the list in place\n",
        "sort()\t    Sorts the items of the list in place\n",
        "\"\"\""
      ],
      "metadata": {
        "id": "mBZ_Gg9lYidI"
      },
      "execution_count": null,
      "outputs": []
    },
    {
      "cell_type": "markdown",
      "source": [
        "append() method treats its argument as a single object."
      ],
      "metadata": {
        "id": "1fnFgClLheKE"
      }
    },
    {
      "cell_type": "code",
      "source": [
        "L = ['red', 'green']\n",
        "L.append('blue')\n",
        "print(L)  # ['red', 'green', 'blue']\n",
        "\n",
        "L = ['red', 'green', 'blue']\n",
        "L.append([1,2,3])\n",
        "print(L)  # ['red', 'green', 'blue', [1, 2, 3]]"
      ],
      "metadata": {
        "id": "sfOJrhFkhkDo"
      },
      "execution_count": null,
      "outputs": []
    },
    {
      "cell_type": "markdown",
      "source": [
        "extend() method, if you want to add every item of an iterable to a list."
      ],
      "metadata": {
        "id": "edMFBH67hvdx"
      }
    },
    {
      "cell_type": "code",
      "source": [
        "L = ['red', 'green']\n",
        "L.extend('blue')\n",
        "print(L)  # ['red', 'green', 'b', 'l', 'u', 'e']\n",
        "\n",
        "L = ['red', 'green', 'blue']\n",
        "L.extend({1,2,3})\n",
        "print(L)  # ['red', 'green', 'blue', 1, 2, 3]\n",
        "\n",
        "L = ['red', 'green', 'blue']\n",
        "L.extend((1,2,3))\n",
        "print(L)  # ['red', 'green', 'blue', 1, 2, 3]\n",
        "\n",
        "L = ['red', 'green', 'blue']\n",
        "L.extend([1,2,3])\n",
        "print(L)  # ['red', 'green', 'blue', 1, 2, 3]\n",
        "\n",
        "# alternates\n",
        "L = ['red', 'green', 'blue']\n",
        "L[len(L):] = [1,2,3]\n",
        "print(L)  # ['red', 'green', 'blue', 1, 2, 3]\n",
        "\n",
        "L = ['red', 'green', 'blue']\n",
        "L = L + [1,2,3]\n",
        "print(L)  # ['red', 'green', 'blue', 1, 2, 3]\n",
        "\n",
        "# Augmented assignment operator\n",
        "L = ['red', 'green', 'blue']\n",
        "L += [1,2,3]\n",
        "print(L)  # ['red', 'green', 'blue', 1, 2, 3]"
      ],
      "metadata": {
        "id": "ED45tdfUhyb2"
      },
      "execution_count": null,
      "outputs": []
    },
    {
      "cell_type": "markdown",
      "source": [
        "insert() method to insert a single item at a specified index in a list."
      ],
      "metadata": {
        "id": "QSuxwSAXiIN9"
      }
    },
    {
      "cell_type": "code",
      "source": [
        "L = ['red', 'green', 'blue']\n",
        "L.insert(1,'yellow')\n",
        "print(L)  # ['red', 'yellow', 'green', 'blue']\n",
        "\n",
        "L = ['red', 'green', 'blue']\n",
        "L.insert(-2,'yellow')\n",
        "print(L)  # ['red', 'yellow', 'green', 'blue']\n",
        "\n",
        "L = ['red', 'green', 'blue']\n",
        "L.insert(10,'yellow')\n",
        "print(L)  # ['red', 'green', 'blue', 'yellow']"
      ],
      "metadata": {
        "id": "v5izhiE3iI6n"
      },
      "execution_count": null,
      "outputs": []
    },
    {
      "cell_type": "markdown",
      "source": [
        "clear() method to remove all items from the list."
      ],
      "metadata": {
        "id": "7o0D5ctNiiHw"
      }
    },
    {
      "cell_type": "code",
      "source": [
        "L = ['red', 'green', 'blue']\n",
        "L.clear()\n",
        "print(L)  # []\n",
        "\n",
        "# alternatives of clear()\n",
        "L = ['red', 'green', 'blue']\n",
        "del L[:]\n",
        "print(L)  # []\n",
        "\n",
        "L = ['red', 'green', 'blue']\n",
        "L[:] = []\n",
        "print(L)  # []\n",
        "\n",
        "L = ['red', 'green', 'blue']\n",
        "L *= 0\n",
        "print(L)  # []"
      ],
      "metadata": {
        "id": "aFz5EVpwijVF"
      },
      "execution_count": null,
      "outputs": []
    },
    {
      "cell_type": "markdown",
      "source": [
        "pop() method removes a single list item at specified index and returns it. If no index is specified, pop() method removes and returns the last item in the list."
      ],
      "metadata": {
        "id": "8teOl2zti0RB"
      }
    },
    {
      "cell_type": "code",
      "source": [
        "L = ['red', 'green', 'blue']\n",
        "x = L.pop(1)\n",
        "\n",
        "print(x)  # removed item i.e green\n",
        "print(L)  # ['red', 'blue']\n",
        "\n",
        "L = ['red', 'green', 'blue']\n",
        "L.pop()\n",
        "print(L)  # Prints ['red', 'green']\n",
        "\n",
        "L = ['red', 'green', 'blue']\n",
        "L.pop(-2)\n",
        "print(L)  # ['red', 'blue']"
      ],
      "metadata": {
        "id": "vyIU6S4Ti08B"
      },
      "execution_count": null,
      "outputs": []
    },
    {
      "cell_type": "markdown",
      "source": [
        "copy() method returns the Shallow copy of the specified list."
      ],
      "metadata": {
        "id": "9_2g2_ZNjPgf"
      }
    },
    {
      "cell_type": "code",
      "source": [
        "old_List = ['red', 'green', 'blue']\n",
        "new_List = old_List.copy()\n",
        "new_List[0] = 'xx'\n",
        "print(old_List) # ['red', 'green', 'blue']\n",
        "print(new_List) # ['xx', 'green', 'blue']\n",
        "\n",
        "# alternate of copy()\n",
        "L = ['red', 'green', 'blue']\n",
        "X = L[:]\n",
        "print(X)  # ['red', 'green', 'blue']"
      ],
      "metadata": {
        "id": "YOGxtx5pjQP4"
      },
      "execution_count": null,
      "outputs": []
    },
    {
      "cell_type": "markdown",
      "source": [
        "copy() vs Assignment statement"
      ],
      "metadata": {
        "id": "OCAcQFIdjW7t"
      }
    },
    {
      "cell_type": "code",
      "source": [
        "old_List = ['red', 'green', 'blue']\n",
        "new_List = old_List\n",
        "new_List[0] = 'xx'\n",
        "print(old_List) # ['xx', 'green', 'blue']\n",
        "print(new_List) # ['xx', 'green', 'blue']"
      ],
      "metadata": {
        "id": "SMrryuaBjdkP"
      },
      "execution_count": null,
      "outputs": []
    },
    {
      "cell_type": "markdown",
      "source": [
        "remove() method to remove a single item from a list."
      ],
      "metadata": {
        "id": "k5zi_TNSjobZ"
      }
    },
    {
      "cell_type": "code",
      "source": [
        "L = ['red', 'green', 'blue']\n",
        "L.remove('green')\n",
        "print(L)  # ['red', 'blue']\n",
        "\n",
        "L = ['red', 'green', [1, 2, 3]]\n",
        "L.remove([1, 2, 3])\n",
        "print(L)  # ['red', 'green']\n",
        "\n",
        "L = ['red', 'green', 'blue', 'red', 'red']\n",
        "L.remove('red')\n",
        "print(L)  # ['green', 'blue', 'red', 'red']\n",
        "\n",
        "# ------------------------------------------ to remove duplicates\n",
        "\n",
        "# list comprehension\n",
        "L = ['red', 'green', 'blue', 'red', 'red']\n",
        "L = [x for x in L if x is not 'red']\n",
        "print(L)  # ['green', 'blue']\n",
        "\n",
        "# lambda expression\n",
        "L = ['red', 'green', 'blue', 'red', 'red']\n",
        "L = list(filter(lambda x: x is not 'red', L))\n",
        "print(L)  # ['green', 'blue']"
      ],
      "metadata": {
        "id": "bnQj5l7KjpAd"
      },
      "execution_count": null,
      "outputs": []
    },
    {
      "cell_type": "markdown",
      "source": [
        "remove() method raises an ValueError exception, if specified item doesn’t exist in a list."
      ],
      "metadata": {
        "id": "ByznutaukA25"
      }
    },
    {
      "cell_type": "code",
      "source": [
        "L = ['red', 'green', 'blue']\n",
        "L.remove('yellow')\n",
        "# Triggers ValueError: list.remove(x): x not in list\n",
        "\n",
        "# To avoid such exception, you can check if item exists in a list, using in operator inside if statement.\n",
        "L = ['red', 'green', 'blue']\n",
        "if 'yellow' in L:\n",
        "  L.remove('yellow')"
      ],
      "metadata": {
        "id": "ENchbyDckB9a"
      },
      "execution_count": null,
      "outputs": []
    },
    {
      "cell_type": "markdown",
      "source": [
        "count() method to find the number of times the specified item appears in the list."
      ],
      "metadata": {
        "id": "BDLAP-SRkJcn"
      }
    },
    {
      "cell_type": "code",
      "source": [
        "L = ['red', 'green', 'blue']\n",
        "print(L.count('red')) # 1\n",
        "\n",
        "L = [1, 9, 7, 3, 9, 1, 9, 2]\n",
        "print(L.count(9)) # 3\n",
        "\n",
        "# Count Multiple Items\n",
        "L = ['a', 'b', 'c', 'b', 'a', 'a', 'a']\n",
        "from collections import Counter\n",
        "print(Counter(L)) # Counter({'a': 4, 'b': 2, 'c': 1})"
      ],
      "metadata": {
        "id": "a3tDfl9dkKFn"
      },
      "execution_count": null,
      "outputs": []
    },
    {
      "cell_type": "markdown",
      "source": [
        "reverse() method reverses the order of list. This method does not return anything; it modifies the list in place."
      ],
      "metadata": {
        "id": "k3asStonkfUr"
      }
    },
    {
      "cell_type": "code",
      "source": [
        "L = [1, 2, 3, 4, 5]\n",
        "L.reverse()\n",
        "print(L)  # [5, 4, 3, 2, 1]\n",
        "\n",
        "L = ['red', 'green', 'blue']\n",
        "L.reverse()\n",
        "print(L)  # ['blue', 'green', 'red']\n",
        "\n",
        "# If you don’t want to modify the list but access items in reverse order, you can use reversed() built-in function.\n",
        "# It returns the reversed iterator object, with which you can loop through the list in reverse order.\n",
        "L = ['red', 'green', 'blue']\n",
        "for x in reversed(L):\n",
        "  print(x)\n",
        "# blue\n",
        "# green\n",
        "# red"
      ],
      "metadata": {
        "id": "_ho7dZKtkf9I"
      },
      "execution_count": null,
      "outputs": []
    },
    {
      "cell_type": "markdown",
      "source": [
        "sort() method sorts the list of strings alphabetically and the list of numbers numerically."
      ],
      "metadata": {
        "id": "y0c3-oCElZKD"
      }
    },
    {
      "cell_type": "code",
      "source": [
        "L = ['red', 'green', 'blue', 'orange']\n",
        "L.sort()\n",
        "print(L)  # ['blue', 'green', 'orange', 'red']\n",
        "\n",
        "L = [42, 99, 1, 12]\n",
        "L.sort()\n",
        "print(L)  # [1, 12, 42, 99]\n",
        "\n",
        "# However, you cannot sort lists that have both numbers and strings in them,\n",
        "# since Python doesn’t know how to compare these values.\n",
        "# L = ['red', 'blue', 1, 12, 'orange',42, 'green', 99]\n",
        "# L.sort()  # Triggers TypeError: '<' not supported between instances of 'int' and 'str'\n",
        "\n",
        "L = ['red', 'green', 'blue', 'orange']\n",
        "L.sort(reverse=True)\n",
        "print(L)  # ['red', 'orange', 'green', 'blue']"
      ],
      "metadata": {
        "id": "ZiIumiwBlcWJ"
      },
      "execution_count": null,
      "outputs": []
    },
    {
      "cell_type": "markdown",
      "source": [
        "sort with key. For example, with a list of strings, specifying key=len (the built-in len() function) sorts the strings by length, from shortest to longest."
      ],
      "metadata": {
        "id": "scgqlydklw7s"
      }
    },
    {
      "cell_type": "code",
      "source": [
        "L = ['red', 'green', 'blue', 'orange']\n",
        "L.sort(key=len)\n",
        "print(L)  # ['red', 'blue', 'green', 'orange']"
      ],
      "metadata": {
        "id": "MaZhK6t-l0Kq"
      },
      "execution_count": null,
      "outputs": []
    },
    {
      "cell_type": "markdown",
      "source": [
        "sort with custom function"
      ],
      "metadata": {
        "id": "4gafaumZl6FD"
      }
    },
    {
      "cell_type": "code",
      "source": [
        "def myFunc(e):\n",
        "  return e[1]\t# return age\n",
        "L = [('Bob', 30),\n",
        "     ('Sam', 35),\n",
        "     ('Max', 25)]\n",
        "L.sort(key=myFunc)\n",
        "print(L)  # [('Max', 25), ('Bob', 30), ('Sam', 35)]\n",
        "\n",
        "def myFunc(e):\n",
        "    return e['age']\t\t# return age\n",
        "L = [{'name': 'Bob', 'age': 30},\n",
        "     {'name': 'Sam', 'age': 35},\n",
        "     {'name': 'Max', 'age': 25}]\n",
        "L.sort(key=myFunc)\n",
        "print(L)  # [{'age': 25, 'name': 'Max'}, {'age': 30, 'name': 'Bob'}, {'age': 35, 'name': 'Sam'}]"
      ],
      "metadata": {
        "id": "dXkgNhL5l71l"
      },
      "execution_count": null,
      "outputs": []
    },
    {
      "cell_type": "markdown",
      "source": [
        "Case-insensitive Sorting"
      ],
      "metadata": {
        "id": "9TnqSgycmRpx"
      }
    },
    {
      "cell_type": "code",
      "source": [
        "# By default, the sort() method sorts the list in ASCIIbetical order rather than actual alphabetical order. This means uppercase letters come before lowercase letters.\n",
        "# If you want to sort the values in regular alphabetical order, set key to str.lower\n",
        "L = ['Red', 'blue', 'Green', 'orange']\n",
        "L.sort(key=str.lower)\n",
        "print(L)  # ['blue', 'Green', 'orange', 'Red']"
      ],
      "metadata": {
        "id": "533ASwWDmR_8"
      },
      "execution_count": null,
      "outputs": []
    },
    {
      "cell_type": "markdown",
      "source": [
        "sort() vs sorted()"
      ],
      "metadata": {
        "id": "h0fDfwfxmeXs"
      }
    },
    {
      "cell_type": "code",
      "source": [
        "# The sort() method doesn’t return anything, it modifies the original list (i.e. sorts in-place).\n",
        "# If you don’t want to modify the original list, use sorted() function. It returns a sorted copy of the list.\n",
        "L = ['red', 'green', 'blue', 'orange']\n",
        "x = sorted(L)\n",
        "print(x)  # ['blue', 'green', 'orange', 'red']"
      ],
      "metadata": {
        "id": "ot-GERGCmgLo"
      },
      "execution_count": null,
      "outputs": []
    },
    {
      "cell_type": "markdown",
      "source": [
        "index() method searches for the first occurrence of the given item and returns its index. If specified item is not found, it raises ‘ValueError’ exception."
      ],
      "metadata": {
        "id": "N1gzi4RVmqoo"
      }
    },
    {
      "cell_type": "code",
      "source": [
        "L = ['a','b','c','d','e','f','a','b','c','d','e','f']\n",
        "print(L.index('c')) # 2\n",
        "\n",
        "L = ['a','b','c','d','e','f','a','b','c','d','e','f']\n",
        "print(L.index('c',5)) # 8\n",
        "\n",
        "L = ['a','b','c','d','e','f','a','b','c','d','e','f']\n",
        "print(L.index('c',5,10))  # 8\n",
        "\n",
        "# To avoid exception, you can check if item exists in a list, using in operator inside if statement.\n",
        "L = ['a','b','c','d','e','f','a','b','c','d','e','f']\n",
        "if 'x' in L:\n",
        "  print(L.index('x'))"
      ],
      "metadata": {
        "id": "HTPl2nL-mrS3"
      },
      "execution_count": null,
      "outputs": []
    },
    {
      "cell_type": "markdown",
      "source": [
        "Built-in functions with List"
      ],
      "metadata": {
        "id": "LCIy_VqpYoha"
      }
    },
    {
      "cell_type": "code",
      "source": [
        "\"\"\"\n",
        "Method\t    Description\n",
        "all()\t      Returns True if all list items are true\n",
        "any()\t      Returns True if any list item is true\n",
        "enumerate()\tTakes a list and returns an enumerate object\n",
        "len()\t      Returns the number of items in the list\n",
        "list()\t    Converts an iterable (tuple, string, set etc.) to a list\n",
        "max()\t      Returns the largest item of the list\n",
        "min()\t      Returns the smallest item of the list\n",
        "sorted()\t  Returns a sorted list\n",
        "sum()\t      Sums items of the list\n",
        "\"\"\""
      ],
      "metadata": {
        "id": "ccflIlkYYpHM"
      },
      "execution_count": null,
      "outputs": []
    },
    {
      "cell_type": "markdown",
      "source": [
        "# Python Tuple"
      ],
      "metadata": {
        "id": "b9tpUS4cY822"
      }
    },
    {
      "cell_type": "code",
      "source": [
        "# A tuple is like a list except that it uses parentheses () instead of square brackets [].\n",
        "# A tuple is an immutable list.\n",
        "\n",
        "rgb = ('red', 'green', 'blue')\n",
        "print(rgb[0])   # red\n",
        "print(rgb[1])   # green\n",
        "print(rgb[2])   # blue\n",
        "\n",
        "# mixed\n",
        "T = (1, 'abc', 1.23, True)\n",
        "\n",
        "# empty\n",
        "T = ()\n",
        "\n",
        "# You don’t need the parentheses to create a tuple. It’s the trailing commas that really define a tuple.\n",
        "# But using them doesn’t hurt; also they help make the tuple more visible.\n",
        "T = 1, 'abc', 1.23, True\n",
        "\n",
        "# nested tuple\n",
        "T = ('red', ('green', 'blue'), 'yellow')"
      ],
      "metadata": {
        "id": "BVOq8jr7ZGlI"
      },
      "execution_count": null,
      "outputs": []
    },
    {
      "cell_type": "code",
      "source": [
        "# Since a tuple is immutable, you cannot change its elements.\n",
        "rgb = ('red', 'green', 'blue')\n",
        "rgb[0] = 'yellow' # throw error - TypeError: 'tuple' object does not support item assignment"
      ],
      "metadata": {
        "id": "GTNHkfoMZS0c"
      },
      "execution_count": null,
      "outputs": []
    },
    {
      "cell_type": "code",
      "source": [
        "colors = ('red', 'green', 'blue')\n",
        "print(colors)   # ('red', 'green', 'blue')\n",
        "\n",
        "colors = ('Cyan', 'Magenta', 'Yellow', 'black')\n",
        "print(colors)   # ('Cyan', 'Magenta', 'Yellow', 'black')"
      ],
      "metadata": {
        "id": "jXww8pZbZWSZ"
      },
      "execution_count": null,
      "outputs": []
    },
    {
      "cell_type": "markdown",
      "source": [
        "Singleton Tuple"
      ],
      "metadata": {
        "id": "ZIpSGWK6pmLK"
      }
    },
    {
      "cell_type": "code",
      "source": [
        "# If you have only one value in a tuple, you can indicate this by including a trailing comma , just before the closing parentheses.\n",
        "T = (4,)\n",
        "print(type(T))  # <type 'tuple'>\n",
        "\n",
        "# Otherwise, Python will think you’ve just typed a value inside regular parentheses.\n",
        "# Not a tuple\n",
        "T = (4)\n",
        "print(type(T))  # <type 'int'>"
      ],
      "metadata": {
        "id": "3p2XIeIwpnM8"
      },
      "execution_count": null,
      "outputs": []
    },
    {
      "cell_type": "markdown",
      "source": [
        "tuple() - use to convert other data types to tuple."
      ],
      "metadata": {
        "id": "_VY0Tw5np1AD"
      }
    },
    {
      "cell_type": "code",
      "source": [
        "T = tuple([1, 2, 3])\n",
        "print(T)  # (1, 2, 3)\n",
        "\n",
        "T = tuple('abc')\n",
        "print(T)  # ('a', 'b', 'c')"
      ],
      "metadata": {
        "id": "RYYhiDXup6lM"
      },
      "execution_count": null,
      "outputs": []
    },
    {
      "cell_type": "markdown",
      "source": [
        "The tuple immutability is applicable only to the top level of the tuple itself, not to its contents. For example, a list inside a tuple can be changed as usual."
      ],
      "metadata": {
        "id": "6u4jEi7WqS6E"
      }
    },
    {
      "cell_type": "code",
      "source": [
        "T = ('red', 'green', 'blue')\n",
        "T[0] = 'black'  # Triggers TypeError: 'tuple' object does not support item assignment\n",
        "\n",
        "T = (1, [2, 3], 4)\n",
        "T[1][0] = 'xx'\n",
        "print(T)  # (1, ['xx', 3], 4)"
      ],
      "metadata": {
        "id": "50bnSXh8qTkE"
      },
      "execution_count": null,
      "outputs": []
    },
    {
      "cell_type": "markdown",
      "source": [
        "delete a tuple"
      ],
      "metadata": {
        "id": "IfCIe6P2qZuI"
      }
    },
    {
      "cell_type": "code",
      "source": [
        "T = ('red', 'green', 'blue')\n",
        "del T"
      ],
      "metadata": {
        "id": "Bvk0IfHmqa5A"
      },
      "execution_count": null,
      "outputs": []
    },
    {
      "cell_type": "markdown",
      "source": [
        "tuple concatenation & replication"
      ],
      "metadata": {
        "id": "v1HjAK-KqfN7"
      }
    },
    {
      "cell_type": "code",
      "source": [
        "# Concatenate\n",
        "T = ('red', 'green', 'blue') + (1, 2, 3)\n",
        "print(T)  # ('red', 'green', 'blue', 1, 2, 3)\n",
        "\n",
        "# Replicate\n",
        "T = ('red',) * 3\n",
        "print(T)  # ('red', 'red', 'red')"
      ],
      "metadata": {
        "id": "sW3KrzINqe3V"
      },
      "execution_count": null,
      "outputs": []
    },
    {
      "cell_type": "markdown",
      "source": [
        "len()"
      ],
      "metadata": {
        "id": "5xne1xn9qoYl"
      }
    },
    {
      "cell_type": "code",
      "source": [
        "T = ('red', 'green', 'blue')\n",
        "print(len(T)) # 3"
      ],
      "metadata": {
        "id": "fqnS2ZgcqpTB"
      },
      "execution_count": null,
      "outputs": []
    },
    {
      "cell_type": "markdown",
      "source": [
        "check item exists in tuple"
      ],
      "metadata": {
        "id": "c1j7FlPzqqUX"
      }
    },
    {
      "cell_type": "code",
      "source": [
        "T = ('red', 'green', 'blue')\n",
        "if 'red' in T:\n",
        "  print('yes')\n",
        "\n",
        "# Check for absence\n",
        "T = ('red', 'green', 'blue')\n",
        "if 'yellow' not in T:\n",
        "  print('yes')"
      ],
      "metadata": {
        "id": "EUWVV_lJqsNV"
      },
      "execution_count": null,
      "outputs": []
    },
    {
      "cell_type": "markdown",
      "source": [
        "iterate tuple"
      ],
      "metadata": {
        "id": "_EGjy9bVqxkj"
      }
    },
    {
      "cell_type": "code",
      "source": [
        "T = ('red', 'green', 'blue')\n",
        "for item in T:\n",
        "  print(item) # red green blue"
      ],
      "metadata": {
        "id": "Is-lFeOQqzws"
      },
      "execution_count": null,
      "outputs": []
    },
    {
      "cell_type": "markdown",
      "source": [
        "sort tuple"
      ],
      "metadata": {
        "id": "KaUyDKxkdF0C"
      }
    },
    {
      "cell_type": "code",
      "source": [
        "# Method 1: Use the built-in sorted() method that accepts any sequence object.\n",
        "T = ('cc', 'aa', 'dd', 'bb')\n",
        "print(tuple(sorted(T))) # ('aa', 'bb', 'cc', 'dd')\n",
        "\n",
        "# Method 2: Convert a tuple to a mutable object like list (using list constructor), gain access to a sorting method call (sort()) and convert it back to tuple.\n",
        "T = ('cc', 'aa', 'dd', 'bb')\n",
        "tmp = list(T)    # convert tuple to list\n",
        "tmp.sort()       # sort list\n",
        "T = tuple(tmp)   # convert list to tuple\n",
        "print(T)         # Prints ('aa', 'bb', 'cc', 'dd')"
      ],
      "metadata": {
        "id": "6pCI3TRNdGY3"
      },
      "execution_count": null,
      "outputs": []
    },
    {
      "cell_type": "markdown",
      "source": [
        "packing & unpacking"
      ],
      "metadata": {
        "id": "vXJnY0iNti2I"
      }
    },
    {
      "cell_type": "code",
      "source": [
        "r, g, *other = (192, 210, 100, 0.5)\n",
        "# print(r)      192\n",
        "# print(g)      210\n",
        "# print(other)  [100, 0.5]"
      ],
      "metadata": {
        "id": "LNNzo-Rhtki4"
      },
      "execution_count": null,
      "outputs": []
    },
    {
      "cell_type": "markdown",
      "source": [
        "Extras"
      ],
      "metadata": {
        "id": "7ZJmuEOQto1m"
      }
    },
    {
      "cell_type": "code",
      "source": [
        "odd_numbers = (1, 3, 5)\n",
        "even_numbers = (2, 4, 6)\n",
        "\n",
        "numbers = (odd_numbers, even_numbers)\n",
        "print(numbers)  # ((1, 3, 5), (2, 4, 6))\n",
        "\n",
        "numbers = (*odd_numbers, *even_numbers)\n",
        "print(numbers)  # (1, 3, 5, 2, 4, 6)"
      ],
      "metadata": {
        "id": "5qp31LSxtp10"
      },
      "execution_count": null,
      "outputs": []
    },
    {
      "cell_type": "markdown",
      "source": [
        "tuple methods"
      ],
      "metadata": {
        "id": "L5LEXltbrI9k"
      }
    },
    {
      "cell_type": "code",
      "source": [
        "\"\"\"\n",
        "Method\t  Description\n",
        "count()\t  Returns the count of specified item in the tuple\n",
        "index()\t  Returns the index of first instance of the specified item\n",
        "\"\"\""
      ],
      "metadata": {
        "id": "HKNZvo4VrKrz"
      },
      "execution_count": null,
      "outputs": []
    },
    {
      "cell_type": "markdown",
      "source": [
        "count() method to find the number of times the given item appears in the tuple."
      ],
      "metadata": {
        "id": "FnwFbvIfr4iN"
      }
    },
    {
      "cell_type": "code",
      "source": [
        "T = ('red', 'green', 'blue')\n",
        "print(T.count('red')) # 1\n",
        "\n",
        "T = (1, 9, 7, 3, 9, 1, 9, 2)\n",
        "print(T.count(9)) # 3\n",
        "\n",
        "# Count Multiple Items\n",
        "T = ('a', 'b', 'c', 'b', 'a', 'a', 'a')\n",
        "from collections import Counter\n",
        "print(Counter(T)) # Counter({'a': 4, 'b': 2, 'c': 1})"
      ],
      "metadata": {
        "id": "mXkqYRPVr5dI"
      },
      "execution_count": null,
      "outputs": []
    },
    {
      "cell_type": "markdown",
      "source": [
        "index() method searches for the first occurrence of the given item and returns its index. If specified item is not found, it raises ‘ValueError’ exception."
      ],
      "metadata": {
        "id": "roaK3TvMsE8Q"
      }
    },
    {
      "cell_type": "code",
      "source": [
        "T = ('a','b','c','d','e','f','a','b','c','d','e','f')\n",
        "print(T.index('c')) # 2\n",
        "\n",
        "T = ('a','b','c','d','e','f','a','b','c','d','e','f')\n",
        "print(T.index('c',5)) # 8\n",
        "\n",
        "T = ('a','b','c','d','e','f','a','b','c','d','e','f')\n",
        "print(T.index('c',5,10))  # 8\n",
        "\n",
        "T = ('a','b','c','d','e','f','a','b','c','d','e','f')\n",
        "if 'x' in T:\n",
        "    print(T.index('x'))"
      ],
      "metadata": {
        "id": "Ahf4yCrXsFnm"
      },
      "execution_count": null,
      "outputs": []
    },
    {
      "cell_type": "markdown",
      "source": [
        "Built-in functions with tuple"
      ],
      "metadata": {
        "id": "JtxFI5aDrRwu"
      }
    },
    {
      "cell_type": "code",
      "source": [
        "\"\"\"\n",
        "Method\t    Description\n",
        "all()\t      Returns True if all list items are true\n",
        "any()\t      Returns True if any list item is true\n",
        "enumerate()\tTakes a list and returns an enumerate object\n",
        "len()\t      Returns the number of items in the list\n",
        "list()\t    Converts an iterable (tuple, string, set etc.) to a list\n",
        "max()\t      Returns the largest item of the list\n",
        "min()\t      Returns the smallest item of the list\n",
        "sorted()\t  Returns a sorted list\n",
        "sum()\t      Sums items of the list\n",
        "\"\"\""
      ],
      "metadata": {
        "id": "sw6_fg0TrT8w"
      },
      "execution_count": null,
      "outputs": []
    },
    {
      "cell_type": "markdown",
      "source": [
        "# Python Map, Filter, Reduce"
      ],
      "metadata": {
        "id": "FOLq64GxoPUj"
      }
    },
    {
      "cell_type": "markdown",
      "source": [
        "map"
      ],
      "metadata": {
        "id": "1piN_UWpogWS"
      }
    },
    {
      "cell_type": "code",
      "source": [
        "bonuses = [100, 200, 300];\n",
        "modified = map(lambda bonus: bonus*2, bonuses);\n",
        "print(list(modified));  # [200, 400, 600]\n",
        "\n",
        "names = ['david', 'peter', 'jenifer']\n",
        "modified = map(lambda name: name.capitalize(), names)\n",
        "print(list(modified))   # ['David', 'Peter', 'Jenifer']\n",
        "\n",
        "carts = [\n",
        "    ['SmartPhone', 400],\n",
        "    ['Tablet', 450],\n",
        "    ['Laptop', 700]\n",
        "]\n",
        "TAX = 0.1\n",
        "carts = map(lambda item: [item[0], item[1], item[1] * TAX], carts)\n",
        "print(list(carts))  # [['SmartPhone', 400, 40.0], ['Tablet', 450, 45.0], ['Laptop', 700, 70.0]]"
      ],
      "metadata": {
        "id": "zs4QIbozohdG"
      },
      "execution_count": null,
      "outputs": []
    },
    {
      "cell_type": "markdown",
      "source": [
        "filter"
      ],
      "metadata": {
        "id": "D2WbhJYBojSW"
      }
    },
    {
      "cell_type": "code",
      "source": [
        "scores = [70, 60, 80, 90, 50]\n",
        "filtered = filter(lambda score: score >= 70, scores)\n",
        "print(list(filtered))   # [70, 80, 90]\n",
        "\n",
        "countries = [\n",
        "    ['China', 1394015977],\n",
        "    ['United States', 329877505],\n",
        "    ['India', 1326093247],\n",
        "    ['Indonesia', 267026366],\n",
        "    ['Bangladesh', 162650853],\n",
        "    ['Pakistan', 233500636],\n",
        "    ['Nigeria', 214028302],\n",
        "    ['Brazil', 21171597],\n",
        "    ['Russia', 141722205],\n",
        "    ['Mexico', 128649565]\n",
        "]\n",
        "populated = filter(lambda c: c[1] > 300000000, countries)\n",
        "print(list(populated))  # [['China', 1394015977], ['India', 1326093247], ['United States', 329877505]]"
      ],
      "metadata": {
        "id": "TPkqVBGBokCJ"
      },
      "execution_count": null,
      "outputs": []
    },
    {
      "cell_type": "markdown",
      "source": [
        "reduce"
      ],
      "metadata": {
        "id": "07BWJZOnomHT"
      }
    },
    {
      "cell_type": "code",
      "source": [
        "from functools import reduce\n",
        "\n",
        "scores = [75, 65, 80, 95, 50]\n",
        "total = reduce(lambda a, b: a + b, scores)\n",
        "print(total)    # 365"
      ],
      "metadata": {
        "id": "7tKgTMZUomqV"
      },
      "execution_count": null,
      "outputs": []
    },
    {
      "cell_type": "markdown",
      "source": [
        "# Python Dictionary"
      ],
      "metadata": {
        "id": "ZGdZrM5RtTBm"
      }
    },
    {
      "cell_type": "markdown",
      "source": [
        "A Python dictionary is a collection of key-value pairs where each key is associated with a value.\n",
        "\n",
        "A value in the key-value pair can be a number, a string, a list, a tuple, or even another dictionary. In fact, you can use a value of any valid type in Python as the value in the key-value pair."
      ],
      "metadata": {
        "id": "xuB6KTovtXeb"
      }
    },
    {
      "cell_type": "code",
      "source": [
        "person = {\n",
        "    'name': 'Bob',\n",
        "    'age': 25,\n",
        "    'job': 'Dev',\n",
        "    'city': 'New York',\n",
        "    'email': 'bob@web.com'\n",
        "}\n",
        "print(person['name']) # Bob\n",
        "print(person['age'])  # 25\n",
        "\n",
        "print(person['salary'])  # Triggers KeyError: 'salary'\n",
        "\n",
        "# When key is present\n",
        "print(person.get('name'))  # Bob\n",
        "\n",
        "# When key is absent\n",
        "print(person.get('salary'))  # None"
      ],
      "metadata": {
        "id": "5It8v5bvuXJC"
      },
      "execution_count": null,
      "outputs": []
    },
    {
      "cell_type": "markdown",
      "source": [
        "You can convert two-value sequences into a dictionary with Python’s dict() constructor. The first item in each sequence is used as the key and the second as the value."
      ],
      "metadata": {
        "id": "fbcZ4fwOvLZS"
      }
    },
    {
      "cell_type": "code",
      "source": [
        "L = [('name', 'Bob'),\n",
        "     ('age', 25),\n",
        "     ('job', 'Dev')]\n",
        "D = dict(L)\n",
        "print(D)  # {'name': 'Bob', 'age': 25, 'job': 'Dev'}\n",
        "\n",
        "T = (['name', 'Bob'],\n",
        "     ['age', 25],\n",
        "     ['job', 'Dev'])\n",
        "D = dict(T)\n",
        "print(D)  # {'name': 'Bob', 'age': 25, 'job': 'Dev'}\n",
        "\n",
        "D = dict(name = 'Bob',\n",
        "         age = 25,\n",
        "         job = 'Dev')\n",
        "print(D)  # {'name': 'Bob', 'age': 25, 'job': 'Dev'}\n",
        "\n",
        "keys = ['name', 'age', 'job']\n",
        "values = ['Bob', 25, 'Dev']\n",
        "D = dict(zip(keys, values))\n",
        "print(D)  # {'name': 'Bob', 'age': 25, 'job': 'Dev'}\n",
        "\n",
        "keys = ['a', 'b', 'c']\n",
        "defaultValue = 0\n",
        "D = dict.fromkeys(keys,defaultValue)\n",
        "print(D)  # {'a': 0, 'b': 0, 'c': 0}\n",
        "\n",
        "keys = ['name', 'age', 'job']\n",
        "values = ['Bob', 25, 'Dev']\n",
        "D = list(zip(keys, values))\n",
        "print(D)  # [('name', 'Bob'), ('age', 25), ('job', 'Dev')]"
      ],
      "metadata": {
        "id": "0JAXl5x_vMw0"
      },
      "execution_count": null,
      "outputs": []
    },
    {
      "cell_type": "markdown",
      "source": [
        "Important Properties of a Dictionary"
      ],
      "metadata": {
        "id": "QCEmQZnFwXWW"
      }
    },
    {
      "cell_type": "code",
      "source": [
        "# Keys must be unique:\n",
        "D = {'name': 'Bob',\n",
        "     'age': 25,\n",
        "     'name': 'Jane'}\n",
        "print(D)  # {'name': 'Jane', 'age': 25}\n",
        "\n",
        "# Key must be immutable type:\n",
        "# You can use any object of immutable type as dictionary keys – such as numbers, strings, booleans or tuples.\n",
        "D = {\n",
        "    (2,2): 25,\n",
        "    True: 'a',\n",
        "    'name': 'Bob'\n",
        "}\n",
        "\n",
        "# An exception is raised when mutable object is used as a key.\n",
        "# TypeError: unhashable type: 'list'\n",
        "D = {\n",
        "    [2,2]: 25,\n",
        "    'name': 'Bob'\n",
        "}"
      ],
      "metadata": {
        "id": "egqriVMAwX7D"
      },
      "execution_count": null,
      "outputs": []
    },
    {
      "cell_type": "markdown",
      "source": [
        "Add or Update Dictionary Items"
      ],
      "metadata": {
        "id": "XwIoKh_iw9qu"
      }
    },
    {
      "cell_type": "code",
      "source": [
        "D = {\n",
        "    'name': 'Bob',\n",
        "    'age': 25,\n",
        "    'job': 'Dev'\n",
        "}\n",
        "\n",
        "D['name'] = 'Sam'\n",
        "print(D)  # {'name': 'Sam', 'age': 25, 'job': 'Dev'}\n",
        "\n",
        "D['city'] = 'New York'\n",
        "print(D)  # {'name': 'Bob', 'age': 25, 'job': 'Dev', 'city': 'New York'}"
      ],
      "metadata": {
        "id": "fS0cFRUCw-Ox"
      },
      "execution_count": null,
      "outputs": []
    },
    {
      "cell_type": "markdown",
      "source": [
        "Merge Two Dictionaries"
      ],
      "metadata": {
        "id": "mz9zSArtxRTz"
      }
    },
    {
      "cell_type": "code",
      "source": [
        "D1 = {'name': 'Bob',\n",
        "      'age': 25,\n",
        "      'job': 'Dev'}\n",
        "\n",
        "D2 = {'age': 30,\n",
        "      'city': 'New York',\n",
        "      'email': 'bob@web.com'}\n",
        "\n",
        "D1.update(D2)\n",
        "print(D1) # {'name': 'Bob', 'age': 30, 'job': 'Dev', 'city': 'New York', 'email': 'bob@web.com'}"
      ],
      "metadata": {
        "id": "nrb32PZ2xR6Z"
      },
      "execution_count": null,
      "outputs": []
    },
    {
      "cell_type": "markdown",
      "source": [
        "Remove Dictionary Items"
      ],
      "metadata": {
        "id": "9rREnktGxZOG"
      }
    },
    {
      "cell_type": "code",
      "source": [
        "D = {'name': 'Bob',\n",
        "     'age': 25,\n",
        "     'job': 'Dev'}\n",
        "\n",
        "x = D.pop('age')\n",
        "print(D)  # {'name': 'Bob', 'job': 'Dev'}\n",
        "print(x)  # get removed value i.e 25\n",
        "\n",
        "D = {'name': 'Bob',\n",
        "     'age': 25,\n",
        "     'job': 'Dev'}\n",
        "\n",
        "del D['age']\n",
        "print(D)  # {'name': 'Bob', 'job': 'Dev'}\n",
        "\n",
        "D = {'name': 'Bob',\n",
        "     'age': 25,\n",
        "     'job': 'Dev'}\n",
        "\n",
        "x = D.popitem()\n",
        "print(D)  # {'name': 'Bob', 'age': 25}\n",
        "print(x)  # get removed pair ('job', 'Dev')\n",
        "\n",
        "D = {'name': 'Bob',\n",
        "     'age': 25,\n",
        "     'job': 'Dev'}\n",
        "\n",
        "D.clear()\n",
        "print(D)  # {}"
      ],
      "metadata": {
        "id": "_I5vSQVuxZx4"
      },
      "execution_count": null,
      "outputs": []
    },
    {
      "cell_type": "markdown",
      "source": [
        "get all keys, values, entries"
      ],
      "metadata": {
        "id": "MYB1-0Y8xyED"
      }
    },
    {
      "cell_type": "code",
      "source": [
        "D = {'name': 'Bob',\n",
        "     'age': 25,\n",
        "     'job': 'Dev'}\n",
        "\n",
        "print(list(D.keys())) # ['name', 'age', 'job']\n",
        "\n",
        "print(list(D.values())) # ['Bob', 25, 'Dev']\n",
        "\n",
        "print(list(D.items()))  # [('name', 'Bob'), ('age', 25), ('job', 'Dev')]"
      ],
      "metadata": {
        "id": "lvx7ATz3x0Wk"
      },
      "execution_count": null,
      "outputs": []
    },
    {
      "cell_type": "markdown",
      "source": [
        "Iterate Through a Dictionary"
      ],
      "metadata": {
        "id": "TfDsc3bKyDlU"
      }
    },
    {
      "cell_type": "code",
      "source": [
        "D = {'name': 'Bob',\n",
        "     'age': 25,\n",
        "     'job': 'Dev'}\n",
        "\n",
        "for x in D:\n",
        "    print(x)  # name age job\n",
        "\n",
        "D = {'name': 'Bob',\n",
        "     'age': 25,\n",
        "     'job': 'Dev'}\n",
        "\n",
        "for x in D:\n",
        "    print(D[x]) # Bob 25 Dev"
      ],
      "metadata": {
        "id": "y4rLjN7HyEEJ"
      },
      "execution_count": null,
      "outputs": []
    },
    {
      "cell_type": "markdown",
      "source": [
        "Check if a Key or Value Exists"
      ],
      "metadata": {
        "id": "ro3Ldxa2yMy7"
      }
    },
    {
      "cell_type": "code",
      "source": [
        "D = {'name': 'Bob',\n",
        "     'age': 25,\n",
        "     'job': 'Dev'}\n",
        "\n",
        "print('name' in D)    # True\n",
        "print('salary' in D)  # False\n",
        "\n",
        "D = {'name': 'Bob',\n",
        "     'age': 25,\n",
        "     'job': 'Dev'}\n",
        "\n",
        "print('Bob' in D.values())  # True\n",
        "print('Sam' in D.values())  # False"
      ],
      "metadata": {
        "id": "_DWPS6K7yNWt"
      },
      "execution_count": null,
      "outputs": []
    },
    {
      "cell_type": "markdown",
      "source": [
        "dictionary length"
      ],
      "metadata": {
        "id": "tTq2VO2tyaHq"
      }
    },
    {
      "cell_type": "code",
      "source": [
        "D = {'name': 'Bob',\n",
        "     'age': 25,\n",
        "     'job': 'Dev'}\n",
        "\n",
        "print(len(D)) # 3"
      ],
      "metadata": {
        "id": "xn32thZiyb3y"
      },
      "execution_count": null,
      "outputs": []
    },
    {
      "cell_type": "markdown",
      "source": [
        "Nested Dictionary & dict() constructor"
      ],
      "metadata": {
        "id": "AxM2uVjjy682"
      }
    },
    {
      "cell_type": "code",
      "source": [
        "D = {'emp1': {'name': 'Bob', 'job': 'Mgr'},\n",
        "     'emp2': {'name': 'Kim', 'job': 'Dev'},\n",
        "     'emp3': {'name': 'Sam', 'job': 'Dev'}}\n",
        "\n",
        "D = dict(emp1 = {'name': 'Bob', 'job': 'Mgr'},\n",
        "         emp2 = {'name': 'Kim', 'job': 'Dev'},\n",
        "         emp3 = {'name': 'Sam', 'job': 'Dev'})\n",
        "print(D)\n",
        "#        {'emp1': {'name': 'Bob', 'job': 'Mgr'},\n",
        "#         'emp2': {'name': 'Kim', 'job': 'Dev'},\n",
        "#         'emp3': {'name': 'Sam', 'job': 'Dev'}}\n",
        "\n",
        "IDs = ['emp1','emp2','emp3']\n",
        "EmpInfo = [{'name': 'Bob', 'job': 'Mgr'},\n",
        "           {'name': 'Kim', 'job': 'Dev'},\n",
        "           {'name': 'Sam', 'job': 'Dev'}]\n",
        "D = dict(zip(IDs, EmpInfo))\n",
        "print(D)\n",
        "#        {'emp1': {'name': 'Bob', 'job': 'Mgr'},\n",
        "#         'emp2': {'name': 'Kim', 'job': 'Dev'},\n",
        "#         'emp3': {'name': 'Sam', 'job': 'Dev'}}\n",
        "\n",
        "IDs = ['emp1','emp2','emp3']\n",
        "Defaults = {'name': '', 'job': ''}\n",
        "D = dict.fromkeys(IDs, Defaults)\n",
        "print(D)\n",
        "#        {'emp1': {'name': '', 'job': ''},\n",
        "#         'emp2': {'name': '', 'job': ''},\n",
        "#         'emp3': {'name': '', 'job': ''}}"
      ],
      "metadata": {
        "id": "mNIO1Fq4y7l_"
      },
      "execution_count": null,
      "outputs": []
    },
    {
      "cell_type": "markdown",
      "source": [
        "Access Nested Dictionary Items"
      ],
      "metadata": {
        "id": "ZOPkW3edz6bi"
      }
    },
    {
      "cell_type": "code",
      "source": [
        "D = {'emp1': {'name': 'Bob', 'job': 'Mgr'},\n",
        "     'emp2': {'name': 'Kim', 'job': 'Dev'},\n",
        "     'emp3': {'name': 'Sam', 'job': 'Dev'}}\n",
        "print(D['emp1']['name'])  # Bob\n",
        "print(D['emp2']['job'])   # Dev\n",
        "\n",
        "print(D['emp1']['salary'])  # Triggers KeyError: 'salary'\n",
        "\n",
        "# key present\n",
        "print(D['emp1'].get('name'))  # Bob\n",
        "\n",
        "# key absent\n",
        "print(D['emp1'].get('salary'))  # None"
      ],
      "metadata": {
        "id": "HbXnbcuhz-Pe"
      },
      "execution_count": null,
      "outputs": []
    },
    {
      "cell_type": "markdown",
      "source": [
        "Change Nested Dictionary Items"
      ],
      "metadata": {
        "id": "Fk8Gtpwd0R-g"
      }
    },
    {
      "cell_type": "code",
      "source": [
        "D = {'emp1': {'name': 'Bob', 'job': 'Mgr'},\n",
        "     'emp2': {'name': 'Kim', 'job': 'Dev'},\n",
        "     'emp3': {'name': 'Sam', 'job': 'Dev'}}\n",
        "\n",
        "D['emp3']['name'] = 'Max'\n",
        "D['emp3']['job'] = 'Janitor'\n",
        "\n",
        "print(D['emp3'])  # {'name': 'Max', 'job': 'Janitor'}"
      ],
      "metadata": {
        "id": "wH7qkoiH0Sf2"
      },
      "execution_count": null,
      "outputs": []
    },
    {
      "cell_type": "markdown",
      "source": [
        "Add or Update Nested Dictionary Items"
      ],
      "metadata": {
        "id": "yZiVvp1K0W5r"
      }
    },
    {
      "cell_type": "code",
      "source": [
        "D = {'emp1': {'name': 'Bob', 'job': 'Mgr'},\n",
        "     'emp2': {'name': 'Kim', 'job': 'Dev'},\n",
        "     'emp3': {'name': 'Sam', 'job': 'Dev'}}\n",
        "\n",
        "D['emp3'] = {'name': 'Max', 'job': 'Janitor'}\n",
        "\n",
        "print(D)\n",
        "#        {'emp1': {'name': 'Bob', 'job': 'Mgr'},\n",
        "#         'emp2': {'name': 'Kim', 'job': 'Dev'},\n",
        "#         'emp3': {'name': 'Max', 'job': 'Janitor'}}\n",
        "\n",
        "D = {'emp1': {'name': 'Bob', 'job': 'Mgr'},\n",
        "     'emp2': {'name': 'Kim', 'job': 'Dev'},\n",
        "     'emp3': {'name': 'Sam', 'job': 'Dev'}}\n",
        "\n",
        "D['emp4'] = {'name': 'Max', 'job': 'Janitor'}\n",
        "\n",
        "print(D)\n",
        "#        {'emp1': {'name': 'Bob', 'job': 'Mgr'},\n",
        "#         'emp2': {'name': 'Kim', 'job': 'Dev'},\n",
        "#         'emp3': {'name': 'Sam', 'job': 'Dev'},\n",
        "#         'emp4': {'name': 'Max', 'job': 'Janitor'}}"
      ],
      "metadata": {
        "id": "uP2rJkVB0Xd8"
      },
      "execution_count": null,
      "outputs": []
    },
    {
      "cell_type": "markdown",
      "source": [
        "Merge Two Nested Dictionaries"
      ],
      "metadata": {
        "id": "fHK3e-9p0gCU"
      }
    },
    {
      "cell_type": "code",
      "source": [
        "D1 = {'emp1': {'name': 'Bob', 'job': 'Mgr'},\n",
        "      'emp2': {'name': 'Kim', 'job': 'Dev'}}\n",
        "\n",
        "D2 = {'emp2': {'name': 'Sam', 'job': 'Dev'},\n",
        "      'emp3': {'name': 'Max', 'job': 'Janitor'}}\n",
        "\n",
        "D1.update(D2)\n",
        "\n",
        "print(D1)\n",
        "#        {'emp1': {'name': 'Bob', 'job': 'Mgr'},\n",
        "#         'emp2': {'name': 'Sam', 'job': 'Dev'},\n",
        "#         'emp3': {'name': 'Max', 'job': 'Janitor'}}"
      ],
      "metadata": {
        "id": "UVhPUBFp0gzH"
      },
      "execution_count": null,
      "outputs": []
    },
    {
      "cell_type": "markdown",
      "source": [
        "Remove Nested Dictionary Items"
      ],
      "metadata": {
        "id": "I5Ry6c610k7c"
      }
    },
    {
      "cell_type": "code",
      "source": [
        "D = {'emp1': {'name': 'Bob', 'job': 'Mgr'},\n",
        "     'emp2': {'name': 'Kim', 'job': 'Dev'},\n",
        "     'emp3': {'name': 'Sam', 'job': 'Dev'}}\n",
        "\n",
        "x = D.pop('emp3')\n",
        "\n",
        "print(D)\n",
        "#      {'emp1': {'name': 'Bob', 'job': 'Mgr'},\n",
        "#       'emp2': {'name': 'Kim', 'job': 'Dev'}}\n",
        "\n",
        "# get removed value\n",
        "print(x)\n",
        "#      {'name': 'Sam', 'job': 'Dev'}\n",
        "\n",
        "D = {'emp1': {'name': 'Bob', 'job': 'Mgr'},\n",
        "     'emp2': {'name': 'Kim', 'job': 'Dev'},\n",
        "     'emp3': {'name': 'Sam', 'job': 'Dev'}}\n",
        "\n",
        "del D['emp3']\n",
        "\n",
        "print(D)\n",
        "#        {'emp1': {'name': 'Bob', 'job': 'Mgr'},\n",
        "#         'emp2': {'name': 'Kim', 'job': 'Dev'}}"
      ],
      "metadata": {
        "id": "vZEEddWx0lkJ"
      },
      "execution_count": null,
      "outputs": []
    },
    {
      "cell_type": "markdown",
      "source": [
        "Remove Last Inserted Item"
      ],
      "metadata": {
        "id": "P20iZ-XG0w2s"
      }
    },
    {
      "cell_type": "code",
      "source": [
        "D = {'emp1': {'name': 'Bob', 'job': 'Mgr'},\n",
        "     'emp2': {'name': 'Kim', 'job': 'Dev'},\n",
        "     'emp3': {'name': 'Sam', 'job': 'Dev'}}\n",
        "\n",
        "x = D.popitem()\n",
        "\n",
        "print(D)\n",
        "#        {'emp1': {'name': 'Bob', 'job': 'Mgr'},\n",
        "#         'emp2': {'name': 'Kim', 'job': 'Dev'}}\n",
        "\n",
        "# get removed pair\n",
        "print(x)\n",
        "#        ('emp3', {'name': 'Sam', 'job': 'Dev'})"
      ],
      "metadata": {
        "id": "6s6RM5Vh0xg_"
      },
      "execution_count": null,
      "outputs": []
    },
    {
      "cell_type": "markdown",
      "source": [
        "Iterate Through a Nested Dictionary"
      ],
      "metadata": {
        "id": "WiPU40rr025b"
      }
    },
    {
      "cell_type": "code",
      "source": [
        "D = {'emp1': {'name': 'Bob', 'job': 'Mgr'},\n",
        "     'emp2': {'name': 'Kim', 'job': 'Dev'},\n",
        "     'emp3': {'name': 'Sam', 'job': 'Dev'}}\n",
        "\n",
        "for id, info in D.items():\n",
        "    print(\"\\nEmployee ID:\", id)\n",
        "    for key in info:\n",
        "        print(key + ':', info[key])\n",
        "\n",
        "# Prints Employee ID: emp1\n",
        "#        name: Bob\n",
        "#        job: Mgr\n",
        "\n",
        "#        Employee ID: emp2\n",
        "#        name: Kim\n",
        "#        job: Dev\n",
        "\n",
        "#        Employee ID: emp3\n",
        "#        name: Sam\n",
        "#        job: Dev"
      ],
      "metadata": {
        "id": "Hivh26_e03Zw"
      },
      "execution_count": null,
      "outputs": []
    },
    {
      "cell_type": "markdown",
      "source": [
        "Dictionary Comprehension"
      ],
      "metadata": {
        "id": "T15Turxv09KN"
      }
    },
    {
      "cell_type": "code",
      "source": [
        "\"\"\"\n",
        "D = {}\n",
        "D[0] = 0\n",
        "D[1] = 1\n",
        "D[2] = 4\n",
        "D[3] = 9\n",
        "D[4] = 16\n",
        "print(D)\n",
        "# Prints {0: 0, 1: 1, 2: 4, 3: 9, 4: 16}\n",
        "\n",
        "D = {}\n",
        "for x in range(5):\n",
        "    D[x] = x**2\n",
        "\n",
        "print(D)\n",
        "# Prints {0: 0, 1: 1, 2: 4, 3: 9, 4: 16}\n",
        "\"\"\"\n",
        "\n",
        "D = {x: x**2 for x in range(5)}\n",
        "print(D)  # {0: 0, 1: 1, 2: 4, 3: 9, 4: 16}\n",
        "\n",
        "D = {c: c * 3 for c in 'RED'}\n",
        "print(D)  # {'R': 'RRR', 'E': 'EEE', 'D': 'DDD'}\n",
        "\n",
        "L = ['ReD', 'GrEeN', 'BlUe']\n",
        "D = {c.lower(): c.upper() for c in L}\n",
        "print(D)  # {'blue': 'BLUE', 'green': 'GREEN', 'red': 'RED'}"
      ],
      "metadata": {
        "id": "yTaIVc-f0-Ef"
      },
      "execution_count": null,
      "outputs": []
    },
    {
      "cell_type": "markdown",
      "source": [
        "Extracting a Subset of a Dictionary"
      ],
      "metadata": {
        "id": "aR0kyosS2J8n"
      }
    },
    {
      "cell_type": "code",
      "source": [
        "D = {0: 'A', 1: 'B', 2: 'C', 3: 'D', 4: 'E', 5: 'F'}\n",
        "selectedKeys = [0, 2, 5]\n",
        "X = {k: D[k] for k in selectedKeys}\n",
        "print(X)  # {0: 'A', 2: 'C', 5: 'F'}"
      ],
      "metadata": {
        "id": "gy4fWKUv2Lis"
      },
      "execution_count": null,
      "outputs": []
    },
    {
      "cell_type": "markdown",
      "source": [
        "Filter Dictionary Contents"
      ],
      "metadata": {
        "id": "URlNLg4-2Opx"
      }
    },
    {
      "cell_type": "code",
      "source": [
        "D = {0: 'A', 1: 'B', 2: 'C', 3: 'D', 4: 'E', 5: 'F'}\n",
        "removeKeys = [0, 2, 5]\n",
        "X = {k: D[k] for k in D.keys() - removeKeys}\n",
        "print(X)  # {1: 'B', 3: 'D', 4: 'E'}"
      ],
      "metadata": {
        "id": "eHal3e_52NRO"
      },
      "execution_count": null,
      "outputs": []
    },
    {
      "cell_type": "markdown",
      "source": [
        "Invert Mapping / Reverse lookup"
      ],
      "metadata": {
        "id": "UykG4Mxf2sAj"
      }
    },
    {
      "cell_type": "code",
      "source": [
        "D = {0: 'red', 1: 'green', 2: 'blue'}\n",
        "R = {v: k for k,v in D.items()}\n",
        "print(R)  # {'red': 0, 'green': 1, 'blue': 2}"
      ],
      "metadata": {
        "id": "HmFJG4yl2ss0"
      },
      "execution_count": null,
      "outputs": []
    },
    {
      "cell_type": "markdown",
      "source": [
        "Dictionary Comprehension with Enumerate"
      ],
      "metadata": {
        "id": "S82XbNpH21io"
      }
    },
    {
      "cell_type": "code",
      "source": [
        "L = ['red', 'green', 'blue']\n",
        "D = {k:v for k,v in enumerate(L)}\n",
        "print(D)  # {0: 'red', 1: 'green', 2: 'blue'}"
      ],
      "metadata": {
        "id": "12dsQMFu22Cy"
      },
      "execution_count": null,
      "outputs": []
    },
    {
      "cell_type": "markdown",
      "source": [
        "Initialize Dictionary with Comprehension"
      ],
      "metadata": {
        "id": "cc0ZrCwJ3Fd7"
      }
    },
    {
      "cell_type": "code",
      "source": [
        "keys = ['red', 'green', 'blue']\n",
        "\n",
        "# using dict comprehension\n",
        "D = {k: 0 for k in keys}\n",
        "print(D)  # {'red': 0, 'green': 0, 'blue': 0}\n",
        "\n",
        "# equivalent to using fromkeys() method\n",
        "D = dict.fromkeys(keys, 0)\n",
        "print(D)  # {'red': 0, 'green': 0, 'blue': 0}\n",
        "\n",
        "keys = ['name', 'age', 'job']\n",
        "values = ['Bob', 25, 'Dev']\n",
        "\n",
        "# using dict comprehension\n",
        "D = {k: v for (k, v) in zip(keys, values)}\n",
        "print(D)  # {'name': 'Bob', 'age': 25, 'job': 'Dev'}\n",
        "\n",
        "# equivalent to using dict() on zipped keys/values\n",
        "D = dict(zip(keys, values))\n",
        "print(D)  # {'name': 'Bob', 'age': 25, 'job': 'Dev'}"
      ],
      "metadata": {
        "id": "2nRMT2dT3F_B"
      },
      "execution_count": null,
      "outputs": []
    },
    {
      "cell_type": "markdown",
      "source": [
        "Dictionary Comprehension with if Clause"
      ],
      "metadata": {
        "id": "XVPeL5cI3VAy"
      }
    },
    {
      "cell_type": "code",
      "source": [
        "D = {x: x**2 for x in range(6) if x % 2 == 0}\n",
        "\n",
        "print(D)  # {0: 0, 2: 4, 4: 16}"
      ],
      "metadata": {
        "id": "gjuuCL0N3VjR"
      },
      "execution_count": null,
      "outputs": []
    },
    {
      "cell_type": "markdown",
      "source": [
        "Nested Dictionary Comprehension"
      ],
      "metadata": {
        "id": "tc5gAGIz3Zs8"
      }
    },
    {
      "cell_type": "code",
      "source": [
        "D = {(k,v): k+v for k in range(2) for v in range(2)}\n",
        "print(D)  # {(0, 1): 1, (1, 0): 1, (0, 0): 0, (1, 1): 2}\n",
        "\n",
        "# is equivalent to\n",
        "D = {}\n",
        "for k in range(2):\n",
        "    for v in range(2):\n",
        "        D[(k,v)] = k+v\n",
        "print(D)  # {(0, 1): 1, (1, 0): 1, (0, 0): 0, (1, 1): 2}"
      ],
      "metadata": {
        "id": "Z4Oxb4Fr3aPI"
      },
      "execution_count": null,
      "outputs": []
    },
    {
      "cell_type": "markdown",
      "source": [
        "dictionary methods"
      ],
      "metadata": {
        "id": "X45aPTtWyrDb"
      }
    },
    {
      "cell_type": "code",
      "source": [
        "\"\"\"\n",
        "Method\t      Description\n",
        "clear()\t      Removes all items from the dictionary\n",
        "copy()\t      Returns a shallow copy of the dictionary\n",
        "fromkeys()\t  Creates a new dictionary with the specified keys and values\n",
        "get()\t        Returns the value of the specified key\n",
        "items()\t      Returns a list of key:value pair\n",
        "keys()\t      Returns a list of all keys from dictionary\n",
        "pop()\t        Removes and returns single dictionary item with specified key.\n",
        "popitem()\t    Removes and returns last inserted key:value pair from the dictionary.\n",
        "setdefault()\tReturns the value of the specified key, if present. Else, inserts the key with a specified value.\n",
        "update()\t    Updates the dictionary with the specified key:value pairs\n",
        "values()\t    Returns a list of all values from dictionary\n",
        "\"\"\""
      ],
      "metadata": {
        "id": "0u63x_fsyuor"
      },
      "execution_count": null,
      "outputs": []
    },
    {
      "cell_type": "markdown",
      "source": [
        "clear() method to remove all items from the dictionary. This method does not return anything; it modifies the dictionary in place."
      ],
      "metadata": {
        "id": "44UFKxeC3i10"
      }
    },
    {
      "cell_type": "code",
      "source": [
        "D = {'name': 'Bob', 'age': 25}\n",
        "D.clear()\n",
        "print(D)  # {}"
      ],
      "metadata": {
        "id": "q0M4di_i3jao"
      },
      "execution_count": null,
      "outputs": []
    },
    {
      "cell_type": "markdown",
      "source": [
        "clear() vs Assigning Empty Dictionary"
      ],
      "metadata": {
        "id": "A1RZCxwp3pG7"
      }
    },
    {
      "cell_type": "code",
      "source": [
        "# old_Dict = {} does not empty the dictionary in-place, it just overwrites the variable with a different dictionary which happens to be empty.\n",
        "# If anyone else like new_Dict had a reference to the original dictionary,\n",
        "old_Dict = {'name': 'Bob', 'age': 25}\n",
        "new_Dict = old_Dict\n",
        "old_Dict = {}\n",
        "print(old_Dict) # {}\n",
        "print(new_Dict) # {'age': 25, 'name': 'xx'}\n",
        "\n",
        "# On the contrary, clear() method empties the dictionary in-place. So, all the references are cleared as well.\n",
        "old_Dict = {'name': 'Bob', 'age': 25}\n",
        "new_Dict = old_Dict\n",
        "old_Dict.clear()\n",
        "print(old_Dict) # {}\n",
        "print(new_Dict) # {}"
      ],
      "metadata": {
        "id": "H6WhthME3pnu"
      },
      "execution_count": null,
      "outputs": []
    },
    {
      "cell_type": "markdown",
      "source": [
        "pop() method removes it and returns its value. You can also specify the default parameter that will be returned if the specified key is not found."
      ],
      "metadata": {
        "id": "wDBncJHb4DIS"
      }
    },
    {
      "cell_type": "code",
      "source": [
        "D = {'name': 'Bob', 'age': 25}\n",
        "v = D.pop('age')\n",
        "print(v)  # 25\n",
        "\n",
        "D = {'name': 'Bob', 'age': 25}\n",
        "D.pop('job')  # Triggers KeyError: 'job'\n",
        "\n",
        "# default paramter\n",
        "D.pop('job', None)"
      ],
      "metadata": {
        "id": "1SWGoh7u4Dqa"
      },
      "execution_count": null,
      "outputs": []
    },
    {
      "cell_type": "markdown",
      "source": [
        "copy() method returns the Shallow copy of the specified dictionary."
      ],
      "metadata": {
        "id": "yfvdcY8G4OAx"
      }
    },
    {
      "cell_type": "code",
      "source": [
        "old_Dict = {'name': 'Bob', 'age': 25}\n",
        "new_Dict = old_Dict.copy()\n",
        "new_Dict['name'] = 'xx'\n",
        "print(old_Dict) # {'age': 25, 'name': 'Bob'}\n",
        "print(new_Dict) # {'age': 25, 'name': 'xx'}\n",
        "\n",
        "# Equivalent Method\n",
        "D = {'name': 'Bob', 'age': 25}\n",
        "X = {k:v for k,v in D.items()}\n",
        "print(X)  # {'age': 25, 'name': 'Bob'}"
      ],
      "metadata": {
        "id": "WOXgR1045CfP"
      },
      "execution_count": null,
      "outputs": []
    },
    {
      "cell_type": "markdown",
      "source": [
        "popitem() method removes and returns the last inserted key:value pair from the dictionary. Pairs are returned in Last In First Out (LIFO) order."
      ],
      "metadata": {
        "id": "sldrGHFO5UBS"
      }
    },
    {
      "cell_type": "code",
      "source": [
        "D = {'name': 'Bob', 'age': 25}\n",
        "v = D.popitem()\n",
        "print(v)  # ('age', 25)\n",
        "\n",
        "# popitem() on Empty Dictionary Triggers KeyError: 'popitem(): dictionary is empty'\n",
        "# solution\n",
        "D = {}\n",
        "if D:\n",
        "    D.popitem()"
      ],
      "metadata": {
        "id": "SrGqr1Wn5Uny"
      },
      "execution_count": null,
      "outputs": []
    },
    {
      "cell_type": "markdown",
      "source": [
        "fromkeys() method creates a new dictionary with default value for all specified keys."
      ],
      "metadata": {
        "id": "uXx1NHNt5rvR"
      }
    },
    {
      "cell_type": "code",
      "source": [
        "D = dict.fromkeys(['Bob', 'Sam'], 'Developer')\n",
        "print(D)  # {'Bob': 'Developer', 'Sam': 'Developer'}\n",
        "\n",
        "D = dict.fromkeys(['Bob', 'Sam'])\n",
        "print(D)  # {'Bob': None, 'Sam': None}\n",
        "\n",
        "# alternatives\n",
        "L = ['Bob', 'Sam']\n",
        "D = {key:'Developer' for key in L}\n",
        "print(D)  # {'Bob': 'Developer', 'Sam': 'Developer'}\n",
        "\n",
        "L = ['Bob', 'Sam']\n",
        "D = {key:None for key in L}\n",
        "print(D)  # {'Bob': None, 'Sam': None}"
      ],
      "metadata": {
        "id": "DVUAB0Bh5sW5"
      },
      "execution_count": null,
      "outputs": []
    },
    {
      "cell_type": "markdown",
      "source": [
        "setdefault() method returns the value for key if key is in the dictionary. If not, it inserts key with a value of default and returns default."
      ],
      "metadata": {
        "id": "aUMTpf_u6Jru"
      }
    },
    {
      "cell_type": "code",
      "source": [
        "D = {'name': 'Bob', 'age': 25}\n",
        "v = D.setdefault('job', 'Dev')\n",
        "print(D)  # {'job': 'Dev', 'age': 25, 'name': 'Bob'}\n",
        "print(v)  # Dev\n",
        "\n",
        "# without default specified\n",
        "D = {'name': 'Bob', 'age': 25}\n",
        "v = D.setdefault('name')\n",
        "print(v)  # Bob\n",
        "\n",
        "# with default specified\n",
        "D = {'name': 'Bob', 'age': 25}\n",
        "v = D.setdefault('name', 'Max')\n",
        "print(v)  # Bob\n",
        "\n",
        "D = {'name': 'Bob', 'age': 25}\n",
        "v = D.setdefault('job')\n",
        "print(D)  # {'job': None, 'age': 25, 'name': 'Bob'}\n",
        "print(v)  # None"
      ],
      "metadata": {
        "id": "GHD_JRr36Nrj"
      },
      "execution_count": null,
      "outputs": []
    },
    {
      "cell_type": "markdown",
      "source": [
        "get() method returns the value for key if key is in the dictionary.\n",
        "\n",
        "You can also specify the default parameter that will be returned if the specified key is not found. If default is not specified, it returns None. Therefore, this method never raises a KeyError."
      ],
      "metadata": {
        "id": "cotshR_x69Js"
      }
    },
    {
      "cell_type": "code",
      "source": [
        "D = {'name': 'Bob', 'age': 25}\n",
        "print(D.get('name'))  # Bob\n",
        "\n",
        "D = {'name': 'Bob', 'age': 25}\n",
        "print(D.get('job')) # None\n",
        "\n",
        "D = {'name': 'Bob', 'age': 25, 'job': 'Manager'}\n",
        "print(D.get('job', 'Developer'))  # Manager\n",
        "\n",
        "D = {'name': 'Bob', 'age': 25}\n",
        "print(D.get('job','Developer')) # Developer"
      ],
      "metadata": {
        "id": "xOxPlTOa6-Ac"
      },
      "execution_count": null,
      "outputs": []
    },
    {
      "cell_type": "markdown",
      "source": [
        "update() method updates the dictionary with the key:value pairs from element.\n",
        "\n",
        "If the key is already present in the dictionary, value gets updated.\n",
        "If the key is not present in the dictionary, a new key:value pair is added to the dictionary."
      ],
      "metadata": {
        "id": "Pd2GtSHi7R79"
      }
    },
    {
      "cell_type": "code",
      "source": [
        "# genrally used to merge two dictionaries\n",
        "D1 = {'name': 'Bob'}\n",
        "D2 = {'job': 'Dev', 'age': 25}\n",
        "D1.update(D2)\n",
        "print(D1) # {'job': 'Dev', 'age': 25, 'name': 'Bob'}\n",
        "\n",
        "D1 = {'name': 'Bob', 'age': 25}\n",
        "D2 = {'job': 'Dev', 'age': 30}\n",
        "D1.update(D2)\n",
        "print(D1) # {'job': 'Dev', 'age': 30, 'name': 'Bob'}\n",
        "\n",
        "# passing different values\n",
        "D = {'name': 'Bob'}\n",
        "D.update({'job': 'Dev', 'age': 25})\n",
        "print(D)  # {'job': 'Dev', 'age': 25, 'name': 'Bob'}\n",
        "\n",
        "D = {'name': 'Bob'}\n",
        "D.update([('job', 'Dev'), ('age', 25)])\n",
        "print(D)  # {'age': 25, 'job': 'Dev', 'name': 'Bob'}\n",
        "\n",
        "D = {'name': 'Bob'}\n",
        "D.update([['job', 'Dev'], ['age', 25]])\n",
        "print(D)  # {'age': 25, 'job': 'Dev', 'name': 'Bob'}\n",
        "\n",
        "D = {'name': 'Bob'}\n",
        "D.update(job = 'Dev', age = 25)\n",
        "print(D)  # {'job': 'Dev', 'age': 25, 'name': 'Bob'}"
      ],
      "metadata": {
        "id": "n4tY-7Ka7SxV"
      },
      "execution_count": null,
      "outputs": []
    },
    {
      "cell_type": "markdown",
      "source": [
        "items() method returns a list of tuples containing the key:value pairs of the dictionary"
      ],
      "metadata": {
        "id": "I-TQ7xRn7xr4"
      }
    },
    {
      "cell_type": "code",
      "source": [
        "D = {'name': 'Bob', 'age': 25}\n",
        "L = D.items()\n",
        "print(L)  # dict_items([('age', 25), ('name', 'Bob')])\n",
        "\n",
        "D = {'name': 'Bob', 'age': 25}\n",
        "for x in D.items():\n",
        "    print(x)\n",
        "# ('age', 25)\n",
        "# ('name', 'Bob')\n",
        "\n",
        "# The object returned by items() is a view object. It provides a dynamic view on the dictionary’s entries,\n",
        "# which means that when the dictionary changes, the view reflects these changes.\n",
        "D = {'name': 'Bob', 'age': 25}\n",
        "L = D.items()\n",
        "D['name'] = 'xx'\n",
        "print(L)  # dict_items([('age', 25), ('name', 'xx')]) # L reflects changes done to dict D"
      ],
      "metadata": {
        "id": "szXzCtuI7yYj"
      },
      "execution_count": null,
      "outputs": []
    },
    {
      "cell_type": "markdown",
      "source": [
        "values() method returns a list of values from a dictionary."
      ],
      "metadata": {
        "id": "FsL8ey7z8F1y"
      }
    },
    {
      "cell_type": "code",
      "source": [
        "D = {'name': 'Bob', 'age': 25}\n",
        "L = D.values()\n",
        "print(L)  # dict_values([25, 'Bob'])\n",
        "\n",
        "D = {'name': 'Bob', 'age': 25}\n",
        "for x in D.values():\n",
        "    print(x)  # 25 Bob\n",
        "\n",
        "# The object returned by items() is a view object. It provides a dynamic view on the dictionary’s entries,\n",
        "# which means that when the dictionary changes, the view reflects these changes.\n",
        "D = {'name': 'Bob', 'age': 25}\n",
        "L = D.values()\n",
        "D['name'] = 'xx'\n",
        "print(L)  # dict_values([25, 'xx']) # L reflects changes done to dict D"
      ],
      "metadata": {
        "id": "7cY0zPbH8GV_"
      },
      "execution_count": null,
      "outputs": []
    },
    {
      "cell_type": "markdown",
      "source": [
        "keys() method returns a list of keys from a dictionary."
      ],
      "metadata": {
        "id": "k12wcwfb8xNR"
      }
    },
    {
      "cell_type": "code",
      "source": [
        "D = {'name': 'Bob', 'age': 25}\n",
        "L = D.keys()\n",
        "print(L)  # dict_keys(['age', 'name'])\n",
        "\n",
        "D = {'name': 'Bob', 'age': 25}\n",
        "for x in D.keys():\n",
        "    print(x)  # age name\n",
        "\n",
        "# The object returned by items() is a view object. It provides a dynamic view on the dictionary’s entries,\n",
        "# which means that when the dictionary changes, the view reflects these changes.\n",
        "D = {'name': 'Bob', 'age': 25}\n",
        "L = D.keys()\n",
        "D['job'] = 'Developer'\n",
        "print(L)  # dict_keys(['job', 'age', 'name']) # L reflects changes done to dict D"
      ],
      "metadata": {
        "id": "ZZT-xn5T8x5c"
      },
      "execution_count": null,
      "outputs": []
    },
    {
      "cell_type": "markdown",
      "source": [
        "Built-in functions with dictionary"
      ],
      "metadata": {
        "id": "ObhR6YDwynRX"
      }
    },
    {
      "cell_type": "code",
      "source": [
        "\"\"\"\n",
        "Method\t  Description\n",
        "all()\t    Returns True if all list items are true\n",
        "any()\t    Returns True if any list item is true\n",
        "len()\t    Returns the number of items in the list\n",
        "sorted()\tReturns a sorted list\n",
        "\"\"\""
      ],
      "metadata": {
        "id": "XwaKDECJyiOl"
      },
      "execution_count": null,
      "outputs": []
    },
    {
      "cell_type": "markdown",
      "source": [
        "# Python Set"
      ],
      "metadata": {
        "id": "SUou3gIs9P1v"
      }
    },
    {
      "cell_type": "markdown",
      "source": [
        "A Python set is an unordered list of immutable elements. Elements in a set are unique. Elements in a set cannot be changed. For example, they can be numbers, strings, and tuples, but cannot be lists or dictionaries."
      ],
      "metadata": {
        "id": "o9KPHC3b9TwJ"
      }
    },
    {
      "cell_type": "code",
      "source": [
        "empty_set = {}\n",
        "empty_set = set()\n",
        "\n",
        "skills = set()\n",
        "if not skills:\n",
        "    print('Empty sets are falsy')\n",
        "\n",
        "S = {1, 'abc', 1.23, (3+4j), True}\n",
        "\n",
        "S = {'red', 'green', 'blue', 'red'}\n",
        "print(S)  # {'blue', 'green', 'red'}\n",
        "\n",
        "S = {[1, 2], {'a':1, 'b':2}}  # Triggers TypeError: unhashable type: 'list'"
      ],
      "metadata": {
        "id": "l5NxpGiY-SXh"
      },
      "execution_count": null,
      "outputs": []
    },
    {
      "cell_type": "markdown",
      "source": [
        "set() constructor"
      ],
      "metadata": {
        "id": "H88XumvA_CEK"
      }
    },
    {
      "cell_type": "code",
      "source": [
        "skills = set(['Problem solving','Critical Thinking'])\n",
        "print(skills) # {'Critical Thinking', 'Problem solving'}\n",
        "\n",
        "characters = set('letter')\n",
        "print(characters) # {'r', 'l', 't', 'e'}\n",
        "\n",
        "len(characters)  # 4\n",
        "\n",
        "# Set of items in an iterable\n",
        "S = set('abc')\n",
        "print(S)\n",
        "# Prints {'a', 'b', 'c'}\n",
        "\n",
        "# Set of successive integers\n",
        "S = set(range(0, 4))\n",
        "print(S)\n",
        "# Prints {0, 1, 2, 3}\n",
        "\n",
        "# Convert list into set\n",
        "S = set([1, 2, 3])\n",
        "print(S)\n",
        "# Prints {1, 2, 3}"
      ],
      "metadata": {
        "id": "5D2dxuM5_DwT"
      },
      "execution_count": null,
      "outputs": []
    },
    {
      "cell_type": "markdown",
      "source": [
        "set comprehension"
      ],
      "metadata": {
        "id": "8joqozprrf2H"
      }
    },
    {
      "cell_type": "code",
      "source": [
        "tags = {'Django', 'Pandas', 'Numpy'}\n",
        "lowercase_tags = set(map(lambda tag: tag.lower(), tags))\n",
        "print(lowercase_tags) # {'django', 'pandas', 'numpy'}\n",
        "\n",
        "tags = {'Django', 'Pandas', 'Numpy'}\n",
        "new_tags = {tag.lower() for tag in tags if tag != 'Numpy'}\n",
        "print(new_tags) # {'django', 'pandas'}"
      ],
      "metadata": {
        "id": "PRkp4ZdZrkQ7"
      },
      "execution_count": null,
      "outputs": []
    },
    {
      "cell_type": "markdown",
      "source": [
        "Set methods"
      ],
      "metadata": {
        "id": "GPyQqP3r_smX"
      }
    },
    {
      "cell_type": "code",
      "source": [
        "\"\"\"\n",
        "Method\t                      Description\n",
        "add()                         Add item to set\n",
        "clear()                       Remove all items from the set.\n",
        "copy()                        Returns the Shallow copy of the specified set.\n",
        "union()\t                      Return a new set containing the union of two or more sets\n",
        "update()\t                    Modify this set with the union of this set and other sets\n",
        "intersection()\t              Returns a new set which is the intersection of two or more sets\n",
        "intersection_update()\t        Removes the items from this set that are not present in other sets\n",
        "difference()\t                Returns a new set containing the difference between two or more sets\n",
        "difference_update()\t          Removes the items from this set that are also included in another set\n",
        "symmetric_difference()\t      Returns a new set with the symmetric differences of two or more sets\n",
        "symmetric_difference_update()\tModify this set with the symmetric difference of this set and other set\n",
        "isdisjoint()\t                Determines whether or not two sets have any elements in common\n",
        "issubset()\t                  Determines whether one set is a subset of the other\n",
        "issuperset()\t                Determines whether one set is a superset of the other\n",
        "\"\"\""
      ],
      "metadata": {
        "id": "KkS_Gl8w_tnI"
      },
      "execution_count": null,
      "outputs": []
    },
    {
      "cell_type": "markdown",
      "source": [
        "add() method adds a single item to a set. This method does not return anything; it updates the set in place."
      ],
      "metadata": {
        "id": "z9MJerEqAEiX"
      }
    },
    {
      "cell_type": "code",
      "source": [
        "S = {'red', 'green', 'blue'}\n",
        "S.add('yellow')\n",
        "print(S)  # {'blue', 'green', 'yellow', 'red'}\n",
        "\n",
        "S = {'red', 'green', 'blue'}\n",
        "S.add('red')\n",
        "print(S)  # {'blue', 'green', 'red'}\n",
        "\n",
        "S = {'red', 'green', 'blue'}\n",
        "S.add((1, 2))\n",
        "print(S)  # {'blue', (1, 2), 'green', 'red'}\n",
        "\n",
        "S = {'red', 'green', 'blue'}\n",
        "S.add([1, 2]) # Triggers TypeError: unhashable type: 'list'"
      ],
      "metadata": {
        "id": "-T-rUAjZAGOs"
      },
      "execution_count": null,
      "outputs": []
    },
    {
      "cell_type": "markdown",
      "source": [
        "update() add multiple items to a set."
      ],
      "metadata": {
        "id": "_YpcuDt5Ar0c"
      }
    },
    {
      "cell_type": "code",
      "source": [
        "S = {'red', 'green', 'blue'}\n",
        "S.update(['yellow', 'orange'])\n",
        "print(S)  # {'blue', 'orange', 'green', 'yellow', 'red'}"
      ],
      "metadata": {
        "id": "S46z6-OCAvx9"
      },
      "execution_count": null,
      "outputs": []
    },
    {
      "cell_type": "markdown",
      "source": [
        "clear() method to remove all items from the set."
      ],
      "metadata": {
        "id": "6pSu9-ZsBG3G"
      }
    },
    {
      "cell_type": "code",
      "source": [
        "S = {'red', 'green', 'blue'}\n",
        "S.clear()\n",
        "print(S)  # set()"
      ],
      "metadata": {
        "id": "fI6GIphDBOcC"
      },
      "execution_count": null,
      "outputs": []
    },
    {
      "cell_type": "markdown",
      "source": [
        "copy() method returns the Shallow copy of the specified set."
      ],
      "metadata": {
        "id": "V20Hh35IBXgB"
      }
    },
    {
      "cell_type": "code",
      "source": [
        "S = {'red', 'green', 'blue'}\n",
        "x = S.copy()\n",
        "print(x)  # {'blue', 'green', 'red'}"
      ],
      "metadata": {
        "id": "LnCVqzFvBZZ7"
      },
      "execution_count": null,
      "outputs": []
    },
    {
      "cell_type": "markdown",
      "source": [
        "copy() vs assignment"
      ],
      "metadata": {
        "id": "P-r1xt2ZBfg8"
      }
    },
    {
      "cell_type": "code",
      "source": [
        "old_Set = {'red', 'green', 'blue'}\n",
        "new_Set = old_Set.copy()\n",
        "new_Set.remove('red')\n",
        "print(old_Set)  # {'blue', 'green', 'red'}\n",
        "print(new_Set)  # {'blue', 'green'}"
      ],
      "metadata": {
        "id": "-yljXtFfBhsA"
      },
      "execution_count": null,
      "outputs": []
    },
    {
      "cell_type": "markdown",
      "source": [
        "difference() method returns a new set of items that are in the original set but not in any of the specified sets."
      ],
      "metadata": {
        "id": "sPG-ZKuRBoDZ"
      }
    },
    {
      "cell_type": "code",
      "source": [
        "A = {'red', 'green', 'blue'}\n",
        "B = {'yellow', 'red', 'orange'}\n",
        "print(A.difference(B))  # {'blue', 'green'}\n",
        "\n",
        "# alternative\n",
        "A = {'red', 'green', 'blue'}\n",
        "B = {'yellow', 'red', 'orange'}\n",
        "print(A.difference(B))  # {'blue', 'green'}\n",
        "print(A - B)  # {'blue', 'green'}\n",
        "\n",
        "# Difference between Multiple Sets\n",
        "A = {'red', 'green', 'blue'}\n",
        "B = {'yellow', 'orange', 'red'}\n",
        "C = {'blue', 'red', 'black'}\n",
        "print(A.difference(B,C))  # {'green'}\n",
        "print(A - B - C)  # {'green'}"
      ],
      "metadata": {
        "id": "o7DqZT6NBotd"
      },
      "execution_count": null,
      "outputs": []
    },
    {
      "cell_type": "markdown",
      "source": [
        "difference_update() method updates the set by removing items found in specified sets."
      ],
      "metadata": {
        "id": "-0Wa38lICBp8"
      }
    },
    {
      "cell_type": "code",
      "source": [
        "# Remove items from A found in B\n",
        "A = {'red', 'green', 'blue'}\n",
        "B = {'yellow', 'red', 'orange'}\n",
        "A.difference_update(B)\n",
        "print(A)  # {'blue', 'green'}\n",
        "\n",
        "# alternative\n",
        "A = {'red', 'green', 'blue'}\n",
        "B = {'yellow', 'red', 'orange'}\n",
        "A -= B\n",
        "print(A)  # {'blue', 'green'}\n",
        "\n",
        "# Method with Multiple Sets\n",
        "A = {'red', 'green', 'blue'}\n",
        "B = {'yellow', 'orange', 'red'}\n",
        "C = {'blue', 'red', 'black'}\n",
        "A.difference_update(B,C)\n",
        "print(A)  # {'green'}\n",
        "A -= B | C\n",
        "print(A)  # {'green'}"
      ],
      "metadata": {
        "id": "kPrcKh3eCCON"
      },
      "execution_count": null,
      "outputs": []
    },
    {
      "cell_type": "markdown",
      "source": [
        "discard() method removes a specified item from the set."
      ],
      "metadata": {
        "id": "csyyoykzCc3o"
      }
    },
    {
      "cell_type": "code",
      "source": [
        "S = {'red', 'green', 'blue'}\n",
        "S.discard('red')\n",
        "print(S)  # {'blue', 'green'}\n",
        "\n",
        "S = {'red', 'green', 'blue'}\n",
        "S.discard('yellow')\n",
        "print(S)  # {'blue', 'green', 'red'}\n",
        "\n",
        "# discard() vs remove()\n",
        "# Both methods work exactly the same. The only difference is that, the remove() method raises KeyError, if specified item doesn’t exist in a set."
      ],
      "metadata": {
        "id": "fYuComqZCdcZ"
      },
      "execution_count": null,
      "outputs": []
    },
    {
      "cell_type": "markdown",
      "source": [
        "intersection() method returns a new set of items that are common to all the specified sets."
      ],
      "metadata": {
        "id": "YN5FzK_8CsWl"
      }
    },
    {
      "cell_type": "code",
      "source": [
        "A = {'red', 'green', 'blue'}\n",
        "B = {'yellow', 'red', 'orange'}\n",
        "print(A.intersection(B))  # {'red'}\n",
        "\n",
        "# alternate\n",
        "A = {'red', 'green', 'blue'}\n",
        "B = {'yellow', 'red', 'orange'}\n",
        "print(A.intersection(B))  # {'red'}\n",
        "print(A & B)  # {'red'}\n",
        "\n",
        "# intersection of multiple sets\n",
        "A = {'red', 'green', 'blue'}\n",
        "B = {'yellow', 'orange', 'red'}\n",
        "C = {'blue', 'red', 'black'}\n",
        "print(A.intersection(B,C))  # {'red'}\n",
        "print(A & B & C)  # {'red'}"
      ],
      "metadata": {
        "id": "XANkt3P7Cs7Z"
      },
      "execution_count": null,
      "outputs": []
    },
    {
      "cell_type": "markdown",
      "source": [
        "intersection_update() method updates the set by removing the items that are not common to all the specified sets."
      ],
      "metadata": {
        "id": "BzgLsF1vnKOA"
      }
    },
    {
      "cell_type": "code",
      "source": [
        "A = {'red', 'green', 'blue'}\n",
        "B = {'yellow', 'red', 'orange'}\n",
        "A.intersection_update(B)\n",
        "print(A)  # {'red'}\n",
        "\n",
        "# alternate\n",
        "A = {'red', 'green', 'blue'}\n",
        "B = {'yellow', 'red', 'orange'}\n",
        "A &= B\n",
        "print(A)  # {'red'}\n",
        "\n",
        "# multiple sets\n",
        "A = {'red', 'green', 'blue'}\n",
        "B = {'yellow', 'orange', 'red'}\n",
        "C = {'blue', 'red', 'black'}\n",
        "A.intersection_update(B,C)\n",
        "print(A)  # {'red'}\n",
        "A &= B & C\n",
        "print(A)  # {'red'}"
      ],
      "metadata": {
        "id": "grQv_ODvnLJw"
      },
      "execution_count": null,
      "outputs": []
    },
    {
      "cell_type": "markdown",
      "source": [
        "isdisjoint() method returns True if two sets have no items in common, otherwise FALSE."
      ],
      "metadata": {
        "id": "5IIMJlSynnKI"
      }
    },
    {
      "cell_type": "code",
      "source": [
        "A = {'green', 'blue', 'purple'}\n",
        "B = {'yellow', 'red', 'orange'}\n",
        "print(A.isdisjoint(B))  # True\n",
        "\n",
        "A = {'red', 'green', 'blue'}\n",
        "B = {'yellow', 'red', 'orange'}\n",
        "print(A.isdisjoint(B))  # False"
      ],
      "metadata": {
        "id": "oJk_lJurnol3"
      },
      "execution_count": null,
      "outputs": []
    },
    {
      "cell_type": "markdown",
      "source": [
        "issubset() method returns True if all items in the set are present in the specified set, otherwise FALSE."
      ],
      "metadata": {
        "id": "ZpqXUSSNn0_Z"
      }
    },
    {
      "cell_type": "code",
      "source": [
        "A = {'yellow', 'red'}\n",
        "B = {'red', 'green', 'blue', 'yellow'}\n",
        "print(A.issubset(B))  # True\n",
        "\n",
        "# alternative\n",
        "A = {'yellow', 'red'}\n",
        "B = {'red', 'green', 'blue', 'yellow'}\n",
        "print(A <= B) # True\n",
        "\n",
        "# find proper subset\n",
        "# Check if A is a proper subset of B\n",
        "A = {'yellow', 'red'}\n",
        "B = {'red', 'green', 'blue', 'yellow'}\n",
        "print(A < B)  # True\n",
        "\n",
        "# Check if A is a proper subset of B\n",
        "A = {'yellow', 'red'}\n",
        "B = {'yellow', 'red'}\n",
        "print(A < B)  # False"
      ],
      "metadata": {
        "id": "UfXfV56Tn1tR"
      },
      "execution_count": null,
      "outputs": []
    },
    {
      "cell_type": "markdown",
      "source": [
        "issuperset() method returns True if all items in the specified set are present in the original set, otherwise FALSE."
      ],
      "metadata": {
        "id": "bmDMxk6hoOiy"
      }
    },
    {
      "cell_type": "code",
      "source": [
        "A = {'red', 'green', 'blue', 'yellow'}\n",
        "B = {'yellow', 'red'}\n",
        "print(A.issuperset(B))  # True\n",
        "\n",
        "# alternate\n",
        "A = {'red', 'green', 'blue', 'yellow'}\n",
        "B = {'yellow', 'red'}\n",
        "print(A >= B) # True\n",
        "\n",
        "# find proper superset\n",
        "# Check if A is a proper superset of B\n",
        "A = {'red', 'green', 'blue', 'yellow'}\n",
        "B = {'yellow', 'red'}\n",
        "print(A > B)  # True\n",
        "\n",
        "# Check if A is a proper superset of B\n",
        "A = {'yellow', 'red'}\n",
        "B = {'yellow', 'red'}\n",
        "print(A > B)  # False"
      ],
      "metadata": {
        "id": "MxWMxEgEoO-O"
      },
      "execution_count": null,
      "outputs": []
    },
    {
      "cell_type": "markdown",
      "source": [
        "pop() method removes random item from a set and returns it. If the set is empty, the method raises KeyError."
      ],
      "metadata": {
        "id": "VlSw9jFwoerz"
      }
    },
    {
      "cell_type": "code",
      "source": [
        "S = {'red', 'green', 'blue'}\n",
        "S.pop()\n",
        "print(S)  # {'green', 'red'}\n",
        "\n",
        "S = {'red', 'green', 'blue'}\n",
        "x = S.pop()\n",
        "print(x)  # blue\n",
        "\n",
        "S = set()\n",
        "S.pop() # Triggers KeyError: 'pop from an empty set'"
      ],
      "metadata": {
        "id": "1twOfRM8ofOz"
      },
      "execution_count": null,
      "outputs": []
    },
    {
      "cell_type": "markdown",
      "source": [
        "remove() method removes a specified item from the set."
      ],
      "metadata": {
        "id": "RHPnI5GmowSR"
      }
    },
    {
      "cell_type": "code",
      "source": [
        "S = {'red', 'green', 'blue'}\n",
        "S.remove('red')\n",
        "print(S)  # {'blue', 'green'}\n",
        "\n",
        "S = {'red', 'green', 'blue'}\n",
        "S.remove('yellow')\n",
        "print(S)  # Triggers KeyError: 'yellow'"
      ],
      "metadata": {
        "id": "XLu3Rdlrow7x"
      },
      "execution_count": null,
      "outputs": []
    },
    {
      "cell_type": "markdown",
      "source": [
        "remove() vs discard()\n",
        "Both methods work exactly the same. The only difference is that the discard() method doesn’t raise any error if specified item doesn’t exist in a set."
      ],
      "metadata": {
        "id": "Qxz_dhcrpF3H"
      }
    },
    {
      "cell_type": "code",
      "source": [
        "S = {'red', 'green', 'blue'}\n",
        "S.discard('yellow')\n",
        "print(S)  # {'blue', 'green', 'red'}"
      ],
      "metadata": {
        "id": "7IhI8-4CpGwA"
      },
      "execution_count": null,
      "outputs": []
    },
    {
      "cell_type": "markdown",
      "source": [
        "symmetric_difference() method returns a new set containing all items from both the sets, except common items."
      ],
      "metadata": {
        "id": "p2X_zQDApN99"
      }
    },
    {
      "cell_type": "code",
      "source": [
        "A = {'red', 'green', 'blue'}\n",
        "B = {'yellow', 'red', 'orange'}\n",
        "print(A.symmetric_difference(B))  # {'orange', 'blue', 'green', 'yellow'}\n",
        "\n",
        "# alternate\n",
        "A = {'red', 'green', 'blue'}\n",
        "B = {'yellow', 'red', 'orange'}\n",
        "print(A.symmetric_difference(B))  # {'orange', 'blue', 'green', 'yellow'}\n",
        "print(A ^ B)  # {'orange', 'blue', 'green', 'yellow'}\n",
        "\n",
        "# multiple sets\n",
        "A = {'red', 'green', 'blue'}\n",
        "B = {'yellow', 'orange'}\n",
        "C = {'blue', 'red', 'black'}\n",
        "print(A ^ B ^ C)  # {'orange', 'black', 'green', 'yellow'}"
      ],
      "metadata": {
        "id": "kr2XDQ2SpTfj"
      },
      "execution_count": null,
      "outputs": []
    },
    {
      "cell_type": "markdown",
      "source": [
        "symmetric_difference_update() method updates the set by keeping only elements found in either set, but not in both."
      ],
      "metadata": {
        "id": "Tvd9W6RWpk7Q"
      }
    },
    {
      "cell_type": "code",
      "source": [
        "A = {'red', 'green', 'blue'}\n",
        "B = {'yellow', 'red', 'orange'}\n",
        "A.symmetric_difference_update(B)\n",
        "print(A)  # {'blue', 'orange', 'green', 'yellow'}\n",
        "\n",
        "# alternate\n",
        "A = {'red', 'green', 'blue'}\n",
        "B = {'yellow', 'red', 'orange'}\n",
        "A ^= B\n",
        "print(A)  # {'blue', 'orange', 'green', 'yellow'}"
      ],
      "metadata": {
        "id": "NV4adY12plod"
      },
      "execution_count": null,
      "outputs": []
    },
    {
      "cell_type": "markdown",
      "source": [
        "symmetric_difference_update() method updates the set by keeping only elements found in either set, but not in both."
      ],
      "metadata": {
        "id": "J3NG88Xxp3Ml"
      }
    },
    {
      "cell_type": "code",
      "source": [
        "A = {'red', 'green', 'blue'}\n",
        "B = {'yellow', 'red', 'orange'}\n",
        "A.symmetric_difference_update(B)\n",
        "print(A)  # {'blue', 'orange', 'green', 'yellow'}\n",
        "\n",
        "# alternate\n",
        "A = {'red', 'green', 'blue'}\n",
        "B = {'yellow', 'red', 'orange'}\n",
        "A ^= B\n",
        "print(A)  # {'blue', 'orange', 'green', 'yellow'}"
      ],
      "metadata": {
        "id": "RacDK9tRp3uy"
      },
      "execution_count": null,
      "outputs": []
    },
    {
      "cell_type": "markdown",
      "source": [
        "union() method returns a new set containing all items from all the specified sets, with no duplicates."
      ],
      "metadata": {
        "id": "bNL6256vqMRT"
      }
    },
    {
      "cell_type": "code",
      "source": [
        "A = {'red', 'green', 'blue'}\n",
        "B = {'yellow', 'red', 'orange'}\n",
        "print(A.union(B)) # {'blue', 'green', 'yellow', 'orange', 'red'}\n",
        "\n",
        "# alternate\n",
        "A = {'red', 'green', 'blue'}\n",
        "B = {'yellow', 'red', 'orange'}\n",
        "print(A.union(B)) # {'blue', 'green', 'yellow', 'orange', 'red'}\n",
        "print(A | B)  # {'blue', 'green', 'yellow', 'orange', 'red'}\n",
        "\n",
        "# multiple sets\n",
        "A = {'red', 'green', 'blue'}\n",
        "B = {'yellow', 'orange', 'red'}\n",
        "C = {'blue', 'red', 'black'}\n",
        "print(A.union(B,C)) # {'blue', 'green', 'yellow', 'orange', 'black', 'red'}\n",
        "print(A | B | C)  # {'blue', 'green', 'yellow', 'orange', 'black', 'red'}"
      ],
      "metadata": {
        "id": "4qIuOihUqMzO"
      },
      "execution_count": null,
      "outputs": []
    },
    {
      "cell_type": "markdown",
      "source": [
        "update() method updates the original set by adding items from all the specified sets, with no duplicates."
      ],
      "metadata": {
        "id": "BaRB70FsqnG8"
      }
    },
    {
      "cell_type": "code",
      "source": [
        "A = {'red', 'green', 'blue'}\n",
        "B = {'yellow', 'red', 'orange'}\n",
        "A.update(B)\n",
        "print(A)  # {'blue', 'green', 'yellow', 'orange', 'red'}\n",
        "\n",
        "# alternate\n",
        "A = {'red', 'green', 'blue'}\n",
        "B = {'yellow', 'red', 'orange'}\n",
        "A |= B\n",
        "print(A)  # {'blue', 'green', 'yellow', 'orange', 'red'}\n",
        "\n",
        "# multiple sets\n",
        "A = {'red', 'green', 'blue'}\n",
        "B = {'yellow', 'orange', 'red'}\n",
        "C = {'blue', 'red', 'black'}\n",
        "A.update(B,C)\n",
        "print(A)  # {'blue', 'green', 'yellow', 'orange', 'black', 'red'}\n",
        "A |= B | C\n",
        "print(A)  # {'blue', 'green', 'yellow', 'orange', 'black', 'red'}"
      ],
      "metadata": {
        "id": "XrDStAXHqn6n"
      },
      "execution_count": null,
      "outputs": []
    },
    {
      "cell_type": "markdown",
      "source": [
        "Built-in functions with Set"
      ],
      "metadata": {
        "id": "wgzN8i2a_ZXW"
      }
    },
    {
      "cell_type": "code",
      "source": [
        "\"\"\"\n",
        "Method\t    Description\n",
        "all()\t      Returns True if all items in a set are true\n",
        "any()\t      Returns True if any item in a set is true\n",
        "enumerate()\tTakes a set and returns an enumerate object\n",
        "len()\t      Returns the number of items in the set\n",
        "max()\t      Returns the largest item of the set\n",
        "min()\t      Returns the smallest item of the set\n",
        "sorted()\t  Returns a sorted set\n",
        "sum()\t      Sums items of the set\n",
        "\"\"\""
      ],
      "metadata": {
        "id": "jAL0F3ta_b3x"
      },
      "execution_count": null,
      "outputs": []
    },
    {
      "cell_type": "markdown",
      "source": [
        "# Python Try Except"
      ],
      "metadata": {
        "id": "jOkDzDA0sihh"
      }
    },
    {
      "cell_type": "markdown",
      "source": [
        "Use Python try...except statement to handle exceptions gracefully.\n",
        "Use specific exceptions in the except block as much as possible.\n",
        "Use the except Exception statement to catch other exceptions."
      ],
      "metadata": {
        "id": "9lO0EhTPsomP"
      }
    },
    {
      "cell_type": "code",
      "source": [
        "try:\n",
        "    # get input net sales\n",
        "    print('Enter the net sales for')\n",
        "\n",
        "    previous = float(input('- Prior period:'))\n",
        "    current = float(input('- Current period:'))\n",
        "\n",
        "    # calculate the change in percentage\n",
        "    change = (current - previous) * 100 / previous\n",
        "\n",
        "    # show the result\n",
        "    if change > 0:\n",
        "        result = f'Sales increase {abs(change)}%'\n",
        "    else:\n",
        "        result = f'Sales decrease {abs(change)}%'\n",
        "\n",
        "    print(result)\n",
        "except ValueError:\n",
        "    print('Error! Please enter a number for net sales.')"
      ],
      "metadata": {
        "id": "AIYQOUn-tLuV"
      },
      "execution_count": null,
      "outputs": []
    },
    {
      "cell_type": "code",
      "source": [
        "try:\n",
        "    # get input net sales\n",
        "    print('Enter the net sales for')\n",
        "\n",
        "    previous = float(input('- Prior period:'))\n",
        "    current = float(input('- Current period:'))\n",
        "\n",
        "    # calculate the change in percentage\n",
        "    change = (current - previous) * 100 / previous\n",
        "\n",
        "    # show the result\n",
        "    if change > 0:\n",
        "        result = f'Sales increase {abs(change)}%'\n",
        "    else:\n",
        "        result = f'Sales decrease {abs(change)}%'\n",
        "\n",
        "    print(result)\n",
        "except ValueError:\n",
        "    print('Error! Please enter a number for net sales.')\n",
        "except ZeroDivisionError:\n",
        "    print('Error! The prior net sales cannot be zero.')\n",
        "except Exception as error:\n",
        "    print(error)"
      ],
      "metadata": {
        "id": "AY4OETyetR-y"
      },
      "execution_count": null,
      "outputs": []
    },
    {
      "cell_type": "markdown",
      "source": [
        "Use Python try...catch...finally statement to execute a code block whether an exception occurs or not.\n",
        "Use the finally clause to clean up the resources such as closing files."
      ],
      "metadata": {
        "id": "MmgY6P7vtZM-"
      }
    },
    {
      "cell_type": "code",
      "source": [
        "a = 10\n",
        "b = 0\n",
        "\n",
        "try:\n",
        "    c = a / b\n",
        "    print(c)\n",
        "except ZeroDivisionError as error:\n",
        "    print(error)\n",
        "finally:\n",
        "    print('Finishing up.')"
      ],
      "metadata": {
        "id": "4mEHNLl-tdMF"
      },
      "execution_count": null,
      "outputs": []
    },
    {
      "cell_type": "markdown",
      "source": [
        "Use the Python try...except...else statement provides you with a way to control the flow of the program in case of exceptions.\n",
        "The else clause executes if no exception occurs in the try clause.\n",
        "If so, the else clause executes after the try clause and before the finally clause."
      ],
      "metadata": {
        "id": "OKi0vQfYtzS-"
      }
    },
    {
      "cell_type": "code",
      "source": [
        "def main():\n",
        "    try:\n",
        "        height = float(input('Enter your height (meters):'))\n",
        "        weight = float(input('Enter your weight (kilograms):'))\n",
        "\n",
        "    except ValueError as error:\n",
        "        print('Error! please enter a valid number.')\n",
        "    else:\n",
        "        bmi = round(calculate_bmi(height, weight), 1)\n",
        "        evaluation = evaluate_bmi(bmi)\n",
        "\n",
        "        print(f'Your body mass index is {bmi}')\n",
        "        print(f'This is considered {evaluation}!')"
      ],
      "metadata": {
        "id": "mVScVkKVt0L_"
      },
      "execution_count": null,
      "outputs": []
    },
    {
      "cell_type": "markdown",
      "source": [
        "all together"
      ],
      "metadata": {
        "id": "cIklZBUXt9v1"
      }
    },
    {
      "cell_type": "code",
      "source": [
        "fruits = {\n",
        "    'apple': 10,\n",
        "    'orange': 20,\n",
        "    'banana': 30\n",
        "}\n",
        "\n",
        "key = None\n",
        "while True:\n",
        "    try:\n",
        "        key = input('Enter a key to lookup:')\n",
        "        fruit = fruits[key.lower()]\n",
        "    except KeyError:\n",
        "        print(f'Error! {key} does not exist.')\n",
        "    except KeyboardInterrupt:\n",
        "        break\n",
        "    else:\n",
        "        print(fruit)\n",
        "    finally:\n",
        "        print('Press Ctrl-C to exit.')"
      ],
      "metadata": {
        "id": "34loxOGZt_Vn"
      },
      "execution_count": null,
      "outputs": []
    },
    {
      "cell_type": "markdown",
      "source": [
        "# Python Module Package"
      ],
      "metadata": {
        "id": "FLgGByeUwRMf"
      }
    },
    {
      "cell_type": "markdown",
      "source": [
        "A module is a piece of software that has a specific functionality. A Python module is a file that contains Python code. For example, when building a shopping cart application, you can have one module for calculating prices and another module for managing items in the cart. Each module is a separate Python source code file."
      ],
      "metadata": {
        "id": "Pwf1EB7wwVma"
      }
    },
    {
      "cell_type": "code",
      "source": [
        "# ------------------------------- writing module\n",
        "# pricing.py\n",
        "def get_net_price(price, tax_rate, discount=0):\n",
        "    return price * (1 + tax_rate) * (1-discount)\n",
        "def get_tax(price, tax_rate=0):\n",
        "    return price * tax_rate\n",
        "\n",
        "# ------------------------------- importing module\n",
        "import pricing;\n",
        "net_price = pricing.get_net_price(\n",
        "    price=100,\n",
        "    tax_rate=0.01\n",
        ")\n",
        "\n",
        "# ------------------------------- importing module as new name\n",
        "import pricing as selling_price\n",
        "net_price = selling_price.get_net_price(\n",
        "    price=100,\n",
        "    tax_rate=0.01\n",
        ")\n",
        "\n",
        "# ------------------------------- reference object\n",
        "# If you want to reference objects in a module without prefixing the module name, you can explicitly import them\n",
        "from pricing import get_net_price;\n",
        "net_price = get_net_price(price=100, tax_rate=0.01)\n",
        "\n",
        "# ------------------------------- rename imported object\n",
        "from pricing import get_net_price as calculate_net_price\n",
        "\n",
        "# ------------------------------- import all objects\n",
        "from pricing import *\n",
        "\n",
        "# ------------------------------- importing package\n",
        "import package.module\n",
        "# And to access an object from a module that belongs to a package, you use the dot notation:\n",
        "package.module.function\n",
        "\n",
        "# main.py\n",
        "import sales.order\n",
        "import sales.delivery\n",
        "import sales.billing\n",
        "\n",
        "sales.order.create_sales_order()\n",
        "sales.delivery.create_delivery()\n",
        "sales.billing.create_billing()\n",
        "\n",
        "# main.py\n",
        "from sales.order import create_sales_order\n",
        "from sales.delivery import create_delivery\n",
        "from sales.billing import create_billing\n",
        "\n",
        "create_sales_order()\n",
        "create_delivery()\n",
        "create_billing()\n",
        "\n",
        "# main.py\n",
        "from sales.order import create_sales_order as create_order\n",
        "from sales.delivery import create_delivery as start_delivery\n",
        "from sales.billing import create_billing as issue_billing\n",
        "\n",
        "create_order()\n",
        "start_delivery()\n",
        "issue_billing()\n",
        "\n",
        "# ------------------------------- __name__\n",
        "# Since the __name__ variable has double underscores at both sides, it’s called dunder name. The dunder stands for\n",
        "# double underscores\n",
        "\n",
        "# The __name__ is a special variable in Python. It’s special because Python assigns a different value to it depending\n",
        "# on how its containing script executes.\n",
        "\n",
        "# When you import a module, Python executes the file associated with the module.\n",
        "\n",
        "# Often, you want to write a script that can be executed directly or imported as a module. The __name__ variable allows\n",
        "# you to do that. ex - if __name__ == '__main__' run function else not in specific file. __main__ means file not imported\n",
        "# as modules\n",
        "\n",
        "# When you run the script directly, Python sets the __name__ variable to '__main__'.\n",
        "\n",
        "# it is main entry point of python file.\n",
        "# utility.py\n",
        "print('from utility', __name__);\n",
        "\n",
        "# caller.py\n",
        "import utility;\n",
        "print('from caller', __name__);\n",
        "\n",
        "'''\n",
        "python3 utility.py\n",
        "print -> 'from utility', __main__\n",
        "\n",
        "python3 caller.py\n",
        "print -> 'from utility', utility\n",
        "print -> 'from caller', __main__\n",
        "'''\n",
        "\n",
        "# ------------------------------- when you import a module it executes all the functions as we have main()\n",
        "'''\n",
        "utils.py ------------------\n",
        "    def add():\n",
        "        print('adding...')\n",
        "\n",
        "    def sub():\n",
        "        print('subtracting...')\n",
        "\n",
        "    def main():\n",
        "        add()\n",
        "        sub()\n",
        "\n",
        "main()\n",
        "\n",
        "main.py ------------------\n",
        "    from utils import add\n",
        "    def f1():\n",
        "        add()\n",
        "        print('f1...')\n",
        "\n",
        "    def f2():\n",
        "        print('f2...')\n",
        "\n",
        "    def main():\n",
        "        f1()\n",
        "        f2()\n",
        "\n",
        "    main()\n",
        "\n",
        "python3 main.py\n",
        "result\n",
        "    adding...\n",
        "    subtracting...\n",
        "    adding...\n",
        "    f1...\n",
        "    f2...\n",
        "\n",
        "# to fix that issue\n",
        "utils.py ------------------\n",
        "    def add():\n",
        "        print('adding...')\n",
        "\n",
        "    def sub():\n",
        "        print('subtracting...')\n",
        "\n",
        "    def main():\n",
        "        add()\n",
        "        sub()\n",
        "\n",
        "if (__name__ == '__main__'): (i.e if i'm running this file standalone, only that tim execute all functions of it)\n",
        "    main()\n",
        "'''"
      ],
      "metadata": {
        "id": "ddBWZNhdwjub"
      },
      "execution_count": null,
      "outputs": []
    },
    {
      "cell_type": "markdown",
      "source": [
        "# Python *args and *kwargs"
      ],
      "metadata": {
        "id": "p7xJj66Z8YOh"
      }
    },
    {
      "cell_type": "markdown",
      "source": [
        "*args"
      ],
      "metadata": {
        "id": "uAYUbPdh8eUy"
      }
    },
    {
      "cell_type": "code",
      "source": [
        "# When a function has a parameter preceded by an asterisk (*), it can accept a variable number of arguments.\n",
        "def add(*args):\n",
        "    print(type(args)) # <class 'tuple'>\n",
        "    print(args) # ()\n",
        "add()\n",
        "\n",
        "def add(*args):\n",
        "    print(type(args)) # <class 'tuple'>\n",
        "    print(args) # (1, 2, 3)\n",
        "add(1,2,3)\n",
        "\n",
        "def point(x, y):\n",
        "    return f\"{x}{y}\";\n",
        "a = (0, 0);\n",
        "print(point(a)) # throws error - TypeError: point() missing 1 required positional argument: 'y'\n",
        "\n",
        "def point(x, y):\n",
        "    return f'({x},{y})'\n",
        "a = (0, 0)\n",
        "print(point(*a))"
      ],
      "metadata": {
        "id": "ORizt-sX8lsn"
      },
      "execution_count": null,
      "outputs": []
    },
    {
      "cell_type": "markdown",
      "source": [
        "*kwargs"
      ],
      "metadata": {
        "id": "NuBn6Jw-8x8D"
      }
    },
    {
      "cell_type": "code",
      "source": [
        "# When a function has the **kwargs parameter, it can accept a variable number of keyword arguments as a dictionary.\n",
        "def connect(**kwargs):\n",
        "    print(type(kwargs)) # <class 'dict'>\n",
        "    print(kwargs) # {}\n",
        "\n",
        "def fn(*args, **kwargs):\n",
        "    print(args)     # (1, 2)\n",
        "    print(kwargs)   # {'x': 10, 'y': 20}\n",
        "fn(1, 2, x=10, y=20)\n",
        "\n",
        "def connect(**kwargs):\n",
        "    print(kwargs)\n",
        "config = {\n",
        "    'server': 'localhost',\n",
        "    'port': 3306,\n",
        "    'user': 'root',\n",
        "    'password': 'Py1thon!Xt12'\n",
        "}\n",
        "connect(**config)\n",
        "# {\n",
        "#     'server': 'localhost',\n",
        "#     'port': 3306,\n",
        "#     'user': 'root',\n",
        "#     'password': 'Py1thon!Xt12'\n",
        "# }"
      ],
      "metadata": {
        "id": "qBPAMbnZ8zce"
      },
      "execution_count": null,
      "outputs": []
    },
    {
      "cell_type": "markdown",
      "source": [
        "# Python OOPs"
      ],
      "metadata": {
        "id": "Pc54OnXU956V"
      }
    },
    {
      "cell_type": "markdown",
      "source": [
        "Object - An object is a container that contains data and functionality. An object is container that contains state and behavior.\n",
        "\n",
        "The data represents the object at a particular moment in time. Therefore, the data of an object is called the state. Python uses attributes to model the state of an object.\n",
        "\n",
        "The functionality represents the behaviors of an object. Python uses functions to model the behaviors. When a function is associated with an object, it becomes a method of the object.\n",
        "\n",
        "In other words, an object is a container that contains the state and methods.\n",
        "\n",
        "Before creating objects, you define a class first. And from the class, you can create one or more objects. The objects of a class are also called instances of a class."
      ],
      "metadata": {
        "id": "cGVbksj1GKAz"
      }
    },
    {
      "cell_type": "markdown",
      "source": [
        "A class is also an object in Python. Everything in Python is an object, including classes. When you define a class using the class keyword, Python creates an object with the name the same as the class’s name."
      ],
      "metadata": {
        "id": "VyNGAE5-Gho2"
      }
    },
    {
      "cell_type": "code",
      "source": [
        "class HtmlDocument:\n",
        "   pass\n",
        "\n",
        "print(HtmlDocument.__name__)          # HtmlDocument\n",
        "print(type(HtmlDocument))             # <class 'type'>\n",
        "print(isinstance(HtmlDocument, type)) # True"
      ],
      "metadata": {
        "id": "hr-K43VWGyxw"
      },
      "execution_count": null,
      "outputs": []
    },
    {
      "cell_type": "markdown",
      "source": [
        "Get the values of class variables"
      ],
      "metadata": {
        "id": "x6em3GOBIAsK"
      }
    },
    {
      "cell_type": "code",
      "source": [
        "class HtmlDocument:\n",
        "    extension = 'html'\n",
        "    version = '5'\n",
        "\n",
        "print(HtmlDocument.extension) # html\n",
        "print(HtmlDocument.version)   # 5\n",
        "\n",
        "# If you access a class variable that doesn’t exist, you’ll get an AttributeError exception.\n",
        "HtmlDocument.media_type # AttributeError: type object 'HtmlDocument' has no attribute 'media_type'\n",
        "\n",
        "# Another way to get the value of a class variable is to use the getattr() function.\n",
        "# The getattr() function accepts an object and a variable name. It returns the value of the class variable.\n",
        "extension = getattr(HtmlDocument, 'extension')\n",
        "version = getattr(HtmlDocument, 'version')\n",
        "print(extension)  # html\n",
        "print(version)    # 5\n",
        "\n",
        "# If the class variable doesn’t exist, you’ll also get an AttributeError exception.\n",
        "# To avoid the exception, you can specify a default value if the class variable doesn’t exist like this:\n",
        "media_type = getattr(HtmlDocument, 'media_type', 'text/html')\n",
        "print(media_type) # text/html"
      ],
      "metadata": {
        "id": "4svDYq3EIFdv"
      },
      "execution_count": null,
      "outputs": []
    },
    {
      "cell_type": "markdown",
      "source": [
        "Set values for class variables"
      ],
      "metadata": {
        "id": "Q75sNwbuH5Lw"
      }
    },
    {
      "cell_type": "code",
      "source": [
        "HtmlDocument.version = 10\n",
        "# or\n",
        "setattr(HtmlDocument, 'version', 10)\n",
        "\n",
        "# Since Python is a dynamic language, you can add a class variable to a class at runtime after you have created it.\n",
        "HtmlDocument.media_type = 'text/html'\n",
        "print(HtmlDocument.media_type)  # text/html\n",
        "# or\n",
        "setattr(HtmlDocument, media_type, 'text/html')\n",
        "print(HtmlDocument.media_type)  # text/html"
      ],
      "metadata": {
        "id": "pwanY51hH5xb"
      },
      "execution_count": null,
      "outputs": []
    },
    {
      "cell_type": "markdown",
      "source": [
        "Delete class variables"
      ],
      "metadata": {
        "id": "qQNKEXeCHzQD"
      }
    },
    {
      "cell_type": "code",
      "source": [
        "delattr(HtmlDocument, 'version')\n",
        "# or\n",
        "del HtmlDocument.version"
      ],
      "metadata": {
        "id": "HjhBGLURH2ih"
      },
      "execution_count": null,
      "outputs": []
    },
    {
      "cell_type": "markdown",
      "source": [
        "Class variable storage - Python stores class variables in the __dict__ attribute. The __dict__ is a mapping proxy, which is a dictionary."
      ],
      "metadata": {
        "id": "d52FUGB-INUF"
      }
    },
    {
      "cell_type": "code",
      "source": [
        "from pprint import pprint\n",
        "\n",
        "class HtmlDocument:\n",
        "    extension = 'html'\n",
        "    version = '5'\n",
        "\n",
        "HtmlDocument.media_type = 'text/html'\n",
        "\n",
        "pprint(HtmlDocument.__dict__)\n",
        "# mappingproxy({'__dict__': <attribute '__dict__' of 'HtmlDocument' objects>,\n",
        "#               '__doc__': None,\n",
        "#               '__module__': '__main__',\n",
        "#               '__weakref__': <attribute '__weakref__' of 'HtmlDocument' objects>,\n",
        "#               'extension': 'html',\n",
        "#               'media_type': 'text/html',\n",
        "#               'version': '5'})\n",
        "\n",
        "# Python does not allow you to change the __dict__ directly. For example, the following will result in an error:\n",
        "HtmlDocument.__dict__['released'] = 2008  # TypeError: 'mappingproxy' object does not support item assignment\n",
        "\n",
        "\"\"\"\n",
        "However, you can use the setattr() function or dot notation to indirectly change the __dict__ attribute.\n",
        "Also, the key of the __dict__ are strings that will help Python speeds up the variable lookup.\n",
        "\n",
        "Although Python allows you to access class variables through the __dict__ dictionary, it’s not a good practice. Also, it won’t work in some situations. For example:\n",
        "print(HtmlDocument.__dict__['type']) # BAD CODE\n",
        "\"\"\""
      ],
      "metadata": {
        "id": "jFsfBfO9IN1T"
      },
      "execution_count": null,
      "outputs": []
    },
    {
      "cell_type": "markdown",
      "source": [
        "Methods - By definition, a method is a function that is bound to an instance of a class."
      ],
      "metadata": {
        "id": "C2sCKfHZI176"
      }
    },
    {
      "cell_type": "markdown",
      "source": [
        "The self parameter refers to the individual object itself. It is used to fetch or set attributes of the particular instance.\n",
        "\n",
        "This parameter doesn’t have to be called self, you can call it whatever you want, but it is standard practice, and you should probably stick with it."
      ],
      "metadata": {
        "id": "IAEOF-rVVkib"
      }
    },
    {
      "cell_type": "code",
      "source": [
        "class Request:\n",
        "    def send():\n",
        "        print('Sent')\n",
        "\n",
        "# And you can call the send() function via the Request class like this:\n",
        "Request.send() # Sent\n",
        "\n",
        "print(Request.send) # <function Request.send at 0x00000276F9E00310>\n",
        "print(type(Request.send)) # <class 'function'>\n",
        "\n",
        "# The following creates a new instance of the Request class:\n",
        "http_request = Request()\n",
        "print(http_request.send)  # <bound method Request.send of <__main__.Request object at 0x00000104B6C3D580>>\n",
        "\n",
        "# So the http_request.send is not a function like Request.send.\n",
        "# The following checks if the Request.send is the same object as http_request.send\n",
        "print(type(Request.send) is type(http_request.send))  # False\n",
        "\n",
        "print(type(http_request.send))  # <class 'method'>\n",
        "print(type(Request.send))       # <class 'function'>\n",
        "\n",
        "# So when you define a function inside a class, it’s purely a function. However, when you access that function via an object, the function becomes a method.\n",
        "# Therefore, a method is a function that is bound to an instance of a class.\n",
        "# If you call the send() function via the http_request object, you’ll get a TypeError as follows:\n",
        "http_request.send() # TypeError: send() takes 0 positional arguments but 1 was given\n",
        "\n",
        "# Because the http_request.send is a method that is bound to the http_request object, Python always implicitly passes the object to the method as the first argument.\n",
        "# The following redefines the Request class where the send function accepts a list of arguments:\n",
        "class Request:\n",
        "    def send(*args):\n",
        "        print('Sent', args)\n",
        "Request.send()  # Sent ()\n",
        "\n",
        "# The send() function doesn’t receive any arguments.\n",
        "# However, if you call the send() function from an instance of the Request class, the args is not empty:\n",
        "http_request.send() # Sent (<__main__.Request object at 0x000001374AF4D580>,)\n",
        "\n",
        "# The http_request object is the same as the one Python passes to the send() method as the first argument because they have the same memory address.\n",
        "# In other words, you can access the instance of the class as the first argument inside the send() method:\n",
        "print(hex(id(http_request)))  # 0x1ee3a74d580\n",
        "http_request.send()           # Sent (<__main__.Request object at 0x000001EE3A74D580>,)\n",
        "\n",
        "# For this reason, a method of an object always has the object as the first argument. By convention, it is called self.\n",
        "# If you have worked with other programming languages such as Java or C#, the self is the same as the this object.\n",
        "class Request:\n",
        "    def send(self):\n",
        "        print('Sent', self)"
      ],
      "metadata": {
        "id": "zrL7z2MEI3lL"
      },
      "execution_count": null,
      "outputs": []
    },
    {
      "cell_type": "markdown",
      "source": [
        "`__init__()` - When you create a new object of a class, Python automatically calls the `__init__()` method to initialize the object’s attributes.\n",
        "\n",
        "Unlike regular methods, the `__init__()` method has two underscores (__) on each side. Therefore, the `__init__()` is often called dunder init. The name comes abbreviation of the double underscores init.\n",
        "\n",
        "The double underscores at both sides of the `__init__()` method indicate that Python will use the method internally. In other words, you should not explicitly call this method.\n",
        "\n",
        "Since Python will automatically call the `__init__()` method immediately after creating a new object, you can use the `__init__()` method to initialize the object’s attributes.\n",
        "\n",
        "When you create an instance of the Person class, Python performs two things:\n",
        "\n",
        "* First, create a new instance of the Person class by setting the object’s namespace such as `__dict__` attribute to empty ({}).\n",
        "* Second, call the `__init__` method to initialize the attributes of the newly created object.\n",
        "Note that the `__init__` method doesn’t create the object but only initializes the object’s attributes. Hence, the `__init__()` is not a constructor.\n",
        "\n",
        "If the `__init__` has parameters other than the self, you need to pass the corresponding arguments when creating a new object like the example above. Otherwise, you’ll get an error.\n"
      ],
      "metadata": {
        "id": "j15yjfPaLgh-"
      }
    },
    {
      "cell_type": "markdown",
      "source": [
        "Disadvantages of constructor\n",
        "* Overloading not supported\n",
        "* Limited functionality (ex - no access modifiers)\n",
        "* Constructor maybe unnecessary"
      ],
      "metadata": {
        "id": "NBA4I6ShzH-w"
      }
    },
    {
      "cell_type": "code",
      "source": [
        "class Person:\n",
        "    def __init__(self, name, age):\n",
        "        self.name = name\n",
        "        self.age = age\n",
        "\n",
        "if __name__ == '__main__':\n",
        "    person = Person('John', 25)\n",
        "    print(f\"I'm {person.name}. I'm {person.age} years old.\")"
      ],
      "metadata": {
        "id": "eKIkr6KWLijx"
      },
      "execution_count": null,
      "outputs": []
    },
    {
      "cell_type": "markdown",
      "source": [
        "instance variables - In Python, class variables are bound to a class while instance variables are bound to a specific instance of a class. The instance variables are also called instance attributes."
      ],
      "metadata": {
        "id": "1UODFz1qMsvU"
      }
    },
    {
      "cell_type": "code",
      "source": [
        "from pprint import pprint\n",
        "\n",
        "class HtmlDocument:\n",
        "    version = 5\n",
        "    extension = 'html'\n",
        "\n",
        "pprint(HtmlDocument.__dict__)\n",
        "# mappingproxy({'__dict__': <attribute '__dict__' of 'HtmlDocument' objects>,\n",
        "#               '__doc__': None,\n",
        "#               '__module__': '__main__',\n",
        "#               '__weakref__': <attribute '__weakref__' of 'HtmlDocument' objects>,\n",
        "#               'extension': 'html',\n",
        "#               'version': 5})\n",
        "print(HtmlDocument.extension) # html\n",
        "print(HtmlDocument.version)   # 5\n",
        "\n",
        "# The HtmlDocument class has two class variables: extension and version. Python stores these two variables in the __dict__ attribute.\n",
        "# When you access the class variables via the class, Python looks them up in the __dict__ of the class.\n",
        "\n",
        "# The following creates a new instance of the HtmlDocument class:\n",
        "home = HtmlDocument()\n",
        "\n",
        "# The home is an instance of the HtmlDocument class. It has its own __dict__ attribute:\n",
        "pprint(home.__dict__) # {}\n",
        "\n",
        "# The home.__dict__ stores the instance variables of the home object like the HtmlDocument.__dict__ stores the class variables of the HtmlDocument class.\n",
        "# Unlike the __dict__ attribute of a class, the type of the __dict__ attribute of an instance is a dictionary. For example:\n",
        "type(HtmlDocument.__dict__) # <class 'mappingproxy'>\n",
        "type(home.__dict__) # <class 'dict'>"
      ],
      "metadata": {
        "id": "ZfvmcRKFMyRs"
      },
      "execution_count": null,
      "outputs": []
    },
    {
      "cell_type": "markdown",
      "source": [
        "Since a dictionary is mutable, you can mutate it e.g., adding a new element to the dictionary."
      ],
      "metadata": {
        "id": "aSk_SasbOJ9B"
      }
    },
    {
      "cell_type": "code",
      "source": [
        "print(home.extension)\n",
        "print(home.version)\n",
        "\n",
        "# In this case, Python looks up the variables extension and version in home.__dict__ first. If it doesn’t find them there, it’ll go up to the class and look up in the HtmlDocument.__dict__.\n",
        "# However, if Python can find the variables in the __dict__ of the instance, it won’t look further in the __dict__ of the class.\n",
        "\n",
        "home.version = 6\n",
        "print(home.__dict__)  # {'version': 6}\n",
        "\n",
        "# If you change the class variables, these changes also reflect in the instances of the class:\n",
        "HtmlDocument.media_type = 'text/html'\n",
        "print(home.media_type)  # text/html"
      ],
      "metadata": {
        "id": "JY9VFmnPOKdb"
      },
      "execution_count": null,
      "outputs": []
    },
    {
      "cell_type": "markdown",
      "source": [
        "Encapsulation\n",
        "\n",
        "Encapsulation is one of the four fundamental concepts in object-oriented programming including abstraction, encapsulation, inheritance, and polymorphism.\n",
        "\n",
        "Encapsulation is the packing of data and functions that work on that data within a single object. By doing so, you can hide the internal state of the object from the outside. This is known as information hiding.\n",
        "\n",
        "A class is an example of encapsulation. A class bundles data and methods into a single unit. And a class provides the access to its attributes via methods.\n",
        "\n",
        "The idea of information hiding is that if you have an attribute that isn’t visible to the outside, you can control the access to its value to make sure your object is always has a valid state"
      ],
      "metadata": {
        "id": "8Tzxy_CjO-_2"
      }
    },
    {
      "cell_type": "code",
      "source": [
        "class Counter:\n",
        "    def __init__(self):\n",
        "        self.current = 0\n",
        "\n",
        "    def increment(self):\n",
        "        self.current += 1\n",
        "\n",
        "    def value(self):\n",
        "        return self.current\n",
        "\n",
        "    def reset(self):\n",
        "        self.current = 0\n",
        "\n",
        "counter = Counter()\n",
        "\n",
        "counter.increment()\n",
        "counter.increment()\n",
        "counter.increment()\n",
        "\n",
        "print(counter.value())  # 3\n",
        "\n",
        "# It works perfectly fine but has one issue.\n",
        "# From the outside of the Counter class, you still can access the current attribute and change it to whatever you want.\n",
        "counter.current = -999\n",
        "print(counter.value())  # -999\n",
        "\n",
        "\"\"\"\n",
        "Private attributes - can be only accessible from the methods of the class. In other words, they cannot be accessible from outside of the class.\n",
        "Python doesn’t have a concept of private attributes. In other words, all attributes are accessible from the outside of a class.\n",
        "By convention, you can define a private attribute by prefixing a single underscore (_):\n",
        "\"\"\"\n",
        "class Counter:\n",
        "    def __init__(self):\n",
        "        self._current = 0\n",
        "\n",
        "    def increment(self):\n",
        "        self._current += 1\n",
        "\n",
        "    def value(self):\n",
        "        return self._current\n",
        "\n",
        "    def reset(self):\n",
        "        self._current = 0\n",
        "\n",
        "# Name mangling with double underscores\n",
        "# If you prefix an attribute name with double underscores (__) like this: __attribute\n",
        "# Python will automatically change the name of the __attribute to:  _class__attribute\n",
        "\n",
        "# By doing this, you cannot access the __attribute directly from the outside of a class like: instance.__attribute\n",
        "# However, you still can access it using the _class__attribute name:  instance._class__attribute\n",
        "class Counter:\n",
        "    def __init__(self):\n",
        "        self.__current = 0\n",
        "\n",
        "    def increment(self):\n",
        "        self.__current += 1\n",
        "\n",
        "    def value(self):\n",
        "        return self.__current\n",
        "\n",
        "    def reset(self):\n",
        "        self.__current = 0\n",
        "\n",
        "counter = Counter()\n",
        "print(counter._Counter__current)"
      ],
      "metadata": {
        "id": "so12kH9OPIEm"
      },
      "execution_count": null,
      "outputs": []
    },
    {
      "cell_type": "markdown",
      "source": [
        "Class Attributes\n",
        "\n",
        "The Circle class has two attributes pi and radius. It also has two methods that calculate the area and circumference of a circle.\n",
        "\n",
        "Both pi and radius are called instance attributes. In other words, they belong to a specific instance of the Circle class. If you change the attributes of an instance, it won’t affect other instances.\n",
        "\n",
        "Besides instance attributes, Python also supports class attributes. The class attributes don’t associate with any specific instance of the class. But they’re shared by all instances of the class.\n",
        "\n",
        "If you’ve been programming in Java or C#, you’ll see that class attributes are similar to the static members, but not the same."
      ],
      "metadata": {
        "id": "7vgDYUFKSRYV"
      }
    },
    {
      "cell_type": "code",
      "source": [
        "# To define a class attribute, you place it outside of the __init__() method. For example, the following defines pi as a class attribute:\n",
        "class Circle:\n",
        "    # class attribute\n",
        "    pi = 3.14159\n",
        "\n",
        "    # initializer with instance attributes\n",
        "    def __init__(self, radius):\n",
        "        self.radius = radius\n",
        "\n",
        "    def area(self):\n",
        "        return self.pi * self.radius**2\n",
        "\n",
        "    def circumference(self):\n",
        "        return 2 * self.pi * self.radius\n",
        "\n",
        "c = Circle(10)\n",
        "print(c.pi)       # 3.14159\n",
        "print(Circle.pi)  # 3.14159"
      ],
      "metadata": {
        "id": "S2bJNwLASR4S"
      },
      "execution_count": null,
      "outputs": []
    },
    {
      "cell_type": "markdown",
      "source": [
        "How Python class attributes work"
      ],
      "metadata": {
        "id": "umI0zgIPS7gQ"
      }
    },
    {
      "cell_type": "code",
      "source": [
        "\"\"\"\n",
        "When you access an attribute via an instance of the class, Python searches for the attribute in the instance attribute list.\n",
        "If the instance attribute list doesn’t have that attribute, Python continues looking up the attribute in the class attribute list.\n",
        "Python returns the value of the attribute as long as it finds the attribute in the instance attribute list or class attribute list.\n",
        "\n",
        "However, if you access an attribute, Python directly searches for the attribute in the class attribute list.\n",
        "\"\"\"\n",
        "class Test:\n",
        "    x = 10\n",
        "\n",
        "    def __init__(self):\n",
        "        self.x = 20\n",
        "\n",
        "test = Test()\n",
        "print(test.x)  # 20\n",
        "print(Test.x)  # 10"
      ],
      "metadata": {
        "id": "3rXBgOwrS7-y"
      },
      "execution_count": null,
      "outputs": []
    },
    {
      "cell_type": "markdown",
      "source": [
        "When to use Python class attributes"
      ],
      "metadata": {
        "id": "DvA-SxDVTQq2"
      }
    },
    {
      "cell_type": "code",
      "source": [
        "\"\"\"\n",
        "1) Storing class constants\n",
        "Since a constant doesn’t change from instance to instance of a class, it’s handy to store it as a class attribute.\n",
        "For example, the Circle class has the pi constant that is the same for all instances of the class. Therefore, it’s a good candidate for the class attributes.\n",
        "\"\"\""
      ],
      "metadata": {
        "id": "UJlOeCpNTRNS"
      },
      "execution_count": null,
      "outputs": []
    },
    {
      "cell_type": "code",
      "source": [
        "\"\"\"\n",
        "2) Tracking data across of all instances\n",
        "The following adds the circle_list class attribute to the Circle class. When you create a new instance of the Circle class, the constructor adds the instance to the list:\n",
        "\"\"\"\n",
        "class Circle:\n",
        "    circle_list = []\n",
        "    pi = 3.14159\n",
        "\n",
        "    def __init__(self, radius):\n",
        "        self.radius = radius\n",
        "        # add the instance to the circle list\n",
        "        self.circle_list.append(self)\n",
        "\n",
        "    def area(self):\n",
        "        return self.pi * self.radius**2\n",
        "\n",
        "    def circumference(self):\n",
        "        return 2 * self.pi * self.radius\n",
        "\n",
        "c1 = Circle(10)\n",
        "c2 = Circle(20)\n",
        "\n",
        "print(len(Circle.circle_list))  # 2"
      ],
      "metadata": {
        "id": "CGCoigANTVPC"
      },
      "execution_count": null,
      "outputs": []
    },
    {
      "cell_type": "code",
      "source": [
        "\"\"\"\n",
        "3) Defining default values\n",
        "Sometimes, you want to set a default value for all instances of a class. In this case, you can use a class attribute.\n",
        "The following example defines a Product class. All the instances of the Product class will have a default discount specified by the default_discount class attribute:\n",
        "\"\"\"\n",
        "class Product:\n",
        "    default_discount = 0\n",
        "\n",
        "    def __init__(self, price):\n",
        "        self.price = price\n",
        "        self.discount = Product.default_discount\n",
        "\n",
        "    def set_discount(self, discount):\n",
        "        self.discount = discount\n",
        "\n",
        "    def net_price(self):\n",
        "        return self.price * (1 - self.discount)\n",
        "\n",
        "p1 = Product(100)\n",
        "print(p1.net_price()) # 100\n",
        "\n",
        "p2 = Product(200)\n",
        "p2.set_discount(0.05)\n",
        "print(p2.net_price()) # 190"
      ],
      "metadata": {
        "id": "RVmtFNQQTfmZ"
      },
      "execution_count": null,
      "outputs": []
    },
    {
      "cell_type": "markdown",
      "source": [
        "Features of static variables\n",
        "\n",
        "* Static variables are allocated memory once when the object for the class is created for the first time.\n",
        "* Static variables are created outside of methods but inside a class\n",
        "* Static variables can be accessed through a class but not directly with an instance.\n",
        "* Static variables behavior doesn't change for every object"
      ],
      "metadata": {
        "id": "Ne6deEPVvS0-"
      }
    },
    {
      "cell_type": "code",
      "source": [
        "class Student:\n",
        "  stream = 'cse'\n",
        "\n",
        "  def __init__(self, name, roll):\n",
        "    self.name = name\n",
        "    self.roll = roll\n",
        "\n",
        "a = Student('Geek', 1)\n",
        "b = Student('Nord', 2)\n",
        "\n",
        "print(a.stream)    # cse\n",
        "print(b.stream)    # cse\n",
        "\n",
        "print(a.name)      # Geek\n",
        "print(b.name)      # Nord\n",
        "\n",
        "print(a.roll)      # 1\n",
        "print(b.roll)      # 2\n",
        "\n",
        "print(Student.stream)    # cse\n",
        "\n",
        "a.stream = 'ece'\n",
        "print(a.stream)    # ece\n",
        "print(b.stream)    # cse\n",
        "\n",
        "Student.stream = 'mech'\n",
        "print(a.stream)    # ece\n",
        "print(b.stream)    # mech"
      ],
      "metadata": {
        "id": "rlOu4XJ5wMgM"
      },
      "execution_count": null,
      "outputs": []
    },
    {
      "cell_type": "code",
      "source": [
        "class Student:\n",
        "  stream = 'cse'\n",
        "\n",
        "  def __init__(self, name, roll):\n",
        "    self.name = name\n",
        "    self.roll = roll\n",
        "\n",
        "a = Student('Geek', 1)\n",
        "b = Student('Nord', 2)\n",
        "\n",
        "print(a.stream)    # cse\n",
        "print(b.stream)    # cse\n",
        "\n",
        "print(a.name)      # Geek\n",
        "print(b.name)      # Nord\n",
        "\n",
        "print(a.roll)      # 1\n",
        "print(b.roll)      # 2\n",
        "\n",
        "print(Student.stream)    # cse\n",
        "\n",
        "# a.stream = 'ece'\n",
        "print(a.stream)    # cse\n",
        "print(b.stream)    # cse\n",
        "\n",
        "Student.stream = 'mech'\n",
        "print(a.stream)    # mech\n",
        "print(b.stream)    # mech"
      ],
      "metadata": {
        "id": "qptAmnkzySQ4"
      },
      "execution_count": null,
      "outputs": []
    },
    {
      "cell_type": "markdown",
      "source": [
        "Static Methods\n",
        "\n",
        "So far, you have learned about instance methods that are bound to a specific instance. It means that instance methods can access and modify the state of the bound object.\n",
        "\n",
        "Also, you learned about class methods that are bound to a class. The class methods can access and modify the class state.\n",
        "\n",
        "Unlike instance methods, static methods aren’t bound to an object. In other words, static methods cannot access and modify an object state.\n",
        "\n",
        "In addition, Python doesn’t implicitly pass the cls parameter (or the self parameter) to static methods. Therefore, static methods cannot access and modify the class’s state.\n",
        "\n",
        "In practice, you use static methods to define utility methods or group functions that have some logical relationships in a class."
      ],
      "metadata": {
        "id": "TjMLePLMTvhR"
      }
    },
    {
      "cell_type": "code",
      "source": [
        "\"\"\"\n",
        "Class Methods\n",
        "1. Python implicitly pass the cls argument to class methods.\n",
        "2. Class methods can access and modify the class state.\n",
        "3. Use @classmethod decorators to define class methods.\n",
        "\n",
        "Static Methods\n",
        "1. Python doesn’t implicitly pass the cls argument to static methods.\n",
        "2. Static methods cannot access or modify the class state.\n",
        "3. Use @staticmethod decorators to define static methods.\n",
        "\"\"\"\n",
        "\n",
        "class TemperatureConverter:\n",
        "    KEVIN = 'K',\n",
        "    FAHRENHEIT = 'F'\n",
        "    CELSIUS = 'C'\n",
        "\n",
        "    @staticmethod\n",
        "    def celsius_to_fahrenheit(c):\n",
        "        return 9*c/5 + 32\n",
        "\n",
        "    @staticmethod\n",
        "    def fahrenheit_to_celsius(f):\n",
        "        return 5*(f-32)/9\n",
        "\n",
        "    @staticmethod\n",
        "    def celsius_to_kelvin(c):\n",
        "        return c + 273.15\n",
        "\n",
        "    @staticmethod\n",
        "    def kelvin_to_celsius(k):\n",
        "        return k - 273.15\n",
        "\n",
        "    @staticmethod\n",
        "    def fahrenheit_to_kelvin(f):\n",
        "        return 5*(f+459.67)/9\n",
        "\n",
        "    @staticmethod\n",
        "    def kelvin_to_fahrenheit(k):\n",
        "        return 9*k/5 - 459.67\n",
        "\n",
        "    @staticmethod\n",
        "    def format(value, unit):\n",
        "        symbol = ''\n",
        "        if unit == TemperatureConverter.FAHRENHEIT:\n",
        "            symbol = '°F'\n",
        "        elif unit == TemperatureConverter.CELSIUS:\n",
        "            symbol = '°C'\n",
        "        elif unit == TemperatureConverter.KEVIN:\n",
        "            symbol = '°K'\n",
        "\n",
        "        return f'{value}{symbol}'\n",
        "\n",
        "f = TemperatureConverter.celsius_to_fahrenheit(35)\n",
        "print(TemperatureConverter.format(f, TemperatureConverter.FAHRENHEIT))  # 95.0°F"
      ],
      "metadata": {
        "id": "Y7Y5HufaT__9"
      },
      "execution_count": null,
      "outputs": []
    },
    {
      "cell_type": "markdown",
      "source": [
        "Class Method - is not bound to specific instance, it's bound to class only. @classmethod change an instance method to a class mthod. However, class method cannot access instance attributes, but it can access class attributes using cls."
      ],
      "metadata": {
        "id": "aLtFdLGpUn4-"
      }
    },
    {
      "cell_type": "code",
      "source": [
        "class Person:\n",
        "    counter = 0\n",
        "\n",
        "    def __init__(self, name, age):\n",
        "        self.name = name\n",
        "        self.age = age\n",
        "        Person.counter += 1\n",
        "\n",
        "    # instance method\n",
        "    def greet(self):\n",
        "        return f\"Hi, it's {self.name}.\"\n",
        "\n",
        "    # static method\n",
        "    @staticmethod\n",
        "    def info():\n",
        "        print('static method');\n",
        "\n",
        "    # class method - the first argument of a class method is class itself i.e cls.\n",
        "    @classmethod\n",
        "    def create_anonymous(cls): # if you don't pass cls by defining @classmethod, it'll throw error\n",
        "        print(cls)  # <class '__main__.Person'>\n",
        "        return Person('Anonymous', 22)\n",
        "\n",
        "anonymous = Person.create_anonymous()\n",
        "print(anonymous.name)  # Anonymous\n",
        "Person.info() # static method"
      ],
      "metadata": {
        "id": "_rNccGMTUpVT"
      },
      "execution_count": null,
      "outputs": []
    },
    {
      "cell_type": "markdown",
      "source": [
        "Delete Attributes and Objects"
      ],
      "metadata": {
        "id": "bJrXDrjOWIvI"
      }
    },
    {
      "cell_type": "code",
      "source": [
        "class Car:\n",
        "\n",
        "    # class attribute\n",
        "    wheels = 4\n",
        "\n",
        "    # initializer / instance attributes\n",
        "    def __init__(self, color, style):\n",
        "        self.color = color\n",
        "        self.style = style\n",
        "\n",
        "    # method 1\n",
        "    def showDescription(self):\n",
        "        print(\"This car is a\", self.color, self.style)\n",
        "\n",
        "    # method 2\n",
        "    def changeColor(self, color):\n",
        "        self.color = color\n",
        "\n",
        "c = Car('Black', 'Sedan')\n",
        "\n",
        "# call method 1\n",
        "c.showDescription() # Prints This car is a Black Sedan\n",
        "\n",
        "# call method 2 and set color\n",
        "c.changeColor('White')\n",
        "\n",
        "c.showDescription() # Prints This car is a White Sedan\n",
        "\n",
        "# -------------------- To delete any object attribute, use the del keyword.\n",
        "del c.color\n",
        "\n",
        "# -------------------- You can delete the object completely with del keyword.\n",
        "del c"
      ],
      "metadata": {
        "id": "8tkxsgzhWJO_"
      },
      "execution_count": null,
      "outputs": []
    },
    {
      "cell_type": "markdown",
      "source": [
        "Access parent members in subclass"
      ],
      "metadata": {
        "id": "5iceiu9PuGpz"
      }
    },
    {
      "cell_type": "code",
      "source": [
        "# Using parent class name\n",
        "class Base(object):\n",
        "  def __init__(self, x):\n",
        "    self.x = x\n",
        "\n",
        "class Derived(Base):\n",
        "  def __init__(self, x, y):\n",
        "    Base.x = x\n",
        "    self.y = y\n",
        "\n",
        "  def print(self):\n",
        "    print(Base.x, self.y)\n",
        "\n",
        "d = Derived(10,20)\n",
        "d.print()\n",
        "\n",
        "# Using super\n",
        "class Base(object):\n",
        "  def __init__(self, x):\n",
        "    self.x = x\n",
        "\n",
        "class Derived(Base):\n",
        "  def __init__(self, x, y):\n",
        "    super(Derived, self).__init__(x)\n",
        "    self.y = y\n",
        "\n",
        "  def print(self):\n",
        "    print(self.x, self.y)\n",
        "\n",
        "d = Derived(10,20)\n",
        "d.print()"
      ],
      "metadata": {
        "id": "nQzdniiHuGB7"
      },
      "execution_count": null,
      "outputs": []
    },
    {
      "cell_type": "markdown",
      "source": [
        "Special Methods"
      ],
      "metadata": {
        "id": "ZutuJ9LAXbB_"
      }
    },
    {
      "cell_type": "code",
      "source": [
        "# __str__\n",
        "class Person:\n",
        "    def __init__(self, first_name, last_name, age):\n",
        "        self.first_name = first_name\n",
        "        self.last_name = last_name\n",
        "        self.age = age\n",
        "\n",
        "person = Person('John', 'Doe', 25)\n",
        "print(person) # <__main__.Person object at 0x0000023CA16D13A0>\n",
        "\n",
        "# When you use the print() function to display the instance of the Person class, the print() function shows the memory address of that instance.\n",
        "# Sometimes, it’s useful to have a string representation of an instance of a class. To customize the string representation of a class instance, the class needs to implement the __str__ magic method.\n",
        "# Internally, Python will call the __str__ method automatically when an instance calls the str() method.\n",
        "# Note that the print() function converts all non-keyword arguments to strings by passing them to the str() before displaying the string values.\n",
        "\n",
        "class Person:\n",
        "    def __init__(self, first_name, last_name, age):\n",
        "        self.first_name = first_name\n",
        "        self.last_name = last_name\n",
        "        self.age = age\n",
        "\n",
        "    def __str__(self):\n",
        "        return f'Person({self.first_name},{self.last_name},{self.age})'\n",
        "\n",
        "person = Person('John', 'Doe', 25)\n",
        "print(person) # Person(John,Doe,25)"
      ],
      "metadata": {
        "id": "BvhIk3F3goSl"
      },
      "execution_count": null,
      "outputs": []
    },
    {
      "cell_type": "code",
      "source": [
        "# __repr__\n",
        "# The __repr__ method returns the string representation of an object. Typically, the __repr__() returns a string that can be executed and yield the same value as the object.\n",
        "# In other words, if you pass the returned string of the object_name.__repr__() method to the eval() function, you’ll get the same value as the object_name. Let’s take a look at an example.\n",
        "# i.e it return a string representation of instance that can be used to recreate an object where __str()__ return human readable string representation of an instance.\n",
        "class Person:\n",
        "    def __init__(self, first_name, last_name, age):\n",
        "        self.first_name = first_name\n",
        "        self.last_name = last_name\n",
        "        self.age = age\n",
        "\n",
        "    def __repr__(self):\n",
        "        return f'Person(\"{self.first_name}\",\"{self.last_name}\",{self.age})'\n",
        "\n",
        "person = Person(\"John\", \"Doe\", 25)\n",
        "print(repr(person)) # Person(\"John\",\"Doe\",25)\n",
        "\n",
        "# When a class doesn’t implement the __str__ method and you pass an instance of that class to the str(),\n",
        "# Python returns the result of the __repr__ method because internally the __str__ method calls the __repr__ method:\n",
        "class Person:\n",
        "    def __init__(self, first_name, last_name, age):\n",
        "        self.first_name = first_name\n",
        "        self.last_name = last_name\n",
        "        self.age = age\n",
        "\n",
        "    def __repr__(self):\n",
        "        return f'Person(\"{self.first_name}\",\"{self.last_name}\",{self.age})'\n",
        "\n",
        "    def __str__(self):\n",
        "        return f'({self.first_name},{self.last_name},{self.age})'\n",
        "\n",
        "person = Person('John', 'Doe', 25)\n",
        "# use str()\n",
        "print(person)       # (John,Doe,25)\n",
        "\n",
        "# use repr()\n",
        "print(repr(person)) # Person(\"John\",\"Doe\",25)"
      ],
      "metadata": {
        "id": "Nv_94W1qhnjy"
      },
      "execution_count": null,
      "outputs": []
    },
    {
      "cell_type": "code",
      "source": [
        "# __eq__\n",
        "class Person:\n",
        "    def __init__(self, first_name, last_name, age):\n",
        "        self.first_name = first_name\n",
        "        self.last_name = last_name\n",
        "        self.age = age\n",
        "\n",
        "john = Person('John', 'Doe', 25)\n",
        "jane = Person('Jane', 'Doe', 25)\n",
        "\n",
        "print(john is jane)  # False\n",
        "print(john == jane) # False\n",
        "\n",
        "# Since john and jane have the same age, you want them to be equal.\n",
        "# In other words, you want the following expression to return True: john == jane\n",
        "\n",
        "# To do it, you can implement the __eq__ dunder method in the Person class.\n",
        "class Person:\n",
        "    def __init__(self, first_name, last_name, age):\n",
        "        self.first_name = first_name\n",
        "        self.last_name = last_name\n",
        "        self.age = age\n",
        "\n",
        "    def __eq__(self, other):\n",
        "        return self.age == other.age\n",
        "\n",
        "john = Person('John', 'Doe', 25)\n",
        "jane = Person('Jane', 'Doe', 25)\n",
        "print(john == jane)  # True\n",
        "\n",
        "john = Person('John', 'Doe', 25)\n",
        "mary = Person('Mary', 'Doe', 27)\n",
        "print(john == mary)  # False\n",
        "\n",
        "john = Person('John', 'Doe', 25)\n",
        "print(john == 20) # AttributeError: 'int' object has no attribute 'age'\n",
        "\n",
        "# To fix this, you can modify the __eq__ method to check if the object is an instance of the Person class before accessing the age attribute.\n",
        "# If the other object isn’t an instance of the Person class, the __eq__ method returns False, like this:\n",
        "class Person:\n",
        "    def __init__(self, first_name, last_name, age):\n",
        "        self.first_name = first_name\n",
        "        self.last_name = last_name\n",
        "        self.age = age\n",
        "\n",
        "    def __eq__(self, other):\n",
        "        if isinstance(other, Person):\n",
        "            return self.age == other.age\n",
        "        return False\n",
        "\n",
        "john = Person('John', 'Doe', 25)\n",
        "print(john == 20)  # False"
      ],
      "metadata": {
        "id": "jhaON0QHkNI1"
      },
      "execution_count": null,
      "outputs": []
    },
    {
      "cell_type": "code",
      "source": [
        "# __hash__\n",
        "class Person:\n",
        "    def __init__(self, name, age):\n",
        "        self.name = name\n",
        "        self.age = age\n",
        "\n",
        "p1 = Person('John', 22)\n",
        "p2 = Person('Jane', 22)\n",
        "\n",
        "print(hash(p1)) # 110373112736\n",
        "print(hash(p2)) # 110373572343\n",
        "\n",
        "# The hash() function accepts an object and returns the hash value as an integer.\n",
        "# When you pass an object to the hash() function, Python will execute the __hash__ special method of the object.\n",
        "# It means that when you pass the p1 object to the hash() function: hash(p1)\n",
        "# Python will call the __hash__ method of the p1 object:  p1.__hash__()\n",
        "# By default, __hash__ uses the id of objects and __eq__ uses the is operator for comparisons.\n",
        "\n",
        "\"\"\"\n",
        "By default, the __hash__ uses the object’s identity and the __eq__ returns True if two objects are the same. To override this default behavior, you can implement the __eq__ and __hash__.\n",
        "If a class overrides the __eq__ method, the objects of the class become unhashable. This means that you won’t able to use the objects in a mapping type. For example, you will not able to use them as keys in a dictionary or elements in a set.\n",
        "\"\"\"\n",
        "class Person:\n",
        "    def __init__(self, name, age):\n",
        "        self.name = name\n",
        "        self.age = age\n",
        "\n",
        "    def __eq__(self, other):\n",
        "        return isinstance(other, Person) and self.age == other.age\n",
        "\n",
        "members = {\n",
        "    Person('John', 22),\n",
        "    Person('Jane', 22)\n",
        "} # TypeError: unhashable type: 'Person'\n",
        "\n",
        "# Also, the Person’s object loses hashing because if you implement __eq__, the __hash__ is set to None. For example:\n",
        "hash(Person('John', 22))  # TypeError: unhashable type: 'Person'\n",
        "\n",
        "# solution\n",
        "# To make the Person work well in data structures like dictionaries, the hash of the class should remain immutable.\n",
        "# To do it, you can make the age attribute of the Person class a read-only property:\n",
        "class Person:\n",
        "    def __init__(self, name, age):\n",
        "        self.name = name\n",
        "        self.age = age\n",
        "\n",
        "    def __eq__(self, other):\n",
        "        return isinstance(other, Person) and self.age == other.age\n",
        "\n",
        "    def __hash__(self):\n",
        "        return hash(self.age)"
      ],
      "metadata": {
        "id": "2K2cOSrfk2OT"
      },
      "execution_count": null,
      "outputs": []
    },
    {
      "cell_type": "code",
      "source": [
        "# __bool__\n",
        "class Person:\n",
        "    def __init__(self, name, age):\n",
        "        self.name = name\n",
        "        self.age = age\n",
        "\n",
        "if __name__ == '__main__':\n",
        "    person = Person('John', 25)\n",
        "# In this example, we define the Person class, instantiate an object, and show its boolean value.\n",
        "# As expected, the person object is True.\n",
        "\n",
        "# To override this default behavior, you implement the __bool__ special method. The __bool__ method must return a boolean value, True or False.\n",
        "class Person:\n",
        "    def __init__(self, name, age):\n",
        "        self.name = name\n",
        "        self.age = age\n",
        "\n",
        "    def __bool__(self):\n",
        "        if self.age < 18 or self.age > 65:\n",
        "            return False\n",
        "        return True\n",
        "\n",
        "if __name__ == '__main__':\n",
        "    person = Person('Jane', 16)\n",
        "    print(bool(person))  # False"
      ],
      "metadata": {
        "id": "BSa6gPWyl9oD"
      },
      "execution_count": null,
      "outputs": []
    },
    {
      "cell_type": "code",
      "source": [
        "# __len__\n",
        "# If a custom class doesn’t have the __bool__ method, Python will look for the __len__() method. If the __len__ is zero, the object is False. Otherwise, it’s True.\n",
        "# If a class doesn’t implement the __bool__ and __len__ methods, the objects of the class will evaluate to True.\n",
        "class Payroll:\n",
        "    def __init__(self, length):\n",
        "        self.length = length\n",
        "\n",
        "    def __len__(self):\n",
        "        print('len was called...')\n",
        "        return self.length\n",
        "\n",
        "if __name__ == '__main__':\n",
        "    payroll = Payroll(0)\n",
        "    print(bool(payroll))  # False\n",
        "\n",
        "    payroll.length = 10\n",
        "    print(bool(payroll))  # True"
      ],
      "metadata": {
        "id": "HRrl6YTbmV6-"
      },
      "execution_count": null,
      "outputs": []
    },
    {
      "cell_type": "code",
      "source": [
        "# __del__\n",
        "# In Python, the garbage collector manages memory automatically. The garbage collector will destroy the objects that\n",
        "# are not referenced.\n",
        "# If an object implements the __del__ method, Python calls the __del__ method right before the garbage collector destroys\n",
        "# the object.\n",
        "# However, the garbage collector determines when to destroy the object. Therefore, it determines when the __del__ method\n",
        "# will be called.\n",
        "# The __del__ is sometimes referred to as a class finalizer. Note that __del__ is not the destructor because the garbage\n",
        "# collector destroys the object, not the __del__ method.\n",
        "\n",
        "# Python calls the __del__ method when all object references are gone. And you cannot control it in most cases.\n",
        "# Therefore, you should not use the __del__ method to clean up the resources. It’s recommended to use the context manager.\n",
        "# If the __del__ contains references to objects, the garbage collector will also destroy these objects when the __del__ is called.\n",
        "# If the __del__ references the global objects, it may create unexpected behaviors.\n",
        "# If an exception occurs inside the __del__ method, Python does not raise the exception but keeps it silent.\n",
        "# Also, Python sends the exception message to the stderr. Therefore, the main program will be able to be aware of the exceptions\n",
        "# during the finalization.\n",
        "# In practice, you’ll rarely use the __del__ method.\n",
        "\n",
        "# Destructors in python\n",
        "# destructors are called when an object gets destroyed. Destructors are not much needed as in C++ bcz python has garbage collector that\n",
        "# handles memory management automatically.\n",
        "class Employee:\n",
        "  def __init__(self):\n",
        "    print(\"employee created\")\n",
        "\n",
        "  def __del__(self):\n",
        "    print(\"destructor called, Employee deleted\")\n",
        "\n",
        "obj = Employee()\n",
        "del obj\n"
      ],
      "metadata": {
        "id": "TmKbfRMBmsL3"
      },
      "execution_count": null,
      "outputs": []
    },
    {
      "cell_type": "markdown",
      "source": [
        "Inheritance"
      ],
      "metadata": {
        "id": "fZLx4vdvm-07"
      }
    },
    {
      "cell_type": "code",
      "source": [
        "class Person:\n",
        "    def __init__(self, name):\n",
        "        self.name = name\n",
        "\n",
        "    def greet(self):\n",
        "        return f\"Hi, it's {self.name}\"\n",
        "\n",
        "class Employee(Person):\n",
        "    def __init__(self, name, job_title):\n",
        "        self.name = name\n",
        "        self.job_title = job_title\n",
        "\n",
        "    def greet(self):\n",
        "        return f\"Hi, it's {self.name}\"\n",
        "\n",
        "employee = Employee('John', 'Python Developer')\n",
        "print(employee.greet()) # Hi, it's John\n",
        "\n",
        "person = Person('Jane')\n",
        "print(type(person)) # <class '__main__.Person'>\n",
        "\n",
        "employee = Employee('John', 'Python Developer')\n",
        "print(type(employee)) # <class '__main__.Employee'>\n",
        "\n",
        "person = Person('Jane')\n",
        "print(isinstance(person, Person))  # True\n",
        "\n",
        "employee = Employee('John', 'Python Developer')\n",
        "print(isinstance(employee, Person))  # True\n",
        "print(isinstance(employee, Employee))  # True\n",
        "print(isinstance(person, Employee))  # False\n",
        "\n",
        "print(issubclass(Employee, Person)) # True\n",
        "\n",
        "# Note that when you define a class that doesn’t inherit from any class, it’ll implicitly inherit from the built-in object class.\n",
        "print(issubclass(Person, object)) # True"
      ],
      "metadata": {
        "id": "LZxkIJG8nCdj"
      },
      "execution_count": null,
      "outputs": []
    },
    {
      "cell_type": "markdown",
      "source": [
        "overridding method"
      ],
      "metadata": {
        "id": "r7yqVnvz149q"
      }
    },
    {
      "cell_type": "code",
      "source": [
        "class Employee:\n",
        "    def __init__(self, name, base_pay):\n",
        "        self.name = name\n",
        "        self.base_pay = base_pay\n",
        "\n",
        "    def get_pay(self):\n",
        "        return self.base_pay\n",
        "\n",
        "class SalesEmployee(Employee):\n",
        "    def __init__(self, name, base_pay, sales_incentive):\n",
        "        self.name = name\n",
        "        self.base_pay = base_pay\n",
        "        self.sales_incentive = sales_incentive\n",
        "\n",
        "john = SalesEmployee('John', 5000, 1500)\n",
        "print(john.get_pay()) # 5000\n",
        "\n",
        "# overriding get_pay method\n",
        "class SalesEmployee(Employee):\n",
        "    def __init__(self, name, base_pay, sales_incentive):\n",
        "        self.name = name\n",
        "        self.base_pay = base_pay\n",
        "        self.sales_incentive = sales_incentive\n",
        "\n",
        "    def get_pay(self):\n",
        "        return self.base_pay + self.sales_incentive\n",
        "\n",
        "john = SalesEmployee('John', 5000, 1500)\n",
        "print(john.get_pay()) # 6500"
      ],
      "metadata": {
        "id": "LLRtNmPq15cx"
      },
      "execution_count": null,
      "outputs": []
    },
    {
      "cell_type": "markdown",
      "source": [
        "super - to call the methods of a parent class from a child class."
      ],
      "metadata": {
        "id": "gHiKTfdy2Wuy"
      }
    },
    {
      "cell_type": "code",
      "source": [
        "class Employee:\n",
        "    def __init__(self, name, base_pay, bonus):\n",
        "        self.name = name\n",
        "        self.base_pay = base_pay\n",
        "        self.bonus = bonus\n",
        "\n",
        "    def get_pay(self):\n",
        "        return self.base_pay + self.bonus\n",
        "\n",
        "class SalesEmployee(Employee):\n",
        "    def __init__(self, name, base_pay, bonus, sales_incentive):\n",
        "        super().__init__(name, base_pay, bonus)\n",
        "        self.sales_incentive = sales_incentive\n",
        "\n",
        "    def get_pay(self):\n",
        "        return super().get_pay() + self.sales_incentive\n",
        "\n",
        "if __name__ == '__main__':\n",
        "    sales_employee = SalesEmployee('John', 5000, 1000, 2000)\n",
        "    print(sales_employee.get_pay())  # 8000"
      ],
      "metadata": {
        "id": "0bSDCauD2XKA"
      },
      "execution_count": null,
      "outputs": []
    },
    {
      "cell_type": "markdown",
      "source": [
        "`__slots__`\n",
        "\n",
        "By default, Python uses the dictionaries to manage the instance attributes. The dictionary allows you to add more attributes to the instance dynamically at runtime. However, it also has a certain memory overhead. If the Point2D class has many objects, there will be a lot of memory overhead.\n",
        "\n",
        "To avoid the memory overhead, Python introduced the slots. If a class only contains fixed (or predetermined) instance attributes, you can use the slots to instruct Python to use a more compact data structure instead of dictionaries."
      ],
      "metadata": {
        "id": "3mNTI-mj22lY"
      }
    },
    {
      "cell_type": "code",
      "source": [
        "class Point2D:\n",
        "    def __init__(self, x, y):\n",
        "        self.x = x\n",
        "        self.y = y\n",
        "\n",
        "    def __repr__(self):\n",
        "        return f'Point2D({self.x},{self.y})'\n",
        "\n",
        "point = Point2D(0, 0)\n",
        "print(point.__dict__) # {'x': 0, 'y': 0}\n",
        "\n",
        "class Point2D:\n",
        "    __slots__ = ('x', 'y')\n",
        "\n",
        "    def __init__(self, x, y):\n",
        "        self.x = x\n",
        "        self.y = y\n",
        "\n",
        "    def __repr__(self):\n",
        "        return f'Point2D({self.x},{self.y})'\n",
        "\n",
        "point = Point2D(0, 0)\n",
        "print(point.__dict__) # AttributeError: 'Point2D' object has no attribute __dict__\n",
        "\n",
        "point = Point2D(0, 0)\n",
        "print(point.__slots__)  # ('x', 'y')\n",
        "\n",
        "point.z = 0 # AttributeError: 'Point2D' object has no attribute 'z'\n",
        "\n",
        "# However, you can add the class attributes to the class:\n",
        "Point2D.color = 'black'\n",
        "pprint(Point2D.__dict__)\n",
        "# mappingproxy({'__doc__': None,\n",
        "#               '__init__': <function Point2D.__init__ at 0x000001BBBA841310>,\n",
        "#               '__module__': '__main__',\n",
        "#               '__repr__': <function Point2D.__repr__ at 0x000001BBBA8413A0>,\n",
        "#               '__slots__': ('x', 'y'),\n",
        "#               'color': 'black',\n",
        "#               'x': <member 'x' of 'Point2D' objects>,\n",
        "#               'y': <member 'y' of 'Point2D' objects>})"
      ],
      "metadata": {
        "id": "ske4MCJj3ITR"
      },
      "execution_count": null,
      "outputs": []
    },
    {
      "cell_type": "markdown",
      "source": [
        "`__slots__` and single inheritance"
      ],
      "metadata": {
        "id": "m0bkCJ6d36Q2"
      }
    },
    {
      "cell_type": "code",
      "source": [
        "# ---------------------- The base class uses the slots but the subclass doesn’t\n",
        "class Point2D:\n",
        "    __slots__ = ('x', 'y')\n",
        "\n",
        "    def __init__(self, x, y):\n",
        "        self.x = x\n",
        "        self.y = y\n",
        "\n",
        "    def __repr__(self):\n",
        "        return f'Point2D({self.x},{self.y})'\n",
        "\n",
        "class Point3D(Point2D):\n",
        "    def __init__(self, x, y, z):\n",
        "        super().__init__(x, y)\n",
        "        self.z = z\n",
        "\n",
        "if __name__ == '__main__':\n",
        "    point = Point3D(10, 20, 30)\n",
        "    point.c = 69\n",
        "    print(point.__dict__)   # {'z': 30, 'c': 69}\n",
        "    print(point.__slots__)  # ('x', 'y')\n",
        "\n",
        "# The Point3D class doesn’t have slots so its instance has the __dict__ attribute.\n",
        "# In this case, the subclass Point3D uses slots from its base class (if available) and uses an instance dictionary.\n",
        "# If you want the Point3D class to use slots, you can define additional attributes like this:\n",
        "class Point3D(Point2D):\n",
        "    __slots__ = ('z',)\n",
        "\n",
        "    def __init__(self, x, y, z):\n",
        "        super().__init__(x, y)\n",
        "        self.z = z\n",
        "\n",
        "# ---------------------- The base class doesn’t use __slots__ and the subclass does\n",
        "class Shape:\n",
        "    pass\n",
        "\n",
        "class Point2D(Shape):\n",
        "    __slots__ = ('x', 'y')\n",
        "\n",
        "    def __init__(self, x, y):\n",
        "        self.x = x\n",
        "        self.y = y\n",
        "\n",
        "if __name__ == '__main__':\n",
        "    # use both slots and dict to store instance attributes\n",
        "    point = Point2D(10, 10)\n",
        "    print(point.__slots__)  # ('x', 'y')\n",
        "    print(point.__dict__)   # {}\n",
        "\n",
        "    # can add the attribute at runtime\n",
        "    point.color = 'black'\n",
        "    print(point.__dict__)   # {'color': 'black'}"
      ],
      "metadata": {
        "id": "0fsKe2WU39LB"
      },
      "execution_count": null,
      "outputs": []
    },
    {
      "cell_type": "markdown",
      "source": [
        "Abstract Class\n",
        "\n",
        "In object-oriented programming, an abstract class is a class that cannot be instantiated. However, you can create classes that inherit from an abstract class.\n",
        "\n",
        "Typically, you use an abstract class to create a blueprint for other classes.\n",
        "\n",
        "Similarly, an abstract method is an method without an implementation. An abstract class may or may not include abstract methods.\n",
        "\n",
        "Python doesn’t directly support abstract classes. But it does offer a module that allows you to define abstract classes.\n",
        "\n",
        "To define an abstract class, you use the abc (abstract base class) module.\n",
        "\n",
        "The abc module provides you with the infrastructure for defining abstract base classes."
      ],
      "metadata": {
        "id": "X9l_gyal6X7Y"
      }
    },
    {
      "cell_type": "code",
      "source": [
        "from abc import ABC, abstractmethod\n",
        "\n",
        "class Employee(ABC):\n",
        "    def __init__(self, first_name, last_name):\n",
        "        self.first_name = first_name\n",
        "        self.last_name = last_name\n",
        "\n",
        "    @property\n",
        "    def full_name(self):\n",
        "        return f\"{self.first_name} {self.last_name}\"\n",
        "\n",
        "    @abstractmethod\n",
        "    def get_salary(self):\n",
        "        pass\n",
        "\n",
        "class FulltimeEmployee(Employee):\n",
        "    def __init__(self, first_name, last_name, salary):\n",
        "        super().__init__(first_name, last_name)\n",
        "        self.salary = salary\n",
        "\n",
        "    def get_salary(self):\n",
        "        return self.salary\n",
        "\n",
        "class HourlyEmployee(Employee):\n",
        "    def __init__(self, first_name, last_name, worked_hours, rate):\n",
        "        super().__init__(first_name, last_name)\n",
        "        self.worked_hours = worked_hours\n",
        "        self.rate = rate\n",
        "\n",
        "    def get_salary(self):\n",
        "        return self.worked_hours * self.rate\n",
        "\n",
        "class Payroll:\n",
        "    def __init__(self):\n",
        "        self.employee_list = []\n",
        "\n",
        "    def add(self, employee):\n",
        "        self.employee_list.append(employee)\n",
        "\n",
        "    def print(self):\n",
        "        for e in self.employee_list:\n",
        "            print(f\"{e.full_name} \\t ${e.get_salary()}\")\n",
        "\n",
        "payroll = Payroll()\n",
        "\n",
        "payroll.add(FulltimeEmployee('John', 'Doe', 6000))\n",
        "payroll.add(FulltimeEmployee('Jane', 'Doe', 6500))\n",
        "payroll.add(HourlyEmployee('Jenifer', 'Smith', 200, 50))\n",
        "payroll.add(HourlyEmployee('David', 'Wilson', 150, 100))\n",
        "payroll.add(HourlyEmployee('Kevin', 'Miller', 100, 150))\n",
        "\n",
        "payroll.print()\n",
        "'''\n",
        "John Doe         $6000\n",
        "Jane Doe         $6500\n",
        "Jenifer Smith    $10000\n",
        "David Wilson     $15000\n",
        "Kevin Miller     $15000\n",
        "\n",
        "In practice, you use abstract classes to share the code among several closely related classes. In the payroll program, all\n",
        "subclasses of the Employee class share the same full_name property.\n",
        "'''"
      ],
      "metadata": {
        "id": "lX3MOoUU6Zho"
      },
      "execution_count": null,
      "outputs": []
    },
    {
      "cell_type": "markdown",
      "source": [
        "Multiple inheritance.\n",
        "\n",
        "Method resolution order (MRO) i.e left to right\n",
        "__init__ of child -> __init__ of parent1 -> __init__ of parent2"
      ],
      "metadata": {
        "id": "xGb4auHq68Bu"
      }
    },
    {
      "cell_type": "code",
      "source": [
        "class Car:\n",
        "    def start(self):\n",
        "        print('Start the Car')\n",
        "\n",
        "    def go(self):\n",
        "        print('Going')\n",
        "\n",
        "class Flyable:\n",
        "    def start(self):\n",
        "        print('Start the Flyable object')\n",
        "\n",
        "    def fly(self):\n",
        "        print('Flying')\n",
        "\n",
        "# result in order of extending. From left to right, you’ll see the FlyingCar, Flyable, Car, and object.\n",
        "# When the parent classes have methods with the same name and the child class calls the method,\n",
        "# Python uses the method resolution order (MRO) to search for the right method to call.\n",
        "class FlyingCar(Flyable, Car):\n",
        "    def start(self):\n",
        "        super().start()\n",
        "\n",
        "if __name__ == '__main__':\n",
        "    car = FlyingCar()\n",
        "    car.start() # Start the Flyable object\n",
        "\n",
        "class FlyingCar(Car, Flyable):\n",
        "    def start(self):\n",
        "        super().start()\n",
        "\n",
        "if __name__ == '__main__':\n",
        "    car = FlyingCar()\n",
        "    car.start() # Start the car\n",
        "\n",
        "print(FlyingCar.__mro__)  # (<class '__main__.FlyingCar'>, <class '__main__.Flyable'>, <class '__main__.Car'>, <class 'object'>)"
      ],
      "metadata": {
        "id": "bGqoAMM_7Bc4"
      },
      "execution_count": null,
      "outputs": []
    },
    {
      "cell_type": "markdown",
      "source": [
        "multiple inheritance and super"
      ],
      "metadata": {
        "id": "M-wuR0vr8iXu"
      }
    },
    {
      "cell_type": "code",
      "source": [
        "# __init__ method needs to call the right __init__ method specified in the method order resolution __mro__ of the class.\n",
        "class Car:\n",
        "    def __init__(self, door, wheel):\n",
        "        self.door = door\n",
        "        self.wheel = wheel\n",
        "\n",
        "    def start(self):\n",
        "        print('Start the Car')\n",
        "\n",
        "    def go(self):\n",
        "        print('Going')\n",
        "\n",
        "class Flyable:\n",
        "    def __init__(self, wing):\n",
        "        self.wing = wing\n",
        "\n",
        "    def start(self):\n",
        "        print('Start the Flyable object')\n",
        "\n",
        "    def fly(self):\n",
        "        print('Flying')\n",
        "\n",
        "class FlyingCar(Flyable, Car):\n",
        "    def __init__(self, door, wheel, wing):\n",
        "        super().__init__(wing=wing) # the super().__init__() calls the __init__ of the FlyingCar class. Therefore, you need to pass the wing argument to the __init__ method.\n",
        "        self.door = door\n",
        "        self.wheel = wheel\n",
        "\n",
        "    def start(self):\n",
        "        super().start()"
      ],
      "metadata": {
        "id": "V5t3vBTl8khS"
      },
      "execution_count": null,
      "outputs": []
    },
    {
      "cell_type": "markdown",
      "source": [
        "Mixin\n",
        "\n",
        "A mixin is a class that provides method implementations for reuse by multiple related child classes. However, the inheritance is not implying an is-a relationship.\n",
        "\n",
        "A mixin doesn’t define a new type. Therefore, it is not intended for direction instantiation.\n",
        "\n",
        "A mixin bundles a set of methods for reuse. Each mixin should have a single specific behavior, implementing closely related methods.\n",
        "\n",
        "Typically, a child class uses multiple inheritance to combine the mixin classes with a parent class.\n",
        "\n",
        "Since Python doesn’t define a formal way to define mixin classes, it’s a good practice to name mixin classes with the suffix Mixin.\n",
        "\n",
        "A mixin class is like an interface in Java and C# with implementation. And it’s like a trait in PHP."
      ],
      "metadata": {
        "id": "I5GN_xsO9LZ0"
      }
    },
    {
      "cell_type": "code",
      "source": [
        "import json\n",
        "from pprint import pprint\n",
        "\n",
        "class DictMixin:\n",
        "    def to_dict(self):\n",
        "        return self._traverse_dict(self.__dict__)\n",
        "\n",
        "    def _traverse_dict(self, attributes):\n",
        "        result = {}\n",
        "        for key, value in attributes.items():\n",
        "            result[key] = self._traverse(key, value)\n",
        "        return result\n",
        "\n",
        "    def _traverse(self, key, value):\n",
        "        if isinstance(value, DictMixin):\n",
        "            return value.to_dict()\n",
        "        elif isinstance(value, dict):\n",
        "            return self._traverse_dict(value)\n",
        "        elif isinstance(value, list):\n",
        "            return [self._traverse(key, v) for v in value]\n",
        "        elif hasattr(value, '__dict__'):\n",
        "            return self._traverse_dict(value.__dict__)\n",
        "        else:\n",
        "            return value\n",
        "\n",
        "class JSONMixin:\n",
        "    def to_json(self):\n",
        "        return json.dumps(self.to_dict())\n",
        "\n",
        "class Person:\n",
        "    def __init__(self, name):\n",
        "        self.name = name\n",
        "\n",
        "class Employee(DictMixin, JSONMixin, Person):\n",
        "    def __init__(self, name, skills, dependents):\n",
        "        super().__init__(name)\n",
        "        self.skills = skills\n",
        "        self.dependents = dependents\n",
        "\n",
        "if __name__ == '__main__':\n",
        "    e = Employee(\n",
        "        name='John',\n",
        "        skills=['Python Programming''Project Management'],\n",
        "        dependents={'wife': 'Jane', 'children': ['Alice', 'Bob']}\n",
        "    )\n",
        "    pprint(e.to_dict())\n",
        "    print(e.to_json())\n",
        "\n",
        "# {\n",
        "#     'dependents': {\n",
        "#         'children': ['Alice', 'Bob'],\n",
        "#         'wife': 'Jane'\n",
        "#     },\n",
        "#     'name': 'John',\n",
        "#     'skills': ['Python ProgrammingProject Management']\n",
        "# }\n",
        "\n",
        "# {\n",
        "#     \"name\": \"John\",\n",
        "#     \"skills\": [\"Python ProgrammingProject Management\"],\n",
        "#     \"dependents\": {\n",
        "#         \"wife\": \"Jane\",\n",
        "#         \"children\": [\"Alice\", \"Bob\"]\n",
        "#     }\n",
        "# }"
      ],
      "metadata": {
        "id": "vDGfl63f9Ycl"
      },
      "execution_count": null,
      "outputs": []
    },
    {
      "cell_type": "markdown",
      "source": [
        "`__import__()`\n",
        "While writing a code, there might be a need for some specific modules. So we import those modules by using a single-line code in Python. But what if the name of the module needed is known to us only during runtime? How can we import that module? One can use Python’s inbuilt __import__() function. It helps to import modules in runtime also.\n",
        "\n",
        "The __import__() module is used to dynamically import a module in the code. We just need to specify the name of the module as a string to the __import__() method. It will then return the object of the imported module, which can be used to access the function and classes of the module."
      ],
      "metadata": {
        "id": "WAMTr-6B4uVU"
      }
    },
    {
      "cell_type": "code",
      "source": [
        "# Example 1: __import__() function to import the Python NumPy module dynamically to create an array.\n",
        "np = __import__('numpy', globals(), locals(), [], 0) # it is equivalent to \"import numpy as np\"\n",
        "a = np.array([1, 2, 3])\n",
        "print(type(a))  # <class 'numpy.ndarray'>\n",
        "\n",
        "# Example 2: we are importing the Numpy module as well as its complex() and array().\n",
        "np = __import__('numpy', globals(), locals(), ['complex', 'array'], 0)\n",
        "\n",
        "comp = np.complex\n",
        "arr = np.array\n",
        "\n",
        "comp_number = comp(5, 2)\n",
        "my_arr = arr([1, 2, 3 , 4])\n",
        "\n",
        "print(comp_number)  # (5+2j)\n",
        "print(my_arr) # [1 2 3 4]\n",
        "\n",
        "# __import__() in Python is not really necessary in everyday Python programming. Its direct use is rare.\n",
        "# But sometimes, when there is a need of importing modules during the runtime, this function comes in quite handy."
      ],
      "metadata": {
        "id": "sHkMTvaM435G"
      },
      "execution_count": null,
      "outputs": []
    },
    {
      "cell_type": "markdown",
      "source": [
        "First class functions\n",
        "**First class** objects in a language are handled uniformly throughout. They may be stored in data structure, passed as arguments, or used in control structures. A programming language is said to support first-class function if it treats functions as first-class objects.\n",
        "\n",
        "**Properties of first class functions:**\n",
        "* a function is an instance of Object type.\n",
        "* you can store the function in a variable\n",
        "* you can pass tha function as a parameter to another function\n",
        "* you can return the function from a function\n",
        "* you can store them in a data structures such as hash tables, lists, ..."
      ],
      "metadata": {
        "id": "vfx-wYKN7PJo"
      }
    },
    {
      "cell_type": "code",
      "source": [
        "# Functions are objects: python functions are first class objects. We are assigning function to a variable. This argument doesn't call function.\n",
        "# it takes the function object referenced by shout and creates a second pointing to it.\n",
        "def shout(text):\n",
        "  return text.upper()\n",
        "\n",
        "print(shout(\"HEllo\")) # HELLO\n",
        "yell = shout\n",
        "print(yell(\"HeLLo\"))  # HELLO"
      ],
      "metadata": {
        "id": "fy527YOp8adi"
      },
      "execution_count": null,
      "outputs": []
    },
    {
      "cell_type": "code",
      "source": [
        "# Functions can be passed as arguments to other functions: bcz function are objects we can pass them as aarguments to other functions. Functions that can accept other functions are called higher-order functions.\n",
        "def shout(text):\n",
        "  return text.upper()\n",
        "\n",
        "def whisper(text):\n",
        "  return text.lower()\n",
        "\n",
        "def greet(func):\n",
        "  greeting = func(\"\"\"Hi, I am created by a function passed as an argument...\"\"\")\n",
        "  print(greeting)\n",
        "\n",
        "greet(shout)    # HI, I AM CREATED BY A FUNCTION PASSED AS AN ARGUMENT...\n",
        "greet(whisper)  # hi, i am created by a function passed as an argument..."
      ],
      "metadata": {
        "id": "gpI99tox9Y9n"
      },
      "execution_count": null,
      "outputs": []
    },
    {
      "cell_type": "code",
      "source": [
        "# Functions can return another function: Because functions are objects we can return a function from another function.\n",
        "def create_adder(x):\n",
        "    def adder(y):\n",
        "        return x+y\n",
        "    return adder\n",
        "\n",
        "add_15 = create_adder(15)\n",
        "print (add_15(10))  # 25"
      ],
      "metadata": {
        "id": "5mx-L52C-maW"
      },
      "execution_count": null,
      "outputs": []
    },
    {
      "cell_type": "markdown",
      "source": [
        "# Python Properties"
      ],
      "metadata": {
        "id": "5z3J6YMf-lBT"
      }
    },
    {
      "cell_type": "markdown",
      "source": [
        "Some object-oriented languages such as Java and C# support private object attributes; which cannot be directly accessed from outside. Programmers often have to write getter and setter methods to access such private attributes.\n",
        "\n",
        "However in Python, all the attributes and methods are public, so it is useless to write getters or setters.\n",
        "\n",
        "If you want to prevent direct access to an attribute, you should define it as a property."
      ],
      "metadata": {
        "id": "vnbHrsZN-ndB"
      }
    },
    {
      "cell_type": "code",
      "source": [
        "\"\"\"\n",
        "The property() has the following parameters: property(fget=None, fset=None, fdel=None, doc=None)\n",
        "\n",
        "fget  -> is a function to get the value of the attribute, or the getter method.\n",
        "fset  -> is a function to set the value of the attribute, or the setter method.\n",
        "fdel  -> is a function to delete the attribute.\n",
        "doc   -> is a docstring i.e., a comment.\n",
        "\"\"\"\n",
        "from pprint import pprint\n",
        "\n",
        "class Person:\n",
        "    def __init__(self, name, age):\n",
        "        self.name = name\n",
        "        self.age = age\n",
        "\n",
        "    def set_age(self, age):\n",
        "        if age <= 0:\n",
        "            raise ValueError('The age must be positive')\n",
        "        self._age = age\n",
        "\n",
        "    def get_age(self):\n",
        "        return self._age\n",
        "\n",
        "    age = property(fget=get_age, fset=set_age)\n",
        "\n",
        "print(Person.age) # <property object at 0x10103c180>\n",
        "\n",
        "john = Person('John', 18)\n",
        "pprint(john.__dict__) # {'_age': 18, 'name': 'John'}\n",
        "\n",
        "john.age = 19\n",
        "pprint(Person.__dict__)\n",
        "# mappingproxy({'__dict__': <attribute '__dict__' of 'Person' objects>,\n",
        "#               '__doc__': None,\n",
        "#               '__init__': <function Person.__init__ at 0x10102f640>,\n",
        "#               '__module__': '__main__',\n",
        "#               '__weakref__': <attribute '__weakref__' of 'Person' objects>,\n",
        "#               'age': <property object at 0x10103c180>,\n",
        "#               'get_age': <function Person.get_age at 0x1011d6560>,\n",
        "#               'set_age': <function Person.set_age at 0x1011d64d0>})\n",
        "\n",
        "class Person():\n",
        "    def __init__(self, value):\n",
        "        self.hidden_name = value\n",
        "\n",
        "    # getter function\n",
        "    def get_name(self):\n",
        "        print('Getting name:')\n",
        "        return self.hidden_name\n",
        "\n",
        "    # setter function\n",
        "    def set_name(self, value):\n",
        "        print('Setting name to', value)\n",
        "        self.hidden_name = value\n",
        "\n",
        "    # deleter function\n",
        "    def del_name(self):\n",
        "        print('Deleting name')\n",
        "        del self.hidden_name\n",
        "\n",
        "    # make a property\n",
        "    name = property(get_name, set_name, del_name, doc='name of the person')"
      ],
      "metadata": {
        "id": "Pg2pI-_c-oW7"
      },
      "execution_count": null,
      "outputs": []
    },
    {
      "cell_type": "markdown",
      "source": [
        "@property – Property as a Decorator\n",
        "\n",
        "A more elegant syntax to define properties in a class is to use property as a decorator\n",
        "\n",
        "In the next example, we’ll define three different methods, each called name() but preceded by different decorators:\n",
        "\n",
        "* @property decorator goes before the getter method\n",
        "* @name.setter decorator goes before the setter method\n",
        "* @name.deleter decorator goes before the deleter method"
      ],
      "metadata": {
        "id": "XzNWCIQuCftL"
      }
    },
    {
      "cell_type": "code",
      "source": [
        "class Person:\n",
        "    def __init__(self, name, age):\n",
        "        self._name = name\n",
        "        self._age = age\n",
        "\n",
        "    @property\n",
        "    def age(self):\n",
        "        return self._age\n",
        "\n",
        "    @age.setter\n",
        "    def age(self, value):\n",
        "        if value <= 0:\n",
        "            raise ValueError('The age must be positive')\n",
        "        self._age = value\n",
        "\n",
        "    @property\n",
        "    def name(self):\n",
        "        return self._name\n",
        "\n",
        "    @name.setter\n",
        "    def name(self, value):\n",
        "        if value.strip() == '':\n",
        "            raise ValueError('The name cannot be empty')\n",
        "        self._name = value\n",
        "\n",
        "p = Person('john', 69);\n",
        "print(p.age)  # 69\n",
        "\n",
        "p.age = 45;\n",
        "print(p.age)  # 45"
      ],
      "metadata": {
        "id": "D13gSmlQCgbY"
      },
      "execution_count": null,
      "outputs": []
    },
    {
      "cell_type": "markdown",
      "source": [
        "Python readonly property\n",
        "\n",
        "To define a readonly property, you need to create a property with only the getter. However, it is not truly read-only because you can always access the underlying attribute and change it.\n",
        "\n",
        "The read-only properties are useful in some cases such as for computed properties."
      ],
      "metadata": {
        "id": "7zXrimTNFW1X"
      }
    },
    {
      "cell_type": "code",
      "source": [
        "import math\n",
        "\n",
        "class Circle:\n",
        "    def __init__(self, radius):\n",
        "        self.radius = radius\n",
        "\n",
        "    @property\n",
        "    def area(self):\n",
        "        return math.pi * self.radius ** 2\n",
        "\n",
        "c = Circle(10)\n",
        "print(c.area)"
      ],
      "metadata": {
        "id": "YMAJCJZhFkHA"
      },
      "execution_count": null,
      "outputs": []
    },
    {
      "cell_type": "markdown",
      "source": [
        "delete property"
      ],
      "metadata": {
        "id": "k9d21JtpF36x"
      }
    },
    {
      "cell_type": "code",
      "source": [
        "from pprint import pprint\n",
        "\n",
        "class Person:\n",
        "    def __init__(self, name):\n",
        "        self._name = name\n",
        "\n",
        "    @property\n",
        "    def name(self):\n",
        "        return self._name\n",
        "\n",
        "    @name.setter\n",
        "    def name(self, value):\n",
        "        if value.strip() == '':\n",
        "            raise ValueError('name cannot be empty')\n",
        "        self._name = value\n",
        "\n",
        "    @name.deleter\n",
        "    def name(self):\n",
        "        del self._name\n",
        "\n",
        "person = Person('John')\n",
        "pprint(person.__dict__) # {'_name': 'John'}\n",
        "\n",
        "del person.name # {}"
      ],
      "metadata": {
        "id": "KStVn20VF5CU"
      },
      "execution_count": null,
      "outputs": []
    },
    {
      "cell_type": "markdown",
      "source": [
        "# Python Enumeration"
      ],
      "metadata": {
        "id": "-O-OG0fVHxtd"
      }
    },
    {
      "cell_type": "markdown",
      "source": [
        "Enumerations are immutable, are hashable."
      ],
      "metadata": {
        "id": "QfZcd97fH0gY"
      }
    },
    {
      "cell_type": "code",
      "source": [
        "from enum import Enum\n",
        "\n",
        "class Color(Enum):\n",
        "    RED = 1\n",
        "    GREEN = 2\n",
        "    BLUE = 3\n",
        "\n",
        "print(type(Color.RED))  # <enum 'Color'>\n",
        "print(isinstance(Color.RED, Color)) # True\n",
        "\n",
        "print(Color.RED.name)   # RED\n",
        "print(Color.RED.value)  # 1\n",
        "\n",
        "print(Color.RED)    # Color.RED\n",
        "print(Color['RED']) # Color.RED\n",
        "print(Color(1))     # Color.RED\n",
        "\n",
        "if Color.RED in Color:\n",
        "    print('Yes')    # Yes\n",
        "\n",
        "for color in Color:\n",
        "    print(color)    # Color.RED ...\n",
        "\n",
        "print(list(Color))  # [<Color.RED: 1>, <Color.GREEN: 2>, <Color.BLUE: 3>]\n",
        "\n",
        "# hashable\n",
        "rgb = {\n",
        "    Color.RED: '#ff0000',\n",
        "    Color.GREEN: '#00ff00',\n",
        "    Color.BLUE: '#0000ff'\n",
        "}"
      ],
      "metadata": {
        "id": "4RQEV79KIrvp"
      },
      "execution_count": null,
      "outputs": []
    },
    {
      "cell_type": "markdown",
      "source": [
        "enherits from enumeration"
      ],
      "metadata": {
        "id": "aCFJzGlZJWML"
      }
    },
    {
      "cell_type": "code",
      "source": [
        "# An enumeration cannot be inherited unless it contains no members.\n",
        "from enum import Enum\n",
        "class Color(Enum):\n",
        "    pass\n",
        "\n",
        "class RGB(Color):\n",
        "    RED = 1\n",
        "    GREEN = 2\n",
        "    BLUE = 3\n",
        "\n",
        "# However, the following example won’t work because the RGB enumeration has members:\n",
        "class RGBA(RGB):\n",
        "    ALPHA = 4\n",
        "\n",
        "# error -> TypeError: Cannot extend enumerations"
      ],
      "metadata": {
        "id": "Lt6N6V3eJWlt"
      },
      "execution_count": null,
      "outputs": []
    },
    {
      "cell_type": "markdown",
      "source": [
        "enum alias"
      ],
      "metadata": {
        "id": "_K0D2_4KJiUn"
      }
    },
    {
      "cell_type": "code",
      "source": [
        "# By definition, the enumeration member values are unique. However, you can create different member names with the same values.\n",
        "# When you define multiple members in an enumeration with the same values, Python does not create different members but aliases.\n",
        "# In this example, the RED is the main member while the CRIMSON and SALMON members are the aliases of the RED member\n",
        "from enum import Enum\n",
        "\n",
        "class Color(Enum):\n",
        "    RED = 1\n",
        "    CRIMSON = 1\n",
        "    SALMON = 1\n",
        "    GREEN = 2\n",
        "    BLUE = 3\n",
        "\n",
        "print(Color.RED is Color.CRIMSON)   # True\n",
        "print(Color.RED is Color.SALMON)    # True\n",
        "\n",
        "# When you look up a member by value, you’ll always get the main member, not aliases. For example, the following statement\n",
        "# returns the RED member:\n",
        "print(Color(1)) # COLOR.RED\n",
        "\n",
        "for color in Color:\n",
        "    print(color)\n",
        "'''\n",
        "Color.RED\n",
        "Color.GREEN\n",
        "Color.BLUE\n",
        "'''"
      ],
      "metadata": {
        "id": "1UlA4Q2gJiw3"
      },
      "execution_count": null,
      "outputs": []
    },
    {
      "cell_type": "markdown",
      "source": [
        "@enum.unique decorator"
      ],
      "metadata": {
        "id": "iePh9pwMJxUz"
      }
    },
    {
      "cell_type": "code",
      "source": [
        "import enum\n",
        "from enum import Enum\n",
        "\n",
        "@enum.unique\n",
        "class Day(Enum):\n",
        "    MON = 'Monday'\n",
        "    TUE = 'Monday'\n",
        "    WED = 'Wednesday'\n",
        "    THU = 'Thursday'\n",
        "    FRI = 'Friday'\n",
        "    SAT = 'Saturday'\n",
        "    SUN = 'Sunday'\n",
        "\n",
        "# throws an error"
      ],
      "metadata": {
        "id": "lBtf58XoJzOB"
      },
      "execution_count": null,
      "outputs": []
    },
    {
      "cell_type": "markdown",
      "source": [
        "enum auto()"
      ],
      "metadata": {
        "id": "8zmx2wf0J2VP"
      }
    },
    {
      "cell_type": "code",
      "source": [
        "# auto() helper class in the enum module, which automatically generates unique values for the enumeration members.\n",
        "from enum import Enum, auto\n",
        "\n",
        "class State(Enum):\n",
        "    PENDING = auto()\n",
        "    FULFILLED = auto()\n",
        "    REJECTED = auto()\n",
        "\n",
        "    def __str__(self):\n",
        "        return f'{self.name(self.value)}'\n",
        "\n",
        "for state in State:\n",
        "    print(state.name, state.value)\n",
        "\n",
        "'''\n",
        "PENDING 1\n",
        "FULFILLED 2\n",
        "REJECTED 3\n",
        "'''"
      ],
      "metadata": {
        "id": "6nMn-7OeJ3TE"
      },
      "execution_count": null,
      "outputs": []
    },
    {
      "cell_type": "markdown",
      "source": [
        "auto() internal working"
      ],
      "metadata": {
        "id": "VNx0fL3MJ9vJ"
      }
    },
    {
      "cell_type": "code",
      "source": [
        "'''\n",
        "# Technically, the auto() calls the _generate_next_value_() method to generate values for the members. Here’s the syntax\n",
        "# of the _generate_next_value_() method:\n",
        "The _generate_next_value_() has the following parameters:\n",
        "\n",
        "name  -> is the member’s name\n",
        "start -> is the starting value of the enum members.\n",
        "count -> is the number of enum members, including aliases, that have been created.\n",
        "last_values -> is a list of all preceding values used for the enum members.\n",
        "'''\n",
        "from enum import Enum, auto\n",
        "\n",
        "class State(Enum):\n",
        "    def _generate_next_value_(name, start, count, last_values):\n",
        "        return name.lower()\n",
        "\n",
        "    PENDING = auto()\n",
        "    FULFILLED = auto()\n",
        "    REJECTED = auto()\n",
        "\n",
        "for state in State:\n",
        "    print(state.name, state.value)\n",
        "\n",
        "'''\n",
        "PENDING pending\n",
        "FULFILLED fulfilled\n",
        "REJECTED rejected\n",
        "'''"
      ],
      "metadata": {
        "id": "4AMBwBKbJ-GK"
      },
      "execution_count": null,
      "outputs": []
    },
    {
      "cell_type": "markdown",
      "source": [
        "# Python Descriptors"
      ],
      "metadata": {
        "id": "T8vSa9c-KT9u"
      }
    },
    {
      "cell_type": "markdown",
      "source": [
        "Descriptor protocol\n",
        "In Python, the descriptor protocol consists of three methods:\n",
        "* __get__ gets an attribute value\n",
        "* __set__ sets an attribute value\n",
        "* __delete__ deletes an attribute\n",
        "\n",
        "A descriptor is an object of a class that implements one of the methods specified in the descriptor protocol.\n",
        "\n",
        "Descriptors have two types:\n",
        "* data descriptor\n",
        "* non-data descriptor.\n",
        "\n",
        "A data descriptor is an object of a class that implements the __set__ and/or __delete__ method.\n",
        "A non-data descriptor is an object that implements the __get__ method only."
      ],
      "metadata": {
        "id": "y8tMXUN2LByR"
      }
    },
    {
      "cell_type": "code",
      "source": [
        "# Suppose you have a class Person with two instance attributes first_name and last_name:\n",
        "class Person:\n",
        "    def __init__(self, first_name, last_name):\n",
        "        self.first_name = first_name\n",
        "        self.last_name = last_name\n",
        "\n",
        "# And you want the first_name and last_name attributes to be non-empty strings. These plain attributes cannot guarantee this.\n",
        "# To enforce the data validity, you can use property with a getter and setter methods, like this:\n",
        "class Person:\n",
        "    def __init__(self, first_name, last_name):\n",
        "        self.first_name = first_name\n",
        "        self.last_name = last_name\n",
        "\n",
        "    @property\n",
        "    def first_name(self):\n",
        "        return self._first_name\n",
        "\n",
        "    @first_name.setter\n",
        "    def first_name(self, value):\n",
        "        if not isinstance(value, str):\n",
        "            raise ValueError('The first name must a string')\n",
        "\n",
        "        if len(value) == 0:\n",
        "            raise ValueError('The first name cannot be empty')\n",
        "\n",
        "        self._first_name = value\n",
        "\n",
        "    @property\n",
        "    def last_name(self):\n",
        "        return self._last_name\n",
        "\n",
        "    @last_name.setter\n",
        "    def last_name(self, value):\n",
        "        if not isinstance(value, str):\n",
        "            raise ValueError('The last name must a string')\n",
        "\n",
        "        if len(value) == 0:\n",
        "            raise ValueError('The last name cannot be empty')\n",
        "\n",
        "        self._last_name = value\n",
        "\n",
        "# In this Person class, the getter returns the attribute value while the setter validates it before assigning it to the attribute.\n",
        "# This code works perfectly fine. However, it is redundant because the validation logic validates the first and last names is the same.\n",
        "\n",
        "# Also, if the class has more attributes that require a non-empty string, you need to duplicate this logic in other properties.\n",
        "# In other words, this validation logic is not reusable.\n",
        "\n",
        "# To avoid duplicating the logic, you may have a method that validates data and reuse this method in other properties.\n",
        "# This approach will enable reusability. However, Python has a better way to solve this by using descriptors.\n",
        "\n",
        "# First, define a descriptor class that implements three methods __set_name__, __get__, and __set__:\n",
        "class RequiredString:\n",
        "    def __set_name__(self, owner, name):\n",
        "        self.property_name = name\n",
        "\n",
        "    def __get__(self, instance, owner):\n",
        "        if instance is None:\n",
        "            return self\n",
        "        return instance.__dict__[self.property_name] or None\n",
        "\n",
        "    def __set__(self, instance, value):\n",
        "        if not isinstance(value, str):\n",
        "            raise ValueError(f'The {self.property_name} must be a string')\n",
        "\n",
        "        if len(value) == 0:\n",
        "            raise ValueError(f'The {self.property_name} cannot be empty')\n",
        "\n",
        "        instance.__dict__[self.property_name] = value\n",
        "\n",
        "class Person:\n",
        "    first_name = RequiredString()\n",
        "    last_name = RequiredString()\n",
        "\n",
        "try:\n",
        "    person = Person()\n",
        "    person.first_name = ''\n",
        "except ValueError as e:\n",
        "    print(e)  # The first_name must be a string"
      ],
      "metadata": {
        "id": "oy0ZiVtKKbyQ"
      },
      "execution_count": null,
      "outputs": []
    },
    {
      "cell_type": "code",
      "source": [
        "'''\n",
        "# It means that Python automatically calls the __set_name__ when the owning class Person is created. The following statements\n",
        "# are equivalent:\n",
        "\n",
        "first_name = RequiredString()\n",
        "    # and\n",
        "first_name.__set_name__(Person, 'first_name')\n",
        "\n",
        "# When you assign the new value to a descriptor, Python calls __set__ method to set the attribute on an instance of the owner\n",
        "# class to the new value. For example:\n",
        "\n",
        "person = Person()\n",
        "person.first_name = 'John'\n",
        "\n",
        "# Python calls the __get__ method of the Person‘s object when you access the first_name attribute. For example:\n",
        "person = Person()\n",
        "\n",
        "person.first_name = 'John'\n",
        "print(person.first_name)\n",
        "'''"
      ],
      "metadata": {
        "id": "WzSwlADiLVsX"
      },
      "execution_count": null,
      "outputs": []
    },
    {
      "cell_type": "code",
      "source": [
        "# non-date descriptors\n",
        "class FileCount:\n",
        "    def __get__(self, instance, owner):\n",
        "        # self -> <__main__.FileCount object at 0x10ec83a90>\n",
        "        # instance -> <__main__.Folder object at 0x10ec83a60>\n",
        "        # owner -> <class '__main__.Folder'>\n",
        "        return len(os.listdir(instance.path))\n",
        "\n",
        "class Folder:\n",
        "    count = FileCount()\n",
        "    def __init__(self, path):\n",
        "        self.path = path\n",
        "\n",
        "folder = Folder('/')\n",
        "print('file count: ', folder.count) #19"
      ],
      "metadata": {
        "id": "snsPXXM2LdcR"
      },
      "execution_count": null,
      "outputs": []
    },
    {
      "cell_type": "markdown",
      "source": [
        "# Python Exception"
      ],
      "metadata": {
        "id": "tFg4df78LuCi"
      }
    },
    {
      "cell_type": "markdown",
      "source": [
        "Exception Handling"
      ],
      "metadata": {
        "id": "84HQz3pwLwXY"
      }
    },
    {
      "cell_type": "code",
      "source": [
        "def division(a, b):\n",
        "    return a / b\n",
        "c = division(10, 0)\n",
        "# ZeroDivisionError: division by zero\n",
        "\n",
        "def division(a, b):\n",
        "    try:\n",
        "        return {\n",
        "            'success': True,\n",
        "            'message': 'OK',\n",
        "            'result': a / b\n",
        "        }\n",
        "    except ZeroDivisionError as e:\n",
        "        return {\n",
        "            'success': False,\n",
        "            'message': 'b cannot be zero',\n",
        "            'result': None\n",
        "        }\n",
        "result = division(10, 0)\n",
        "print(result) # {'success': False, 'message': 'b cannot be zero', 'result': None}"
      ],
      "metadata": {
        "id": "RxBdOSr9L6sh"
      },
      "execution_count": null,
      "outputs": []
    },
    {
      "cell_type": "code",
      "source": [
        "'''\n",
        "try:\n",
        "    # code that you want to protect from exceptions\n",
        "except <ExceptionType> as ex:\n",
        "    # code that handle the exception\n",
        "finally:\n",
        "    # code that always execute whether the exception occurred or not\n",
        "else:\n",
        "    # code that excutes if try execute normally (an except clause must be present)\n",
        "'''"
      ],
      "metadata": {
        "id": "Mj5kl-E0MGGF"
      },
      "execution_count": null,
      "outputs": []
    },
    {
      "cell_type": "markdown",
      "source": [
        "raise exception"
      ],
      "metadata": {
        "id": "6y6EqHCLMJWs"
      }
    },
    {
      "cell_type": "code",
      "source": [
        "try:\n",
        "    raise ValueError('The value error exception', 'x', 'y')\n",
        "except ValueError as ex:\n",
        "    print(ex.args)"
      ],
      "metadata": {
        "id": "2Ca6KJkGMJ5L"
      },
      "execution_count": null,
      "outputs": []
    },
    {
      "cell_type": "markdown",
      "source": [
        "raise another exception dusring handling"
      ],
      "metadata": {
        "id": "cYmFCrS_ML-F"
      }
    },
    {
      "cell_type": "code",
      "source": [
        "def division(a, b):\n",
        "    try:\n",
        "        return a / b\n",
        "    except ZeroDivisionError as ex:\n",
        "        raise ValueError('b must not zero')"
      ],
      "metadata": {
        "id": "fl2sLv2YMNxQ"
      },
      "execution_count": null,
      "outputs": []
    },
    {
      "cell_type": "markdown",
      "source": [
        "raise from statement"
      ],
      "metadata": {
        "id": "3kfgqmUTMU5s"
      }
    },
    {
      "cell_type": "code",
      "source": [
        "def divide(a, b):\n",
        "    try:\n",
        "        return a / b\n",
        "    except ZeroDivisionError as ex:\n",
        "        raise ValueError('b must not be zero') from ex\n",
        "divide(10, 0)"
      ],
      "metadata": {
        "id": "ExwqewKwMWwt"
      },
      "execution_count": null,
      "outputs": []
    },
    {
      "cell_type": "markdown",
      "source": [
        "Custom Exception"
      ],
      "metadata": {
        "id": "26I1bOr5MXbg"
      }
    },
    {
      "cell_type": "code",
      "source": [
        "class FahrenheitError(Exception):\n",
        "    min_f = 32\n",
        "    max_f = 212\n",
        "\n",
        "    def __init__(self, f, *args):\n",
        "        super().__init__(args)\n",
        "        self.f = f\n",
        "\n",
        "    def __str__(self):\n",
        "        return f'The {self.f} is not in a valid range {self.min_f, self.max_f}'\n",
        "\n",
        "def fahrenheit_to_celsius(f: float) -> float:\n",
        "    if f < FahrenheitError.min_f or f > FahrenheitError.max_f:\n",
        "        raise FahrenheitError(f)\n",
        "    return (f - 32) * 5 / 9\n",
        "\n",
        "if __name__ == '__main__':\n",
        "    f = input('Enter a temperature in Fahrenheit:')\n",
        "    try:\n",
        "        f = float(f)\n",
        "    except ValueError as ex:\n",
        "        print(ex)\n",
        "    else:\n",
        "        try:\n",
        "            c = fahrenheit_to_celsius(float(f))\n",
        "        except FahrenheitError as ex:\n",
        "            print(ex)\n",
        "        else:\n",
        "            print(f'{f} Fahrenheit = {c:.4f} Celsius')"
      ],
      "metadata": {
        "id": "KXhytmjAMYr2"
      },
      "execution_count": null,
      "outputs": []
    },
    {
      "cell_type": "markdown",
      "source": [
        "# Python Meta Programming"
      ],
      "metadata": {
        "id": "NDh85IwxMvU8"
      }
    },
    {
      "cell_type": "markdown",
      "source": [
        "`__new__`\n",
        "\n",
        "When you create an instance of a class, Python first calls the `__new__()` method to create the object and then calls the `__init__()` method to initialize the object’s attributes."
      ],
      "metadata": {
        "id": "-WLThMeSMykC"
      }
    },
    {
      "cell_type": "code",
      "source": [
        "# The __new__() is a static method of the object class. It has the following signature:\n",
        "object.__new__(class, *args, **kwargs)\n",
        "\n",
        "'''\n",
        "The __new__() method should return a new object of the class. But it doesn’t have to.\n",
        "When you define a new class, that class implicitly inherits from the object class. It means that you can override the __new__ static method and do something before and after creating a new instance of the class.\n",
        "\n",
        "To create the object of a class, you call the super().__new__() method.\n",
        "Technically, you can call the object.__new__() method to create an object manually. However, you need to call the __init__() yourself manually after. Python will not call the __init__() method automatically if you explicitly create a new object using the object.__new__() method.\n",
        "'''\n",
        "\n",
        "class Person:\n",
        "    def __init__(self, name):\n",
        "        self.name = name\n",
        "\n",
        "person = object.__new__(Person, 'John')\n",
        "print(person.__dict__)  # {}\n",
        "\n",
        "person.__init__('John')\n",
        "print(person.__dict__)  # {'name': 'John'}\n",
        "\n",
        "# The following illustrates the sequence which Python calls the __new__ and __init__ method when you create a new object by calling the class:\n",
        "class Person:\n",
        "    def __new__(cls, name):\n",
        "        print(f'Creating a new {cls.__name__} object...')\n",
        "        obj = object.__new__(cls)\n",
        "        return obj\n",
        "\n",
        "    def __init__(self, name):\n",
        "        print(f'Initializing the person object...')\n",
        "        self.name = name\n",
        "\n",
        "person = Person('John')\n",
        "# Creating a new Person object...\n",
        "# Initializing the person object...\n",
        "\n",
        "# The following example defines the SquareNumber class that inherits from the built-in int type:\n",
        "class SquareNumber(int):\n",
        "    def __new__(cls, value):\n",
        "        return super().__new__(cls, value ** 2)\n",
        "\n",
        "x = SquareNumber(3)\n",
        "print(x)  # 9\n",
        "print(isinstance(x, int)) # True"
      ],
      "metadata": {
        "id": "8P3kk2NaRP_W"
      },
      "execution_count": null,
      "outputs": []
    },
    {
      "cell_type": "code",
      "source": [
        "class SquareNumber(int):\n",
        "    def __init__(self, value):\n",
        "        super().__init__(value ** 2)\n",
        "\n",
        "x = SquareNumber(3) # TypeError: object.__init__() takes exactly one argument (the instance to initialize)"
      ],
      "metadata": {
        "id": "L8rfpPXhSJBV"
      },
      "execution_count": null,
      "outputs": []
    },
    {
      "cell_type": "code",
      "source": [
        "# In practice, you use the __new__() method when you want to tweak the object at the instantiated time.\n",
        "# For example, the following defines the Person class and uses the __new__method to inject the full_name attribute to the Person’s object:\n",
        "class Person:\n",
        "    def __new__(cls, first_name, last_name):\n",
        "        # create a new object\n",
        "        obj = super().__new__(cls)\n",
        "\n",
        "        # initialize attributes\n",
        "        obj.first_name = first_name\n",
        "        obj.last_name = last_name\n",
        "\n",
        "        # inject new attribute\n",
        "        obj.full_name = f'{first_name} {last_name}'\n",
        "        return obj\n",
        "\n",
        "person = Person('John', 'Doe')\n",
        "print(person.full_name) # John Doe\n",
        "print(person.__dict__)  # {'first_name': 'John', 'last_name': 'Doe', 'full_name': 'John Doe'}"
      ],
      "metadata": {
        "id": "KcIocMlWScY5"
      },
      "execution_count": null,
      "outputs": []
    },
    {
      "cell_type": "markdown",
      "source": [
        "Type class"
      ],
      "metadata": {
        "id": "qFOx1F-mStM3"
      }
    },
    {
      "cell_type": "code",
      "source": [
        "# In Python, a class is an object of the class type.\n",
        "# Because the type class creates other classes, we often refer to it as a metaclass. A metaclass is a class used to create other classes.\n",
        "class Person:\n",
        "    def __init__(self, name, age):\n",
        "        self.name = name\n",
        "        self.age = age\n",
        "\n",
        "    def greeting(self):\n",
        "        return f'Hi, I am {self.name}. I am {self.age} year old.'\n",
        "\n",
        "print(type(Person)) # <class 'type'> ie. The Person class is an object of the class type.\n",
        "print(isinstance(Person, type)) # True\n",
        "\n",
        "'''\n",
        "type(name, bases, dict)\n",
        "The constructor has three parameters for creating a new class:\n",
        "\n",
        "name    -> is the name of the class e.g., Person\n",
        "bases   -> is a tuple that contains the base classes of the new class. For example, the Person inherits from the object class,\n",
        "so the bases contains one class (object,)\n",
        "dict    -> is the class namespace\n",
        "'''"
      ],
      "metadata": {
        "id": "9o4FJCtKSudc"
      },
      "execution_count": null,
      "outputs": []
    },
    {
      "cell_type": "markdown",
      "source": [
        "Meta class\n",
        "\n",
        "A metaclass is a class that creates other classes. By default, Python uses the type metaclass to create other classes."
      ],
      "metadata": {
        "id": "QbRid2YTTAcd"
      }
    },
    {
      "cell_type": "code",
      "source": [
        "class Person:\n",
        "    def __init__(self, name, age):\n",
        "        self.name = name\n",
        "        self.age = age\n",
        "\n",
        "# When Python executes the code, it uses the type metaclass to create the Person class. The reason is that the Person class uses the type metaclass by default.\n",
        "# The explicit Person class definition looks like this:\n",
        "class Person(object, metaclass=type):\n",
        "    def __init__(self, name, age):\n",
        "        self.name = name\n",
        "        self.age = age\n",
        "\n",
        "# The metaclass argument allows you to specify which metaclass class to use to define the class.\n",
        "# Therefore, you can create a custom metaclass that has its own logic to create other classes.\n",
        "# By using a custom metaclass, you can inject functionality into the class creation process.\n",
        "\n",
        "# Metaclass Example\n",
        "class Human(type):\n",
        "    def __new__(mcs, name, bases, class_dict):\n",
        "        class_ = super().__new__(mcs, name, bases, class_dict)\n",
        "        class_.freedom = True\n",
        "        return class_\n",
        "\n",
        "class Person(object, metaclass=Human):\n",
        "    def __init__(self, name, age):\n",
        "        self.name = name\n",
        "        self.age = age\n",
        "\n",
        "pprint(Person.__dict__)\n",
        "# mappingproxy({'__dict__': <attribute '__dict__' of 'Person' objects>,\n",
        "#               '__doc__': None,\n",
        "#               '__init__': <function Person.__init__ at 0x000001E716C71670>,\n",
        "#               '__module__': '__main__',\n",
        "#               '__weakref__': <attribute '__weakref__' of 'Person' objects>,\n",
        "#               'freedom': True})"
      ],
      "metadata": {
        "id": "n2FzkaHzTCj0"
      },
      "execution_count": null,
      "outputs": []
    },
    {
      "cell_type": "code",
      "source": [
        "# Metaclass Parameters\n",
        "class Human(type):\n",
        "    def __new__(mcs, name, bases, class_dict, **kwargs):\n",
        "        class_ = super().__new__(mcs, name, bases, class_dict)\n",
        "        if kwargs:\n",
        "            for name, value in kwargs.items():\n",
        "                setattr(class_, name, value)\n",
        "        return class_\n",
        "\n",
        "class Person(object, metaclass=Human, country='USA', freedom=True):\n",
        "    def __init__(self, name, age):\n",
        "        self.name = name\n",
        "        self.age = age\n",
        "\n",
        "pprint(Person.__dict__)\n",
        "# mappingproxy({'__dict__': <attribute '__dict__' of 'Person' objects>,\n",
        "#               '__doc__': None,\n",
        "#               '__init__': <function Person.__init__ at 0x0000018A334235E0>,\n",
        "#               '__module__': '__main__',\n",
        "#               '__weakref__': <attribute '__weakref__' of 'Person' objects>,\n",
        "#               'country': 'USA',\n",
        "#               'freedom': True})\n",
        "\n",
        "### In practice, you often don’t need to use metaclasses unless you maintain or develop the core of large frameworks such as Django."
      ],
      "metadata": {
        "id": "ZgWKNpkKTuNK"
      },
      "execution_count": null,
      "outputs": []
    },
    {
      "cell_type": "markdown",
      "source": [
        "Data class\n",
        "\n",
        "The dataclass allows you to define classes with less code and more functionality out of the box."
      ],
      "metadata": {
        "id": "GyZ40iE9UEzg"
      }
    },
    {
      "cell_type": "code",
      "source": [
        "class Person:\n",
        "    def __init__(self, name, age):\n",
        "        self.name = name\n",
        "        self.age = age\n",
        "\n",
        "\"\"\"\n",
        "This Person class has the __init__ method that initializes the name and age attributes.\n",
        "If you want to have a string representation of the Person object, you need to implement the __str__ or __repr__ method. Also, if you want to compare two instances of the Person class by an attribute, you need to implement the __eq__ method.\n",
        "\n",
        "However, if you use the dataclass, you’ll have all of these features (and even more) without implementing these dunder methods.\n",
        "To make the Person class a data class, you follow these steps:\n",
        "\"\"\"\n",
        "\n",
        "from dataclasses import dataclass\n",
        "@dataclass\n",
        "class Person:\n",
        "    name: str\n",
        "    age: int\n",
        "\n",
        "# In this example, the Person class has two attributes name with the type str and age with the type int.\n",
        "# By doing this, the @dataclass decorator implicitly creates the __init__ method like this: def __init__(name: str, age: int)\n",
        "\n",
        "p1 = Person('John', 25)\n",
        "print(p1) # Person(name='John', age=25)\n",
        "\n",
        "p1 = Person('John', 25)\n",
        "p2 = Person('John', 25)\n",
        "print(p1 == p2) # True"
      ],
      "metadata": {
        "id": "0f3wnp-aUIcB"
      },
      "execution_count": null,
      "outputs": []
    },
    {
      "cell_type": "code",
      "source": [
        "# Data class Default values\n",
        "from dataclasses import dataclass\n",
        "\n",
        "@dataclass\n",
        "class Person:\n",
        "    name: str\n",
        "    age: int\n",
        "    iq: int = 100\n",
        "\n",
        "# equivalent to\n",
        "class Person:\n",
        "    def __init__(self, name, age, iq=100):\n",
        "        self.name = name\n",
        "        self.age = age\n",
        "        self.iq = iq\n",
        "\n",
        "p = Person('John Doe', 25)\n",
        "\n",
        "print(astuple(p)) # ('John Doe', 25, 100)\n",
        "print(asdict(p))  # {'name': 'John Doe', 'age': 25, 'iq': 100}"
      ],
      "metadata": {
        "id": "C560QhtPUtNs"
      },
      "execution_count": null,
      "outputs": []
    },
    {
      "cell_type": "code",
      "source": [
        "# create immutable objects\n",
        "from dataclasses import dataclass, astuple, asdict\n",
        "\n",
        "@dataclass(frozen=True)\n",
        "class Person:\n",
        "    name: str\n",
        "    age: int\n",
        "    iq: int = 100\n",
        "\n",
        "p = Person('Jane Doe', 25)\n",
        "p.iq = 120  # dataclasses.FrozenInstanceError: cannot assign to field 'iq'"
      ],
      "metadata": {
        "id": "YAfGL7t6U_JT"
      },
      "execution_count": null,
      "outputs": []
    },
    {
      "cell_type": "code",
      "source": [
        "# Customize attribute behaviors\n",
        "# If don’t want to initialize an attribute in the __init__ method, you can use the field() function from the dataclasses module.\n",
        "# The following example defines the can_vote attribute that is initialized using the __init__ method:\n",
        "from dataclasses import dataclass, field\n",
        "\n",
        "@dataclass\n",
        "class Person:\n",
        "    name: str\n",
        "    age: int\n",
        "    iq: int = 100\n",
        "    can_vote: bool = field(init=False)\n",
        "\n",
        "    def __post_init__(self):\n",
        "        print('called __post_init__ method')\n",
        "        self.can_vote = 18 <= self.age <= 70\n",
        "\n",
        "p = Person('Jane Doe', 25)\n",
        "print(p)  # Person(name='Jane Doe', age=25, iq=100, can_vote=True)"
      ],
      "metadata": {
        "id": "sjr_lNW0VJPo"
      },
      "execution_count": null,
      "outputs": []
    },
    {
      "cell_type": "code",
      "source": [
        "# Sort objects\n",
        "from dataclasses import dataclass, field\n",
        "\n",
        "@dataclass(order=True)\n",
        "class Person:\n",
        "    sort_index: int = field(init=False, repr=False)\n",
        "\n",
        "    name: str\n",
        "    age: int\n",
        "    iq: int = 100\n",
        "    can_vote: bool = field(init=False)\n",
        "\n",
        "    def __post_init__(self):\n",
        "        self.can_vote = 18 <= self.age <= 70\n",
        "        # sort by age\n",
        "        self.sort_index = self.age\n",
        "\n",
        "members = [\n",
        "    Person(name='John', age=25),\n",
        "    Person(name='Bob', age=35),\n",
        "    Person(name='Alice', age=30)\n",
        "]\n",
        "\n",
        "sorted_members = sorted(members)\n",
        "for member in sorted_members:\n",
        "    print(f'{member.name}(age={member.age})')\n",
        "\"\"\"\n",
        "output:\n",
        "  John(age=25)\n",
        "  Alice(age=30)\n",
        "  Bob(age=35)\n",
        "\"\"\""
      ],
      "metadata": {
        "id": "bqxWF3vgVd0g"
      },
      "execution_count": null,
      "outputs": []
    },
    {
      "cell_type": "markdown",
      "source": [
        "type class\n",
        "\n",
        "* In Python, a class is an instance/object of the type class.\n",
        "* The type class creates other classs, therefore, it is called a metaclass.\n",
        "\n",
        "Python uses the type class to create other classes. The type class itself is a callable. The following shows one of the constructors of the type class:\n",
        "`type(name, bases, dict) -> a new type`\n",
        "\n",
        "The constructor has three parameters for creating a new class:\n",
        "\n",
        "* name: is the name of the class e.g., Person\n",
        "* bases is a tuple that contains the base classes of the new class. For example, the Person inherits from the object class, so the bases contains one class (object,)\n",
        "* dict is the class namespace\n",
        "\n",
        "Technically, you can use the type class to create a class dynamically. Before doing it, you need to understand how Python creates the classes.\n",
        "\n",
        "When the Python interpreter encounters a class definition in the code, it will:\n",
        "* First, extract the class body as string.\n",
        "class_body = \"\"\"\n",
        "def __init__(self, name, age):\n",
        "    self.name = name\n",
        "    self.age = age\n",
        "\n",
        "def greeting(self):\n",
        "    return f'Hi, I am {self.name}. I am {self.age} year old.'\n",
        "\"\"\"\n",
        "* Second, create a class dictionary for the class namespace.\n",
        "`class_dict = {}`\n",
        "* Third, execute the class body to fill up the class dictionary.\n",
        "`exec(class_body, globals(), class_dict)`\n",
        "* Finally, create a new instance of type using the above type() constructor.\n",
        "Person = type('Person', (object,), class_dict)\n",
        "Note that the Person is a class, which is also an object. The Person class inherits from the object class and has the namespace of the class_dict.\n",
        "\n",
        "The following shows the type of the Person class which is the type class:\n",
        "\n",
        "<class 'type'>\n",
        "And it is an instance of the type class: print(isinstance(Person, type))\n",
        "\n",
        "Output: True\n"
      ],
      "metadata": {
        "id": "xqwuJskxFbF6"
      }
    },
    {
      "cell_type": "code",
      "source": [
        "class Person:\n",
        "  def __init__(self, name, age):\n",
        "    self.name = name\n",
        "    self.age = age\n",
        "\n",
        "  def greeting(self):\n",
        "    return f'Hi, I am {self.name}. I am {self.age} year old.'\n",
        "\n",
        "print(type(Person)) # <class 'type'>\n",
        "print(isinstance(Person, type)) # true"
      ],
      "metadata": {
        "id": "X8seBdyZFcYW"
      },
      "execution_count": null,
      "outputs": []
    },
    {
      "cell_type": "markdown",
      "source": [
        "# Python String methods"
      ],
      "metadata": {
        "id": "Q9iR4TaEWtuX"
      }
    },
    {
      "cell_type": "code",
      "source": [
        "# --------------------- Capitalize the string\n",
        "print('bob is a CEO at ABC.'.capitalize())  # Bob is a ceo at abc.\n",
        "print('42 is my FAVOURITE number.'.capitalize())  # 42 is my favourite number."
      ],
      "metadata": {
        "id": "7sU69_2LXA1u"
      },
      "execution_count": null,
      "outputs": []
    },
    {
      "cell_type": "code",
      "source": [
        "# --------------------- Casefold (more aggressive than lower() because it is intended to remove all case distinctions in a string.)\n",
        "print('Hello, World!'.casefold()) # hello, world!\n",
        "\n",
        "print('Das straße'.casefold())  # das strasse\n",
        "print('Das straße'.lower())  # das straße"
      ],
      "metadata": {
        "id": "OFN6q0sdXYcJ"
      },
      "execution_count": null,
      "outputs": []
    },
    {
      "cell_type": "code",
      "source": [
        "# --------------------- Center\n",
        "print('Centered'.center(14))        # | | | |C|e|n|t|e|r|e|d| | | |\n",
        "print('Centered'.center(14, '*'))   # |*|*|*|C|e|n|t|e|r|e|d|*|*|*|\n",
        "\n",
        "print('{:*^14}'.format('Centered')) # ***Centered***"
      ],
      "metadata": {
        "id": "YpIu3DpFfCX7"
      },
      "execution_count": null,
      "outputs": []
    },
    {
      "cell_type": "code",
      "source": [
        "# --------------------- Count\n",
        "print('Big, Bigger, Biggest'.count('Big'))        # 3\n",
        "print('Big, Bigger, Biggest'.count('Big', 2))     # 2\n",
        "print('Big, Bigger, Biggest'.count('Big', 5, 13)) # 1"
      ],
      "metadata": {
        "id": "H2hDi28Afzno"
      },
      "execution_count": null,
      "outputs": []
    },
    {
      "cell_type": "code",
      "source": [
        "# --------------------- encode\n",
        "print('Das straße'.encode())  # b'Das stra\\xc3\\x9fe'\n",
        "\n",
        "x = S.encode(encoding='ascii',errors='backslashreplace')\n",
        "print(x)  # b'Das stra\\\\xdfe'\n",
        "\n",
        "x = S.encode(encoding='ascii',errors='ignore')\n",
        "print(x)  # b'Das strae'\n",
        "\n",
        "x = S.encode(encoding='ascii',errors='namereplace')\n",
        "print(x)  # b'Das stra\\\\N{LATIN SMALL LETTER SHARP S}e'\n",
        "\n",
        "x = S.encode(encoding='ascii',errors='replace')\n",
        "print(x)  # b'Das stra?e'\n",
        "\n",
        "x = S.encode(encoding='ascii',errors='xmlcharrefreplace')\n",
        "print(x)  # b'Das straße'\n",
        "\n",
        "x = S.encode(encoding='UTF-8',errors='strict')\n",
        "print(x)  # b'Das stra\\xc3\\x9fe'"
      ],
      "metadata": {
        "id": "M0K-zclZgNv2"
      },
      "execution_count": null,
      "outputs": []
    },
    {
      "cell_type": "code",
      "source": [
        "# --------------------- startswith()\n",
        "# method returns True if the string starts with the specified prefix, otherwise returns False.\n",
        "print('Bob is a CEO.'.startswith('Bob'))            # True\n",
        "print('Bob is a CEO at ABC'.startswith('CEO',9,18)) # True\n",
        "\n",
        "suffixes = ('Bob','Max','Sam')\n",
        "print('Bob is a CEO'.startswith(suffixes))          # True\n",
        "print('Bob is a CEO'.startswith(suffixes))          # True\n",
        "\n",
        "# --------------------- endswith\n",
        "print('Bob is a CEO at ABC'.endswith('ABC'))        # True\n",
        "print('Is Bob a CEO?'.endswith('?'))                # True\n",
        "print('Bob is a CEO at ABC'.endswith('CEO',4,12))   # True\n",
        "\n",
        "suffixes = ('CEO','CFO','COO')\n",
        "print('Bob is a CEO'.endswith(suffixes))            # True\n",
        "print('Sam is a CFO'.endswith(suffixes))            # True"
      ],
      "metadata": {
        "id": "sLYD2jH1gc-Z"
      },
      "execution_count": null,
      "outputs": []
    },
    {
      "cell_type": "code",
      "source": [
        "# --------------------- expandtabs\n",
        "# method replaces each tab character ‘\\t‘ in a string with specified number of spaces\n",
        "print('a\\tb\\tc'.expandtabs())           # |a| | | | | | | |b| | | | | | | |c|\n",
        "print('aaaa\\tbbbb\\tcccc'.expandtabs())  # |a|a|a|a| | | | |b|b|b|b| | | | |c|c|c|c|\n",
        "\n",
        "print('a\\tb\\tc'.expandtabs(2))  # |a| |b| |c|\n",
        "print('a\\tb\\tc'.expandtabs(4))  # |a| | | |b| | | |c|\n",
        "print('a\\tb\\tc'.expandtabs(6))  # |a| | | | | |b| | | | | |c|"
      ],
      "metadata": {
        "id": "-f82_y4vgidC"
      },
      "execution_count": null,
      "outputs": []
    },
    {
      "cell_type": "code",
      "source": [
        "# --------------------- find()\n",
        "# method searches for the first occurrence of the specified substring sub and returns its index.\n",
        "# If specified substring is not found, it returns -1.\n",
        "print('Bob is a Developer at ABC'.find('Developer'))  # 9\n",
        "\n",
        "print('Bob is a Developer at ABC'.find('Manager'))  # -1\n",
        "\n",
        "print('Big, Bigger, Biggest'.find('Big',7))     # 13\n",
        "print('Big, Bigger, Biggest'.find('Big',2,10))  # 5\n",
        "\n",
        "# find() method is identical to the index() method.\n",
        "# index() method raises a ValueError exception, if the substring is not found.\n",
        "\n",
        "# --------------------- rfind()\n",
        "# method searches for the last occurrence of the specified substring sub and returns its index. If specified substring is not found, it returns -1.\n",
        "print('Big, Bigger, Biggest'.rfind('Big'))      # 13\n",
        "print('Big, Bigger, Biggest'.rfind('Small'))    # -1\n",
        "print('Big, Bigger, Biggest'.rfind('Big',2,10)) # 5\n",
        "\n",
        "# The rfind() method is identical to the rindex() method.\n",
        "# The only difference is that the rindex() method raises a ValueError exception, if the substring is not found."
      ],
      "metadata": {
        "id": "m7J5kMljh5_K"
      },
      "execution_count": null,
      "outputs": []
    },
    {
      "cell_type": "code",
      "source": [
        "# --------------------- isalnum()\n",
        "# method returns TRUE if the string is nonempty and all characters in it are alphanumeric. Otherwise, it returns FALSE.\n",
        "# A character is alphanumeric if it is either a letter [a-z],[A-Z] or a number[0-9].\n",
        "print('abc123'.isalnum())   # True\n",
        "print('abc-123'.isalnum())  # False\n",
        "print('*abc123?'.isalnum()) # False\n",
        "print('abc 123'.isalnum())  # False\n",
        "print(''.isalnum())         # False"
      ],
      "metadata": {
        "id": "mTo8FF0iinXC"
      },
      "execution_count": null,
      "outputs": []
    },
    {
      "cell_type": "code",
      "source": [
        "# --------------------- isalpha()\n",
        "# method returns TRUE if the string is nonempty and all characters in it are alphabetic (a-z or A-Z). Otherwise, it returns FALSE.\n",
        "print('abc'.isalpha())      # True\n",
        "print('123'.isalpha())      # False\n",
        "print('abc123'.isalpha())   # False\n",
        "print('abc xyz'.isalpha())  # False\n",
        "print(''.isalpha())         # False"
      ],
      "metadata": {
        "id": "QPclXBQrjQwf"
      },
      "execution_count": null,
      "outputs": []
    },
    {
      "cell_type": "code",
      "source": [
        "# --------------------- isdecimal()\n",
        "# method returns TRUE if the string is nonempty and all characters in it are decimal characters. Otherwise, it returns FALSE.\n",
        "# --------------------- isdigit()\n",
        "# method returns TRUE if the string is nonempty and all characters in it are digits. Otherwise, it returns FALSE.\n",
        "print('123'.isdecimal())        # True\n",
        "print('123.456'.isdecimal())    # False\n",
        "print('1,234,567'.isdecimal())  # False\n",
        "print(''.isdecimal())           # False\n",
        "\n",
        "print('123'.isdigit())          # True\n",
        "print('123.456'.isdigit())      # False\n",
        "print('123.456'.isdigit())      # False\n",
        "print(''.isdigit())             # False\n",
        "print('10²'.isdigit())          # True\n",
        "\n",
        "print('123'.isnumeric())          # True\n",
        "print('123.456'.isnumeric())      # False\n",
        "print('123.456'.isnumeric())      # False\n",
        "print(''.isnumeric())             # False\n",
        "print('\\u00b2'.isnumeric())       # True\n",
        "print('\\u2153'.isnumeric())       # True\n",
        "\n",
        "# isdecimal() vs isdigit() vs isnumeric()\n",
        "print('42'.isdecimal())        # True\n",
        "print('42'.isdigit())          # True\n",
        "print('42'.isnumeric())        # True\n",
        "\n",
        "print('\\u00b2'.isdecimal())    # False\n",
        "print('\\u00b2'.isdigit())      # True\n",
        "print('\\u00b2'.isnumeric())    # True\n",
        "\n",
        "print('\\u2153'.isdecimal())    # False\n",
        "print('\\u2153'.isdigit())      # False\n",
        "print('\\u2153'.isnumeric())    # True\n",
        "\n",
        "\"\"\"\n",
        "isdecimal() -> method supports only Decimal Numbers.\n",
        "isdigit()   -> method supports Decimals, Subscripts, Superscripts.\n",
        "isnumeric() -> method supports Digits, Vulgar Fractions, Subscripts, Superscripts, Roman Numerals, Currency Numerators.\n",
        "\"\"\""
      ],
      "metadata": {
        "id": "2Ik8Ctq_jsE5"
      },
      "execution_count": null,
      "outputs": []
    },
    {
      "cell_type": "code",
      "source": [
        "# --------------------- isidentifier()\n",
        "# method returns TRUE if the string is a valid identifier according to the language definition, and FALSE otherwise.\n",
        "print('totalCount'.isidentifier())    # True\n",
        "print('total_Count'.isidentifier())   # True\n",
        "print('total Count'.isidentifier())   # False\n",
        "print('total-Count'.isidentifier())   # False\n",
        "\n",
        "print('123totalCount'.isidentifier()) # False\n",
        "print('totalCount123'.isidentifier()) # True\n",
        "\n",
        "print('class'.isidentifier())         # True\n",
        "\n",
        "# To test whether a string matches a Python keyword, use keyword.iskeyword()\n",
        "from keyword import iskeyword\n",
        "print(iskeyword('class')) # True\n",
        "\n",
        "# So, a string is considered a valid identifier if .isidentifier() returns True and iskeyword() returns False."
      ],
      "metadata": {
        "id": "CrVXH5H0lazy"
      },
      "execution_count": null,
      "outputs": []
    },
    {
      "cell_type": "code",
      "source": [
        "# --------------------- islower()\n",
        "print('abcd'.islower())     # True\n",
        "print('123$@%'.islower())   # False\n",
        "print('a123$@%'.islower())  # True\n",
        "print('abcdE'.islower())    # False"
      ],
      "metadata": {
        "id": "uuqqWK17l6Ub"
      },
      "execution_count": null,
      "outputs": []
    },
    {
      "cell_type": "code",
      "source": [
        "# --------------------- isprintable()\n",
        "# Carriage return \\r , line feed \\n and tab \\t are examples of nonprintable characters.\n",
        "print('Hello, World!'.isprintable())      # True\n",
        "print('\\tHello,\\nWorld!'.isprintable())   # False\n",
        "print(''.isprintable())                   # False"
      ],
      "metadata": {
        "id": "r_r0rBFImjjV"
      },
      "execution_count": null,
      "outputs": []
    },
    {
      "cell_type": "code",
      "source": [
        "# --------------------- isspace()\n",
        "# method returns TRUE if the string is nonempty and all characters in it are whitespace characters. Otherwise, it returns FALSE.\n",
        "print('    '.isspace())           # True\n",
        "print('   a'.isspace())           # False\n",
        "print(' \\t \\n \\r \\f '.isspace())  # True\n",
        "print('\\u2005 \\u2007'.isspace())  # True"
      ],
      "metadata": {
        "id": "TL-aOMPonD8l"
      },
      "execution_count": null,
      "outputs": []
    },
    {
      "cell_type": "code",
      "source": [
        "# --------------------- istitle()\n",
        "# method returns TRUE if the string is nonempty and a titlecased string. Otherwise, it returns FALSE.\n",
        "print('Hello World'.istitle())              # True\n",
        "print('*** Hello, World! 123'.istitle())    # True\n",
        "\n",
        "print('HELLO, WORLD!'.istitle())            # False\n",
        "print('hello, world'.istitle())             # False"
      ],
      "metadata": {
        "id": "6tJi7z9LnhXk"
      },
      "execution_count": null,
      "outputs": []
    },
    {
      "cell_type": "code",
      "source": [
        "# --------------------- isupper()\n",
        "# method return TRUE if all cased characters in the string are uppercase and there is at least one cased character, false otherwise.\n",
        "print('ABCD'.isupper())     # True\n",
        "print('123$@%'.isupper())   # False\n",
        "print('A123$@%'.isupper())  # True\n",
        "print('ABCDe'.isupper())    # False"
      ],
      "metadata": {
        "id": "k7TGzFTZn-em"
      },
      "execution_count": null,
      "outputs": []
    },
    {
      "cell_type": "code",
      "source": [
        "# --------------------- join()\n",
        "# method joins all items in an iterable into a single string. Call this method on a string you want to use as a delimiter like comma, space etc.\n",
        "print(','.join(['red', 'green', 'blue']))             # red,green,blue\n",
        "print(' '.join(['The', 'World', 'is', 'Beautiful']))  # The World is Beautiful\n",
        "print('\\n'.join(['First Line', 'Second Line']))\n",
        "# First Line\n",
        "# Second Line\n",
        "\n",
        "print(','.join(['red']))  # red\n",
        "\n",
        "# If there are any non-string values in iterable, a TypeError will be raised.\n",
        "# to avoid those scenarios, you need to convert each item in a list to string.\n",
        "print(','.join(str(val) for val in [1, 2, 3, 4, 5, 6])) # 1,2,3,4,5,6\n",
        "\n",
        "# dictionary\n",
        "L = {'name':'Bob', 'city':'seattle'}\n",
        "print(','.join(L))  # city,name\n",
        "print(','.join(L.values())) # seattle,Bob\n",
        "print(','.join('='.join((key,val)) for (key,val) in L.items())) # city=seattle,name=Bob\n",
        "\n",
        "print(''.join(['aaa','bbb'])) # aaabbb"
      ],
      "metadata": {
        "id": "iPBHrVHSoWLf"
      },
      "execution_count": null,
      "outputs": []
    },
    {
      "cell_type": "code",
      "source": [
        "# --------------------- ljust()\n",
        "# method returns left-justified string of length width. Padding is done using the specified fillchar (default is an ASCII space).\n",
        "print('Left'.ljust(12))         # |L|e|f|t| | | | | | | | |\n",
        "print('Left'.ljust(12, '*'))    # |L|e|f|t|*|*|*|*|*|*|*|*|\n",
        "print('{:<12}'.format('Left'))  # |L|e|f|t|*|*|*|*|*|*|*|*|\n",
        "\n",
        "# --------------------- rjust()\n",
        "# method returns right-justified string of length width. Padding is done using the specified fillchar (default is an ASCII space).\n",
        "print('Right'.ljust(12))         # | | | | | | | |R|i|g|h|t|\n",
        "print('Right'.rjust(12, '*'))    # |*|*|*|*|*|*|*|R|i|g|h|t|\n",
        "print('{:<12}'.format('Right'))  # |*|*|*|*|*|*|*|R|i|g|h|t|"
      ],
      "metadata": {
        "id": "CPa7KoTCpqeU"
      },
      "execution_count": null,
      "outputs": []
    },
    {
      "cell_type": "code",
      "source": [
        "# --------------------- lower()\n",
        "# method returns a copy of the string with all the characters converted to lowercase. This method does not change the original string.\n",
        "print('Hello, World!'.lower())  # hello, world!\n",
        "\n",
        "# --------------------- upper()\n",
        "# method returns a copy of the string with all the characters converted to uppercase. This method does not change the original string.\n",
        "print('Hello, World!'.upper())  # HELLO, WORLD!"
      ],
      "metadata": {
        "id": "jN4hLmo5qNvJ"
      },
      "execution_count": null,
      "outputs": []
    },
    {
      "cell_type": "code",
      "source": [
        "# --------------------- strip()\n",
        "# method removes whitespace from the beginning (leading) and end (trailing) of the string by default.\n",
        "print('   Hello, World!   '.strip())        # |H|e|l|l|o|,| |W|o|r|l|d|!|\n",
        "print(' \\t\\n\\r Hello, World!    '.strip())  # |H|e|l|l|o|,| |W|o|r|l|d|!|\n",
        "print('aaabaaaa'.lstrip('a'))               # b\n",
        "\n",
        "# multiple chars\n",
        "print('www.example.com'.lstrip('cmowz.'))             # example\n",
        "print('xxxxSxxxxSxxxx'.lstrip('x'))                   # SxxxxS\n",
        "print('... - Version 3.2 Model-32 ...'.lstrip('.- ')) # Version 3.2 Model-32\n",
        "\n",
        "# --------------------- lstrip()\n",
        "# method removes whitespace from the beginning (leading) of the string by default.\n",
        "print('   Hello, World!   '.lstrip())       # | | | |H|e|l|l|o|,| |W|o|r|l|d|!|\n",
        "print(' \\t\\n\\r Hello, World!    '.lstrip()) # |H|e|l|l|o|,| |W|o|r|l|d|!| | | | |\n",
        "print('aaaaab'.lstrip('a'))                 # b\n",
        "\n",
        "# multiple chars\n",
        "print('http://www.example.com'.lstrip('hwtp:/.')) # example.com\n",
        "print('xxxxSxxxxSxxxx'.lstrip('x'))               # SxxxxSxxxx\n",
        "print('... - Version 3.2 Model-32'.lstrip('.- ')) # Version 3.2 Model-32\n",
        "\n",
        "# --------------------- rstrip()\n",
        "# method removes whitespace from the right end (trailing) of the string by default.\n",
        "print('   Hello, World!   '.rstrip())       # |H|e|l|l|o|,| |W|o|r|l|d|!| | | |\n",
        "print('    Hello, World! \\t\\n\\r '.rstrip()) # | | | | |H|e|l|l|o|,| |W|o|r|l|d|!|\n",
        "print('baaaaa'.rstrip('a'))                 # b\n",
        "\n",
        "# multiple chars\n",
        "print('example.com/wow'.rstrip('wo/'))            # example.com\n",
        "print('xxxxSxxxxSxxxx'.rstrip('x'))               # xxxxSxxxxS\n",
        "print('Version 3.2 Model-32 - ...'.rstrip('.- ')) # Version 3.2 Model-32"
      ],
      "metadata": {
        "id": "jh4ZPl49qX9U"
      },
      "execution_count": null,
      "outputs": []
    },
    {
      "cell_type": "code",
      "source": [
        "# --------------------- partition()\n",
        "# method splits the string at the first occurrence of separator, and returns a tuple containing three items.\n",
        "print('Do it now and keep it simple'.partition('and'))  # ('Do it now ', 'and', ' keep it simple')\n",
        "print('Do it now and keep it simple'.partition('and'))  # ('Do it now and keep it simple', '', '')\n",
        "\n",
        "# multiple matches\n",
        "print('Do it now and keep it simple'.partition('it'))   # ('Do ', 'it', ' now and keep it simple')\n",
        "\n",
        "# --------------------- rpartition()\n",
        "# method splits the string at the last occurrence of separator, and returns a tuple containing three items.\n",
        "print('Do it now and keep it simple'.rpartition('and'))  # ('Do it now ', 'and', ' keep it simple')\n",
        "print('Do it now and keep it simple'.rpartition('and'))  # ('', '', 'Do it now and keep it simple')\n",
        "\n",
        "# multiple matches\n",
        "print('Do it now and keep it simple'.rpartition('it'))   # ('Do it now and keep ', 'it', ' simple')"
      ],
      "metadata": {
        "id": "o5TpZKsgrbF2"
      },
      "execution_count": null,
      "outputs": []
    },
    {
      "cell_type": "code",
      "source": [
        "# --------------------- replace()\n",
        "# method returns a copy of string with all occurrences of old substring replaced by new.\n",
        "print('Hello, World!'.replace('World','Universe'))          # Hello, Universe!\n",
        "print('Long, Longer, Longest'.replace('Long','Small'))      # Small, Smaller, Smallest\n",
        "print('Long, Longer, Longest'.replace('Long','Small', 2))   # Small, Smaller, Longest"
      ],
      "metadata": {
        "id": "b_2-bAJIr3kX"
      },
      "execution_count": null,
      "outputs": []
    },
    {
      "cell_type": "code",
      "source": [
        "# --------------------- title()\n",
        "# method returns a copy of the string with first letter of each word is converted to uppercase and remaining letters are lowercase.\n",
        "print('hello, world!'.title())          # Hello, World!\n",
        "\n",
        "# unexpected behaviour of title()\n",
        "print('c3po is a droid'.title())        # C3Po Is A Droid\n",
        "print('they're bob's friends.'.title()) # They'Re Bob'S Friends.\n",
        "\n",
        "# Workaround\n",
        "import string\n",
        "print(string.capwords(\"c3po is a droid\"))         # C3po Is A Droid\n",
        "print(string.capwords(\"they're bob's friends.\"))  # They're Bob's Friends."
      ],
      "metadata": {
        "id": "ePBtRRAZyhZG"
      },
      "execution_count": null,
      "outputs": []
    },
    {
      "cell_type": "code",
      "source": [
        "# --------------------- split()\n",
        "# method splits the string on a specified delimiter and returns the list of substrings. When delimiter is not specified, the string is split on whitespace.\n",
        "print('The World is Beautiful'.split())       # ['The', 'World', 'is', 'Beautiful']\n",
        "print('  The    World is  Beautiful'.split()) # ['The', 'World', 'is', 'Beautiful']\n",
        "print('The\\n\\rWorld\\tis Beautiful'.split())   # ['The', 'World', 'is', 'Beautiful']\n",
        "\n",
        "print('red,green,blue'.split(','))            # ['red', 'green', 'blue']\n",
        "print('the beginning is the end is the beginning'.split(' is '))  # ['the beginning', 'the end', 'the beginning']\n",
        "\n",
        "# maxsplit\n",
        "print('The World is Beautiful'.split(None, 1))       # ['The', 'World is Beautiful']\n",
        "print('The World is Beautiful'.split(None, 2))       # ['The', 'World', 'is Beautiful']\n",
        "\n",
        "# multiple delimeters\n",
        "import re\n",
        "print(re.split('[,;:]','red,green;blue:yellow'))     # ['red', 'green', 'blue', 'yellow']\n",
        "\n",
        "# --------------------- rsplit()\n",
        "# method splits the string on a specified delimiter and returns the list of substrings.\n",
        "print('The World is Beautiful'.rsplit())       # ['The', 'World', 'is', 'Beautiful']\n",
        "\n",
        "print('red,green,blue'.rsplit(','))            # ['red', 'green', 'blue']\n",
        "print('the beginning is the end is the beginning'.rsplit(' is '))  # ['the beginning', 'the end', 'the beginning']\n",
        "\n",
        "# maxsplit\n",
        "print('The World is Beautiful'.rsplit(None, 1))       # ['The World is', 'Beautiful']\n",
        "print('The World is Beautiful'.rsplit(None, 2))       # ['The World', 'is', 'Beautiful']\n",
        "\n",
        "# --------------------- splitlines()\n",
        "# method splits a string at line breaks and returns them in a list.\n",
        "print('First line\\nSecond line'.splitlines())         # ['First line', 'Second line']\n",
        "print('First\\nSecond\\r\\nThird\\fFourth'.splitlines())  # ['First', 'Second', 'Third', 'Fourth']\n",
        "\n",
        "# Keep Line Breaks in Result\n",
        "print('First line\\nSecond line'.splitlines(True))     # ['First line\\n', 'Second line']\n",
        "\n",
        "# --------------------- splitlines() vs split()\n",
        "# splitlines()\n",
        "print(''.splitlines())  # []\n",
        "# split()\n",
        "print(''.split('\\n'))   # ['']\n",
        "\n",
        "# splitlines()\n",
        "print('One line\\n'.splitlines())  # ['One line']\n",
        "# split()\n",
        "print('One line\\n'.split('\\n'))   # ['One line', '']"
      ],
      "metadata": {
        "id": "hHRJxcvksYnc"
      },
      "execution_count": null,
      "outputs": []
    },
    {
      "cell_type": "code",
      "source": [
        "# --------------------- swapcase()\n",
        "# method returns a copy of the string with uppercase characters converted to lowercase and vice versa. This method does not change the original string.\n",
        "print('Hello, World!'.swapcase()) # hELLO, wORLD!\n",
        "print('123 abc $@%'.swapcase())   # 123 abc $@%"
      ],
      "metadata": {
        "id": "F7X0IWnJ2UY1"
      },
      "execution_count": null,
      "outputs": []
    },
    {
      "cell_type": "code",
      "source": [
        "# --------------------- zfill()\n",
        "# method returns a copy of string left padded with ‘0’ characters to make a string of length width.\n",
        "print('42'.zfill(6))          # 000042\n",
        "print('+42'.zfill(6))         # +00042\n",
        "print('-42'.zfill(6))         # -00042\n",
        "\n",
        "print('{:0>6}'.format('42'))  # 000042"
      ],
      "metadata": {
        "id": "KmP5F41E2nsp"
      },
      "execution_count": null,
      "outputs": []
    },
    {
      "cell_type": "code",
      "source": [
        "# --------------------- format()\n"
      ],
      "metadata": {
        "id": "mIFg4m0S2_Q5"
      },
      "execution_count": null,
      "outputs": []
    },
    {
      "cell_type": "markdown",
      "source": [
        "# Python Built-in Functions"
      ],
      "metadata": {
        "id": "PklzkuISSthl"
      }
    },
    {
      "cell_type": "code",
      "source": [
        "# --------------------- abs()\n",
        "# method returns the absolute value of a number.\n",
        "print(abs(-10))     # 10\n",
        "print(abs(-2.5))    # 2.5\n",
        "print(abs(3 + 4j))  # 5"
      ],
      "metadata": {
        "id": "nmzMAV-NS3kk"
      },
      "execution_count": null,
      "outputs": []
    },
    {
      "cell_type": "code",
      "source": [
        "# --------------------- all()\n",
        "# function returns True if all items in an iterable are True. Otherwise, it returns False.\n",
        "print(all([1, 1, 1]))             # True\n",
        "print(all([0, 1, 1]))             # False\n",
        "print(all([True, 0, 1]))          # False\n",
        "print(all({0j, 3+4j}))            # False\n",
        "print(all(('', 'red', 'green')))  # False\n",
        "\n",
        "print(all({0: 'Zero', 1: 'One', 2: 'Two'}))   # False\n",
        "print(all({'Zero': 0, 'One': 1, 'Two': 2}))   # True\n",
        "\n",
        "print(all([]))        # True\n",
        "print(all([[], []]))  # False"
      ],
      "metadata": {
        "id": "3DfzHxO2TKda"
      },
      "execution_count": null,
      "outputs": []
    },
    {
      "cell_type": "code",
      "source": [
        "# --------------------- any()\n",
        "# function returns True if any item in an iterable is True. Otherwise, it returns False.\n",
        "print(all([0, 0, 0]))             # False\n",
        "print(all([0, 1, 0]))             # True\n",
        "print(all([False, 0, 1]))         # True\n",
        "print(all(['', [], 'blue']))      # True\n",
        "print(all({0j, 3+4j, 0.0}))       # True\n",
        "\n",
        "print(all({0: 'Zero', 0: 'Nil'}))   # False\n",
        "print(all({'Zero': 0, 'Nil': 0}))   # True\n",
        "\n",
        "print(all([]))        # False"
      ],
      "metadata": {
        "id": "fYTfCLzNUFo4"
      },
      "execution_count": null,
      "outputs": []
    },
    {
      "cell_type": "code",
      "source": [
        "# --------------------- ascii()\n",
        "# function returns a string containing a printable version of an object. It replaces any non-ascii characters with escape characters \\x, \\u or \\U\n",
        "print(ascii('Das straße'))                            # 'Das stra\\xdfe'\n",
        "print(ascii(['The street', 'Das straße']))            # ['The street', 'Das stra\\xdfe']\n",
        "print(ascii({'EN':'The street', 'DE':'Das straße'}))  # {'EN': 'The street', 'DE': 'Das stra\\xdfe'}"
      ],
      "metadata": {
        "id": "TIEVEAPZUrUc"
      },
      "execution_count": null,
      "outputs": []
    },
    {
      "cell_type": "code",
      "source": [
        "# --------------------- bin()\n",
        "# function converts an integer number to a binary string. The result will always be prefixed with '0b'.\n",
        "print(bin(42))    # 0b101010\n",
        "print(bin(-42))   # -0b101010\n",
        "print(bin(0xF))   # 0b1111\n",
        "print(bin(0o12))  # 0b1010"
      ],
      "metadata": {
        "id": "t2YbCILYVIgb"
      },
      "execution_count": null,
      "outputs": []
    },
    {
      "cell_type": "code",
      "source": [
        "# --------------------- bool()\n",
        "# function converts a value to a boolean value i.e. one of True or False.\n",
        "print(bool(0))\t\t\t  # False\n",
        "print(bool([]))\t\t\t  # False\n",
        "print(bool(0.0))\t\t  # False\n",
        "print(bool(None))\t\t  # False\n",
        "print(bool(0j))\t\t\t  # False\n",
        "print(bool(range(0)))\t# False\n",
        "\n",
        "print(bool(1))\t\t\t  # True\n",
        "print(bool([0]))\t\t  # True\n",
        "print(bool([1, 2]))\t\t# True\n",
        "print(bool(10))\t\t\t  # True\n",
        "print(bool(3+4j))\t\t  # True\n",
        "print(bool(range(2)))\t# True"
      ],
      "metadata": {
        "id": "_r3lMM3vVMBc"
      },
      "execution_count": null,
      "outputs": []
    },
    {
      "cell_type": "code",
      "source": [
        "# --------------------- chr()\n",
        "# function returns the character that represents the specified number (unicode code point).\n",
        "# The valid range for the number is from 0 to 1,114,111 (0x10FFFF).\n",
        "# ValueError will be raised if you specify number outside that range.\n",
        "# You can convert it back to unicode using the ord() function.\n",
        "\n",
        "print(char(65))       # A\n",
        "print(char(97))       # a\n",
        "print(char(8364))     # €\n",
        "print(char(0x24))     # $\n",
        "print(char(0x110000)) # Triggers ValueError: chr() arg not in range(0x110000)"
      ],
      "metadata": {
        "id": "HiHNFgkmVM0a"
      },
      "execution_count": null,
      "outputs": []
    },
    {
      "cell_type": "code",
      "source": [
        "# --------------------- divmod()\n",
        "# function returns a tuple containing the quotient and the remainder when dividend is divided by divisor.\n",
        "print(divmod(5, 2))   # (2, 1)\n",
        "'''\n",
        "a = 5\n",
        "b = 2\n",
        "print((a // b, a % b))  # (2, 1)\n",
        "'''"
      ],
      "metadata": {
        "id": "jmolwJx0VNhG"
      },
      "execution_count": null,
      "outputs": []
    },
    {
      "cell_type": "code",
      "source": [
        "# --------------------- enumerate()\n",
        "# function adds a counter to an iterable and returns it as an enumerate object.\n",
        "# By default, enumerate() starts counting at 0 but if you add a second argument start, it’ll start from that number instead.\n",
        "print(list(enumerate(['red', 'green', 'blue'])))      # [(0, 'red'), (1, 'green'), (2, 'blue')]\n",
        "print(list(enumerate(['red', 'green', 'blue'], 10)))  # [(10, 'red'), (11, 'green'), (12, 'blue')]\n",
        "\n",
        "for pair in enumerate(['red', 'green', 'blue']):\n",
        "  print(pair)\n",
        "# (0, 'red')\n",
        "# (1, 'green')\n",
        "# (2, 'blue')\n",
        "\n",
        "for index, pair in enumerate(['red', 'green', 'blue']):\n",
        "  print(index, pair)\n",
        "# 0, red\n",
        "# 1, green\n",
        "# 2, blue"
      ],
      "metadata": {
        "id": "p8W4JwqwXjQA"
      },
      "execution_count": null,
      "outputs": []
    },
    {
      "cell_type": "code",
      "source": [
        "# --------------------- id()\n",
        "# function returns a unique id for the specified object.\n",
        "# In Python, every object has its own unique id. Every time you create an object, a unique id is assigned to it.\n",
        "# The id is nothing but the address of the object in memory. So, it will be different for each time you run the program. But, there are some exceptions.\n",
        "print(id('Hello!')) # 34936992\n",
        "\n",
        "print(id(9999)) # 33739544\n",
        "\n",
        "print(id(['red', 'green', 'blue'])) # 33866256\n",
        "\n",
        "class myfunc:\n",
        "  pass\n",
        "print(id(myfunc())) # 33666912\n",
        "\n",
        "x = 42\n",
        "y = x\n",
        "print(x is y) # True (comparing two ids)\n",
        "\n",
        "# exceptions\n",
        "# Some objects have same id (actually one object with multiple pointer), like\n",
        "# Small integers between -5 and 256\n",
        "# Small interned strings (usually less than 20 character)\n",
        "print(30 is 20+10)  # True\n",
        "print('aa'*2 is 'a'*4)  # True"
      ],
      "metadata": {
        "id": "_TuRmJiCXnI8"
      },
      "execution_count": null,
      "outputs": []
    },
    {
      "cell_type": "code",
      "source": [
        "# --------------------- int()\n",
        "# function converts the specified value to integer. A value can be a number or a string, except complex numbers.\n",
        "print(int(4.2))   # 4\n",
        "print(int(4.99))  # 4\n",
        "print(int())      # 0\n",
        "print(int('69'))  # 69\n",
        "\n",
        "# You can also specify the base of the given value. Valid values are 0 and 2–36.\n",
        "# binary string\n",
        "print(int('1110', 2))   # 14\n",
        "print(int('0b1110', 2)) # 14\n",
        "print(int('0b1110', 0)) # 14\n",
        "\n",
        "# octal string\n",
        "print(int('10', 8))     # 8\n",
        "print(int('0o10', 8))   # 8\n",
        "print(int('0o10', 0))   # 8\n",
        "\n",
        "# hex string\n",
        "print(int('F', 16))     # 15\n",
        "print(int('0xF', 16))   # 15\n",
        "print(int('0xF', 0))    # 15"
      ],
      "metadata": {
        "id": "J1lzaGreXm5M"
      },
      "execution_count": null,
      "outputs": []
    },
    {
      "cell_type": "code",
      "source": [
        "# --------------------- len()\n",
        "# function returns the number of items of an object.\n",
        "print(len('python'))                    # 6\n",
        "print(len(['red', 'green', 'blue']))    # 3\n",
        "print(len(('red', 'green', 'blue')))    # 3\n",
        "print(len({'name': 'Bob', 'age': 25}))  # 2\n",
        "print(len({'red', 'green', 'blue'}))    # 3"
      ],
      "metadata": {
        "id": "L-PFrcglXmpv"
      },
      "execution_count": null,
      "outputs": []
    },
    {
      "cell_type": "code",
      "source": [
        "# --------------------- list()\n",
        "# function creates a list from an iterable.\n",
        "# The iterable may be a sequence (such as a string, tuple or range) or a collection (such as a dictionary, set or frozen set)\n",
        "# There is another way you can create lists based on existing lists. It is called List comprehension.\n",
        "print(list())                           # []\n",
        "print(list('abc'))                      # ['a', 'b', 'c']\n",
        "print(list((1, 2, 3)))                  # [1, 2, 3]\n",
        "print(list(range(0, 4)))                # [0, 1, 2, 3]\n",
        "print(list({'name': 'Bob', 'age': 25})) # ['age', 'name']\n",
        "print(list({1, 2, 3}))                  # [1, 2, 3]"
      ],
      "metadata": {
        "id": "9blpAoTFXmao"
      },
      "execution_count": null,
      "outputs": []
    },
    {
      "cell_type": "code",
      "source": [
        "# --------------------- max() max(val1,val2,val3… ,key) or max(iterable,key,default)\n",
        "# function can find\n",
        "# the largest of two or more values (such as numbers, strings etc.)\n",
        "# the largest item in an iterable (such as list, tuple etc.)\n",
        "print(max(10, 20, 30))                # 30\n",
        "print(max('red', 'green', 'blue'))    # red\n",
        "print(max([300, 500, 100, 400, 200])) # 500\n",
        "\n",
        "# empty list\n",
        "print(max([]))  # Triggers ValueError: max() arg is an empty sequence\n",
        "print(max([], default='0')) # 0\n",
        "\n",
        "# max with built-in functions\n",
        "print(max(['red', 'green', 'blue', 'black', 'orange'], key=len))    # orange\n",
        "\n",
        "# custom\n",
        "def myFunc(e):\n",
        "  return e[1]\t# return age\n",
        "L = [\n",
        "  ('Sam', 35),\n",
        "  ('Tom', 25),\n",
        "  ('Bob', 30)\n",
        "]\n",
        "print(max(L, key=myFunc)) # ('Sam', 35)\n",
        "\n",
        "# with lambda\n",
        "L = [\n",
        "  ('Sam', 35),\n",
        "  ('Tom', 25),\n",
        "  ('Bob', 30)\n",
        "]\n",
        "print(max(L, key=lambda student: student[1])) # ('Sam', 35)\n",
        "\n",
        "# custom object\n",
        "class Student:\n",
        "\tdef __init__(self, name, age):\n",
        "\t\tself.name = name\n",
        "\t\tself.age = age\n",
        "\tdef __repr__(self):\n",
        "\t\treturn repr((self.name, self.age))\n",
        "\n",
        "L = [\n",
        "  Student('Sam', 35),\n",
        "\tStudent('Tom', 25),\n",
        "\tStudent('Bob', 30)\n",
        "]\n",
        "print(max(L, key=lambda student: student.age))  # ('Sam', 35)\n",
        "\n",
        "# --------------------- min() min(val1,val2,val3… ,key) or min(iterable,key,default)\n",
        "# function can find\n",
        "# the smallest of two or more values (such as numbers, strings etc.)\n",
        "# the smallest item in an iterable (such as list, tuple etc.)"
      ],
      "metadata": {
        "id": "2byorIc3XmKt"
      },
      "execution_count": null,
      "outputs": []
    },
    {
      "cell_type": "code",
      "source": [
        "# --------------------- pow(x, y)\n",
        "# function calculates the value of x to the power of y ( x y ).\n",
        "# If a third argument z is specified, pow(x, y, z) function returns x to the power of y, modulus z ( x^y % z ).\n",
        "print(pow(5, 2))    # 25\n",
        "print(pow(-2, 3))   # -8\n",
        "print(pow(2.5, 2))  # 25\n",
        "print(pow(3+4j, 2)) # (-7+24j)\n",
        "print(pow(2, -2))   # 0.25\n",
        "\n",
        "print(pow(5, 2, 3)) # 1 i.e 5**2%3"
      ],
      "metadata": {
        "id": "uv5na2ZjXl4s"
      },
      "execution_count": null,
      "outputs": []
    },
    {
      "cell_type": "code",
      "source": [
        "# --------------------- print()\n",
        "# function prints the specified message to the screen or the text file. The message can be a string, or any other object (such as number, list, tuple etc.)\n",
        "'''\n",
        "Parameter\t    Condition\t    Description\n",
        "objects\t      Optional\t    Zero or more objects to print.\n",
        "sep\t          Optional\t    A string to print between each object. Default is a single space ‘ ‘\n",
        "end\t          Optional\t    A string to print at the end. Default is a newline ‘\\n’.\n",
        "file\t        Optional\t    An object with a write(string) method. Default is sys.stdout (screen)\n",
        "flush\t        Optional\t    If True, output buffer is forcibly flushed\n",
        "'''\n",
        "print('Hello, World!')                      # Hello, World!\n",
        "print('One','two','three','four','five')    # One two three four five\n",
        "print('One','two','three', sep='...')       # One...two...three\n",
        "\n",
        "# The print() function includes a newline \\n at the end by default.\n",
        "# To print the values without a trailing newline, specify end parameter.\n",
        "print('First line.', end=' ')\n",
        "print('Next line')\n",
        "# First line. Next line\n",
        "\n",
        "# file param\n",
        "with open('myfile.txt', 'w') as f:\n",
        "  print('Hello, World!', file=f)\n",
        "\n",
        "# print object\n",
        "print(['red', 'green', 'blue']) # ['red', 'green', 'blue']\n",
        "print((1, 2, 3))                # (1, 2, 3)"
      ],
      "metadata": {
        "id": "9fclJiIBXlnw"
      },
      "execution_count": null,
      "outputs": []
    },
    {
      "cell_type": "code",
      "source": [
        "# You generate a property by calling the property() built-in function, passing in three methods (getter, setter and deleter) as well as the docstring for the property.\n",
        "# If any argument is passed as None or omitted, that operation is not supported."
      ],
      "metadata": {
        "id": "ZJIbGb-AXlWt"
      },
      "execution_count": null,
      "outputs": []
    },
    {
      "cell_type": "code",
      "source": [
        "# --------------------- range()\n",
        "# function generates a sequence of numbers from start up to stop, and increments by step.\n",
        "for x in range(7):\n",
        "  print(x)  # 0 1 2 3 4 5 6\n",
        "\n",
        "for x in range(2, 7):\n",
        "  print(x)  # 2 3 4 5 6\n",
        "\n",
        "for x in range(-5,0):\n",
        "  print(x)  # -5 -4 -3 -2 -1\n",
        "\n",
        "for x in range(2, 7, 2):\n",
        "  print(x)  # 2 4 6\n",
        "\n",
        "for x in range(6, 1, -1):\n",
        "  print(x)  # 6 5 4 3 2\n",
        "\n",
        "print(list(range(7)))  # [0, 1, 2, 3, 4, 5, 6]\n",
        "\n",
        "print(range(7)[3])  # 3\n",
        "print(list(range(7)[2:5]))  # [2, 3, 4]\n",
        "\n",
        "import numpy\n",
        "for i in numpy.arange(0, 3, 0.5):\n",
        "  print(i)  # 0.0 0.5 1.0 1.5 2.0 2.5"
      ],
      "metadata": {
        "id": "lHyKkOKtXlGB"
      },
      "execution_count": null,
      "outputs": []
    },
    {
      "cell_type": "code",
      "source": [
        "# --------------------- round()\n",
        "# returns a number rounded to ndigits precision after the decimal point.\n",
        "# If ndigits is not specified, the number is rounded to the nearest integer.\n",
        "print(round(2.8))         # 3\n",
        "print(round(2.86542, 2))  # 2.87\n",
        "\n",
        "# round to ten's\n",
        "print(round(48, -1))      # 50\n",
        "print(round(148, -1))     # 150\n",
        "\n",
        "# Round to hundred's\n",
        "print(round(248, -2))     # 200\n",
        "print(round(268, -2))     # 300\n",
        "\n",
        "# rounding conversion\n",
        "print(round(2.865))       # 3\n",
        "print(round(2.865, 0))    # 3.0\n",
        "\n",
        "# rounding to even\n",
        "print(round(4.5))         # 4\n",
        "print(round(5.5))         # 6\n",
        "\n",
        "# rounding up\n",
        "import math\n",
        "print(math.ceil(4.5))     # 5\n",
        "\n",
        "# rounding down\n",
        "import math\n",
        "print(math.floor(4.5))    # 4"
      ],
      "metadata": {
        "id": "LqrB-cK_Xk1B"
      },
      "execution_count": null,
      "outputs": []
    },
    {
      "cell_type": "code",
      "source": [
        "# --------------------- slice()\n",
        "# function returns a slice object. A slice object is used to specify how to slice a sequence (list, tuple, string or range etc.) .\n",
        "# You can specify where to start the slicing, where to stop and specify the step.\n",
        "print(['a', 'b', 'c', 'd', 'e', 'f', 'g', 'h', 'i'][slice(5)])        # ['a', 'b', 'c', 'd', 'e']\n",
        "print(['a', 'b', 'c', 'd', 'e', 'f', 'g', 'h', 'i'][slice(2,7)])      # ['c', 'd', 'e', 'f', 'g']\n",
        "print(['a', 'b', 'c', 'd', 'e', 'f', 'g', 'h', 'i'][slice(2,7,2)])    # ['c', 'e', 'g']\n",
        "print(['a', 'b', 'c', 'd', 'e', 'f', 'g', 'h', 'i'][slice(-7,-2)])    # ['c', 'd', 'e', 'f', 'g']\n",
        "print(['a', 'b', 'c', 'd', 'e', 'f', 'g', 'h', 'i'][slice(2,-2)])     # ['c', 'd', 'e', 'f', 'g']\n",
        "print(['a', 'b', 'c', 'd', 'e', 'f', 'g', 'h', 'i'][slice(7,2,-2)])   # ['h', 'f', 'd']\n",
        "print(['a', 'b', 'c', 'd'][slice(None, None, -1)])                    # ['d', 'c', 'b', 'a']"
      ],
      "metadata": {
        "id": "uKYkpF-LXkg7"
      },
      "execution_count": null,
      "outputs": []
    },
    {
      "cell_type": "code",
      "source": [
        "# --------------------- sorted()\n",
        "# method sorts the items of any iterable\n",
        "print(sorted(['red', 'green', 'blue', 'orange']))                 # ['blue', 'green', 'orange', 'red']\n",
        "print(sorted([42, 99, 1, 12]))                                    # [1, 12, 42, 99]\n",
        "print(sorted(('cc', 'aa', 'dd', 'bb')))                           # ['aa', 'bb', 'cc', 'dd']\n",
        "print(sorted({'Bob':30, 'Sam':25, 'Max':35, 'Tom':20}))           # ['Bob', 'Max', 'Sam', 'Tom']\n",
        "print(sorted({'Bob':30, 'Sam':25, 'Max':35, 'Tom':20}.values()))  # [20, 25, 30, 35]\n",
        "print(sorted(['cc', 'aa', 'dd', 'bb'], reverse=True))             # ['dd', 'cc', 'bb', 'aa']\n",
        "\n",
        "print(sorted(['orange', 'red', 'green', 'blue'], key=len))        # ['red', 'blue', 'green', 'orange']\n",
        "\n",
        "# custom function\n",
        "def myFunc(e):\n",
        "  return e[1]\t# return age\n",
        "L = [\n",
        "  ('Sam', 35),\n",
        "  ('Max', 25),\n",
        "  ('Bob', 30)\n",
        "]\n",
        "print(sorted(L, key=myFunc))  # [('Max', 25), ('Bob', 30), ('Sam', 35)]\n",
        "\n",
        "# lambda\n",
        "L = [\n",
        "  ('Sam', 35),\n",
        "  ('Max', 25),\n",
        "  ('Bob', 30)\n",
        "]\n",
        "print(sorted(L, key=lambda student: student[1]))  # [('Max', 25), ('Bob', 30), ('Sam', 35)]\n",
        "\n",
        "# To access items of an iterable, Python provides convenience functions\n",
        "from operator import itemgetter\n",
        "L = [\n",
        "  ('Sam', 35),\n",
        "  ('Max', 25),\n",
        "  ('Bob', 30)\n",
        "]\n",
        "print(sorted(L, key=itemgetter(1))) # [('Max', 25), ('Bob', 30), ('Sam', 35)]\n",
        "\n",
        "# multiple level sorting\n",
        "L = [\n",
        "  ('Bob', 'B', 30),\n",
        "\t('Sam', 'A', 35),\n",
        "  ('Max', 'B', 25),\n",
        "  ('Tom', 'A', 20),\n",
        "  ('Ron', 'A', 40),\n",
        "  ('Ben', 'B', 15)\n",
        "]\n",
        "print(sorted(L, key=itemgetter(1,2)))\n",
        "#        [('Tom', 'A', 20),\n",
        "#         ('Sam', 'A', 35),\n",
        "#         ('Ron', 'A', 40),\n",
        "#         ('Ben', 'B', 15),\n",
        "#         ('Max', 'B', 25),\n",
        "#         ('Bob', 'B', 30)]"
      ],
      "metadata": {
        "id": "471wN5NvXkI5"
      },
      "execution_count": null,
      "outputs": []
    },
    {
      "cell_type": "code",
      "source": [
        "# --------------------- sum()\n",
        "# function sums the items of an iterable and returns the total.\n",
        "print(sum([1, 2, 3, 4, 5]))       # 15\n",
        "\n",
        "# start with n and add all items in list\n",
        "print(sum([1, 2, 3, 4, 5], 10))   # 25"
      ],
      "metadata": {
        "id": "FoSPz2GLXjtj"
      },
      "execution_count": null,
      "outputs": []
    },
    {
      "cell_type": "code",
      "source": [
        "# --------------------- tuple()\n",
        "# function creates a tuple from an iterable.\n",
        "print(tuple())            # ()\n",
        "print(tuple('abc'))       # ('a', 'b', 'c')\n",
        "print(tuple([1, 2, 3]))   # (1, 2, 3)\n",
        "print(tuple(range(0, 4))) # (0, 1, 2, 3)\n",
        "\n",
        "print(tuple({'name': 'Bob', 'age': 25}))  # ('age', 'name')\n",
        "print(tuple({1, 2, 3}))                   # (1, 2, 3)"
      ],
      "metadata": {
        "id": "yAZSh_RatV0W"
      },
      "execution_count": null,
      "outputs": []
    },
    {
      "cell_type": "code",
      "source": [
        "# --------------------- type() type(object) or type(name,bases,dict)\n",
        "# function returns the type of the specified object.\n",
        "print(type(42))                         # <class 'int'>\n",
        "print(type('Hello'))                    # <class 'str'>\n",
        "print(type(['red', 'green', 'blue']))   # <class 'list'>\n",
        "print(type({'name': 'Bob', 'age': 25})) # <class 'dict'>\n",
        "\n",
        "class fruit:\n",
        "  pass\n",
        "print(type(fruit()))                    # Prints <class '__main__.fruit'>\n",
        "\n",
        "# type() vs isinstance()\n",
        "# The isinstance() method takes subclasses into account; type() doesn’t.\n",
        "class fruit:\n",
        "  pass\n",
        "\n",
        "class apple(fruit):\n",
        "  pass\n",
        "\n",
        "print(isinstance(fruit(), fruit)) # True\n",
        "print(type(fruit()) == fruit)     # True\n",
        "print(isinstance(apple(), fruit)) # True\n",
        "print(type(apple()) == fruit)     # False, and this probably won't be what you want."
      ],
      "metadata": {
        "id": "3vKVcAiRtVlY"
      },
      "execution_count": null,
      "outputs": []
    },
    {
      "cell_type": "code",
      "source": [
        "# --------------------- zip()\n",
        "# function combines items from each of the specified iterables.\n",
        "# The return value is a list of tuples where the items of each passed iterable at same index are paired together.\n",
        "x = [1, 2, 3]\n",
        "y = ['one', 'two', 'three']\n",
        "print(list(zip(x, y)))    # [(1, 'one'), (2, 'two'), (3, 'three')]\n",
        "\n",
        "x = [1, 2, 3]\n",
        "y = ['one', 'two', 'three']\n",
        "z = ['I', 'II', 'III']\n",
        "print(list(zip(x, y, z))) # [(1, 'one', 'I'), (2, 'two', 'II'), (3, 'three', 'III')]\n",
        "\n",
        "# If you pass iterables having different length, the iterable with least items decides the length of the resulting iterable.\n",
        "x = [1, 2, 3, 4]\n",
        "y = ['one', 'two']\n",
        "z = ['I', 'II', 'III']\n",
        "print(list(zip(x, y, z))) # [(1, 'one', 'I'), (2, 'two', 'II')]\n",
        "\n",
        "# Unzip/Unpack Zipped Items\n",
        "x = [1, 2, 3]\n",
        "y = ['one', 'two', 'three']\n",
        "result = zip(x, y)\n",
        "\n",
        "# unzip\n",
        "a, b = zip(*result)\n",
        "print(a)  # (1, 2, 3)\n",
        "print(b)  # ('one', 'two', 'three')\n",
        "\n",
        "keys = ['name', 'age']\n",
        "values = ['Bob', 25]\n",
        "print(dict(zip(keys, values)))  # {'age': 25, 'name': 'Bob'}\n",
        "\n",
        "name = ['Bob', 'Sam', 'Max']\n",
        "age = [25, 35, 30]\n",
        "for x, y in zip(name, age):\n",
        "  print(x, y)\n",
        "# Bob 25\n",
        "# Sam 35\n",
        "# Max 30"
      ],
      "metadata": {
        "id": "Wpb9eL4FtVXQ"
      },
      "execution_count": null,
      "outputs": []
    },
    {
      "cell_type": "code",
      "source": [
        "# --------------------- open()\n",
        "# function opens a file and returns it as a file object. With this file object you can create, update, read, and delete files.\n",
        "# open(file, mode, buffering, encoding, errors, newline, closefd, opener)\n",
        "'''\n",
        "Parameter\t  Condition\t  Description\n",
        "file\t      Required\t  The path and name of the file\n",
        "mode\t      Optional\t  Specifies the mode you want to open the file in\n",
        "buffering\t  Optional\t  Sets the buffering policy\n",
        "encoding\t  Optional\t  Specifies encoding\n",
        "errors\t    Optional\t  Specifies different error handling scheme\n",
        "newline\t    Optional\t  Controls how universal newlines mode works\n",
        "closefd\t    Optional\t  Keeps the underlying file descriptor open when the file is closed\n",
        "opener\t    Optional\t  A custom opener used for low-level I/O operations\n",
        "'''\n",
        "\n",
        "# open file\n",
        "f = open('myfile.txt')\n",
        "\n",
        "# specify absolute path\n",
        "f = open(r'C:\\Python33\\Scripts\\myfile.txt')\n",
        "\n",
        "# Open a file for reading\n",
        "f = open('myfile.txt')\n",
        "\n",
        "# Open a file for writing\n",
        "f = open('myfile.txt', 'w')\n",
        "\n",
        "# Open a file for reading and writing\n",
        "f = open('myfile.txt', 'r+')\n",
        "\n",
        "# Open a binary file for reading\n",
        "f = open('myfile.txt', 'rb')\n",
        "\n",
        "# Read a file in 'UTF-8' encoding\n",
        "f = open('myfile.txt', encoding='UTF-8')\n",
        "\n",
        "# Read a file in 'ascii' encoding\n",
        "f = open('myfile.txt', encoding='ascii')\n",
        "\n",
        "# myfile.txt\n",
        "# Das straße\n",
        "# Read a file in 'ascii' and ignore decoding errors\n",
        "f = open('myfile.txt', encoding='ascii', errors='ignore')\n",
        "print(f.read()) # Das strae"
      ],
      "metadata": {
        "id": "JkBKpnTrtVBd"
      },
      "execution_count": null,
      "outputs": []
    },
    {
      "cell_type": "code",
      "source": [
        "# --------------------- locals()\n",
        "# function returns the local symbol table as a dictionary. It contains information about all local variables.\n",
        "\n",
        "# global variables\n",
        "a = 10\n",
        "b = 20\n",
        "\n",
        "def myfunc():\n",
        "  # local variables\n",
        "  c = 30\n",
        "  d = 40\n",
        "  print(locals())\n",
        "\n",
        "myfunc()  # {'c': 30, 'd': 40}\n",
        "\n",
        "x = 5       # global scope\n",
        "def myfunc():\n",
        "  x = 10  # local scope\n",
        "  print('x inside function is', x)\n",
        "\n",
        "myfunc()  # x inside function is 10\n",
        "print('x outside function is', x) # x outside function is 5\n",
        "\n",
        "# Get the value of local variable 'x'\n",
        "x = 10\n",
        "print(locals()['x'])  # 10"
      ],
      "metadata": {
        "id": "ArftMjxitUy4"
      },
      "execution_count": null,
      "outputs": []
    },
    {
      "cell_type": "code",
      "source": [
        "# --------------------- globals()\n",
        "# function returns the global symbol table as a dictionary. It contains information about all global variables.\n",
        "# Declare some global variables\n",
        "a = 10\n",
        "b = 20\n",
        "c = 30\n",
        "d = 40\n",
        "\n",
        "print(globals())\n",
        "#       {'__name__': '__main__',\n",
        "#        '__doc__': None,\n",
        "#        '__package__': None,\n",
        "#        '__loader__': <_frozen_importlib_external.SourceFileLoader object at 0x7fed1a254358>,\n",
        "#        '__spec__': None,\n",
        "#        '__annotations__': {},\n",
        "#        '__builtins__': <module 'builtins' (built-in)>,\n",
        "#        '__file__': 'main.py',\n",
        "#        '__cached__': None,\n",
        "#        'a': 10,\n",
        "#        'b': 20,\n",
        "#        'c': 30,\n",
        "#        'd': 40 }\n",
        "\n",
        "x = 5       # global scope\n",
        "def myfunc():\n",
        "  x = 10  # local scope\n",
        "  print('x inside function is', x)\n",
        "\n",
        "myfunc()  # x inside function is 10\n",
        "print('x outside function is', x) # x outside function is 5\n",
        "\n",
        "x = 10\n",
        "print(globals()['x']) # 10\n",
        "\n",
        "print(globals()['__file__'])  # main.py\n",
        "\n",
        "# modify global variables\n",
        "x = 5       # global scope\n",
        "\n",
        "def myfunc():\n",
        "  x = 10  # local scope\n",
        "  globals()['x'] = 99    # update global x\n",
        "  print('x inside function is', x)\n",
        "\n",
        "myfunc()  # x inside function is 10\n",
        "print('x outside function is', x) # x outside function is 99"
      ],
      "metadata": {
        "id": "YMCdvMqYwZn3"
      },
      "execution_count": null,
      "outputs": []
    },
    {
      "cell_type": "code",
      "source": [
        "# --------------------- format()\n",
        "# Although you can get a lot done with the string methods, Python also provides a more advanced and powerful way to do string processing tasks – string formatting.\n",
        "'''\n",
        "Here are all the formatting options:\n",
        "\n",
        "Formatting options\t  Valid values\n",
        "field\t                <any number or keyword>\n",
        "conversion\t          s | r | a\n",
        "fill\t                <any character>\n",
        "align\t                < | > | = | ^\n",
        "sign\t                + | – |\n",
        "width\t                <any number>\n",
        "group\t                _ | ,\n",
        "precision\t            <any number>\n",
        "type\t                b | c | d | e | E | f | F | g | G | n | o | s | x | X | %\n",
        "'''\n",
        "\n",
        "print('{} is {} years old.'.format('Bob', 25))                  # Bob is 25 years old.\n",
        "print('{1} is {0} years old.'.format(25, 'Bob'))                # Bob is 25 years old.\n",
        "print('{name} is {age} years old.'.format(name='Bob', age=25))  # Bob is 25 years old.\n",
        "\n",
        "print('{:<12}'.format('Left'))    # |L|e|f|t| | | | | | | | |\n",
        "print('{:>12}'.format('Right'))   # | | | | | | | |R|i|g|h|t|\n",
        "print('{:^12}'.format('Center'))  # | | | |C|e|n|t|e|r| | | |\n",
        "print('{:*^12}'.format('Center')) # |*|*|*|C|e|n|t|e|r|*|*|*|\n",
        "\n",
        "# truncate to 2 char\n",
        "print('{:.2}'.format('Python'))   # Py\n",
        "print('{:^10.2}'.format('Python'))# | | | | |P|y| | | | |\n",
        "\n",
        "print('int:{0:d}, hex:{0:x}, oct:{0:o}, bin:{0:b}, char:{0:c}'.format(42))  # int:42, hex:2a, oct:52, bin:101010, char:*\n",
        "print('hex:{0:#x}; oct:{0:#o}; bin:{0:#b}'.format(42))  # hex:0x2a; oct:0o52; bin:0b101010\n",
        "\n",
        "print('{:f}'.format(3.141592653))             # 3.141593\n",
        "print('{:.2f}'.format(3.141592653))           # 3.14\n",
        "print('{:.2e}'.format(3141592653))            # 3.14e+09\n",
        "print('{:.2%}'.format(19.5/22))               # 88.64%\n",
        "print('{:+.2f}, {:+.2f}'.format(3.14, -3.14)) # +3.14, -3.14\n",
        "print('{:-.2f}, {:-.2f}'.format(3.14, -3.14)) # 3.14, -3.14\n",
        "print('{: .2f}, {: .2f}'.format(3.14, -3.14)) #  3.14, -3.14\n",
        "print('{:5d}'.format(42))                     # | | | |4|2|\n",
        "print('{:0>3d}'.format(7))                    # 007\n",
        "print('{:06.2f}'.format(3.141592653589793))   # 003.14\n",
        "print('{:0=8d}'.format(-120))                 # -0000120\n",
        "print('{:,}'.format(1234567890))              # 1,234,567,890\n",
        "print('{:_b}'.format(0b01010101010))          # 10_1010_1010\n",
        "\n",
        "import datetime\n",
        "D = datetime.datetime(2010, 7, 4, 12, 15, 58)\n",
        "print('{:%Y-%m-%d %H:%M:%S}'.format(D))       # 2010-07-04 12:15:58\n",
        "\n",
        "print('{:{fill}{align}{width}}'.format('center', fill='*', align='^', width='12'))  # ***center***"
      ],
      "metadata": {
        "id": "5_ddaneoxfz8"
      },
      "execution_count": null,
      "outputs": []
    },
    {
      "cell_type": "code",
      "source": [
        "# --------------------- complex()\n",
        "# function creates a complex number when real and imaginary parts are specified.\n",
        "print(complex(3, 2))    # (3+2j)\n",
        "print(complex(-3, 2))   # (-3+2j)\n",
        "print(complex(3, -2))   # (3-2j)\n",
        "\n",
        "print(complex(3))       # (3+0j)\n",
        "print(complex(0, 4))    # 4j\n",
        "\n",
        "print(complex())        # 0j\n",
        "\n",
        "print(complex('3+4j'))  # (3+4j)\n",
        "\n",
        "print(complex('3 + 4j'))  # Triggers ValueError: complex() arg is a malformed string"
      ],
      "metadata": {
        "id": "sr9kkfbnxiEU"
      },
      "execution_count": null,
      "outputs": []
    },
    {
      "cell_type": "markdown",
      "source": [
        "# Python global, local keyword"
      ],
      "metadata": {
        "id": "l-AEhwKs10Zx"
      }
    },
    {
      "cell_type": "markdown",
      "source": [
        "`global` keyword is used to create or update a global variable from a nonglobal scope (such as inside a function or a class)."
      ],
      "metadata": {
        "id": "l7910O7s13qi"
      }
    },
    {
      "cell_type": "code",
      "source": [
        "# ---------------------\n",
        "x = 42          # global scope x\n",
        "\n",
        "def myfunc():\n",
        "  print(x)      # x is 42 inside def\n",
        "\n",
        "myfunc()\n",
        "print(x)        # x is 42 outside def\n",
        "\n",
        "# ---------------------\n",
        "x = 42          # global scope x\n",
        "def myfunc():\n",
        "  x = 0\n",
        "  print(x)      # local x is now 0\n",
        "\n",
        "myfunc()\n",
        "print(x)        # global x is still 42\n",
        "\n",
        "# ---------------------\n",
        "x = 42          # global scope x\n",
        "def myfunc():\n",
        "  global x      # declare x global\n",
        "  x = 0\n",
        "  print(x)      # global x is now 0\n",
        "\n",
        "myfunc()\n",
        "print(x)        # global x is 0\n",
        "\n",
        "# ---------------------\n",
        "# Here’s another example that tries to update a global variable inside a function.\n",
        "x = 42          # global scope x\n",
        "\n",
        "def myfunc():\n",
        "  x = x + 1     #  raises UnboundLocalError\n",
        "  print(x)\n",
        "\n",
        "myfunc()\n",
        "\n",
        "# ---------------------\n",
        "# The solution, again, is to declare x global.\n",
        "x = 42          # global scope x\n",
        "\n",
        "def myfunc():\n",
        "  global x\n",
        "  x = x + 1     # global x is now 43\n",
        "  print(x)\n",
        "\n",
        "myfunc()\n",
        "print(x)        # global x is 43\n",
        "\n",
        "# ---------------------\n",
        "# create global inside function\n",
        "def myfunc():\n",
        "  global x      # x should now be global\n",
        "  x = 42\n",
        "\n",
        "myfunc()\n",
        "print(x)        # x is 42"
      ],
      "metadata": {
        "id": "9IVAyWTj18Ey"
      },
      "execution_count": null,
      "outputs": []
    },
    {
      "cell_type": "markdown",
      "source": [
        "`nonlocal` keyword is used to update these variables inside a nested function. The usage of `nonlocal` is very similar to that of global, except that the former is primarily used in nested functions."
      ],
      "metadata": {
        "id": "Jr1RopMN2mhr"
      }
    },
    {
      "cell_type": "code",
      "source": [
        "# ---------------------\n",
        "def f1():\n",
        "  x = 42\n",
        "\n",
        "  # nested function\n",
        "  def f2():\n",
        "    x = 0\n",
        "    print(x)      # x is 0\n",
        "  f2()\n",
        "  print(x)        # x is still 42\n",
        "\n",
        "f1()\n",
        "\n",
        "# ---------------------\n",
        "def f1():\n",
        "  x = 42\n",
        "\n",
        "  # nested function\n",
        "  def f2():\n",
        "    nonlocal x\n",
        "    x = 0\n",
        "    print(x)      # x is now 0\n",
        "  f2()\n",
        "  print(x)        # x remains 0\n",
        "\n",
        "f1()"
      ],
      "metadata": {
        "id": "TOdTPsrF2ol2"
      },
      "execution_count": null,
      "outputs": []
    },
    {
      "cell_type": "markdown",
      "source": [
        "# Python Advanced"
      ],
      "metadata": {
        "id": "-EpqJ_Nr3xK1"
      }
    },
    {
      "cell_type": "markdown",
      "source": [
        "global and local keyword"
      ],
      "metadata": {
        "id": "EGZ4LrgE30IH"
      }
    },
    {
      "cell_type": "code",
      "source": [
        "# global\n",
        "a = 10                  # global scope\n",
        "def something():\n",
        "  a = 15                # local scope\n",
        "  print(a)              # 15 (create a new variable and assign 15 to it)\n",
        "\n",
        "something()\n",
        "print(a)                # 10\n",
        "\n",
        "a = 10                  # global scope\n",
        "def something():\n",
        "  global a              # explicity telling python to change global variable's value\n",
        "  a = 15\n",
        "  print(a)              # 15\n",
        "\n",
        "something()\n",
        "print(a)                # 15\n",
        "\n",
        "# to use global and local variable of same name\n",
        "a = 10                  # global scope\n",
        "def something():\n",
        "  a = 9\n",
        "  x = globals()['a']    # access to reference of variable a\n",
        "  print(a)              # 9\n",
        "\n",
        "  # change global variable's value without effecting local variable\n",
        "  globals()['a'] = 15\n",
        "\n",
        "something()\n",
        "print(a)                # 15"
      ],
      "metadata": {
        "id": "RX7sIcfIMl62"
      },
      "execution_count": null,
      "outputs": []
    },
    {
      "cell_type": "code",
      "source": [
        "# local\n",
        "# To modify variables from a nonlocal scope in a local scope, you use the nonlocal keyword\n",
        "def outer():\n",
        "  message = 'outer scope'\n",
        "  print(message)        # outer scope\n",
        "\n",
        "  def inner():\n",
        "    nonlocal message\n",
        "    message = 'inner scope'\n",
        "    print(message)      # inner scope\n",
        "\n",
        "  inner()\n",
        "\n",
        "  print(message)        # inner scope\n",
        "\n",
        "outer()\n",
        "\n",
        "message = 'outer scope'\n",
        "def outer():\n",
        "  print(message)        # outer scope\n",
        "\n",
        "  def inner():\n",
        "    global message\n",
        "    message = 'inner scope'\n",
        "    print(message)      # inner scope\n",
        "\n",
        "  inner()\n",
        "\n",
        "  print(message)        # inner scope\n",
        "\n",
        "outer()\n",
        "\n",
        "'''\n",
        "# In this example, we use nonlocal keyword to explicitly instruct Python that we’re modifying a nonlocal variable.\n",
        "\n",
        "# When you use the nonlocal keyword for a variable, Python will look for the variable in the enclosing local scopes chain until\n",
        "# it first encounters the variable name.\n",
        "\n",
        "# More importantly, Python won’t look for the variable in the global scope.\n",
        "\n",
        "message = 'outer scope'\n",
        "\n",
        "def outer():\n",
        "  print(message)\n",
        "\n",
        "  def inner():\n",
        "    nonlocal message\n",
        "    message = 'inner scope'\n",
        "    print(message)\n",
        "\n",
        "  inner()\n",
        "\n",
        "  print(message)\n",
        "\n",
        "outer()\n",
        "# SyntaxError: no binding for nonlocal 'message' found\n",
        "'''"
      ],
      "metadata": {
        "id": "PAksiGbQM0S-"
      },
      "execution_count": null,
      "outputs": []
    },
    {
      "cell_type": "markdown",
      "source": [
        "Closure - A closure is a function and an extended scope that contains free variables."
      ],
      "metadata": {
        "id": "92LxVBAQS35k"
      }
    },
    {
      "cell_type": "code",
      "source": [
        "def say():\n",
        "  greeting = 'Hello'\n",
        "  print(hex(id(greeting)))\n",
        "\n",
        "  def display():\n",
        "    print(hex(id(greeting)))\n",
        "    print(greeting)\n",
        "\n",
        "  return display\n",
        "\n",
        "fn = say()\n",
        "fn()\n",
        "\n",
        "'''\n",
        "0x17186a829b0\n",
        "0x17186a829b0\n",
        "'''"
      ],
      "metadata": {
        "id": "gJ8-rF5sS5s9"
      },
      "execution_count": null,
      "outputs": []
    },
    {
      "cell_type": "code",
      "source": [
        "def multiplier(x):\n",
        "  def multiply(y):\n",
        "    return x * y\n",
        "  return multiply\n",
        "\n",
        "multipliers = []\n",
        "for x in range(1, 4):\n",
        "  multipliers.append(multiplier(x))\n",
        "\n",
        "m1, m2, m3 = multipliers\n",
        "\n",
        "print(m1(10)) # 10\n",
        "print(m2(10)) # 20\n",
        "print(m3(10)) # 30"
      ],
      "metadata": {
        "id": "VhhBRuXFTGJ7"
      },
      "execution_count": null,
      "outputs": []
    },
    {
      "cell_type": "markdown",
      "source": [
        "Decorator - A decorator is a function that takes another function as an argument and extends its behavior without changing the original function explicitly.\n",
        "\n",
        "Python decorator definition\n",
        "In general, a decorator is:\n",
        "\n",
        "* A function that takes another function (original function) as an argument and returns another function (or closure)\n",
        "* The closure typically accepts any combination of positional and keyword-only arguments.\n",
        "* The closure function calls the original function using the arguments passed to the closure and returns the result of the function."
      ],
      "metadata": {
        "id": "BXB5RMwbUFMy"
      }
    },
    {
      "cell_type": "code",
      "source": [
        "# The currency function returns the wrapper function. The wrapper function has the *args and **kwargs parameters.\n",
        "def net_price(price, tax):\n",
        "  return price * (1 + tax)\n",
        "\n",
        "def currency(fn):\n",
        "  def wrapper(*args, **kwargs):\n",
        "    result = fn(*args, **kwargs)\n",
        "    return f'${result}'\n",
        "  return wrapper\n",
        "\n",
        "net_price = currency(net_price)\n",
        "print(net_price(100, 0.05)) # $105.0"
      ],
      "metadata": {
        "id": "38cvVHhIUN3G"
      },
      "execution_count": null,
      "outputs": []
    },
    {
      "cell_type": "code",
      "source": [
        "# The @ symbol\n",
        "# In the previous example, the currency is a decorator. And you can decorate the net_price function using the following syntax:\n",
        "# net_price = currency(net_price)\n",
        "\n",
        "# Generally, if decorate is a decorator function and you want to decorate another function fn, you can use this syntax:\n",
        "# fn = decorate(fn)\n",
        "\n",
        "# instead of using the following syntax, you can decorate the net_price function using the @currency\n",
        "def currency(fn):\n",
        "  def wrapper(*args, **kwargs):\n",
        "    result = fn(*args, **kwargs)\n",
        "    return f'${result}'\n",
        "  return wrapper\n",
        "\n",
        "@currency\n",
        "def net_price(price, tax):\n",
        "  return price * (1 + tax)\n",
        "\n",
        "print(net_price(100, 0.05))\n",
        "\n",
        "'''\n",
        "@decorate\n",
        "def fn(*args,**kwargs):\n",
        "  pass\n",
        "fn = decorate(fn)\n",
        "\n",
        "The decorate function returns a new function, which is the wrapper function.\n",
        "If you use the built-in help function to show the documentation of the new function,\n",
        "you won’t see the documentation of the original function.\n",
        "\n",
        "  help(net_price)\n",
        "\n",
        "  Output:\n",
        "  wrapper(*args, **kwargs)\n",
        "  None\n",
        "\n",
        "Also, if you check the name of the new function,\n",
        "Python will return the name of the inner function returned by the decorator:\n",
        "\n",
        "  print(net_price.__name__);\n",
        "  wrapper\n",
        "'''\n",
        "\n",
        "# So when you decorate a function, you’ll lose the original function signature and documentation.\n",
        "# To fix this, you can use the wraps function from the functools standard module. In fact, the wraps function is also a decorator.\n",
        "from functools import wraps\n",
        "\n",
        "def currency(fn):\n",
        "  @wraps(fn)\n",
        "  def wrapper(*args, **kwargs):\n",
        "    result = fn(*args, **kwargs)\n",
        "    return f'${result}'\n",
        "  return wrapper\n",
        "\n",
        "@currency\n",
        "def net_price(price, tax):\n",
        "  \"\"\" calculate the net price from price and tax\n",
        "    Arguments:\n",
        "      price: the selling price\n",
        "      tax: value added tax or sale tax\n",
        "    Return\n",
        "      the net price\n",
        "  \"\"\"\n",
        "  return price * (1 + tax)\n",
        "\n",
        "help(net_price)\n",
        "print(net_price.__name__)\n",
        "# Output:\n",
        "# net_price(price, tax)\n",
        "#     calculate the net price from price and tax\n",
        "#     Arguments:\n",
        "#         price: the selling price\n",
        "#         tax: value added tax or sale tax\n",
        "#     Return\n",
        "#         the net price\n",
        "\n",
        "# net_price"
      ],
      "metadata": {
        "id": "m-BrG-FUUjdP"
      },
      "execution_count": null,
      "outputs": []
    },
    {
      "cell_type": "code",
      "source": [
        "# decorators with arguments\n",
        "from functools import wraps\n",
        "\n",
        "def repeat(times):\n",
        "  ''' call a function a number of times '''\n",
        "  def decorate(fn):\n",
        "    @wraps(fn)\n",
        "    def wrapper(*args, **kwargs):\n",
        "      for _ in range(times):\n",
        "        result = fn(*args, **kwargs)\n",
        "      return result\n",
        "    return wrapper\n",
        "  return decorate\n",
        "\n",
        "@repeat(10)\n",
        "def say(message):\n",
        "  ''' print the message\n",
        "    Arguments\n",
        "        message: the message to show\n",
        "    '''\n",
        "  print(message)\n",
        "\n",
        "say('Hello')\n",
        "# print hello 10 times"
      ],
      "metadata": {
        "id": "5pRvFFMHVneZ"
      },
      "execution_count": null,
      "outputs": []
    },
    {
      "cell_type": "code",
      "source": [
        "# class decorator\n",
        "class Star:\n",
        "  def __init__(self, n):\n",
        "    self.n = n\n",
        "\n",
        "  def __call__(self, fn):\n",
        "    @wraps(fn)\n",
        "    def wrapper(*args, **kwargs):\n",
        "      print(self.n*'*')\n",
        "      result = fn(*args, **kwargs)\n",
        "      print(result)\n",
        "      print(self.n*'*')\n",
        "      return result\n",
        "    return wrapper\n",
        "\n",
        "@Star(5)\n",
        "def add(a, b):\n",
        "  return a + b\n",
        "\n",
        "add(10, 20)"
      ],
      "metadata": {
        "id": "BYGggjBIoYZ1"
      },
      "execution_count": null,
      "outputs": []
    },
    {
      "cell_type": "markdown",
      "source": [
        "Monkey patching\n",
        "\n",
        "is a technique that allows you to modify or extend the behavior of existing modules, classes, or functions at runtime without changing the original source code."
      ],
      "metadata": {
        "id": "FmKX9fogVnEB"
      }
    },
    {
      "cell_type": "markdown",
      "source": [
        "When to use money patching\n",
        "\n",
        "In practice, you should use monkey patching only when necessary because it can make code harder to understand and debug.\n",
        "\n",
        "For example, if you use a third-party library and it has an urgent bug that you cannot wait for official release. In this case, you can use the monkey patching to apply quick fixes while waiting for a proper solution.\n",
        "\n",
        "Another scenario is that you want to add functionality to classes that you don’t control and you cannot use other techniques like inheritance or composition, the monkey patching is useful in this case.\n",
        "\n",
        "In practice, you’ll find monkey patching in the mock library such as the standard unittest.mock module. The unittest.mock module has patch() method that temporarily replaces a target with a mock object."
      ],
      "metadata": {
        "id": "jQoa4l4lo_Li"
      }
    },
    {
      "cell_type": "code",
      "source": [
        "def add_speech(cls):\n",
        "  cls.speak = lambda self, message: print(message)\n",
        "  return cls\n",
        "\n",
        "@add_speech\n",
        "class Robot:\n",
        "  def __init__(self, name):\n",
        "    self.name = name\n",
        "\n",
        "robot = Robot('Optimus Prime')\n",
        "robot.speak('Hi')"
      ],
      "metadata": {
        "id": "kA5329yZorTx"
      },
      "execution_count": null,
      "outputs": []
    },
    {
      "cell_type": "markdown",
      "source": [
        "Named Tuple - tuple + class"
      ],
      "metadata": {
        "id": "bju1kpfhpfzw"
      }
    },
    {
      "cell_type": "code",
      "source": [
        "from collections import namedtuple\n",
        "Point2D = namedtuple('Point2D',['x','y'])\n",
        "point = Point2D(100, 200)\n",
        "\n",
        "print(isinstance(point, Point2D))   # True\n",
        "print(isinstance(point, tuple))     # True\n",
        "\n",
        "# normal class\n",
        "class Point2D:\n",
        "  def __init__(self, x, y):\n",
        "    self.x = x\n",
        "    self.y = y\n",
        "\n",
        "  def __eq__(self, other):\n",
        "    if isinstance(other, Point2D):\n",
        "      return self.x == other.x and self.y == other.y\n",
        "    return False\n",
        "\n",
        "a = Point2D(100, 200)\n",
        "b = Point2D(100, 200)\n",
        "\n",
        "print(a is b)  # False\n",
        "print(a == b)  # True\n",
        "\n",
        "# using named tuple\n",
        "from collections import namedtuple\n",
        "Point2D = namedtuple('Point2D',['x','y'])\n",
        "point = Point2D(100, 200)\n",
        "point2 = Point2D(100, 200)\n",
        "\n",
        "print(isinstance(point, Point2D))   # True\n",
        "print(isinstance(point, tuple))     # True\n",
        "print(point is point2)              # False\n",
        "print(point == point2)              # True"
      ],
      "metadata": {
        "id": "nLCr7oP8pi2T"
      },
      "execution_count": null,
      "outputs": []
    },
    {
      "cell_type": "markdown",
      "source": [
        "Gnerator\n",
        "\n",
        "To pause a function midway and resume from where the function was paused, you use the yield statement.\n",
        "When a function contains at least one yield statement, it’s a generator function.\n",
        "By definition, a generator is a function that contains at least one yield statement.\n",
        "When you call a generator function, it returns a new generator object. However, it doesn’t start the function.\n",
        "Generator objects (or generators) implement the iterator protocol. In fact, generators are lazy iterators. Therefore, to execute a generator function, you call the next() built-in function on it."
      ],
      "metadata": {
        "id": "-lv49lHkqa6m"
      }
    },
    {
      "cell_type": "code",
      "source": [
        "def greeting():\n",
        "  print('Hi!')\n",
        "  yield 1\n",
        "  print('How are you?')\n",
        "  yield 2\n",
        "  print('Are you there?')\n",
        "  yield 3\n",
        "\n",
        "messenger = greeting()\n",
        "result = next(messenger)  # Hi\n",
        "print(result)             # 1\n",
        "result = next(messenger)  # How are you?\n",
        "print(result)             # 2\n",
        "result = next(messenger)  # Are you there?\n",
        "print(result)             # 3\n",
        "\n",
        "# Error: StopIteration\n",
        "result = next(messenger)\n",
        "print(result)"
      ],
      "metadata": {
        "id": "gppvfFFXqaKD"
      },
      "execution_count": null,
      "outputs": []
    },
    {
      "cell_type": "code",
      "source": [
        "# Using Python generators to create iterators\n",
        "class Squares:\n",
        "  def __init__(self, length):\n",
        "    self.length = length\n",
        "    self.current = 0\n",
        "\n",
        "  def __iter__(self):\n",
        "    return self\n",
        "\n",
        "  def __next__(self):\n",
        "    result = self.current ** 2\n",
        "\n",
        "    self.current += 1\n",
        "\n",
        "    if self.current > self.length:\n",
        "      raise StopIteration\n",
        "\n",
        "    return result\n",
        "\n",
        "# using generator\n",
        "def squares(length):\n",
        "  for n in range(length):\n",
        "    yield n ** 2\n",
        "\n",
        "length = 5\n",
        "square = squares(length)\n",
        "for s in square:\n",
        "  print(s)\n",
        "\n",
        "'''\n",
        "Output:\n",
        "0\n",
        "1\n",
        "4\n",
        "9\n",
        "16\n",
        "\n",
        "Once you iterate over all the items, the iterator is exhausted.\n",
        "It means you need to create a new iterator to iterate over its items again.\n",
        "\n",
        "If you attempt to use the iterator that is already exhausted, you’ll get the StopIteration exception.\n",
        "For example:\n",
        "next(square)\n",
        "\n",
        "Error:\n",
        "StopIteration\n",
        "\n",
        "Also, an iterator cannot be restarted because it only has the __next__ method that returns the next item from a collection.\n",
        "'''"
      ],
      "metadata": {
        "id": "YPAVHEL9q1Qm"
      },
      "execution_count": null,
      "outputs": []
    },
    {
      "cell_type": "markdown",
      "source": [
        "A list comprehension returns an iterable. It means that you can iterate over the result of a list comprehension again and again.\n",
        "\n",
        "However, a generator expression returns an iterator, specifically a lazy iterator. It becomes exhausting when you complete iterating over it."
      ],
      "metadata": {
        "id": "xtEYTf_fsT4S"
      }
    },
    {
      "cell_type": "markdown",
      "source": [
        "Iterators\n",
        "\n",
        "An iterator is an object that implements:\n",
        "\n",
        "* __iter__ method that returns the object itself.\n",
        "* __next__ method that returns the next item. If all the items have been returned, the method raises a StopIteration exception.\n",
        "\n",
        "Once you complete iterating a collection using an iterator, the iterator becomes exhausted. It means that you cannot use the iterator object anymore.\n",
        "\n",
        "Iterable\n",
        "\n",
        "An iterable is an object that you can iterate over.\n",
        "\n",
        "An object is iterable when it implements the __iter__ method. And its __iter__ method returns a new iterator."
      ],
      "metadata": {
        "id": "zuuSHbqHsVTE"
      }
    },
    {
      "cell_type": "code",
      "source": [
        "# Examining the built-in list and list iterator\n",
        "numbers = [1, 2, 3]\n",
        "number_iterator = numbers.__iter__()\n",
        "print(type(number_iterator))  # <class 'list_iterator'>\n",
        "\n",
        "# Because the list_iterator implements the __iter__ method, you can use the iter built-in function to get the iterator object:\n",
        "# Since the list_iterator also implements the __next__ method, you can use the built-in function next to iterate over the list:\n",
        "numbers = [1, 2, 3]\n",
        "number_iterator = iter(numbers)\n",
        "next(number_iterator)\n",
        "next(number_iterator)\n",
        "next(number_iterator)\n",
        "\n",
        "# If you call the next function once more, you’ll get a StopIteration exception.\n",
        "next(number_iterator)\n",
        "# Error:\n",
        "# StopIteration"
      ],
      "metadata": {
        "id": "TY107pjduwJW"
      },
      "execution_count": null,
      "outputs": []
    },
    {
      "cell_type": "code",
      "source": [
        "# Iterator and iterable\n",
        "class Colors:\n",
        "  def __init__(self):\n",
        "    self.rgb = ['red', 'green', 'blue']\n",
        "    self.__index = 0\n",
        "\n",
        "  def __iter__(self):\n",
        "    return self\n",
        "\n",
        "  def __next__(self):\n",
        "    if self.__index &gt;= len(self.rgb):\n",
        "      raise StopIteration\n",
        "\n",
        "    # return the next color\n",
        "    color = self.rgb[self.__index]\n",
        "    self.__index += 1\n",
        "    return color\n",
        "\n",
        "'''\n",
        "In this example, the Colors class plays two roles: iterable and iterator.\n",
        "The Colors class is an iterator because it implements both __iter__ and __next__ method.\n",
        "The __iter__ method returns the object itself. And the __next__ method returns the next item from a list.\n",
        "\n",
        "The Colors class is also an iterable because it implements the __iter__ method that returns an object itself, which is an iterator.\n",
        "The following creates a new instance of the Colors class and iterates over its elements using a for loop:\n",
        "'''\n",
        "\n",
        "colors = Colors()\n",
        "for color in colors:\n",
        "  print(color)\n",
        "\n",
        "# Once you complete iterating, the colors object becomes useless. If you attempt to iterate it again, you’ll get a StopIteration exception:\n",
        "next(colors)\n",
        "# Error:\n",
        "# StopIteration\n",
        "\n",
        "# If you use the for loop, you’ll get nothing back. The iterator is empty:\n",
        "for color in colors:\n",
        "  print(color)\n",
        "# To iterate again, you need to create a new colors object with the rgb attribute. This is inefficient."
      ],
      "metadata": {
        "id": "vcnAbSXRygBE"
      },
      "execution_count": null,
      "outputs": []
    },
    {
      "cell_type": "code",
      "source": [
        "# Internally, the for loop calls the __iter__ method of the colors object to get the iterator and uses this iterator to iterate over the elements of the colors object.\n",
        "# The following places the ColorIterator class inside the Colors class to encapsulate them into a single class:\n",
        "class Colors:\n",
        "  def __init__(self):\n",
        "    self.rgb = ['red', 'green', 'blue']\n",
        "\n",
        "  def __len__(self):\n",
        "    return len(self.rgb)\n",
        "\n",
        "  def __iter__(self):\n",
        "    return self.ColorIterator(self)\n",
        "\n",
        "  class ColorIterator:\n",
        "    def __init__(self, colors):\n",
        "      self.__colors = colors\n",
        "      self.__index = 0\n",
        "\n",
        "    def __iter__(self):\n",
        "      return self\n",
        "\n",
        "    def __next__(self):\n",
        "      if self.__index >= len(self.__colors):\n",
        "        raise StopIteration\n",
        "\n",
        "      # return the next color\n",
        "      color = self.__colors.rgb[self.__index]\n",
        "      self.__index += 1\n",
        "      return color\n"
      ],
      "metadata": {
        "id": "V2ZvXI2HzIi_"
      },
      "execution_count": null,
      "outputs": []
    },
    {
      "cell_type": "markdown",
      "source": [
        "iter() - function returns an iterator of a given object:"
      ],
      "metadata": {
        "id": "wKRSz7nkz4lL"
      }
    },
    {
      "cell_type": "code",
      "source": [],
      "metadata": {
        "id": "GjxwAf1Fz5vh"
      },
      "execution_count": null,
      "outputs": []
    },
    {
      "cell_type": "markdown",
      "source": [
        "# Multithreading"
      ],
      "metadata": {
        "id": "MABWxvkejGP0"
      }
    },
    {
      "cell_type": "markdown",
      "source": [
        "Introduction to process and thread.\n",
        "Computers don’t understand Python. They only understand machine code, which is a set of instructions containing zero and one.\n",
        "\n",
        "Therefore, you need a Python Interpreter to execute this Python program, which translates the Python code to machine code.\n",
        "\n",
        "When you execute the python app.py command, the Python interpreter (CPython) compiles the app.py file into machine code. And then the operating system (OS) needs to load the program into the memory (RAM) to run the program.\n",
        "\n",
        "Once the OS loads the program to memory, it moves the instructions to the CPU for execution via bus.\n",
        "\n",
        "In general, the OS moves the instructions to a queue, also known as a pipeline. Then, the CPU will execute the instructions from the pipeline.\n",
        "\n",
        "By definition, a process is an instance of a program running on a computer. And a thread is a unit of execution within a process.\n",
        "\n",
        "Notice that if you launch a program multiple times, you’ll have a single program but multiple processes, each representing an instance of the program.\n",
        "\n",
        "A program is like a class while processes are like objects of the class.\n",
        "\n",
        "![image.png](data:image/png;base64,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)\n",
        "\n",
        "So far, you’ve learned how to develop a program that has one process with one thread. Therefore, sometimes the terms process and thread are often used interchangeably.\n",
        "\n",
        "A program may have one or more processes and a process can have one or more threads.\n",
        "\n",
        "When a program has multiple processes, it’s called multiprocessing. If a program has multiple threads, it’s called multithreading.\n",
        "\n",
        "Single-core processors\n",
        "In the past, a CPU has only one core. In other words, it can run only a single process at one time. To execute multiple processes “at the same time”, the OS uses a software component called a scheduler:\n",
        "![image.png](data:image/png;base64,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)\n",
        "\n",
        "The scheduler is like a switch that schedules processes. The main task of the scheduler is to select the instructions and submit them for execution regularly.\n",
        "\n",
        "The scheduler switches between processes so quickly (around 1 ms) that it creates the illusion of the computer being able to execute multiple processes simultaneously.\n",
        "\n",
        "Multicore processors\n",
        "Today, the CPU often has multiple cores, e.g., two cores (dual-core) and four cores (quad-core).\n",
        "\n",
        "The number of cores will determine the number of processes that the CPU can execute simultaneously. Generally, the more cores the CPU has, the more processes it can truly execute simultaneously.\n",
        "\n",
        "For example, a dual-core CPU can execute exactly two processes simultaneously and a quad-core CPU can execute at most four processes simultaneously.\n",
        "\n",
        "Multiprocessing uses a multi-core CPU within a single computer, which indeed executes multiple processes in parallel.\n",
        "\n",
        "CPU-bound vs. I/O-bound tasks\n",
        "In general, programs deal with two types of tasks: I/O-bound or CPU-bound.\n",
        "\n",
        "* I/O-bound tasks spend more time doing I/O than doing computations. The typical examples of I/O-bound tasks are network requests, database connections, and file reading/writing.\n",
        "* In contrast, CPU-bound tasks use more time doing computation than generating I/O requests. The typical examples of CPU-bound tasks are matrix multiplication, finding prime numbers, video compression, and video streaming.\n",
        "Technically, multithreading is suitable for I/O-bound tasks, and multiprocessing is suitable for CPU-bound tasks.\n",
        "\n",
        "![Screen Shot 2023-12-10 at 9.17.52 PM.png](data:image/png;base64,iVBORw0KGgoAAAANSUhEUgAAA3cAAAFsCAYAAABvvUBnAAAYV2lDQ1BJQ0MgUHJvZmlsZQAAWIWVeQdUFEvTds/ubIQl55yj5Cw555wRlSXHBZckKIiASFABCaKAKHARRMGIqAgIKIpIEkVREQUEFBUDGeUbgt773vc//3e+Pqenn62urqquDjW1AwB3JTkiIhTFAEAYJYrqYGog4ObuIYCbBDSAB9ACGIiSfSIj9O3srABSfrf/WeafAWi9fSKzLuu/+/+/hdHXL9IHAMgOwd6+kT5hCL4GAFziE0GNAgC7TheOjYpYx0gFLFTEQASnr+OATVyyjr038aUNHicHQwR3AICnJZOpAQDQ9SF0gRifAEQG3SzSx0TxDaIAwAojWCcsLNwXAG4jhEcC4YlA8Po81L3/ISfgP2R6/5FJJgf8wZtz2Sh4o6DIiFBy3P/RHf97CQuN/q1DDKm0gVQzh/U5I357HhJuuY5pETxD8baxRTATgheDfDf4EYwiBkabOW/yo3h8Ig0RnwE2BMv7ko0sEcyDYBNKqI3VFt3bP8jEHMHIDkHtDYoyd0IwB4LT/SKNHbd4zlDDHbZ0oRr8qYb6W/QHZOqG3nVdI9Ehzvpb8r8F+plvyUfTxQc6uSKYiGCRmCAXGwTTIVg2MsTRcotHKz7Q0OY3DzXaYd1+EQQ7+FFMDTblo2P8qSYOW/yZYZG/54s+ExhkbrOFr0QFOplt+gfd4UPesB+ZC7rPj6Lv/FuOX6Sb1e+5+PoZGW/OHT3lR3F23JKzGBFl4LA5FiZGhNpt8cNCfqGm63QhBCtHxjhujYVdopANuSkf9o+IsnPatBOODyZb2G3aA+cAK2AIjIAAiEaqNwgHwSCoZ+bGDPJrs8cEkAEVBAA/ILNF+T3CdaOHgjwdQTz4hCA/EPlnnMFGrx+IQeg//1A3nzLAf6M3ZmNECHiP4DBgCUKR39Eboyh/tLmAcYQS9F/ayUj1QewNRep6//+b/pv6N0UfoVhtUaJ/axSg/82JNcYaYc2wJlhJmAvWgTVhK+Sph1RFWB3W+D2Pv/kx7zH9mHeYp5hRzIvdQcnUf1lpDUYR+SZbvvD+py9gMUSmCmwAayPSEckwG8wFZGBlRI8+rItoVkGohlt2r3tF4F+y/2MG/1iNLT6CPAFFYCfoEST+PZJOik7lj5R1X//TP5u2ev/xt+Gfnn/rN/yH932R1vLfnOh09FV0J/ou+iG6CX0DCKBb0I3obvSddfxnd41v7K7f2hw27AlB5AT9l77fK7vuyUj5Wvlp+dXNvii/vet3NDAMj4ijBgUERgnoIxHBT8Cc4iO7TUBRXlEJgPX4snl9fXfYiBsQW+/fNDJy76orIkfd4G9aOHJn1BUgR+bk3zQx5ExzagBwxcEnmhqzSYPXHxjklqBHThon4APCQAKZjyJQBZpADxgDC2ALnIA72IVYH4jscyqIBfvBQZAGskAOKACnQBmoANXgIrgCboAmcBfcB49AH3gKXiK7ZwJ8BLNgHqxAEISDSBAzxAnxQ6KQNKQIqUM6kDFkBTlA7pAXFABRoGhoP5QCZUHHoVPQWagGugzdhO5CD6F+6AX0FpqGvkHLKDSKFsWC4kWJoeRQ6ih9lCXKCbUTFYDag4pHpaKOoYpQ5agLqAbUXdQj1FPUKOojag4N0DRoNrQgWgatjjZE26I90P5oKjoRnYkuRJej69C3kHV+gh5Fz6CXYCzMDAvAMsgONoOdYR94D5wIH4FPwdVwA9wBP4HfwrPwLwwJw4ORxmzHmGPcMAGYWEwaphBThbmOuYecpQnMPBaLZcOKY9WQs+iODcbuwx7BlmLrsa3YfuwYdg6Hw3HipHHaOFscGReFS8OdxF3AteAGcBO4RTwNnh+viDfBe+Ap+GR8If48vhk/gJ/ErxAYCKKE7QRbgi8hjpBNqCTcIvQSJggrREaiOFGb6EQMJh4kFhHriPeIr4jfaWhohGg0aOxpgmiSaIpoLtE8oHlLs0TLRCtFa0jrSRtNe4z2HG0r7Qva7yQSSYykR/IgRZGOkWpI7aQR0iIdM50snTmdL90BumK6BroBus/0BHpRen36XfTx9IX0V+l76WcYCAxiDIYMZIZEhmKGmwxDDHOMzIwKjLaMYYxHGM8zPmScYsIxiTEZM/kypTJVMLUzjTGjmYWZDZl9mFOYK5nvMU+wYFnEWcxZglmyWC6y9LDMsjKxKrO6sO5lLWa9wzrKhmYTYzNnC2XLZrvC9oxtmZ2XXZ/djz2DvY59gH2Bg5tDj8OPI5OjnuMpxzKnAKcxZwhnLucNztdcMJcUlz1XLNdprntcM9ws3JrcPtyZ3Fe4h3lQPFI8Djz7eCp4unnmePl4TXkjeE/ytvPO8LHx6fEF8+XzNfNN8zPz6/AH8efzt/B/EGAV0BcIFSgS6BCYFeQRNBOMFjwr2CO4IiQu5CyULFQv9FqYKKwu7C+cL9wmPCvCL2Itsl+kVmRYlCCqLhooekK0U3RBTFzMVeyw2A2xKXEOcXPxePFa8VcSJAldiT0S5RKDklhJdckQyVLJPimUlIpUoFSxVK80SlpVOki6VLp/G2abxjbKtvJtQzK0MvoyMTK1Mm9l2WStZJNlb8h+lhOR85DLleuU+yWvIh8qXyn/UoFJwUIhWeGWwjdFKUUfxWLFQSWSkonSAaVGpa/K0sp+yqeVn6swq1irHFZpU/mpqqZKVa1TnVYTUfNSK1EbUmdRt1M/ov5AA6NhoHFAo0ljabvq9qjtV7Z/0ZTRDNE8rzmlJa7lp1WpNaYtpE3WPqs9qiOg46VzRmdUV1CXrFuu+05PWM9Xr0pvUl9SP1j/gv5nA3kDqsF1gwXD7YYJhq1GaCNTo0yjHmMmY2fjU8YjJkImASa1JrOmKqb7TFvNMGaWZrlmQ+a85j7mNeazFmoWCRYdlrSWjpanLN9ZSVlRrW5Zo6wtrPOsX9mI2lBsbtgCW3PbPNvXduJ2e+xu22Pt7eyL7d87KDjsd+h0ZHbc7Xjecd7JwCnb6aWzhHO0c5sLvYunS43LgquR63HXUTc5twS3R+5c7kHujR44DxePKo+5HcY7CnZMeKp4pnk+2ym+c+/Oh7u4doXuurObfjd591UvjJer13mvVbItuZw8523uXeI962Poc8Lno6+eb77vtJ+233G/SX9t/+P+UwHaAXkB04G6gYWBM0GGQaeCvgabBZcFL4TYhpwLWQt1Da0Pw4d5hd2kMFFCKB3hfOF7w/sjpCPSIkb3bN9TsGeWakmtioQid0Y2RrEgL/Ld0RLRh6LfxujEFMcsxrrEXt3LuJeytztOKi4jbjLeJP6vffA+n31t+wX3H9z/NkE/4WwilOid2HZA+EDqgYkk06Tqg8SDIQcfJ8snH0/+keKaciuVNzUpdeyQ6aHaNLo0atrQYc3DZelwelB6T4ZSxsmMX5m+mV1Z8lmFWatHfI50HVU4WnR07Zj/sZ5s1ezTOdgcSs6zXN3c6uOMx+OPj+VZ5zXkC+Rn5v8o2F3wsFC5sOwE8UT0idEiq6LGkyInc06ungo89bTYoLi+hKcko2Sh1Ld04LTe6boy3rKssuUzQWeenzU921AuVl5Yga2IqXhf6VLZ+Zf6XzVVXFVZVT/PUc6NVjtUd9So1dSc5zmfXYuqja6dvuB5oe+i0cXGOpm6s/Vs9VmXwKXoSx8ue11+dsXySttV9at110SvlVxnvp7ZADXENczeCLwx2uje2H/T4mbbLc1b12/L3j7XJNhUfIf1TnYzsTm1ea0lvmWuNaJ15m7A3bG23W0v293aBzvsO3ruWd57cN/kfnunfmfLA+0HTQ+3P7zZpd5145Hqo4Zule7rj1UeX+9R7WnoVett7NPou9Wv1d88oDtw94nRk/uD5oOPnto87X/m/Oz5kOfQ6HPf51MvQl98HY4ZXnmZ9ArzKvM1w+vCEZ6R8jeSb+pHVUfvvDV62/3O8d3LMZ+xj+OR46sTqe9J7wsn+SdrphSnmqZNpvs+7Pgw8THi48pM2ifGTyWfJT5f+6L3pXvWbXbiK/Xr2rcj3zm/n/uh/KNtzm5uZD5sfmUhc5FzsXpJfalz2XV5ciV2Fbda9FPy561flr9erYWtrUWQqeSNVwE0UlH+/gB8OwcAyR0AZiQ/I+7YzP+2Chp5+UAhrQskC31EdaBTYEeMHlYcx4XnIPATtWlsaENIOXQ36WcYZZj8mCtYxtik2OM4WrjouV15Knm/82sJpAo+FmYUcRA9KvZIAkgqSflLn9jWJbMgJyFvr5CkWKv0VAWlqqC2Uz1To2H7Wy2StrqOl26G3mX9V4Z4I1VjH5Mc00azEQvIUsTK1DrYJtv2mt1z+0VHNiclZ1uXMNejbnXujzze7pj1XNi5sht4Ecmc3jI++r4Ofrv9/QLIgY5BWsECIVDIaGhL2BlKSnhghN0edapAJD7yS9Sz6OaY6ti8vYlxofHu+8z3ayeoJaoe0EjSP2iZ7Jrilxp16FBa/uHK9KsZrZndWc+OvDk6eexT9recudz543N5c/nLhfAJ1qJtJ01P+RQfKCkqrTvdUvbozODZ4fLRiunKH1Xoc6zVUjUG5z1rYy/kX7xS11//9TLjFaWrjtcir+c01Ny41Xj3Zvut1tu3m67fqW+uaaloLb1b0JbZvr8j+J7jfdVOjs6lB6MPe7vuP2rvvvu4qae+t6gvst9wgDTw5EnxoP9TlWeYZ0ND1c9jXugNY4c7kf2l8mryde6I5sjYm6OjmqMf35a9cxhDj9WPO48vTeS/3/a+ZdJhcnzq0LTc9PiH6o+UGaWZuU/1n32+MH65Pms3+/7r/m/s3+5/z/5BmSPP+yP7aHz53k/ZtbWN9ReGLqGC0YroKfgyJgnrhtPGyxDEieI0QrTypO109vQ+DImMZUzNzNOsDGzq7GSOdM5rXCM8NLxKfDv4kwTOCrYIvRSeE6UR4xdXkTCX9JKKk87bdlmmW3ZKHlYQVNRS8lCOUslSrVS7qf5Y4932H1pYbW4dBV1rvVD9bINLhn1Gn0zwprxmiubGFs6WPlYU6702ibYpdofs0xzSHTOdjjhnuqS6xrkFujt5GO3Q9TTZ6bErdneB1yVym3eXzz3f634l/vsCXAPlg2iDZoL7Qm6F1oQVU7LDkyOoezypepH8kStRT6MvxqTFeu81jpOPF9nHu58zgTWR4QD2wHzSu4NdyZdTClJjD+1MszhslG6VQc48mPXXkftHR459zp7LWcidO/49bzb/U8FM4ecTiycZTmkUU0qqSntOj5VNn5k4+6b8RUV/5YO/mquaznVVfzovWLvzQsnFF/Usl2wupyO319J12QbfG8WNA7cwt5Wbdt851FzV0tTafPd8W057QkfsvaT72Z2lDyoenu469ii62/GxTA/cM9x7pS+rP3jA/onxoPFT+2feQ9HPU18cHk546f/K8DXX65mRm28Oj7q9lXmHf/d+rH28dGLPe71J2snBqYrpAx+CPvrOBH4K+xzxJWI24iv1W8z3uB+xc0Hzpgv0C1cXjRcfLXksfVruW6X9Obyx/tKgA7KEnqP80Fh0NiwN92LisXLYadxf+ECCHGGJ2EVTRhtLcqBTpKejn2d4wdjKVMOcx5LAGsDmwK7NIcnJyrnKNcU9wNPMW8dXwV8sUCiYL5QtnCYSI0oWMxYXEF+U6JYsk4qUNtsmKIOSmZYdknsgf0vhvGKRUpKyl4qGKla1V61A3U2DU+PF9lJNXy1Fbaz2iE6DbrZeoL6RgZghgxEw+m48afLM9LZZobmfhajFqGWRla01zrrdJsXW3I7D7oN9s0OeY6CTpjPJecTlout+Nwt3Vvc3HtU7wpH4v7Tzzq6k3YZeeK9+col3iI+WL63vsN85/z0B6gGrgS1BScF6ISCkNfRgmCEFptwLPxShH7G4p5bqjsTsmijbqB/RRTFaMSOxSXt5996J84pnix/eV7s/JcEtUSJx/kB7Ut7BgGSjFKlUjkM0aSDtx+Gx9McZ9ZlHsshHlI/ijg4fu5SdmROSa3qc6fj9vB15M/nxBfqFBifST+JPZRaPl3KeVizTOKNxVqVcrkKiUvAvzirGc8RqQg09spO0L3hdPFx3sf7JpdUrElc9rh2/3n+DpdH9ZsmtoSbMHclm0xbv1gN3T7c1t7/pWLsv2Gn4IODhka7Lj551/+yR7N3Rd6J/5Ini4NGnn4ccn98cFnxZ8FruDd3b2PGsqbhPNt/ml+zX13/zf8D1glUFIA/JM12OInUagNwbSJ55GwB2IgB2JACcNADqcB1AmdYBKOTQn/gBIYknHsk52QA/kATKSKZpBTyQrHkvyEAyygugGQyA92AVYoIkIT0kP4yEjiL54D1oDAWhBFEGKF/UYSTLG0Ato4XR1uh4dDV6CMbD2+EwuAJ+gWHCWCIZWTsWwuphk7BtOAzOApeDe44XxIfibxJwBFdCNWGZaE08S1ygsaGppoVpvWnbSaKkDNJnOie6JiTTyWUADHsYxhndGXuZTJjuMKszN7BsZ2lndWAdY4tmx7IXcohxNHLacE5xpXMrcI/xlPF680nzLfLfFygQ9BVSFsYKvxS5KpotFipuKSEtSZKclXoqfXvbaZlEWU85DXkW+VmFx4rnlTKUA1UsVGXVWNXW1D9pjGwf0OzSuqfdodOp26M3rD9lMG8EjLHIPYc3w5sTLGgtWawErZVtbGwpdvn2TQ4TTiRnZRd31wS3M+4dHpOeNDvld7ns3u9VSe7xXvQV8XP0PxTQFLgcbBhyMnSJ4hM+sMeE2hSlHF0fK7P3crzWvr6E8AM8Sc+S81OtDs0fzs/YlnnviN8x1uw3uY/zXhesFQmc0iixOr37TFz5mcrhczI1Zy7I141ePntt1w2am3VNO1uk2/jvmTwo76btleifH8wdknjR/+r0mxPvBt57TS99Yvpy4Rv4IT+vsbC2lLncuDK4evtnxa+INbWN+wPa+M+BCXADMaAIdIE18ARhIBHkgkpwE/SCCfATYoPkIAvIH0qByqG70DsUjBJHWaGoqFOodtQXNA/aEr0fXY8eh7lgBzgLvoeBMNqYfZjbmFWsLjYF+xDHgHPH/YX7htfH5+HfEzQJeYQZogmy5qs0bjTXkEyYSjtI0iCdoaOh20s3Se9O38NgwtDKqMPYwmTI1MXsyPwayUyXWbPZpNgese/hYONo4LTnfM8Vx03iruTR4xnnzeWz4Kfjfy1wVfCYUJCwgQiHyEfRO2I54v4SBpKiUkzS+G0YGbwsnRyTPKMCXmFJcUppSLlL5a7qXbUu9Zca3zTptOS17XWCdKP0qPqBBm6GpkYaxsom6qamZrvNEy3OWnZazdpw2xrbhSAxLd/xhFOBc77LGdcWt68eKjuSPB/v4tsd5dXrLezj71vgd92/J2A8cCWYLUQp1CkshnIqvDXiA5U90iQqJvpczPBehjjr+Ox9zxPEEhMOjB0MSGFI7UqLSsdmHM6Cj6Qf485uz03OcyswPKF5UrNYs1SjTPIsXH6/MqaK+9ydGu9a1guv6+5d6r0yd13hxv6bj5rom41aqW1VHdOdBg+vdCv0lPS9Hvgx+PXZ5POx4alXP95Ab4ljLBMik2bThTNqXzK/Vy2ELvWspK62//zxa2lj/VHI6WcEfEAG6AB74A8SQCG4BLrBB4gASUPWEBUqglqhDyg2lBEqClWFGkYzos3RqehW9E9YE46Hb8GrGH1MJmYIK4k9iH2N08GV4/H4cPwgQYNQSkQRg4lPaYxobtNq0N4l2ZHe0yXTC9K3MngyzDPmMMkwPWamsJBYqlkNWF+xxbHzsfdwHOP05jLgluJh4Vnhfc3XyH9cIEzQSkhemEMEK7Ik+lXsi/h3iZ9SdNIi2/RkvGST5ErlGxWeKH5X5lIxV01Wa9eg3e6peUkbh7yrNusLGeQZsRnXmXqYM1r0W52yCbdzdlB0HHb2cOl2M3N/ssPfc3FXihdEjvB+6qvmVxJACDwYTAypCLMOBxE3qOFRfNHtsdFxvvs+J1YmxR18lryaijqET2M4rJQemTGY5Xxk+lh6jmzui7z0As3Cr0U1p3aVEEvPlamduVOuW9H6l1FVV7VdzWCt04W+OpP6m5clrpy4hr+e0LDamHFL7HbfneQW1dbptpIO2/tw5+2HkY+ku8d7Tve5DbA8GXiaPWTxfG34wivb11Nvokd/vkseR08kT6KmUj7AHw/MfP5s8iVutvTr0W/R342+L/w4P2cz93I+cH5+IWZhetFzsXfJcKl2mbQcsTyworJStPJ11Xy1fHXlp9PPi7/Qv9x+XViD1pzXzq+v/+a3o434wQBAyZt11CX1hPLv7zab35X+kZv8uwUb0WW9rEeX9bIeacD/AMFK20cJuMR7AAAAYmVYSWZNTQAqAAAACAACARIAAwAAAAEAAQAAh2kABAAAAAEAAAAmAAAAAAADkoYABwAAABIAAABQoAIABAAAAAEAAAN3oAMABAAAAAEAAAFsAAAAAEFTQ0lJAAAAU2NyZWVuc2hvdNriggMAAAI+aVRYdFhNTDpjb20uYWRvYmUueG1wAAAAAAA8eDp4bXBtZXRhIHhtbG5zOng9ImFkb2JlOm5zOm1ldGEvIiB4OnhtcHRrPSJYTVAgQ29yZSA2LjAuMCI+CiAgIDxyZGY6UkRGIHhtbG5zOnJkZj0iaHR0cDovL3d3dy53My5vcmcvMTk5OS8wMi8yMi1yZGYtc3ludGF4LW5zIyI+CiAgICAgIDxyZGY6RGVzY3JpcHRpb24gcmRmOmFib3V0PSIiCiAgICAgICAgICAgIHhtbG5zOmV4aWY9Imh0dHA6Ly9ucy5hZG9iZS5jb20vZXhpZi8xLjAvIgogICAgICAgICAgICB4bWxuczp0aWZmPSJodHRwOi8vbnMuYWRvYmUuY29tL3RpZmYvMS4wLyI+CiAgICAgICAgIDxleGlmOlBpeGVsWURpbWVuc2lvbj45MDA8L2V4aWY6UGl4ZWxZRGltZW5zaW9uPgogICAgICAgICA8ZXhpZjpVc2VyQ29tbWVudD5TY3JlZW5zaG90PC9leGlmOlVzZXJDb21tZW50PgogICAgICAgICA8ZXhpZjpQaXhlbFhEaW1lbnNpb24+MTQ0MDwvZXhpZjpQaXhlbFhEaW1lbnNpb24+CiAgICAgICAgIDx0aWZmOk9yaWVudGF0aW9uPjE8L3RpZmY6T3JpZW50YXRpb24+CiAgICAgIDwvcmRmOkRlc2NyaXB0aW9uPgogICA8L3JkZjpSREY+CjwveDp4bXBtZXRhPgoS5TXaAABAAElEQVR4AeydBYAUNxfHH+5epLQUKe7u7u7uh7u7Q4sUKcW9uLu796NQpMWtuBZoizvdL//Q2e7urd3dHtwu/7TczsQm+c3kTV7ykgllUk7oSIAESIAESIAESIAESIAESIAEvJpAaK8uPQtPAiRAAiRAAiRAAiRAAiRAAiSgCVC544NAAiRAAiRAAiRAAiRAAiRAAj5AgMqdD9xEVoEESIAESIAESIAESIAESIAEqNzxGSABEiABEiABEiABEiABEiABHyBA5c4HbiKrQAIkQAIkQAIkQAIkQAIkQAJU7vgMkAAJkAAJkAAJkAAJkAAJkIAPEKBy5wM3kVUgARIgARIgARIgARIgARIggbCOEFy5cddREP1JgARIgARIgARIgARIgARIgAQ+EoGkiRLYvbJD5Q6xHSWymxM9SYAEvJYABnPY3r329rHgJBDiCVDGhPhbxAKSAAl4EQFnk3A0y/SiG8mikgAJkAAJkAAJkAAJkAAJkIAjAlTuHJGhPwmQAAmQAAmQAAmQAAmQAAl4EQEqd150s1hUEiABEiABEiABEiABEiABEnBEgMqdIzL0JwESIAESIAESIAESIAESIAEvIkDlzotuFotKAiRAAiRAAiRAAiRAAiRAAo4IULlzRIb+JEACJEACJEACJEACJEACJOBFBKjcedHNYlFJgARIgARIgARIgARIgARIwBEBKneOyNCfBEiABEiABEiABEiABEiABLyIAJU7L7pZLCoJkAAJkAAJkAAJkAAJkAAJOCJA5c4RGfqTAAmQAAmQAAmQAAmQAAmQgBcRoHLnRTeLRSUBEiABEiABEiABEiABEiABRwSo3DkiQ38SIAESIAESIAESIAESIAES8CICVO686GaxqCRAAiRAAiRAAiRAAiRAAiTgiACVO0dk6E8CJEACJEACJEACJEACJEACXkSAyp0X3SwWlQRIgARIgARIgARIgARIgAQcEaBy54gM/UmABEiABEiABEiABEiABEjAiwhQufOim8WikgAJkAAJkAAJkAAJkAAJkIAjAsGi3P3zzz9y+/YdOX7ipNz94w8xmUyOrm/l33fAICleurwc+/U3K39PnixdvkIKFSsli5Ys82S2zIsESIAESIAESOADE9i8ZZvMX7hYzp47/4Gv7PxyK1at1uW6dv2G84gMJQESIAEPEwjryfxevnwpM2bNlnkLF8mDB3+as44dO7ZUr1pZ2rZqKdGjRzP7Wx48ffpUFi9drhXBjZu3SNYsmXXwixcvZev2HVKxfFkJHTrouujCxUvl+o0bsnDxEqlbu6ZlEXhMAiTgJoHO3XvKmrXrrWJ//nkCyZ83j/Tu0U1ixYplFcYTEiABEnCXwMAhQ2XegoVOo6M/cOncKZkyfaacPHVK+vXuKWlSp3Ka5kMGjhwzVu7ffyCTxo2VxF8l+pCX5rVIgAQ+cQJB15b+Bfjw0SOp16iJfD9ugpVih+C//vpLps/8US5dvuwQd9SoUaVbl45SrGgRqV2zho6HWb8ceQtI52495B83Z/8cXuDfgA5t20ihgvmlY/u2rqIynARIIAAE7ty5K8tXrpaqteoKBmXoSIAESIAESIAESIAEPiwBj83cfTvsO7M5ZcnixaRZk8aSOPFXWtHDqNqPc+a5rFmbli2s4rx69VqePXum/UJZhQT+pHixIoJ/dCRAAkEnkC9PbvlxxlR5/PiJLFCz4eMmTJKrV6/JshUrpVGDekG/AHMgARL45Ah0bNda/BrW1/U2iUmKliyrjzupQdkKyoonVKhQgv/oSIAESIAE/BPwiHJ369ZtWbVmrc69RPGiMm3yBPOV4sWNK2nTpJaa1avJ27dv5dffjsuo73+Q6NGiSbmypWXM2HFSuFBBGdS/r3Tr2Udu37kjzZv66TV7K1evMedTv3FTSZUyhY4Hz737flKdycVy5MgxZeoZXc/G9ezWRaJEiaLTYP3eFdXJxHU3bt4sBw4clP27t8tqZUq2c/ceyafMx9q2aiEXf78k69Zv0IrpiVOnBTOIRVR5uqtZRJqWmfHzgATsEggdJoyEDx9ePvssjrRr00qmzZglMM8+f+GivHr1Svyat9LpMNgDxe/Nmzeyad1q7Yf1rwsXL5PLakYf6fPkzi09unayanc3b92SkaPHytFff5Xnz55L5kwZpWaNalKmVEmdhys5AHkDObJz914JFzasZMiQTlo0bSKZMmbQ5cTa2527dsvJ02ckVYoUkitndmVB0MluXelJAiTwYQhgKQf+wVmu2Y+r+hPJkia1W4jTZ89KzboN5Nz5C5I7Vw5pULeOFMifT8fFcgws98idM4e8UPJp6fKVMnTIQC1HXMmQ/T/9T3bs2qP7LpcuXZL48eNLjWpVpEWzJhJGyT84WBlNmDRF9uzbL2/fvNUK6JvXb3QY/5AACZDAhybgEeXu/IULZgHs17CB3TpgpC1cuHDy98OH8vPBQ7pDuHvvPnn9+rW8e/dOp/nt+AltulmpQnm5dv26FqZGZgcP/aKVQ5xv3rpNOnTqKm9VupgxYgg6gFhQfeLkKVm1bLFem3fy1Blth39SKWxYzwcHy84rV6/q68ePH0/7oWM3cco0fQxB/X7t3zK5cPGirFji3OZfJ+IfEiABTeDw4SNaYcJJQrX+7p3aWAltHc5oh8m/TqbPBwz+RrdZfaL+PLv+XLX5G7J7z17ZvH61VvCuXbsu5SpXM8/eIy46T2i7UO5cyYE//rinTMX9tIloWKXYYXDpxs2bklcpkVDuRowaI3Pnv2/jCD9y7JhcvX6Nyp1xU/hLAl5EYPWadebSbt+xS3arAZ31a1ZI6lSpdH8CssiQQ4j4z7t/XMoQrOubNWeuHkxGGvQR0IfAejpYFWEgCL9N1CCW5YYus2bPRXTtLJVTw4+/JEACJBCcBDyy5u6Pe/fMZUyYMKH52NkBlDpsmjJz6iTxa+RfIezUoZ3MmTndnMWh/+2VWdOm6PMh3w7Xil3L5k3lyMGfZP+u7RIjRnS9O+eWrdvNaXCA2QNs8LBkwVy7m7kkTPi5DPtmkBw+sF/OnfpNHyPd0WO/CmYk6UiABBwTOKUGTxo2aS4Vq9bUa24RM1KkiGrkupxVIgzCjP5umIwZOUK3UwzGwGEEHDN5I4Z+I9HUbD5kyXejv9dhg78dpjtOmNUbOXyobN2wVvr07K5m8FPqcFdy4Oy5c1qxQ3l+2rNDjipZAasCzP7BGbvyQv6cO/mrrF+9Qs0cdtFh/EMCJOBdBLJnzSp7dmyVpQvn6YFkDP5iVs7SYfC2Tq2asmDuj2qWPoe4kiFImzVzZpk1fYqcPPaLnDh6SMss+K9dvxE/ygR9lVbsMIAN+bRn+xbp06u7eVZPR+IfEiABEviABDwyc5f866/NRb527ZpbO0PBlGvapAl2FS5kFjlSJK2wGRnHUSYaGDXDaD5MIOAwm9fAr5k+Dh36vXnEydOnpWyZUtoPf5o0bqjNJ8weNgelShRXpprrpHuvPtpcAyP6hnv0+LF88YV7yqqRhr8k8CkRwEw8zJYMFzfuZ1pRw+5wz1+8MLzlm8EDpHDBAvocO+rCwQR6yMD+EjFiRL3L3ZkzZ/VOuwd/OawtAQ4fPabjwbwKSiBcSmWaDeeOHIDZdYQIEbSCV7JsBT1j11it40mXNo3Oo6Ay2cJI/uy58+XAz4ekUoVyUoc76Go2/EMC3kagdKkSuu8B2ZMjW1Y5oGbqsNGbpcPADgZz4dyRIehL1KpZXZt2T1IWPnHixDYv/UD/AA6m33A5c2TXS0pw3LyJn945HLtlQumjIwESIIEPScAjyh22H4YAg/nB5GkztJ27rUDDTB3MogwH5c7RZxGMOPZ+X6l8DAdTKkNspkn1fjQ/duxYRrD+jfvZZ1bntidDhg7X37yD0C6QL6+/kT7b+DwnARL4jwDW02LnWWxukCBBfEmZIrlWqP6L8f7Ish0aZtgYwIGptuFixoqpD1+9fCX4ViZkBlzMmDH0r+Ufd+QAlMdF82bLxMlT5acDP8uWbdv1v3Hfj1KfViknbZTyFzlKZGUeukStEbygTK0u6N0+d23bZHkpHpMACXgZAQzqwNn2Q2AFYDh3ZAj6NPUaNtHLRVIk/1q+Uooj1u9buhcv3w9ixVBr/+lIgARIICQQ8Ihyh04UdsabM2+BHFKj7rXrNxLsfJksWRJtZoWRrR/nzJfJ48cGqM6W37W7dfu2fJUokUDAYqE1Pq+AXTmxqNlwWD9XsEB+49St34OHDut43Tp31J9ggNlGhqw53UrLSCTwqROIEyeObocB4ZAndy4d/d79+1pmNKhXR3Wergg++guHTU8wS59aDdhgHe28BYv1qHjy5MnlF7WuD220RLGiLuUA1tdhJhG7eT5//lzLJczUbdy0RSt3p9VMITZXgaxat2GjdOzSXa+nwdqZkPS9LA2Ff0iABDxKwJ2+BL7Xa3zCCSbdSZMkkR07d0vz1v99SilTxozaD+uB0f+BuSd+sYMwHQmQAAl8DAIeUe5QcKxrwxoWdMbQAcO/oLoUqjNnbIRQrlI1KV2yhIwaMVQaK0US39MbPnK0bNi0WT5PkEDbvKMzd/q3I1azAa7KULRwIbl85YpMmTZTb+hw5F9TMFfpGE4CJBA4AhnSp9OfI0En6dvh38mYH8aZv4uHGf1und/vVtmre1e9jg+dqzIVqmjzTezEWUvtlomBHVdyAINKnbr20KPtnyklFDt4wiVK9KX+7dmnv9x/8ECwycuff/6l/TCTGD9eXH3MPyRAAr5LALN6rmQIBofSp0srp9Ruuj1695Psytxz0+atVlAqVyyvP/X0999/6wEkDHZjAMpw3FDFIMFfEiCBD0XAIxuqoLDolK1cukj69+mlR8stK4DNFLBpQdKkSSy9XR5jI4Qe3Trr3S8hLPH9LLj2bVvrXaqQL0bit+3YqdfhodMX/l9zDJeZ/xuhQf06kiN7Nr2L3tTpM5VQfma2qXc3D8YjARJwnwBm5KdMGKdnyrERkvHBc4ykw4wSpp1wmOGbMWWifK523oSDYodNV5IkTqzPXckBmIIm+vJLvbYGGyTBDBxr9zqrzZrg0qRJpXbMeyfYpRefYMmWNYuMHzvavAW7jsQ/JEACPkvAlQxBxTt3bK9n7DDwiz4CPu9k6b784gstpyC/4NBXgRJofJbJMi6PSYAESOBDEAilRpXUBwL8uys37krSRO87Vf5DXftgJPz2nduCDla8ePG0guY6lf0YMG/ApxESfv65XtBsxELRMeuGETgIWCiYgXV3796VV+q7NF+pUX1bO/3A5sl0JOAtBILa3gNbT6yt+/33S/rTBxgld+Ru374jz5Rp5dfJkvqTJa7kwKNHj7V5ODpftm0b17985ar+zh4Gi+hIgASCh0BQZQzaKtqvbRv2RGldyRBc4/dLlwXr6pzJKeyw/e6fd3oJiSfKxTxIgARIwBEBZzI12JQ7R4WhPwmQQMgj4ExIhLzSskQkQALeRoAyxtvuGMtLAiQQkgk4k6keM8sMyQBYNhIgARIgARIgARIgARIgARLwdQJU7nz9DrN+JEACJEACJEACJEACJEACnwQBKnefxG1mJUmABEiABEiABEiABEiABHydAJU7X7/DrB8JkAAJkAAJkAAJkAAJkMAnQYDK3Sdxm1lJEiABEiABEiABEiABEiABXydA5c7X7zDrRwIkQAIkQAIkQAIkQAIk8EkQoHL3SdxmVpIESIAESIAESIAESIAESMDXCVC58/U7zPqRAAmQAAmQAAmQAAmQAAl8EgSo3H0St5mVJAESIAESIAESIAESIAES8HUCVO58/Q6zfiRAAiRAAiRAAiRAAiRAAp8EASp3n8RtZiVJgARIgARIgARIgARIgAR8nQCVO1+/w6wfCZAACZAACZAACZAACZDAJ0GAyt0ncZtZSRIgARIgARIgARIgARIgAV8nQOXO1+8w60cCJEACJEACJEACJEACJPBJEKBy90ncZlaSBEiABEiABEiABEiABEjA1wlQufP1O8z6kQAJkAAJkAAJkAAJkAAJfBIEQpmUs1fTKzfu2vOmHwmQAAmQAAmQAAmQAAmQAAmQwEckkDRRArtX58ydXSz0JAESIAESIAESIAESIAESIAHvIhDWWXEdaYTO0jCMBEjA+whgpp7t3fvuG0tMAt5CgDLGW+4Uy0kCJOANBJxZWHLmzhvuIMtIAiRAAiRAAiRAAiRAAiRAAi4IULlzAYjBJEACJEACJEACJEACJEACJOANBKjcecNdYhlJgARIgARIgARIgARIgARIwAUBKncuADGYBEiABEiABEiABEiABEiABLyBAJU7b7hLLCMJkAAJkAAJkAAJkAAJkAAJuCBA5c4FIAaTAAmQAAmQAAmQAAmQAAmQgDcQoHLnDXeJZSQBEiABEiABEiABEiABEiABFwSo3LkAxGASIAESIAESIAESIAESIAES8AYCVO684S6xjCRAAiRAAiRAAiRAAiRAAiTgggCVOxeAGEwCJEACJEACJEACJEACJEAC3kCAyp033CWWkQRIgARIgARIgARIgARIgARcEKBy5wIQg0mABEiABEiABEiABEiABEjAGwhQufOGu8QykgAJkAAJkAAJkAAJkAAJkIALAlTuXABiMAmQAAmQAAmQAAmQAAmQAAl4AwEqd95wl1hGEiABEiABEiABEiABEiABEnBBgMqdC0AMJgESIAESIAESIAESIAESIAFvIOAx5e7Onbty8tRpMZlMTut989YtOX3mrNM4vhD42/ETsmLVatm+Y5fcv//Aqkp79u2XgUOGWvl56uTNmzcydPhI+d/PBz2VJfMhAX8EHj9+otr7KXn69Km/MEuPvx8+1PFevHhp6e0zx/878LNub2h3vuBmz50vc+cvDHFV+WbYCC1LHRXs+o0b0rvfQMH7hc43CLBPIRLc7/OQ2N7v/vGHbsuXLl92+CAHZx/K4UW9MMBb76+nUc9bsFDmLVzkMtv+g4bI/p/+5zSeu3k5zeQDBHpMuZs+60epWLWGLFm23GGxHz56JJWq1ZJadRs4jOPtARBMVWrU1v969R0grdp1kJz5CkqhYqXMVTtz9qwsX7nSfO7JgwsXf5eZs+eoDtoCT2bLvEjAisDPhw6p9l5T+g4YbOVve9K+Yxcd7/dLl2yDfOJ8jmpnaG8Xf//49UNneM26DUHiunvvPtmrBp9Cmlu1eq2cUIMJjtyDB3/qd89ff/3tKIrb/hiImDOP8tNtYMEUkX0KkeB+n4fE9v5I9RPRj7z7xz2HT5Yn+1C+0t6PHvtVDv1y2IqZt95fq0oE8QQTTqPHjpcxY8eZJ5/gt2rNWrl3/75V7kuXr5Sz585b+Vme2MvLMjwkHXtMuTMq9d3o7+Wvv/4yTq1+R4wc4zDMKqIXn/Ts01/PTE784Xs5duiAnDv5q2xYs1LKlC75QWqVNk1qmTppvAzs2+eDXI8X+bQJrNuwUTB7Zc9B0fD1GeSB/frItMkTBO3uY7t+atRx7759H7sYXn/9BYsXy7QZs7y+Hr5SgU+5T8H3efA/xb7S3hs1aS5Xr10LfmBedoVQoULJnJnT1L/pgmO4U6fPSNceveXF8xcBqo29vAKUwQeM7FHlLkqUKFozHjpilL8qHDl2TJatWCkJE37uL8xXPP755x85eOgXqVShvJQrW1qiR48m4cKFk3Rp00iv7l0/SDXx8JUqUVy++CLhB7keL/JpE/j88wQCpeL169dWIGC2+e3wET7d3lHhL7/4QkoWL2ZV94968u/L66OWwRcuTo4h4i5+6n0Kvs8/0GPoM+39vfLygah5zWWyZsksWTJn8l/eQNx3h3n5z/2j+nhUuYscOZJ079JZT3daTg+/ffdOm29lzpRRKz62NYYpY7tOXSRb7vySp2BR6dazj8CE03Br12+QFm3ayaIly6RoybKSOUdu6dyth15f0aN3X8mdv7CUKldRm0e9evXKSKZ/seatas06kj5LDp12xKgxYhkH5lT1GvrJiZOnpGWb9joezALadOgsw77zr6TCD/FQJ1sXOnRoyZA+nTLR+t1fZ9c2LpYmLl76vj6ZsufS9bOc8Tx3/rygrLrsmbNLybIVNFcjH3vlfvLkiQ5u0ryVgJnhGjVtoc2MwBDsGqoRns1btxnB+vfvv/+WLj16SY68BSRXvkLSuXtPXT6wgdJKRwL2CPTr1VNu3rgpU6bNsAr+bvQY1QbeSJeO7a38cRKc7R1mTHj+s+bKp+VC+05d5e7du+YyOGo34ydOlqYt2+g1LubI6gCzj2gDV65etfQ2H2/YtFnQvgz3x717MkwNbhUuXkryFykuuL6zNcZo4/iHNWVod2UrVtFyzHYNnzM5du36DV3GX3/9TX763wF9vHzlaqNI/n4h6yBjIW9Ll6+s17dAGTfci5cvlWL+neaXp0ARffzOQt4FRTbBdKhWvYZazhYvXV7A3TJvlGHvvp/0vYBcLFOhimzctMUomsvf8xcuSgO/ZpIxWy4tO2f8ONtfmmUrVul6p1dyFUsJLGVh89ZtZeHipdrCBPd9yNDh+nnF8eYt/8lMyH+/Zi01G8sLjP7+B83T8HN2LcTBu2j4yNFSsGhJLZtR9vMXLhjJtbkvrg0TosrVa0mWHHn0iDPWt38KLrB9ClfPmW27Q79j4uSpgmcb70e8J+s3aiKbNm/1h9lZW0Rko79y/MRJqVG7vr5vWAuK+2hrNo123rRFa20y5u9C/3rYvs/RHpAG7QP5ow05c67iu2rvMO3rO2CQlChTXjJkzSk16tQX7ClgOEcyFeGu7gPiwAS6eu16us3WVYzOnDkHb7cc7kX5ytV0WnDauWu3VTpX7cuT7d3VtVAwV3EMlgFp71u2bdfP1kslS2bMmq2PMTNlOFf3F23hhwmT9B4RkMl4f8G5Kiv6q5OnTZfGzVpo/njfYZbd9t3l6v6+fftWpk6fqZcy4b0NuepI5qPvEBhZPGrMD/o9i3p9P26C9Bv4fjlJF9XPRX6Wfdxbt+/oPj7aF555yHBLZ5kX/G1liaN3uGUeMO+cv3Cx7h/kVvpL9jz5tQ5kayZqmSagxx5V7nDxurVrSsYM6TU83DS4WT/OkUuXLsu3gwdKaBtNGUocXrBHjhyTenVqSbkypWSPMi3CujxDgbp1+7ZeTI8OZJVKFaRIoYKyfuNm/UL89bfj0qB+XUme/Gv9UI75Yby+Jv5gASUUGmzq0LJZE0mS+Cv98Ndv1NR8M6EQHTh4SDp06aYFVtHChSR8+AiSJlVKmTV7rly9+t80Nxbtwy+xyidsmDDm61ge1K5ZXW8sU6RkGb3RwrYdO/11XhD/pepATZo6XSpXLC9lSpVSizgP6A6NkddG9VKB7W9ZxQPckn/9te6Q3VYPHpy9cocNG06HHfzlFwEzw/2s6jf422ESKWIkad60idy5c0fatO9kNqfDfardoLGsX79RcmTLJk0aN5SbN29Jn/6DNBs8iHQkYI9A6tQppXHDBjJFCedr167rKGiTi5cul26dO0j8ePGskgVne8cLrUKV6oLrV6tcSQorObFr9x6lMFUVKF1wjtpNnty5dNxVa9aZywuB/8P4CfL02TNJmiSJ2d/yAO0R7ctwUJpgqtqsiZ/iUl+ePH0il69cMYL9/Z45e06bAJ44cUr8GjWQ2LFja7kxftIUc1xXcixixAjKLDSNhAkbRmLGiKGP48b9zJze8gDrSxr4NdXmO316dpMSxYvqDq0xMIS4sD5A5w3lSZM6lZZ5o9V6BcMFVjYdOXpMaiq5jk14OrZvI+nTpVWdgxkyYPA3RtZy+MhRLbNPKeWlYb26kjdPLuk7cJDVYJ85sp2DXn37S6yYMaVtqxa6k4GOimXnF52R3v0GSEI149ylUweJHi2aloXrN27SuaVOmVL7hQsbVnPEOyNB/PhansLyxHBYdI9NHbD5DN4vcJCjcxcskhgxoutzV9dCpOat28kC9ZLPmye3tFDvqD9U56Vy9dqCdw2c8byiMwLZXLtWDUFnG/fQcjBQR/bRPwHtU7jznNm2u0RffiHoO0BW4H3Xqnkzefb8ubTt2FnLBQOtq7aIeHj3YpAFg8CPVfvPnzePnuFHGNb9GP0anENW7NqzV7KomQVHzvJ9DgsoDITHiBlDBvfvp83BLQfSbfNwJ76r9o7+Gwbq/Bo1FMgMdPo7qcF1wxnPqGUfCn0Rd+4DzJ/RN3n27Lm0adlc4sePJ93VgL07DrKsa8/ekj1bVi2r0F9q1a6juV+DPFy1L0+2d1fXcqc8BsuAtPfYsWKp/m9y3c+EJQ3eBVGVFZ3hXN1ftIWVq9boCZh48eJqme9OWc+ev6AGMjZKtixZZOiQgVJW9WOhXFoqZu7c32kzf5RRalAMfe+e3booi7foVoMHRj3wG1hZfPbcOUE94RJ9+aXOB8fJv06meeHYcNgwJUKECNKyeVPBc9yzTz8t641wy7zgZytL7L3DjbTGL/oW4yZOks8TJNB1btq4kRw+fFS+t9BfjLiB/lWCzK67fP2OXX9HnoO+GWpSsz46WI0Mm5KlSmeaNHWaSSkJpjQZs5jUCKgOGzVmrCldpmzmbNRMmClpyrQm1QEy+6kXpylJijSmlavXaD/kkyJtRpNaNG+OU79xU52Pagxmv2q16pqKlSqnzx8+fGRKmzGrSY0SmxRIcxw1W6bzVtq49lMjS/q8VdsOJjWCbI73+PFjU8ZsOU1qUxSzH+qIcqjRA7OfvQM1emxq3b6TLh/qoWbdTDt37zFHtVcfNeKhy2Hk/eLFC3N8HKjREFO23Pk0U5w7KjfCwBvXMBzKrASocarL/3Xq9CbUB271mnX62nMXLDTHAYsOnbtp/zdv35r9eeCbBALa3tVooX421I5mpmfPnpnU6JNJzTqY8KyUqVDZpJQs3Z6MtgyZABdc7R15o/1DtljKBMgVtMEu3XshitN2U7t+I5OyDDDLAaOOm7Zs1Wnt/VEvLy0TjLB8hYtZyQzD39EvmFWoUkNzM+IUL13OpGbU9Km7cgyRkY/qdBnZ2P29cfOm5rFm3Xq74fbKozaIMhUpUcYcP7CySQ3imfIWKmpSSpA5L7wP8K5Qyoz2U5YKWs4pM19zHDWbohmrWTGzn+2BIQ/V7nBWQWrmVL9fHj16bFJKmClV+symjl26W8XBc1OgSAmz39ARI025CxQxn+NAza7ptKrDr/2VZYNJzTZoPzXTp/3U+lLNVg0uuHUt1anX8fFOMhzeO5Df3Xv10V5GvbZu32FEMSlFVKfD8+lNLqAyJrB9CneeM9vnXCkspnSZs1v1F9QghCllukwmNWulMbvbFvHuhcz5cc48q9ujOtna37LtoZ2XKlfJqo9ilUidWL7Pl69cpfMw+gm2cW3PXcW35YD0rtq76szqMuDZhDOeUds+lKv78Pz5C1Ny1Q9p0bqdzsf4s2jJUp2/UpANL3+/YIw+jJrBNofh3YN2q2ZOtJ877QsRPdHe3bmWO3EMlgFt75BLeOaWLFth5oEDd+4v4uA+GO9opHOnrGqCwt9zi3uJ/ODcvb9q7ZvV+0UndvInoLIYWanZQHO5cI7+OHhdvXYdp2Zn21fGeyN1hiwmtROzOY5tXvYYW77DzQltDsDP0kFeKAtDk62/ZRzbY2cyNWygtUInCWGaWL9ObZkwaars3rNPYkSPYdc8C1lglB2jzQsWLTHnCK02jJoZg+lJVTUCDxdWjUrHiRPbHCeHGq2B2UPUqFH/88uezTyFelrtSPn8xQupXrWyeRElIpYvW0aNFA1Xo0pHpUa1Kua0zZv6CcwqDRdNjehipAqzhTAtgya/XE3Pojy2sxFGGuM3ZYrkMnn8WD2SglETJTyktRpROnxgv16Hh3i29cFsJK519+4fOn+MlGHUY5Myn3ypRqiyZs2sRhRFrl+/aVxG/9qW2yrQ4gQjHoZD+VOlTKFGft/vLHdGjWpgJrKCYmM4sIBtMUYWQxme/CUBOwQiR44sA/r2VqbMnbRJJEzj1qxYYtWejGTB1d5hCnJczTZVqljBSiZgxi171qx6FNkoA37ttZuO7dpIHTWDvX3nLr1udaYasUZ6rGF110G+TFcjkRi9L5A/r9SuUV0gS5y5z5Rcs7QEKFggv2xQlglwAZVjzq6DMKwRzJQxg2AnX8hmzG5WKFdGy1sjrW15IJsww2a4wMgm3J8z6hM4KZRstDR3x4wq5D1GPzGKCRPWalUq6bXKxvVSqdm0KOoZU4Lc8HL4C5ll6cqrumFW7viJE2pmM6yedcDoOMxgDademKKUXlEvcvOsmxFm/JYtXUrLY8zIFFL3Z9v2nTJ4QF+J+9lnWkZidgmzxAlUHcD3ZyX3McPh7FpoC3B4z8Ecy3AxY8ZUfv+ZVcHfUn7j+nCfyswd6upun8Kd5wwj93CWz3n48OG1xVHUqFHM/QWs98PMtTEzG5C2iP4CZu4tXa6cOQT/8F7HunxsNgUz0LGjR5qvaRnf3jFmNyJHiiSVqtaUkiWK6f5MzhzZ7UXVfu7Et+SARLbtHbJs3vxFsk3JxTixYykm7zePun7jpu4jGBe3lKnu3AfMOGEWE23U0pnbsIv2Hj58OD37b6SFDC1TqoTMU7PnmNULSPsy8jB+A9rex46fqJM6a8sBKY8n27ur+4uC51GWA2hjhnOnrHjGsbQIVnRYipQpY0ZtefDk388jnTp92q37C+s0mKHCnLFIoUJSs0Y1SfxVIqMo/n4Dem/8ZeDCw5I99s3IqtbqwdrNmbNlbPkOd5QOVipLlq9Qlj+/SApleYh2DasWyBvLMjhK78o/WJQ7XLRbl45KMdmqO1WTx/8gEJT23MuXr7QZhNKgrYILFSygX/ZWnhYnoVVDtm37YZRCYvi9fPF+F5w4ceJYpBKJqACiM6pGFaz8w6oXv63zU+ZmMMP8ce48beoD2+WWzZvYRnN4DgU1nzLJGP3dcClXqapa27FVaqnOnj2HuHDGbj6wcd+h7Me7KtO2r5Ml04rsixfbVQxrE0l75dYZufgTJkxY87WQh5rblFevX7tIxWASsE8Au8FCoO3b/5M2p8uQPr3diMHV3rGhCzoKlgNARgHgd/X6NeNU/9prN7lz5ZQcaoAInS8oGjArGjH0G7tKqlVmFifYOAlri1coMxes4Zk0ZZrMnjHN/mJui3SWh5AFhhwIqByzzMfR8dKF82T+osWyY+duUTNEahBuiqxbtcyhjIa5pyFXkWdgZBM6e++UEgcZaivrixYpLBEjRJTXKg7ixVCDfZ5yMZSJDxwG+rC5FZzurF/7T1GEMoUyvHj5wqFyh6UG2Axsh+rgvnv7TpcTG+ngXdJOfe4Da0HUaLAaCCim7x3M7l1dC3Fwn/EJi1AWA4voPBumnToTmz9QUuGMZ8Qm2GdP3elTuPOcOQKEAc1QNkOZkBMG54C0xdChVU6Wjebfi3ZQA0hY47N330/KpHeBHmyxVW4clQ/+MPnas2OrNn/76cABvW6nYvlyMu779+ukbNMGND7SW7Z3mBrXb9xMYPrdtVN7PVBlXteG0WYLZylT3bkPRh/MaKMWWQX6EHlhDe+r16/00pfAtC9cPDDt3dW1Qkp7t7y/BmjLwUX4uVNWrE2G+WjD+vX0YCkGyDCwaeTl7v3FAMT61Stk1py5smb9epXHLOnfr7fuRxjls/wN6L2xTBuYY8hbe23ZWV6W73B78bCuGmsL8yr9ACatmMBZuGTp+6g27cpeenf8/Gs07qRyIw5Gq/uqzRbWrlvv9DMAmEG6cPGijBz2rVXHDKOpz5XNe2AdXpC4IWvWrtcjUUY+WCuBEU/sYOnK4QXbuEE9vY4CI8elSpYQjOQ7c/ZGf5UZk07y9OkzZ0mtwrAOsHjRItLMr7H2x2ja+4X//3VKrBIE4QQjNhg9X6fsp7HuAw6jzrv37g1Crkz6qREYMqCf6gg01QM7juoeXO0dg0cY7cMzDLt9YxYe7VGZmOi1W47KZOmP2TvUAUoPZrirVq5oGezWcWklJ/AP8gsblmAjKLs7dbmRW4DlmBsvBoy4Qq7gHzagwWZUWJRfrUplN0okeh1uQGUTlKAvEibUa0FmTZtsdR1wQpnwQsTa6S1bt0uPrp3NcTD7ZbsbqznQ5uDBn39a+aBecJmUcvbu3fuNoTAz0K93T6t4uIbVDKsdjmVKlVQbYqzXM3wFC+TT8dExiaQGDMdPnCJYnz38m8E631QpUuhfZ9dCW8B7rm7tWlK8WBF/5bHy4Inm7apP4c5zFliUAW6Ldi6UV63thSXB0BHfye9qH4JBavbX6AzbiW7XC+tp+/TqrsOwKQPWrHbv2sm8rs82UUDjW6a/op5pbEiFdf/Vq763dMJMod6wyY7yaqR15z48Vm0Obsu2HXpg0Ej74M+/jEOnv2/VIAvWcMPyy3DIC+8B+AWofQW1vbvRlgNUHqNCAf61VrgDnPzfBO6U9cDBg4JnCxYMhrt06Yrs3b9fn2bM+H6A1537i/749yNH6H6oMpuXGTNnO1TukHlAZLFRNru/du673Xge9vxFra/DYPSAvr305A2yj6AGUDCgrBQXj1wttEdycZAJNgsZO2akg9D33k39GuqRFiwSxoiQWiOjdyXDh8CdLRR2mqkKxMLSOmrxORQibAyChcXYOQ1foMeUJzZvccc18Wsk/6ibgJHZ1i2aukxSqHhJbfKEHbNOqo/uYroZZqCYci1VsrjL9EaEZEmS6IXBygZbsJMdzCNv3fpvkxQjnid+0RHFomTs+gOzNLXWQUpXqCwHfj6ks/eMuPBESZlHSCaAjYbWrV5u3Um2KXBwtXdcpmvnjrqdYic5KHRoM37NW2r50rmD/107bYqmTzHTjg45lJ6mTRqZZ3vsxbXnB3NHtHnMxmBXygd/PrAyebSXxplfQORY0iSJ5divx7UMhVJrz0EBGTj4W80HJpEH1cfo4TCT764LrGzCAnVsegNG2LAFJpgY/cUOyBhMgsMmKtiZFGbsMFvD7GI9tWshZt60XbqLQmIXZXwAGeyHDh8py9RHabFpDMwl8XkYfKJmsVK2MVsJU0i8TLGRBnZKNRw4gg0G2CxNH0srk68/VccTZrswv4WDUgqzXVwTsySY+YVz51pllKknTATxyRCkx4ZEGHzs1LWHTFCzvnT+CbjTp3DnOfOfs2ufgLRFZ7l1aNdaP3uxlFlizWpVnUX1F6bWYund/o6pnXHRH0AfA4PYjhTEgMa3veAXarYazzgGNdAusZsfNhFyx7m6D9j4CO1o9dp1elMVLLOB0thezYRr56LjjdnBOvUbCzatw/IX9CH1bqdqJgnO3fblifbuzrXciaMLHog/EdU9Qr8WpvZ498AsNSjOnbLiPXD//gO9yyYGx2BmeODnn82Xdff+YjmSWm8mav2+Nu/Et/owu+jMBUQW28sH9xxuw+Ytus9gL05w+iVLmkRnD3NnvFNQd7QDTzr33+iBvKrlqIq9LFKnSiVTJoyT/mr0qVmrtjoKBFV1JfSc7SBlLy9bP6wDihgxohZGsA2Gg8nU6O+GOe2AWuaD3dQghDMru1tHpmaW8du3aa13ClyqbGkNh3Uu06dMdDiyZsSz/P1mcH+tFGLbcJgZgNN7Ux3Pq1p4OcyfPVObkP104Ge9BqR8mdLa5GjkmLE2hiqWpeQxCVgTgEB35oKzvVcoV1bPluE7m9jJEA6zbzNU28M6KHfdV2rkF8K2bq2a7iYxx1Mbg4jR9tEpwkh9V7UrY1Ccu3IMA1b71ZowtamUtGvdUiu7ttcNGy6sZoNd/+Ag2xrUq6PX3dnGdXQeWNmE8j16/FibqxqMsKahdYvmWk7jeojzp5p9Uxuj6NlEyKaGajdkzCC44zD7iPuPtQswwyxcqICMGzPanHTo4EEyOPwwwRoZbIkNl0S96Pv0eD8TgvNyZcoos7c52nwOsyzLlyyAt94VLl7cuIIZhxLFimo//IFZHBR6+Bnm9fB3dS0M+M1Us5jY4VMt2EcS7fKp9S/YOZDOPgFXfQp3njP7Obv2dbctOsvpq0SJtEKG3WjRPwmICx0qtFpTtlAPTiAdZqmGDOyvBy/s5RPQ+LZ5YAZujFpWMn7SZD0Ig/BiyqJIOxfKlzv3AX2xzt17aeuGOeqTCLCQwo6wWA7jykG+FsiXVw8EwfIIsgS75GK3bzh325cn2rs713Injqs6OwqHpUqzJo31rpNbCxWVBXNm6SVBjuK78nenrK1aNNMm9hgs7N6rr36XJFEDvJYDYu7cX1huQBZjHTTqAUuyUcOHOi0idugMiCy2zSxpkiR6J3rsXovP11w8e9LhAIltWk+cYxC5XZtWuq+AdzFMmvPlzf0+axftyt3rh8LuK/YiX7lxV5ImSmAvKFj80Dhv3LgpL1+9VJ8sSKxHizx1IdgPX75yVT8Mn31mvQbP1TXw0saX7APaWLCuAyNrMdWWxTBHQiclMA5aPToq6HAGNo/AXBdp1O5Xcuy33+SX/+0LbBZM5yUEfKm9YzAEygA6918l+jJA7QbKWTE1k4QXF2YCA+PwcrutRk+xzXJAO2/OrueOHIOpx4ULF9WM0BcOB7Ag8vEJB3ymIaUyHzRMWJ1d215YYGUTTCxhoREpUmQ14JXQSiEyroN7+PulS+qTBZ87rIcR1/YXI/pQztGJRufUnsNIM9b+Yet1dBLsOczsocPoagMte2kt/dy5FmZE7t27r8uMa/qi+9Ayxp3nLLCc3WmLjvLGt3k3bdkm/9uz0+naSkfpsQ4Ocgqz7c42njDSBzS+kc72FzPLaE+OPrNiG984d+c+YKbpmloXnSxpUvUpqvBGUrd+0T/CdwRTJE9uV5YgE3fal6fauzvXcieOW5W3iQQWN9RnrPDuMdYY20QJ8KmrsuLeXb9xXd87R9d0dX+h4OF7rfHVpxhgAfGhHGY5oXNA2fsYDnoPNqPBBJCjfUmclcuZTA0xyp2zCnysMIAvrj7qiB05seGArzoshB05eqxab+cnadKkkVdKGcaCb3zLBiPhw78d7KtVZ73+JeBMSHxKkHr1HaA/Qvy/PTs+6EvmU2LMun6aBChjRCshRYqXfv/NuH/XzX2aTwNrTQIkEFQCzmRqsJtlBrXwHzP9hk2btZ05dvv0ZYcPXmJxd0W1vTJGzTCyj9Fv7B7YXe16SkcCnwIBzLSrb2tqc8wPOXr4KbBlHUmABEQmT52hd0Zt2qQRcZAACZBAsBHgzJ0TtDBDgHkltl4NrOmSk+xDXBA2O7ioNpKAaRe+u4F1Sh/aFDTEQflECuRsBOgTQaAXNmMWG6ZBvmoa96ncS9Yz5BGgjBG9oVB4ZS6eUu2uSEcCJEACQSHgTKZy5s4JWez+h3+fikufLq3VR0E/lXqzniQAAvgenr3v5JEOCZAACXiCAN6xdCRAAiQQ3ASC9VMIwV145k8CJEACJEACJEACJEACJEACJPCeAJU7PgkkQAIkQAIkQAIkQAIkQAIk4AMEqNz5wE1kFUiABEiABEiABEiABEiABEiAyh2fARIgARIgARIgARIgARIgARLwAQJU7nzgJrIKJEACJEACJEACJEACJEACJEDljs8ACZAACZAACZAACZAACZAACfgAASp3PnATWQUSIAESIAESIAESIAESIAESoHLHZ4AESIAESIAESIAESIAESIAEfIAAlTsfuImsAgmQAAmQAAmQAAmQAAmQAAlQueMzQAIkQAIkQAIkQAIkQAIkQAI+QIDKnQ/cRFaBBEiABEiABEiABEiABEiABKjc8RkgARIgARIgARIgARIgARIgAR8gQOXOB24iq0ACJEACJEACJEACJEACJEACVO74DJAACZAACZAACZAACZAACZCADxCgcucDN5FVIAESIAESIAESIAESIAESIAEqd3wGSIAESIAESIAESIAESIAESMAHCFC584GbyCqQwIcmsHb9BmnSvJVs37FLyleuJhmz5dLnO3fttipKo6YtZMu27TJ0+EjJkbeAGOEPHz2SXn0HSIEiJSRT9lxSt6GfHD32q1VanCB+tVp1JUPWnFKqfCXpO2CQPH78RMd79eqVDB85WgoWLSmZc+SWBn7N5PyFC1Z5bNy0RZq2aK2vUaN2fRk/cbI53FkYIi1bsUpKl68s6TNnl4pVa8jmrdvMaXFw4uQp6dazj2TLnV/H691voLlsVhF5QgIkEGACI0aN0e170tTpUrhEaS0/OnfvKRcu/m7O6+Lvl6Sekh1oiy3btJf0WXLIkyfv5QPiQUZlzZVPcucvLO07dZW7d++a0+Lg0aPH0qf/IC1DsuTIo+Nv2rzVHOfuH39Iu05ddBvPU7Cobu+QXYb74949GTZilBQuXkryFymur3H6zFkd/PbtW5k6faZUqVFbl8GvWUuBzKEjARIggeAmQOUuuAkzfxLwQQK3bt+W3Xv3SdeevSV7tqzi16iBnD13Xlq16yj/O/CzucY/Hzwk6KQtWrJUsmbOLPHixZXnz59LxSo1ZNWatZI1S2ZpWK+uXL58RWrWbSB79u03p523cJE0a9VW3rx5I838GknK5Mll3YZN8vfff+s4zVu3kwULF0vePLmlRbMm8ofqiFWuXluu37ihw48cO6Y7ZjFixpDB/ftJ2jSp5dAvh12GIcLkadOld78BkvDzBNKlUweJHi2atGnfSdZv3KTTv3jxUimTTeXqtWvSp2c3KVG8qJw7f97csdSR+IcESCDQBM6cPSfTZ/4oy1eslMoVK0jJ4sVk27YdggEjKF1wUOQOKBnToUs3+e34CSlauJCEDRtOTp0+IxWqVJdffzsu1SpXksKFCsqu3XukbMWqAoUM7tmzZ3rQBnIoX948Ur9ubZ3v9l27dDiUOAzqHDlyTOrVqSXlypRS8mmf1FJy6u27dzoOBnfWbdgozZr4SeOG9eXJ0ydy+coVHTZNlX3U9z/oMvXs1kWiR4+uy6gD+YcESIAEgpOAyYG7fP2OgxB6kwAJ+BqBgLb3SVOnmb5Ond508tRpM4o3b9+achcoYipbsYrZL0XajKZ8hYuZHj9+bPYbNWasKUmKNKYDPx80+yFt3kJF9T94Pnz4yJQmYxZTwybNTa9fvzbHw7FS9ky79uzVeSxeuswchmsgTfdefbTf8pWrdBzVETTHMQ6chf398KEpVfrMpo5duhvR9a+aQTSpmUZ9fOPmTZ33mnXrreLwhARIwD6BgMoYNRNvKlS8lAnt0XCXLl/W7W7I0OHaS8326/NWbTuY3r17Z0Qzoa2my5TNpJQ/s59SunTcLt17ab+Ro9/LoYOHfjHHwcGz58/1+bDvRpmSpkxrQjrD7f/pfzqPlavXaC/INmWBYARb/Xbt0dtUpEQZKz+ekAAJkICnCDiTqWGDU3Fk3iRAAr5LIHz4cJI+XVpzBcOGCSNlSpWQeQsWCWa2IkWKqMPq1q4p0dTMl+F+OXJUvvziC8mdK6fhJUhbtVJFmThlmty5c1euqBkx5FG7RnUJFy6cOZ5xjBF5OKVcCkyzDBczZkzld0afYhQ/cqRIUqlqTSlZopiUL1tGcubI7jIMMwYw+cSswDfDRhhZixLIopQ6bcqF8mfKmEGblu7es0/PDFQoV0bCqHrQkQAJeIZAsiRJJGaMGObMkiVNKmlSp/I3A9a8qZ+EDv3eEAkz/cfVLF4lNdsXNWpUc9qkKq/sWbPKkaPHtN/ho0clZYrkkitnDnMcHEBmwEHG4NoLFi3R5/jzzz//6DYOuVNVzQhCpmB2EZYMBfLn1fLKkHVl1UwfZgXVYJcUKVRIataoJom/SmTOiwckQAIkEFwEaJYZXGSZLwl8ggRiKNMjNYIur16/Mtc+bBjrMaSXL19K7NixJFSoUOY4OIgTJ44+f/7iubx88UIfR4v2X+dMe/z7B3kgPRTBq9eum/+lSZ1a0qRJpWPFjh1b9uzYKhXLl9Mdulr1GoqajXMZhrzh1IyBOV9cA4pj0SKF5cXL92VbunCedO3cQZtyqdlCKVm2ojb10on5hwRIIFgIxFAK1/Pn79ugcYGwYf+TMWp2X5tNxokT2wg2/8IP8gUO7dxQxMwRLA5evnylB3Qs5cv1GzelUMEC8nmCBDpmr+5dZfKEHyR8+PAycfJUKVC0hFYKEYjBpfWrV0hqpYyuWb9eipcqKzA1pyMBEiCB4Cbwn0QM7isxfxIgAZ8i8PbtO8G6FMuR9S1qTQxGpy39bCuNtW9Ll6/Ua1MwEm+41WvX6VHzJIkTq9/IWnnDhi358+U1oph/U6VMoTtedWvXkuLFipj9cWBsqIDjuHE/kz693it089X6vAGDv5HuXTvpmUNHYalSpEBSvR6wX++e+tj4g7yNDmGECBHUWsDG+h82byhVrqLePKZalcpGdP6SAAkEgcBfan0tZsuMWTmstz2sZv6rV3XcxqJEiaJl0Lr1GwVr3Yy02DxFmXOrNbq5dInSpkkjyrxSr8GLHy+ev1JCxly4eFFGDvtWDTz9pyhiBh/rhg1XumQJwT/4YQOmRUuWSZbMmXRwurRp5PuRI3QdMLA0Y+ZsvcbYSMtfEiABEggOAlTugoMq8ySBT4AAzJ/q1G8snTu20xuOLFi8RG8q0r9PL6e1b9Oqhd6EoLXaoKSJ2oglUaJEsmTpcr3jHRQxmDZ+rjYygTknRrpDhQ6lO0+Xr1xVu3PulG8HD5QypUvJuAmT5dvhI+TBnw8kT65ceiOVlavX6k1b+vTsLlu37xDsXFdYjbSj83by1CmtMMIE1FlYAjUqX65saVmsOmmYiSxdqqQyxXwke/f/pDdkWbZovly9ek1mz50vhQoVEHTgDh46pOscxmaW0ikIBpIACTglcPzESWnXsYs0alBP7j94ILNmz9XyoZYy13bmunbuKB06d9M75TaoX1eePn0qc+Yt0FYFnTu010nbtGou69VmKNggpZPyi/tZHL1JVKSIEdWMfEdp6tdQ1JpavSkTNnRKmjSJnD9/UabNnCUd2rbWs/jY8Tdnjmxa/ly7fl3LIsM0e8q0GYIBoEIF8wt2zsTmS2HC0mzb2X1jGAmQgGcIULnzDEfmQgKfHAF0XAqoWbXWaodMjK5Hjx5N2irFrUnjhk5ZfKWUuXmzZ0qPXv30mjVERl4YZW/auJE5LZREzODNnjtP5s5fqBUzzPSFU2v9sC5m5rTJKn1/tavlQHOafHlyS5uWzfV56FCh1fq/hTJh0hR9jhnFIQP7C5Q3rMtzFIbIQwcPksHhh8nY8RPl+3ETdPokSRJLnx7vZwHDhgurd/Y0zKxixYolDerVEay7oyMBEvAMgYwZ0mszytr138uFL75IKD+MGWmeGXN0lQrlyuqZtKHqMwXGDrwY4JkxZaJeK4t0kEPz58ySHr37SeduPXRWWKPXvEljfZw6VSqZMmGc9Fez/di1Fw4DQ9WrVZUsWTLrc+zMu3T5Cn0MGZY3dy7pqnbXhcNMHmQH1u1i9jBD+nQyavhQHcY/JEACJBCcBEJh1xZ7F7hy464kTfTertxeOP1IgAR8h0BA2zs+FYA1JmeOH9Oj4jdv3ZIU6lMFxqi1u2Ru376jtw/XSpvFximW6bG5CWbtMJtnz9zz3v37cu/efd1Zg4Jp6TBijg4YZtRsNzNwFmbkATNMrLmJHz+exIsb1/DWvxCdRvlTKlNOw/zLKhJPSIAENIGAyhi1U65Wpn6cMVXQxvHpAmyKEhCH9b9X1Cw7NmL6KtGXeoDIXnp8/+7xk6eS/Otk/toxBq5uqLV2L1+9FJiMQ4mzdH/99ZfcVmt/kTaimvWzdFDwrl2/oSwH4qp1xv+ZdlrG4TEJkAAJBIaAM5nKmbvAEGUaEiABMwGMdmOUOzAuYcLPVTL8c+zQmcIOeY4clC5bxcuIi40WLNf1Gf74dRZmxMP6Ooy423PY0AUzCXQkQALB/S+DjQAAQABJREFUS0C3b5vBFXeuiMEmKF2uHGbz1f92HQZtEif+ym4YPKG0OVLcIkeO7FR2OcyUASRAAiQQBALcLTMI8JiUBEiABEiABEiABEiABEiABEIKAZplhpQ7wXKQwEck4Gx6316xYKqEf5ZbkNuLRz8SIAESAIGAypi3yqQSDuvc6EiABEiABKwJOJOpNMu0ZsUzEiABNwjAVIlrzNwAxSgkQAKBIkClLlDYmIgESIAEhGaZfAhIgARIgARIgARIgARIgARIwAcIULnzgZvIKpAACZAACZAACZAACZAACZAAlTs+AyRAAiRAAiRAAiRAAiRAAiTgAwSo3PnATWQVSIAESIAESIAESIAESIAESIDKHZ8BEiABEiABEiABEiABEiABEvABAlTufOAmsgokQAIkQAIkQAIkQAIkQAIkQOWOzwAJkAAJkAAJkAAJkAAJkAAJ+AABKnc+cBNZBRIgARIgARIgARIgARIgARKgcsdngARIgARIgARIgARIgARIgAR8gACVOx+4iawCCZAACZAACZAACZAACZAACVC54zNAAiRAAiRAAiRAAiRAAiRAAj5AgMqdD9xEVoEESIAESIAESIAESIAESIAEqNzxGSABEiABEiABEiABEiABEiABHyAQyqScvXpcuXHXnjf9SIAESIAESIAESIAESIAESIAEPiKBpIkS2L16WLu+/3o6SuQsDcNIgAS8jwAGc9jeve++scQk4C0EKGO85U6xnCRAAt5AwNkkHM0yveEOsowkQAIkQAIkQAIkQAIkQAIk4IIAlTsXgBhMAiRAAiRAAiRAAiRAAiRAAt5AgMqdN9wllpEESIAESIAESIAESIAESIAEXBCgcucCEINJgARIgARIgARIgARIgARIwBsIULnzhrvEMpIACZAACZAACZAACZAACZCACwJU7lwAYjAJkAAJkAAJkAAJkAAJkAAJeAMBKnfecJdYRhIgARIgARIgARIgARIgARJwQYDKnQtADCYBEiABEiABEiABEiABEiABbyBA5c4b7hLLSAIkQAIkQAIkQAIkQAIkQAIuCFC5cwGIwSRAAiRAAiRAAiRAAiRAAiTgDQSo3HnDXWIZSYAESIAESIAESIAESIAESMAFASp3LgAxmARIgARIgARIgARIgARIgAS8gQCVO2+4SywjCZAACZAACZAACZAACZAACbggQOXOBSAGkwAJkAAJkAAJkAAJkAAJkIA3EKBy5w13iWUkARIgARIgARIgARIgARIgARcEqNy5AMRgEiABEiABEiABEiABEiABEvAGAh5T7u7cuSsnT50Wk8nktN43b92S02fOOo3j7YFv376VHTt3y4DB3wi4hHR3/cYNGThkqNy4eTOkF5XlCyEEHj9+otr7KXn58mUIKRGLQQIk4IsEfjt+QlasWi3bd+yS+/cffJAq7tm3X78TjYvZnhv+/CUBEiCBkEjAY8rd9Fk/SsWqNWTJsuUO6/nw0SOpVK2W1KrbwGEcXwho3b6jtO3YWU6cPCWPnzz2aJWgPK9as1bu3b/vsXzx0py3YKF+eQYkUyiua9ZtCEgSxvURAj8fOqTae025cvWaj9SI1SABEghJBO7+8YdUqVFb/+vVd4C0atdBcuYrKIWKlQr2Yp45e1aWr1xpvo7tuTmAByRAAiQQAgmE9XSZvhv9vZQqUVxix47tL+sRI8fIX3/9JVEiR/YX5isef//9t+zZs09GjRgmlStV8Hi1Tp0+I1179JY927d4LO/aNatL/PjxpGjhQgHKs9+gIRI9WlSpXLF8gNIxMgmQAAmQAAk4I9CzT39t5TPxh++lQP58EilSRLlw8XdZv3GTs2QMIwESIIFPnoDHZu5AMkqUKNosc+iIUf7AHjl2TJatWCkJE37uL8yXPC5duSJv372T1KlTBm+1QoXyWP64b+XLlpHIgVG6PVgOj1WIGZEACZAACXgtgX/++UcOHvpFKlUoL+XKlpbo0aNJuHDhJF3aNNKre1evrRcLTgIkQAIfgoBHlbvIkSNJ9y6dtdngoV8Om8sPZafvgMGSOVNGLazNAf8ewPyiXacuki13fslTsKh069lHYMJpuLXrN0iLNu1k0ZJlUrRkWcmcI7d07tZDsH6vR+++kjt/YSlVrqLMnD1HXr16ZSTTvzA5rFqzjqTPkkOnHTFqjFWci79fknoN/bQJZcs27XW8R+rabTp0lmHf+VdS4Yd4qJOt+37cBBny7XDtDTMS5Hvt2nV9jhHHJs1bSdZc+XR523fqKnfvWq/He6fynDxtuq5L+szZpUKV6rJ0+X+mIci/38DBOr8u3Xvq/PEShGvUtIUsXLxU88iRt4Cu65Chw+Xp06c6HH/s1fXJkydyWSmkKCvCLePB/LNy9VqSJUcePVuINZVw167f0PF//fU3+el/B/Tx8pWrdRj/kAAIwHx4/sLFgucc7TN7nvy6jVuaE6Mt/jBhkl5PU7x0eRn276AQ2hb8CxcvJRmz5ZL6jZrIlm3b9XOGmWvDHT32q9Sq11C3WaQfP3GyoA3RkQAJeDeB0KFDS4b06dQ76Xd5/fq1w8pAhuDfN8NGSK58hXT/YeLkqXLu/Hlp2KS57itAfmzavNWchzuyyRyZByRAAiTghQQ8qtyh/nVr15SMGdJrJQQbi8DN+nGOXLp0Wb4dPFBC28z0QInDWr0jR45JvTq1pFyZUrJn3z69Ls9QoG7dvq3Xg02ZNkOqKFPHIoUKKtOMzVKwaEn59bfj0qB+XUme/GvdORzzw3h9TfyZt3CRVgr/fvhQWjZrIkkSfyUzZs1WncWmYihFUG4OHDwkHbp0Eyzchmli+PARJE2qlDJr9ly5arGmCBuPwC+xyidsmDDm6xgHib78Ur784gt9mixZUkmbJo1EiBhB0CGFooayVqtcSQqr8u/avUfKVqwqf9y7ZyTXZRg15geJGTOmtG7VQpexV9/+Aj845J8gfnx9nPzrZDp/faL+/KzqAMUPa6Ca+TUWXH/u/IXSun0nsyJqr65hw4ZTCuAzzQDhcEY85JcjWzapXauG7N67Txr4NdVmtRFVnVC3MGHDSMwYMfRx3Lif6bT8QwIggPY1buIk+TxBAunZrYs0bdxIDh8+Kt9btM8zZ8/JylVr9MBPvHhxJU3qVBregEHfyDil3MWJE0fatW4psWLFkrZqsAXt9NHj92tYjxw9JjXV2l0MXnRs30bSp0urBkZm6E2MeAdIgAS8nwCWC2BAsUjJMjJ0+EjZtmOnv8EbyJBpM2bJiROnxK9RA/WO/ELQB8C7FUpcq+bN5Nnz53oNPN65cO7IJh2Rf0iABEjAWwkoAWjXXb5+x66/I89B3ww1qRkjHaw2EjElS5XONGnqNNPNm7dMaTJmMalZJB02asxYU7pM2czZqJkwU9KUaU1q9sjst/+n/5mSpEhjWrl6jfZDPinSZjQ9ePCnOU79xk11PkoRMftVq1XXVKxUOX3+8OEjU9qMWU1qZN+khLk5zuKly3Tey1as0n5q9F+ft2rbwaRG/c3xHj9+bMqYLadJzcCZ/VBHlEPNNJr9bA9+OvCzzk+NHJqDUC7U2bKsqC/q2KV7Lx3PqLOanTOnw0HHLt1NX6dOb7py5ar237l7j0539dp1q3goV+t2Ha3qoGbydNxt23fquI7qevzESR0P4XBGvK3bd+hz/FHrHHQcNYNi9qtQpYapU7ce5nMeeC+BgLZ3PAd4flXnymGl1U6aVmE/zplnUjPoJsO/gV8zU3L1bENeGO7WrdtaHqhBCcNL/y5YtERfT80U63M1IGTKW6ioSQ0gmeNBtkDuqEEYsx8PSIAEQgaBgMoYlPr8hYsmyAK8PyFvSpatYMI70HCQIXgPvflXDijLHVO6zNmt3vtqAMiUMl0mU98Bg4xkZhlkeNjKJvQ50G8xnO254c9fEiABEvhYBJzJVI/P3EHJhTlF/Tq1ZcKkqaI6/xIjegzp0rG9Xf0Xs1mY/VGdN21aAfMKJbwljJoZM8wAkTCsmiWKE+e/TVpyZMsqoVWcqFGjmvPNkT2bYJYO7rTa7er5ixdSvWplCWUxW4i1ZREjRpQjR4+a0+GgeVM/gSmI4aJFi6ZGAhtqE1Nsv4yt35evWCVV1cxb/HjxjGguf9+8eSPH1Yxg6VIlrcqaNEkSyZ41qyrHMZ3HL0eO6nKivJauRrUqerQSnFw5mL1a1qFMqRKaI2YkLZ1tXS3DLI+NWUL4FSqQXwdhQxw6EnCHwGH1TBvm1rXrNxI1gKFn2ow2ijzy5Mmt5YWR37kLF/SIe5WK1psRZc+W5X0U1ZbRps6oz6nEiB5dm05DZuDf1evX9ag8RvPpSIAEvJ9AyhTJZfL4sXL86CFZMGeWfp+pQUz9PjZq95nqFxiWNOHDh9eWQ1ijZ7z3saYcVgGWcscd2WTkz18SIAES8DYC/2kzHi55ty4dlTITRSsvA/r21put2LvEy5evdGdOzUSJ8e/6jZtSqGABbdJlLw38oNhZ6Gw6WhilnBl+L5ViBwfTLksXMVIkvXHI8+fvw42wsGH9bxzq17CBMtEMLz/Onac/8fBCfdOrZfMmRhK3frFeAOalloqpkRB+z18816cvX7xUCmxYtftkdCNY/xrpoKgG1EVSdcUidOMaRnp7dTXCHP2G+ZeP8cJ0FI/+JAAC55WS5tespTLxfSpDhwyU2jWqyxNj/acylzKc0SmzPX/5yvH386DcvVNmn2iPhszA7wvVhooWKSwRI0Q0suMvCZCADxDAYG++vHlk9HfD9Rq8zVv/W0NnWz0McIZS/1k6vPOMd5e7sskyPY9JgARIwJsI+NdoPFR6zHz17dVT1q5bL2VKl3SYa6qUKdT2xhdl5LBvrRQgNc0pz5WtfGBdmtSptTBfs3a9XqNn5IPZA8w+YdctVy5GjOjSuEE9mbtgkf58Q6mSJQQzbgFxGDVM/FUiWbd+o157ZMysPXr0WHbt2St58+TS2aVNk1rPSGzaskXq1KppvsRqVX44f+W16CAbkR/8+adxqH/37v9Jf2Q6U4YMVv4ePbFTDo/mz8y8ksAvan0dBjUG9O0lXydLpuuA9ad6ptoYgbFTM7RbdMRWr1knFcqVNcfYsnW7+Ri7un6RMKFEVW1r1rTJZn8cQGZEiBDByo8nJEAC3kcA70i8gy3di38HObFOPLAusLIpsNdjOhIgARL40ASCTblDRfD9s8KFCjitU1O/hupD2Ou1+VYzv0aSNGkSOX/+okybOUs6tG2tR+KdZuAg8PPPEyglqYb6EOlqidI/ilStUlFvaIJNRmBuiM1b3HFNVJlmz50v2NGzdYum7iTxF6dr547SoXM3adqitd78BZtAzJm3QJtbdu7QXscvX66MTFULw7EYHGag+K4PdvhSawQ1A5hcwiVNklj/bti8RapVqWTeYAWeM9XGNRHUTGPJEsXk0OEjutxfJUokhQsX1Gk8/QdlOfbrcb3bZpzYcfy9iD19PeYX8gig7WIzH0sHs+xkSZNor3nzF0mHdm3U7rcPZfXadZbR7B5jY55WzZvKxCnTpESZ8rodqDV5ejdbneDfwYSWKk5/9Z1F7EqLjRcwQw3z4wmTpsiubZsC91kPuyWiJwmQwMcgUKh4SSldsqTkyZ1TyxPs5jxn3kKJrCxSSpUsHugiBVY2BfqCTEgCJEACH5hAsCp3qAvW0zlzqVOlkikTxkn/wd9Is1ZtdVSYalWvVlWyZMnsLKnLMJiDYn0dFDooSXBQkkZ/N0wws+iOi67iYbe+zJkzqbVB6d1J4i8OZiAwo4Dv/+3Zt1+HY93ejCkTJVPG97NqmK2YM3Oq9FSd1bHjJ+p/MCPBh9AH9etrzhMzh2XVjqJjxo6T0d//IBfPnjSvN8B6Qih96BgjLWYDx48d7fIemDMP4AEU5P3qUwhqExu9qyGUWLpPi8D0mT/6qzDWdPbp2V3atWmlPuWxQu9ai+c7X97c7+O6mO3Fc5RIDUqsU59AwbeuoCy2adlcmrZsI+rB1nng2cPOmdj2HNeAwzqb1i2a6zavPfiHBEjAawm0b9NavbeXm9s3KoLdqKer96axK3VgKgfzzsDKpsBcj2lIgARI4EMTCIVdXuxd9MqNu5I0UQJ7QcHih+2Jb9y4KVhrkyRxYo+aVqnd+dTs0lWJFzeufPaZ9Ro8V5XBt9669uitF3PjpRAUh29w4VMFmGX4KtGXWgGzlx8+D6F2GdWzdDDrtOfu3LmrWRlmomo3MOmmOsXoWF+9dk2ZrEWVD/F5ApjeXbhwUW9B7a7CbK8+9Pu4BIKrvaNd41tV6Iw5epbdqTlmugd/O0x2bt2oRvGTmpNgTSu+0xgpUmR1jYR6wwVzIA9IgARCDIHAyhhshKJ20VWfCIqhzbGNtXNBrZinZFNQy8H0JEACJBAYAs5karDP3LlbYKxFw/fjgsNh9g6zWAF1EP4TJ0/TM3ZBVexwbSwKx/fpXDnMdrqa8YTZqT2HF5+h8NkL97QfZlkDw9bT5WB+IZMA2nWqlCkDVLg26tuM1dUusblz5dQbGh1WJsYLFy/Ra/cSf2UtI7DhEWb/6UiABHyTQCz13Vf887QLjGzydBmYHwmQAAkEB4EQo9wFR+WCmueGTZvVTNtVtRXzD0HNiulJgATcJICZ7WbKBBMDFRHV5ijYKRYzf5PUlugYIKEjARIgARIgARIgARKwTyDEmGXaL97H9b2mtleHSUjGDOmtvh/3cUtl/+rqY866jMZunPZj0ZcE7BNwNr1vP0Xw+qoPkcvpM2fVzrZ/602WsmTKpEwv+YmD4KXO3Ekg+AiENBkTfDVlziRAAiQQ/AScyVTO3DnhDzPR4DIVdXLZQAVhwwo6EvAVAtjlFf/oSIAESIAESIAESIAE3CcQbB8xd78IjEkCJEACJEACJEACJEACJEACJBBUAlTugkqQ6UmABEiABEiABEiABEiABEggBBCgchcCbgKLQAIkQAIkQAIkQAIkQAIkQAJBJUDlLqgEmZ4ESIAESIAESIAESIAESIAEQgABKnch4CawCCRAAiRAAiRAAiRAAiRAAiQQVAJU7oJKkOlJgARIgARIgARIgARIgARIIAQQoHIXAm4Ci0ACJEACJEACJEACJEACJEACQSVA5S6oBJmeBEiABEiABEiABEiABEiABEIAASp3IeAmsAgkQAIkQAIkQAIkQAIkQAIkEFQCVO6CSpDpSYAESIAESIAESIAESIAESCAEEKByFwJuAotAAiRAAiRAAiRAAiRAAiRAAkElQOUuqASZngRIgARIgARIgARIgARIgARCAAEqdyHgJrAIJEACJEACJEACJEACJEACJBBUAqFMytnL5MqNu/a86UcCJEACJEACJEACJEACJEACJPARCSRNlMDu1cPa9f3X01EiZ2kYRgIk4H0EMJjD9u59940lJgFvIUAZ4y13iuUkARLwBgLOJuFolukNd5BlJAESIAESIAESIAESIAESIAEXBKjcuQDEYBIgARIgARIgARIgARIgARLwBgJU7rzhLrGMJEACJEACJEACJEACJEACJOCCAJU7F4AYTAIkQAIkQAIkQAIkQAIkQALeQIDKnTfcJZaRBEiABEiABEiABEiABEiABFwQoHLnAhCDSYAESIAESIAESIAESIAESMAbCFC584a7xDKSAAmQAAmQAAmQAAmQAAmQgAsCVO5cAGIwCZAACZAACZAACZAACZAACXgDASp33nCXWEYSIAESIAESIAESIAESIAEScEGAyp0LQAwmARIgARIgARIgARIgARIgAW8gQOXOG+4Sy0gCJEACJEACJEACJEACJEACLghQuXMBiMEkQAIkQAIkQAIkQAIkQAIk4A0EqNx5w11iGUmABEiABEiABEiABEiABEjABQEqdy4AMZgESIAESIAESIAESIAESIAEvIEAlTtvuEssIwmQAAmQAAmQAAmQAAmQAAm4IEDlzgUgBpMACZAACZAACZAACZAACZCANxAIM0g5ewV9+PipxIoR1V6QS7+7d+/KgYOH5NAvR+T+/fsSIUIEiRYtmjndxd8vye3bt+XevXv637u376zCEfHvv/+W3y9dkjixY0vo0NY66LVr1+X+gwc6zJypnYM9+/bL7LkLpEihgnZCQ5bXN8NGyOtXr+XrZEldFuzylSuya89eHS927Fj++NjL4PHjJ3Lh4kWJET26hA0b1l4UeffunRQuXlquXb8uhW2Y/fXXX3L02K/y86Ff5OXLlxIjRnQJHz683XzsefYfNETCqesm/uore8Ehxg/P7eSpM6Ro4UISKlSoEFOu4C5IUNr78xcv5OSp07L/fwfkwYM/JUrkyBIlSmSPFvl/B36W+QsWS57cOSVMmDCBznvegoVy/OQpyZQxQ6DzcCfhwsVL5aBqK9myZnEa/cmTJ7JqzVpZvXadFCpYwGncoAY+ffpUl+nAwYNy8+Yt1d7fymeffWbO9s6du3L12lWzXIbMiB0rllU7eP36tZw5e1bL9IgRI5rT4gD3/tLly/JZnDhOZdL1GzdkxKjvJXWqlBJdyaOQ7AIilz1Zj9lz58sJ9ZxmzpTRk9l+1LyCImOC+v5xp+KekA1v3ryRESPHSJiwYeSrRF+6c9lAx3H32bx565bMnb9Q0O/KmCF9oK/nKCHkxo2bNyVu3P9kiW3c5StXS9WadaRWjWrq3RDFKhhpIStPnDwpJpNIrFgxncoPI7Gv9u+M+nni11v6XZ6o66eYh1OZanLgLl+/4yDEsfffDx+aOnbpbvo6dXpTkhRpzP+SpkxratS0uemPe/d04tLlK5vDjHiFipU07d2335z54qXLdJw7d++a/YyDZq3amMpWrGKcOvydNHWaKU3GLA7DQ1JA5uy5TaPHjnNaJCX8TCXKlNdckqfJoH/TZcpmUoLRaToEbtm2Xcc/c/acw7jrN24yJVf3Tglbc5zHjx+bBgz+1t89TZsxq2nq9Jkm9TIzx3V2kCJtRtO0GbOcRQkRYXPmLdCc3r59GyLK86EKEZj2DkZz5y8wZciaUzMz2jLae88+/UyqQxao4t++fce0eu16q7Ro88j/9JmzVv4BOfnnn390WTNmy2nCcXC6Vm07mKrXruf0EkpRMmXJmdeEtl+jTn2ncYMSqAZtTGPHT/R3n8ATsviXw0d09oO+GWp1HxGO8k2ZNsN8+StXruo4tvcHEWb+OEeHQWY4c2qQSMc7fuKks2ghIswduWzveQ1q4Rv4NTP5NWsZ1GxCVPrAyBhPvX9sQRw5eszqvekp2XDq9Bn9bDdv3db2kh4/d+fZVAMEJsjjgkVLmgYO+dbjZUCGkBuQqY4c2BYvXU6/EyzjqEFqE55z471h/OYrXMy0bftOy6h2j32tfxcccsRb+l12bzA9XRJwJlPtT+EEQgXGTFvNug3k6tVr0r5NKylVsrgkS5pUbqkZOsz4zPxxrty6dVvixY2rc8+dK6f0691TjdSY5NTp02pkaZG0bNtBVi5dJGnTpA5ECXw/Sd8Bg+XRo8eyfvUKSZc2jR4p37p9h0SOHMkjlVfKl5QrW0a+/OILnd+rV6+kRp0GgpnC1i2aSYXy5VRYQj06j/v13ejv5cSpUzJp3FiPXJ+ZeBeBfgOHyJJly6VsmVLSzK+xpEyRXO7+8Yds3rpdzX5Ok58P/iKb1q3yN1Lrqpb91Cxv9GhRpXLF8uaoA/v1kRrVqgZJNmAmds7MaXomKiTMyu7Zu18ePnwoP+3eIQkTfm6uq6cP2nfuKps2b5UK5cpKwwZ1JV2atEqOPJQz587LgoWL5divv0mO7Nn0ZTHrunTRfH2sOhuyZPkK3c4xU1+nVk1PF80n8rP3vPpExT5yJYLz/dOoSXPp37eX5MqZQ9fSU7IBfZepk8ZL+rRpPzK995dfs2697odt2bDGocVOcBd05649qs9wRaZNnmC+1JWrV6V8pWoSWVl4jBg6RPLnzStRo0ZVFiCn5IcJk6RFm3YyZGB/aVCvjjmNrx9Qjvj6Hf6w9fOYcvfD+ElyRSl2C+f+aBaYqErSJEn0v+pVqwhMFgwXXZlpQkGBS58urWTPlk3UrJTqhGwJUgfOyN8Xf2/cuKk70uAFBzOI+nVre6SqMHtTo47y3bBvzfmNHDNWzl+4IHNnTZeCBfKb/TOkTy+jvxsmKZJ/rcyrxsjKwmukWpXK5nAe+D6BbTt2asWudcvm0qNrZ3OFv06WTNq1bil5c+fSgz2Dvhkmo0YMNYe7fWBjEosBB2PQwe087ETMmiWzHd+P43VemUlHjx4tWBW7zVu2acWua+eO+r4YNY0UKYEkSJBAmx9bymWYkxlyGb9FixSS/IWLy8rVa6ncGfDs/do8r/ai0C9gBIL//WNtdu8J2QAlsVSJ4gGraDDGPn/hoiT/OtlHU+xQNQwalyhWVCuZOMfyD2XhpU27N6xZKfHjxYO3dvnz5ZV8efNIs5ZtZNh3oyRvnlxqqUoyI9j3fylHfP8ef6AahvbEdbAOY9HSZWpmp6yVYmebd7hw4Wy9zOeJv0qkR/ivqvVennbbd+yS8pWrScZsuaRJ81ayc9duq0tA2EyeNl1Klaso6TNnlwpVqsvS5Sut4vQdMEiUGaKVH4RWn/6DzH5QdPAPtvC58hUSZToqM2fPsVJqEXnvvp+kqRJembLnkjIVqsjGTVvMeTg7yJcvj1prt08ePnrkLFqgwqaquhTIn89KsV6xarVWJi0VO8vMmzf104J3xao1lt4Oj1HuHr37So68BaRoybIyZOhwwTogS3fh4u/6HmXNlU9y5y8s7Tt1FazhNNyLFy+lXkM/zdDww2+nrj1kvpqFMFyjpi1EmVjqEcDMOXJLQzVSu3nrNiNY/2Kt2NDhI6V46fKSLXd+6dy9p/yp1hbSuSawUt3zBPHjS+cO7exGRkepZvVqsnb9BvPzj7YxfORomTR1uhQuUVo/B2COew537foNfW9/VTNJP6n1e7jPWKsBt2HTZsE9NRzyxejuoiXL9LOEe9y5Ww/B+hI8Y3h20J7R/jADYLhRY37QbRTnmLHCNWz/4ZkzHNKizMqsSXANZUakBzyMcPxiZrtbzz6SM19BKVSslB55fvP2rWUUf8fKbEuWr1glz54+09eHPDCcqzaAtTMoM9ZktWzTXtJnySFYu2fPzZm/QCvFrdTMuyPnTC5jfWPKlCnUWrxrjpIH2h8dT/CEXMZ6nBk/zvaXF2Q3wlBHyAw8Q5b3c8GiJdKhczerdPv2/6T5oH3D2T4reQoW1ff0nloPbukCKpedPa/nzp/XZdVlV++UkmUr6LWVlteD3G/aorV+D9SoXV/GT5xsGWx1jEE2yLCBQ4bKW/W+UkscZNiIUWqNdCnJX6S4lpPKZNkqjbefBOb9AxmB9a6O3jNqeYJ+Nl6qdj1j1mx9jEFNOEvZgHPb9zmem4mTpwruLe4F5EH9Rk304AniGw59DDxzcHg+beULztHfMBysHdp16qLfQbgGZIntOz6wzyasog4fPabLMOaH8fqS7vR3jDajTKcFz2bl6rWM4gbo98ixY4J/LZs3NaeDfMMa7c4d21spdkYEKMjDvh2s2/mGjZsNb4e/nujfeascUUsjdL+0So3agj6TMuV22p9ct2GjfhZQX7hPQY44fHB8PMAjyt11NaOEhyyHmn0LrFuzboM8e/ZMMqRLF9gs7KaDMtC1Z281M5hV/Bo1kLPKFKlVu46CmSrDdejSTQv2mDFjSutWLUTZiEuvvv21nxEHHSl0qizd75cuy/ETJ8xeaj2bHqU6ceKUvlZstRkMlIfxk6aY4xw+clR3Sk8p4dawXl09MtV34CB/wtycwOKgbauW2pzq/+2dB/xO1R/Hv0ahpVJSUsiMbNkZ2XuTvYvskb1CyswsGUlWpEGDUkR7K1Gqv1WhaFCo6Pl/P+fnXPd5PPv34Pf8fp/j9XPvc+45557zvvd8z/qe7+3Rq68xauK6ZE6Rn2gcOgXoTLs7gOgkw6BCiWLFAiYJQzfFihY2BhYCBnJd0L07ZnUXKnw51XAMNnl317KgswKHRhYD688+3yZNGjYwRl3e3LRZB8mNjRBCmP/+O22M9fh2zKD66+6AvqeGUcaOf0gypM8gXTt3kgMHDgi42eeOBg6d+IWLn5JsN2eVe7t00kHkIZnlela4H51/Al+pUQ1szg82MChRvKgZ2Nl6g/rxxIJFOqhZoyqX9aR61bvltdc2mkEbOjjp06fTyYX8xhjB1RkzmnO7SR8qgnim1kHdG4063qlGDeoZo0nrtCOAQRjen7ZtWkkuXVlGB9h2ahB359df6/v6tUkGRl9u01lt+3e9qozDoA4MClnXtXtPo7pYtkxp6abvyCHNZ8OmLQVGQeBgRKR9p27yyvr1AiM8TRo1kLXrXj5nAsmmZ4/58uQRGENKkzatKSd+w4VTBzCQQz4htz7f9oW5b9q0/ifOYOCkaJHCkjZKIzRQs39XZWWs5TLKChl7jcrc+1XmYvUQz8o9wFmybLmRlbqX29TP7LfeYjrkbdp3NjIaacC41ieffYZTx8HYFvicPjPA9n1XyumzhMGS+3ufXXGORi4He19fVjVYtDVQWR4/drSuntxmOu14j+HQ4UWHPuPVGWXsyBFmUu2DDz9yyuA+QQe7Zev2RoW3b68e5lliAICOWpdOHaVDuzZy7M9jZpLBHS+ez6NtfyAjRoweG7CdgYGgXLlymdWjG2/MYureFWcMfLhlA9j5tudoJyBL0B5hO8l9XbvIX8ePy/19+gnaKeve//BDsx0FvzNlutaRL5Azp7VvgXfz998SJmgxiKvfuJl8/LEOwO5pIXX0fdm8ZYu00C0utl1MzLuZPl16NVZ3hSlntptvNlkMp7+DOoM+ASaPjuq7VV5X06JxmACHyrd7VfSrHQmDafTJAjms5kFTA+1MMBer/l28ypF52p5OnvaoaQMGD+xvDFShTfDn1I6FToAOlpv1Pb6nRTMTJLnLEX8cUoxfoB17wTbq+cbBhnxshtWZSN9Lfn9jEz82zcLoAv5gHAXxdWbWc/z4CRMnXIMq2kn3bHpri9efdrxMGthwC+MuOkvk5ENn1D2lK1R2DLJsffsdc+9pM2Y5YXBiDcPAgACcrvx5+g8aYs7tf1oxnHTgh83B9Ro18+Ae1mEjMcprnc7keoqXLueBMQXrdCbQg42vU6Y9ar38HlEOXfUy+W3TobNHrVY64bRT5NGOs/Pb9ySYQRUd5Jh8u+Nog2Luo3t13N7nnGtjZ8LpCpznyJEjXs8Bz8UaV0D5uvfs48Hzsk5nWE1cu3m6SYtWHhiI0c6rDeLBpmu8G5Y97oPfq559zgmDE1Ud8+hKoOOH++ngzvmtgwfzLmDzN5zO7pt0Fi1e4oTBxm88d6TvfoZOgGR8Ekl9xzOEQZ9RY8YFJfLOe+8blrpSbsKhflSsWsMDw0vW6eDDhHE/O9ShvgMfsEHMUTsJpo5YT9RtPGMdXFkvD+qE7/uDd+ruGnWcMDBSgXz4Oh1ceHRG3RgQ2bN3n7msFmlN3iCLrMP7DCNNg4YMM16Tpkw3YbQjaIN4dF+sMSDQtEVwgyowoASjCG4XTh2wBklgtMVdn9zp4Nw8J5V/ajHN95Lf36gbYGrlMjjlzFvAlBcyCi4SgyrIp1s2wyAUnM2/DrDMb/sf5BCMP4Df77//4YHRphat23kZv7Htgq3/4x96xFO2YhWbhDnqio95Jlb2+HtXVBPDhLHvYmLksr/39cSJhHbMZgzvF+Q+8gK3es1z5v6QS/4c2ONd1cGKeafBwS0X0X4OGT7KX9Qk6xeJjImm/UHBw2lndEBm2K9c9awXK1/ZgGfgbs91xdhToEgJr3cS7VGeAoU9eJ+sg3ywz9n64agTjB7V6PHgXbNtt6oemnce7Zx1tk+y5vkXjFdi3k0YdYKcsM6mHaq/g/yjHXS3jzYN32Mggyo6qWfKZuW/jacTqCbtUAa3YGRKJ3tttHOOyGOs+nfxKkcGPDDUU7larXPYWA/UB7Sd6BvieaKc6OdYF49yxOadR48nmExNHYtRLGbI4b5UFYBwHWafd+z8xvzZ2du1z62SDBm8zWuHSg8qoSqUvf6wz8S6Sy+9xOzps78xg12rRjVVrfpWMOvzoa6kQQ2gaWPvPWPNmjQys3tYBYjEXaczde5Zcqg0wowzHFY3sUoGnXz3ikdenbWHIQPNSMBbYQNy81ZtjBrDmJHDjelgFdqC8sNYglrDMybIAyYQ4ALMEL+yfoOZGXcHwSwjHGb+gzmsFmLvDswbf6Grkb7PAvswrYNZ79S62mcdngPUvjDThJn7bXqsWaO62Vhtw2DPJlYP1bqZ9Qr7CLVB6zATmFfVy3799TfjhXviuWNm3Tr8xioHXOAnYUOn3COeIVZeQ78bCSvdt+mqhXU59XliVc46GF3Kny+veQesX7jHtLo/DDPj1pXUmeDU+j5hY751mDXGyk8oN2zkaF1N+UzmPzZbP9eRzQS3dR8qRFC1xh82+2OF/8vtCbPPn2/bZvaSoAzWYR8dVmoifYkirQNQi3bXJ3t/ezTPSesx8h+ug9aClcsnjp9Q0+VN5dW1L2jdSVhZDDcdhIPatVseTJ8x2yu6ezYfF+rWqWVWRKANgRl7qFVCLqNeWldXDT7hEwwff/KJ9Qrr6PuuVKxQwcSDIbDEyOVAN//nn39lhr4rNeo2MKq6g1RVGGbe9+37wUTBKu9lGTJIg8bNZdTYcaITpOcktfObXdJB2zasDo0dNdzrvQaHZ9TYDdQDoc6K9jQ5uduiaH9s+YO1MzZMuEd3e45P/0BbAfXbvpNo91D3Q8kYaCV17Nrd7DODjMHnoeAgYyAPoSZnZcwbugqIdhH1NtbvZiT9HeQRq8LRuvkLF5l9+ZX1XXe7s892t9v7nHP0LWzYcy6e8bjQ/bukJkfQf4HGErYAQa0YquK+boUaPcP+RfSBBg3o67y7CJfc5Ygvi5T0O20sCovBGTr4UInQ0bTXyxMo/dJ33ullPck33JVXJHwXD8vl7k46wsHvhjMddzT0O7Z5d/wv0QFdMIdvvemstvz9z99yUgd4+O7bVVde5RXFdhrtvg2vixH8gJC2DcE/OoBBBy6jq3MbblK6uqUDuX/lyfnz9NtUmbT8maVXn/6mcYfaDippo4b1w03OCbdg4WJjAbOmDrTcDs8Uaiv4nl4PVZtCR9HXoUPx4Ucf6beYEgZEd5Uvd86zSJfuUt9ozu8M2rnBIPf4ieNmkAo1FMvdCaQn8Nuzb6/bK6rzNGnSOs8CzxXP3Qyqo0otZUeCsQ2oRUItEe+jP7fxjU3m+5WhvveE+qArNf6SiMgPAzvXOMDETaPvra+fb6KzH5sn2Dc6a/pUr+/S4XuOqLv4jlMq1/ufP18+851HpIP3CJYkY+EwURNJHQj0vUp3XmC9D3u7oGKNTmkoB1VVTLIFcvZ7pXv97MHbpx0LTM5lwESVulXLn1Y5+5+TVJo058oQ56KeQC7DgSm+iQmXKZP3u5VeZcZlmr5qeJjr0f4HwzFwqfRfYuRyoPvrSo5s1L3dA/r1NvuSIaNPnHhdg+sITx1U9jdv3GDUTN9+912zX7i+WiOeMW2yuY7/sNcYnbf3P/hIVVhHyeqVy5yJwyGDBphv4OG9xT6wOfoOo22wk1NOInF6Ek37E6io7nYmUJhw/dEO4p1xO9RD28a7/e05+hpQ3cTzXLNquXn29trJk3+bPpNqC1gvc8Q3L2/UPlWs381I+jupU2tJQwlPr1yf/YG9XPq5FJk4fuw5aViDTagfgVQzsR8aEy827NmUQ59d0P7dRZYjmCSC9XRsL3lh3Trd9rBQRo4Yarb8WFLoL7dq2VxWPLNapkybIcOGDLKXJLnLEaegKfAkeGsbARDsm0ADNu3Mpl3fqFi98t0k7BvG/TuvfuAWDnvx3A6bmbGHp1TJEo636VCgU3Hmz71ydko/kO573/W6zwez8wn7evKZARf2zLgdBBOcFS4YRPpuWD+lHwGOxGGmFquc6zegkT/rMEhCxy6Y+1UFHRoR++HwmtWryQOD+uuH4j8y/g+NGxMsut9rEJ6rn3vO7NvAINTX9enZw8wsPuZjSAbh0AkdOWac6ZTj2cOh4bPPwB7dg8LDR46YcPa/t9TwATrQhe+4w6z84ZlgvxJWD6zDpx8wwLTPAYNB5NXq7dtwp3UvXiQOM7AYaNuPwdu4vnm0/jx6E7ivS2fzzg7WfVP+3l0Yt1EVIPNZFHcHAe+x+/niHcSeksKFCnrfAMscF8Bh3xJk1qD+ffUzIDW97oiVXkxWtWrZQhbOm+v1N1ZXz+EK6buLVWB0ZqxDnGgM82AVIJw6YO8TzrGb7jeFu69nb/O++8bBs8PqfbgOEy34e1HrqdtBHryklo6LFSniDEAgq6wcwNHKLhvPt67B2AVcYa2bGEDjvXnhjBy2cfBOoS2x8iC9pvvzoZ/NJIMNA5kfiUuMXHbu4/O+Yl9V1SqVzSdCKle8S/r2ul+yZcOK8NmBAfaToqP1ytrnjdl3vIvYa2YdVqBmPzrNdJDxjvnuB0YbsODxOfLelk1mchLGhZKTi7T9sWX3fa/c7YwNk3C8MDJGvy8n7773gZnMhqaC20HGnNA2cJJaqXbLGDxX7MGLybvpuiEme9DuhervuKJEdarqnGZipkG9uufEv0XrAT5zs3DRYtN/8Q2AVVBVDTcLBs2bNPG97PU7Zv27OJYjkIXTJj0sW9983Wg+zV/wpBcjaHhMeHCMsQMBA2OQTW6X3OWIu6wp6TwmK3cABpP8b23dKpgFh3oTZhTQOP2oG8g/0c3jmGFcvuTJsGcWYb4XaajeuTG0ApWdnWoIAelg9hjqe+E4CLJ72nRQy0w9tQG8UpauWGmsXY0cNsRER7qwFImN0r/8cthYjISaIzafVqlcyZQBAaFCBGMQU6fPkGpqCOLd996Xl156RXLnzhVONpwwMKKCDd+6/0za6DdcoPo0c85cM1tt9HackN4nWBXD/fs/MERa6WZYGLGZ+9gTZqkdBgQGDRkus2ZMczpW3rH9/3pq6XIzC+6rkmpDQyULVrp0L6BRG2pQr47cdOONunF/j5lpxkB7QN/eYT9T/cixpNMOX/Vqd8sHqoYEowYQ9JUq3WVuCXPtsHwHC3IwiAFLmrB4iZnPfr17mTDoIEKYPf/iWsmnEwBQF9O9e2Z1BZ3qcB02iOfInl0mPjLFxIXJ5Tc3vaXfZ3vCJBF+SuHeMXmFgwXFYYMHGaM1sPgK9R18GuOgdrRfVTVffCoBZq07d2zvVXBMAPXUFef2bVsL3tuFTz5lBut416zLkf1WtWS5zRiIyHRtppitjNn07RGTNag3eA8wS24HEql1hQmrKLVq1lDVurkyfuLDcvjIYSlTqpQxpILPAmTOfL0pP9S3V69ZI13vu186dWgvWfV7dRjYYsAazBiRzYPvMZw64Bsn2G+ojD0wsJ8x7ATVHcguPBdMKMFgxEqdzcWzwyctwnUYMMKC6D1tOxgDMtAo0D1kZqa9qX6LMFwH66ZDHxhojD2sU1m6Si0UV6taxXTqkAY2/cNa6uUjL5fGjeqbiSYYYYImBzq+cJDLGFhCpnbp3EFgsGTytOnmWgTiwMx0RyOXcSN/7yvUj2G8CYaecqsBDxjJwHdei57RcsD3SfH+VdIVGqhL4fteGMy6JyaxegU/GB7Ce4bVuYqq5o8yYyXvzpLFzTsJA0B4P/1N0BkQcfpftO1PqHYmvaob4h3atHmL3FW+vFGzxuTD+XBQt0T7hGeId9PKmMyqeYPPxXTu2E4nsNcZ4zpdVFbmyJFdvvnmW5mnKzC97+9u+iDR9hn8lSfc/o6/uOH6QbZgoqF3z+5m4tlfvLGjRpr63FqtjbZs3tTIJBi2gSrqAm0T0PYveuKxkNoGsezfxaMcgUExqM9WvKu8UeGFiqbVSrDcM6mWABw+WYTJMd2nJ+vXvWDa1ZQgRyyHlHaM2eAO4J6YO1tWqSW8GWrSGTq+1mGmt3OHdqbzZ/3COU6ZNNHooUMgrnv5FRMFM18rnl5svt0SThp48StoZwaDKawYQDUJK02dND9wWA1bvOBxGayNJfat4Q8NakO1wDdmRMLsPMLhw+ywIDVfBygYwGbXDmhRbWQhhCJx6JSo4REzsMFMNe7VTgcy7r1p/tLDt18wyztj5hxjiQ+dAHTUJo5/UNBRgOW5Pmo9b+a0KWE18thvuEQ7SrAgilXJQG7OzOlmQP3orNlGKCAc8oxB1dLFC803aQLF9fWH6ihm98EPaWAWceb0Kc4eLHxk+bjuL5nw8GTtDG010dHxwR6FwoXucJJ7eMI40U3c5jMUGNBBsPmq7jqBA5xgguBJ/aA1LGbiY+xIB9bE6uvnPHxXiwMkkeK9MUArUCC/jJvwsHkedkUus1qdHDt6hLS5p+U56rxYMYUabss2CYO+rFlvkkenTvKaIEAd2aqW2tQQivk2GwY858Pt2vWtWXVUYwbmMxj2HpAZGNxh1nyBrtihbg0dMdpeFlhb7HFmMIRvTkKdc+z4ieZTDAiETlvxYkWd8JGchFsHIkkT1mkLFSyog9RJxmw2OgRwKCfqpK9Kdqi0u3TqYMyUP/bEfLP3F+Eh4/E9Q/eH50Olg29joq5DhmJFvlLFCjJj6hQn2qjhQ41swoAOk21wmDDENzateihWxfBdxWXamYQcxH5LfNIFEwyRuGjlMu7h730dN3akeSfUEIqZnMqXN++ZSYqEaaPUqVLLkqXLnNU4rNjio83Y3uDPjR4xTLc9fCj99dMhWOmDtVbsuYPDc8Q7h4m25OaiaX9CtTPQJsE7DCuDGypWibgdi4QxBu1wmOzCn3Vos/DM8F48NmuGjBw7TrroBBEc2nZMkqB/AZeYd9Mk4Pov3P6OK0rEpxjMQqWzVYvmAeOiH/bquhfNxDbC4w8OcgATr3jfb1XruKFcrPp38SpH0F9S4zimn4z3+o6CBWTyxAl+sYHVtMmPCD6bAAvt0ApIKXLEL5Bk7plKO7UJrY1PQXfvPyg5svlvaHyC+v0JdSuomGBv3PXXXWc6834DhuGJzcjQSb9JZ8UxmxmNQwcC+cEsaqAZTqhv/vDDj2YmFipS/hxmpQ79/IsaUch+TsfVX/hAfliN+u77781KmO2oBArr9sfs0vcaD2aCA+XRHT7QOTpMk3RQ886WN53BVaCw1h/qEth/BJPk2PcSjcPrhtmlKy6/wnyE3V8aYIPBLgQ99mthIOjPYSYU17A3MDHuyJFf5Y+jf2i5bk3UM01MHi523MTWd0wW4LneoCta2E/kz8H4Azoui+Y/LviUBeo1Vs38ObznGHxluzmr05H3F+5C+SG/P2u9x0pzoL1re/SdhZpgpBMN/soQbh3wFzeYH/azqcVLZXqFytObvFaKgsXzdw2z5qinl12Wwcgjf2FC+SENGOYB10AyBarb/9M8Y9Lguuu89+DZ9GF4AumgDqMTE61LjFz2975CtqDtuUUHb75yDHlG5wp7gTG4i9RBPfUnlcfQcgk2QRdpuucrfGJlTDjtj1qulIE6GQRVtFDtDJ7Lfm3vwQ9tzcV0mBjbr9o4J/8+GfAdjvbdDFSucPo7geIG8oead4XK1dQQUiNjvCNQOF9/tOV/anuAfhUGoJG6WPXv4lGOYIAHQyrB2t5gPONNjgQrS0q7FkymnrfBXUqDHG/lxYekM+l3tlo2bxZvWWd+zwOBYEIiVrdzD+5ilSbTIQESiA8CF0LG2MEdvklJd+EJfLNrlzz19HLdRtEz4OTthc8V70gCyZNAMJka+RRJ8mSU4kpljaCkuIKzwCRAAiRAAiRAAjEngO0a0Rh3i3lGmCAJpHACHNyl8BeAxSeBC0UA6ph0JEACJHC+COzY9kmKVa0/X0yZLgmQQPwR4OAu/p4Zc0wCcUnAbQkwLgvATJMACSRpAtHs10rSBWLmSIAESCAKAqmjiMMoJEACJEACJEACJEACJEACJEACSYwAB3dJ7IEwOyRAAiRAAiRAAiRAAiRAAiQQDQEO7qKhxjgkQAIkQAIkQAIkQAIkQAIkkMQIcHCXxB4Is0MCJEACJEACJEACJEACJEAC0RDg4C4aaoxDAiRAAiRAAiRAAiRAAiRAAkmMAAd3SeyBMDskQAIkQAIkQAIkQAIkQAIkEA0BDu6iocY4JEACJEACJEACJEACJEACJJDECHBwl8QeCLNDAiRAAiRAAiRAAiRAAiRAAtEQ4OAuGmqMQwIkQAIkQAIkQAIkQAIkQAJJjAAHd0nsgTA7JEACJEACJEACJEACJEACJBANAQ7uoqHGOCRAAiRAAiRAAiRAAiRAAiSQxAhwcJfEHgizQwIkQAIkQAIkQAIkQAIkQALREODgLkxqS5YukyXLlocZmsFIgARIgARIgARIgARIgARI4MISSHthbxefd/N4PDJl+kxJlUqkbat79KgndCRAAiRAAiRAAiRAAiRAAiSQhAhwcBfGw8BgbvGCeWZQx4FdGMAYhARIgARIgARIgARIgARI4IIT4OAuTOTFihYJMySDkQAJkAAJkAAJkAAJkAAJkMCFJxCzwd3Dk6cK1BevuuoqWb3mOfnrr7+kfLmy0r1bV8mTO5cp2bfffS9jHhwvgwcNkDmPzZN33ntf3tvyplx55ZWy69vv5OFJU+TzL76USy+5REqWKC7DhwySLFmyOFROnz4tCxYtludfXCc//Pij5M+bV+6qUE563d/dhPn7779l2oxZ8ur61+TosaNyR8GCMmLoA5I3Tx5z/dSpUyb+htc3yt59+6XwHQWlaeNGUqd2TXP95VfWy3MvvCgff/qp5MmVWyqULyu9e/Yw1yZPfVRO/3dahmje4VBeuH///VdeevlVyZTpWmncqIG0b9NaLtH8w53S/M6e+7i88OJa+fW336VQwQLSpvU98vTS5TJ08CApWOB2E47/kQAJkAAJkAAJkAAJkAAJkEBiCcTMoMqOnV/LEwsWyepn10jD+vWketW75bXXNkr7zt3k4KFDJp/Hjh2Td9//QHr3Hyifb/tCqlSqKGnTXiLbv9oh9Ro1lc8+3yZNGjaQShXvkjc3bZba9RvLoZ9/dsrYq99AM6i65Zab5d4unSRduktl1bPPOde7du8pS5etkLJlSks3vX5I79uwaUvZt3+/CTNP8zd52qPmvoMH9jcDUeQDDgO6nn37S8arM8rYkSPk9vz55IMPPzLX8N/Or78WlNE6nM+bv1C++GK7dGzfVq699lqZMHGSzJzzmA0io8aMkxmz5ujAL5P07H6vXHPNNXJ/736GwR9HjzrheEICJEACJEACJEACJEACJEACiSUQs5U7ZOTWW2+RF559Rq7OmNHkq3PH9nJ3jToyf+GTMnLYECevWHGbM3O6pE6dMLYcM26CXJI2rWzd9LpcccUVJty9XTtJleq1ZdKU6TJ10kTZ+vY7uiK3Qfr17umspmHF7viJEyb8pre2mDATx4+Vls2bGT8YPylVvqJZPZs0cYLs3r1Hbr3lFmelr0WzJk6e9uzZa84x6Lshc2Zp2KCecy3QCVYGVyx7StKmSSP3desi1WrVlY1vbJIBfXvLTz8dkJWrVkutmjVkrpbVutIr7pQRo8eKLnNaLx5JgARIgARIgARIgARIgARIINEEYjq4y5k9uzOwQ85y5sgh+fPlNat07px27dzRGdhBrXGbrp410NU+O7BD2ByaVolixeTjTz41UT/SI4yZtGnV0p2UXJYhg/mNVT+4L7d/JVD/tO7qq69Wvx3mZ+1aNYzaZe36jaRyxYrSXAd3t96SzVzDKiLSatC4uVSvdrfUrV1L7ixZwibj93idqmJiYGfdXRXKGxVN/P561y6jptpIy+V2JYoXTfhJi5tuLDwnARIgARIgARIgARIgARJIJIGYqQi4lRAAAD73SURBVGUGykdGXcU7fjxhdc2GSaurdNb9888/Zm8a9qz5OvgdP3HceJ88cVLS6EAqQ4bLfIMlXD950gz+Dhw4KHv27nP+8ufLJ/nz5zVhMIBb9/yzkk8HnC+sWydVa9R2vl0HtcrNGzdI/bp1zICyRet20qf/IL/3CuSJ/FlrmnbQd/Lvk4GC058ESIAESIAESIAESIAESIAEYkbg7CgrBkn++ttv8t9//zmrcr/p748+/kSNljQMmPrll19uVs/WrntZoBJpVTX/+OOovLn5Ld0/V8rEvf32/AKDKJtV/bJWzernpJc3T26zUtaqZQupendlr+vY62ddAU1n2qSHTT4xeJu/4Elp17qVuXz99dfJMDXiAve07t0bNXacDBrQV27OmtX4RfIfBpUYxD7/wlqpV6e2E3X9htedc56QAAmQAAmQAAmQAAmQAAmQQKwIxHRwt00tXfbs01/at20tvxw+LAuffMqstrVo1jRofgf06yO91VhK527dpW2bVvLnn3/K4iVLBdYx+/XuZeLWVYuWMGAyYPAQ+enAASmkli4/+Ohj+fLL7TJv7iyzt23GrLkyfuLDcvjIYSlTqpQxpLLm+Rclc+brZZhap3xs3nw1wpJOKt5V3gwU9+zdK2nSJqhVwoLmVzt2SqW7Kpg9d19u325W4ewKXNAC+LmIgeJ9XTvLbLUKir14FcqXky80r/gzjnvu/FCjFwmQAAmQAAmQAAmQAAmQQLQEYjq4w4ALapQt27Q3+cma9SZ5dOokKVqkcND8YWXr+PHjMuHhybJ5y1YTFkZN5j82WwoXusP8xirYkwsel2EjRusA7hHHr4J+bgEO++UWzJsrQ4aPlKEaxrpyajmzx71dzU/cA59KGPfQw2aF8A79NMFkNbQClzpValmydJnMOmPtEnvxHhw90utTDCZgBP9h0JotWzZZu+4lef+DD/XTDAVMXjrf20N05BhBSgxKAiRAAiRAAiRAAiRAAiRAAsEJpNJv0/k127h7/0HJkS1L8Niuq+06dTXGRRbNf1x+/uUX8507GEWJxGGlbrdarcR34m7JdrOzf803Dahs/vjTT2qwJbukT5/e97K5/88//6JpZNPPHVzpdR0DPHzj7gZdzcM+O7eD2ic+m5AmTVrH0Ir7eizOsSI5dvxD8saGl43BmVikyTRIILEEIq3vib0f45MACaQsApQxKet5s7QkQALnl0AwmRrTlTtbjMzXXy+CvwgdDJLkui1nyFgZM14l+AvkcH+TBz8BLrvsMmPB088ls0cOFj5j5Xr06itNmzSS0qXulEsvvVQ+UjXSZStWym05c5pPMsTqPkyHBEiABEiABEiABEiABEiABM7L4I5YEwhgBbKLqmDCgmZ63euHb/LBOAu+8YeBLB0JkAAJkAAJkAAJkAAJkAAJxIpAzNQyT6lKJVy0BkhiVaCklg7UPGGo5ddff5McObJL0cKF9XMO56qSJrV8Mz8pi0Cw5f2URYKlJQESOB8EKGPOB1WmSQIkkFIJBJOpMVu546DO/+uFfX/4oyMBEiABEiABEiABEiABEiCB80ngvH/E/HxmnmmTAAmQAAmQAAmQAAmQAAmQAAkkEODgjm8CCZAACZAACZAACZAACZAACSQDAhzcJYOHyCKQAAmQAAmQAAmQAAmQAAmQAAd3fAdIgARIgARIgARIgARIgARIIBkQ4OAuGTxEFoEESIAESIAESIAESIAESIAEOLjjO0ACJEACJEACJEACJEACJEACyYAAB3fJ4CGyCCRAAiRAAiRAAiRAAiRAAiTAwR3fARIgARIgARIgARIgARIgARJIBgQ4uEsGD5FFIAESIAESIAESIAESIAESIAEO7vgOkAAJkAAJkAAJkAAJkAAJkEAyIMDBXTJ4iCwCCZAACZAACZAACZAACZAACXBwx3eABEiABEiABEiABEiABEiABJIBgVQedf7KsXv/QX/e9CMBEiABEiABEiABEiABEiABEriIBHJky+L37mn9+p7xDBQpWBxeIwESiD8CmMxhfY+/58Yck0C8EKCMiZcnxXySAAnEA4Fgi3BUy4yHJ8g8kgAJkAAJkAAJkAAJkAAJkEAIAhzchQDEyyRAAiRAAiRAAiRAAiRAAiQQDwQ4uIuHp8Q8kgAJkAAJkAAJkAAJkAAJkEAIAhzchQDEyyRAAiRAAiRAAiRAAiRAAiQQDwQ4uIuHp8Q8kgAJkAAJkAAJkAAJkAAJkEAIAhzchQDEyyRAAiRAAiRAAiRAAiRAAiQQDwQ4uIuHp8Q8kgAJkAAJkAAJkAAJkAAJkEAIAhzchQDEyyRAAiRAAiRAAiRAAiRAAiQQDwQ4uIuHp8Q8kgAJkAAJkAAJkAAJkAAJkEAIAhzchQDEyyRAAiRAAiRAAiRAAiRAAiQQDwQ4uIuHp8Q8kgAJkAAJkAAJkAAJkAAJkEAIAhzchQDEyyRAAiRAAiRAAiRAAiRAAiQQDwQ4uIuHp8Q8kgAJkAAJkAAJkAAJkAAJkEAIAhzchQDEyyRAAiRAAiRAAiRAAiRAAiQQDwQ4uIuHp8Q8kgAJkAAJkAAJkAAJkAAJkEAIAhzchQDEyyRAAiRAAiRAAiRAAiRAAiQQDwTSxjqTn2/7Qr77/nvJeFVGKVK4kFx//XWxvkXI9Pbt3y8Ln1wiXTq1l2w33xwy/PkIsGTpMpFUqaRd61bnI3mmSQJJgsDuPXvkqx075dS/p6Rw4Tsk+6236mufyuRt85atsmnzFhk7aniSyGtiMpFcyvLkU09L6tSppX3b1onBEfO44x56WErfeadUq1ol5mkzwfgkcODAQTl85LDfzOfMkUMuv/xyv9fiwTO5yJN4YM08kkBKJBCzwd3BQ4eke88+gsFdmjRpxOPxyH///Se3ZMsmb72xwWH7yaefyalTp6TUnSUdv8ScnDhxUp5Z/ax0aNfGSeb1jW8KBle33pJNOnVo5/ifrxPfMqHsU6bPxNhO2ra6x+nsnq/7M10SuNAETp0+LYOHjpDnX1xr6nratGlNvc6Y8SpZufQpyZc3r+zYuVNWr1kTd4M7dCo/+OhjaVi/roM1Hsvirxyb3toiaVU+J7XB3XPPvyiXXXYZB3fOG8eTJxYuksVLlvoFsfSpRVKuTGm/1yLx9G27I4kbblh/9TAe5Um45WU4EiCBi08gZoO7wcNGmhn82Y9Okwrly0mGDOll17ffybqXX/EqZftOXWXk8CExG9wtXbFCFukqnXtw17J5U7nhhsxSpVJFr3ufrx++ZcLKxeIF88ygzq5inK97M10SuBgE5i9YJM+98KL0ur+7tGzWVLJkuUF+/OkneXX9a3LJJZdcjCzF7J4jxjwoV115hdfgLmaJX8CEkks5LiAy3iqJEbhcB/zPLH/6nFxlv/WWc/yi8fBtu6NJI1Qc1sNQhHidBEgg1gRiMrjDCt37H3woDerVlTq1azp5LHB7fsHfuS5Bbetc/yh9zqiB2dhQ16hbu5b9eYGO3mUqVrTIBbovb0MCF57Au+9/YFbl+/Xu6axMQwW6W5dOFz4z5+OOPjLlfNzigqSZXMpxQWDxJkmNQJq0aQL0IWKZU++2O5YpO2mxHjooeEICJHD+CcTEoAr2cNxRsIB8+9138s8///jN9frXXpfW7TrKyb//lvkLnzTn27/aYcJCVWj4qDFSrVZduaPYndLsnjZGvdMm9OK6l6Rbj56y7YsvpVnLNtKwaQtzqWv3+2XZimfk119/Nek9OGGi8f/f7t3m97fffW9+44h7Y6UBcYuWLCMDHhgqX27/yt7CHHd+/Y0JhzxUrl5Lps+cLVOmPSo2Xa/A+iNYmSZPfVQenjzViYJz/GFvSalyFaXMXVVk9tzH5etvvpF2uppZpGRpadO+k7zy6lkVVht51bPPSc26DaVgkRJSv3EzeXXDa/YSjyRwUQgUvqOg/PzLL/LLYf97YgJlCqv5nbreJ8VKlZPS5StJr74D5ODBgyY4VLtRT7H6Zx3UPzt2uVfGT3zEepkj6uXQEaMdv1B1pH3nbqa+Tpg4SUqWrSBvvLnJiWtP9u7bb+7/2Wefy9vvvGvOV6953l5W9VORFc+skirVa0vhEqWMTILssQ51GXW8cfN7TF2tXruekTn2Oo7IB1TNIM9Q51H3Q9XncNJ13yNUOU6cPGl4gn+ZCpXN+WnlbF0geYvrwThDHf3pZSvMM0XaJcqUl559+5v3xKaN41tb3pbO9/YwDGvVayQvv7LefZnnJBAWgXDety++3C4DBw+T4qXLmzYUMuPo0WNB227cPNh7jusXQp5Atsyd94R06NJNChUvJeUrV5VHpkyTf//9F1kwLhp5Ek66Nn17tH0oyKq2HbuY/EDOzV/0pA1ijpB/j86aI88+97xUrVlXHnp4svGHfEFZatSpb2RjvUZNdTvNGq+4+IH7QDZAdpStWEV69xtoNMJsQKjRtmjdTgoWLWnSnzl7rrhlV6DnjfiHfv7Z5KdS1RqGJdoe7BenI4HkSCAmgzuAgSokBksYFKED9drGN7wq3bXXXCO5cuUyfjfemEVuz59frjizIXrhosU6KPxXOrZvJ8MGD5S/dQDYd+ADDm+oe6GzdW+PXnL0z2NSvmwZcy1fnjyqPnWlXKL7fZCeVdX488+/BCsLx44dM+FwxO8Ro8dKyeLFpWWLZoIBZduOnc3AEIFghAXC6ksdcDZp1MCs/L24dp3MefyJcwaBJlH9L1iZdn79te45+toGNefz5i+UL77YruVsq4ZessrUR2dK7fqNzZ6l+7p2kb+OH5f7+/STNzdtduJBIA4dMUpuUmb9+/Y25e3Rq+856q5OBJ6QwAUgUF9X6bG3tkq1WjJ42AjTUP/5559B74zJHDTqn32+TZo0bCCVKt5l3nXUATS8WW5IUO1c9ezZRn/r2+8IjA889fQy+e3330362LP71NLlgv19cOHUkfe0/qPjsXzlM1KsSBHJnPl6E9f9X/r06YwcwWrB1RkzmnO3QaiTOiiCPMBevFo1asjWt981HRGbxss6MYMJotq1asj4saMl1223mY7lTz8dsEEE+Rg7/iHJkD6DdO3cSQ4cOCCoz++8+54TxvcknHTdcUKVA1oW2BsNOZQ/X141PvWU7hGe4SQRSN6G4gwNjhmz58iNWbLI4IH9pXOH9vLRR5/INJVz1n308SdmYLtd2woYmypbppQMHz1Gfv/jDxuERxJwCJw+ddq0v+hb2D9M3sKFet+wHx9t/J69e02/AsZ6MFGC/kCwtjvUe457Xwh5svObXfLiupeleNGiMuHB0VJbZQ4mxt2TIdHIk3DSRRndzvahevbpL9dcfbXcf183M8jE4A0DLOvQ51nz3As6WT/WyFjIF7je/QcKJryv1rjdNS6e3ZDhI42fjYv2oW7DJqav1KRRQ6lWpYp89Mmnsv2rhEn4j/W8eau2gnamT68eUrDA7Sr758uoseNMEsGeNwJgkL/2pZfV0F5Hs43nmPYl7btk88AjCSQbAjr75df9b98Bv/7BPL/Z9a2ne6++ngKFi3uy587v0ZlrzxubNjtRdPBi/Feuetbxw8mJEye8fquAMOF0lsb4z3l8nvm9aPESr3D4MeHhSZ7SFSp7+esKn1d8pIP8bHh9oxNO9wIaP119M37aQTW/UQbrfv/9D8/dNep4mrZobb3OOQYqk642eHSGywmP83qNmnn+PXXK+OkA1lOgSAmPzkJ5VNAZPxVanjwFCnt0FdP81s6sJ2/BIp4+/Qc56eCkSYtWngqVq3n58QcJJIZANPVdZ4A94x96xKOzrKbuFL2zrEcHCh4dfJmsoN7mL1TUyRbeW8gG7Sg4ftq4mrj9Bw0xfhMnTTHvPOoVXL9Bgz1NW7Y2frpKb/zeee99E0cHiZ5w60ju2wt5ylW623P06FGTRrD/UE91cskrCMqCNA4fPuL46yy6yYeuOBo/XzmmM+ye4qXLeRDXOqShgzv704O4t+Ur6BkzboLj53sSTrq+cfDbXzl85RDCNWrW0lO5Wi2cGudP3obLWQfANhlzhMzWWXaP9dcJNMNENTyccNrhNmx1Ndbx40nyIxCpjEGdQLvt+wd5YJ19r+xv9/u2/4cfTNwX1q6zl72O/trucN/zCyFPUDbbN7AZ79a9p1e/Ihp5Ek669n72aPtQam3Xepmjrn55cuS53fPHHwlyFfIll8ozXUFzwukEnXkO02bMcvxwgn4NZN/u3XuMP2QD+nJWntrAx48n9A9Va8mjq3lO+4Lrk6dO9+TMW8Cjk/OeUM8b8n/I8FE2WR5JIO4JBJOpMdlzZ0e6eXLnkrkzp5vVOcwO68DLWND86N2tctVVV9pg5xwxU7zk6eXy2htvSqZrr9HZ5HwmzL79P4jdu5YuXTovoynnJBKGB1YGrKtYobw5tWpVO3Z+ozP1+QRlsA4rA7lz3abmmI9Yr0Qdr8t0rbFUh0QuvfRSKaSqbVdccbmzZwl7BTHTpQ2MuQ9mwbCKiVkzqHNap2+kqCATFajO6oW9xiMJXCgC1+hq/PChD5g/qNNghQbvac6cOaTSXRW8sgFVom26WtSgfj19569wruXInl1KFCsmmJWFq12zhmCFGyv1qKOvvf6GsbZ5/XXXmVnXVi2bm9W+LLo6VLjQHfKeyplw6wjiXqkr/dG6tLqil0nrsHWVdeXxMZ05PnjwkNyQObPRPkDeX1HVpZO6alCsWBFdlVetgH0/2Cjm6JZDiJc3T27VIPjNK4z7B7QawknXHSfYuVsOIRzKgRlwt/OVt+HKIqzMrVTrxe+9/6GRnZdlyGBm2iHTrsuUyahBQTPCbXQnr2pgwHCGCkJ3FnhOAua9WLF0sRcJ9ycQgr1vN2fNamSEdujNJ1mgKVCvTi2jceCVoOtHuO85opxveYI6CDXwdS+/ara8FC5USA4dOiTHfDQkIpUn4abrwuKc2v6Y9airPGE0b9sXXxhDevAvo1ZMsU3Hug9VJsCwXNPGDa2XOTZr0khXJl8ymhxZs96kWk1fKtMWRpa6A8I4H9qPHapCmVv7Zw89kqDqiTDQ+MAqIJ5bjWpVgz5v2GF4Qg2Bob9ZoXxZYwgsMe2BO488J4GkRiBmapnugkFdq5yqTk55ZKLZg/fqhnP3kdnwULFq06GLbHnnHRnQt5exvue08egZnXGpU6dyBkHWLzHHNGkTxrXWmiU6bidP/p2YJCOOi72KWiqveDApb/OkM2zmGjpGe/buc/6g2lClciU5cfKEV1z+IIGLRQCTILMenSrXXnutQJ3Z12EvLvbPuQdHNgz8jp84bn5iwuOmm26UjTrR8+amt0yjXr3q3VKvbm1BRw778lQbQBvyu009iaSOpE0T07ksp5No6yv2DT+ugzt0WsaMGq6fYrlFTphynZVjtszuYxrNl03D7W/Po03Xxg91hBqqI3PPBPaVt+Fw/mbXLrM/8tixP40aGayoOh1RleX/aAcNnbSMqvJKRwLhEMC7eUfBgl5/+MYdXKj3DWGeWbZEBvTrbeTGoCHDpHrt+vLXX3/hkl8XzntuI55veQJ7AsNGjtFJklwyaeIEuatCuYSJX1e/yObFfQwlT6JN130Pe57xqgTV+OMnzvZF8KkVt8NEF/o1V12ZENZes20B4qJ9OK2DtCvVSrE/B7mB69gv7O4LQRUTfaH06dKbaMGe95BBA2TurEfNxDrsHVSoUs0MLP3dj34kEO8EYtbb8beKpOpEhg/2wHm7s52d3Xv2GoMK2KPStHEjE+zOkiX0+1hqyMC3x+GdyNlfIYTd2YCBz9CA4Nt42JCLDiYc9sp8qfre2EMS2p0tU+iw4YXImzu3CYjZshFDB3tFwmoeZ528kPDHBSTgr75jogaN8J9+Ok+Ybcd3J9fqHhLsx8LEBhzSeXPzW2bvlc1+rRrVRVWpzDV0aPCe47MmGXQVaObsx2SPyoyJ48aa4OetjkQhU7Cvt2qVytKlYweTN6yIJRhL8Z7AseUM95iodKMoh798hcMZ3xfFAH7U8CFyW86cJpl0uo/RrMqqLMcqXi6dBFi/4XV5YEA/5zaQZYEMcTmBeEICPgQ+1P2cwd43BMcqFeoj/mDMCQY9YAgNe7rOurNtdzjv+dl4EZxFUQ/fff99wZ7fsTpRZN333++Wt7ZutT+jOiYmXV8tJrCEg4GtQA4aUWgXXlm/Xu5p0dwJ9vyLCZOAsKiO9uEWbR9gC6GvWmDGYNDt8A3MrDfdZOw0LJx3do8fwhxXWwV4znChnnfN6tUEf4gDI3XLV66SokUKm7j8jwSSE4HUsSpMxarVdYPsKLPM/uX27cZK3NjxE02DXqN6VXOb9FoBoUKwafMWNSRwUGe1T2qFvdFUSHTmdu/ZYyyrwXhCuC5H9lvN0jw6QFbFMty47nA9u99rNgrDEhOsKA0aMtxs7v35519Ezsp+dxRz7q9M5wSK0gOqCvi0xAoVQLPmPGYsSaGjBEMssChFRwIXi0DfAYPMKs3KVatN5x2N8oDBQ40KceMGDfxma0C/PmYGvXO37mZAh83tHbvea9S4+/Xu5cSpWaOaHDnyq7yuq3f2kyZotKF2g/thdbBkieIm/PmoI5Apn362zWy2x+AzXJcze3ZjGAUW3WCRD+X78cefwo0eMFy06UZbDn8ZCYdzzhzZTVSo2OP5ff+//5mP3LvTgxEVyPnuPfuI7p3UFdpN0lqtBJuZ/yg6wO60eZ6yCIR63zAJNHrseCNroL73/gcfGEBY2YLz13aH856byBH8F209RL3/5ZfDxvIkJkCgufDue+9FcGf/QROTbj81dAcZjElwGM5bpRYvYagGavKBHFQ3oXqNfguMr8CgFuIuW77SrLoVKVzIRB2o7QPUKzudaR8wMdb/gSGO9eR7u3ZW4yo7TD8TBqFg6RKrkLBeDNX8UM8b/VNYTEffE/k/fOSwo30RKO/0J4F4JeA9PZKIUvTq0V31w1er1bxnnVSg8/7EY7MFRzjM1nfp1EEmqxnzDWrmdunihUZ9c6qqb86cM9dUUoS7W2e/jQujsa9Tq5ZakFpszJZj787qlUsT4kb4P2bIXln7nOimX7XKtUOuuy6TDHlgoGx880357beEPXD+kgxUJn9ho/GbMHaMjL30IfNZBuQNLrt2Poc9MCia5BiHBGJCoF3b1mb/AtSGsAcUDvumRg0fKrVqVvd7j3p1apsZ0wlqYQ0WMOGw52y+ygjsn7MO1uEyX3+9HNUOTbW7q1hvqV+3jmmc4QfVb+tiXUda39NCtuqePzWmJJj0waA0HDdu7Ei1hDnRmOqGee58efOe2RMbZHYojISjTTfacgTKUijOUMXv2eM+0wYsWbbczL6XK1s6Ibkz7wjydOTIEVHDDGYFBeqo7dpgwLc30G3pTwJ+CYR639JektbIGbyLcNgj3Lb1PWbfHX4HartDveeIG4mLth7e162LUUHEABWTzcg/LIInZhIb+U5MuljxhPyGxUrsm61UsYLMmDolKA6swi1e8LgM1sEVPi+FP9T7hg3qyZgRZ1clMZGnxlN0T90kwQQgHNoHtBtw4PjH0aPmE1K2nwlbDt27dZX06dNLqOcNi+g2HiYLy5YupVuBepu0+R8JJDcCqWAuxl+hdu8/KDmyBZ6N8RcHftgfhtnqq6/OaJbR/e0lgWDY/8OPaio8p9fG+r26rwzL727z44Hu4+sPgw6o6BAGsXJQ+cA36cqVKS0zpwcXYIHKFKu8YOYOuuY33JDZdHxjlS7TIQEQiLa+Y8XlB63LqOeYofZVp/FHFwMfdObRObgl280mrr9wkfrFso6g7u/a9a35ZEmk6s9YtYI8gJqRP/kXabls+GjSTUw57H19j6E4w8ABvnmKST238Qt3OngHvvv+e/3Ey41UL3eDScbn0cqYUEiCvW/o3mB7Bcze59FtDlYd3J1moLY71HvuTiPUeWLqITSc9u3fJ9hr6DZEFOqeoa5Hku6n+u1PtXYsL65ZZYy+YVX+lmzZTH8t1H3c1/HJE7QXaCuCyYa9+/aZvXF2YcCdBlS48QmDDBkuUxlzk9dEX6jnjYHxT7pyh74nBoR0JBDPBILJ1JgP7uIV1EuvvGqW+WEBK9vNNxv1MaxEQo3g0amTpIF+14uOBJIrgWBCIrmWmeUiARK4cAQoYy4c61jfyT24szYJYn0PpkcCJBAZgWAyNWZqmZFlKemFxorfgxMmyuNPLDDqZdb6E/aIQB2MjgRIgARIgARIgARIgARIgASSMgEO7s48HRhoeHvTRrPZF0v+UMWClSdrdjkpP0TmjQRIgARIgARIgATOBwFYlPx2xxdeKpDn4z5MkwRIIDYEOLhzccSHxUvdWdL8ubx5SgIkQAIkQAIkQAIpkgD2DoeznzpFwmGhSSAJEojZpxCSYNmYJRIgARIgARIgARIgARIgARJIMQQ4uEsxj5oFJQESIAESIAESIAESIAESSM4EOLhLzk+XZSMBEiABEiABEiABEiABEkgxBDi4SzGPmgUlARIgARIgARIgARIgARJIzgQ4uEvOT5dlIwESIAESIAESIAESIAESSDEEOLhLMY+aBSUBEiABEiABEiABEiABEkjOBDi4S85Pl2UjARIgARIgARIgARIgARJIMQQ4uEsxj5oFJQESIAESIAESIAESIAESSM4EOLhLzk+XZSMBEiABEiABEiABEiABEkgxBDi4SzGPmgUlARIgARIgARIgARIgARJIzgQ4uEvOT5dlIwESIAESIAESIAESIAESSDEEOLhLMY+aBSUBEiABEiABEiABEiABEkjOBDi4S85Pl2UjARIgARIgARIgARIgARJIMQRSedT5K+3u/Qf9edOPBEiABEiABEiABEiABEiABEjgIhLIkS2L37un9et7xjNQpGBxeI0ESCD+CGAyh/U9/p4bc0wC8UKAMiZenhTzSQIkEA8Egi3CUS0zHp4g80gCJEACJEACJEACJEACJEACIQhwcBcCEC+TAAmQAAmQAAmQAAmQAAmQQDwQ4OAuHp4S80gCJEACJEACJEACJEACJEACIQhwcBcCEC+TAAmQAAmQAAmQAAmQAAmQQDwQ4OAuHp4S80gCJEACJEACJEACJEACJEACIQhwcBcCEC+TAAmQAAmQAAmQAAmQAAmQQDwQ4OAuHp4S80gCJEACJEACJEACJEACJEACIQhwcBcCEC+TAAmQAAmQAAmQAAmQAAmQQDwQ4OAuHp4S80gCJEACJEACJEACJEACJEACIQhwcBcCEC+TAAmQAAmQAAmQAAmQAAmQQDwQ4OAuHp4S80gCJEACJEACJEACJEACJEACIQhwcBcCEC+TAAmQAAmQAAmQAAmQAAmQQDwQ4OAuHp4S80gCJEACJEACJEACJEACJEACIQhwcBcCEC+TAAmQAAmQAAmQAAmQAAmQQDwQ4OAuHp4S80gCJEACJEACJEACJEACJEACIQhwcBcCEC+TAAmQAAmQAAmQAAmQAAmQQDwQiNng7sCBg7Jj59fxUOaLlseRYx6UrW+/E/T+m7dsldEPTnDCvPPuezJh4iT5999/HT+ekEBSIvDnn3/Klq1vy4pnVsmr61+Tr7/5xit7Tz71tDz19DIvP98fS5YukyXLljve4cQ5eOiQDB0xWr7/3/+ceDyJLwKQa5Bv77z3fnxlPEa59Vf+aNqJGGUnySTz2++/y5fbtwf9Q58DLhxZcaELRtkUmrivzA8dI3mF8C1/OO/xvv37TZv3w48/Ji8YLE3MCcRscPfEwkVyT9v2EWcQAvqFtS9FHO9iRjhx4qQsXrI04iw8s3qN7Pzau+Prm8iOnTtl9Zo1jvfip5fKgicXy7fffe/4ffLpZ/LBhx85v3lCAheDwH///SePzpojZSveLe07d5NhI8dIj959pVa9Rubvo48/Mdna9NYWeUsnLQI5j8cjU6bPlKnTZwjO4ULFQZg//vhDVq5aLQcP/YyfdHFIYNe33xn59pTKuUhctDI4knvEOize7edeeFF+/uUXJ2l/5Y+mnXASTCYnmzdvkfqNmwf9Q7sIF46sMAEv4H8pWTaF06fzJ/PDeTz+6lA48S52GN8+m7/yh/MeHz58xLR5v/7628UuEu+fxAmkvdj5G6GrWVddeYU0rF/3Ymcl7PsvXbFCFj25RDq0axN2nGgDjh4xTJo1aSy358/nJNG+U1cZOXyIlLqzpOPHExK40AR69Rsgr7y6QerVqS3t2raSAvlv1wHX77JDJzCWLlshn372uZQsUTxktlKlSiWLF8wTHPFHl3IIQK49PmemFLz99ogKfSFlcEQZCxJ4+1c7ZMADQ2Xz6+udUNGW30kgmZ5UrlxRXnrh7CTnI1OmmRX6J+bOdkqc6dprnHOeJB0C4fTpopX5/upQ0il54Jz49tmiLX/gO/AKCXgTuOiDO5OdeOzQXaA835w1q+DvXMdO8LlM6HOhCED9EgO7Af36SM/u9zq3zZAhi2TJkkWqVKoYkSpxsaJFnDR4knIIoJNTo1rV6Ap8gWRwdJkLEsuV70SVP8gt4v3S1RkzCv6sw3m6S9NJgdvzWy8ekzIB1zseKJuJkvlhpB/ovhfP37vPlqjyX7xC8M5xQiBmapm+5YUaYet2HY0aSsOmLaRoyTJm1vLL7V+ZoHv37TfXP9PZ/bffedecr17zvJMMlrFbtG4nBYuWlKo168rM2XPl9OnTzvWHJ081KmHPPve8uf7Qw5PNtUD+w0eNkcefWODEx8m8+QuNKpn1RNyJk6bInMefkErVakrJshWk36DBAtUZ67p2v1+WrXhGfv31V5PnBydMNJewzwjxGze/RwoWKSHVa9czZbfx7PF3VSV7YOhwk3aV6rUF8bFnKZB76ZVXjcobrq9/7XVzz5N//y3zFz5pzjGTBTad7+1xTmca6q54Brv37AmUPP1JICoCUBfGpMN93boEjH/JJZc4106cPCnjJz4ipctXkjIVKptzd32ePPVRU3+cCH5OoArdtGVrKVS8lLTS93rHjtB7fF9c95J06nqfvL7xTanbsImJi99vvLnJ6w6B5AbyOHfeE1KjTn1Tr+s1aipQm/N1SK9Ji1ZyR7E7pUbdBgJ5c/ToMSfYqmefk5p1G5o06jduJq9ueM25hpOXX1kvnbt1l8IlSkmzlm1MnbYBvvhyuwwcPEyKly5v0sA+Q3faoWRlqPj2PvYI9SDkv1qtuqY8ze5pI59v+8JeFjDt1qOnbPviS5NXyHfrQuXFhnMf8TyQpnVQ8cWzxj2KlCwt7VRTwc0rkAxGfOx16tm3v2FV5q4qhhtkrnWB8h7If+nyldK730Ab3RyxvxRy9fiJE+Y34oZ6x6bNmCUjRo814ftrm4L4UGuG8y0//CJtJxAnGvaIlxxcKPkS6Pmi7MHqJtTnnlYthF59BxjZVaJMefN+uVVrkUY4silYHUcabof+BeROhy7djMwqX7mqYPXSvfc+kMz6W/sH6MfcVaW6qT9tO3aRb3btcid/zrnls3zlKkG/BHUHafiWE30hvK/FSpUzPMDl4MGEvY+h+nS+N/WV+SgP/sY99LCUKldRatdvZFS2bZmD1aFwygy5gj4U9viib2fbAH/+UPtGHX1ry9te2e474AHzPlhPxEV/MFCfLlCfDfF9yw+/U9reBOt/IoyvCyXzfMPzd8ogcN4Gd8eOHZN33//ANGglixeXli2aGd34th07m4FR+vTpVNUwv6RJm8bM0OH8+uuvM9Q//uRTad6qrRn09OnVQwoWuF0F3XwZNXac81RgvGXNcy9oJ2SsZM58veTPl9dcC+SPDo573xoCf/f9/7SDcrbTgrhPLFgkq59do2qi9aR61bvltdc2msEVKhBcvjx5VI30SrkkbVqT/+y33mL8X9ZVDOynq12rhowfO1py3Xab6Vj89NMBc93+95iWY/eevdKlYwfJmTOHMTTRvVdfU6ltGPcR8d9TjnDXXnON5MqVywxyb7wxi7n/FZdfLmVKl5I3N23WweRaJ6rZDzVzlvz511+SI3t2x58nJBALAjBiUrRIYUmbJk1Yyb3/wYdmgNCxfVtTVxc++ZTus5vhxN359ddBDTJhImbs+Ifkr7+OS497u8oNN2SWQTpJEsr9+NNPRu4MGDxUShQvJrg/6ul9PfsIjBVZF0hu9O4/0DTCV199tXS/r5vpkA8ZPtL42bgwBNPlvvtNx6tLx/aSR+vo2pdekd9+S9gXgU7a0BGj5Cats/379jbyo4fW+XUvv2KS+PjTT02HMePVGWXsyBFGBdvuqUUnAzJzz969MmzwQKlWtYoxWAP5ChdKVoaKbxLx+W/hosXyzz//Kqt25p7oOPUd+IATCkwxIXdvj15y9M9jUr5sGXMtVF6cBHxO3v/wQ0Ga1kHe4VlnSJ9BunbuJAcOHBDwss8rkAzGgAgD548//lRa39NC6qgs3rxli7TQtgSdJrhAeQ/kv3fvPvnks89s1szxl8OHTdt2+tQp8xtxMSAO9o5lu/lmyXLDDSZ8rttyGtltE/UtP/wjbSeiZW/zEO/HUPIl0PMNVTfRjs6YPUduVG2EwQP7S+cO7eWjjz6RaY/OdJCFI5uC1XEnIdfJzm926YTHy1K8aFGZ8OBoqV2jhpnQxQDRukAyq2v3nkYtvmyZ0tKtSyc5pH2Xhk1bCoxxBHLggwkwvHeNGtSTchoXBj7u793PiYKJZExuffb5NmnSsIFUqniX6XfUrt9YDv38swTr0zmJuE58ZT7KA5ZffLHdyOlrr73WDMRmznnMxApWh8IpM+QKBo/LVz4jxYoUMf1GJOzP/7//Tps67ju4xQQKZLF1iItJm0B9ukB9NsT3LT/8YHAvWP8TYdwuHJnnDs/zFERAZ6b8uv/tO+DXP5DnmHETPIWK3+lc1krgyZ47v2fD6xsdP+3MGD+dzXD86jVq5tGOg/MbJ9pAe8pWrOI5deqU4z956nRPzrwFPCqgjJ/ORnly5Svo0UGbEwYngfx11t7Tf9AQr7A6G+7R2SHHD3ErVq3hUUtdjp92Yk2edYXN8Zvw8CRP6QqVnd84OXHihNdvnW3yFC9dzjPn8XmOf+7bC3m69+zj0dUAx09nfUz6r73+hvFD+PyFijrXVdh5EM+6v44fN+FXrnrWepljyzbtPTrj5qQNxuD/yvoNXuH4gwT8EYikvuP9Rd1Tq37+kjrHD/UK9fxfV31u1Kylp3K1Wk7Yjl3uNXXXeiAO/OCOHz9h7tete0972Ry1kTbvuA40vPzdP1CfbtO8qsaA4418oP761n1feaINrUlfZ4yduDjp03+QSXP37j2e33//w9RXXV3y/PPPP044nEMGQJbkLVjExHEu6omu8nkqVK5mvFavec7cRyeQ3EHM+f4ffjDXXli77pxr8AglK0PF95eoryzTTpfJA2Q6HJhCtixavMQreqi8eAV2/YC885WTOrhzQoALniHaGOv8yeCHHpnsyZHnds//du+2wTz2Ga55/gXjFyjvgfzHP/SIaYucBPVEtUVM+Y8ePeqkGc479samzSbenr373MmZ98e3/JG2E9Gy98rIef4RiYzxzYquEHnJC/f1cOSLv+cbTt3EfU6ePOm+nXnvVaPI+Icrm4LVca/Ez/zAPXVg6XUJ8g9ltQ7nvjLrzc1vmXdMLRfbYB68p6hjg4YMc/x8T8AH/Qw12OFc0tV7k5btD0FmFShc3KMTS04Y1DXIAnffyl+fzongOvEn833biao163hU48GJ5a8OhVtmlK9cpbsNDydBPfHnr9pUply6qusO6ilfqarH3RdE3FB1NVCfzV/5Q/U/bb9atSZMvsKReV4F4I9kRSCYTD3ve+7sbCXGyxUrlDfDZqgcBHJYgt+xY6fkzp1L9MV1gmFmCLNomN3BDA5cGZ1duqNgASeMPQnkb68HO+bUVS63rn/OHDnMSoNbLclffMx0Y9bpFVW3Oqmz7cWKFVHLfyL79v3gFbxI4UKSOvXZBdNaNaqZFUmkj1n5aF2fnj3UWmkHef2NN80elgU6+44Vu6j3s0SbEcZL9gTw/ubU1QerYh1Oga/LdK3XKl9lnfXFanw4bvtXX5mVl7p1ankFd/YshNh/cemll5jVfxsZq42od0uWLhesbGXIkN5c8pUbH6q1T+yJatq4oY1qjs2aNDJqhJjBviHLDSaNls2ailsN1Z5DXmHlCyttUDeyTlsY0YGXGqA5KtifeFmGDNKgcXOpXu1uqVu7ltxZsoQJCtXXwoXukCHDR8kmtSCI2fJ6yiGNliEcWYn6Hyi+zYvvEbP4S55eLq+pLIHRivz5Eow57dv/g1jm6dKl8zIoFU5erNz2vZ+/3+5244bMmSVvntyq8ZGwEuovPPzwPCC7oUppHdoMsMK72lhXG+B8827DBvK314Mdw33HgqXhvhZJOxFr9u58xMt5OPLF9/mGUzczZrxKYPV35epndYXnQ8md6zZTV7GVQgc9sl/rBFaFQ8mmYHXcH2PkFZ+WWffyq6px9J3W4UJmBe6YzxYOX5mFOgCH992tqQTNgy+37/B3K8cvrWpRZVI5bV3FChWMyiE0EC6/7DLZpn2UBqrRdMUVV9ggpo9Rolgxo0HgeCbixPc53qV9xpeUQTAXSZlbtWwuV6rmla8L5O8bzt/vSOqqv/huv0j7n+HKPPc9eJ4yCJz3wZ0bYxpVZYRDhymQQ0N1Whtk6NDrDKdXsCqVK0n6dAkdMVwIpBIWyN8rsQh+ZNQOg87QB42BPSobdd/NgH695bacOc1+lBMnXtc4CabdA0XOoJ06dASPnzgeKEhY/qVL3WksE2KACRUSqOk8PGGc10AyrIQYiATCIAArf1ARwt6vq646t7EMlQTUsYOIAa/oOjtufme86iov/8T8QFrYT/f3P387gztfuYFJmrQqs6660vu+tgOEPVcn9Q/uSrX468/pDLzxRkdQ9p6Ve+hsQZ6dOHnCqOtt3rjBqF29/e67Zk9H/bp1ZMa0hMmtZ5YtkaeXr5CNb2wSnX2XWaqmtPa5VUaOhiMrA8W/XFW6fZ1qS0ibDl2MitWAvr1MR8juTTGzVWcipE7tbdk0Ernte89wfqdJkzZou4E0Tp7823xKw7fdqHhXBSMT7X188x7K316P9OjvHYs0DRs+WDtxvtnbPMTT0Z988X3u4dTNg4cOiq6wSFlVPYZ6JGTCMlXrM04naMKVTVAxDFbHfdliHxfU/dq1aa2qyR3NRBC2jPjKKN/fKBP6V/gcQSrXJDImaDBQjcSBIZzWdFXT/scMYq3sc6cDvz379rq9YnaOiZlg/UXcKJIyp1U54s8F8vcXNpRfsLoaKq6/68H6n+HKPH/p0i95E/D/pl/oMmOJ64y7TGeIst50k2Av2cJ5c623OR4/ftzMunp5hvkjffr08tWOnV6hT51O2DPh9vxVZ6kw22tX1zBrhZk739l7d0cH8bG/sGqVymYvHX5jZSLBCMDZDh38Dx85goPj3tLN+RBOhe+4w/EL7+QsMxseq3dtOnQ2HUDMdjduWN9e4pEEYkqgm+6FwuDuvp695amFT3itWuFG6AxgtT2S1ZpAGSxUqKC5tF73v2Im17rDR361p0GPp06dNgYq3CvySOvWW7J5rdL7JoIBLDrOr6xfL/e0aO5cfv7FdeYclvtQz9D5wH6V8uXKOmHsSd7cuc0pVrxGDB1svc0Rq3l2Fhn7jYcNGWT8YcAB+4sHDehrjNZgFh97dPEHgwYw7oKN+k0aNQxLVgaL75Uh/YG9IzCQgH3DTRs3MpeximiMXQUZjZ8vue2bP6/frnYD/ljd2/XttzLpofFeKxBYJUXbEY1Lr6u6P+t3FPF9qeuuy2SSwPvk6yJ6x3zy7ZsWfkfSTkTCHhwQnk7flzDqJuo1VuZGDR9iJm3BLZ3aC8DkqVZ8iUQ2Bavjvs/j3fffNzYIxo4a7lz6/vvd8tbWrc5vfyeoA3jfW7VsIVXvruwVBPImWoeJIMjLtboPEHsPbf8ImgeqFilly5TyTjqMd9w7QoS/XOmfjzJjwh0Dy6927NBPUSXIQeTwtO7F83Xh19Vz+2y+aYXd/zwTMVyZx3rvSzr5/059sYuYI/ut+j2sbaK620ZFCfm5t2tnweZdqCJBXRGDMsxkwYoTVJyicehcwWIUPpQM4yqwnPmSGj2AIHQ7WIDr2ae/+Ug4LFV2Ugt2qOQtVO3KOuQZHVcM6KyKKZbTseEfG26xmrH2pZflxx/PGgmwcaEuiTx8uX27sQQFa5m3ZMsmlSrdZYMEPabXjh5UlqCihdk5qJVZV05nF1FOdAA7d2p/TofbhuORBBJLAAaMHhjYz2xGh1WzSVOnm/qge2xl+szZovvJQqrThJuHa66+2qgqPv/iWmNoA3UUg41eWk+N86nDvuligHZPmw7y2sY3BIYXYE0R1m0xKx7MQdUqrxpQmqrGE2CRFiowsLS2TNX+sOoGdRwYNoJKD4yq6J4wkz4szmG2H/U/a9abpE7tmrJC/bDiBlUpdAyRJizcwoEZLMHhu4CIA9mAASNm5ffoYGv02PGmAwWZ8/4HCcaVsJIFF0pWhopvEnH9l/WmG80Emu7xM1Z2YVDgqaeXuUIEPg2Vl8AxI7/iTwZ37tjOrMbi+WK1EW3Kq+tfE93faeR55HcRI0/RuccqCoxiQK5PnjbdJOV+7cJ5x5BnuJdeXW+sepofAf6LtJ0Ihz24wNojjMTQSVh1M2eO7AYV1JSP6GQSDElBDlkXrmwKVsdtWu4j+hO//HJYYA0cgzJMML/73lkDUO6w7vNaNWuYCbXxEx82H7vGs4aRDlh5nDX3cXfQiM/x2RsYloNVXwzoUBc6dr3X1Ll+vXs56eE99+3TORcTeeKvDp2PMl966aXmsxt41itXrTayHxaL0efy7TOGqqvB+my+OMLpf7rjhCPz0H8uemdZNeo12h2V58mcwEVfuYNVs61qee3uGnXM97IgQOD3x9GjMluF0TOq6w4H1a/u3bqqutBZtcxInk2vHvcZS2nzdXA1+7F5kl0FUFEdCPl+hqDQHQWNiqQaKDHJo3P26NRJxjKgvV+dWrVUhWqxMZULffPVK5fKuLEjteM50Xy+Aepe+fLmPaMG4bHRzBH7adC4Iw/owGF1YOb0KUFXENwJYMasS6cO2sF4VDZUrCJLFy8UDOqsu0Vn19AAtXKtNNhrPJJALAlgJalQwYL6WYNJZrIEltbgsFKE97ym7muLlZvyyEP6WZIhaulslTE7jj0gsMALq5uhHPJTQVfVdOO7WZWHLLlfLV926tAuaFSoZC5e8LgM1kkmDFjxhzrbUK3JjRkx3Ik7ctgQ3YdzmVqXW2IGQgiDvbqX6F4/uAljx8jYSx8y8TGIg4P8GfZAwkpd6lSpdf/fMjP4wzXMkD84eqT5XuAPP/6oFh+3msEjrl2jFnPbtr7H7LvD71CyMu0laYPGRxpuh1WdqY9MlJlz5prJNFy7WzUSjHOPZhJ8vP4PlRevwIn84U8GQ+Y+NmuGjNRVT1gvhcMAuWmTxkbWR3NLaGDgO47L9L1DBx37jSqUL6eDxg1eyYXzjuXQDjusKWNyb4rK7293fnmOmp1NNNJ2Ihz22NeJTqtVt7P3SsnHUHUTbWtP7TugH4IJHMiEcmVLJyA7Ux/CkU3B6rg//vjEDNSLMbEzaMhwU+9hmdtOJvuLAz884wWq8QSLvu7OPKxfwspwYly9OrXNCvgE/ewUZBIcNBfmPzbb7Ou1aeNd9O3T2WuJPfqrQ+erzNjWggm7YSPHmAFdxbvKOxZv3eUIVVdD9dncaYXT/3SHD0fmwbI76v1ll2VwR+V5MieQSmchvEcfZwq8e/9ByZEtywUpPmZGd+36VmecsjpqSrgxVLsw+5pBO0436yALK2iJdZgFO/TzL9r5yu6oFtg08T0ldAYWzX/cfN/lrxCfEcAsPDqKEHDWYXYPA0YMstDJ8+eAHOZ0r7j8CufzD/7CBfPDPfb/8KN+ciGns0IHU8d36+omGgYMkulIIFwCia3v2H+m1iPN3rObVK3ady9IuPkIFQ4r1Xt1fwcGT2iwQjmYOsck0Y5tn5p6icFS7ly5IpYlMDn9g9Y3zBz726uGfECr4H/KAKt5bhVQm0fIHnTY8BmHzNdfb73NEXvdUH+xIofBndtBXuCTKMf0swN5VJXMqkS5wwSTleHEd6dlzzHrj8Ge/USN9Q91DJaXUHEjve5PBkOtHoYuTv59UrLfemvUqvzuvOD5YNLMX3qRvmOY/Ufe0FEN5qJpJ0Kxx8RjLNrRYPkOdC2xMiZQurHwD1Y3kT7eKRg2gYGjQPU/lGwKVscDlQFp7tu/L2GySFUFI3FYdf9Z+zrQDIpmX3Sge+Edgvo2VBdvyXaz335OoD5doDQj9Q9Uh85HmSF70ZeDXPd1eQoUloHa18K+yFB9On99Nt/07G+UI1T/04bFMZTMu5j13p1PnseWQDCZmiQGd7EtbvSpuQd30ady8WJCjRUfI31n80bBBm46EgiXQDAhEW4aSTGcu+OdFPPHPMU/Ab5j4T3D5Cpjwis9QyVHAnZwh+8J0pHAhSYQTKZe9D13FxpGcr0f9urot5ykuaogcWCXXJ8yy0UCJEACJEACJEACJEACgQlw5c7FBqoEcOdLpcx1q5ifQh0U382CulosVTBinlEmmCQJBJsBSpIZDjNTUFfBH/bK0JHA+SDAdyw8qslVxoRXeoZKjgSgags1eX+q8smxvCxT0iIQTKayx+N6VvE4qLPZx7dm/H2Dxl7nkQRSIgE2vCnxqV/YMvMdu7C8eTcSSCoEOGmYVJ4E8+FLgGqZvkT4mwRIgARIgARIgARIgARIgATikAAHd3H40JhlEiABEiABEiABEiABEiABEvAlwMGdLxH+JgESIAESIAESIAESIAESIIE4JMDBXRw+NGaZBEiABEiABEiABEiABEiABHwJcHDnS4S/SYAESIAESIAESIAESIAESCAOCXBwF4cPjVkmARIgARIgARIgARIgARIgAV8CHNz5EuFvEiABEiABEiABEiABEiABEohDAhzcxeFDY5ZJgARIgARIgARIgARIgARIwJcAB3e+RPibBEiABEiABEiABEiABEiABOKQAAd3cfjQmGUSIAESIAESIAESIAESIAES8CXAwZ0vEf4mARIgARIgARIgARIgARIggTgkwMFdHD40ZpkESIAESIAESIAESIAESIAEfAlwcOdLhL9JgARIgARIgARIgARIgARIIA4JpPKo85fv3fsP+vOmHwmQAAmQAAmQAAmQAAmQAAmQwEUkkCNbFr93Dzi48xuaniRAAiRAAiRAAiRAAiRAAiRAAkmSANUyk+RjYaZIgARIgARIgARIgARIgARIIDICHNxFxouhSYAESIAESIAESIAESIAESCBJEuDgLkk+FmaKBEiABEiABEiABEiABEiABCIjwMFdZLwYmgRIgARIgARIgARIgARIgASSJAEO7pLkY2GmSIAESIAESIAESIAESIAESCAyAhzcRcaLoUmABEiABEiABEiABEiABEggSRLg4C5JPhZmigRIgARIgARIgARIgARIgAQiI/B/DvP7ZayHiXEAAAAASUVORK5CYII=)"
      ],
      "metadata": {
        "id": "zvpNgvjLW9Ea"
      }
    },
    {
      "cell_type": "markdown",
      "source": [
        "Single-threaded applications\n",
        "\n",
        "![image.png](data:image/png;base64,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)"
      ],
      "metadata": {
        "id": "RqAns2H6cYIy"
      }
    },
    {
      "cell_type": "code",
      "source": [
        "from time import sleep, perf_counter\n",
        "\n",
        "def task():\n",
        "  print('Starting a task...')\n",
        "  sleep(1)\n",
        "  print('done')\n",
        "\n",
        "start_time = perf_counter()\n",
        "\n",
        "task()\n",
        "task()\n",
        "\n",
        "end_time = perf_counter()\n",
        "\n",
        "print(f'It took {end_time- start_time: 0.2f} second(s) to complete.')\n",
        "\n",
        "# Starting a task...\n",
        "# done\n",
        "# Starting a task...\n",
        "# done\n",
        "# It took  2.00 second(s) to complete."
      ],
      "metadata": {
        "id": "eewkhsjCW_9w"
      },
      "execution_count": null,
      "outputs": []
    },
    {
      "cell_type": "markdown",
      "source": [
        "Python threading to develop a multi-threaded program\n",
        "\n",
        "To create a multi-threaded program, you need to use the Python threading module.\n",
        "\n",
        "First, import the Thread class from the threading module:\n",
        "`from threading import Thread`\n",
        "\n",
        "Second, create a new thread by instantiating an instance of the Thread class:\n",
        "`new_thread = Thread(target=fn,args=args_tuple)`\n",
        "\n",
        "The Thread() accepts many parameters. The main ones are:\n",
        "* target: specifies a function (fn) to run in the new thread.\n",
        "* args: specifies the arguments of the function (fn). The args argument is a tuple.\n",
        "\n",
        "Third, start the thread by calling the start() method of the Thread instance:\n",
        "`new_thread.start()`\n",
        "\n",
        "If you want to wait for the thread to complete in the main thread, you can call the join() method:\n",
        "`new_thread.join()`\n",
        "\n",
        "By calling the join() method, the main thread will wait for the child thread to complete before it is terminated.\n",
        "\n",
        "When the program executes, it’ll have three threads: the main thread and two other child threads.\n",
        "![image.png](data:image/png;base64,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)"
      ],
      "metadata": {
        "id": "Nh3cH-gkcydR"
      }
    },
    {
      "cell_type": "code",
      "source": [
        "from time import sleep, perf_counter\n",
        "from threading import Thread\n",
        "\n",
        "def task():\n",
        "  print('Starting a task...')\n",
        "  sleep(1)\n",
        "  print('done')\n",
        "\n",
        "start_time = perf_counter()\n",
        "\n",
        "# create two new threads\n",
        "t1 = Thread(target=task)\n",
        "t2 = Thread(target=task)\n",
        "\n",
        "# start the threads\n",
        "t1.start()\n",
        "t2.start()\n",
        "\n",
        "# wait for the threads to complete\n",
        "t1.join()\n",
        "t2.join()\n",
        "\n",
        "end_time = perf_counter()\n",
        "\n",
        "print(f'It took {end_time- start_time: 0.2f} second(s) to complete.')\n",
        "\n",
        "# Starting a task...\n",
        "# Starting a task...\n",
        "# done\n",
        "# done\n",
        "# It took  1.00 second(s) to complete."
      ],
      "metadata": {
        "id": "VK7JHyvKczGA"
      },
      "execution_count": null,
      "outputs": []
    },
    {
      "cell_type": "markdown",
      "source": [
        "Passing arguments to threads"
      ],
      "metadata": {
        "id": "1gYrBGeldxJk"
      }
    },
    {
      "cell_type": "code",
      "source": [
        "from time import sleep, perf_counter\n",
        "from threading import Thread\n",
        "\n",
        "def task(id):\n",
        "  print(f'Starting the task {id}...')\n",
        "  sleep(1)\n",
        "  print(f'The task {id} completed')\n",
        "\n",
        "start_time = perf_counter()\n",
        "\n",
        "# create and start 10 threads\n",
        "threads = []\n",
        "for n in range(1, 11):\n",
        "  t = Thread(target=task, args=(n,))\n",
        "  threads.append(t)\n",
        "  t.start()\n",
        "\n",
        "# wait for the threads to complete\n",
        "for t in threads:\n",
        "  t.join()\n",
        "\n",
        "end_time = perf_counter()\n",
        "\n",
        "print(f'It took {end_time - start_time: 0.2f} second(s) to complete.')\n",
        "\n",
        "# Starting the task 1...\n",
        "# Starting the task 2...\n",
        "# Starting the task 3...\n",
        "# Starting the task 4...\n",
        "# Starting the task 5...\n",
        "# Starting the task 6...\n",
        "# Starting the task 7...\n",
        "# Starting the task 8...\n",
        "# Starting the task 9...\n",
        "# Starting the task 10...\n",
        "# The task 10 completed\n",
        "# The task 8 completed\n",
        "# The task 1 completed\n",
        "# The task 6 completed\n",
        "# The task 7 completed\n",
        "# The task 9 completed\n",
        "# The task 3 completed\n",
        "# The task 4 completed\n",
        "# The task 2 completed\n",
        "# The task 5 completed\n",
        "# It took  1.02 second(s) to complete."
      ],
      "metadata": {
        "id": "z9Sd_1jcdxpj"
      },
      "execution_count": null,
      "outputs": []
    },
    {
      "cell_type": "markdown",
      "source": [
        "Practical Python threading"
      ],
      "metadata": {
        "id": "wIaLfi6aeJq4"
      }
    },
    {
      "cell_type": "code",
      "source": [
        "# Suppose that you have a list of text files in a folder e.g., C:/temp/.\n",
        "# And you want to replace a text with a new one in all the files.\n",
        "from time import perf_counter\n",
        "\n",
        "def replace(filename, substr, new_substr):\n",
        "  print(f'Processing the file {filename}')\n",
        "  # get the contents of the file\n",
        "  with open(filename, 'r') as f:\n",
        "    content = f.read()\n",
        "\n",
        "  # replace the substr by new_substr\n",
        "  content = content.replace(substr, new_substr)\n",
        "\n",
        "  # write data into the file\n",
        "  with open(filename, 'w') as f:\n",
        "    f.write(content)\n",
        "\n",
        "def main():\n",
        "  filenames = [\n",
        "    'c:/temp/test1.txt',\n",
        "    'c:/temp/test2.txt',\n",
        "    'c:/temp/test3.txt',\n",
        "    'c:/temp/test4.txt',\n",
        "    'c:/temp/test5.txt',\n",
        "    'c:/temp/test6.txt',\n",
        "    'c:/temp/test7.txt',\n",
        "    'c:/temp/test8.txt',\n",
        "    'c:/temp/test9.txt',\n",
        "    'c:/temp/test10.txt',\n",
        "  ]\n",
        "\n",
        "  for filename in filenames:\n",
        "    replace(filename, 'ids', 'id')\n",
        "\n",
        "if __name__ == \"__main__\":\n",
        "  start_time = perf_counter()\n",
        "\n",
        "  main()\n",
        "\n",
        "  end_time = perf_counter()\n",
        "  print(f'It took {end_time - start_time :0.2f} second(s) to complete.') # It took 0.16 second(s) to complete."
      ],
      "metadata": {
        "id": "ZPziMQa9eKdi"
      },
      "execution_count": null,
      "outputs": []
    },
    {
      "cell_type": "code",
      "source": [
        "# The following program has the same functionality. However, it uses multiple threads instead:\n",
        "from threading import Thread\n",
        "from time import perf_counter\n",
        "\n",
        "def replace(filename, substr, new_substr):\n",
        "  print(f'Processing the file {filename}')\n",
        "  # get the contents of the file\n",
        "  with open(filename, 'r') as f:\n",
        "    content = f.read()\n",
        "\n",
        "  # replace the substr by new_substr\n",
        "  content = content.replace(substr, new_substr)\n",
        "\n",
        "  # write data into the file\n",
        "  with open(filename, 'w') as f:\n",
        "    f.write(content)\n",
        "\n",
        "def main():\n",
        "  filenames = [\n",
        "    'c:/temp/test1.txt',\n",
        "    'c:/temp/test2.txt',\n",
        "    'c:/temp/test3.txt',\n",
        "    'c:/temp/test4.txt',\n",
        "    'c:/temp/test5.txt',\n",
        "    'c:/temp/test6.txt',\n",
        "    'c:/temp/test7.txt',\n",
        "    'c:/temp/test8.txt',\n",
        "    'c:/temp/test9.txt',\n",
        "    'c:/temp/test10.txt',\n",
        "  ]\n",
        "\n",
        "  # create threads\n",
        "  threads = [Thread(target=replace, args=(filename, 'id', 'ids')) for filename in filenames]\n",
        "\n",
        "  # start the threads\n",
        "  for thread in threads:\n",
        "    thread.start()\n",
        "\n",
        "  # wait for the threads to complete\n",
        "  for thread in threads:\n",
        "    thread.join()\n",
        "\n",
        "if __name__ == \"__main__\":\n",
        "  start_time = perf_counter()\n",
        "\n",
        "  main()\n",
        "\n",
        "  end_time = perf_counter()\n",
        "  print(f'It took {end_time - start_time :0.2f} second(s) to complete.')  # It took 0.02 second(s) to complete."
      ],
      "metadata": {
        "id": "gThw681yej01"
      },
      "execution_count": null,
      "outputs": []
    },
    {
      "cell_type": "markdown",
      "source": [
        "# How to Extend Python Thread Class"
      ],
      "metadata": {
        "id": "PmW67ANvjKUr"
      }
    },
    {
      "cell_type": "markdown",
      "source": [
        "When a Python program starts, it has a thread called the main thread. Sometimes, you want to offload the I/O-bound tasks to a new thread to execute them concurrently. To do that, you use the built-in threading module.\n",
        "\n",
        "One way to execute code in a new thread is to extend the Thread class of the threading module. Here are the steps:\n",
        "\n",
        "* First, define a subclass of threading.Thread class.\n",
        "* Second, override __init__(self, [,args]) method inside of the __init__() method of the subclass to add custom arguments.\n",
        "* Third, override the run(self, [,args]) method inside of the subclass to customize the behavior of the new thread class when a new thread is created."
      ],
      "metadata": {
        "id": "C_jTHce-fDtm"
      }
    },
    {
      "cell_type": "code",
      "source": [
        "from threading import Thread\n",
        "import urllib.request\n",
        "\n",
        "class HttpRequestThread(Thread):\n",
        "  def __init__(self, url: str) -> None:\n",
        "    super().__init__()\n",
        "    self.url = url\n",
        "\n",
        "  def run(self) -> None:\n",
        "    print(f'Checking {self.url} ...')\n",
        "    try:\n",
        "      response = urllib.request.urlopen(self.url)\n",
        "      print(response.code)\n",
        "    except urllib.error.HTTPError as e:\n",
        "      print(e.code)\n",
        "    except urllib.error.URLError as e:\n",
        "      print(e.reason)\n",
        "\n",
        "def main() -> None:\n",
        "  urls = [\n",
        "    'https://httpstat.us/200',\n",
        "    'https://httpstat.us/400'\n",
        "  ]\n",
        "\n",
        "  threads = [HttpRequestThread(url) for url in urls]\n",
        "\n",
        "  [t.start() for t in threads]\n",
        "\n",
        "  [t.join() for t in threads]\n",
        "\n",
        "if __name__ == '__main__':\n",
        "  main()\n",
        "\n",
        "# Checking https://httpstat.us/200 ...\n",
        "# Checking https://httpstat.us/400 ...\n",
        "# 200\n",
        "# 400"
      ],
      "metadata": {
        "id": "ktqNg_mAiJfE"
      },
      "execution_count": null,
      "outputs": []
    },
    {
      "cell_type": "markdown",
      "source": [
        "# How to Return Values from a Thread"
      ],
      "metadata": {
        "id": "nDbQNoZejd_z"
      }
    },
    {
      "cell_type": "markdown",
      "source": [
        "When a Python program starts, it has a single thread called the main thread. Sometimes, you want to offload I/O tasks to new threads and execute them concurrently. Additionally, you may also want to get the return values from these threads from the main thread.\n",
        "\n",
        "To return a value from a thread, you can extend the Thread class and store that value in the instance of the class.\n",
        "\n",
        "The following example illustrates how to check a specified URL and return its HTTP status code in a separate thread:"
      ],
      "metadata": {
        "id": "EkB7EeDUjgMG"
      }
    },
    {
      "cell_type": "code",
      "source": [
        "from threading import Thread\n",
        "import urllib.request\n",
        "\n",
        "class HttpRequestThread(Thread):\n",
        "  def __init__(self, url: str) -> None:\n",
        "    super().__init__()\n",
        "    self.url = url\n",
        "    self.http_status_code = None\n",
        "    self.reason = None\n",
        "\n",
        "  def run(self) -> None:\n",
        "    try:\n",
        "      response = urllib.request.urlopen(self.url)\n",
        "      self.http_status_code = response.code\n",
        "    except urllib.error.HTTPError as e:\n",
        "      self.http_status_code = e.code\n",
        "    except urllib.error.URLError as e:\n",
        "      self.reason = e.reason\n",
        "\n",
        "def main() -> None:\n",
        "  urls = [\n",
        "    'https://httpstat.us/200',\n",
        "    'https://httpstat.us/400'\n",
        "  ]\n",
        "\n",
        "  # create new threads\n",
        "  threads = [HttpRequestThread(url) for url in urls]\n",
        "\n",
        "  # start the threads\n",
        "  [t.start() for t in threads]\n",
        "\n",
        "  # wait for the threads to complete\n",
        "  [t.join() for t in threads]\n",
        "\n",
        "  # display the URLs with HTTP status codes\n",
        "  [print(f'{t.url}: {t.http_status_code}') for t in threads]\n",
        "\n",
        "if __name__ == '__main__':\n",
        "  main()\n",
        "\n",
        "def main() -> None:\n",
        "  urls = [\n",
        "    'https://httpstat.us/200',\n",
        "    'https://httpstat.us/400'\n",
        "  ]\n",
        "\n",
        "  # create new threads\n",
        "  threads = [HttpRequestThread(url) for url in urls]\n",
        "\n",
        "  # start the threads\n",
        "  [t.start() for t in threads]\n",
        "\n",
        "  # wait for the threads to complete\n",
        "  [t.join() for t in threads]\n",
        "\n",
        "  # display the URLs with HTTP status codes\n",
        "  [print(f'{t.url}: {t.http_status_code}') for t in threads]\n",
        "\n",
        "# https://httpstat.us/200: 200\n",
        "# https://httpstat.us/400: 400"
      ],
      "metadata": {
        "id": "BWUD_5JajxGV"
      },
      "execution_count": null,
      "outputs": []
    },
    {
      "cell_type": "markdown",
      "source": [
        "# Python multithreading example"
      ],
      "metadata": {
        "id": "2h8p6OT3kvdG"
      }
    },
    {
      "cell_type": "code",
      "source": [
        "# stock.py\n",
        "import threading\n",
        "import requests\n",
        "from lxml import html\n",
        "\n",
        "class Stock(threading.Thread):\n",
        "  def __init__(self, symbol: str) -> None:\n",
        "    super().__init__()\n",
        "\n",
        "    self.symbol = symbol\n",
        "    self.url = f'https://finance.yahoo.com/quote/{symbol}'\n",
        "    self.price = None\n",
        "\n",
        "  def run(self):\n",
        "    headers = {\n",
        "      \"User-Agent\": \"Mozilla/5.0 (Windows NT 10.0; Win64; x64) AppleWebKit/537.36 (KHTML, like Gecko) Chrome/114.0.0.0 Safari/537.36\"\n",
        "    }\n",
        "\n",
        "    response = requests.get(self.url, headers=headers)\n",
        "    if response.status_code == 200:\n",
        "      # parse the HTML\n",
        "      tree = html.fromstring(response.text)\n",
        "      # get the price in text\n",
        "      price_text = tree.xpath('//*[@id=\"quote-header-info\"]/div[3]/div[1]/div[1]/fin-streamer[1]/text()')\n",
        "      if price_text:\n",
        "        try:\n",
        "          self.price = float(price_text[0].replace(',', ''))\n",
        "        except ValueError:\n",
        "          self.price = None\n",
        "\n",
        "  def __str__(self):\n",
        "    return f'{self.symbol}\\t{self.price}'"
      ],
      "metadata": {
        "id": "w9BJYIzBkx7E"
      },
      "execution_count": null,
      "outputs": []
    },
    {
      "cell_type": "code",
      "source": [
        "# main.py\n",
        "from stock import Stock\n",
        "\n",
        "symbols = ['MSFT', 'GOOGL', 'AAPL', 'META']\n",
        "threads = []\n",
        "\n",
        "for symbol in symbols:\n",
        "  t = Stock(symbol)\n",
        "  threads.append(t)\n",
        "  t.start()\n",
        "\n",
        "for t in threads:\n",
        "  t.join()\n",
        "  print(t)\n",
        "\n",
        "# MSFT    253.67\n",
        "# GOOGL   2280.41\n",
        "# AAPL    145.86\n",
        "# META    163.27"
      ],
      "metadata": {
        "id": "GCCNHRRflqno"
      },
      "execution_count": null,
      "outputs": []
    },
    {
      "cell_type": "markdown",
      "source": [
        "# Python daemon threads"
      ],
      "metadata": {
        "id": "oAgDEZU0lx7A"
      }
    },
    {
      "cell_type": "markdown",
      "source": [
        "In Python, every program has at least one thread called the main thread. To create a program that has more than one thread, you use the threading module. By using multiple threads, you can execute tasks concurrently.\n",
        "\n",
        "Sometimes, you may want to execute a task in the background. To do that you use a special kind of thread called a daemon thread.\n",
        "\n",
        "By definition, daemon threads are background threads. In other words, daemon threads execute tasks in the background.\n",
        "\n",
        "Daemon threads are helpful for executing tasks that support non-daemon threads in the program. For example:\n",
        "\n",
        "* Log information to a file in the background.\n",
        "* Scrap contents from a website in the background.\n",
        "* Auto-save the data into a database in the background.\n",
        "\n",
        "![Screen Shot 2023-12-10 at 10.14.47 PM.png](data:image/png;base64,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)"
      ],
      "metadata": {
        "id": "VYQUCZ8gl2Yc"
      }
    },
    {
      "cell_type": "code",
      "source": [
        "# The following example shows how to create a non-daemon thread that shows the number of seconds that the program has been waiting for:\n",
        "from threading import Thread\n",
        "import time\n",
        "\n",
        "def show_timer():\n",
        "  count = 0\n",
        "  while True:\n",
        "    count += 1\n",
        "    time.sleep(1)\n",
        "    print(f'Has been waiting for {count} second(s)...')\n",
        "\n",
        "t = Thread(target=show_timer)\n",
        "t.start()\n",
        "\n",
        "answer = input('Do you want to exit?\\n')\n",
        "\n",
        "# If you run the program, it’ll show the following output and run forever.\n",
        "\n",
        "# Do you want to exit?Has been waiting for 1 second(s)...\n",
        "# Has been waiting for 2 second(s)...\n",
        "# Has been waiting for 3 second(s)...\n",
        "# Has been waiting for 4 second(s)...\n",
        "# Y\n",
        "# Has been waiting for 5 second(s)...\n",
        "# Has been waiting for 6 second(s)...\n",
        "# Code language: Python (python)\n",
        "# To terminate the program, you need to kill the terminal.\n",
        "\n",
        "# The program runs indefinitely because the thread t is a non-daemon thread.\n",
        "# The program needs to wait for all non-daemon threads to complete before it can exit."
      ],
      "metadata": {
        "id": "yVrrMwFompKd"
      },
      "execution_count": null,
      "outputs": []
    },
    {
      "cell_type": "code",
      "source": [
        "# Now, let’s turn the thread into a daemon thread:\n",
        "from threading import Thread\n",
        "import time\n",
        "\n",
        "def show_timer():\n",
        "  count = 0\n",
        "  while True:\n",
        "    count += 1\n",
        "    time.sleep(1)\n",
        "    print(f'Has been waiting for {count} second(s)...')\n",
        "\n",
        "t = Thread(target=show_timer, daemon=True)\n",
        "t.start()\n",
        "\n",
        "answer = input('Do you want to exit?\\n')\n",
        "\n",
        "# If you run the program, input something, and hit enter, the program will terminate. For example:\n",
        "\n",
        "# Do you want to exit?\n",
        "# Has been waiting for 1 second(s)...\n",
        "# Y\n",
        "\n",
        "# The program terminates because it doesn’t need to wait for the daemon thread to complete.\n",
        "# Also, the daemon thread is killed automatically when the program exits."
      ],
      "metadata": {
        "id": "k_UXniRAm8JG"
      },
      "execution_count": null,
      "outputs": []
    },
    {
      "cell_type": "markdown",
      "source": [
        "# Python ThreadPoolExecutor class"
      ],
      "metadata": {
        "id": "gCnmHliboFgm"
      }
    },
    {
      "cell_type": "markdown",
      "source": [
        "In the multithreading tutorial, you learned how to manage multiple threads in a program using the Thread class of the threading module. The Thread class is useful when you want to create threads manually.\n",
        "\n",
        "However, manually managing threads is not efficient because creating and destroying many threads frequently are very expensive in terms of computational costs.\n",
        "\n",
        "Instead of doing so, you may want to reuse the threads if you expect to run many ad-hoc tasks in the program. A thread pool allows you to achieve this.\n",
        "\n",
        "Thread pool\n",
        "A thread pool is a pattern for achieving concurrency of execution in a program. A thread pool allows you to automatically manage a pool of threads efficiently:\n",
        "\n",
        "\n",
        "![image.png](data:image/png;base64,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)\n",
        "\n",
        "Each thread in the pool is called a worker thread or a worker. A thread pool allows you to reuse the worker threads once the tasks are completed. It also protects against unexpected failures such as exceptions.\n",
        "\n",
        "Typically, a thread pool allows you to configure the number of worker threads and provides a specific naming convention for each worker thread.\n",
        "\n",
        "To create a thread pool, you use the ThreadPoolExecutor class from the concurrent.futures module."
      ],
      "metadata": {
        "id": "fYzhAb9goHzm"
      }
    },
    {
      "cell_type": "markdown",
      "source": [
        "The ThreadPoolExecutor class extends the Executor class and returns a Future object.\n",
        "\n",
        "Executor\n",
        "The Executor class has three methods to control the thread pool:\n",
        "\n",
        "* submit() – dispatch a function to be executed and return a Future object. The submit() method takes a function and executes it asynchronously.\n",
        "* map() – execute a function asynchronously for each element in an iterable.\n",
        "* shutdown() – shut down the executor.\n",
        "When you create a new instance of the ThreadPoolExecutor class, Python starts the Executor.\n",
        "\n",
        "Once completing working with the executor, you must explicitly call the shutdown() method to release the resource held by the executor. To avoid calling the shutdown() method explicitly, you can use the context manager.\n",
        "\n",
        "\n",
        "Future object\n",
        "A Future is an object that represents the eventual result of an asynchronous operation. The Future class has two useful methods:\n",
        "\n",
        "* result() – return the result of an asynchronous operation.\n",
        "* exception() – return the exception of an asynchronous operation in case an exception occurs."
      ],
      "metadata": {
        "id": "yfajPHRvo0fN"
      }
    },
    {
      "cell_type": "code",
      "source": [
        "# Example without ThreadPoolExecutor\n",
        "from time import sleep, perf_counter\n",
        "\n",
        "def task(id):\n",
        "  print(f'Starting the task {id}...')\n",
        "  sleep(1)\n",
        "  return f'Done with task {id}'\n",
        "\n",
        "start = perf_counter()\n",
        "\n",
        "print(task(1))\n",
        "print(task(2))\n",
        "\n",
        "finish = perf_counter()\n",
        "\n",
        "print(f\"It took {finish-start} second(s) to finish.\")\n",
        "\n",
        "# Starting the task 1...\n",
        "# Done with task 1\n",
        "# Starting the task 2...\n",
        "# Done with task 2\n",
        "# It took 2.0144479 second(s) to finish."
      ],
      "metadata": {
        "id": "ja_737yfpRsS"
      },
      "execution_count": null,
      "outputs": []
    },
    {
      "cell_type": "code",
      "source": [
        "# Example with ThreadPoolExecutor\n",
        "from time import sleep, perf_counter\n",
        "from concurrent.futures import ThreadPoolExecutor\n",
        "\n",
        "def task(id):\n",
        "  print(f'Starting the task {id}...')\n",
        "  sleep(1)\n",
        "  return f'Done with task {id}'\n",
        "\n",
        "start = perf_counter()\n",
        "\n",
        "with ThreadPoolExecutor() as executor:\n",
        "  f1 = executor.submit(task, 1)\n",
        "  f2 = executor.submit(task, 2)\n",
        "\n",
        "  print(f1.result())\n",
        "  print(f2.result())\n",
        "\n",
        "finish = perf_counter()\n",
        "\n",
        "print(f\"It took {finish-start} second(s) to finish.\")\n",
        "\n",
        "# Starting the task 1...\n",
        "# Starting the task 2...\n",
        "# Done with task 1\n",
        "# Done with task 2\n",
        "# It took 1.0177214 second(s) to finish."
      ],
      "metadata": {
        "id": "41rktRlUpZrl"
      },
      "execution_count": null,
      "outputs": []
    },
    {
      "cell_type": "markdown",
      "source": [
        "Practicle example"
      ],
      "metadata": {
        "id": "aXgf4CkEpqPL"
      }
    },
    {
      "cell_type": "code",
      "source": [
        "from concurrent.futures import ThreadPoolExecutor\n",
        "from urllib.request import urlopen\n",
        "import time\n",
        "import os\n",
        "\n",
        "def download_image(url):\n",
        "  image_data = None\n",
        "  with urlopen(url) as f:\n",
        "    image_data = f.read()\n",
        "\n",
        "  if not image_data:\n",
        "    raise Exception(f\"Error: could not download the image from {url}\")\n",
        "\n",
        "  filename = os.path.basename(url)\n",
        "  with open(filename, 'wb') as image_file:\n",
        "    image_file.write(image_data)\n",
        "    print(f'{filename} was downloaded...')\n",
        "\n",
        "start = time.perf_counter()\n",
        "\n",
        "urls = ['https://upload.wikimedia.org/wikipedia/commons/9/9d/Python_bivittatus_1701.jpg',\n",
        "        'https://upload.wikimedia.org/wikipedia/commons/4/48/Python_Regius.jpg',\n",
        "        'https://upload.wikimedia.org/wikipedia/commons/d/d3/Baby_carpet_python_caudal_luring.jpg',\n",
        "        'https://upload.wikimedia.org/wikipedia/commons/f/f0/Rock_python_pratik.JPG',\n",
        "        'https://upload.wikimedia.org/wikipedia/commons/0/07/Dulip_Wilpattu_Python1.jpg']\n",
        "\n",
        "with ThreadPoolExecutor() as executor:\n",
        "  executor.map(download_image, urls)\n",
        "\n",
        "finish = time.perf_counter()\n",
        "\n",
        "print(f'It took {finish-start} second(s) to finish.')"
      ],
      "metadata": {
        "id": "1IujXRMXpsvP"
      },
      "execution_count": null,
      "outputs": []
    },
    {
      "cell_type": "markdown",
      "source": [
        "# Thread Synchronization Techniques"
      ],
      "metadata": {
        "id": "v1-ffBcdp7L6"
      }
    },
    {
      "cell_type": "markdown",
      "source": [
        "**`Lock`**\n",
        "\n",
        "How to use the Python Threading Lock to Prevent Race Conditions\n",
        "\n",
        "What is a race condition?\n",
        "\n",
        "A race condition occurs when two or more threads try to access a shared variable simultaneously, leading to unpredictable outcomes. In this scenario,\n",
        "* the first thread reads the value from the shared variable. At the same time, the second thread also reads the value from the same shared variable.\n",
        "* Then both threads attempt to change the value of the shared variable. since the updates occur simultaneously, it creates a race to determine which thread’s modification is preserved.\n",
        "* The final value of the shared variable depends on which thread completes its update last. Whatever thread that changes the value last will win the race."
      ],
      "metadata": {
        "id": "F8RVFNR8p9ij"
      }
    },
    {
      "cell_type": "code",
      "source": [
        "from threading import Thread\n",
        "from time import sleep\n",
        "\n",
        "counter = 0\n",
        "\n",
        "def increase(by):\n",
        "  global counter\n",
        "\n",
        "  local_counter = counter\n",
        "  local_counter += by\n",
        "\n",
        "  sleep(0.1)\n",
        "\n",
        "  counter = local_counter\n",
        "  print(f'counter={counter}')\n",
        "\n",
        "# create threads\n",
        "t1 = Thread(target=increase, args=(10,))\n",
        "t2 = Thread(target=increase, args=(20,))\n",
        "\n",
        "# start the threads\n",
        "t1.start()\n",
        "t2.start()\n",
        "\n",
        "# wait for the threads to complete\n",
        "t1.join()\n",
        "t2.join()\n",
        "\n",
        "print(f'The final counter is {counter}')\n",
        "\n",
        "# The value of the counter variable depends on which thread completes last.\n",
        "\n",
        "# If the thread t1 completes before the thread t2, you’ll see the following output:\n",
        "# counter=10\n",
        "# counter=20\n",
        "# The counter is 20\n",
        "\n",
        "# Otherwise, you’ll see the following output:\n",
        "# counter=20\n",
        "# counter=10\n",
        "# The final counter is 10"
      ],
      "metadata": {
        "id": "Dks1J_ujtYdQ"
      },
      "execution_count": null,
      "outputs": []
    },
    {
      "cell_type": "markdown",
      "source": [
        "Using a threading lock to prevent the race condition\n",
        "\n",
        "To prevent race conditions, you can use a threading lock.\n",
        "\n",
        "A threading lock is a synchronization primitive that provides exclusive access to a shared resource in a multithreaded application. A thread lock is also known as a mutex which is short for mutual exclusion.\n",
        "\n",
        "Typically, a threading lock has two states: locked and unlocked. When a thread acquires a lock, the lock enters the locked state. The thread can have exclusive access to the shared resource.\n",
        "\n",
        "Other threads that attempt to acquire the lock while it is locked will be blocked and wait until the lock is released."
      ],
      "metadata": {
        "id": "HkHSGA3yuCWz"
      }
    },
    {
      "cell_type": "code",
      "source": [
        "from threading import Thread, Lock\n",
        "from time import sleep\n",
        "\n",
        "counter = 0\n",
        "\n",
        "def increase(by, lock):\n",
        "  global counter\n",
        "\n",
        "  lock.acquire()\n",
        "\n",
        "  local_counter = counter\n",
        "  local_counter += by\n",
        "\n",
        "  sleep(0.1)\n",
        "\n",
        "  counter = local_counter\n",
        "  print(f'counter={counter}')\n",
        "\n",
        "  lock.release()\n",
        "\n",
        "lock = Lock()\n",
        "\n",
        "# create threads\n",
        "t1 = Thread(target=increase, args=(10, lock))\n",
        "t2 = Thread(target=increase, args=(20, lock))\n",
        "\n",
        "# start the threads\n",
        "t1.start()\n",
        "t2.start()\n",
        "\n",
        "# wait for the threads to complete\n",
        "t1.join()\n",
        "t2.join()\n",
        "\n",
        "print(f'The final counter is {counter}')\n",
        "\n",
        "# counter=10\n",
        "# counter=30\n",
        "# The final counter is 30"
      ],
      "metadata": {
        "id": "fqRO6ieluKSU"
      },
      "execution_count": null,
      "outputs": []
    },
    {
      "cell_type": "markdown",
      "source": [
        "Using the threading lock with the with statement"
      ],
      "metadata": {
        "id": "qL3AQFrAuhye"
      }
    },
    {
      "cell_type": "code",
      "source": [
        "# import threading\n",
        "\n",
        "# Create a lock object\n",
        "# lock = threading.Lock()\n",
        "\n",
        "# Perform some operations within a critical section\n",
        "# with lock:\n",
        "  # Lock was acquired within the with block\n",
        "  # Perform operations on the shared resource\n",
        "  # ...\n",
        "\n",
        "# the lock is released outside the with block\n",
        "\n",
        "from threading import Thread, Lock\n",
        "from time import sleep\n",
        "\n",
        "counter = 0\n",
        "\n",
        "def increase(by, lock):\n",
        "  global counter\n",
        "\n",
        "  with lock:\n",
        "    local_counter = counter\n",
        "    local_counter += by\n",
        "\n",
        "    sleep(0.1)\n",
        "\n",
        "    counter = local_counter\n",
        "    print(f'counter={counter}')\n",
        "\n",
        "lock = Lock()\n",
        "\n",
        "# create threads\n",
        "t1 = Thread(target=increase, args=(10, lock))\n",
        "t2 = Thread(target=increase, args=(20, lock))\n",
        "\n",
        "# start the threads\n",
        "t1.start()\n",
        "t2.start()\n",
        "\n",
        "# wait for the threads to complete\n",
        "t1.join()\n",
        "t2.join()\n",
        "\n",
        "print(f'The final counter is {counter}')"
      ],
      "metadata": {
        "id": "Gxu2dMvQuidX"
      },
      "execution_count": null,
      "outputs": []
    },
    {
      "cell_type": "markdown",
      "source": [
        "Defining thread-safe Counter class that uses threading Lock object"
      ],
      "metadata": {
        "id": "-BFqOeDIu8f4"
      }
    },
    {
      "cell_type": "code",
      "source": [
        "from threading import Thread, Lock\n",
        "from time import sleep\n",
        "\n",
        "class Counter:\n",
        "  def __init__(self):\n",
        "    self.value = 0\n",
        "    self.lock = Lock()\n",
        "\n",
        "  def increase(self, by):\n",
        "    with self.lock:\n",
        "      current_value = self.value\n",
        "      current_value += by\n",
        "\n",
        "      sleep(0.1)\n",
        "\n",
        "      self.value = current_value\n",
        "      print(f'counter={self.value}')\n",
        "\n",
        "def main():\n",
        "  counter = Counter()\n",
        "  # create threads\n",
        "  t1 = Thread(target=counter.increase, args=(10, ))\n",
        "  t2 = Thread(target=counter.increase, args=(20, ))\n",
        "\n",
        "  # start the threads\n",
        "  t1.start()\n",
        "  t2.start()\n",
        "\n",
        "  # wait for the threads to complete\n",
        "  t1.join()\n",
        "  t2.join()\n",
        "\n",
        "  print(f'The final counter is {counter.value}')\n",
        "\n",
        "if __name__ == '__main__':\n",
        "  main()"
      ],
      "metadata": {
        "id": "6NrLqLTSu8_w"
      },
      "execution_count": null,
      "outputs": []
    },
    {
      "cell_type": "markdown",
      "source": [
        "**`Event`**\n",
        "\n",
        "Introduction to the Python threading Event object\n",
        "Sometimes, you need to communicate between the threads. To do that, you can use a lock (mutex) and a boolean variable.\n",
        "\n",
        "However, Python provides you with a better way to communicate between threads using the Event class from the threading module.\n",
        "\n",
        "The Event class offers a simple but effective way to coordinate between threads: one thread signals an event while other threads wait for it.\n",
        "\n",
        "The Event object wraps a boolean flag that can be set (True) or cleared (False). Multiple threads can wait for an Event to be set before proceeding or can reset the Event back to the cleared state."
      ],
      "metadata": {
        "id": "zdWWE6zxvpKg"
      }
    },
    {
      "cell_type": "code",
      "source": [
        "from threading import Thread, Event\n",
        "from time import sleep\n",
        "\n",
        "def task(event: Event, id: int) -> None:\n",
        "  print(f'Thread {id} started. Waiting for the signal....')\n",
        "  event.wait()\n",
        "  print(f'Received signal. The thread {id} was completed.')\n",
        "\n",
        "def main() -> None:\n",
        "  event = Event()\n",
        "\n",
        "  t1 = Thread(target=task, args=(event,1))\n",
        "  t2 = Thread(target=task, args=(event,2))\n",
        "\n",
        "  t1.start()\n",
        "  t2.start()\n",
        "\n",
        "  print('Blocking the main thread for 3 seconds...')\n",
        "  sleep(3)\n",
        "  event.set()\n",
        "\n",
        "if __name__ == '__main__':\n",
        "  main()\n",
        "\n",
        "# Thread 1 started. Waiting for the signal....\n",
        "# Thread 2 started. Waiting for the signal....\n",
        "# Blocking the main thread for 3 seconds...\n",
        "# Received signal. The thread 1 was completed.\n",
        "# Received signal. The thread 2 was completed."
      ],
      "metadata": {
        "id": "5G-FDSD6wQFz"
      },
      "execution_count": null,
      "outputs": []
    },
    {
      "cell_type": "markdown",
      "source": [
        "Practical example of using Threading event.\n",
        "\n",
        "The following example illustrates hwo to use the threading event to synchronize between two threads:\n",
        "\n",
        "Thread #1 downloads a text file from URL https://www.ietf.org/rfc/rfc793.txt, once completed, it notifies the second thread to count the words from the downloaded text file.\n",
        "Thread #2 starts and wait for the completed signal from the thread #1. Once, receiving the signal, it starts counting the words from the downloaded file."
      ],
      "metadata": {
        "id": "CrIkAH0Rwg__"
      }
    },
    {
      "cell_type": "code",
      "source": [
        "from threading import Thread, Event\n",
        "from urllib import request\n",
        "\n",
        "def download_file(url, event):\n",
        "  # Download the file form URL\n",
        "  print(f\"Downloading file from {url}...\")\n",
        "  filename, _ = request.urlretrieve(url, \"rfc793.txt\")\n",
        "\n",
        "  # File download completed, set the event\n",
        "  event.set()\n",
        "\n",
        "def process_file(event):\n",
        "  print(\"Waiting for the file to be downloaded...\")\n",
        "  event.wait()  # Wait for the event to be set\n",
        "\n",
        "  # File has been downloaded, start processing it\n",
        "  print(\"File download completed. Starting file processing...\")\n",
        "\n",
        "  # Count the number of words in the file\n",
        "  word_count = 0\n",
        "  with open(\"rfc793.txt\", \"r\") as file:\n",
        "    for line in file:\n",
        "      words = line.split()\n",
        "      word_count += len(words)\n",
        "\n",
        "  # Print the word count\n",
        "  print(f\"Number of words in the file: {word_count}\")\n",
        "\n",
        "def main():\n",
        "  # Create an Event object\n",
        "  event = Event()\n",
        "\n",
        "  # Create and start the file download thread\n",
        "  download_thread = Thread(target=download_file, args=(\"https://www.ietf.org/rfc/rfc793.txt\",  event))\n",
        "\n",
        "  download_thread.start()\n",
        "\n",
        "  # Create and start the file processing thread\n",
        "  process_thread = Thread(target=process_file, args=(event,))\n",
        "  process_thread.start()\n",
        "\n",
        "  # Wait for both threads to complete\n",
        "  download_thread.join()\n",
        "  process_thread.join()\n",
        "\n",
        "  print(\"Main thread finished.\")\n",
        "\n",
        "if __name__ == '__main__'    :\n",
        "  main()"
      ],
      "metadata": {
        "id": "i__Z-nLmwoDi"
      },
      "execution_count": null,
      "outputs": []
    },
    {
      "cell_type": "markdown",
      "source": [
        "`How to Stop a Thread in Python`\n",
        "\n",
        "To stop a thread, you use the Event class of the threading module. The Event class has an internal thread-safe boolean flag that can be set to True or False. By default, the internal flag is False.\n",
        "\n",
        "In the Event class, the set() method sets the internal flag to True while the clear() method resets the flag to False. Also, the is_set() method returns True if the internal flag is set to True.\n",
        "\n",
        "To stop a child thread from the main thread, you use an Event object with the following steps:\n",
        "\n",
        "* First, create a new Event object and pass it to a child thread.\n",
        "* Second, periodically check if the internal flag of the Event object is set in the child thread by calling the is_set() method and stop the child thread if the internal flag was set.\n",
        "* Third, call the set() method in the main thread at some point in time to stop the child thread.\n",
        "\n",
        "![image.png](data:image/png;base64,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)"
      ],
      "metadata": {
        "id": "2U624XSgzdkp"
      }
    },
    {
      "cell_type": "code",
      "source": [
        "from threading import Thread, Event\n",
        "from time import sleep\n",
        "\n",
        "def task(event: Event) -> None:\n",
        "  for i in range(6):\n",
        "    print(f'Running #{i+1}')\n",
        "    sleep(1)\n",
        "    if event.is_set():\n",
        "      print('The thread was stopped prematurely.')\n",
        "      break\n",
        "    else:\n",
        "      print('The thread was stopped maturely.')\n",
        "\n",
        "def main() -> None:\n",
        "  event = Event()\n",
        "  thread = Thread(target=task, args=(event,))\n",
        "\n",
        "  # start the thread\n",
        "  thread.start()\n",
        "\n",
        "  # suspend  the thread after 3 seconds\n",
        "  sleep(3)\n",
        "\n",
        "  # stop the child thread\n",
        "  event.set()\n",
        "\n",
        "if __name__ == '__main__':\n",
        "  main()\n",
        "\n",
        "# Running #1\n",
        "# Running #2\n",
        "# Running #3\n",
        "# Running #4\n",
        "# The thread was stopped prematurely."
      ],
      "metadata": {
        "id": "BEy9igKozwpW"
      },
      "execution_count": null,
      "outputs": []
    },
    {
      "cell_type": "code",
      "source": [
        "# using class\n",
        "from threading import Thread, Event\n",
        "from time import sleep\n",
        "\n",
        "class Worker(Thread):\n",
        "  def __init__(self, event, *args, **kwargs):\n",
        "    super().__init__(*args, **kwargs)\n",
        "    self.event = event\n",
        "\n",
        "  def run(self) -> None:\n",
        "    for i in range(6):\n",
        "      print(f'Running #{i+1}')\n",
        "      sleep(1)\n",
        "      if self.event.is_set():\n",
        "        print('The thread was stopped prematurely.')\n",
        "        break\n",
        "      else:\n",
        "        print('The thread was stopped maturely.')\n",
        "\n",
        "def main() -> None:\n",
        "  # create a new Event object\n",
        "  event = Event()\n",
        "\n",
        "  # create a new Worker thread\n",
        "  thread = Worker(event)\n",
        "\n",
        "  # start the thread\n",
        "  thread.start()\n",
        "\n",
        "  # suspend  the thread after 3 seconds\n",
        "  sleep(3)\n",
        "\n",
        "  # stop the child thread\n",
        "  event.set()\n",
        "\n",
        "if __name__ == '__main__':\n",
        "  main()"
      ],
      "metadata": {
        "id": "m4VVeSZb0q44"
      },
      "execution_count": null,
      "outputs": []
    },
    {
      "cell_type": "markdown",
      "source": [
        "`semaphore`\n",
        "\n",
        "A Python semaphore is a synchronization primitive that allows you to control access to a shared resource. Basically, a semaphore is a counter associated with a lock that limits the number of threads that can access a shared resource simultaneously.\n",
        "\n",
        "A semaphore helps prevent thread synchronization issues like race conditions, where multiple threads attempt to access the resource at the same time and interfere with each other’s operations.\n",
        "\n",
        "A semaphore maintains a count. When a thread wants to access the shared resource, the semaphore checks the count.\n",
        "\n",
        "If the count is greater than zero, it decreases the count and lets the thread accesses the resource. If the count is zero, the semaphore blocks the thread until the count becomes greater than zero.\n",
        "\n",
        "A semaphore has two main operations:\n",
        "\n",
        "* Acquire: the acquire operation checks the count and decrement it if it is greater than zero. If the count is zero, the semaphore will block the thread until another thread releases the semaphore.\n",
        "* Release: the release operation increments the counts that allow other threads to acquire it.\n"
      ],
      "metadata": {
        "id": "O5Z3G42r08zO"
      }
    },
    {
      "cell_type": "code",
      "source": [
        "import threading\n",
        "import urllib.request\n",
        "\n",
        "MAX_CONCURRENT_DOWNLOADS = 3\n",
        "semaphore = threading.Semaphore(MAX_CONCURRENT_DOWNLOADS)\n",
        "\n",
        "def download(url):\n",
        "  with semaphore:\n",
        "    print(f\"Downloading {url}...\")\n",
        "\n",
        "    response = urllib.request.urlopen(url)\n",
        "    data = response.read()\n",
        "\n",
        "    print(f\"Finished downloading {url}\")\n",
        "\n",
        "    return data\n",
        "\n",
        "def main():\n",
        "  # URLs to download\n",
        "  urls = [\n",
        "    'https://www.ietf.org/rfc/rfc791.txt',\n",
        "    'https://www.ietf.org/rfc/rfc792.txt',\n",
        "    'https://www.ietf.org/rfc/rfc793.txt',\n",
        "    'https://www.ietf.org/rfc/rfc794.txt',\n",
        "    'https://www.ietf.org/rfc/rfc795.txt',\n",
        "  ]\n",
        "\n",
        "  # Create threads for each download\n",
        "  threads = []\n",
        "  for url in urls:\n",
        "    thread = threading.Thread(target=download, args=(url,))\n",
        "    threads.append(thread)\n",
        "    thread.start()\n",
        "\n",
        "  # Wait for all threads to complete\n",
        "  for thread in threads:\n",
        "    thread.join()\n",
        "\n",
        "if __name__ == '__main__':\n",
        "  main()\n",
        "\n",
        "# Downloading https://www.ietf.org/rfc/rfc791.txt...\n",
        "# Downloading https://www.ietf.org/rfc/rfc792.txt...\n",
        "# Downloading https://www.ietf.org/rfc/rfc793.txt...\n",
        "# Finished downloading https://www.ietf.org/rfc/rfc792.txt\n",
        "# Downloading https://www.ietf.org/rfc/rfc794.txt...\n",
        "# Finished downloading https://www.ietf.org/rfc/rfc791.txt\n",
        "# Downloading https://www.ietf.org/rfc/rfc795.txt...\n",
        "# Finished downloading https://www.ietf.org/rfc/rfc793.txt\n",
        "# Finished downloading https://www.ietf.org/rfc/rfc794.txt\n",
        "# Finished downloading https://www.ietf.org/rfc/rfc795.txt\n",
        "\n",
        "# Once the number of threads reaches three, the next thread needs to wait for the semaphore to be released by another thread.\n",
        "# The output shows that only a maximum of three threads can download at the same time:\n",
        "# Downloading https://www.ietf.org/rfc/rfc791.txt...\n",
        "# Downloading https://www.ietf.org/rfc/rfc792.txt...\n",
        "# Downloading https://www.ietf.org/rfc/rfc793.txt..."
      ],
      "metadata": {
        "id": "pRUK0F-9Z8Ef"
      },
      "execution_count": null,
      "outputs": []
    },
    {
      "cell_type": "markdown",
      "source": [
        "# Sharing Data Between Threads"
      ],
      "metadata": {
        "id": "KPFDR5uY1C9s"
      }
    },
    {
      "cell_type": "markdown",
      "source": [
        "Thread-safe Queue\n",
        "\n",
        "The built-in queue module allows you to exchange data safely between multiple threads. The Queue class in the queue module implements all required locking semantics."
      ],
      "metadata": {
        "id": "E-qny77v2IZn"
      }
    },
    {
      "cell_type": "code",
      "source": [
        "import time\n",
        "from queue import Empty, Queue\n",
        "from threading import Thread\n",
        "\n",
        "def producer(queue):\n",
        "  for i in range(1, 6):\n",
        "    print(f'Inserting item {i} into the queue')\n",
        "    time.sleep(1)\n",
        "    queue.put(i)\n",
        "\n",
        "def consumer(queue):\n",
        "  while True:\n",
        "    try:\n",
        "      item = queue.get()\n",
        "    except Empty:\n",
        "      continue\n",
        "    else:\n",
        "      print(f'Processing item {item}')\n",
        "      time.sleep(2)\n",
        "      queue.task_done()\n",
        "\n",
        "def main():\n",
        "  queue = Queue()\n",
        "\n",
        "  # create a producer thread and start it\n",
        "  producer_thread = Thread(\n",
        "    target=producer,\n",
        "    args=(queue,)\n",
        "  )\n",
        "  producer_thread.start()\n",
        "\n",
        "  # create a consumer thread and start it\n",
        "  consumer_thread = Thread(\n",
        "    target=consumer,\n",
        "    args=(queue,),\n",
        "    daemon=True\n",
        "  )\n",
        "  consumer_thread.start()\n",
        "\n",
        "  # wait for all tasks to be added to the queue\n",
        "  producer_thread.join()\n",
        "\n",
        "  # wait for all tasks on the queue to be completed\n",
        "  queue.join()\n",
        "\n",
        "if __name__ == '__main__':\n",
        "  main()\n",
        "\n",
        "# Inserting item 1 into the queue\n",
        "# Inserting item 2 into the queue\n",
        "# Processing item 1\n",
        "# Inserting item 3 into the queue\n",
        "# Processing item 2\n",
        "# Inserting item 4 into the queue\n",
        "# Inserting item 5 into the queue\n",
        "# Processing item 3\n",
        "# Processing item 4\n",
        "# Processing item 5"
      ],
      "metadata": {
        "id": "rec2ASP-a39T"
      },
      "execution_count": null,
      "outputs": []
    },
    {
      "cell_type": "markdown",
      "source": [
        "# Multi processing"
      ],
      "metadata": {
        "id": "ecB7HB85jRX9"
      }
    },
    {
      "cell_type": "markdown",
      "source": [
        "Generally, programs deal with two types of tasks:\n",
        "* I/O-bound tasks: if a task does a lot of input/output operations, it’s called an I/O-bound task. Typical examples of I/O-bound tasks are reading from files, writing to files, connecting to databases, and making a network request. For I/O-bound tasks, you can use multithreading to speed them up.\n",
        "* CPU-bound tasks: when a task does a lot of operations using a CPU, it’s called a CPU-bound task. For example, number calculation, image resizing, and video streaming are CPU-bound tasks. To speed up the program with lots of CPU-bound tasks, you use multiprocessing.\n",
        "\n",
        "Multiprocessing allows two or more processors to simultaneously process two or more different parts of a program.\n",
        "\n",
        "In Python, you use the multiprocessing module to implement multiprocessing."
      ],
      "metadata": {
        "id": "AbQuZGVSPPz0"
      }
    },
    {
      "cell_type": "code",
      "source": [
        "import time\n",
        "\n",
        "def task():\n",
        "  result = 0\n",
        "  for _ in range(10**8):\n",
        "    result += 1\n",
        "  return result\n",
        "\n",
        "if __name__ == '__main__':\n",
        "  start = time.perf_counter()\n",
        "  task()\n",
        "  task()\n",
        "  finish = time.perf_counter()\n",
        "\n",
        "  print(f'It took {finish-start:.2f} second(s) to finish')  # It took  5.55 second(s) to finish"
      ],
      "metadata": {
        "id": "OrWLc6AxPUgX"
      },
      "execution_count": null,
      "outputs": []
    },
    {
      "cell_type": "markdown",
      "source": [
        "Using multiprocessing module"
      ],
      "metadata": {
        "id": "ds7VsL8VQiH5"
      }
    },
    {
      "cell_type": "code",
      "source": [
        "import time\n",
        "import multiprocessing\n",
        "\n",
        "def task() -> int:\n",
        "  result = 0\n",
        "  for _ in range(10**8):\n",
        "    result += 1\n",
        "  return result\n",
        "\n",
        "if __name__ == '__main__':\n",
        "  start = time.perf_counter()\n",
        "\n",
        "  # Note that the Process() constructor returns a new Process object.\n",
        "  p1 = multiprocessing.Process(target=task)\n",
        "  p2 = multiprocessing.Process(target=task)\n",
        "\n",
        "  # call the start() method of the Process objects to start the process.\n",
        "  p1.start()\n",
        "  p2.start()\n",
        "\n",
        "  # wait for the processes to complete by calling the join() method.\n",
        "  p1.join()\n",
        "  p2.join()\n",
        "\n",
        "  finish = time.perf_counter()\n",
        "  print(f'It took {finish-start:.2f} second(s) to finish')  # It took  3.43 second(s) to finish"
      ],
      "metadata": {
        "id": "VvbGJSnJQjZN"
      },
      "execution_count": null,
      "outputs": []
    },
    {
      "cell_type": "markdown",
      "source": [
        "Python multiprocessing practical example\n",
        "\n",
        "We’ll use the multiprocessing module to resize the high-resolution images."
      ],
      "metadata": {
        "id": "tmHk3A6PRPXw"
      }
    },
    {
      "cell_type": "code",
      "source": [
        "import time\n",
        "import os\n",
        "from PIL import Image, ImageFilter\n",
        "\n",
        "filenames = [\n",
        "  'images/1.jpg',\n",
        "  'images/2.jpg',\n",
        "  'images/3.jpg',\n",
        "  'images/4.jpg',\n",
        "  'images/5.jpg',\n",
        "]\n",
        "\n",
        "def create_thumbnail(filename, size=(50,50), thumb_dir ='thumbs'):\n",
        "  # open the image\n",
        "  img = Image.open(filename)\n",
        "\n",
        "  # apply the gaussian blur filter\n",
        "  img = img.filter(ImageFilter.GaussianBlur())\n",
        "\n",
        "  # create a thumbnail\n",
        "  img.thumbnail(size)\n",
        "\n",
        "  # save the image\n",
        "  img.save(f'{thumb_dir}/{os.path.basename(filename)}')\n",
        "\n",
        "  # display a message\n",
        "  print(f'{filename} was processed...')\n",
        "\n",
        "if __name__ == '__main__':\n",
        "  start = time.perf_counter()\n",
        "\n",
        "  for filename in filenames:\n",
        "    create_thumbnail(filename)\n",
        "\n",
        "  finish = time.perf_counter()\n",
        "\n",
        "  print(f'It took {finish-start:.2f} second(s) to finish')\n",
        "\n",
        "# images/1.jpg was processed...\n",
        "# images/2.jpg was processed...\n",
        "# images/3.jpg was processed...\n",
        "# images/4.jpg was processed...\n",
        "# images/5.jpg was processed...\n",
        "# It took 4.06 second(s) to finish"
      ],
      "metadata": {
        "id": "jXWQqVl6RWoY"
      },
      "execution_count": null,
      "outputs": []
    },
    {
      "cell_type": "code",
      "source": [
        "# modify the program to use multiprocessing. Each process will create a thumbnail for a picture:\n",
        "import time\n",
        "import os\n",
        "from PIL import Image, ImageFilter\n",
        "\n",
        "import multiprocessing\n",
        "\n",
        "filenames = [\n",
        "  'images/1.jpg',\n",
        "  'images/2.jpg',\n",
        "  'images/3.jpg',\n",
        "  'images/4.jpg',\n",
        "  'images/5.jpg',\n",
        "]\n",
        "\n",
        "def create_thumbnail(filename, size=(50,50), thumb_dir ='thumbs'):\n",
        "  # open the image\n",
        "  img = Image.open(filename)\n",
        "\n",
        "  # apply the gaussian blur filter\n",
        "  img = img.filter(ImageFilter.GaussianBlur())\n",
        "\n",
        "  # create a thumbnail\n",
        "  img.thumbnail(size)\n",
        "\n",
        "  # save the image\n",
        "  img.save(f'{thumb_dir}/{os.path.basename(filename)}')\n",
        "\n",
        "  # display a message\n",
        "  print(f'{filename} was processed...')\n",
        "\n",
        "def main():\n",
        "  start = time.perf_counter()\n",
        "\n",
        "  # create processes\n",
        "  processes = [multiprocessing.Process(target=create_thumbnail, args=[filename]) for filename in filenames]\n",
        "\n",
        "  # start the processes\n",
        "  for process in processes:\n",
        "    process.start()\n",
        "\n",
        "  # wait for completion\n",
        "  for process in processes:\n",
        "    process.join()\n",
        "\n",
        "  finish = time.perf_counter()\n",
        "\n",
        "  print(f'It took {finish-start:.2f} second(s) to finish')\n",
        "\n",
        "if __name__ == '__main__':\n",
        "  main()\n",
        "\n",
        "# images/5.jpg was processed...\n",
        "# images/4.jpg was processed...\n",
        "# images/1.jpg was processed...\n",
        "# images/3.jpg was processed...\n",
        "# images/2.jpg was processed...\n",
        "# It took 2.92 second(s) to finish"
      ],
      "metadata": {
        "id": "Wbew29oXRmDI"
      },
      "execution_count": null,
      "outputs": []
    },
    {
      "cell_type": "markdown",
      "source": [
        "# Python ProcessPoolExecutor"
      ],
      "metadata": {
        "id": "bPaTT2jcjUpE"
      }
    },
    {
      "cell_type": "markdown",
      "source": [
        "In the previous tutorial, you learned how to run code in parallel by creating processes manually using the Process class from the multiprocessing module. However, manually creating processes is not efficient.\n",
        "\n",
        "To manage the processes more efficiently, you can use a process pool. Like a thread pool, a process pool is a pattern for managing processes automatically.\n",
        "\n",
        "The ProcessPoolExecutor class from the concurrent.futures module allows you to create and manage a process pool.\n",
        "\n",
        "For example, the ProcessPoolExecutor class uses the number of CPU cores for creating an optimized number of processes to create.\n",
        "\n",
        "The ProcessPoolExecutor extends the Executor class that has three methods:\n",
        "\n",
        "* submit() – dispatch a function to be executed by the process and return a Future object.\n",
        "* map() – call a function to an iterable of elements.\n",
        "* shutdown() – shut down the executor.\n",
        "\n",
        "To release the resources held by the executor, you need to call the shutdown() method explicitly. To shut down the executor automatically, you can use a context manager.\n",
        "\n",
        "The Future object represents an eventful result of an asynchronous operation. It has two main methods for getting the result:\n",
        "* result() – return the result from the asynchronous operation.\n",
        "* exception() – return an exception that occurred while running the asynchronous operation."
      ],
      "metadata": {
        "id": "rhKRJe1bSR0Y"
      }
    },
    {
      "cell_type": "code",
      "source": [
        "import time\n",
        "import os\n",
        "from PIL import Image, ImageFilter\n",
        "\n",
        "from concurrent.futures import ProcessPoolExecutor\n",
        "\n",
        "filenames = [\n",
        "  'images/1.jpg',\n",
        "  'images/2.jpg',\n",
        "  'images/3.jpg',\n",
        "  'images/4.jpg',\n",
        "  'images/5.jpg',\n",
        "]\n",
        "\n",
        "def create_thumbnail(filename, size=(50,50), thumb_dir ='thumbs'):\n",
        "  # open the image\n",
        "  img = Image.open(filename)\n",
        "\n",
        "  # apply the gaussian blur filter\n",
        "  img = img.filter(ImageFilter.GaussianBlur())\n",
        "\n",
        "  # create a thumbnail\n",
        "  img.thumbnail(size)\n",
        "\n",
        "  # save the image\n",
        "  img.save(f'{thumb_dir}/{os.path.basename(filename)}')\n",
        "\n",
        "  # display a message\n",
        "  print(f'{filename} was processed...')\n",
        "\n",
        "def main():\n",
        "  start = time.perf_counter()\n",
        "\n",
        "  with ProcessPoolExecutor() as executor:\n",
        "    executor.map(create_thumbnail, filenames)\n",
        "\n",
        "  finish = time.perf_counter()\n",
        "\n",
        "  print(f'It took {finish-start: .2f} second(s) to finish')\n",
        "\n",
        "if __name__ == '__main__':\n",
        "  main()\n",
        "\n",
        "# images/5.jpg was processed...\n",
        "# images/4.jpg was processed...\n",
        "# images/3.jpg was processed...\n",
        "# images/2.jpg was processed...\n",
        "# images/1.jpg was processed...\n",
        "# It took  0.79 second(s) to finish"
      ],
      "metadata": {
        "id": "cPWJuaqWSso7"
      },
      "execution_count": null,
      "outputs": []
    },
    {
      "cell_type": "markdown",
      "source": [
        "# Python Event loop and Asyncio"
      ],
      "metadata": {
        "id": "IFlCFy8PDSHO"
      }
    },
    {
      "cell_type": "markdown",
      "source": [
        "* The event loop is responsible for getting tasks from an event queue and handling it.\n",
        "* The asyncio package uses an event loop to achieve a single-threaded concurrency model.\n",
        "\n",
        "![image.png](data:image/png;base64,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)"
      ],
      "metadata": {
        "id": "d3SapjftNBTl"
      }
    },
    {
      "cell_type": "markdown",
      "source": [
        "Python coroutines\n",
        "\n",
        "A coroutine is a regular function with the ability to pause its execution when encountering an operation that may take a while to complete.\n",
        "\n",
        "When the long-running operation completes, you can resume the paused coroutine and execute the remaining code in that coroutine.\n",
        "\n",
        "While the coroutine is waiting for the long-running operation, you can run other code. By doing this, you can run the program asynchronously to improve its performance.\n",
        "\n",
        "To create and pause a coroutine, you use the Python async and await keywords:\n",
        "\n",
        "* The async keyword creates a coroutine.\n",
        "* The await keyword pauses a coroutine."
      ],
      "metadata": {
        "id": "lN7Pn2wyDUD5"
      }
    },
    {
      "cell_type": "code",
      "source": [
        "# let's take an example\n",
        "async def square(number: int) -> int:\n",
        "  return number*number\n",
        "\n",
        "result = square(10)\n",
        "print(square)\n",
        "\n",
        "'''\n",
        "<coroutine object square at 0x00000185C31E7D80>\n",
        "sys:1: RuntimeWarning: coroutine 'square' was never awaited\n",
        "\n",
        "When you call a coroutine, Python doesn’t execute the code inside the coroutine immediately. Instead, it returns a coroutine object.\n",
        "The second line in the output also shows an error message indicating that the coroutine was never awaited. More on this in the following await section:\n",
        "\n",
        "To run a coroutine, you need to execute it on an event loop. Prior to Python 3.7, you have to manually create an event loop to execute coroutines and close the event loop.\n",
        "However, since version 3.7, the asyncio library added some functions that simplify the event loop management.\n",
        "\n",
        "For example, you can use the asyncio.run() function to automatically create an event loop, run a coroutine and close it.\n",
        "The following uses the asyncio.run() function to execute the square() coroutine and get the result:\n",
        "\n",
        "It’s important to note that the asyncio.run() is designed to be the main entry point of an asyncio program.\n",
        "Also, the asyncio.run() function only executes one coroutine which may call other coroutines and functions in the program.\n",
        "'''\n",
        "\n",
        "import asyncio\n",
        "\n",
        "async def square(number: int) -> int:\n",
        "  return number*number\n",
        "\n",
        "result = asyncio.run(square(10))\n",
        "print(result) # 100"
      ],
      "metadata": {
        "id": "YVxQpAn_ESzP"
      },
      "execution_count": null,
      "outputs": []
    },
    {
      "cell_type": "code",
      "source": [
        "# Pausing a coroutine with Python await keyword\n",
        "'''\n",
        "The await keyword causes the my_coroutine() to execute, waits for the code to be completed, and returns a result.\n",
        "It’s important to note that await keyword is only valid inside a coroutine. In other words, you must use the await keyword inside a coroutine.\n",
        "This is the reason why you saw an error message in the above example that uses the await keyword outside of a coroutine.\n",
        "'''\n",
        "import asyncio\n",
        "\n",
        "async def square(number: int) -> int:\n",
        "  return number*number\n",
        "\n",
        "async def main() -> None:\n",
        "  x = await square(10)\n",
        "  print(f'x={x}')\n",
        "\n",
        "  y = await square(5)\n",
        "  print(f'y={y}')\n",
        "\n",
        "  print(f'total={x+y}')\n",
        "\n",
        "if __name__ == '__main__':\n",
        "  asyncio.run(main())\n",
        "\n",
        "'''\n",
        "Summary\n",
        "  * A coroutine is a regular function with the power of pausing a long-running operation, waiting for the result, and resuming from the paused point.\n",
        "  * Use async keyword to define a coroutine.\n",
        "  * Use await keyword to pause a coroutine.\n",
        "  * Use asyncio.run() function to automatically execute a coroutine on an event loop and manage an event loop.\n",
        "'''"
      ],
      "metadata": {
        "id": "os_1npGgEvh7"
      },
      "execution_count": null,
      "outputs": []
    },
    {
      "cell_type": "markdown",
      "source": [
        "asyncio.create_task()"
      ],
      "metadata": {
        "id": "MCrEpPiBFuSx"
      }
    },
    {
      "cell_type": "code",
      "source": [
        "import asyncio\n",
        "import time\n",
        "\n",
        "async def call_api(message, result=1000, delay=3):\n",
        "  print(message)\n",
        "  await asyncio.sleep(delay)\n",
        "  return result\n",
        "\n",
        "async def main():\n",
        "  start = time.perf_counter()\n",
        "\n",
        "  price = await call_api('Get stock price of GOOG...', 300)\n",
        "  print(price)\n",
        "\n",
        "  price = await call_api('Get stock price of APPL...', 400)\n",
        "  print(price)\n",
        "\n",
        "  end = time.perf_counter()\n",
        "  print(f'It took {round(end-start,0)} second(s) to complete.')\n",
        "\n",
        "asyncio.run(main())\n",
        "'''\n",
        "Get stock price of GOOG...\n",
        "300\n",
        "Get stock price of APPL...\n",
        "400\n",
        "It took 6.0 second(s) to complete.\n",
        "\n",
        "we use async and await to write asynchronous code but can’t run it concurrently.\n",
        "To run multiple operations concurrently, we’ll need to use something called tasks.\n",
        "'''"
      ],
      "metadata": {
        "id": "dRM7poKKFwgm"
      },
      "execution_count": null,
      "outputs": []
    },
    {
      "cell_type": "markdown",
      "source": [
        "![image.png](data:image/png;base64,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)"
      ],
      "metadata": {
        "id": "KwVb6504H6Pj"
      }
    },
    {
      "cell_type": "code",
      "source": [
        "# Python tasks\n",
        "'''\n",
        "A task is a wrapper of a coroutine that schedules the coroutine to run on the event loop as soon as possible.\n",
        "The scheduling and execution occur in a non-blocking manner. In other words, you can create a task and execute other code instantly while the task is running.\n",
        "\n",
        "Notice that the task is different from the await keyword that blocks the entire coroutine until the operation completes with a result.\n",
        "It’s important that you can create multiple tasks and schedule them to run instantly on the event loop at the same time.\n",
        "\n",
        "To create a task, you pass a coroutine to the create_task() function of the asyncio package. The create_task() function returns a Task object.\n",
        "'''\n",
        "\n",
        "import asyncio\n",
        "import time\n",
        "\n",
        "async def call_api(message, result=1000, delay=3):\n",
        "  print(message)\n",
        "  await asyncio.sleep(delay)\n",
        "  return result\n",
        "\n",
        "\n",
        "async def main():\n",
        "  start = time.perf_counter()\n",
        "\n",
        "  task_1 = asyncio.create_task(\n",
        "    call_api('Get stock price of GOOG...', 300)\n",
        "  )\n",
        "\n",
        "  task_2 = asyncio.create_task(\n",
        "    call_api('Get stock price of APPL...', 300)\n",
        "  )\n",
        "\n",
        "  price = await task_1\n",
        "  print(price)\n",
        "\n",
        "  price = await task_2\n",
        "  print(price)\n",
        "\n",
        "  end = time.perf_counter()\n",
        "  print(f'It took {round(end-start,0)} second(s) to complete.')\n",
        "\n",
        "asyncio.run(main())\n",
        "\n",
        "'''\n",
        "here, create a task and schedule it to run on the event loop immediately:\n",
        "task_1 = ...\n",
        "task_2 = ...\n",
        "\n",
        "After that, wait for the tasks to be completed:\n",
        "price = await ...\n",
        "\n",
        "Summary\n",
        "* A task is a wrapper of a coroutine that schedules the coroutine to run on the event loop as soon as possible.\n",
        "* Use the create_task() function of the asyncio library to create a task.\n",
        "* Use the await keyword with the task at some point in the program so that the task can be completed before the event loop is closed by the asyncio.run() function.\n",
        "'''"
      ],
      "metadata": {
        "id": "AFM3VZHGGgws"
      },
      "execution_count": null,
      "outputs": []
    },
    {
      "cell_type": "markdown",
      "source": [
        "![image.png](data:image/png;base64,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)"
      ],
      "metadata": {
        "id": "rTLWp-r6H7TK"
      }
    },
    {
      "cell_type": "code",
      "source": [
        "# Cancelling Tasks\n",
        "import asyncio\n",
        "from asyncio import CancelledError\n",
        "\n",
        "async def call_api(message, result=1000, delay=3):\n",
        "  print(message)\n",
        "  await asyncio.sleep(delay)\n",
        "  return result\n",
        "\n",
        "async def main():\n",
        "  task = asyncio.create_task(\n",
        "    call_api('Calling API...', result=2000, delay=5)\n",
        "  )\n",
        "\n",
        "  if not task.done():\n",
        "    print('Cancelling the task...')\n",
        "    task.cancel()\n",
        "\n",
        "  try:\n",
        "    await task\n",
        "  except CancelledError:\n",
        "    print('Task has been cancelled.')\n",
        "\n",
        "asyncio.run(main())\n",
        "'''\n",
        "Cancelling the task...\n",
        "Task has been cancelled\n",
        "'''"
      ],
      "metadata": {
        "id": "e_X-0hmjIIm8"
      },
      "execution_count": null,
      "outputs": []
    },
    {
      "cell_type": "code",
      "source": [
        "# asyncio.wait_for()\n",
        "# To wait for a task to complete with a timeout, you can use the asyncio.wait_for() function. The asyncio.wait_for() function waits for a single task to be completed with a timeout.\n",
        "# When a timeout occurs, the asyncio.wait_for() function cancels the task and raises the TimeoutError exception. Otherwise, it returns the result of the task. For example:\n",
        "import asyncio\n",
        "from asyncio.exceptions import TimeoutError\n",
        "\n",
        "async def call_api(message, result=1000, delay=3):\n",
        "  print(message)\n",
        "  await asyncio.sleep(delay)\n",
        "  return result\n",
        "\n",
        "async def main():\n",
        "  task = asyncio.create_task(\n",
        "    call_api('Calling API...', result=2000, delay=5)\n",
        "  )\n",
        "\n",
        "  MAX_TIMEOUT = 3\n",
        "  try:\n",
        "    await asyncio.wait_for(task, timeout=MAX_TIMEOUT)\n",
        "  except TimeoutError:\n",
        "    print('The task was cancelled due to a timeout')\n",
        "\n",
        "asyncio.run(main())\n",
        "# Calling API...\n",
        "# The task was cancelled due to a timeout"
      ],
      "metadata": {
        "id": "_3S-D0SXIzv_"
      },
      "execution_count": null,
      "outputs": []
    },
    {
      "cell_type": "code",
      "source": [
        "# asyncio.shield() Shielding a task from cancellation\n",
        "'''\n",
        "Sometimes, you may want to inform users that a task is taking longer than expected after a certain amount of time but not cancel the task when a timeout is exceeded.\n",
        "'''\n",
        "import asyncio\n",
        "from asyncio.exceptions import TimeoutError\n",
        "\n",
        "async def call_api(message, result=1000, delay=3):\n",
        "  print(message)\n",
        "  await asyncio.sleep(delay)\n",
        "  return result\n",
        "\n",
        "async def main():\n",
        "  task = asyncio.create_task(\n",
        "    call_api('Calling API...', result=2000, delay=5)\n",
        "  )\n",
        "\n",
        "  MAX_TIMEOUT = 3\n",
        "  try:\n",
        "    await asyncio.wait_for(asyncio.shield(task), timeout=MAX_TIMEOUT)\n",
        "  except TimeoutError:\n",
        "    print('The task took more than expected and will complete soon.')\n",
        "    result = await task\n",
        "    print(result)\n",
        "\n",
        "asyncio.run(main())\n",
        "# Calling API...\n",
        "# The task took more than expected and will complete soon.\n",
        "# 2000"
      ],
      "metadata": {
        "id": "kto0vTVjJP1W"
      },
      "execution_count": null,
      "outputs": []
    },
    {
      "cell_type": "markdown",
      "source": [
        "asyncio.wait()\n",
        "\n",
        "function runs an iterable of awaitables objects and blocks until a specified condition.\n",
        "\n",
        "The asyncio.wait() function has the following parameters:\n",
        "\n",
        "* aws is iterable of awaitable objects that you want to run concurrently.\n",
        "* timeout (either int or float) specifies a maximum number of seconds to wait before returning the result.\n",
        "* return_when indicates when the function should return. The return_when accepts one of the constants in the table below."
      ],
      "metadata": {
        "id": "wls7IQClJmso"
      }
    },
    {
      "cell_type": "code",
      "source": [
        "'''\n",
        "Constant\t        Description\n",
        "FIRST_COMPLETED\t  Return when all awaitables are complete or canceled.\n",
        "FIRST_EXCEPTION\t  Return when any awaitable is complete by raising an exception. If no awaitable raises an exception, the FIRST_EXCEPTION is equivalent to ALL_COMPLETED.\n",
        "ALL_COMPLETED\t    Return when all awaitables are complete or cancelled.\n",
        "'''\n",
        "\n",
        "import asyncio\n",
        "from asyncio import create_task\n",
        "\n",
        "class APIError(Exception):\n",
        "  pass\n",
        "\n",
        "async def call_api(message, result=100, delay=3, raise_exception=False):\n",
        "  print(message)\n",
        "  await asyncio.sleep(delay)\n",
        "  if raise_exception:\n",
        "    raise APIError\n",
        "  else:\n",
        "    return result\n",
        "\n",
        "async def main():\n",
        "  task_1 = create_task(call_api('calling API 1...', result=1, delay=1))\n",
        "  task_2 = create_task(call_api('calling API 2...', result=2, delay=2))\n",
        "  task_3 = create_task(call_api('calling API 3...', result=3, delay=3))\n",
        "\n",
        "  pending = (task_1, task_2, task_3)\n",
        "\n",
        "  # call the asyncio.wait() function to run the tasks inside a while loop.\n",
        "  # If all the tasks are complete, the pending will be empty, and the while loop will exit.\n",
        "  # In each iteration, we get the completed task from the done set and display the result:\n",
        "  while pending:\n",
        "    done, pending = await asyncio.wait(\n",
        "      pending,\n",
        "      return_when=asyncio.FIRST_COMPLETED\n",
        "    )\n",
        "    result = done.pop().result()\n",
        "    print(result)\n",
        "\n",
        "asyncio.run(main())"
      ],
      "metadata": {
        "id": "z_5UpfzuJoI2"
      },
      "execution_count": null,
      "outputs": []
    },
    {
      "cell_type": "markdown",
      "source": [
        "Future\n",
        "\n",
        "A future is an object that returns a value later in the future but not now. Typically, a future object is the result of an asynchronous operation.\n",
        "\n",
        "For example, you may call an API from a remote server and expect to receive the result later. The API call may return a future object so that you can await it.\n",
        "\n",
        "To create a future object, you use the Future class from the asyncio package. Consider the following example:"
      ],
      "metadata": {
        "id": "8n9rRIJkKr_Y"
      }
    },
    {
      "cell_type": "code",
      "source": [
        "# asyncio future\n",
        "from asyncio import Future\n",
        "import asyncio\n",
        "\n",
        "async def plan(my_future):\n",
        "  print('Planning my future...')\n",
        "  await asyncio.sleep(1)\n",
        "  my_future.set_result('Bright')\n",
        "\n",
        "def create() -> Future:\n",
        "  my_future = Future()\n",
        "  asyncio.create_task(plan(my_future))\n",
        "  return my_future\n",
        "\n",
        "async def main():\n",
        "  my_future = create()\n",
        "  result = await my_future\n",
        "  print(result)\n",
        "\n",
        "asyncio.run(main())\n",
        "\n",
        "'''\n",
        "Future, Coroutine, and Task are awaitable and their objects can be used with the await keyword.\n",
        "'''"
      ],
      "metadata": {
        "id": "c6cPOoz8Kird"
      },
      "execution_count": null,
      "outputs": []
    },
    {
      "cell_type": "markdown",
      "source": [
        "asyncio.gather()\n",
        "\n",
        "Sometimes, you may want to run multiple asynchronous operations and get the results once they are complete.\n",
        "\n",
        "The asyncio.gather() function has two parameters:\n",
        "\n",
        "* aws is a sequence of awaitable objects. If any object in the aws is a coroutine, the asyncio.gather() function will automatically schedule it as a task.\n",
        "* return_exceptions is False by default. If an exception occurs in an awaitable object, it is immediately propagated to the task that awaits on asyncio.gather(). Other awaitables will continue to run and won’t be canceled.\n",
        "\n",
        "asyncio.gather() returns the results of awaitables as a tuple with the same order as you pass the awaitables to the function."
      ],
      "metadata": {
        "id": "5e0mIF_OLRQm"
      }
    },
    {
      "cell_type": "code",
      "source": [
        "# example 1 - to run multiple asynchronous operations\n",
        "import asyncio\n",
        "\n",
        "async def call_api(message, result, delay=3):\n",
        "  print(message)\n",
        "  await asyncio.sleep(delay)\n",
        "  return result\n",
        "\n",
        "async def main():\n",
        "  a, b = await asyncio.gather(\n",
        "    call_api('Calling API 1 ...', 1),\n",
        "    call_api('Calling API 2 ...', 2)\n",
        "  )\n",
        "  print(a, b)\n",
        "\n",
        "asyncio.run(main())\n",
        "'''\n",
        "Calling API 1 ...\n",
        "Calling API 2 ...\n",
        "100 200\n",
        "'''"
      ],
      "metadata": {
        "id": "hqtOpoa5LLcE"
      },
      "execution_count": null,
      "outputs": []
    },
    {
      "cell_type": "code",
      "source": [
        "# example 2 - to run multiple asynchronous operations with exceptions\n",
        "import asyncio\n",
        "\n",
        "class APIError(Exception):\n",
        "  def __init__(self, message):\n",
        "    self._message = message\n",
        "\n",
        "  def __str__(self):\n",
        "    return self._message\n",
        "\n",
        "async def call_api_failed():\n",
        "  await asyncio.sleep(3)\n",
        "  raise APIError('API failed')\n",
        "\n",
        "async def call_api(message, result, delay=3):\n",
        "  print(message)\n",
        "  await asyncio.sleep(delay)\n",
        "  return result\n",
        "\n",
        "async def main():\n",
        "  a, b, c = await asyncio.gather(\n",
        "    call_api('Calling API 1 ...', 100, 1),\n",
        "    call_api('Calling API 2 ...', 200, 2),\n",
        "    call_api_failed()\n",
        "  )\n",
        "  print(a, b, c)\n",
        "\n",
        "asyncio.run(main())"
      ],
      "metadata": {
        "id": "1h8l2kmpL5R8"
      },
      "execution_count": null,
      "outputs": []
    },
    {
      "cell_type": "code",
      "source": [
        "# example 3 - to return an exception in the result\n",
        "import asyncio\n",
        "\n",
        "class APIError(Exception):\n",
        "  def __init__(self, message):\n",
        "    self._message = message\n",
        "\n",
        "  def __str__(self):\n",
        "    return self._message\n",
        "\n",
        "async def call_api(message, result, delay=3):\n",
        "  print(message)\n",
        "  await asyncio.sleep(delay)\n",
        "  return result\n",
        "\n",
        "async def call_api_failed():\n",
        "  await asyncio.sleep(1)\n",
        "  raise APIError('API failed')\n",
        "\n",
        "async def main():\n",
        "  a, b, c = await asyncio.gather(\n",
        "    call_api('Calling API 1 ...', 100, 1),\n",
        "    call_api('Calling API 2 ...', 200, 2),\n",
        "    call_api_failed(),\n",
        "    return_exceptions=True\n",
        "  )\n",
        "  print(a, b, c)\n",
        "\n",
        "asyncio.run(main())\n",
        "'''\n",
        "Calling API 1 ...\n",
        "Calling API 2 ...\n",
        "100 200 API failed\n",
        "'''"
      ],
      "metadata": {
        "id": "p3wpCp4BMFi-"
      },
      "execution_count": null,
      "outputs": []
    },
    {
      "cell_type": "markdown",
      "source": [
        "# with"
      ],
      "metadata": {
        "id": "k3OB_Xm0cpq1"
      }
    }
  ]
}